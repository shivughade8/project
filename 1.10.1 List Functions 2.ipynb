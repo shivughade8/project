{
 "cells": [
  {
   "cell_type": "markdown",
   "id": "76d8c928",
   "metadata": {},
   "source": [
    "# Delete Items from list"
   ]
  },
  {
   "cell_type": "raw",
   "id": "76599def",
   "metadata": {},
   "source": [
    "Remove\n",
    "pop\n",
    "clear\n",
    "del"
   ]
  },
  {
   "cell_type": "markdown",
   "id": "3420b257",
   "metadata": {},
   "source": [
    "## remove()"
   ]
  },
  {
   "cell_type": "raw",
   "id": "1a3390a9",
   "metadata": {},
   "source": [
    "remove is used to remove the item from the list\n",
    "by default it removes the first occurance of the item from the list"
   ]
  },
  {
   "cell_type": "code",
   "execution_count": 2,
   "id": "3ab97b4f",
   "metadata": {},
   "outputs": [
    {
     "data": {
      "text/plain": [
       "[2, 3, 5, 'python', 6.7, 5, 'class']"
      ]
     },
     "execution_count": 2,
     "metadata": {},
     "output_type": "execute_result"
    }
   ],
   "source": [
    "list1 = [2,3,5,'python',6.7,5,'class']\n",
    "list1"
   ]
  },
  {
   "cell_type": "code",
   "execution_count": 4,
   "id": "50de172d",
   "metadata": {},
   "outputs": [
    {
     "data": {
      "text/plain": [
       "[2, 3, 5, 6.7, 5, 'class']"
      ]
     },
     "execution_count": 4,
     "metadata": {},
     "output_type": "execute_result"
    }
   ],
   "source": [
    "list1.remove('python')\n",
    "list1"
   ]
  },
  {
   "cell_type": "code",
   "execution_count": 5,
   "id": "ca0c2cce",
   "metadata": {},
   "outputs": [
    {
     "data": {
      "text/plain": [
       "[2, 3, 'python', 6.7, 5, 'class']"
      ]
     },
     "execution_count": 5,
     "metadata": {},
     "output_type": "execute_result"
    }
   ],
   "source": [
    "list1 = [2,3,5,'python',6.7,5,'class']\n",
    "list1.remove(5)\n",
    "list1"
   ]
  },
  {
   "cell_type": "code",
   "execution_count": 6,
   "id": "3533f417",
   "metadata": {},
   "outputs": [
    {
     "ename": "ValueError",
     "evalue": "list.remove(x): x not in list",
     "output_type": "error",
     "traceback": [
      "\u001b[1;31m---------------------------------------------------------------------------\u001b[0m",
      "\u001b[1;31mValueError\u001b[0m                                Traceback (most recent call last)",
      "\u001b[1;32m<ipython-input-6-59016bc14c1e>\u001b[0m in \u001b[0;36m<module>\u001b[1;34m\u001b[0m\n\u001b[0;32m      1\u001b[0m \u001b[0mlist1\u001b[0m \u001b[1;33m=\u001b[0m \u001b[1;33m[\u001b[0m\u001b[1;36m2\u001b[0m\u001b[1;33m,\u001b[0m\u001b[1;36m3\u001b[0m\u001b[1;33m,\u001b[0m\u001b[1;36m5\u001b[0m\u001b[1;33m,\u001b[0m\u001b[1;34m'python'\u001b[0m\u001b[1;33m,\u001b[0m\u001b[1;36m6.7\u001b[0m\u001b[1;33m,\u001b[0m\u001b[1;36m5\u001b[0m\u001b[1;33m,\u001b[0m\u001b[1;34m'class'\u001b[0m\u001b[1;33m]\u001b[0m\u001b[1;33m\u001b[0m\u001b[1;33m\u001b[0m\u001b[0m\n\u001b[1;32m----> 2\u001b[1;33m \u001b[0mlist1\u001b[0m\u001b[1;33m.\u001b[0m\u001b[0mremove\u001b[0m\u001b[1;33m(\u001b[0m\u001b[1;36m100\u001b[0m\u001b[1;33m)\u001b[0m\u001b[1;33m\u001b[0m\u001b[1;33m\u001b[0m\u001b[0m\n\u001b[0m\u001b[0;32m      3\u001b[0m \u001b[0mlist1\u001b[0m\u001b[1;33m\u001b[0m\u001b[1;33m\u001b[0m\u001b[0m\n",
      "\u001b[1;31mValueError\u001b[0m: list.remove(x): x not in list"
     ]
    }
   ],
   "source": [
    "list1 = [2,3,5,'python',6.7,5,'class']\n",
    "list1.remove(100)\n",
    "list1"
   ]
  },
  {
   "cell_type": "code",
   "execution_count": 8,
   "id": "13beaf1c",
   "metadata": {},
   "outputs": [
    {
     "name": "stdout",
     "output_type": "stream",
     "text": [
      "100 not in list1\n"
     ]
    }
   ],
   "source": [
    "list1 = [2,3,5,'python',6.7,5,'class']\n",
    "\n",
    "if 100 in list1:\n",
    "    list1.remove(100)\n",
    "else:\n",
    "    print('100 not in list1')"
   ]
  },
  {
   "cell_type": "code",
   "execution_count": 10,
   "id": "33378fe8",
   "metadata": {},
   "outputs": [
    {
     "data": {
      "text/plain": [
       "([2, 3, 5, 'python', 5, 'class'], [2, 3, 5, 'python', 6.7, 5, 'class'])"
      ]
     },
     "execution_count": 10,
     "metadata": {},
     "output_type": "execute_result"
    }
   ],
   "source": [
    "#Use of copy function\n",
    "\n",
    "list1 = [2,3,5,'python',6.7,5,'class']\n",
    "\n",
    "list2 = list1.copy()\n",
    "\n",
    "list2.remove(6.7)\n",
    "\n",
    "list2,list1"
   ]
  },
  {
   "cell_type": "code",
   "execution_count": 11,
   "id": "723293d7",
   "metadata": {},
   "outputs": [
    {
     "data": {
      "text/plain": [
       "([2, 3, 5, 'python', 5, 'class'], [2, 3, 5, 'python', 5, 'class'])"
      ]
     },
     "execution_count": 11,
     "metadata": {},
     "output_type": "execute_result"
    }
   ],
   "source": [
    "# without using copy the changes relects in both the variables/list.\n",
    "\n",
    "list1 = [2,3,5,'python',6.7,5,'class']\n",
    "\n",
    "list2 = list1\n",
    "\n",
    "list2.remove(6.7)\n",
    "\n",
    "list2,list1"
   ]
  },
  {
   "cell_type": "code",
   "execution_count": 12,
   "id": "8f1880e6",
   "metadata": {},
   "outputs": [
    {
     "data": {
      "text/plain": [
       "[2, 3, 'python', 6.7, 'class']"
      ]
     },
     "execution_count": 12,
     "metadata": {},
     "output_type": "execute_result"
    }
   ],
   "source": [
    "list1 = [2,3,5,'python',6.7,5,'class']\n",
    "list1.remove(5)\n",
    "list1.remove(5)\n",
    "list1"
   ]
  },
  {
   "cell_type": "code",
   "execution_count": 15,
   "id": "4bb6534c",
   "metadata": {},
   "outputs": [
    {
     "data": {
      "text/plain": [
       "[2, 3, 'python', 6.7, 'class']"
      ]
     },
     "execution_count": 15,
     "metadata": {},
     "output_type": "execute_result"
    }
   ],
   "source": [
    "list1 = [2,3,5,'python',6.7,5,'class']\n",
    "\n",
    "x = list1.count(5)\n",
    "\n",
    "for i in range(x):\n",
    "    list1.remove(5)\n",
    "    \n",
    "list1"
   ]
  },
  {
   "cell_type": "code",
   "execution_count": 16,
   "id": "0b2135eb",
   "metadata": {},
   "outputs": [
    {
     "data": {
      "text/plain": [
       "[1, 2, 3, 6]"
      ]
     },
     "execution_count": 16,
     "metadata": {},
     "output_type": "execute_result"
    }
   ],
   "source": [
    "x = [1,2,3,[4,5],6]\n",
    "x.remove([4,5])\n",
    "x"
   ]
  },
  {
   "cell_type": "code",
   "execution_count": 18,
   "id": "353127a8",
   "metadata": {},
   "outputs": [
    {
     "ename": "ValueError",
     "evalue": "list.remove(x): x not in list",
     "output_type": "error",
     "traceback": [
      "\u001b[1;31m---------------------------------------------------------------------------\u001b[0m",
      "\u001b[1;31mValueError\u001b[0m                                Traceback (most recent call last)",
      "\u001b[1;32m<ipython-input-18-cc754cba5b25>\u001b[0m in \u001b[0;36m<module>\u001b[1;34m\u001b[0m\n\u001b[0;32m      1\u001b[0m \u001b[0mx\u001b[0m \u001b[1;33m=\u001b[0m \u001b[1;33m[\u001b[0m\u001b[1;36m1\u001b[0m\u001b[1;33m,\u001b[0m\u001b[1;36m2\u001b[0m\u001b[1;33m,\u001b[0m\u001b[1;36m3\u001b[0m\u001b[1;33m,\u001b[0m\u001b[1;33m[\u001b[0m\u001b[1;36m4\u001b[0m\u001b[1;33m,\u001b[0m\u001b[1;36m5\u001b[0m\u001b[1;33m]\u001b[0m\u001b[1;33m,\u001b[0m\u001b[1;36m6\u001b[0m\u001b[1;33m]\u001b[0m\u001b[1;33m\u001b[0m\u001b[1;33m\u001b[0m\u001b[0m\n\u001b[0;32m      2\u001b[0m \u001b[1;31m# x.remove([4])\u001b[0m\u001b[1;33m\u001b[0m\u001b[1;33m\u001b[0m\u001b[1;33m\u001b[0m\u001b[0m\n\u001b[1;32m----> 3\u001b[1;33m \u001b[0mx\u001b[0m\u001b[1;33m.\u001b[0m\u001b[0mremove\u001b[0m\u001b[1;33m(\u001b[0m\u001b[1;36m4\u001b[0m\u001b[1;33m)\u001b[0m\u001b[1;33m\u001b[0m\u001b[1;33m\u001b[0m\u001b[0m\n\u001b[0m\u001b[0;32m      4\u001b[0m \u001b[0mx\u001b[0m\u001b[1;33m\u001b[0m\u001b[1;33m\u001b[0m\u001b[0m\n",
      "\u001b[1;31mValueError\u001b[0m: list.remove(x): x not in list"
     ]
    }
   ],
   "source": [
    "x = [1,2,3,[4,5],6]\n",
    "# x.remove([4])\n",
    "x.remove(4)\n",
    "x"
   ]
  },
  {
   "cell_type": "markdown",
   "id": "83fa4e06",
   "metadata": {},
   "source": [
    "## Pop()"
   ]
  },
  {
   "cell_type": "raw",
   "id": "c4b2fcf3",
   "metadata": {},
   "source": [
    "pop(index)\n",
    "if we dont pass any index in pop then by default it pops the last item of the list"
   ]
  },
  {
   "cell_type": "code",
   "execution_count": 19,
   "id": "c2e63de1",
   "metadata": {},
   "outputs": [
    {
     "data": {
      "text/plain": [
       "[2, 3, 5, 'python', 6.7, 5]"
      ]
     },
     "execution_count": 19,
     "metadata": {},
     "output_type": "execute_result"
    }
   ],
   "source": [
    "list1 = [2,3,5,'python',6.7,5,'class']\n",
    "\n",
    "list1.pop()  # pop has no index mentioned so it removes the last item of list\n",
    "\n",
    "list1"
   ]
  },
  {
   "cell_type": "code",
   "execution_count": 20,
   "id": "8a104d26",
   "metadata": {},
   "outputs": [
    {
     "data": {
      "text/plain": [
       "[2, 3, 'python', 6.7, 5, 'class']"
      ]
     },
     "execution_count": 20,
     "metadata": {},
     "output_type": "execute_result"
    }
   ],
   "source": [
    "list1 = [2,3,5,'python',6.7,5,'class']\n",
    "\n",
    "list1.pop(2)  \n",
    "\n",
    "list1"
   ]
  },
  {
   "cell_type": "code",
   "execution_count": 21,
   "id": "2686f142",
   "metadata": {},
   "outputs": [
    {
     "data": {
      "text/plain": [
       "[2, 3, 5, 'python', 6.7, 'class']"
      ]
     },
     "execution_count": 21,
     "metadata": {},
     "output_type": "execute_result"
    }
   ],
   "source": [
    "list1 = [2,3,5,'python',6.7,5,'class']\n",
    "\n",
    "list1.pop(-2)  \n",
    "\n",
    "list1"
   ]
  },
  {
   "cell_type": "code",
   "execution_count": 24,
   "id": "889aa5be",
   "metadata": {},
   "outputs": [
    {
     "ename": "TypeError",
     "evalue": "'list' object cannot be interpreted as an integer",
     "output_type": "error",
     "traceback": [
      "\u001b[1;31m---------------------------------------------------------------------------\u001b[0m",
      "\u001b[1;31mTypeError\u001b[0m                                 Traceback (most recent call last)",
      "\u001b[1;32m<ipython-input-24-293851e18f58>\u001b[0m in \u001b[0;36m<module>\u001b[1;34m\u001b[0m\n\u001b[0;32m      1\u001b[0m \u001b[0mlist1\u001b[0m \u001b[1;33m=\u001b[0m \u001b[1;33m[\u001b[0m\u001b[1;36m2\u001b[0m\u001b[1;33m,\u001b[0m\u001b[1;36m3\u001b[0m\u001b[1;33m,\u001b[0m\u001b[1;36m5\u001b[0m\u001b[1;33m,\u001b[0m\u001b[1;34m'python'\u001b[0m\u001b[1;33m,\u001b[0m\u001b[1;36m6.7\u001b[0m\u001b[1;33m,\u001b[0m\u001b[1;36m5\u001b[0m\u001b[1;33m,\u001b[0m\u001b[1;34m'class'\u001b[0m\u001b[1;33m]\u001b[0m\u001b[1;33m\u001b[0m\u001b[1;33m\u001b[0m\u001b[0m\n\u001b[0;32m      2\u001b[0m \u001b[1;33m\u001b[0m\u001b[0m\n\u001b[1;32m----> 3\u001b[1;33m \u001b[0mlist1\u001b[0m\u001b[1;33m.\u001b[0m\u001b[0mpop\u001b[0m\u001b[1;33m(\u001b[0m\u001b[1;33m[\u001b[0m\u001b[1;33m-\u001b[0m\u001b[1;36m2\u001b[0m\u001b[1;33m,\u001b[0m\u001b[1;36m2\u001b[0m\u001b[1;33m]\u001b[0m\u001b[1;33m)\u001b[0m\u001b[1;33m\u001b[0m\u001b[1;33m\u001b[0m\u001b[0m\n\u001b[0m\u001b[0;32m      4\u001b[0m \u001b[1;33m\u001b[0m\u001b[0m\n\u001b[0;32m      5\u001b[0m \u001b[0mlist1\u001b[0m\u001b[1;33m\u001b[0m\u001b[1;33m\u001b[0m\u001b[0m\n",
      "\u001b[1;31mTypeError\u001b[0m: 'list' object cannot be interpreted as an integer"
     ]
    }
   ],
   "source": [
    "list1 = [2,3,5,'python',6.7,5,'class']\n",
    "\n",
    "list1.pop([-2,2])  \n",
    "\n",
    "list1"
   ]
  },
  {
   "cell_type": "code",
   "execution_count": 25,
   "id": "77e9b3d7",
   "metadata": {},
   "outputs": [
    {
     "data": {
      "text/plain": [
       "[2, 3, 5, 6.7, 5, 'class']"
      ]
     },
     "execution_count": 25,
     "metadata": {},
     "output_type": "execute_result"
    }
   ],
   "source": [
    "list1 = [2,3,5,'python',6.7,5,'class']\n",
    "\n",
    "list1.pop(list1.index('python'))  \n",
    "\n",
    "list1"
   ]
  },
  {
   "cell_type": "code",
   "execution_count": 34,
   "id": "37148313",
   "metadata": {},
   "outputs": [
    {
     "name": "stdout",
     "output_type": "stream",
     "text": [
      "indexes of repeated number 5 is:  [2, 5, 7]\n"
     ]
    },
    {
     "data": {
      "text/plain": [
       "[2, 3, 'python', 6.7, 'class']"
      ]
     },
     "execution_count": 34,
     "metadata": {},
     "output_type": "execute_result"
    }
   ],
   "source": [
    "list1 = [2,3,5,'python',6.7,5,'class',5]\n",
    "list2 = []\n",
    "\n",
    "for i,j in enumerate(list1):\n",
    "    if j == 5:\n",
    "        list2.append(i)\n",
    "        \n",
    "print('indexes of repeated number 5 is: ',list2)\n",
    "\n",
    "a = 0\n",
    "for i in range(len(list2)):    # 0,1\n",
    "    \n",
    "    list1.pop(list2[i]-a)\n",
    "    a+=1\n",
    "    \n",
    "list1"
   ]
  },
  {
   "cell_type": "code",
   "execution_count": 36,
   "id": "7d8a5d44",
   "metadata": {},
   "outputs": [
    {
     "name": "stdout",
     "output_type": "stream",
     "text": [
      "[2, 3, 5, 'python', 6.7, 5, 'class', 5] [2, 3, 5, 'python', 6.7, 5, 'class', 5]\n"
     ]
    },
    {
     "data": {
      "text/plain": [
       "[2, 3, 'python', 6.7, 'class']"
      ]
     },
     "execution_count": 36,
     "metadata": {},
     "output_type": "execute_result"
    }
   ],
   "source": [
    "list1 = [2,3,5,'python',6.7,5,'class',5]\n",
    "list2 = list1.copy()\n",
    "print(list1,list2)\n",
    "\n",
    "for i in list1:\n",
    "    if i==5:\n",
    "        list2.remove(i)\n",
    "        \n",
    "list2"
   ]
  },
  {
   "cell_type": "code",
   "execution_count": 40,
   "id": "e689ed07",
   "metadata": {},
   "outputs": [
    {
     "name": "stdout",
     "output_type": "stream",
     "text": [
      "[2, 3, 5, 'python', 6.7, 5, 'class', 5] []\n"
     ]
    },
    {
     "data": {
      "text/plain": [
       "[2, 3, 5, 'python', 6.7, 'class']"
      ]
     },
     "execution_count": 40,
     "metadata": {},
     "output_type": "execute_result"
    }
   ],
   "source": [
    "list1 = [2,3,5,'python',6.7,5,'class',5]\n",
    "list2 = []\n",
    "\n",
    "print(list1,list2)\n",
    "\n",
    "for i in list1:\n",
    "    if i not in list2:list2.append(i)\n",
    "        \n",
    "list2"
   ]
  },
  {
   "cell_type": "code",
   "execution_count": 42,
   "id": "a3a9df4c",
   "metadata": {},
   "outputs": [
    {
     "data": {
      "text/plain": [
       "[2, 3, 5, 'python', 6.7, 'class']"
      ]
     },
     "execution_count": 42,
     "metadata": {},
     "output_type": "execute_result"
    }
   ],
   "source": [
    "list1 = [2,3,5,'python',6.7,5,'class',5]\n",
    "list2 = []\n",
    "[list2.append(i) for i in list1 if i not in list2]       # List comprehension\n",
    "list2"
   ]
  },
  {
   "cell_type": "code",
   "execution_count": 38,
   "id": "e3da0200",
   "metadata": {},
   "outputs": [
    {
     "data": {
      "text/plain": [
       "{2, 3, 5, 6.7, 'class', 'python'}"
      ]
     },
     "execution_count": 38,
     "metadata": {},
     "output_type": "execute_result"
    }
   ],
   "source": [
    "list1 = [2,3,5,'python',6.7,5,'class',5]\n",
    "        \n",
    "set(list1)"
   ]
  },
  {
   "cell_type": "code",
   "execution_count": 43,
   "id": "8b533b6e",
   "metadata": {},
   "outputs": [
    {
     "data": {
      "text/plain": [
       "[1, 2, 3, 4, 1, 2, 7, 4, 6]"
      ]
     },
     "execution_count": 43,
     "metadata": {},
     "output_type": "execute_result"
    }
   ],
   "source": [
    "lis=[1,2,3,4,5,1,2,5,7,4,6,5]\n",
    "\n",
    "for i,j in enumerate(lis):\n",
    "    if j==5:\n",
    "        lis.pop(i)\n",
    "lis"
   ]
  },
  {
   "cell_type": "markdown",
   "id": "3c76bee6",
   "metadata": {},
   "source": [
    "## clear()"
   ]
  },
  {
   "cell_type": "raw",
   "id": "c448559a",
   "metadata": {},
   "source": [
    "it clears all the items from the list & leaves the list empty"
   ]
  },
  {
   "cell_type": "code",
   "execution_count": 44,
   "id": "d57635f9",
   "metadata": {},
   "outputs": [
    {
     "data": {
      "text/plain": [
       "[]"
      ]
     },
     "execution_count": 44,
     "metadata": {},
     "output_type": "execute_result"
    }
   ],
   "source": [
    "list1 = [2,3,5,'python',6.7,5,'class',5]\n",
    "\n",
    "list1.clear()\n",
    "list1"
   ]
  },
  {
   "cell_type": "code",
   "execution_count": 45,
   "id": "acbe6e78",
   "metadata": {
    "collapsed": true
   },
   "outputs": [
    {
     "ename": "TypeError",
     "evalue": "clear() takes no arguments (1 given)",
     "output_type": "error",
     "traceback": [
      "\u001b[1;31m---------------------------------------------------------------------------\u001b[0m",
      "\u001b[1;31mTypeError\u001b[0m                                 Traceback (most recent call last)",
      "\u001b[1;32m<ipython-input-45-fce41d42c0cb>\u001b[0m in \u001b[0;36m<module>\u001b[1;34m\u001b[0m\n\u001b[0;32m      1\u001b[0m \u001b[0mlist1\u001b[0m \u001b[1;33m=\u001b[0m \u001b[1;33m[\u001b[0m\u001b[1;36m2\u001b[0m\u001b[1;33m,\u001b[0m\u001b[1;36m3\u001b[0m\u001b[1;33m,\u001b[0m\u001b[1;36m5\u001b[0m\u001b[1;33m,\u001b[0m\u001b[1;34m'python'\u001b[0m\u001b[1;33m,\u001b[0m\u001b[1;36m6.7\u001b[0m\u001b[1;33m,\u001b[0m\u001b[1;36m5\u001b[0m\u001b[1;33m,\u001b[0m\u001b[1;34m'class'\u001b[0m\u001b[1;33m,\u001b[0m\u001b[1;36m5\u001b[0m\u001b[1;33m]\u001b[0m\u001b[1;33m\u001b[0m\u001b[1;33m\u001b[0m\u001b[0m\n\u001b[0;32m      2\u001b[0m \u001b[1;33m\u001b[0m\u001b[0m\n\u001b[1;32m----> 3\u001b[1;33m \u001b[0mlist1\u001b[0m\u001b[1;33m.\u001b[0m\u001b[0mclear\u001b[0m\u001b[1;33m(\u001b[0m\u001b[1;36m5\u001b[0m\u001b[1;33m)\u001b[0m\u001b[1;33m\u001b[0m\u001b[1;33m\u001b[0m\u001b[0m\n\u001b[0m\u001b[0;32m      4\u001b[0m \u001b[0mlist1\u001b[0m\u001b[1;33m\u001b[0m\u001b[1;33m\u001b[0m\u001b[0m\n",
      "\u001b[1;31mTypeError\u001b[0m: clear() takes no arguments (1 given)"
     ]
    }
   ],
   "source": [
    "list1 = [2,3,5,'python',6.7,5,'class',5]\n",
    "\n",
    "list1.clear(5)\n",
    "list1"
   ]
  },
  {
   "cell_type": "code",
   "execution_count": 46,
   "id": "39695ffa",
   "metadata": {},
   "outputs": [
    {
     "name": "stdout",
     "output_type": "stream",
     "text": [
      "[]  -is my list1\n",
      "list1 does not exist\n"
     ]
    }
   ],
   "source": [
    "list1 = [2,3,5,'python',6.7,5,'class',5]\n",
    "\n",
    "list1.clear()\n",
    "print(list1,' -is my list1')\n",
    "\n",
    "if list1:print('list1 exist')\n",
    "else:print('list1 does not exist')"
   ]
  },
  {
   "cell_type": "code",
   "execution_count": 47,
   "id": "7b9bb284",
   "metadata": {},
   "outputs": [
    {
     "data": {
      "text/plain": [
       "[]"
      ]
     },
     "execution_count": 47,
     "metadata": {},
     "output_type": "execute_result"
    }
   ],
   "source": [
    "list1   # if a list is empty it is as good as not existing!"
   ]
  },
  {
   "cell_type": "code",
   "execution_count": 48,
   "id": "bb26aeeb",
   "metadata": {},
   "outputs": [
    {
     "data": {
      "text/plain": [
       "list"
      ]
     },
     "execution_count": 48,
     "metadata": {},
     "output_type": "execute_result"
    }
   ],
   "source": [
    "type(list1)"
   ]
  },
  {
   "cell_type": "code",
   "execution_count": 49,
   "id": "8fd2fc38",
   "metadata": {},
   "outputs": [
    {
     "data": {
      "text/plain": [
       "140736301336624"
      ]
     },
     "execution_count": 49,
     "metadata": {},
     "output_type": "execute_result"
    }
   ],
   "source": [
    "id(list)"
   ]
  },
  {
   "cell_type": "markdown",
   "id": "0e785714",
   "metadata": {},
   "source": [
    "## del"
   ]
  },
  {
   "cell_type": "raw",
   "id": "c9fa3d33",
   "metadata": {},
   "source": [
    "is used to delete the list alltogether\n",
    "is also used to delete a specific item of the list\n",
    "is also used to delete a slice from the list"
   ]
  },
  {
   "cell_type": "code",
   "execution_count": 50,
   "id": "5b938b3e",
   "metadata": {},
   "outputs": [
    {
     "ename": "NameError",
     "evalue": "name 'list1' is not defined",
     "output_type": "error",
     "traceback": [
      "\u001b[1;31m---------------------------------------------------------------------------\u001b[0m",
      "\u001b[1;31mNameError\u001b[0m                                 Traceback (most recent call last)",
      "\u001b[1;32m<ipython-input-50-d57ea64a65ce>\u001b[0m in \u001b[0;36m<module>\u001b[1;34m\u001b[0m\n\u001b[0;32m      3\u001b[0m \u001b[1;32mdel\u001b[0m \u001b[0mlist1\u001b[0m\u001b[1;33m\u001b[0m\u001b[1;33m\u001b[0m\u001b[0m\n\u001b[0;32m      4\u001b[0m \u001b[1;33m\u001b[0m\u001b[0m\n\u001b[1;32m----> 5\u001b[1;33m \u001b[0mlist1\u001b[0m\u001b[1;33m\u001b[0m\u001b[1;33m\u001b[0m\u001b[0m\n\u001b[0m",
      "\u001b[1;31mNameError\u001b[0m: name 'list1' is not defined"
     ]
    }
   ],
   "source": [
    "list1 = [2,3,5,'python',6.7,5,'class',5]\n",
    "\n",
    "del list1       # deleting a list alltogether\n",
    "\n",
    "list1"
   ]
  },
  {
   "cell_type": "code",
   "execution_count": 51,
   "id": "485d905f",
   "metadata": {},
   "outputs": [
    {
     "data": {
      "text/plain": [
       "[2, 3, 5, 6.7, 5, 'class', 5]"
      ]
     },
     "execution_count": 51,
     "metadata": {},
     "output_type": "execute_result"
    }
   ],
   "source": [
    "list1 = [2,3,5,'python',6.7,5,'class',5]\n",
    "\n",
    "del list1[3]          # deleting a specific item form the list\n",
    "\n",
    "list1"
   ]
  },
  {
   "cell_type": "code",
   "execution_count": 52,
   "id": "b101ef68",
   "metadata": {},
   "outputs": [
    {
     "data": {
      "text/plain": [
       "[2, 3, 5, 'class', 5]"
      ]
     },
     "execution_count": 52,
     "metadata": {},
     "output_type": "execute_result"
    }
   ],
   "source": [
    "list1 = [2,3,5,'python',6.7,5,'class',5]\n",
    "\n",
    "del list1[3:6]          # deleting a slice form the list\n",
    "\n",
    "list1"
   ]
  },
  {
   "cell_type": "markdown",
   "id": "0f6ca5d8",
   "metadata": {},
   "source": [
    "# sorting of list"
   ]
  },
  {
   "cell_type": "markdown",
   "id": "f723cb1e",
   "metadata": {},
   "source": [
    "## Ascending order"
   ]
  },
  {
   "cell_type": "raw",
   "id": "a5fa8be7",
   "metadata": {},
   "source": [
    "smaller to bigger\n",
    "\n",
    "eg: 2,3,4,5,6,7"
   ]
  },
  {
   "cell_type": "markdown",
   "id": "9ba8abae",
   "metadata": {},
   "source": [
    "### sort()"
   ]
  },
  {
   "cell_type": "raw",
   "id": "fc90fb5c",
   "metadata": {},
   "source": [
    "sort modifies the actual list\n",
    "it does not need any external variable to store the change"
   ]
  },
  {
   "cell_type": "code",
   "execution_count": 53,
   "id": "924cb672",
   "metadata": {},
   "outputs": [
    {
     "data": {
      "text/plain": [
       "[2, 4, 5, 6, 8, 9]"
      ]
     },
     "execution_count": 53,
     "metadata": {},
     "output_type": "execute_result"
    }
   ],
   "source": [
    "lis=[5,9,2,8,4,6]\n",
    "lis.sort()\n",
    "lis"
   ]
  },
  {
   "cell_type": "code",
   "execution_count": 54,
   "id": "04cefe74",
   "metadata": {},
   "outputs": [
    {
     "ename": "TypeError",
     "evalue": "'<' not supported between instances of 'str' and 'int'",
     "output_type": "error",
     "traceback": [
      "\u001b[1;31m---------------------------------------------------------------------------\u001b[0m",
      "\u001b[1;31mTypeError\u001b[0m                                 Traceback (most recent call last)",
      "\u001b[1;32m<ipython-input-54-455a17488f70>\u001b[0m in \u001b[0;36m<module>\u001b[1;34m\u001b[0m\n\u001b[0;32m      1\u001b[0m \u001b[0mlis\u001b[0m\u001b[1;33m=\u001b[0m\u001b[1;33m[\u001b[0m\u001b[1;36m5\u001b[0m\u001b[1;33m,\u001b[0m\u001b[1;36m9\u001b[0m\u001b[1;33m,\u001b[0m\u001b[1;36m2\u001b[0m\u001b[1;33m,\u001b[0m\u001b[1;36m8\u001b[0m\u001b[1;33m,\u001b[0m\u001b[1;36m4\u001b[0m\u001b[1;33m,\u001b[0m\u001b[1;34m'hello'\u001b[0m\u001b[1;33m,\u001b[0m\u001b[1;36m6\u001b[0m\u001b[1;33m]\u001b[0m\u001b[1;33m\u001b[0m\u001b[1;33m\u001b[0m\u001b[0m\n\u001b[1;32m----> 2\u001b[1;33m \u001b[0mlis\u001b[0m\u001b[1;33m.\u001b[0m\u001b[0msort\u001b[0m\u001b[1;33m(\u001b[0m\u001b[1;33m)\u001b[0m\u001b[1;33m\u001b[0m\u001b[1;33m\u001b[0m\u001b[0m\n\u001b[0m\u001b[0;32m      3\u001b[0m \u001b[0mlis\u001b[0m\u001b[1;33m\u001b[0m\u001b[1;33m\u001b[0m\u001b[0m\n",
      "\u001b[1;31mTypeError\u001b[0m: '<' not supported between instances of 'str' and 'int'"
     ]
    }
   ],
   "source": [
    "lis=[5,9,2,8,4,'hello',6]\n",
    "lis.sort()\n",
    "lis"
   ]
  },
  {
   "cell_type": "code",
   "execution_count": 56,
   "id": "42291cb9",
   "metadata": {},
   "outputs": [
    {
     "data": {
      "text/plain": [
       "['Apolo', 'Aristocatle', 'Brutas', 'Ceaser', 'Hercules', 'Zeus']"
      ]
     },
     "execution_count": 56,
     "metadata": {},
     "output_type": "execute_result"
    }
   ],
   "source": [
    "lis=['Apolo','Hercules','Zeus','Ceaser','Brutas','Aristocatle']\n",
    "lis.sort()\n",
    "lis"
   ]
  },
  {
   "cell_type": "code",
   "execution_count": 57,
   "id": "8d87f331",
   "metadata": {},
   "outputs": [
    {
     "data": {
      "text/plain": [
       "['Apolo', 'Brutas', 'Ceaser', 'Hercules', 'Zeus', 'aristocatle', 'gretos']"
      ]
     },
     "execution_count": 57,
     "metadata": {},
     "output_type": "execute_result"
    }
   ],
   "source": [
    "lis=['Apolo','Hercules','Zeus','Ceaser','Brutas','aristocatle','gretos']\n",
    "lis.sort()\n",
    "lis"
   ]
  },
  {
   "cell_type": "code",
   "execution_count": 58,
   "id": "f0127a99",
   "metadata": {},
   "outputs": [
    {
     "data": {
      "text/plain": [
       "['$Hercules',\n",
       " '007',\n",
       " 'Apolo',\n",
       " 'Brutas',\n",
       " 'Ceaser',\n",
       " 'Zeus',\n",
       " 'aristocatle',\n",
       " 'gretos']"
      ]
     },
     "execution_count": 58,
     "metadata": {},
     "output_type": "execute_result"
    }
   ],
   "source": [
    "# Sorting by sequence >> special chars, numbers, Capitals, small letter\n",
    "\n",
    "lis=['Apolo','$Hercules','Zeus','Ceaser','Brutas','aristocatle','gretos','007']\n",
    "lis.sort()\n",
    "lis"
   ]
  },
  {
   "cell_type": "markdown",
   "id": "c410da74",
   "metadata": {},
   "source": [
    "### sorted()"
   ]
  },
  {
   "cell_type": "raw",
   "id": "b22d7b70",
   "metadata": {},
   "source": [
    "sorted does not modify the actual list\n",
    "it does require an external variable to store the change. bcz the change us not reflected in the actual list\n",
    "it's an inbilt python function"
   ]
  },
  {
   "cell_type": "code",
   "execution_count": 59,
   "id": "3d150e0b",
   "metadata": {},
   "outputs": [
    {
     "data": {
      "text/plain": [
       "[2, 4, 5, 6, 8, 9]"
      ]
     },
     "execution_count": 59,
     "metadata": {},
     "output_type": "execute_result"
    }
   ],
   "source": [
    "lis=[5,9,2,8,4,6]\n",
    "sorted(lis)"
   ]
  },
  {
   "cell_type": "code",
   "execution_count": 60,
   "id": "97fa7633",
   "metadata": {},
   "outputs": [
    {
     "data": {
      "text/plain": [
       "[5, 9, 2, 8, 4, 6]"
      ]
     },
     "execution_count": 60,
     "metadata": {},
     "output_type": "execute_result"
    }
   ],
   "source": [
    "lis"
   ]
  },
  {
   "cell_type": "code",
   "execution_count": 61,
   "id": "44ab234c",
   "metadata": {},
   "outputs": [
    {
     "data": {
      "text/plain": [
       "[2, 4, 5, 6, 8, 9]"
      ]
     },
     "execution_count": 61,
     "metadata": {},
     "output_type": "execute_result"
    }
   ],
   "source": [
    "lis=[5,9,2,8,4,6]\n",
    "lis=sorted(lis)\n",
    "lis"
   ]
  },
  {
   "cell_type": "code",
   "execution_count": 63,
   "id": "50b42a5f",
   "metadata": {},
   "outputs": [
    {
     "data": {
      "text/plain": [
       "([2, 4, 5, 6, 8, 9], [5, 9, 2, 8, 4, 6])"
      ]
     },
     "execution_count": 63,
     "metadata": {},
     "output_type": "execute_result"
    }
   ],
   "source": [
    "lis=[5,9,2,8,4,6]\n",
    "zzz=sorted(lis)\n",
    "zzz,lis"
   ]
  },
  {
   "cell_type": "code",
   "execution_count": 64,
   "id": "02a05d3d",
   "metadata": {},
   "outputs": [
    {
     "data": {
      "text/plain": [
       "['$Hercules',\n",
       " '007',\n",
       " 'Apolo',\n",
       " 'Brutas',\n",
       " 'Ceaser',\n",
       " 'Zeus',\n",
       " 'aristocatle',\n",
       " 'gretos']"
      ]
     },
     "execution_count": 64,
     "metadata": {},
     "output_type": "execute_result"
    }
   ],
   "source": [
    "# Sorting by sequence >> special chars, numbers, Capitals, small letter\n",
    "\n",
    "lis=['Apolo','$Hercules','Zeus','Ceaser','Brutas','aristocatle','gretos','007']\n",
    "sorted(lis)"
   ]
  },
  {
   "cell_type": "code",
   "execution_count": 65,
   "id": "5da1ebdb",
   "metadata": {},
   "outputs": [
    {
     "ename": "TypeError",
     "evalue": "'<' not supported between instances of 'str' and 'int'",
     "output_type": "error",
     "traceback": [
      "\u001b[1;31m---------------------------------------------------------------------------\u001b[0m",
      "\u001b[1;31mTypeError\u001b[0m                                 Traceback (most recent call last)",
      "\u001b[1;32m<ipython-input-65-2f8e77a9e972>\u001b[0m in \u001b[0;36m<module>\u001b[1;34m\u001b[0m\n\u001b[0;32m      1\u001b[0m \u001b[0mlis\u001b[0m\u001b[1;33m=\u001b[0m\u001b[1;33m[\u001b[0m\u001b[1;36m5\u001b[0m\u001b[1;33m,\u001b[0m\u001b[1;36m9\u001b[0m\u001b[1;33m,\u001b[0m\u001b[1;36m2\u001b[0m\u001b[1;33m,\u001b[0m\u001b[1;36m8\u001b[0m\u001b[1;33m,\u001b[0m\u001b[1;36m4\u001b[0m\u001b[1;33m,\u001b[0m\u001b[1;34m'hello'\u001b[0m\u001b[1;33m,\u001b[0m\u001b[1;36m6\u001b[0m\u001b[1;33m]\u001b[0m\u001b[1;33m\u001b[0m\u001b[1;33m\u001b[0m\u001b[0m\n\u001b[1;32m----> 2\u001b[1;33m \u001b[0msorted\u001b[0m\u001b[1;33m(\u001b[0m\u001b[0mlis\u001b[0m\u001b[1;33m)\u001b[0m\u001b[1;33m\u001b[0m\u001b[1;33m\u001b[0m\u001b[0m\n\u001b[0m",
      "\u001b[1;31mTypeError\u001b[0m: '<' not supported between instances of 'str' and 'int'"
     ]
    }
   ],
   "source": [
    "lis=[5,9,2,8,4,'hello',6]\n",
    "sorted(lis)"
   ]
  },
  {
   "cell_type": "markdown",
   "id": "9c4362f3",
   "metadata": {},
   "source": [
    "## Descending Order"
   ]
  },
  {
   "cell_type": "raw",
   "id": "db9ea5b6",
   "metadata": {},
   "source": [
    "bigger to smaller\n",
    "to set in descending order we need to use reverse parameter within sort & sorted functions"
   ]
  },
  {
   "cell_type": "markdown",
   "id": "d5c5e30b",
   "metadata": {},
   "source": [
    "### sort()"
   ]
  },
  {
   "cell_type": "code",
   "execution_count": 67,
   "id": "01fa32a0",
   "metadata": {},
   "outputs": [
    {
     "data": {
      "text/plain": [
       "[9, 8, 6, 5, 4, 2]"
      ]
     },
     "execution_count": 67,
     "metadata": {},
     "output_type": "execute_result"
    }
   ],
   "source": [
    "lis=[5,9,2,8,4,6]\n",
    "lis.sort(reverse=True)\n",
    "lis"
   ]
  },
  {
   "cell_type": "code",
   "execution_count": 68,
   "id": "d3f8c20b",
   "metadata": {},
   "outputs": [
    {
     "data": {
      "text/plain": [
       "[9, 8, 6, 5, 4, 2]"
      ]
     },
     "execution_count": 68,
     "metadata": {},
     "output_type": "execute_result"
    }
   ],
   "source": [
    "lis=[5,9,2,8,4,6]\n",
    "lis.sort(reverse=1)\n",
    "lis"
   ]
  },
  {
   "cell_type": "markdown",
   "id": "57371662",
   "metadata": {},
   "source": [
    "### sorted()"
   ]
  },
  {
   "cell_type": "code",
   "execution_count": 69,
   "id": "9e8865f4",
   "metadata": {},
   "outputs": [
    {
     "data": {
      "text/plain": [
       "[9, 8, 6, 5, 4, 2]"
      ]
     },
     "execution_count": 69,
     "metadata": {},
     "output_type": "execute_result"
    }
   ],
   "source": [
    "lis=[5,9,2,8,4,6]\n",
    "lis=sorted(lis,reverse=True)\n",
    "lis"
   ]
  },
  {
   "cell_type": "code",
   "execution_count": 71,
   "id": "bdab594b",
   "metadata": {},
   "outputs": [
    {
     "data": {
      "text/plain": [
       "[9, 8, 6, 5, 4, 2]"
      ]
     },
     "execution_count": 71,
     "metadata": {},
     "output_type": "execute_result"
    }
   ],
   "source": [
    "lis=[5,9,2,8,4,6]\n",
    "lis=list(reversed(sorted(lis)))\n",
    "lis"
   ]
  },
  {
   "cell_type": "markdown",
   "id": "31823dfa",
   "metadata": {},
   "source": [
    "# Reversing list"
   ]
  },
  {
   "cell_type": "markdown",
   "id": "e6c84926",
   "metadata": {},
   "source": [
    "## reverse()"
   ]
  },
  {
   "cell_type": "raw",
   "id": "36597459",
   "metadata": {},
   "source": [
    "its a function of list that reverses the sequence of items in the list\n",
    "it does not need any external variable to store the change"
   ]
  },
  {
   "cell_type": "code",
   "execution_count": 73,
   "id": "bc5eefe3",
   "metadata": {},
   "outputs": [
    {
     "data": {
      "text/plain": [
       "[6, 4, 8, 2, 9, 5]"
      ]
     },
     "execution_count": 73,
     "metadata": {},
     "output_type": "execute_result"
    }
   ],
   "source": [
    "lis=[5,9,2,8,4,6]\n",
    "lis.reverse()\n",
    "lis"
   ]
  },
  {
   "cell_type": "code",
   "execution_count": 74,
   "id": "9aedeec2",
   "metadata": {},
   "outputs": [
    {
     "data": {
      "text/plain": [
       "[5, 9, 2, 8, 4, 6]"
      ]
     },
     "execution_count": 74,
     "metadata": {},
     "output_type": "execute_result"
    }
   ],
   "source": [
    "lis=[5,9,2,8,4,6]\n",
    "lis[::-1]\n",
    "lis"
   ]
  },
  {
   "cell_type": "code",
   "execution_count": 75,
   "id": "6aa9639d",
   "metadata": {},
   "outputs": [
    {
     "data": {
      "text/plain": [
       "[9, 8, 6, 5, 4, 2]"
      ]
     },
     "execution_count": 75,
     "metadata": {},
     "output_type": "execute_result"
    }
   ],
   "source": [
    "lis=[5,9,2,8,4,6]\n",
    "lis.sort()\n",
    "lis.reverse()\n",
    "lis"
   ]
  },
  {
   "cell_type": "code",
   "execution_count": 76,
   "id": "27cd6698",
   "metadata": {},
   "outputs": [
    {
     "ename": "AttributeError",
     "evalue": "'NoneType' object has no attribute 'reverse'",
     "output_type": "error",
     "traceback": [
      "\u001b[1;31m---------------------------------------------------------------------------\u001b[0m",
      "\u001b[1;31mAttributeError\u001b[0m                            Traceback (most recent call last)",
      "\u001b[1;32m<ipython-input-76-f0b8138ac359>\u001b[0m in \u001b[0;36m<module>\u001b[1;34m\u001b[0m\n\u001b[0;32m      1\u001b[0m \u001b[0mlis\u001b[0m\u001b[1;33m=\u001b[0m\u001b[1;33m[\u001b[0m\u001b[1;36m5\u001b[0m\u001b[1;33m,\u001b[0m\u001b[1;36m9\u001b[0m\u001b[1;33m,\u001b[0m\u001b[1;36m2\u001b[0m\u001b[1;33m,\u001b[0m\u001b[1;36m8\u001b[0m\u001b[1;33m,\u001b[0m\u001b[1;36m4\u001b[0m\u001b[1;33m,\u001b[0m\u001b[1;36m6\u001b[0m\u001b[1;33m]\u001b[0m\u001b[1;33m\u001b[0m\u001b[1;33m\u001b[0m\u001b[0m\n\u001b[1;32m----> 2\u001b[1;33m \u001b[0mlis\u001b[0m\u001b[1;33m.\u001b[0m\u001b[0msort\u001b[0m\u001b[1;33m(\u001b[0m\u001b[1;33m)\u001b[0m\u001b[1;33m.\u001b[0m\u001b[0mreverse\u001b[0m\u001b[1;33m(\u001b[0m\u001b[1;33m)\u001b[0m\u001b[1;33m\u001b[0m\u001b[1;33m\u001b[0m\u001b[0m\n\u001b[0m\u001b[0;32m      3\u001b[0m \u001b[0mlis\u001b[0m\u001b[1;33m\u001b[0m\u001b[1;33m\u001b[0m\u001b[0m\n",
      "\u001b[1;31mAttributeError\u001b[0m: 'NoneType' object has no attribute 'reverse'"
     ]
    }
   ],
   "source": [
    "lis=[5,9,2,8,4,6]\n",
    "lis.sort().reverse()\n",
    "lis"
   ]
  },
  {
   "cell_type": "markdown",
   "id": "8651dc2b",
   "metadata": {},
   "source": [
    "## reversed()"
   ]
  },
  {
   "cell_type": "raw",
   "id": "9636ecec",
   "metadata": {},
   "source": [
    "we need an additional variable to store the change\n",
    "creates an object which has to unfolded using list function\n",
    "it's python inbuilt function"
   ]
  },
  {
   "cell_type": "code",
   "execution_count": 80,
   "id": "8ae5fb45",
   "metadata": {},
   "outputs": [
    {
     "data": {
      "text/plain": [
       "<list_reverseiterator at 0x2500849d580>"
      ]
     },
     "execution_count": 80,
     "metadata": {},
     "output_type": "execute_result"
    }
   ],
   "source": [
    "lis=[5,9,2,8,4,6]\n",
    "reversed(lis)"
   ]
  },
  {
   "cell_type": "code",
   "execution_count": 81,
   "id": "0338c5d1",
   "metadata": {},
   "outputs": [
    {
     "data": {
      "text/plain": [
       "[6, 4, 8, 2, 9, 5]"
      ]
     },
     "execution_count": 81,
     "metadata": {},
     "output_type": "execute_result"
    }
   ],
   "source": [
    "lis=[5,9,2,8,4,6]\n",
    "list(reversed(lis))"
   ]
  },
  {
   "cell_type": "code",
   "execution_count": 82,
   "id": "3cce2f18",
   "metadata": {},
   "outputs": [
    {
     "data": {
      "text/plain": [
       "[5, 9, 2, 8, 4, 6]"
      ]
     },
     "execution_count": 82,
     "metadata": {},
     "output_type": "execute_result"
    }
   ],
   "source": [
    "lis"
   ]
  },
  {
   "cell_type": "code",
   "execution_count": 83,
   "id": "d81440e6",
   "metadata": {},
   "outputs": [
    {
     "data": {
      "text/plain": [
       "[6, 4, 8, 2, 9, 5]"
      ]
     },
     "execution_count": 83,
     "metadata": {},
     "output_type": "execute_result"
    }
   ],
   "source": [
    "lis=[5,9,2,8,4,6]\n",
    "lis = list(reversed(lis))\n",
    "lis"
   ]
  },
  {
   "cell_type": "markdown",
   "id": "b0e82c3c",
   "metadata": {},
   "source": [
    "# count()"
   ]
  },
  {
   "cell_type": "code",
   "execution_count": 84,
   "id": "b1c0a40f",
   "metadata": {},
   "outputs": [
    {
     "data": {
      "text/plain": [
       "3"
      ]
     },
     "execution_count": 84,
     "metadata": {},
     "output_type": "execute_result"
    }
   ],
   "source": [
    "lis=[5,9,2,5,8,4,6,5]\n",
    "\n",
    "lis.count(5)"
   ]
  },
  {
   "cell_type": "code",
   "execution_count": 85,
   "id": "4ef81ea2",
   "metadata": {},
   "outputs": [
    {
     "data": {
      "text/plain": [
       "Counter({5: 3, 9: 1, 2: 1, 8: 1, 4: 1, 6: 1})"
      ]
     },
     "execution_count": 85,
     "metadata": {},
     "output_type": "execute_result"
    }
   ],
   "source": [
    "from collections import Counter\n",
    "Counter(lis)"
   ]
  },
  {
   "cell_type": "code",
   "execution_count": 86,
   "id": "e8f199d3",
   "metadata": {},
   "outputs": [
    {
     "data": {
      "text/plain": [
       "2"
      ]
     },
     "execution_count": 86,
     "metadata": {},
     "output_type": "execute_result"
    }
   ],
   "source": [
    "names = ['Apolo','$Hercules','Zeus','Apolo','Ceaser','Brutas','aristocatle','gretos','007']\n",
    "names.count('Apolo')"
   ]
  },
  {
   "cell_type": "code",
   "execution_count": 87,
   "id": "54bfb917",
   "metadata": {},
   "outputs": [
    {
     "name": "stdout",
     "output_type": "stream",
     "text": [
      "A is vowel\n",
      "I is vowel\n"
     ]
    }
   ],
   "source": [
    "names = ['A','B','M','I']\n",
    "for i in names:\n",
    "    if i=='A' or i=='I' or i=='E' or i=='O' or i=='U':\n",
    "        print(f'{i} is vowel')"
   ]
  },
  {
   "cell_type": "code",
   "execution_count": 88,
   "id": "efd4fbab",
   "metadata": {},
   "outputs": [
    {
     "name": "stdout",
     "output_type": "stream",
     "text": [
      "A is vowel\n",
      "I is vowel\n"
     ]
    }
   ],
   "source": [
    "names = ['A','B','M','I']\n",
    "vowels = list('AEIOU')\n",
    "\n",
    "for i in names:\n",
    "    if i in vowels:\n",
    "        print(f'{i} is vowel')"
   ]
  },
  {
   "cell_type": "code",
   "execution_count": 93,
   "id": "b30df50d",
   "metadata": {},
   "outputs": [
    {
     "name": "stdout",
     "output_type": "stream",
     "text": [
      "Apolo starts with vowel\n",
      "apolo starts with vowel\n",
      "aristocatle starts with vowel\n"
     ]
    }
   ],
   "source": [
    "names = ['Apolo','$Hercules','Zeus','apolo','Ceaser','Brutas','aristocatle','gretos','007']\n",
    "vowels = list('AEIOUaeiou')\n",
    "for i in names:\n",
    "    if i[0] in vowels:\n",
    "        print(f'{i} starts with vowel')"
   ]
  },
  {
   "cell_type": "code",
   "execution_count": 94,
   "id": "5a6fb082",
   "metadata": {},
   "outputs": [
    {
     "name": "stdout",
     "output_type": "stream",
     "text": [
      "5 occurs more than onces\n"
     ]
    }
   ],
   "source": [
    "lis=[5,9,2,5,8,4,6,5]\n",
    "\n",
    "if lis.count(5)>1:\n",
    "    print('5 occurs more than onces')"
   ]
  },
  {
   "cell_type": "code",
   "execution_count": 100,
   "id": "77a60dee",
   "metadata": {},
   "outputs": [
    {
     "data": {
      "text/plain": [
       "[5, 6]"
      ]
     },
     "execution_count": 100,
     "metadata": {},
     "output_type": "execute_result"
    }
   ],
   "source": [
    "lis=[5,9,2,5,8,4,6,5,6]\n",
    "lis2=[]\n",
    "\n",
    "for i in lis:\n",
    "    if lis.count(i)>1:\n",
    "        if i not in lis2:\n",
    "            lis2.append(i)\n",
    "#         print(f'{i} occurs more than onces')\n",
    "lis2"
   ]
  },
  {
   "cell_type": "code",
   "execution_count": 101,
   "id": "9d2d92c3",
   "metadata": {},
   "outputs": [
    {
     "data": {
      "text/plain": [
       "[9, 2, 8, 4, 5, 6]"
      ]
     },
     "execution_count": 101,
     "metadata": {},
     "output_type": "execute_result"
    }
   ],
   "source": [
    "lis=[5,9,2,5,8,4,6,5,6]\n",
    "for i in lis:\n",
    "    if lis.count(i)>1:\n",
    "        lis.remove(i)\n",
    "        \n",
    "lis"
   ]
  },
  {
   "cell_type": "code",
   "execution_count": 102,
   "id": "0230986f",
   "metadata": {},
   "outputs": [
    {
     "data": {
      "text/plain": [
       "{2, 4, 5, 6, 8, 9}"
      ]
     },
     "execution_count": 102,
     "metadata": {},
     "output_type": "execute_result"
    }
   ],
   "source": [
    "lis=[5,9,2,5,8,4,6,5,6]\n",
    "set(lis)"
   ]
  },
  {
   "cell_type": "code",
   "execution_count": 103,
   "id": "30dc1b81",
   "metadata": {},
   "outputs": [
    {
     "data": {
      "text/plain": [
       "[5, 9, 2, 8, 4, 6]"
      ]
     },
     "execution_count": 103,
     "metadata": {},
     "output_type": "execute_result"
    }
   ],
   "source": [
    "lis=[5,9,2,5,8,4,6,5,6]\n",
    "lis2=[]\n",
    "\n",
    "for i in lis:\n",
    "    if i not in lis2:\n",
    "        lis2.append(i)\n",
    "lis2"
   ]
  },
  {
   "cell_type": "markdown",
   "id": "dc70a9c2",
   "metadata": {},
   "source": [
    "# Aggregate Functions"
   ]
  },
  {
   "cell_type": "markdown",
   "id": "92051adc",
   "metadata": {},
   "source": [
    "## Sum()"
   ]
  },
  {
   "cell_type": "raw",
   "id": "accbe578",
   "metadata": {},
   "source": [
    "sum gives the addition of all the items in the list\n",
    "works on numbers only"
   ]
  },
  {
   "cell_type": "code",
   "execution_count": 104,
   "id": "0d952901",
   "metadata": {},
   "outputs": [
    {
     "data": {
      "text/plain": [
       "50"
      ]
     },
     "execution_count": 104,
     "metadata": {},
     "output_type": "execute_result"
    }
   ],
   "source": [
    "lis=[5,9,2,5,8,4,6,5,6]\n",
    "sum(lis)"
   ]
  },
  {
   "cell_type": "code",
   "execution_count": 107,
   "id": "c338cc58",
   "metadata": {},
   "outputs": [
    {
     "data": {
      "text/plain": [
       "16.8"
      ]
     },
     "execution_count": 107,
     "metadata": {},
     "output_type": "execute_result"
    }
   ],
   "source": [
    "lis=[5.9,2.5,8.4]\n",
    "sum(lis)"
   ]
  },
  {
   "cell_type": "code",
   "execution_count": 110,
   "id": "da1e32a4",
   "metadata": {},
   "outputs": [
    {
     "data": {
      "text/plain": [
       "(15+18j)"
      ]
     },
     "execution_count": 110,
     "metadata": {},
     "output_type": "execute_result"
    }
   ],
   "source": [
    "lis=[5+9j,2+5j,8+4j]\n",
    "sum(lis)"
   ]
  },
  {
   "cell_type": "code",
   "execution_count": 111,
   "id": "f9707d5b",
   "metadata": {},
   "outputs": [
    {
     "data": {
      "text/plain": [
       "(15.5+9j)"
      ]
     },
     "execution_count": 111,
     "metadata": {},
     "output_type": "execute_result"
    }
   ],
   "source": [
    "lis=[5+9j,2.5,8]\n",
    "sum(lis)"
   ]
  },
  {
   "cell_type": "code",
   "execution_count": 105,
   "id": "e5e29362",
   "metadata": {
    "scrolled": true
   },
   "outputs": [
    {
     "ename": "TypeError",
     "evalue": "unsupported operand type(s) for +: 'int' and 'str'",
     "output_type": "error",
     "traceback": [
      "\u001b[1;31m---------------------------------------------------------------------------\u001b[0m",
      "\u001b[1;31mTypeError\u001b[0m                                 Traceback (most recent call last)",
      "\u001b[1;32m<ipython-input-105-dc0df2468237>\u001b[0m in \u001b[0;36m<module>\u001b[1;34m\u001b[0m\n\u001b[0;32m      1\u001b[0m \u001b[0mlis\u001b[0m\u001b[1;33m=\u001b[0m\u001b[1;33m[\u001b[0m\u001b[1;36m5\u001b[0m\u001b[1;33m,\u001b[0m\u001b[1;36m9\u001b[0m\u001b[1;33m,\u001b[0m\u001b[1;36m2\u001b[0m\u001b[1;33m,\u001b[0m\u001b[1;36m5\u001b[0m\u001b[1;33m,\u001b[0m\u001b[1;36m8\u001b[0m\u001b[1;33m,\u001b[0m\u001b[1;36m4\u001b[0m\u001b[1;33m,\u001b[0m\u001b[1;36m6\u001b[0m\u001b[1;33m,\u001b[0m\u001b[1;36m5\u001b[0m\u001b[1;33m,\u001b[0m\u001b[1;36m6\u001b[0m\u001b[1;33m,\u001b[0m\u001b[1;34m'7'\u001b[0m\u001b[1;33m]\u001b[0m\u001b[1;33m\u001b[0m\u001b[1;33m\u001b[0m\u001b[0m\n\u001b[1;32m----> 2\u001b[1;33m \u001b[0msum\u001b[0m\u001b[1;33m(\u001b[0m\u001b[0mlis\u001b[0m\u001b[1;33m)\u001b[0m\u001b[1;33m\u001b[0m\u001b[1;33m\u001b[0m\u001b[0m\n\u001b[0m",
      "\u001b[1;31mTypeError\u001b[0m: unsupported operand type(s) for +: 'int' and 'str'"
     ]
    }
   ],
   "source": [
    "lis=[5,9,2,5,8,4,6,5,6,'7']\n",
    "sum(lis)"
   ]
  },
  {
   "cell_type": "code",
   "execution_count": 106,
   "id": "a5e161d3",
   "metadata": {},
   "outputs": [
    {
     "ename": "TypeError",
     "evalue": "unsupported operand type(s) for +: 'int' and 'str'",
     "output_type": "error",
     "traceback": [
      "\u001b[1;31m---------------------------------------------------------------------------\u001b[0m",
      "\u001b[1;31mTypeError\u001b[0m                                 Traceback (most recent call last)",
      "\u001b[1;32m<ipython-input-106-da76f26e2d59>\u001b[0m in \u001b[0;36m<module>\u001b[1;34m\u001b[0m\n\u001b[0;32m      1\u001b[0m \u001b[0mlis\u001b[0m\u001b[1;33m=\u001b[0m\u001b[1;33m[\u001b[0m\u001b[1;34m'6'\u001b[0m\u001b[1;33m,\u001b[0m\u001b[1;34m'7'\u001b[0m\u001b[1;33m]\u001b[0m\u001b[1;33m\u001b[0m\u001b[1;33m\u001b[0m\u001b[0m\n\u001b[1;32m----> 2\u001b[1;33m \u001b[0msum\u001b[0m\u001b[1;33m(\u001b[0m\u001b[0mlis\u001b[0m\u001b[1;33m)\u001b[0m\u001b[1;33m\u001b[0m\u001b[1;33m\u001b[0m\u001b[0m\n\u001b[0m",
      "\u001b[1;31mTypeError\u001b[0m: unsupported operand type(s) for +: 'int' and 'str'"
     ]
    }
   ],
   "source": [
    "lis=['6','7']\n",
    "sum(lis)"
   ]
  },
  {
   "cell_type": "markdown",
   "id": "ac8e67f7",
   "metadata": {},
   "source": [
    "## max()"
   ]
  },
  {
   "cell_type": "raw",
   "id": "8ecb0046",
   "metadata": {},
   "source": [
    "gives the maximum number from the list"
   ]
  },
  {
   "cell_type": "code",
   "execution_count": 112,
   "id": "c2b9cf0c",
   "metadata": {},
   "outputs": [
    {
     "data": {
      "text/plain": [
       "9"
      ]
     },
     "execution_count": 112,
     "metadata": {},
     "output_type": "execute_result"
    }
   ],
   "source": [
    "lis=[5,9,2,5,8,4,6,5,6]\n",
    "max(lis)"
   ]
  },
  {
   "cell_type": "code",
   "execution_count": 115,
   "id": "fb3241f0",
   "metadata": {},
   "outputs": [
    {
     "data": {
      "text/plain": [
       "8"
      ]
     },
     "execution_count": 115,
     "metadata": {},
     "output_type": "execute_result"
    }
   ],
   "source": [
    "lis=[5,2.5,8]\n",
    "max(lis)"
   ]
  },
  {
   "cell_type": "code",
   "execution_count": 114,
   "id": "e16cc340",
   "metadata": {},
   "outputs": [
    {
     "ename": "TypeError",
     "evalue": "'>' not supported between instances of 'float' and 'complex'",
     "output_type": "error",
     "traceback": [
      "\u001b[1;31m---------------------------------------------------------------------------\u001b[0m",
      "\u001b[1;31mTypeError\u001b[0m                                 Traceback (most recent call last)",
      "\u001b[1;32m<ipython-input-114-f3b39877d59d>\u001b[0m in \u001b[0;36m<module>\u001b[1;34m\u001b[0m\n\u001b[0;32m      1\u001b[0m \u001b[0mlis\u001b[0m\u001b[1;33m=\u001b[0m\u001b[1;33m[\u001b[0m\u001b[1;36m5\u001b[0m\u001b[1;33m+\u001b[0m\u001b[1;36m9j\u001b[0m\u001b[1;33m,\u001b[0m\u001b[1;36m2.5\u001b[0m\u001b[1;33m,\u001b[0m\u001b[1;36m8\u001b[0m\u001b[1;33m]\u001b[0m\u001b[1;33m\u001b[0m\u001b[1;33m\u001b[0m\u001b[0m\n\u001b[1;32m----> 2\u001b[1;33m \u001b[0mmax\u001b[0m\u001b[1;33m(\u001b[0m\u001b[0mlis\u001b[0m\u001b[1;33m)\u001b[0m\u001b[1;33m\u001b[0m\u001b[1;33m\u001b[0m\u001b[0m\n\u001b[0m",
      "\u001b[1;31mTypeError\u001b[0m: '>' not supported between instances of 'float' and 'complex'"
     ]
    }
   ],
   "source": [
    "lis=[5+9j,2.5,8]\n",
    "max(lis)"
   ]
  },
  {
   "cell_type": "markdown",
   "id": "3da447a2",
   "metadata": {},
   "source": [
    "## min()"
   ]
  },
  {
   "cell_type": "raw",
   "id": "88bf4ec2",
   "metadata": {},
   "source": [
    "gives the minimum number from the list"
   ]
  },
  {
   "cell_type": "code",
   "execution_count": 113,
   "id": "310fda15",
   "metadata": {},
   "outputs": [
    {
     "data": {
      "text/plain": [
       "2"
      ]
     },
     "execution_count": 113,
     "metadata": {},
     "output_type": "execute_result"
    }
   ],
   "source": [
    "lis=[5,9,2,5,8,4,6,5,6]\n",
    "min(lis)"
   ]
  },
  {
   "cell_type": "code",
   "execution_count": 116,
   "id": "35d4be9f",
   "metadata": {},
   "outputs": [
    {
     "data": {
      "text/plain": [
       "2.5"
      ]
     },
     "execution_count": 116,
     "metadata": {},
     "output_type": "execute_result"
    }
   ],
   "source": [
    "lis=[5,2.5,8]\n",
    "min(lis)"
   ]
  },
  {
   "cell_type": "code",
   "execution_count": 117,
   "id": "a5036248",
   "metadata": {},
   "outputs": [
    {
     "ename": "TypeError",
     "evalue": "'<' not supported between instances of 'float' and 'complex'",
     "output_type": "error",
     "traceback": [
      "\u001b[1;31m---------------------------------------------------------------------------\u001b[0m",
      "\u001b[1;31mTypeError\u001b[0m                                 Traceback (most recent call last)",
      "\u001b[1;32m<ipython-input-117-021b6eaed73a>\u001b[0m in \u001b[0;36m<module>\u001b[1;34m\u001b[0m\n\u001b[0;32m      1\u001b[0m \u001b[0mlis\u001b[0m\u001b[1;33m=\u001b[0m\u001b[1;33m[\u001b[0m\u001b[1;36m5\u001b[0m\u001b[1;33m+\u001b[0m\u001b[1;36m9j\u001b[0m\u001b[1;33m,\u001b[0m\u001b[1;36m2.5\u001b[0m\u001b[1;33m,\u001b[0m\u001b[1;36m8\u001b[0m\u001b[1;33m]\u001b[0m\u001b[1;33m\u001b[0m\u001b[1;33m\u001b[0m\u001b[0m\n\u001b[1;32m----> 2\u001b[1;33m \u001b[0mmin\u001b[0m\u001b[1;33m(\u001b[0m\u001b[0mlis\u001b[0m\u001b[1;33m)\u001b[0m\u001b[1;33m\u001b[0m\u001b[1;33m\u001b[0m\u001b[0m\n\u001b[0m",
      "\u001b[1;31mTypeError\u001b[0m: '<' not supported between instances of 'float' and 'complex'"
     ]
    }
   ],
   "source": [
    "lis=[5+9j,2.5,8]\n",
    "min(lis)"
   ]
  },
  {
   "cell_type": "code",
   "execution_count": 124,
   "id": "e92058fa",
   "metadata": {},
   "outputs": [
    {
     "name": "stdout",
     "output_type": "stream",
     "text": [
      "['&', '9', 'A', 'B', 'z']\n"
     ]
    },
    {
     "data": {
      "text/plain": [
       "'z'"
      ]
     },
     "execution_count": 124,
     "metadata": {},
     "output_type": "execute_result"
    }
   ],
   "source": [
    "list1 = ['&','A','B','z','9']\n",
    "print(sorted(list1))\n",
    "max(list1)"
   ]
  },
  {
   "cell_type": "code",
   "execution_count": 125,
   "id": "8c3ba9fa",
   "metadata": {},
   "outputs": [
    {
     "data": {
      "text/plain": [
       "'&'"
      ]
     },
     "execution_count": 125,
     "metadata": {},
     "output_type": "execute_result"
    }
   ],
   "source": [
    "min(list1)"
   ]
  },
  {
   "cell_type": "code",
   "execution_count": 130,
   "id": "9972c2eb",
   "metadata": {},
   "outputs": [
    {
     "name": "stdout",
     "output_type": "stream",
     "text": [
      "10.295630140987\n",
      "5.385164807134504\n",
      "8.94427190999916\n"
     ]
    },
    {
     "data": {
      "text/plain": [
       "10.29563"
      ]
     },
     "execution_count": 130,
     "metadata": {},
     "output_type": "execute_result"
    }
   ],
   "source": [
    "lis=[5+9j,2+5j,8+4j]\n",
    "lis2=[]\n",
    "for i in lis:\n",
    "    lis2.append(round(abs(i),5))\n",
    "    print(abs(i))\n",
    "    \n",
    "max(lis2)"
   ]
  },
  {
   "cell_type": "markdown",
   "id": "7a49e96c",
   "metadata": {},
   "source": [
    "## mean()"
   ]
  },
  {
   "cell_type": "raw",
   "id": "80967648",
   "metadata": {},
   "source": [
    "Mean : Average of all the items of list\n",
    "Aum of all items / Total number of items"
   ]
  },
  {
   "cell_type": "code",
   "execution_count": 131,
   "id": "973485da",
   "metadata": {},
   "outputs": [
    {
     "data": {
      "text/plain": [
       "5.8"
      ]
     },
     "execution_count": 131,
     "metadata": {},
     "output_type": "execute_result"
    }
   ],
   "source": [
    "lis=[5,9,2,5,8]\n",
    "sum(lis)/len(lis)"
   ]
  },
  {
   "cell_type": "code",
   "execution_count": 133,
   "id": "a059b34c",
   "metadata": {},
   "outputs": [
    {
     "data": {
      "text/plain": [
       "5.8"
      ]
     },
     "execution_count": 133,
     "metadata": {},
     "output_type": "execute_result"
    }
   ],
   "source": [
    "from numpy import mean\n",
    "mean(lis)"
   ]
  },
  {
   "cell_type": "code",
   "execution_count": 134,
   "id": "8475f5f4",
   "metadata": {},
   "outputs": [
    {
     "data": {
      "text/plain": [
       "5.8"
      ]
     },
     "execution_count": 134,
     "metadata": {},
     "output_type": "execute_result"
    }
   ],
   "source": [
    "from statistics import mean\n",
    "mean(lis)"
   ]
  },
  {
   "cell_type": "markdown",
   "id": "323d417f",
   "metadata": {},
   "source": [
    "## Median"
   ]
  },
  {
   "cell_type": "raw",
   "id": "be6a3e29",
   "metadata": {},
   "source": [
    "median : Center value of sorted list"
   ]
  },
  {
   "cell_type": "code",
   "execution_count": 141,
   "id": "4d2b934e",
   "metadata": {},
   "outputs": [],
   "source": [
    "lis=[5,9,2,6,8]"
   ]
  },
  {
   "cell_type": "code",
   "execution_count": 142,
   "id": "702fe190",
   "metadata": {},
   "outputs": [
    {
     "data": {
      "text/plain": [
       "[2, 5, 6, 8, 9]"
      ]
     },
     "execution_count": 142,
     "metadata": {},
     "output_type": "execute_result"
    }
   ],
   "source": [
    "sorted(lis)"
   ]
  },
  {
   "cell_type": "code",
   "execution_count": 137,
   "id": "ad13acd5",
   "metadata": {},
   "outputs": [
    {
     "data": {
      "text/plain": [
       "6.0"
      ]
     },
     "execution_count": 137,
     "metadata": {},
     "output_type": "execute_result"
    }
   ],
   "source": [
    "from numpy import median\n",
    "median(lis)"
   ]
  },
  {
   "cell_type": "code",
   "execution_count": 143,
   "id": "895df003",
   "metadata": {},
   "outputs": [],
   "source": [
    "lis=[5,9,2,6,8,7]"
   ]
  },
  {
   "cell_type": "code",
   "execution_count": 144,
   "id": "bcb50bc1",
   "metadata": {},
   "outputs": [
    {
     "data": {
      "text/plain": [
       "[2, 5, 6, 7, 8, 9]"
      ]
     },
     "execution_count": 144,
     "metadata": {},
     "output_type": "execute_result"
    }
   ],
   "source": [
    "sorted(lis)"
   ]
  },
  {
   "cell_type": "code",
   "execution_count": 139,
   "id": "45cc29a1",
   "metadata": {},
   "outputs": [
    {
     "data": {
      "text/plain": [
       "6.5"
      ]
     },
     "execution_count": 139,
     "metadata": {},
     "output_type": "execute_result"
    }
   ],
   "source": [
    "from statistics import median\n",
    "median(lis)"
   ]
  },
  {
   "cell_type": "code",
   "execution_count": 146,
   "id": "6efbbca8",
   "metadata": {},
   "outputs": [
    {
     "name": "stdout",
     "output_type": "stream",
     "text": [
      "9\n",
      "x is odd\n"
     ]
    }
   ],
   "source": [
    "# function for even & odd numbers\n",
    "\n",
    "x = int(input())\n",
    "\n",
    "if x%2==0:print('x is even')\n",
    "if x%2==1:print('x is odd')"
   ]
  },
  {
   "cell_type": "code",
   "execution_count": 151,
   "id": "587664f6",
   "metadata": {},
   "outputs": [
    {
     "data": {
      "text/plain": [
       "6.5"
      ]
     },
     "execution_count": 151,
     "metadata": {},
     "output_type": "execute_result"
    }
   ],
   "source": [
    "lis=[5,9,2,6,8,7]\n",
    "lis.sort()\n",
    "\n",
    "if len(lis)%2==1:\n",
    "    median = lis[round(len(lis)/2)]\n",
    "    \n",
    "else:\n",
    "    median = (lis[round(len(lis)/2)]+lis[(round(len(lis)/2)-1)])/2\n",
    "    \n",
    "median"
   ]
  },
  {
   "cell_type": "code",
   "execution_count": 147,
   "id": "c19a7173",
   "metadata": {},
   "outputs": [
    {
     "data": {
      "text/plain": [
       "2"
      ]
     },
     "execution_count": 147,
     "metadata": {},
     "output_type": "execute_result"
    }
   ],
   "source": [
    "lis=[5,9,2,6,8]\n",
    "round(len(lis)/2)"
   ]
  },
  {
   "cell_type": "code",
   "execution_count": 148,
   "id": "75b79577",
   "metadata": {},
   "outputs": [
    {
     "data": {
      "text/plain": [
       "3"
      ]
     },
     "execution_count": 148,
     "metadata": {},
     "output_type": "execute_result"
    }
   ],
   "source": [
    "lis=[5,9,2,6,8,7]\n",
    "round(len(lis)/2)\n",
    "mea"
   ]
  },
  {
   "cell_type": "code",
   "execution_count": 152,
   "id": "f6e06ae4",
   "metadata": {
    "collapsed": true
   },
   "outputs": [
    {
     "name": "stdout",
     "output_type": "stream",
     "text": [
      "4\n",
      "5\n",
      "6\n",
      "7\n",
      "8\n"
     ]
    },
    {
     "data": {
      "text/plain": [
       "[4, 5, 6, 7, 8]"
      ]
     },
     "execution_count": 152,
     "metadata": {},
     "output_type": "execute_result"
    }
   ],
   "source": [
    "[int(input()) for i in range(5)]"
   ]
  },
  {
   "cell_type": "code",
   "execution_count": 153,
   "id": "b531e39e",
   "metadata": {},
   "outputs": [
    {
     "name": "stdout",
     "output_type": "stream",
     "text": [
      "how any numbers do you want in list: 5\n",
      "1\n",
      "2\n",
      "7\n",
      "2\n",
      "5\n"
     ]
    }
   ],
   "source": [
    "x = int(input('how any numbers do you want in list: '))\n",
    "\n",
    "dummy = []\n",
    "\n",
    "for i in range(x):\n",
    "    dummy.append(int(input()))"
   ]
  },
  {
   "cell_type": "code",
   "execution_count": 154,
   "id": "93bda5a2",
   "metadata": {},
   "outputs": [
    {
     "data": {
      "text/plain": [
       "[1, 2, 7, 2, 5]"
      ]
     },
     "execution_count": 154,
     "metadata": {},
     "output_type": "execute_result"
    }
   ],
   "source": [
    "dummy"
   ]
  },
  {
   "cell_type": "markdown",
   "id": "2d19f003",
   "metadata": {},
   "source": [
    "## Mode"
   ]
  },
  {
   "cell_type": "raw",
   "id": "168f46d8",
   "metadata": {},
   "source": [
    "Mode : The most frequently occured item"
   ]
  },
  {
   "cell_type": "code",
   "execution_count": 4,
   "id": "44951d18",
   "metadata": {},
   "outputs": [
    {
     "data": {
      "text/plain": [
       "5"
      ]
     },
     "execution_count": 4,
     "metadata": {},
     "output_type": "execute_result"
    }
   ],
   "source": [
    "lis=[5,9,2,6,8,7,5]\n",
    "\n",
    "max([(lis.count(i),i) for i in lis])[1]"
   ]
  },
  {
   "cell_type": "code",
   "execution_count": 13,
   "id": "19d5951c",
   "metadata": {},
   "outputs": [
    {
     "data": {
      "text/plain": [
       "5"
      ]
     },
     "execution_count": 13,
     "metadata": {},
     "output_type": "execute_result"
    }
   ],
   "source": [
    "lis=[5,9,2,6,8,7,5]\n",
    "lis2=[]\n",
    "for i in lis:\n",
    "    lis2.append((lis.count(i),i))\n",
    "    \n",
    "max(lis2)[1]"
   ]
  },
  {
   "cell_type": "code",
   "execution_count": 14,
   "id": "7db8d10d",
   "metadata": {},
   "outputs": [
    {
     "data": {
      "text/plain": [
       "5"
      ]
     },
     "execution_count": 14,
     "metadata": {},
     "output_type": "execute_result"
    }
   ],
   "source": [
    "from statistics import mode\n",
    "mode(lis)"
   ]
  },
  {
   "cell_type": "markdown",
   "id": "66311020",
   "metadata": {},
   "source": [
    "## Power()"
   ]
  },
  {
   "cell_type": "code",
   "execution_count": 16,
   "id": "a6a91145",
   "metadata": {},
   "outputs": [
    {
     "data": {
      "text/plain": [
       "36"
      ]
     },
     "execution_count": 16,
     "metadata": {},
     "output_type": "execute_result"
    }
   ],
   "source": [
    "x = 6\n",
    "\n",
    "x*x     # square of x"
   ]
  },
  {
   "cell_type": "code",
   "execution_count": 17,
   "id": "a920e786",
   "metadata": {},
   "outputs": [
    {
     "data": {
      "text/plain": [
       "36"
      ]
     },
     "execution_count": 17,
     "metadata": {},
     "output_type": "execute_result"
    }
   ],
   "source": [
    "x**2   # square of x"
   ]
  },
  {
   "cell_type": "code",
   "execution_count": 18,
   "id": "ebe11cf1",
   "metadata": {},
   "outputs": [
    {
     "data": {
      "text/plain": [
       "36"
      ]
     },
     "execution_count": 18,
     "metadata": {},
     "output_type": "execute_result"
    }
   ],
   "source": [
    "pow(x,2)"
   ]
  },
  {
   "cell_type": "code",
   "execution_count": 19,
   "id": "0c4341f0",
   "metadata": {},
   "outputs": [
    {
     "data": {
      "text/plain": [
       "216"
      ]
     },
     "execution_count": 19,
     "metadata": {},
     "output_type": "execute_result"
    }
   ],
   "source": [
    "pow(x,3)"
   ]
  },
  {
   "cell_type": "code",
   "execution_count": 20,
   "id": "1d8d3c0e",
   "metadata": {},
   "outputs": [
    {
     "data": {
      "text/plain": [
       "2.449489742783178"
      ]
     },
     "execution_count": 20,
     "metadata": {},
     "output_type": "execute_result"
    }
   ],
   "source": [
    "pow(x,1/2)"
   ]
  },
  {
   "cell_type": "code",
   "execution_count": 21,
   "id": "874c7d2a",
   "metadata": {},
   "outputs": [],
   "source": [
    "from math import pow"
   ]
  },
  {
   "cell_type": "code",
   "execution_count": 22,
   "id": "6628979d",
   "metadata": {},
   "outputs": [
    {
     "data": {
      "text/plain": [
       "10.0"
      ]
     },
     "execution_count": 22,
     "metadata": {},
     "output_type": "execute_result"
    }
   ],
   "source": [
    "pow(100,0.5)"
   ]
  },
  {
   "cell_type": "code",
   "execution_count": null,
   "id": "20f07e46",
   "metadata": {},
   "outputs": [],
   "source": []
  }
 ],
 "metadata": {
  "kernelspec": {
   "display_name": "Python 3",
   "language": "python",
   "name": "python3"
  },
  "language_info": {
   "codemirror_mode": {
    "name": "ipython",
    "version": 3
   },
   "file_extension": ".py",
   "mimetype": "text/x-python",
   "name": "python",
   "nbconvert_exporter": "python",
   "pygments_lexer": "ipython3",
   "version": "3.8.8"
  },
  "toc": {
   "base_numbering": 1,
   "nav_menu": {},
   "number_sections": true,
   "sideBar": true,
   "skip_h1_title": false,
   "title_cell": "Table of Contents",
   "title_sidebar": "Contents",
   "toc_cell": false,
   "toc_position": {},
   "toc_section_display": true,
   "toc_window_display": false
  },
  "varInspector": {
   "cols": {
    "lenName": 16,
    "lenType": 16,
    "lenVar": 40
   },
   "kernels_config": {
    "python": {
     "delete_cmd_postfix": "",
     "delete_cmd_prefix": "del ",
     "library": "var_list.py",
     "varRefreshCmd": "print(var_dic_list())"
    },
    "r": {
     "delete_cmd_postfix": ") ",
     "delete_cmd_prefix": "rm(",
     "library": "var_list.r",
     "varRefreshCmd": "cat(var_dic_list()) "
    }
   },
   "types_to_exclude": [
    "module",
    "function",
    "builtin_function_or_method",
    "instance",
    "_Feature"
   ],
   "window_display": false
  }
 },
 "nbformat": 4,
 "nbformat_minor": 5
}

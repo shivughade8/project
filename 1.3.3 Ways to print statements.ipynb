{
 "cells": [
  {
   "cell_type": "markdown",
   "id": "faec1893",
   "metadata": {},
   "source": [
    "# print Statement execution"
   ]
  },
  {
   "cell_type": "code",
   "execution_count": 1,
   "id": "a363fb06",
   "metadata": {},
   "outputs": [],
   "source": [
    "a = 10\n",
    "b = 20"
   ]
  },
  {
   "cell_type": "markdown",
   "id": "caf39481",
   "metadata": {},
   "source": [
    "### simplest ways"
   ]
  },
  {
   "cell_type": "code",
   "execution_count": 2,
   "id": "c653fd00",
   "metadata": {},
   "outputs": [
    {
     "name": "stdout",
     "output_type": "stream",
     "text": [
      "10\n",
      "20\n"
     ]
    }
   ],
   "source": [
    "print(a)\n",
    "print(b)"
   ]
  },
  {
   "cell_type": "code",
   "execution_count": 3,
   "id": "417943b2",
   "metadata": {},
   "outputs": [
    {
     "name": "stdout",
     "output_type": "stream",
     "text": [
      "10 20\n"
     ]
    }
   ],
   "source": [
    "print(a,b)"
   ]
  },
  {
   "cell_type": "code",
   "execution_count": 4,
   "id": "d8b1dd57",
   "metadata": {},
   "outputs": [
    {
     "name": "stdout",
     "output_type": "stream",
     "text": [
      "value of a & b are 10 20\n"
     ]
    }
   ],
   "source": [
    "print('value of a & b are',a,b)"
   ]
  },
  {
   "cell_type": "code",
   "execution_count": 5,
   "id": "7c7bfc46",
   "metadata": {},
   "outputs": [
    {
     "name": "stdout",
     "output_type": "stream",
     "text": [
      "value of a & b are 10 & 20\n"
     ]
    }
   ],
   "source": [
    "print('value of a & b are',a,'&',b)"
   ]
  },
  {
   "cell_type": "markdown",
   "id": "901ad8e8",
   "metadata": {},
   "source": [
    "### using f string"
   ]
  },
  {
   "cell_type": "code",
   "execution_count": 6,
   "id": "703b186a",
   "metadata": {},
   "outputs": [
    {
     "name": "stdout",
     "output_type": "stream",
     "text": [
      "the value of a is {a} & b is {b}\n"
     ]
    }
   ],
   "source": [
    "print('the value of a is {a} & b is {b}')"
   ]
  },
  {
   "cell_type": "code",
   "execution_count": 7,
   "id": "8b4e3d1f",
   "metadata": {},
   "outputs": [
    {
     "name": "stdout",
     "output_type": "stream",
     "text": [
      "the value of a is 10 & b is 20\n"
     ]
    }
   ],
   "source": [
    "print(f'the value of a is {a} & b is {b}')"
   ]
  },
  {
   "cell_type": "code",
   "execution_count": 8,
   "id": "f19abc31",
   "metadata": {},
   "outputs": [
    {
     "name": "stdout",
     "output_type": "stream",
     "text": [
      "the value of a is 10 & b is 20\n"
     ]
    }
   ],
   "source": [
    "print(f'the value of a is {10} & b is {20}')"
   ]
  },
  {
   "cell_type": "markdown",
   "id": "5d2cf357",
   "metadata": {},
   "source": [
    "### .format string"
   ]
  },
  {
   "cell_type": "code",
   "execution_count": 11,
   "id": "76685db7",
   "metadata": {},
   "outputs": [
    {
     "name": "stdout",
     "output_type": "stream",
     "text": [
      "the value of a is 10 & b is 20\n"
     ]
    }
   ],
   "source": [
    "print('the value of a is {} & b is {}'.format(a,b))"
   ]
  },
  {
   "cell_type": "code",
   "execution_count": 13,
   "id": "c5d634a3",
   "metadata": {},
   "outputs": [
    {
     "name": "stdout",
     "output_type": "stream",
     "text": [
      "the value of b is 20 & a is 10\n"
     ]
    }
   ],
   "source": [
    "print('the value of b is {} & a is {}'.format(b,a))"
   ]
  },
  {
   "cell_type": "code",
   "execution_count": 14,
   "id": "019abe18",
   "metadata": {},
   "outputs": [
    {
     "name": "stdout",
     "output_type": "stream",
     "text": [
      "the value of b is 20 & a is 20\n"
     ]
    }
   ],
   "source": [
    "print('the value of b is {} & a is {}'.format(b,b))"
   ]
  },
  {
   "cell_type": "markdown",
   "id": "2bc1d46b",
   "metadata": {},
   "source": [
    "### using %"
   ]
  },
  {
   "cell_type": "code",
   "execution_count": 15,
   "id": "e9b85e80",
   "metadata": {},
   "outputs": [
    {
     "name": "stdout",
     "output_type": "stream",
     "text": [
      "the value of a is 10 & the value of b is 20\n"
     ]
    }
   ],
   "source": [
    "print('the value of a is %i & the value of b is %d'%(a,b))"
   ]
  },
  {
   "cell_type": "markdown",
   "id": "7405ef58",
   "metadata": {},
   "source": [
    "# use of f & r string together"
   ]
  },
  {
   "cell_type": "code",
   "execution_count": 21,
   "id": "183bcda4",
   "metadata": {},
   "outputs": [
    {
     "name": "stdout",
     "output_type": "stream",
     "text": [
      "take this no. 10 & \\n nothing more\n"
     ]
    }
   ],
   "source": [
    "x = 10\n",
    "\n",
    "# print('take this no. {x} & \\n nothing more')\n",
    "# print(r'take this no. {x} & \\n nothing more')\n",
    "# print(f'take this no. {x} & \\n nothing more')\n",
    "print(fr'take this no. {x} & \\n nothing more')"
   ]
  },
  {
   "cell_type": "code",
   "execution_count": 22,
   "id": "68a8c6c9",
   "metadata": {},
   "outputs": [
    {
     "name": "stdout",
     "output_type": "stream",
     "text": [
      "take this no. 10 & \\n nothing more\n"
     ]
    }
   ],
   "source": [
    "print(rf'take this no. {x} & \\n nothing more')"
   ]
  },
  {
   "cell_type": "code",
   "execution_count": null,
   "id": "3c7a911b",
   "metadata": {},
   "outputs": [],
   "source": []
  }
 ],
 "metadata": {
  "kernelspec": {
   "display_name": "Python 3 (ipykernel)",
   "language": "python",
   "name": "python3"
  },
  "language_info": {
   "codemirror_mode": {
    "name": "ipython",
    "version": 3
   },
   "file_extension": ".py",
   "mimetype": "text/x-python",
   "name": "python",
   "nbconvert_exporter": "python",
   "pygments_lexer": "ipython3",
   "version": "3.9.12"
  }
 },
 "nbformat": 4,
 "nbformat_minor": 5
}

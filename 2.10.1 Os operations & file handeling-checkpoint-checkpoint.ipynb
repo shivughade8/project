{
 "cells": [
  {
   "cell_type": "code",
   "execution_count": 1,
   "id": "2c81bd6d",
   "metadata": {},
   "outputs": [],
   "source": [
    "import os"
   ]
  },
  {
   "cell_type": "code",
   "execution_count": 2,
   "id": "5a1c315d",
   "metadata": {},
   "outputs": [
    {
     "data": {
      "text/plain": [
       "['DirEntry',\n",
       " 'F_OK',\n",
       " 'GenericAlias',\n",
       " 'Mapping',\n",
       " 'MutableMapping',\n",
       " 'O_APPEND',\n",
       " 'O_BINARY',\n",
       " 'O_CREAT',\n",
       " 'O_EXCL',\n",
       " 'O_NOINHERIT',\n",
       " 'O_RANDOM',\n",
       " 'O_RDONLY',\n",
       " 'O_RDWR',\n",
       " 'O_SEQUENTIAL',\n",
       " 'O_SHORT_LIVED',\n",
       " 'O_TEMPORARY',\n",
       " 'O_TEXT',\n",
       " 'O_TRUNC',\n",
       " 'O_WRONLY',\n",
       " 'P_DETACH',\n",
       " 'P_NOWAIT',\n",
       " 'P_NOWAITO',\n",
       " 'P_OVERLAY',\n",
       " 'P_WAIT',\n",
       " 'PathLike',\n",
       " 'R_OK',\n",
       " 'SEEK_CUR',\n",
       " 'SEEK_END',\n",
       " 'SEEK_SET',\n",
       " 'TMP_MAX',\n",
       " 'W_OK',\n",
       " 'X_OK',\n",
       " '_AddedDllDirectory',\n",
       " '_Environ',\n",
       " '__all__',\n",
       " '__builtins__',\n",
       " '__cached__',\n",
       " '__doc__',\n",
       " '__file__',\n",
       " '__loader__',\n",
       " '__name__',\n",
       " '__package__',\n",
       " '__spec__',\n",
       " '_check_methods',\n",
       " '_execvpe',\n",
       " '_exists',\n",
       " '_exit',\n",
       " '_fspath',\n",
       " '_get_exports_list',\n",
       " '_walk',\n",
       " '_wrap_close',\n",
       " 'abc',\n",
       " 'abort',\n",
       " 'access',\n",
       " 'add_dll_directory',\n",
       " 'altsep',\n",
       " 'chdir',\n",
       " 'chmod',\n",
       " 'close',\n",
       " 'closerange',\n",
       " 'cpu_count',\n",
       " 'curdir',\n",
       " 'defpath',\n",
       " 'device_encoding',\n",
       " 'devnull',\n",
       " 'dup',\n",
       " 'dup2',\n",
       " 'environ',\n",
       " 'error',\n",
       " 'execl',\n",
       " 'execle',\n",
       " 'execlp',\n",
       " 'execlpe',\n",
       " 'execv',\n",
       " 'execve',\n",
       " 'execvp',\n",
       " 'execvpe',\n",
       " 'extsep',\n",
       " 'fdopen',\n",
       " 'fsdecode',\n",
       " 'fsencode',\n",
       " 'fspath',\n",
       " 'fstat',\n",
       " 'fsync',\n",
       " 'ftruncate',\n",
       " 'get_exec_path',\n",
       " 'get_handle_inheritable',\n",
       " 'get_inheritable',\n",
       " 'get_terminal_size',\n",
       " 'getcwd',\n",
       " 'getcwdb',\n",
       " 'getenv',\n",
       " 'getlogin',\n",
       " 'getpid',\n",
       " 'getppid',\n",
       " 'isatty',\n",
       " 'kill',\n",
       " 'linesep',\n",
       " 'link',\n",
       " 'listdir',\n",
       " 'lseek',\n",
       " 'lstat',\n",
       " 'makedirs',\n",
       " 'mkdir',\n",
       " 'name',\n",
       " 'open',\n",
       " 'pardir',\n",
       " 'path',\n",
       " 'pathsep',\n",
       " 'pipe',\n",
       " 'popen',\n",
       " 'putenv',\n",
       " 'read',\n",
       " 'readlink',\n",
       " 'remove',\n",
       " 'removedirs',\n",
       " 'rename',\n",
       " 'renames',\n",
       " 'replace',\n",
       " 'rmdir',\n",
       " 'scandir',\n",
       " 'sep',\n",
       " 'set_handle_inheritable',\n",
       " 'set_inheritable',\n",
       " 'spawnl',\n",
       " 'spawnle',\n",
       " 'spawnv',\n",
       " 'spawnve',\n",
       " 'st',\n",
       " 'startfile',\n",
       " 'stat',\n",
       " 'stat_result',\n",
       " 'statvfs_result',\n",
       " 'strerror',\n",
       " 'supports_bytes_environ',\n",
       " 'supports_dir_fd',\n",
       " 'supports_effective_ids',\n",
       " 'supports_fd',\n",
       " 'supports_follow_symlinks',\n",
       " 'symlink',\n",
       " 'sys',\n",
       " 'system',\n",
       " 'terminal_size',\n",
       " 'times',\n",
       " 'times_result',\n",
       " 'truncate',\n",
       " 'umask',\n",
       " 'uname_result',\n",
       " 'unlink',\n",
       " 'unsetenv',\n",
       " 'urandom',\n",
       " 'utime',\n",
       " 'waitpid',\n",
       " 'waitstatus_to_exitcode',\n",
       " 'walk',\n",
       " 'write']"
      ]
     },
     "execution_count": 2,
     "metadata": {},
     "output_type": "execute_result"
    }
   ],
   "source": [
    "dir(os)"
   ]
  },
  {
   "cell_type": "markdown",
   "id": "9e691f28",
   "metadata": {},
   "source": [
    "# File Handeling"
   ]
  },
  {
   "cell_type": "raw",
   "id": "98e9c821",
   "metadata": {},
   "source": [
    "Syntax:\n",
    "    file = open('file_name','mode')\n",
    "    file.function()     # -- operation\n",
    "    file.close()\n",
    "    \n",
    "    \n",
    "with open(file_path,mode) as file:\n",
    "    file.function()    #-- operation\n",
    "    \n",
    "    \n",
    "default mode is read mode\n",
    "open returns a file object & mode decides what oepration should be done on that file\n",
    "    "
   ]
  },
  {
   "cell_type": "code",
   "execution_count": 3,
   "id": "22c0f556",
   "metadata": {},
   "outputs": [
    {
     "data": {
      "text/plain": [
       "'C:\\\\Users\\\\Pratik\\\\14 July B batch\\\\Module'"
      ]
     },
     "execution_count": 3,
     "metadata": {},
     "output_type": "execute_result"
    }
   ],
   "source": [
    "os.getcwd()"
   ]
  },
  {
   "cell_type": "markdown",
   "id": "e89e62f5",
   "metadata": {},
   "source": [
    "## Write"
   ]
  },
  {
   "cell_type": "raw",
   "id": "1e7f7dca",
   "metadata": {},
   "source": [
    "write >> 'w'\n",
    "creates a file is file does not exist\n",
    "if file exist then it overwrites the exiting file"
   ]
  },
  {
   "cell_type": "markdown",
   "id": "cc7a4150",
   "metadata": {},
   "source": [
    "### creating a file"
   ]
  },
  {
   "cell_type": "code",
   "execution_count": 3,
   "id": "3f033669",
   "metadata": {},
   "outputs": [],
   "source": [
    "file = open('first_file.txt','w')\n",
    "file.write('my first file')\n",
    "file.close()"
   ]
  },
  {
   "cell_type": "markdown",
   "id": "cecb3279",
   "metadata": {},
   "source": [
    "### overwriting the same file"
   ]
  },
  {
   "cell_type": "code",
   "execution_count": 5,
   "id": "6ff528ad",
   "metadata": {},
   "outputs": [],
   "source": [
    "file = open('first_file.txt','w')\n",
    "file.write('my 2nd attempt')\n",
    "file.close()"
   ]
  },
  {
   "cell_type": "markdown",
   "id": "49b986a8",
   "metadata": {},
   "source": [
    "### creating a file at any specific location"
   ]
  },
  {
   "cell_type": "code",
   "execution_count": 6,
   "id": "9f724a30",
   "metadata": {},
   "outputs": [],
   "source": [
    "file = open('C:/Users/Pratik/Workspace/second_file.txt','w')\n",
    "file.write('file created at another location')\n",
    "file.close()"
   ]
  },
  {
   "cell_type": "markdown",
   "id": "89ee9dfa",
   "metadata": {},
   "source": [
    "## x mode"
   ]
  },
  {
   "cell_type": "raw",
   "id": "b0f48e77",
   "metadata": {},
   "source": [
    "x mode>> 'x'\n",
    "If the file does not exist then it creates a new file & perform write operation\n",
    "If the file exist then it throws an error"
   ]
  },
  {
   "cell_type": "code",
   "execution_count": 8,
   "id": "9429a3c6",
   "metadata": {},
   "outputs": [],
   "source": [
    "file = open('x_mode.txt','x')\n",
    "file.write('X mode file')\n",
    "file.close()"
   ]
  },
  {
   "cell_type": "code",
   "execution_count": 9,
   "id": "864f49a9",
   "metadata": {},
   "outputs": [
    {
     "ename": "FileExistsError",
     "evalue": "[Errno 17] File exists: 'first_file.txt'",
     "output_type": "error",
     "traceback": [
      "\u001b[1;31m---------------------------------------------------------------------------\u001b[0m",
      "\u001b[1;31mFileExistsError\u001b[0m                           Traceback (most recent call last)",
      "\u001b[1;32m<ipython-input-9-ed9c4122cb1b>\u001b[0m in \u001b[0;36m<module>\u001b[1;34m\u001b[0m\n\u001b[1;32m----> 1\u001b[1;33m \u001b[0mfile\u001b[0m \u001b[1;33m=\u001b[0m \u001b[0mopen\u001b[0m\u001b[1;33m(\u001b[0m\u001b[1;34m'first_file.txt'\u001b[0m\u001b[1;33m,\u001b[0m\u001b[1;34m'x'\u001b[0m\u001b[1;33m)\u001b[0m\u001b[1;33m\u001b[0m\u001b[1;33m\u001b[0m\u001b[0m\n\u001b[0m\u001b[0;32m      2\u001b[0m \u001b[0mfile\u001b[0m\u001b[1;33m.\u001b[0m\u001b[0mwrite\u001b[0m\u001b[1;33m(\u001b[0m\u001b[1;34m'my 2nd attempt'\u001b[0m\u001b[1;33m)\u001b[0m\u001b[1;33m\u001b[0m\u001b[1;33m\u001b[0m\u001b[0m\n\u001b[0;32m      3\u001b[0m \u001b[0mfile\u001b[0m\u001b[1;33m.\u001b[0m\u001b[0mclose\u001b[0m\u001b[1;33m(\u001b[0m\u001b[1;33m)\u001b[0m\u001b[1;33m\u001b[0m\u001b[1;33m\u001b[0m\u001b[0m\n",
      "\u001b[1;31mFileExistsError\u001b[0m: [Errno 17] File exists: 'first_file.txt'"
     ]
    }
   ],
   "source": [
    "file = open('first_file.txt','x')\n",
    "file.write('my 2nd attempt')\n",
    "file.close()"
   ]
  },
  {
   "cell_type": "markdown",
   "id": "ebc045a2",
   "metadata": {},
   "source": [
    "## Append()"
   ]
  },
  {
   "cell_type": "raw",
   "id": "fca82182",
   "metadata": {},
   "source": [
    "append >> 'a'\n",
    "creates a file if file does not exist\n",
    "if file exist then it adds the data next to the data in file."
   ]
  },
  {
   "cell_type": "code",
   "execution_count": 5,
   "id": "5ef3a24a",
   "metadata": {},
   "outputs": [],
   "source": [
    "bank_details = \"\"\"Bank : HSBC\n",
    "Address: Mira Road, Mumbai\n",
    "Customer Number : 23473269\n",
    "Account type : Saving\"\"\"\n",
    "\n",
    "file = open('bank_details.txt','a')\n",
    "file.write(bank_details)\n",
    "file.close()"
   ]
  },
  {
   "cell_type": "code",
   "execution_count": 11,
   "id": "bf2eb039",
   "metadata": {},
   "outputs": [],
   "source": [
    "data = \"\"\"\\nBalance : 100000\n",
    "Type : Priority\"\"\"\n",
    "\n",
    "file = open('bank_details.txt','a')\n",
    "file.write(data)\n",
    "file.close()"
   ]
  },
  {
   "cell_type": "markdown",
   "id": "b901b165",
   "metadata": {},
   "source": [
    "## Read mode"
   ]
  },
  {
   "cell_type": "raw",
   "id": "8a896b5e",
   "metadata": {},
   "source": [
    "read >> 'r'\n",
    "default mode is read mode\n",
    "used to read the content of the file\n",
    "\n",
    "read()   -- reads the entire msg as it is. We can also pass the number of characters we want to read within read function.\n",
    "\n",
    "readline()  -- reads only 1 line\n",
    "\n",
    "readlines() -- will return a list consisting of all the lines in a string format"
   ]
  },
  {
   "cell_type": "markdown",
   "id": "a5dcd8f4",
   "metadata": {},
   "source": [
    "### read()"
   ]
  },
  {
   "cell_type": "code",
   "execution_count": 15,
   "id": "a212023d",
   "metadata": {},
   "outputs": [
    {
     "name": "stdout",
     "output_type": "stream",
     "text": [
      "Bank : HSBC\n",
      "Address: Mira Road, Mumbai\n",
      "Customer Number : 23473269\n",
      "Account type : Saving\n",
      "Balance : 100000\n",
      "Type : Priority\n"
     ]
    }
   ],
   "source": [
    "file = open('bank_details.txt','r')\n",
    "print(file.read())\n",
    "file.close()"
   ]
  },
  {
   "cell_type": "code",
   "execution_count": 16,
   "id": "cb3e5850",
   "metadata": {},
   "outputs": [
    {
     "name": "stdout",
     "output_type": "stream",
     "text": [
      "Bank : HSBC\n",
      "Address: Mira Road, Mumbai\n",
      "Customer Number : 23473269\n",
      "Account type : Saving\n",
      "Balance : 100000\n",
      "Type : Priority\n"
     ]
    }
   ],
   "source": [
    "file = open('bank_details.txt')\n",
    "print(file.read())\n",
    "file.close()"
   ]
  },
  {
   "cell_type": "code",
   "execution_count": 33,
   "id": "ef82f644",
   "metadata": {},
   "outputs": [
    {
     "name": "stdout",
     "output_type": "stream",
     "text": [
      "bank : hsbc\n",
      "address: mira road\n"
     ]
    }
   ],
   "source": [
    "file = open('bank_details.txt')\n",
    "print(file.read(30))      # read first 30 characters\n",
    "file.close()"
   ]
  },
  {
   "cell_type": "code",
   "execution_count": 7,
   "id": "568b9665",
   "metadata": {},
   "outputs": [
    {
     "name": "stdout",
     "output_type": "stream",
     "text": [
      "\n"
     ]
    }
   ],
   "source": [
    "file = open('bank_details.txt')\n",
    "x = file.read()\n",
    "print(x)\n",
    "file.close()"
   ]
  },
  {
   "cell_type": "code",
   "execution_count": 25,
   "id": "ede9b0b6",
   "metadata": {},
   "outputs": [
    {
     "name": "stdout",
     "output_type": "stream",
     "text": [
      "Address: Mira Road, Mumbai\n"
     ]
    }
   ],
   "source": [
    "for i in x.split('\\n'):\n",
    "    if 'Address' in i:\n",
    "        print(i)"
   ]
  },
  {
   "cell_type": "code",
   "execution_count": 6,
   "id": "c7635949",
   "metadata": {
    "scrolled": true
   },
   "outputs": [
    {
     "ename": "NameError",
     "evalue": "name 'x' is not defined",
     "output_type": "error",
     "traceback": [
      "\u001b[1;31m---------------------------------------------------------------------------\u001b[0m",
      "\u001b[1;31mNameError\u001b[0m                                 Traceback (most recent call last)",
      "Input \u001b[1;32mIn [6]\u001b[0m, in \u001b[0;36m<cell line: 2>\u001b[1;34m()\u001b[0m\n\u001b[0;32m      1\u001b[0m f \u001b[38;5;241m=\u001b[39m \u001b[38;5;28mopen\u001b[39m(\u001b[38;5;124m'\u001b[39m\u001b[38;5;124mbank_details.txt\u001b[39m\u001b[38;5;124m'\u001b[39m,\u001b[38;5;124m'\u001b[39m\u001b[38;5;124mw\u001b[39m\u001b[38;5;124m'\u001b[39m)\n\u001b[1;32m----> 2\u001b[0m f\u001b[38;5;241m.\u001b[39mwrite(\u001b[38;5;124m'\u001b[39m\u001b[38;5;130;01m\\n\u001b[39;00m\u001b[38;5;124m'\u001b[39m\u001b[38;5;241m.\u001b[39mjoin(\u001b[43mx\u001b[49m\u001b[38;5;241m.\u001b[39mlower()\u001b[38;5;241m.\u001b[39msplit(\u001b[38;5;124m'\u001b[39m\u001b[38;5;130;01m\\n\u001b[39;00m\u001b[38;5;124m'\u001b[39m)[:\u001b[38;5;241m-\u001b[39m\u001b[38;5;241m1\u001b[39m]))\n\u001b[0;32m      3\u001b[0m f\u001b[38;5;241m.\u001b[39mclose()\n",
      "\u001b[1;31mNameError\u001b[0m: name 'x' is not defined"
     ]
    }
   ],
   "source": [
    "f = open('bank_details.txt','w')\n",
    "f.write('\\n'.join(x.lower().split('\\n')[:-1]))\n",
    "f.close()"
   ]
  },
  {
   "cell_type": "markdown",
   "id": "11a19630",
   "metadata": {},
   "source": [
    "### Readline()"
   ]
  },
  {
   "cell_type": "markdown",
   "id": "a2da7311",
   "metadata": {},
   "source": [
    "### Readlines()"
   ]
  },
  {
   "cell_type": "code",
   "execution_count": 28,
   "id": "5e250351",
   "metadata": {},
   "outputs": [
    {
     "name": "stdout",
     "output_type": "stream",
     "text": [
      "['bank : hsbc\\n', 'address: mira road, mumbai\\n', 'customer number : 23473269\\n', 'account type : saving\\n', 'balance : 100000']\n"
     ]
    }
   ],
   "source": [
    "file = open('bank_details.txt')\n",
    "x = file.readlines()\n",
    "print(x)\n",
    "file.close()"
   ]
  },
  {
   "cell_type": "code",
   "execution_count": 29,
   "id": "6d2044e8",
   "metadata": {},
   "outputs": [
    {
     "data": {
      "text/plain": [
       "['bank : hsbc\\n',\n",
       " 'address: mira road, mumbai\\n',\n",
       " 'customer number : 23473269\\n',\n",
       " 'account type : saving\\n',\n",
       " 'balance : 100000']"
      ]
     },
     "execution_count": 29,
     "metadata": {},
     "output_type": "execute_result"
    }
   ],
   "source": [
    "x"
   ]
  },
  {
   "cell_type": "markdown",
   "id": "caf871b6",
   "metadata": {},
   "source": [
    "# r+"
   ]
  },
  {
   "cell_type": "raw",
   "id": "120f909d",
   "metadata": {},
   "source": [
    "it can be used for both writing as well as reading \n",
    "it can not be used for creating a file\n",
    "if only works on existing file\n",
    "if the file does not exist then it throws an error\n",
    "if then file exists then it performs the operations"
   ]
  },
  {
   "cell_type": "code",
   "execution_count": 34,
   "id": "1877df77",
   "metadata": {},
   "outputs": [
    {
     "name": "stdout",
     "output_type": "stream",
     "text": [
      "bank : hsbc\n",
      "address: mira road, mumbai\n",
      "customer number : 23473269\n",
      "account type : saving\n",
      "balance : 100000\n"
     ]
    }
   ],
   "source": [
    "file = open('bank_details.txt','r+')\n",
    "x = file.read()\n",
    "print(x)\n",
    "file.close()"
   ]
  },
  {
   "cell_type": "code",
   "execution_count": 35,
   "id": "8dbd0cf5",
   "metadata": {},
   "outputs": [
    {
     "ename": "FileNotFoundError",
     "evalue": "[Errno 2] No such file or directory: 'bank.txt'",
     "output_type": "error",
     "traceback": [
      "\u001b[1;31m---------------------------------------------------------------------------\u001b[0m",
      "\u001b[1;31mFileNotFoundError\u001b[0m                         Traceback (most recent call last)",
      "\u001b[1;32m<ipython-input-35-a0185cb2369e>\u001b[0m in \u001b[0;36m<module>\u001b[1;34m\u001b[0m\n\u001b[1;32m----> 1\u001b[1;33m \u001b[0mfile\u001b[0m \u001b[1;33m=\u001b[0m \u001b[0mopen\u001b[0m\u001b[1;33m(\u001b[0m\u001b[1;34m'bank.txt'\u001b[0m\u001b[1;33m,\u001b[0m\u001b[1;34m'r+'\u001b[0m\u001b[1;33m)\u001b[0m\u001b[1;33m\u001b[0m\u001b[1;33m\u001b[0m\u001b[0m\n\u001b[0m\u001b[0;32m      2\u001b[0m \u001b[0mx\u001b[0m \u001b[1;33m=\u001b[0m \u001b[0mfile\u001b[0m\u001b[1;33m.\u001b[0m\u001b[0mread\u001b[0m\u001b[1;33m(\u001b[0m\u001b[1;33m)\u001b[0m\u001b[1;33m\u001b[0m\u001b[1;33m\u001b[0m\u001b[0m\n\u001b[0;32m      3\u001b[0m \u001b[0mprint\u001b[0m\u001b[1;33m(\u001b[0m\u001b[0mx\u001b[0m\u001b[1;33m)\u001b[0m\u001b[1;33m\u001b[0m\u001b[1;33m\u001b[0m\u001b[0m\n\u001b[0;32m      4\u001b[0m \u001b[0mfile\u001b[0m\u001b[1;33m.\u001b[0m\u001b[0mclose\u001b[0m\u001b[1;33m(\u001b[0m\u001b[1;33m)\u001b[0m\u001b[1;33m\u001b[0m\u001b[1;33m\u001b[0m\u001b[0m\n",
      "\u001b[1;31mFileNotFoundError\u001b[0m: [Errno 2] No such file or directory: 'bank.txt'"
     ]
    }
   ],
   "source": [
    "file = open('bank.txt','r+')\n",
    "x = file.read()\n",
    "print(x)\n",
    "file.close()"
   ]
  },
  {
   "cell_type": "code",
   "execution_count": 38,
   "id": "fd846de8",
   "metadata": {},
   "outputs": [],
   "source": [
    "file = open('first_file.txt','r+')\n",
    "file.write('Hello welcome to class')\n",
    "file.close()"
   ]
  },
  {
   "cell_type": "code",
   "execution_count": 39,
   "id": "4dbdfd01",
   "metadata": {},
   "outputs": [],
   "source": [
    "file = open('first_file.txt','r+')\n",
    "file.seek(1)                  # mention index from where you want to perform read write operation\n",
    "file.write('Hello welcome to class')\n",
    "file.close()"
   ]
  },
  {
   "cell_type": "code",
   "execution_count": 41,
   "id": "4f3289de",
   "metadata": {},
   "outputs": [
    {
     "name": "stdout",
     "output_type": "stream",
     "text": [
      "Hello welcome to classs\n"
     ]
    }
   ],
   "source": [
    "file = open('first_file.txt','r+')\n",
    "print(file.read())\n",
    "file.seek(30)                  # mention index from where you want to perform read write operation\n",
    "file.write('Hello welcome to class')\n",
    "file.close()"
   ]
  },
  {
   "cell_type": "code",
   "execution_count": 49,
   "id": "805f8752",
   "metadata": {},
   "outputs": [
    {
     "name": "stdout",
     "output_type": "stream",
     "text": [
      "Hello welcome to class\n"
     ]
    }
   ],
   "source": [
    "file = open('first_file.txt','r+')\n",
    "file.seek(0)                  # mention index from where you want to perform read write operation\n",
    "file.write('Hello welcome to class')\n",
    "file.seek(30)\n",
    "print(file.read())\n",
    "file.close()"
   ]
  },
  {
   "cell_type": "markdown",
   "id": "f72490f7",
   "metadata": {},
   "source": [
    "### W+"
   ]
  },
  {
   "cell_type": "code",
   "execution_count": 50,
   "id": "1e044929",
   "metadata": {},
   "outputs": [],
   "source": [
    "file = open('w+ file.txt','w+')\n",
    "file.write('Hi')\n",
    "file.close()"
   ]
  },
  {
   "cell_type": "code",
   "execution_count": 58,
   "id": "9b36308c",
   "metadata": {},
   "outputs": [],
   "source": [
    "file = open('w+ file.txt','w+')\n",
    "file.write('Hello')\n",
    "file.close()"
   ]
  },
  {
   "cell_type": "code",
   "execution_count": 65,
   "id": "7bd26694",
   "metadata": {},
   "outputs": [
    {
     "name": "stdout",
     "output_type": "stream",
     "text": [
      "Hello\n"
     ]
    }
   ],
   "source": [
    "file = open('w+ file.txt','w+')\n",
    "file.write('Hello')\n",
    "file.seek(0)\n",
    "print(file.read())\n",
    "file.close()"
   ]
  },
  {
   "cell_type": "markdown",
   "id": "b51902b5",
   "metadata": {},
   "source": [
    "### a+"
   ]
  },
  {
   "cell_type": "code",
   "execution_count": 66,
   "id": "ee27360b",
   "metadata": {},
   "outputs": [],
   "source": [
    "file = open('a+ file.txt','a+')\n",
    "file.write('Ho')\n",
    "file.close()"
   ]
  },
  {
   "cell_type": "code",
   "execution_count": 67,
   "id": "92837ab0",
   "metadata": {},
   "outputs": [],
   "source": [
    "file = open('a+ file.txt','a+')\n",
    "file.write('Hollywood')\n",
    "file.close()"
   ]
  },
  {
   "cell_type": "code",
   "execution_count": 69,
   "id": "e838d205",
   "metadata": {},
   "outputs": [
    {
     "name": "stdout",
     "output_type": "stream",
     "text": [
      "HoHollywoodHollywoodHollywood\n"
     ]
    }
   ],
   "source": [
    "file = open('a+ file.txt','a+')\n",
    "file.write('Hollywood')\n",
    "file.seek(0)\n",
    "print(file.read())\n",
    "file.close()"
   ]
  },
  {
   "cell_type": "code",
   "execution_count": 70,
   "id": "16affc2d",
   "metadata": {
    "scrolled": true
   },
   "outputs": [
    {
     "data": {
      "image/png": "[encoded data removed]",
      "text/plain": [
       "<IPython.core.display.Image object>"
      ]
     },
     "execution_count": 70,
     "metadata": {},
     "output_type": "execute_result"
    }
   ],
   "source": [
    "from IPython.display import Image\n",
    "Image('modes.png')"
   ]
  },
  {
   "cell_type": "markdown",
   "id": "9410c076",
   "metadata": {},
   "source": [
    "# With open"
   ]
  },
  {
   "cell_type": "raw",
   "id": "2e4efc5d",
   "metadata": {},
   "source": [
    "while using with open, we need not close the file separatly"
   ]
  },
  {
   "cell_type": "code",
   "execution_count": 71,
   "id": "37e7990c",
   "metadata": {},
   "outputs": [],
   "source": [
    "with open('with open.txt','w+') as file_ptr:\n",
    "    file_ptr.write('using with open function')"
   ]
  },
  {
   "cell_type": "code",
   "execution_count": 73,
   "id": "4c0f60a2",
   "metadata": {},
   "outputs": [
    {
     "name": "stdout",
     "output_type": "stream",
     "text": [
      "using with open function\n"
     ]
    }
   ],
   "source": [
    "with open('with open.txt','r+') as file_ptr:\n",
    "    print(file_ptr.read())"
   ]
  },
  {
   "cell_type": "code",
   "execution_count": null,
   "id": "a855f13d",
   "metadata": {},
   "outputs": [],
   "source": []
  }
 ],
 "metadata": {
  "kernelspec": {
   "display_name": "Python 3 (ipykernel)",
   "language": "python",
   "name": "python3"
  },
  "language_info": {
   "codemirror_mode": {
    "name": "ipython",
    "version": 3
   },
   "file_extension": ".py",
   "mimetype": "text/x-python",
   "name": "python",
   "nbconvert_exporter": "python",
   "pygments_lexer": "ipython3",
   "version": "3.9.12"
  },
  "toc": {
   "base_numbering": 1,
   "nav_menu": {},
   "number_sections": true,
   "sideBar": true,
   "skip_h1_title": false,
   "title_cell": "Table of Contents",
   "title_sidebar": "Contents",
   "toc_cell": false,
   "toc_position": {},
   "toc_section_display": true,
   "toc_window_display": false
  },
  "varInspector": {
   "cols": {
    "lenName": 16,
    "lenType": 16,
    "lenVar": 40
   },
   "kernels_config": {
    "python": {
     "delete_cmd_postfix": "",
     "delete_cmd_prefix": "del ",
     "library": "var_list.py",
     "varRefreshCmd": "print(var_dic_list())"
    },
    "r": {
     "delete_cmd_postfix": ") ",
     "delete_cmd_prefix": "rm(",
     "library": "var_list.r",
     "varRefreshCmd": "cat(var_dic_list()) "
    }
   },
   "types_to_exclude": [
    "module",
    "function",
    "builtin_function_or_method",
    "instance",
    "_Feature"
   ],
   "window_display": false
  }
 },
 "nbformat": 4,
 "nbformat_minor": 5
}

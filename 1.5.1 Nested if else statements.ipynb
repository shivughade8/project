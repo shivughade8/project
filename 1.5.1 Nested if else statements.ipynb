{
 "cells": [
  {
   "cell_type": "raw",
   "id": "96c71038",
   "metadata": {},
   "source": [
    "Within 1 if, we have another if else block"
   ]
  },
  {
   "cell_type": "code",
   "execution_count": 6,
   "id": "79b6bbd1",
   "metadata": {},
   "outputs": [
    {
     "name": "stdout",
     "output_type": "stream",
     "text": [
      "give away any score: 35\n",
      "Falied! Study Hard next time!\n"
     ]
    }
   ],
   "source": [
    "score = eval(input('give away any score: '))\n",
    "\n",
    "if score <= 100 and score > 0:\n",
    "    if score >= 66:\n",
    "        print('Congratulations, passed with distinction!')\n",
    "    else:\n",
    "        if score >= 60:\n",
    "            print('Passed with First class!')\n",
    "        else:\n",
    "            if score >= 40:\n",
    "                print('Passed with second class!')\n",
    "            else:\n",
    "                print('Falied! Study Hard next time!')   \n",
    "else:\n",
    "    print('Invalid number or negative score')"
   ]
  },
  {
   "cell_type": "code",
   "execution_count": 13,
   "id": "c736a0a0",
   "metadata": {},
   "outputs": [
    {
     "name": "stdout",
     "output_type": "stream",
     "text": [
      "give away any score: 55\n",
      "Passed with second class!\n"
     ]
    }
   ],
   "source": [
    "score = eval(input('give away any score: '))\n",
    "\n",
    "if score <= 100 and score > 0:\n",
    "    if score < 66:\n",
    "        if score < 60:\n",
    "            if score < 40:\n",
    "                print('Falied! Study Hard next time!') \n",
    "            elif score>40:\n",
    "                print('Passed with second class!')\n",
    "        else:\n",
    "            print('Passed with First class!')\n",
    "    else:\n",
    "         print('Congratulations, passed with distinction!')             \n",
    "else:\n",
    "    print('Invalid number or negative score')"
   ]
  },
  {
   "cell_type": "raw",
   "id": "466e8913",
   "metadata": {},
   "source": [
    "WAP to mention that a candidate was approved of a loan from the bank based on the few attributes\n",
    "\n",
    "Age > 18\n",
    "Income > 10000\n",
    "cibil score > 750"
   ]
  },
  {
   "cell_type": "code",
   "execution_count": 16,
   "id": "e0b225ad",
   "metadata": {},
   "outputs": [
    {
     "name": "stdout",
     "output_type": "stream",
     "text": [
      " enter your age:45\n",
      "enter your income:150000\n",
      "enter your civil:560\n",
      "civil score is low, loan denied!\n"
     ]
    }
   ],
   "source": [
    "age = int(input(' enter your age:'))\n",
    "income = eval(input('enter your income:'))\n",
    "civil = eval(input('enter your civil:'))\n",
    "if age>=18:\n",
    "    if income>= 10000:\n",
    "        if civil>=750:\n",
    "            print('loan approved')\n",
    "        else:\n",
    "            print('civil score is low, loan denied!')\n",
    "    else:\n",
    "        print('income is low, loan denied!')\n",
    "else:\n",
    "    print('age less than 18, loan denied!')"
   ]
  },
  {
   "cell_type": "markdown",
   "id": "69bbae49",
   "metadata": {},
   "source": [
    "# one liner if else"
   ]
  },
  {
   "cell_type": "code",
   "execution_count": 17,
   "id": "58526bba",
   "metadata": {},
   "outputs": [
    {
     "name": "stdout",
     "output_type": "stream",
     "text": [
      "a exist\n"
     ]
    }
   ],
   "source": [
    "a = 10\n",
    "\n",
    "if a:\n",
    "    print('a exist')\n",
    "else:\n",
    "    print('a does not exist!')"
   ]
  },
  {
   "cell_type": "code",
   "execution_count": 18,
   "id": "36cd2755",
   "metadata": {},
   "outputs": [
    {
     "name": "stdout",
     "output_type": "stream",
     "text": [
      "a exist\n",
      "Thank You!\n"
     ]
    }
   ],
   "source": [
    "\n",
    "if a:\n",
    "    print('a exist')\n",
    "    print('Thank You!')\n",
    "else:\n",
    "    print('a does not exist!')"
   ]
  },
  {
   "cell_type": "code",
   "execution_count": 19,
   "id": "13cec27c",
   "metadata": {},
   "outputs": [
    {
     "name": "stdout",
     "output_type": "stream",
     "text": [
      "a exist\n"
     ]
    }
   ],
   "source": [
    "if a:print('a exist')\n",
    "else:print('a does not exist!')"
   ]
  },
  {
   "cell_type": "code",
   "execution_count": 20,
   "id": "a7d58129",
   "metadata": {},
   "outputs": [
    {
     "ename": "IndentationError",
     "evalue": "unexpected indent (4051385850.py, line 2)",
     "output_type": "error",
     "traceback": [
      "\u001b[1;36m  Input \u001b[1;32mIn [20]\u001b[1;36m\u001b[0m\n\u001b[1;33m    print('thank you')\u001b[0m\n\u001b[1;37m    ^\u001b[0m\n\u001b[1;31mIndentationError\u001b[0m\u001b[1;31m:\u001b[0m unexpected indent\n"
     ]
    }
   ],
   "source": [
    "if a:print('a exist')\n",
    "    print('thank you')\n",
    "else:print('a does not exist!')"
   ]
  },
  {
   "cell_type": "code",
   "execution_count": 21,
   "id": "7db0fb37",
   "metadata": {},
   "outputs": [
    {
     "name": "stdout",
     "output_type": "stream",
     "text": [
      "a exist\n"
     ]
    }
   ],
   "source": [
    "print('a exist') if a else print('a does not exist!')"
   ]
  },
  {
   "cell_type": "code",
   "execution_count": 23,
   "id": "38fc2a90",
   "metadata": {},
   "outputs": [
    {
     "name": "stdout",
     "output_type": "stream",
     "text": [
      "both are same\n"
     ]
    }
   ],
   "source": [
    "a = 10\n",
    "b = 10\n",
    "\n",
    "print('both are same') if a==b or a>b else print('not same bruh!')"
   ]
  },
  {
   "cell_type": "code",
   "execution_count": 31,
   "id": "11384841",
   "metadata": {},
   "outputs": [],
   "source": [
    "a = 10\n",
    "b = 10\n",
    "\n",
    "a=a-5 if a==b or a>b else print(f\"value of a is {a-10}\")"
   ]
  },
  {
   "cell_type": "code",
   "execution_count": 32,
   "id": "673e127b",
   "metadata": {},
   "outputs": [
    {
     "data": {
      "text/plain": [
       "5"
      ]
     },
     "execution_count": 32,
     "metadata": {},
     "output_type": "execute_result"
    }
   ],
   "source": [
    "a"
   ]
  },
  {
   "cell_type": "code",
   "execution_count": 25,
   "id": "6a845285",
   "metadata": {},
   "outputs": [
    {
     "name": "stdout",
     "output_type": "stream",
     "text": [
      "(95, 995)\n"
     ]
    }
   ],
   "source": [
    "a = 10\n",
    "b = 10\n",
    "\n",
    "def reduce_value(a,b):\n",
    "    a = a**2\n",
    "    b = b**3\n",
    "    return a-5,b-5\n",
    "\n",
    "print(reduce_value(a,b)) if a==b or a>b else print('not same bruh!')"
   ]
  },
  {
   "cell_type": "code",
   "execution_count": null,
   "id": "171a1467",
   "metadata": {},
   "outputs": [],
   "source": []
  }
 ],
 "metadata": {
  "kernelspec": {
   "display_name": "Python 3 (ipykernel)",
   "language": "python",
   "name": "python3"
  },
  "language_info": {
   "codemirror_mode": {
    "name": "ipython",
    "version": 3
   },
   "file_extension": ".py",
   "mimetype": "text/x-python",
   "name": "python",
   "nbconvert_exporter": "python",
   "pygments_lexer": "ipython3",
   "version": "3.9.12"
  }
 },
 "nbformat": 4,
 "nbformat_minor": 5
}

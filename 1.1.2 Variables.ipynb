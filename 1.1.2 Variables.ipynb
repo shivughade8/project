{
 "cells": [
  {
   "cell_type": "markdown",
   "id": "7a05cc79",
   "metadata": {},
   "source": [
    "# Feature of Python:"
   ]
  },
  {
   "cell_type": "raw",
   "id": "fc9c2c07",
   "metadata": {},
   "source": [
    "designed by : Guido Van Rossum in 20 Feb 1991.\n",
    "    & the first version of python was 0.9.0\n",
    "    & the current version of python is 3.10.5"
   ]
  },
  {
   "cell_type": "raw",
   "id": "c053b786",
   "metadata": {},
   "source": [
    "Why Python?\n",
    "\n",
    "1. Simplest language amongst all languages.\n",
    "2. Simple to learn, simple to debug.\n",
    "3. Free & Open source.\n",
    "4. Globally available.\n",
    "5. It has a vast library support.\n",
    "6. Almost 70-75% of the data scientist use python as their primary programming language.\n",
    "7. Programming friendly language. (easy to write, read & script)\n",
    "8. Python is interprited language.\n",
    "9. Most Widly used lamguage.\n",
    "10. It supports Procedural programming concept & object oriented programing concept. (Functions & class)\n",
    "11. Dynamically Typed languauge. (We need not mention the data type of the variable).\n",
    "No need for variable data type declaration.\n",
    "12. Most simplest language. Almost feels like we are reading english."
   ]
  },
  {
   "cell_type": "code",
   "execution_count": 1,
   "id": "2c7ab6fe",
   "metadata": {},
   "outputs": [
    {
     "data": {
      "text/plain": [
       "80001"
      ]
     },
     "execution_count": 1,
     "metadata": {},
     "output_type": "execute_result"
    }
   ],
   "source": [
    "23425 + 56576"
   ]
  },
  {
   "cell_type": "code",
   "execution_count": 2,
   "id": "7cb761fa",
   "metadata": {},
   "outputs": [
    {
     "data": {
      "text/plain": [
       "-33151"
      ]
     },
     "execution_count": 2,
     "metadata": {},
     "output_type": "execute_result"
    }
   ],
   "source": [
    "23425 - 56576"
   ]
  },
  {
   "cell_type": "code",
   "execution_count": 3,
   "id": "3c145984",
   "metadata": {},
   "outputs": [
    {
     "data": {
      "text/plain": [
       "4685.0"
      ]
     },
     "execution_count": 3,
     "metadata": {},
     "output_type": "execute_result"
    }
   ],
   "source": [
    "23425/5"
   ]
  },
  {
   "cell_type": "code",
   "execution_count": 4,
   "id": "de18af3a",
   "metadata": {},
   "outputs": [
    {
     "data": {
      "text/plain": [
       "117125"
      ]
     },
     "execution_count": 4,
     "metadata": {},
     "output_type": "execute_result"
    }
   ],
   "source": [
    "23425*5"
   ]
  },
  {
   "cell_type": "code",
   "execution_count": null,
   "id": "11a2b89b",
   "metadata": {},
   "outputs": [],
   "source": [
    "4685.0 + 10"
   ]
  },
  {
   "cell_type": "markdown",
   "id": "aac65677",
   "metadata": {},
   "source": [
    "# Variables"
   ]
  },
  {
   "cell_type": "raw",
   "id": "c041c0f6",
   "metadata": {},
   "source": [
    "Defination : Variables are containers to store the data or information."
   ]
  },
  {
   "cell_type": "code",
   "execution_count": 5,
   "id": "6d4c9b70",
   "metadata": {},
   "outputs": [
    {
     "data": {
      "text/plain": [
       "80001"
      ]
     },
     "execution_count": 5,
     "metadata": {},
     "output_type": "execute_result"
    }
   ],
   "source": [
    "23425 + 56576"
   ]
  },
  {
   "cell_type": "code",
   "execution_count": 6,
   "id": "76dcda73",
   "metadata": {},
   "outputs": [],
   "source": [
    "myvariable = 23425 + 56576"
   ]
  },
  {
   "cell_type": "code",
   "execution_count": 7,
   "id": "e9e353e5",
   "metadata": {},
   "outputs": [
    {
     "data": {
      "text/plain": [
       "80001"
      ]
     },
     "execution_count": 7,
     "metadata": {},
     "output_type": "execute_result"
    }
   ],
   "source": [
    "myvariable"
   ]
  },
  {
   "cell_type": "raw",
   "id": "eb3e55da",
   "metadata": {},
   "source": [
    "Rules to define a variable:\n",
    "    1. Letters (A-Z, a-z, 0-9)\n",
    "    2. It should not start with numbers(0-9).\n",
    "    3. It can not contain any special character (!,@,#,$,%,,^,&,*,|) except (_)\n",
    "    4. Case Sensitive. (The sequence of uppercase & lowercase has to be maintained.)\n",
    "    5. It should not be any reserved word (and, or, class, if, else, elif, True, False, def, None)\n",
    "    6. Multiple variables can be used in single line using , or ;\n",
    "    "
   ]
  },
  {
   "cell_type": "code",
   "execution_count": 8,
   "id": "45840f87",
   "metadata": {},
   "outputs": [],
   "source": [
    "value = 100"
   ]
  },
  {
   "cell_type": "code",
   "execution_count": 9,
   "id": "73d59944",
   "metadata": {},
   "outputs": [
    {
     "data": {
      "text/plain": [
       "100"
      ]
     },
     "execution_count": 9,
     "metadata": {},
     "output_type": "execute_result"
    }
   ],
   "source": [
    "value"
   ]
  },
  {
   "cell_type": "code",
   "execution_count": 10,
   "id": "cf579b80",
   "metadata": {},
   "outputs": [
    {
     "data": {
      "text/plain": [
       "200"
      ]
     },
     "execution_count": 10,
     "metadata": {},
     "output_type": "execute_result"
    }
   ],
   "source": [
    "VALUE = 200\n",
    "VALUE"
   ]
  },
  {
   "cell_type": "code",
   "execution_count": 12,
   "id": "a2d1a40f",
   "metadata": {},
   "outputs": [
    {
     "data": {
      "text/plain": [
       "300"
      ]
     },
     "execution_count": 12,
     "metadata": {},
     "output_type": "execute_result"
    }
   ],
   "source": [
    "NEWvalue = 300\n",
    "NEWvalue"
   ]
  },
  {
   "cell_type": "code",
   "execution_count": 13,
   "id": "8384d8d5",
   "metadata": {},
   "outputs": [
    {
     "data": {
      "text/plain": [
       "400"
      ]
     },
     "execution_count": 13,
     "metadata": {},
     "output_type": "execute_result"
    }
   ],
   "source": [
    "NEWvalue4 = 400\n",
    "NEWvalue4"
   ]
  },
  {
   "cell_type": "code",
   "execution_count": 14,
   "id": "2f215229",
   "metadata": {},
   "outputs": [
    {
     "ename": "SyntaxError",
     "evalue": "invalid syntax (2643310618.py, line 1)",
     "output_type": "error",
     "traceback": [
      "\u001b[1;36m  Input \u001b[1;32mIn [14]\u001b[1;36m\u001b[0m\n\u001b[1;33m    4NEWvalue = 400\u001b[0m\n\u001b[1;37m     ^\u001b[0m\n\u001b[1;31mSyntaxError\u001b[0m\u001b[1;31m:\u001b[0m invalid syntax\n"
     ]
    }
   ],
   "source": [
    "# should not start with numbers\n",
    "4NEWvalue = 400\n",
    "4NEWvalue"
   ]
  },
  {
   "cell_type": "code",
   "execution_count": 15,
   "id": "7d89bfab",
   "metadata": {},
   "outputs": [
    {
     "ename": "SyntaxError",
     "evalue": "invalid syntax (3207138995.py, line 1)",
     "output_type": "error",
     "traceback": [
      "\u001b[1;36m  Input \u001b[1;32mIn [15]\u001b[1;36m\u001b[0m\n\u001b[1;33m    &hello = 111\u001b[0m\n\u001b[1;37m    ^\u001b[0m\n\u001b[1;31mSyntaxError\u001b[0m\u001b[1;31m:\u001b[0m invalid syntax\n"
     ]
    }
   ],
   "source": [
    "# special characters not allowed\n",
    "&hello = 111"
   ]
  },
  {
   "cell_type": "code",
   "execution_count": 17,
   "id": "446bd650",
   "metadata": {},
   "outputs": [
    {
     "ename": "SyntaxError",
     "evalue": "cannot assign to operator (1535653729.py, line 1)",
     "output_type": "error",
     "traceback": [
      "\u001b[1;36m  Input \u001b[1;32mIn [17]\u001b[1;36m\u001b[0m\n\u001b[1;33m    he%llo = 111\u001b[0m\n\u001b[1;37m    ^\u001b[0m\n\u001b[1;31mSyntaxError\u001b[0m\u001b[1;31m:\u001b[0m cannot assign to operator\n"
     ]
    }
   ],
   "source": [
    "he$llo = 111"
   ]
  },
  {
   "cell_type": "code",
   "execution_count": 18,
   "id": "22474210",
   "metadata": {},
   "outputs": [
    {
     "ename": "SyntaxError",
     "evalue": "cannot assign to operator (1535653729.py, line 1)",
     "output_type": "error",
     "traceback": [
      "\u001b[1;36m  Input \u001b[1;32mIn [18]\u001b[1;36m\u001b[0m\n\u001b[1;33m    he%llo = 111\u001b[0m\n\u001b[1;37m    ^\u001b[0m\n\u001b[1;31mSyntaxError\u001b[0m\u001b[1;31m:\u001b[0m cannot assign to operator\n"
     ]
    }
   ],
   "source": [
    "\n",
    "he%llo = 111"
   ]
  },
  {
   "cell_type": "code",
   "execution_count": 19,
   "id": "c63fe0c6",
   "metadata": {},
   "outputs": [],
   "source": [
    "he_llo = 111"
   ]
  },
  {
   "cell_type": "code",
   "execution_count": 20,
   "id": "f2da24c4",
   "metadata": {},
   "outputs": [
    {
     "data": {
      "text/plain": [
       "111"
      ]
     },
     "execution_count": 20,
     "metadata": {},
     "output_type": "execute_result"
    }
   ],
   "source": [
    "he_llo"
   ]
  },
  {
   "cell_type": "code",
   "execution_count": 21,
   "id": "539f637f",
   "metadata": {},
   "outputs": [
    {
     "data": {
      "text/plain": [
       "1000"
      ]
     },
     "execution_count": 21,
     "metadata": {},
     "output_type": "execute_result"
    }
   ],
   "source": [
    "# can start with underscore\n",
    "_hi = 1000\n",
    "_hi"
   ]
  },
  {
   "cell_type": "code",
   "execution_count": 22,
   "id": "1c6615a4",
   "metadata": {},
   "outputs": [
    {
     "ename": "SyntaxError",
     "evalue": "invalid syntax (2676541535.py, line 1)",
     "output_type": "error",
     "traceback": [
      "\u001b[1;36m  Input \u001b[1;32mIn [22]\u001b[1;36m\u001b[0m\n\u001b[1;33m    hi hello = 555\u001b[0m\n\u001b[1;37m       ^\u001b[0m\n\u001b[1;31mSyntaxError\u001b[0m\u001b[1;31m:\u001b[0m invalid syntax\n"
     ]
    }
   ],
   "source": [
    "# space special character not allowed\n",
    "hi hello = 555\n",
    "hi hello"
   ]
  },
  {
   "cell_type": "code",
   "execution_count": 23,
   "id": "048d3fe4",
   "metadata": {},
   "outputs": [
    {
     "ename": "NameError",
     "evalue": "name 'a_B' is not defined",
     "output_type": "error",
     "traceback": [
      "\u001b[1;31m---------------------------------------------------------------------------\u001b[0m",
      "\u001b[1;31mNameError\u001b[0m                                 Traceback (most recent call last)",
      "Input \u001b[1;32mIn [23]\u001b[0m, in \u001b[0;36m<cell line: 2>\u001b[1;34m()\u001b[0m\n\u001b[0;32m      1\u001b[0m A_B \u001b[38;5;241m=\u001b[39m \u001b[38;5;241m9\u001b[39m\n\u001b[1;32m----> 2\u001b[0m \u001b[43ma_B\u001b[49m\n",
      "\u001b[1;31mNameError\u001b[0m: name 'a_B' is not defined"
     ]
    }
   ],
   "source": [
    "A_B = 9\n",
    "a_B"
   ]
  },
  {
   "cell_type": "code",
   "execution_count": 25,
   "id": "6ed82538",
   "metadata": {},
   "outputs": [
    {
     "ename": "NameError",
     "evalue": "name 'a_b' is not defined",
     "output_type": "error",
     "traceback": [
      "\u001b[1;31m---------------------------------------------------------------------------\u001b[0m",
      "\u001b[1;31mNameError\u001b[0m                                 Traceback (most recent call last)",
      "Input \u001b[1;32mIn [25]\u001b[0m, in \u001b[0;36m<cell line: 2>\u001b[1;34m()\u001b[0m\n\u001b[0;32m      1\u001b[0m A_B \u001b[38;5;241m=\u001b[39m \u001b[38;5;241m9\u001b[39m\n\u001b[1;32m----> 2\u001b[0m \u001b[43ma_b\u001b[49m\n",
      "\u001b[1;31mNameError\u001b[0m: name 'a_b' is not defined"
     ]
    }
   ],
   "source": [
    "# Case sensitive\n",
    "A_B = 9\n",
    "a_b"
   ]
  },
  {
   "cell_type": "code",
   "execution_count": 24,
   "id": "69025417",
   "metadata": {},
   "outputs": [
    {
     "data": {
      "text/plain": [
       "9"
      ]
     },
     "execution_count": 24,
     "metadata": {},
     "output_type": "execute_result"
    }
   ],
   "source": [
    "A_B = 9\n",
    "A_B"
   ]
  },
  {
   "cell_type": "code",
   "execution_count": 26,
   "id": "f9fef82d",
   "metadata": {},
   "outputs": [
    {
     "ename": "SyntaxError",
     "evalue": "invalid syntax (4031382265.py, line 1)",
     "output_type": "error",
     "traceback": [
      "\u001b[1;36m  Input \u001b[1;32mIn [26]\u001b[1;36m\u001b[0m\n\u001b[1;33m    class = 66\u001b[0m\n\u001b[1;37m          ^\u001b[0m\n\u001b[1;31mSyntaxError\u001b[0m\u001b[1;31m:\u001b[0m invalid syntax\n"
     ]
    }
   ],
   "source": [
    "# reserved words that are in bold greeb color are not allowed as variables.\n",
    "class = 66\n",
    "class"
   ]
  },
  {
   "cell_type": "code",
   "execution_count": 27,
   "id": "57ad0228",
   "metadata": {},
   "outputs": [
    {
     "ename": "SyntaxError",
     "evalue": "invalid syntax (1380859439.py, line 1)",
     "output_type": "error",
     "traceback": [
      "\u001b[1;36m  Input \u001b[1;32mIn [27]\u001b[1;36m\u001b[0m\n\u001b[1;33m    import = 1234\u001b[0m\n\u001b[1;37m           ^\u001b[0m\n\u001b[1;31mSyntaxError\u001b[0m\u001b[1;31m:\u001b[0m invalid syntax\n"
     ]
    }
   ],
   "source": [
    "import = 1234\n",
    "import"
   ]
  },
  {
   "cell_type": "code",
   "execution_count": 28,
   "id": "107fb594",
   "metadata": {},
   "outputs": [
    {
     "data": {
      "text/plain": [
       "10"
      ]
     },
     "execution_count": 28,
     "metadata": {},
     "output_type": "execute_result"
    }
   ],
   "source": [
    "x,y = 10,20\n",
    "\n",
    "x"
   ]
  },
  {
   "cell_type": "code",
   "execution_count": 29,
   "id": "a9698eec",
   "metadata": {},
   "outputs": [
    {
     "data": {
      "text/plain": [
       "20"
      ]
     },
     "execution_count": 29,
     "metadata": {},
     "output_type": "execute_result"
    }
   ],
   "source": [
    "y"
   ]
  },
  {
   "cell_type": "code",
   "execution_count": 30,
   "id": "e10a05a3",
   "metadata": {},
   "outputs": [],
   "source": [
    "x = 15; y = 25"
   ]
  },
  {
   "cell_type": "code",
   "execution_count": 31,
   "id": "473b4911",
   "metadata": {},
   "outputs": [
    {
     "data": {
      "text/plain": [
       "15"
      ]
     },
     "execution_count": 31,
     "metadata": {},
     "output_type": "execute_result"
    }
   ],
   "source": [
    "x"
   ]
  },
  {
   "cell_type": "code",
   "execution_count": 32,
   "id": "b673c310",
   "metadata": {},
   "outputs": [
    {
     "data": {
      "text/plain": [
       "25"
      ]
     },
     "execution_count": 32,
     "metadata": {},
     "output_type": "execute_result"
    }
   ],
   "source": [
    "y"
   ]
  },
  {
   "cell_type": "code",
   "execution_count": 35,
   "id": "0db8943c",
   "metadata": {},
   "outputs": [
    {
     "data": {
      "text/plain": [
       "30"
      ]
     },
     "execution_count": 35,
     "metadata": {},
     "output_type": "execute_result"
    }
   ],
   "source": [
    "x = y = 30\n",
    "x"
   ]
  },
  {
   "cell_type": "code",
   "execution_count": 36,
   "id": "37aa2a46",
   "metadata": {},
   "outputs": [
    {
     "data": {
      "text/plain": [
       "30"
      ]
     },
     "execution_count": 36,
     "metadata": {},
     "output_type": "execute_result"
    }
   ],
   "source": [
    "y"
   ]
  },
  {
   "cell_type": "code",
   "execution_count": 37,
   "id": "fc39e808",
   "metadata": {},
   "outputs": [],
   "source": [
    "James_bond_007 = 7"
   ]
  },
  {
   "cell_type": "code",
   "execution_count": 38,
   "id": "34fe4a7d",
   "metadata": {},
   "outputs": [
    {
     "data": {
      "text/plain": [
       "'hi'"
      ]
     },
     "execution_count": 38,
     "metadata": {},
     "output_type": "execute_result"
    }
   ],
   "source": [
    "Elif = 'hi'\n",
    "Elif"
   ]
  },
  {
   "cell_type": "code",
   "execution_count": null,
   "id": "e39faa3c",
   "metadata": {},
   "outputs": [],
   "source": [
    "MYVAR >> Valid\n",
    "myvar >> valid\n",
    "MyVar >> Valid\n",
    "_myVar >> valid\n",
    "0myvar >> Invalid\n",
    "007James_bond >> Invalid\n",
    "James-bond007 >> Invalid\n",
    "James bond 007 >> Invalid\n",
    "James_bond_007 >> Valid\n",
    "My^Var >> Invalid\n",
    "import >> Invalid\n",
    "elif >> Invalid\n",
    "Elif >> Valid"
   ]
  }
 ],
 "metadata": {
  "kernelspec": {
   "display_name": "Python 3 (ipykernel)",
   "language": "python",
   "name": "python3"
  },
  "language_info": {
   "codemirror_mode": {
    "name": "ipython",
    "version": 3
   },
   "file_extension": ".py",
   "mimetype": "text/x-python",
   "name": "python",
   "nbconvert_exporter": "python",
   "pygments_lexer": "ipython3",
   "version": "3.9.12"
  }
 },
 "nbformat": 4,
 "nbformat_minor": 5
}

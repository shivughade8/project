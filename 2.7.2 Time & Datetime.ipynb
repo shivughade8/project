{
 "cells": [
  {
   "cell_type": "code",
   "execution_count": 1,
   "id": "878a2bf6",
   "metadata": {},
   "outputs": [],
   "source": [
    "import time\n",
    "import datetime"
   ]
  },
  {
   "cell_type": "markdown",
   "id": "23b485b1",
   "metadata": {},
   "source": [
    "# time.time()"
   ]
  },
  {
   "cell_type": "code",
   "execution_count": 4,
   "id": "e8959548",
   "metadata": {},
   "outputs": [
    {
     "data": {
      "text/plain": [
       "1660103878.6115532"
      ]
     },
     "execution_count": 4,
     "metadata": {},
     "output_type": "execute_result"
    }
   ],
   "source": [
    "time.time()"
   ]
  },
  {
   "cell_type": "raw",
   "id": "4caa5d13",
   "metadata": {},
   "source": [
    "- it shows the time that has passed since 1970 in seconds"
   ]
  },
  {
   "cell_type": "code",
   "execution_count": 6,
   "id": "b991073c",
   "metadata": {},
   "outputs": [
    {
     "data": {
      "text/plain": [
       "2.810281991958618"
      ]
     },
     "execution_count": 6,
     "metadata": {},
     "output_type": "execute_result"
    }
   ],
   "source": [
    "start_time = time.time()\n",
    "\n",
    "for i in range(100000000):\n",
    "    pass\n",
    "\n",
    "end_time = time.time()\n",
    "\n",
    "diff = end_time-start_time\n",
    "diff"
   ]
  },
  {
   "cell_type": "code",
   "execution_count": 7,
   "id": "d8fbef3e",
   "metadata": {},
   "outputs": [
    {
     "name": "stdout",
     "output_type": "stream",
     "text": [
      "Wall time: 2.7 s\n"
     ]
    }
   ],
   "source": [
    "%%time\n",
    "\n",
    "for i in range(100000000):\n",
    "    pass\n"
   ]
  },
  {
   "cell_type": "markdown",
   "id": "0572a340",
   "metadata": {},
   "source": [
    "# Datetime()"
   ]
  },
  {
   "cell_type": "code",
   "execution_count": 8,
   "id": "4b2a112e",
   "metadata": {},
   "outputs": [
    {
     "name": "stdout",
     "output_type": "stream",
     "text": [
      "2022-08-10 09:30:34.980751\n"
     ]
    }
   ],
   "source": [
    "print(datetime.datetime.now())"
   ]
  },
  {
   "cell_type": "code",
   "execution_count": 9,
   "id": "d79ff371",
   "metadata": {},
   "outputs": [
    {
     "data": {
      "text/plain": [
       "datetime.datetime(2022, 8, 10, 9, 31, 25, 88701)"
      ]
     },
     "execution_count": 9,
     "metadata": {},
     "output_type": "execute_result"
    }
   ],
   "source": [
    "current_date = datetime.datetime.today()\n",
    "current_date"
   ]
  },
  {
   "cell_type": "code",
   "execution_count": 11,
   "id": "c72d29ec",
   "metadata": {},
   "outputs": [
    {
     "name": "stdout",
     "output_type": "stream",
     "text": [
      "2022-08-10 09:31:25.088701\n"
     ]
    }
   ],
   "source": [
    "print(current_date)"
   ]
  },
  {
   "cell_type": "code",
   "execution_count": 12,
   "id": "3db65a3c",
   "metadata": {},
   "outputs": [
    {
     "name": "stdout",
     "output_type": "stream",
     "text": [
      "2022-08-10\n"
     ]
    }
   ],
   "source": [
    "print(current_date.date())"
   ]
  },
  {
   "cell_type": "code",
   "execution_count": 13,
   "id": "1c6546ce",
   "metadata": {},
   "outputs": [
    {
     "name": "stdout",
     "output_type": "stream",
     "text": [
      "09:31:25.088701\n"
     ]
    }
   ],
   "source": [
    "print(current_date.time())"
   ]
  },
  {
   "cell_type": "code",
   "execution_count": 17,
   "id": "c7d48be7",
   "metadata": {},
   "outputs": [
    {
     "name": "stdout",
     "output_type": "stream",
     "text": [
      "2022\n"
     ]
    }
   ],
   "source": [
    "print(current_date.year)"
   ]
  },
  {
   "cell_type": "code",
   "execution_count": 18,
   "id": "bf04023a",
   "metadata": {},
   "outputs": [
    {
     "name": "stdout",
     "output_type": "stream",
     "text": [
      "8\n"
     ]
    }
   ],
   "source": [
    "print(current_date.month)"
   ]
  },
  {
   "cell_type": "code",
   "execution_count": 19,
   "id": "c59d305b",
   "metadata": {},
   "outputs": [
    {
     "name": "stdout",
     "output_type": "stream",
     "text": [
      "10\n"
     ]
    }
   ],
   "source": [
    "print(current_date.day)"
   ]
  },
  {
   "cell_type": "code",
   "execution_count": 20,
   "id": "f048886f",
   "metadata": {},
   "outputs": [
    {
     "name": "stdout",
     "output_type": "stream",
     "text": [
      "9\n"
     ]
    }
   ],
   "source": [
    "print(current_date.hour)"
   ]
  },
  {
   "cell_type": "code",
   "execution_count": 22,
   "id": "66630f2a",
   "metadata": {},
   "outputs": [
    {
     "name": "stdout",
     "output_type": "stream",
     "text": [
      "31\n"
     ]
    }
   ],
   "source": [
    "print(current_date.minute)"
   ]
  },
  {
   "cell_type": "code",
   "execution_count": 23,
   "id": "900703ea",
   "metadata": {},
   "outputs": [
    {
     "name": "stdout",
     "output_type": "stream",
     "text": [
      "25\n"
     ]
    }
   ],
   "source": [
    "print(current_date.second)"
   ]
  },
  {
   "cell_type": "raw",
   "id": "1c158e55",
   "metadata": {},
   "source": [
    "Syntax for creating any date:\n",
    "    \n",
    "datetime(year,month,day,hour,minutes,seconds,miliseconds)\n",
    "\n",
    "Eg: datetime.datetime(2022, 8, 10, 9, 31, 25, 88701)"
   ]
  },
  {
   "cell_type": "code",
   "execution_count": 24,
   "id": "6b502539",
   "metadata": {},
   "outputs": [
    {
     "name": "stdout",
     "output_type": "stream",
     "text": [
      "2012-03-19 12:45:34\n"
     ]
    }
   ],
   "source": [
    "some_date = datetime.datetime(2012,3,19,12,45,34)\n",
    "print(some_date)"
   ]
  },
  {
   "cell_type": "code",
   "execution_count": 25,
   "id": "fe4ff6d3",
   "metadata": {},
   "outputs": [
    {
     "name": "stdout",
     "output_type": "stream",
     "text": [
      "2012-03-19 00:00:00\n"
     ]
    }
   ],
   "source": [
    "some_date = datetime.datetime(2012,3,19)\n",
    "print(some_date)"
   ]
  },
  {
   "cell_type": "code",
   "execution_count": 26,
   "id": "ac194c77",
   "metadata": {},
   "outputs": [
    {
     "data": {
      "text/plain": [
       "datetime.timedelta(days=3796, seconds=34285, microseconds=88701)"
      ]
     },
     "execution_count": 26,
     "metadata": {},
     "output_type": "execute_result"
    }
   ],
   "source": [
    "current_date-some_date"
   ]
  },
  {
   "cell_type": "code",
   "execution_count": 27,
   "id": "8c0e43ec",
   "metadata": {},
   "outputs": [
    {
     "name": "stdout",
     "output_type": "stream",
     "text": [
      "3796 days, 9:31:25.088701\n"
     ]
    }
   ],
   "source": [
    "print(current_date-some_date)"
   ]
  },
  {
   "cell_type": "code",
   "execution_count": 30,
   "id": "8fbefeb9",
   "metadata": {},
   "outputs": [],
   "source": [
    "from dateutil.relativedelta import relativedelta\n"
   ]
  },
  {
   "cell_type": "code",
   "execution_count": 31,
   "id": "d65f1411",
   "metadata": {},
   "outputs": [
    {
     "data": {
      "text/plain": [
       "relativedelta(years=+10, months=+4, days=+22, hours=+9, minutes=+31, seconds=+25, microseconds=+88701)"
      ]
     },
     "execution_count": 31,
     "metadata": {},
     "output_type": "execute_result"
    }
   ],
   "source": [
    "diff = relativedelta(current_date, some_date)\n",
    "diff"
   ]
  },
  {
   "cell_type": "code",
   "execution_count": 32,
   "id": "262f4967",
   "metadata": {},
   "outputs": [
    {
     "data": {
      "text/plain": [
       "10"
      ]
     },
     "execution_count": 32,
     "metadata": {},
     "output_type": "execute_result"
    }
   ],
   "source": [
    "diff.years"
   ]
  },
  {
   "cell_type": "code",
   "execution_count": 33,
   "id": "6edcde7d",
   "metadata": {},
   "outputs": [
    {
     "data": {
      "text/plain": [
       "4"
      ]
     },
     "execution_count": 33,
     "metadata": {},
     "output_type": "execute_result"
    }
   ],
   "source": [
    "diff.months"
   ]
  },
  {
   "cell_type": "code",
   "execution_count": 34,
   "id": "e1f6feaf",
   "metadata": {},
   "outputs": [
    {
     "data": {
      "text/plain": [
       "22"
      ]
     },
     "execution_count": 34,
     "metadata": {},
     "output_type": "execute_result"
    }
   ],
   "source": [
    "diff.days"
   ]
  },
  {
   "cell_type": "code",
   "execution_count": 35,
   "id": "0203f937",
   "metadata": {},
   "outputs": [
    {
     "data": {
      "text/plain": [
       "9"
      ]
     },
     "execution_count": 35,
     "metadata": {},
     "output_type": "execute_result"
    }
   ],
   "source": [
    "diff.hours"
   ]
  },
  {
   "cell_type": "code",
   "execution_count": 37,
   "id": "cf6397ec",
   "metadata": {},
   "outputs": [
    {
     "data": {
      "text/plain": [
       "31"
      ]
     },
     "execution_count": 37,
     "metadata": {},
     "output_type": "execute_result"
    }
   ],
   "source": [
    "diff.minutes"
   ]
  },
  {
   "cell_type": "code",
   "execution_count": 38,
   "id": "0814f5c3",
   "metadata": {},
   "outputs": [
    {
     "name": "stdout",
     "output_type": "stream",
     "text": [
      "2050-08-10 09:45:34\n"
     ]
    }
   ],
   "source": [
    "future_date = datetime.datetime(2050,8,10,9,45,34)\n",
    "print(future_date)"
   ]
  },
  {
   "cell_type": "markdown",
   "id": "341b3af6",
   "metadata": {},
   "source": [
    "# Strftime()"
   ]
  },
  {
   "cell_type": "raw",
   "id": "67667cbd",
   "metadata": {},
   "source": [
    "strftime >> strftimeing from time object\n",
    "it returns a string"
   ]
  },
  {
   "cell_type": "code",
   "execution_count": null,
   "id": "41d68aa7",
   "metadata": {},
   "outputs": [],
   "source": [
    "# List of all different strf formats\n",
    "\n",
    "*current_date.strftime('%Y')       # 2022\n",
    "*current_date.strftime('%y')       # 22 current_date\n",
    "*current_date.strftime('%d')       # Date\n",
    "*current_date.strftime('%m')       # Month in digits\n",
    "*current_date.strftime('%b')       # Abbrivated month in alphabets (feb)\n",
    "*current_date.strftime('%B')       # complete month name in alphabets (february)\n",
    "*current_date.strftime('%D')       # Date in format(months/date/year)\n",
    "*current_date.strftime('%a')       # Abbrivated weekday in alphabets (mon)\n",
    "*current_date.strftime('%A')       # complete day name in alphabets (Monday)\n",
    "current_date.strftime('%w')       # weekday in number (sun = 0, mon = 1...)\n",
    "current_date.strftime('%u')       # weekday number in that week (sun considered as 1 & mon also 1)\n",
    "current_date.strftime('%U')       # week number in that year\n",
    "current_date.strftime('%e')       # day of the month (1 to 31) / date\n",
    "current_date.strftime('%j')       # day number in that year\n",
    "current_date.strftime('%p')       # shows am/pm format\n",
    "*current_date.strftime('%M')       # Shows the minutes in number\n",
    "*current_date.strftime('%H')       # hours in digits\n",
    "current_date.strftime('%S')       # seconds in time format\n",
    "*current_date.strftime('%r')       # time in hour,minutes,seconds along with Am/Pm\n",
    "*current_date.strftime('%R')       # time in hour & minutes only in 24 hour format\n",
    "current_date.strftime('%c')       # Day abbrivated, Month Abbrivated, date number, time & year\n",
    "current_date.strftime('%x')       # date in / format (same as %D)\n",
    "current_date.strftime('%X')       # time in hour, minute, second only\n",
    "\n",
    "\n"
   ]
  },
  {
   "cell_type": "code",
   "execution_count": 41,
   "id": "bb5a5ec8",
   "metadata": {},
   "outputs": [
    {
     "name": "stdout",
     "output_type": "stream",
     "text": [
      "2022-08-10 09:31:25.088701\n"
     ]
    }
   ],
   "source": [
    "print(current_date)"
   ]
  },
  {
   "cell_type": "code",
   "execution_count": 39,
   "id": "6f82d17f",
   "metadata": {},
   "outputs": [
    {
     "name": "stdout",
     "output_type": "stream",
     "text": [
      "2022\n",
      "22\n",
      "10\n",
      "08\n",
      "Aug\n",
      "August\n",
      "08/10/22\n"
     ]
    }
   ],
   "source": [
    "print(current_date.strftime('%Y'))       # 2022\n",
    "print(current_date.strftime('%y'))       # 22 current_date\n",
    "print(current_date.strftime('%d'))       # Date\n",
    "print(current_date.strftime('%m'))       # Month in digits\n",
    "print(current_date.strftime('%b'))       # Abbrivated month in alphabets (feb)\n",
    "print(current_date.strftime('%B'))       # complete month name in alphabets (february)\n",
    "print(current_date.strftime('%D'))       # month/date/year"
   ]
  },
  {
   "cell_type": "code",
   "execution_count": 42,
   "id": "c93393a3",
   "metadata": {},
   "outputs": [
    {
     "name": "stdout",
     "output_type": "stream",
     "text": [
      "Wed\n",
      "Wednesday\n",
      "3\n",
      "3\n",
      "32\n"
     ]
    }
   ],
   "source": [
    "print(current_date.strftime('%a'))       # Abbrivated weekday in alphabets (mon)\n",
    "print(current_date.strftime('%A'))       # complete Week name in alphabets (feb)\n",
    "print(current_date.strftime('%w'))       # weekday in number (sun = 0, mon = 1...)\n",
    "print(current_date.strftime('%u'))       # weekday number in that week (sun considered as 1 & mon also 1)\n",
    "print(current_date.strftime('%U'))       # week number in that year"
   ]
  },
  {
   "cell_type": "code",
   "execution_count": 46,
   "id": "c904b39d",
   "metadata": {},
   "outputs": [
    {
     "name": "stdout",
     "output_type": "stream",
     "text": [
      "222\n"
     ]
    }
   ],
   "source": [
    "print(current_date.strftime('%j'))      # day number in that year)"
   ]
  },
  {
   "cell_type": "code",
   "execution_count": 52,
   "id": "0e16c00b",
   "metadata": {},
   "outputs": [
    {
     "name": "stdout",
     "output_type": "stream",
     "text": [
      "31\n",
      "09\n",
      "25\n",
      "AM\n",
      "09:31:25 AM\n",
      "09:31\n",
      "Wed Aug 10 09:31:25 2022\n",
      "08/10/22\n",
      "09:31:25\n"
     ]
    }
   ],
   "source": [
    "print(current_date.strftime('%M') )      # Shows the minutes in number\n",
    "print(current_date.strftime('%H'))       # hours in digits\n",
    "print(current_date.strftime('%S')  )     # seconds in time format\n",
    "print(current_date.strftime('%p')  )     # shows am/pm format\n",
    "print(current_date.strftime('%r') )      # time in hour,minutes,seconds along with Am/Pm\n",
    "print(current_date.strftime('%R')   )    # time in hour & minutes only in 24 hour format\n",
    "print(current_date.strftime('%c')  )     # Day abbrivated, Month Abbrivated, date number, time & year\n",
    "print(current_date.strftime('%x'))       # date in / format (same as %D)\n",
    "print(current_date.strftime('%X')   )    # time in hour:minutes:seconds in 24 hour format"
   ]
  },
  {
   "cell_type": "code",
   "execution_count": null,
   "id": "8e0d648a",
   "metadata": {},
   "outputs": [],
   "source": [
    "Directive\n",
    "%a - abbreviated weekday name\n",
    "\n",
    "%A - full weekday name\n",
    "\n",
    "%b - abbreviated month name\n",
    "\n",
    "%B - full month name\n",
    "\n",
    "%c - preferred date and time representation\n",
    "\n",
    "%C - century number (the year divided by 100, range 00 to 99)\n",
    "\n",
    "%d - day of the month (01 to 31)\n",
    "\n",
    "%D - same as %m/%d/%y\n",
    "\n",
    "%e - day of the month (1 to 31)\n",
    "\n",
    "%g - like %G, but without the century\n",
    "\n",
    "%G - 4-digit year corresponding to the ISO week number (see %V).\n",
    "\n",
    "%h - same as %b\n",
    "\n",
    "%H - hour, using a 24-hour clock (00 to 23)\n",
    "\n",
    "%I - hour, using a 12-hour clock (01 to 12)\n",
    "\n",
    "%j - day of the year (001 to 366)\n",
    "\n",
    "%m - month (01 to 12)\n",
    "\n",
    "%M - minute\n",
    "\n",
    "%n - newline character\n",
    "\n",
    "%p - either am or pm according to the given time value\n",
    "\n",
    "%r - time in a.m. and p.m. notation\n",
    "\n",
    "%R - time in 24 hour notation\n",
    "\n",
    "%S - second\n",
    "\n",
    "%t - tab character\n",
    "\n",
    "%T - current time, equal to %H:%M:%S\n",
    "\n",
    "%u - weekday as a number (1 to 7), Monday=1. Warning: In Sun Solaris Sunday=1\n",
    "\n",
    "%U - week number of the current year, starting with the first Sunday as the first day of the first week\n",
    "\n",
    "%V - The ISO 8601 week number of the current year (01 to 53), where week 1 is the first week that has at least 4 days in the current year, and with Monday as the first day of the week\n",
    "\n",
    "%W - week number of the current year, starting with the first Monday as the first day of the first week\n",
    "\n",
    "%w - day of the week as a decimal, Sunday=0\n",
    "\n",
    "%x - preferred date representation without the time\n",
    "\n",
    "%X - preferred time representation without the date\n",
    "\n",
    "%y - year without a century (range 00 to 99)\n",
    "\n",
    "%Y - year including the century\n",
    "\n",
    "%Z or %z - time zone or name or abbreviation\n",
    "\n",
    "%% - a literal % character"
   ]
  },
  {
   "cell_type": "code",
   "execution_count": null,
   "id": "164c257f",
   "metadata": {},
   "outputs": [],
   "source": [
    "date = 15/8/2022\n",
    "date = 15-8-2022\n",
    "date = 15-Aug-22\n",
    "date = 15.8.2022\n",
    "date = 15,8,22"
   ]
  },
  {
   "cell_type": "code",
   "execution_count": 53,
   "id": "55d3d674",
   "metadata": {},
   "outputs": [
    {
     "data": {
      "text/plain": [
       "'2022,8,15'"
      ]
     },
     "execution_count": 53,
     "metadata": {},
     "output_type": "execute_result"
    }
   ],
   "source": [
    "date = '15/8/2022'\n",
    "lis= date.split('/')\n",
    "','.join(lis[::-1])\n"
   ]
  },
  {
   "cell_type": "code",
   "execution_count": 56,
   "id": "3db07d3a",
   "metadata": {},
   "outputs": [
    {
     "name": "stdout",
     "output_type": "stream",
     "text": [
      "2022-08-15 00:00:00\n"
     ]
    }
   ],
   "source": [
    "my_date = datetime.datetime(2022,8,15)\n",
    "print(my_date)"
   ]
  },
  {
   "cell_type": "code",
   "execution_count": 57,
   "id": "7462c68e",
   "metadata": {},
   "outputs": [
    {
     "data": {
      "text/plain": [
       "2022"
      ]
     },
     "execution_count": 57,
     "metadata": {},
     "output_type": "execute_result"
    }
   ],
   "source": [
    "my_date.year"
   ]
  },
  {
   "cell_type": "code",
   "execution_count": 58,
   "id": "c26c5a27",
   "metadata": {},
   "outputs": [
    {
     "data": {
      "text/plain": [
       "'2022'"
      ]
     },
     "execution_count": 58,
     "metadata": {},
     "output_type": "execute_result"
    }
   ],
   "source": [
    "my_date.strftime('%Y')"
   ]
  },
  {
   "cell_type": "markdown",
   "id": "56d692e1",
   "metadata": {},
   "source": [
    "# Strptime()"
   ]
  },
  {
   "cell_type": "raw",
   "id": "daceb7f1",
   "metadata": {},
   "source": [
    "strptime >> string parsing time/ string point to time\n",
    "\n",
    "strptime >> create a datetime object from any given string of date & timer"
   ]
  },
  {
   "cell_type": "code",
   "execution_count": 61,
   "id": "bbc65e47",
   "metadata": {},
   "outputs": [
    {
     "name": "stdout",
     "output_type": "stream",
     "text": [
      "2022-04-01 00:00:00\n"
     ]
    }
   ],
   "source": [
    "date = '1 Apr 2022'\n",
    "\n",
    "converted_date = datetime.datetime.strptime(date,'%d %b %Y')\n",
    "print(converted_date)"
   ]
  },
  {
   "cell_type": "code",
   "execution_count": 62,
   "id": "4ce8fcb8",
   "metadata": {},
   "outputs": [
    {
     "name": "stdout",
     "output_type": "stream",
     "text": [
      "2022-04-01 00:00:00\n"
     ]
    }
   ],
   "source": [
    "date = '1/4/22'\n",
    "\n",
    "converted_date = datetime.datetime.strptime(date,'%d/%m/%y')\n",
    "print(converted_date)"
   ]
  },
  {
   "cell_type": "code",
   "execution_count": 63,
   "id": "f7b1422a",
   "metadata": {},
   "outputs": [
    {
     "name": "stdout",
     "output_type": "stream",
     "text": [
      "2000-08-22 00:00:00\n"
     ]
    }
   ],
   "source": [
    "date = '2000-Aug 22'\n",
    "\n",
    "converted_date = datetime.datetime.strptime(date,'%Y-%b %d')\n",
    "print(converted_date)"
   ]
  },
  {
   "cell_type": "code",
   "execution_count": 64,
   "id": "891ce7c6",
   "metadata": {},
   "outputs": [
    {
     "name": "stdout",
     "output_type": "stream",
     "text": [
      "1993-08-22 00:00:00\n"
     ]
    }
   ],
   "source": [
    "date = 'Aug,22,1993'\n",
    "\n",
    "converted_date = datetime.datetime.strptime(date,'%b,%d,%Y')\n",
    "print(converted_date)"
   ]
  },
  {
   "cell_type": "code",
   "execution_count": 65,
   "id": "7feb7544",
   "metadata": {},
   "outputs": [
    {
     "data": {
      "text/plain": [
       "'Sunday'"
      ]
     },
     "execution_count": 65,
     "metadata": {},
     "output_type": "execute_result"
    }
   ],
   "source": [
    "converted_date.strftime('%A')"
   ]
  },
  {
   "cell_type": "code",
   "execution_count": 67,
   "id": "3c84415b",
   "metadata": {},
   "outputs": [
    {
     "data": {
      "text/plain": [
       "'08/22/93'"
      ]
     },
     "execution_count": 67,
     "metadata": {},
     "output_type": "execute_result"
    }
   ],
   "source": [
    "converted_date.strftime('%x')"
   ]
  },
  {
   "cell_type": "code",
   "execution_count": 70,
   "id": "28a69ebc",
   "metadata": {},
   "outputs": [
    {
     "name": "stdout",
     "output_type": "stream",
     "text": [
      "00:00:00\n"
     ]
    }
   ],
   "source": [
    "print(converted_date.time())"
   ]
  },
  {
   "cell_type": "code",
   "execution_count": 69,
   "id": "8cc7a1e1",
   "metadata": {},
   "outputs": [
    {
     "name": "stdout",
     "output_type": "stream",
     "text": [
      "1993-08-22\n"
     ]
    }
   ],
   "source": [
    "print(converted_date.date())"
   ]
  },
  {
   "cell_type": "code",
   "execution_count": 71,
   "id": "12c28f79",
   "metadata": {},
   "outputs": [
    {
     "name": "stdout",
     "output_type": "stream",
     "text": [
      "2022-08-15 00:00:00\n",
      "2021-06-05 00:00:00\n",
      "2021-09-25 00:00:00\n",
      "2020-09-19 00:00:00\n",
      "2022-08-02 00:00:00\n",
      "2022-07-15 00:00:00\n",
      "1994-08-15 00:00:00\n"
     ]
    }
   ],
   "source": [
    "date_list = ['15/8/2022','5-6-21','25-9-2021','1992020','2/8/22','15-Jul-2022','15/Aug/94']\n",
    "\n",
    "date_formats = ['%d/%m/%Y','%d-%m-%Y','%d-%b-%Y','%d/%b/%y','%d-%B-%y','%d-%m-%y','%d/%m/%y','%d%m%Y']\n",
    "\n",
    "for date in date_list:\n",
    "    for formats in date_formats:\n",
    "        try:\n",
    "            print(datetime.datetime.strptime(date,formats))\n",
    "        except:\n",
    "            pass"
   ]
  },
  {
   "cell_type": "markdown",
   "id": "e85a97e9",
   "metadata": {},
   "source": [
    "# Timedelta()"
   ]
  },
  {
   "cell_type": "code",
   "execution_count": null,
   "id": "071ca1b4",
   "metadata": {},
   "outputs": [],
   "source": [
    "timedelta(days=0, seconds=0, microseconds=0, milliseconds=0, minutes=0, hours=0, weeks=0)"
   ]
  },
  {
   "cell_type": "code",
   "execution_count": 72,
   "id": "d698680b",
   "metadata": {},
   "outputs": [
    {
     "name": "stdout",
     "output_type": "stream",
     "text": [
      "2022-08-10 10:19:55.210237\n"
     ]
    }
   ],
   "source": [
    "current_date = datetime.datetime.now()\n",
    "print(current_date)"
   ]
  },
  {
   "cell_type": "code",
   "execution_count": 74,
   "id": "ca86e1d8",
   "metadata": {},
   "outputs": [
    {
     "name": "stdout",
     "output_type": "stream",
     "text": [
      "2022-07-31 10:19:55.210237\n"
     ]
    }
   ],
   "source": [
    "that_date = current_date-datetime.timedelta(days=10)\n",
    "print(that_date)"
   ]
  },
  {
   "cell_type": "code",
   "execution_count": 75,
   "id": "70312d0f",
   "metadata": {},
   "outputs": [
    {
     "name": "stdout",
     "output_type": "stream",
     "text": [
      "2022-09-04 10:19:55.210237\n"
     ]
    }
   ],
   "source": [
    "that_date = current_date+datetime.timedelta(days=25)\n",
    "print(that_date)"
   ]
  },
  {
   "cell_type": "code",
   "execution_count": 76,
   "id": "f7caacbd",
   "metadata": {},
   "outputs": [
    {
     "name": "stdout",
     "output_type": "stream",
     "text": [
      "2022-08-31 10:19:55.210237\n"
     ]
    }
   ],
   "source": [
    "that_date = current_date+datetime.timedelta(weeks=3)\n",
    "print(that_date)"
   ]
  },
  {
   "cell_type": "code",
   "execution_count": 78,
   "id": "0803edb3",
   "metadata": {},
   "outputs": [
    {
     "name": "stdout",
     "output_type": "stream",
     "text": [
      "2022-05-18\n"
     ]
    }
   ],
   "source": [
    "that_date = current_date+datetime.timedelta(weeks=-12)\n",
    "print(that_date.date())"
   ]
  },
  {
   "cell_type": "code",
   "execution_count": 81,
   "id": "9f5462db",
   "metadata": {},
   "outputs": [
    {
     "name": "stdout",
     "output_type": "stream",
     "text": [
      "2022-07-31\n",
      "2022-08-01\n",
      "2022-08-02\n",
      "2022-08-03\n",
      "2022-08-04\n",
      "2022-08-05\n",
      "2022-08-06\n",
      "2022-08-07\n",
      "2022-08-08\n",
      "2022-08-09\n",
      "2022-08-10\n",
      "2022-08-11\n",
      "2022-08-12\n",
      "2022-08-13\n",
      "2022-08-14\n",
      "2022-08-15\n",
      "2022-08-16\n",
      "2022-08-17\n",
      "2022-08-18\n",
      "2022-08-19\n",
      "2022-08-20\n"
     ]
    }
   ],
   "source": [
    "# WAP to create past 10 days & future 10 days from today\n",
    "\n",
    "current_date = datetime.datetime.today().date()\n",
    "\n",
    "for i in range(10,0,-1):\n",
    "    print(current_date - datetime.timedelta(days=i))\n",
    "    \n",
    "for i in range(0,11):\n",
    "    print(current_date + datetime.timedelta(days=i))\n"
   ]
  },
  {
   "cell_type": "code",
   "execution_count": 82,
   "id": "97968c51",
   "metadata": {},
   "outputs": [
    {
     "name": "stdout",
     "output_type": "stream",
     "text": [
      "2022-01-01 00:00:00\n"
     ]
    }
   ],
   "source": [
    "# WAP to create all the dates for year 2022\n",
    "\n",
    "initial_date = datetime.datetime(2022,1,1)\n",
    "print(initial_date)"
   ]
  },
  {
   "cell_type": "code",
   "execution_count": 87,
   "id": "f4fc50b2",
   "metadata": {},
   "outputs": [
    {
     "name": "stdout",
     "output_type": "stream",
     "text": [
      "2022-01-01\n",
      "2022-01-02\n",
      "2022-01-03\n",
      "2022-01-04\n",
      "2022-01-05\n",
      "2022-01-06\n",
      "2022-01-07\n",
      "2022-01-08\n",
      "2022-01-09\n",
      "2022-01-10\n",
      "2022-01-11\n",
      "2022-01-12\n",
      "2022-01-13\n",
      "2022-01-14\n",
      "2022-01-15\n",
      "2022-01-16\n",
      "2022-01-17\n",
      "2022-01-18\n",
      "2022-01-19\n",
      "2022-01-20\n",
      "2022-01-21\n",
      "2022-01-22\n",
      "2022-01-23\n",
      "2022-01-24\n",
      "2022-01-25\n",
      "2022-01-26\n",
      "2022-01-27\n",
      "2022-01-28\n",
      "2022-01-29\n",
      "2022-01-30\n",
      "2022-01-31\n",
      "2022-02-01\n",
      "2022-02-02\n",
      "2022-02-03\n",
      "2022-02-04\n",
      "2022-02-05\n",
      "2022-02-06\n",
      "2022-02-07\n",
      "2022-02-08\n",
      "2022-02-09\n",
      "2022-02-10\n",
      "2022-02-11\n",
      "2022-02-12\n",
      "2022-02-13\n",
      "2022-02-14\n",
      "2022-02-15\n",
      "2022-02-16\n",
      "2022-02-17\n",
      "2022-02-18\n",
      "2022-02-19\n",
      "2022-02-20\n",
      "2022-02-21\n",
      "2022-02-22\n",
      "2022-02-23\n",
      "2022-02-24\n",
      "2022-02-25\n",
      "2022-02-26\n",
      "2022-02-27\n",
      "2022-02-28\n",
      "2022-03-01\n",
      "2022-03-02\n",
      "2022-03-03\n",
      "2022-03-04\n",
      "2022-03-05\n",
      "2022-03-06\n",
      "2022-03-07\n",
      "2022-03-08\n",
      "2022-03-09\n",
      "2022-03-10\n",
      "2022-03-11\n",
      "2022-03-12\n",
      "2022-03-13\n",
      "2022-03-14\n",
      "2022-03-15\n",
      "2022-03-16\n",
      "2022-03-17\n",
      "2022-03-18\n",
      "2022-03-19\n",
      "2022-03-20\n",
      "2022-03-21\n",
      "2022-03-22\n",
      "2022-03-23\n",
      "2022-03-24\n",
      "2022-03-25\n",
      "2022-03-26\n",
      "2022-03-27\n",
      "2022-03-28\n",
      "2022-03-29\n",
      "2022-03-30\n",
      "2022-03-31\n",
      "2022-04-01\n",
      "2022-04-02\n",
      "2022-04-03\n",
      "2022-04-04\n",
      "2022-04-05\n",
      "2022-04-06\n",
      "2022-04-07\n",
      "2022-04-08\n",
      "2022-04-09\n",
      "2022-04-10\n",
      "2022-04-11\n",
      "2022-04-12\n",
      "2022-04-13\n",
      "2022-04-14\n",
      "2022-04-15\n",
      "2022-04-16\n",
      "2022-04-17\n",
      "2022-04-18\n",
      "2022-04-19\n",
      "2022-04-20\n",
      "2022-04-21\n",
      "2022-04-22\n",
      "2022-04-23\n",
      "2022-04-24\n",
      "2022-04-25\n",
      "2022-04-26\n",
      "2022-04-27\n",
      "2022-04-28\n",
      "2022-04-29\n",
      "2022-04-30\n",
      "2022-05-01\n",
      "2022-05-02\n",
      "2022-05-03\n",
      "2022-05-04\n",
      "2022-05-05\n",
      "2022-05-06\n",
      "2022-05-07\n",
      "2022-05-08\n",
      "2022-05-09\n",
      "2022-05-10\n",
      "2022-05-11\n",
      "2022-05-12\n",
      "2022-05-13\n",
      "2022-05-14\n",
      "2022-05-15\n",
      "2022-05-16\n",
      "2022-05-17\n",
      "2022-05-18\n",
      "2022-05-19\n",
      "2022-05-20\n",
      "2022-05-21\n",
      "2022-05-22\n",
      "2022-05-23\n",
      "2022-05-24\n",
      "2022-05-25\n",
      "2022-05-26\n",
      "2022-05-27\n",
      "2022-05-28\n",
      "2022-05-29\n",
      "2022-05-30\n",
      "2022-05-31\n",
      "2022-06-01\n",
      "2022-06-02\n",
      "2022-06-03\n",
      "2022-06-04\n",
      "2022-06-05\n",
      "2022-06-06\n",
      "2022-06-07\n",
      "2022-06-08\n",
      "2022-06-09\n",
      "2022-06-10\n",
      "2022-06-11\n",
      "2022-06-12\n",
      "2022-06-13\n",
      "2022-06-14\n",
      "2022-06-15\n",
      "2022-06-16\n",
      "2022-06-17\n",
      "2022-06-18\n",
      "2022-06-19\n",
      "2022-06-20\n",
      "2022-06-21\n",
      "2022-06-22\n",
      "2022-06-23\n",
      "2022-06-24\n",
      "2022-06-25\n",
      "2022-06-26\n",
      "2022-06-27\n",
      "2022-06-28\n",
      "2022-06-29\n",
      "2022-06-30\n",
      "2022-07-01\n",
      "2022-07-02\n",
      "2022-07-03\n",
      "2022-07-04\n",
      "2022-07-05\n",
      "2022-07-06\n",
      "2022-07-07\n",
      "2022-07-08\n",
      "2022-07-09\n",
      "2022-07-10\n",
      "2022-07-11\n",
      "2022-07-12\n",
      "2022-07-13\n",
      "2022-07-14\n",
      "2022-07-15\n",
      "2022-07-16\n",
      "2022-07-17\n",
      "2022-07-18\n",
      "2022-07-19\n",
      "2022-07-20\n",
      "2022-07-21\n",
      "2022-07-22\n",
      "2022-07-23\n",
      "2022-07-24\n",
      "2022-07-25\n",
      "2022-07-26\n",
      "2022-07-27\n",
      "2022-07-28\n",
      "2022-07-29\n",
      "2022-07-30\n",
      "2022-07-31\n",
      "2022-08-01\n",
      "2022-08-02\n",
      "2022-08-03\n",
      "2022-08-04\n",
      "2022-08-05\n",
      "2022-08-06\n",
      "2022-08-07\n",
      "2022-08-08\n",
      "2022-08-09\n",
      "2022-08-10\n",
      "2022-08-11\n",
      "2022-08-12\n",
      "2022-08-13\n",
      "2022-08-14\n",
      "2022-08-15\n",
      "2022-08-16\n",
      "2022-08-17\n",
      "2022-08-18\n",
      "2022-08-19\n",
      "2022-08-20\n",
      "2022-08-21\n",
      "2022-08-22\n",
      "2022-08-23\n",
      "2022-08-24\n",
      "2022-08-25\n",
      "2022-08-26\n",
      "2022-08-27\n",
      "2022-08-28\n",
      "2022-08-29\n",
      "2022-08-30\n",
      "2022-08-31\n",
      "2022-09-01\n",
      "2022-09-02\n",
      "2022-09-03\n",
      "2022-09-04\n",
      "2022-09-05\n",
      "2022-09-06\n",
      "2022-09-07\n",
      "2022-09-08\n",
      "2022-09-09\n",
      "2022-09-10\n",
      "2022-09-11\n",
      "2022-09-12\n",
      "2022-09-13\n",
      "2022-09-14\n",
      "2022-09-15\n",
      "2022-09-16\n",
      "2022-09-17\n",
      "2022-09-18\n",
      "2022-09-19\n",
      "2022-09-20\n",
      "2022-09-21\n",
      "2022-09-22\n",
      "2022-09-23\n",
      "2022-09-24\n",
      "2022-09-25\n",
      "2022-09-26\n",
      "2022-09-27\n",
      "2022-09-28\n",
      "2022-09-29\n",
      "2022-09-30\n",
      "2022-10-01\n",
      "2022-10-02\n",
      "2022-10-03\n",
      "2022-10-04\n",
      "2022-10-05\n",
      "2022-10-06\n",
      "2022-10-07\n",
      "2022-10-08\n",
      "2022-10-09\n",
      "2022-10-10\n",
      "2022-10-11\n",
      "2022-10-12\n",
      "2022-10-13\n",
      "2022-10-14\n",
      "2022-10-15\n",
      "2022-10-16\n",
      "2022-10-17\n",
      "2022-10-18\n",
      "2022-10-19\n",
      "2022-10-20\n",
      "2022-10-21\n",
      "2022-10-22\n",
      "2022-10-23\n",
      "2022-10-24\n",
      "2022-10-25\n",
      "2022-10-26\n",
      "2022-10-27\n",
      "2022-10-28\n",
      "2022-10-29\n",
      "2022-10-30\n",
      "2022-10-31\n",
      "2022-11-01\n",
      "2022-11-02\n",
      "2022-11-03\n",
      "2022-11-04\n",
      "2022-11-05\n",
      "2022-11-06\n",
      "2022-11-07\n",
      "2022-11-08\n",
      "2022-11-09\n",
      "2022-11-10\n",
      "2022-11-11\n",
      "2022-11-12\n",
      "2022-11-13\n",
      "2022-11-14\n",
      "2022-11-15\n",
      "2022-11-16\n",
      "2022-11-17\n",
      "2022-11-18\n",
      "2022-11-19\n",
      "2022-11-20\n",
      "2022-11-21\n",
      "2022-11-22\n",
      "2022-11-23\n",
      "2022-11-24\n",
      "2022-11-25\n",
      "2022-11-26\n",
      "2022-11-27\n",
      "2022-11-28\n",
      "2022-11-29\n",
      "2022-11-30\n",
      "2022-12-01\n",
      "2022-12-02\n",
      "2022-12-03\n",
      "2022-12-04\n",
      "2022-12-05\n",
      "2022-12-06\n",
      "2022-12-07\n",
      "2022-12-08\n",
      "2022-12-09\n",
      "2022-12-10\n",
      "2022-12-11\n",
      "2022-12-12\n",
      "2022-12-13\n",
      "2022-12-14\n",
      "2022-12-15\n",
      "2022-12-16\n",
      "2022-12-17\n",
      "2022-12-18\n",
      "2022-12-19\n",
      "2022-12-20\n",
      "2022-12-21\n",
      "2022-12-22\n",
      "2022-12-23\n",
      "2022-12-24\n",
      "2022-12-25\n",
      "2022-12-26\n",
      "2022-12-27\n",
      "2022-12-28\n",
      "2022-12-29\n",
      "2022-12-30\n",
      "2022-12-31\n"
     ]
    }
   ],
   "source": [
    "for i in range(365):\n",
    "    print((initial_date + datetime.timedelta(days=i)).date())"
   ]
  },
  {
   "cell_type": "code",
   "execution_count": null,
   "id": "ae7595fc",
   "metadata": {},
   "outputs": [],
   "source": []
  }
 ],
 "metadata": {
  "kernelspec": {
   "display_name": "Python 3",
   "language": "python",
   "name": "python3"
  },
  "language_info": {
   "codemirror_mode": {
    "name": "ipython",
    "version": 3
   },
   "file_extension": ".py",
   "mimetype": "text/x-python",
   "name": "python",
   "nbconvert_exporter": "python",
   "pygments_lexer": "ipython3",
   "version": "3.8.8"
  },
  "toc": {
   "base_numbering": 1,
   "nav_menu": {},
   "number_sections": true,
   "sideBar": true,
   "skip_h1_title": false,
   "title_cell": "Table of Contents",
   "title_sidebar": "Contents",
   "toc_cell": false,
   "toc_position": {},
   "toc_section_display": true,
   "toc_window_display": false
  },
  "varInspector": {
   "cols": {
    "lenName": 16,
    "lenType": 16,
    "lenVar": 40
   },
   "kernels_config": {
    "python": {
     "delete_cmd_postfix": "",
     "delete_cmd_prefix": "del ",
     "library": "var_list.py",
     "varRefreshCmd": "print(var_dic_list())"
    },
    "r": {
     "delete_cmd_postfix": ") ",
     "delete_cmd_prefix": "rm(",
     "library": "var_list.r",
     "varRefreshCmd": "cat(var_dic_list()) "
    }
   },
   "types_to_exclude": [
    "module",
    "function",
    "builtin_function_or_method",
    "instance",
    "_Feature"
   ],
   "window_display": false
  }
 },
 "nbformat": 4,
 "nbformat_minor": 5
}

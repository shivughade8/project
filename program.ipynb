{
 "cells": [
  {
   "cell_type": "code",
   "execution_count": null,
   "id": "227daaee",
   "metadata": {},
   "outputs": [],
   "source": []
  },
  {
   "cell_type": "code",
   "execution_count": 1,
   "id": "d527afd1",
   "metadata": {},
   "outputs": [
    {
     "name": "stdout",
     "output_type": "stream",
     "text": [
      "Give user input here: 5\n"
     ]
    },
    {
     "data": {
      "text/plain": [
       "120"
      ]
     },
     "execution_count": 1,
     "metadata": {},
     "output_type": "execute_result"
    }
   ],
   "source": [
    "def factorial(a,fact):\n",
    "    facto = a*fact\n",
    "    a-=1\n",
    "    \n",
    "    if a == 1:\n",
    "        return facto\n",
    "    else:\n",
    "        return factorial(a,facto)\n",
    " \n",
    "\n",
    "user_in = int(input('Give user input here: '))\n",
    "\n",
    "factorial(user_in,1)"
   ]
  },
  {
   "cell_type": "code",
   "execution_count": 5,
   "id": "544bb413",
   "metadata": {},
   "outputs": [
    {
     "data": {
      "text/plain": [
       "120"
      ]
     },
     "execution_count": 5,
     "metadata": {},
     "output_type": "execute_result"
    }
   ],
   "source": [
    "# factorial\n",
    "\n",
    "from functools import reduce\n",
    "n=5\n",
    "fac=reduce(lambda a,b:a*b,range(1,n+1))\n",
    "fac"
   ]
  },
  {
   "cell_type": "code",
   "execution_count": 13,
   "id": "6343e61e",
   "metadata": {},
   "outputs": [
    {
     "name": "stdout",
     "output_type": "stream",
     "text": [
      "5\n"
     ]
    },
    {
     "data": {
      "text/plain": [
       "120"
      ]
     },
     "execution_count": 13,
     "metadata": {},
     "output_type": "execute_result"
    }
   ],
   "source": [
    "n = int(input())\n",
    "fact = i = 1\n",
    "\n",
    "while i <= n:\n",
    "    fact = fact*i\n",
    "    i+=1\n",
    "    \n",
    "fact"
   ]
  },
  {
   "cell_type": "code",
   "execution_count": 14,
   "id": "62038bb4",
   "metadata": {},
   "outputs": [
    {
     "name": "stdout",
     "output_type": "stream",
     "text": [
      "6\n"
     ]
    },
    {
     "data": {
      "text/plain": [
       "720"
      ]
     },
     "execution_count": 14,
     "metadata": {},
     "output_type": "execute_result"
    }
   ],
   "source": [
    "n = int(input())\n",
    "fact = 1\n",
    "\n",
    "while n > 0:\n",
    "    fact = fact*n\n",
    "    n-=1\n",
    "    \n",
    "fact"
   ]
  },
  {
   "cell_type": "code",
   "execution_count": 2,
   "id": "15323f9f",
   "metadata": {},
   "outputs": [
    {
     "data": {
      "text/plain": [
       "120"
      ]
     },
     "execution_count": 2,
     "metadata": {},
     "output_type": "execute_result"
    }
   ],
   "source": [
    "def factorial(n):\n",
    "    if n <= 0:\n",
    "        print('factorial of -ve numbers & 0 does not exist')\n",
    "    if n==1:\n",
    "        return 1\n",
    "    else:\n",
    "        return n*factorial(n-1)\n",
    "        \n",
    "factorial(5)"
   ]
  },
  {
   "cell_type": "code",
   "execution_count": 6,
   "id": "a0f02e1f",
   "metadata": {},
   "outputs": [
    {
     "data": {
      "text/plain": [
       "[0, 1, 1, 2, 3]"
      ]
     },
     "execution_count": 6,
     "metadata": {},
     "output_type": "execute_result"
    }
   ],
   "source": [
    "#fibo\n",
    "\n",
    "n=5\n",
    "l1=[0,1]\n",
    "def fibo(n):\n",
    "    for i in range(1,n-1):\n",
    "        l1.append(l1[i]+l1[i-1])\n",
    "    return l1\n",
    "fibo(n)"
   ]
  },
  {
   "cell_type": "code",
   "execution_count": 15,
   "id": "bc4915cb",
   "metadata": {},
   "outputs": [
    {
     "name": "stdout",
     "output_type": "stream",
     "text": [
      "5\n"
     ]
    },
    {
     "data": {
      "text/plain": [
       "[0, 1, 1, 2, 3]"
      ]
     },
     "execution_count": 15,
     "metadata": {},
     "output_type": "execute_result"
    }
   ],
   "source": [
    "n = int(input())\n",
    "\n",
    "fibo= [0,1]\n",
    "\n",
    "for i in range(n-2):\n",
    "    fibo.append(fibo[i]+fibo[i+1])\n",
    "#     print(fibo)\n",
    "fibo"
   ]
  },
  {
   "cell_type": "code",
   "execution_count": 3,
   "id": "64daa621",
   "metadata": {},
   "outputs": [
    {
     "name": "stdout",
     "output_type": "stream",
     "text": [
      "0 1 1 2 3 5 8 13 21 34 "
     ]
    }
   ],
   "source": [
    "def fibo(n):\n",
    "    if n == 1 or n == 0:\n",
    "        return n\n",
    "    return fibo(n-2)+fibo(n-1)\n",
    "\n",
    "for i in range(0,10):            # 0,1,2....\n",
    "    print(fibo(i),end=' ')"
   ]
  },
  {
   "cell_type": "code",
   "execution_count": 4,
   "id": "3839f735",
   "metadata": {},
   "outputs": [
    {
     "name": "stdout",
     "output_type": "stream",
     "text": [
      "Enter your Number:5\n",
      "It is a Prime Number.\n"
     ]
    }
   ],
   "source": [
    "# WAP to find whether a number is prime or not using recursie function\n",
    "def CheckPrime(i,num):\n",
    "    if num==i:\n",
    "        return 0\n",
    "    else:\n",
    "        if(num%i==0):\n",
    "            return 1\n",
    "        else:\n",
    "            return CheckPrime(i+1,num)\n",
    "num=int(input(\"Enter your Number:\"))\n",
    "if(CheckPrime(2,num)==0):\n",
    "    print(\"It is a Prime Number.\")\n",
    "else:\n",
    "    print(\"It is not a Prime Number.\")"
   ]
  },
  {
   "cell_type": "code",
   "execution_count": 7,
   "id": "b89fb9ff",
   "metadata": {},
   "outputs": [
    {
     "data": {
      "text/plain": [
       "[9, 25, 49, 81]"
      ]
     },
     "execution_count": 7,
     "metadata": {},
     "output_type": "execute_result"
    }
   ],
   "source": [
    "#list comprehension\n",
    "numbs = [3,5,7,9]\n",
    "squares = []\n",
    "\n",
    "for i in numbs:squares.append(i**2)\n",
    "    \n",
    "squares"
   ]
  },
  {
   "cell_type": "code",
   "execution_count": 8,
   "id": "c32e289a",
   "metadata": {},
   "outputs": [
    {
     "data": {
      "text/plain": [
       "[9, 25, 49, 81]"
      ]
     },
     "execution_count": 8,
     "metadata": {},
     "output_type": "execute_result"
    }
   ],
   "source": [
    "[(i**2) for i in numbs]     # short hand for loop"
   ]
  },
  {
   "cell_type": "code",
   "execution_count": 9,
   "id": "0b64555d",
   "metadata": {},
   "outputs": [
    {
     "data": {
      "text/plain": [
       "[False, False, False, False]"
      ]
     },
     "execution_count": 9,
     "metadata": {},
     "output_type": "execute_result"
    }
   ],
   "source": [
    "[i%2==0 for i in numbs]     "
   ]
  },
  {
   "cell_type": "code",
   "execution_count": 10,
   "id": "c2945115",
   "metadata": {},
   "outputs": [
    {
     "data": {
      "text/plain": [
       "[2, 3, 3, 4, 5, 6, 6, 8]"
      ]
     },
     "execution_count": 10,
     "metadata": {},
     "output_type": "execute_result"
    }
   ],
   "source": [
    "# sorting in ascending order\n",
    "\n",
    "l1 = [2,3,4,6,5,3,6,8]\n",
    "\n",
    "for i in range(len(l1)):\n",
    "    for j in range(i+1,len(l1)):\n",
    "        if l1[j]<l1[i]:\n",
    "            l1[i],l1[j]=l1[j],l1[i]         # swapping of items\n",
    "            \n",
    "l1"
   ]
  },
  {
   "cell_type": "code",
   "execution_count": 11,
   "id": "bc50201f",
   "metadata": {},
   "outputs": [
    {
     "data": {
      "text/plain": [
       "[2, 3, 3, 4, 5, 6, 6, 8]"
      ]
     },
     "execution_count": 11,
     "metadata": {},
     "output_type": "execute_result"
    }
   ],
   "source": [
    "l1 = [2,3,4,6,5,3,6,8]\n",
    "\n",
    "l1.sort()\n",
    "l1"
   ]
  },
  {
   "cell_type": "code",
   "execution_count": 12,
   "id": "5812c512",
   "metadata": {},
   "outputs": [
    {
     "data": {
      "text/plain": [
       "[8, 6, 6, 5, 4, 3, 3, 2]"
      ]
     },
     "execution_count": 12,
     "metadata": {},
     "output_type": "execute_result"
    }
   ],
   "source": [
    "# sorting in descending order\n",
    "\n",
    "l1 = [2,3,4,6,5,3,6,8]\n",
    "\n",
    "for i in range(len(l1)):\n",
    "    for j in range(i+1,len(l1)):\n",
    "        if l1[j]>l1[i]:\n",
    "            l1[i],l1[j]=l1[j],l1[i]\n",
    "            \n",
    "l1"
   ]
  },
  {
   "cell_type": "code",
   "execution_count": 18,
   "id": "1377c3fa",
   "metadata": {},
   "outputs": [
    {
     "name": "stdout",
     "output_type": "stream",
     "text": [
      "\n",
      "*\n",
      "**\n",
      "***\n",
      "****\n",
      "*****\n"
     ]
    }
   ],
   "source": [
    "i=0\n",
    "while i<=5:\n",
    "    print(i*\"*\")\n",
    "    i+=1"
   ]
  },
  {
   "cell_type": "code",
   "execution_count": 19,
   "id": "3087a399",
   "metadata": {},
   "outputs": [
    {
     "name": "stdout",
     "output_type": "stream",
     "text": [
      "*****\n",
      "****\n",
      "***\n",
      "**\n",
      "*\n",
      "\n"
     ]
    }
   ],
   "source": [
    "i=5\n",
    "while i>=0:\n",
    "    print(i*\"*\")\n",
    "    i-=1"
   ]
  }
 ],
 "metadata": {
  "kernelspec": {
   "display_name": "Python 3 (ipykernel)",
   "language": "python",
   "name": "python3"
  },
  "language_info": {
   "codemirror_mode": {
    "name": "ipython",
    "version": 3
   },
   "file_extension": ".py",
   "mimetype": "text/x-python",
   "name": "python",
   "nbconvert_exporter": "python",
   "pygments_lexer": "ipython3",
   "version": "3.9.12"
  }
 },
 "nbformat": 4,
 "nbformat_minor": 5
}

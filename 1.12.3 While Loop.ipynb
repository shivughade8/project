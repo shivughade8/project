{
 "cells": [
  {
   "cell_type": "raw",
   "id": "03b5af45",
   "metadata": {},
   "source": [
    "While loop is used for iterating over a sequence or iterator\n",
    "while loop is used to execute block of code till the given condition is met(True)\n",
    "While loop needs manual increamentation of decrementation\n",
    "\n",
    "While condition:(True)\n",
    "    code\n",
    "    statements\n",
    "    separate incrementation or decrementation\n",
    "    \n",
    "Condition:\n",
    "    True:executing the block of code\n",
    "    False: it breaks the loop of the iteration stops\n",
    "        \n",
    "While-else:\n",
    "    else will be executed after execution of while loop\n",
    "    else will not be executed if there is break in while loop"
   ]
  },
  {
   "cell_type": "code",
   "execution_count": 1,
   "id": "79bf17dc",
   "metadata": {},
   "outputs": [
    {
     "name": "stdout",
     "output_type": "stream",
     "text": [
      "0\n",
      "1\n",
      "2\n",
      "3\n",
      "4\n"
     ]
    }
   ],
   "source": [
    "# while using increment\n",
    "\n",
    "a = 0\n",
    "\n",
    "while a < 5:\n",
    "    print(a)\n",
    "    a+=1                   # maunal incrementation"
   ]
  },
  {
   "cell_type": "code",
   "execution_count": 2,
   "id": "c0d22c58",
   "metadata": {},
   "outputs": [
    {
     "name": "stdout",
     "output_type": "stream",
     "text": [
      "4\n",
      "3\n",
      "2\n",
      "1\n",
      "0\n"
     ]
    }
   ],
   "source": [
    "# while using decrement\n",
    "\n",
    "a = 4\n",
    "\n",
    "while a >= 0:\n",
    "    print(a)\n",
    "    a-=1                   # maunal decrementation"
   ]
  },
  {
   "cell_type": "code",
   "execution_count": 19,
   "id": "86ace8f4",
   "metadata": {},
   "outputs": [
    {
     "name": "stdout",
     "output_type": "stream",
     "text": [
      "value of i is  0\n",
      "value of a[i] is  1 printed in else block\n",
      "\n",
      "value of i is  1\n",
      "value of a[i] is  2 printed in else block\n",
      "\n",
      "value of i is  2\n",
      "value of a[i] is 3 & thus-  333\n",
      "\n",
      "value of i is  3\n",
      "value of a[i] is  4 printed in else block\n",
      "\n"
     ]
    }
   ],
   "source": [
    "a = [1,2,3,4]\n",
    "i = 0\n",
    "\n",
    "while i < len(a):\n",
    "    print('value of i is ',i)\n",
    "    if a[i] == 3:\n",
    "        print('value of a[i] is 3 & thus- ',end=' ')\n",
    "        print(f'{a[i]}'*3)\n",
    "        print()\n",
    "    else:\n",
    "        print('value of a[i] is ',a[i],'printed in else block')\n",
    "        print()\n",
    "    i+=1\n",
    "    "
   ]
  },
  {
   "cell_type": "markdown",
   "id": "3f5ddbd1",
   "metadata": {},
   "source": [
    "## nested while"
   ]
  },
  {
   "cell_type": "code",
   "execution_count": 10,
   "id": "d9a37436",
   "metadata": {},
   "outputs": [
    {
     "name": "stdout",
     "output_type": "stream",
     "text": [
      "1\n",
      "2\n",
      "333\n",
      "4\n"
     ]
    }
   ],
   "source": [
    "a = [1,2,3,4]\n",
    "i = j = 0\n",
    "\n",
    "while i < len(a):\n",
    "    if a[i] == 3:\n",
    "        \n",
    "        while j < 3:\n",
    "            print(a[i],end='')\n",
    "            j+=1\n",
    "        print()   \n",
    "        \n",
    "    else:print(a[i])\n",
    "    i+=1\n",
    "    "
   ]
  },
  {
   "cell_type": "code",
   "execution_count": 12,
   "id": "9ec4cd05",
   "metadata": {},
   "outputs": [
    {
     "name": "stdout",
     "output_type": "stream",
     "text": [
      "1\n",
      "2\n",
      "333\n",
      "4444\n"
     ]
    }
   ],
   "source": [
    "a = [1,2,3,4]\n",
    "i = j = 0\n",
    "\n",
    "while i < len(a):\n",
    "    if a[i] == 3:\n",
    "        \n",
    "        while j < 3:\n",
    "            print(a[i],end='')\n",
    "            j+=1\n",
    "        j = 0\n",
    "        print()   \n",
    "        \n",
    "    elif a[i] == 4:\n",
    "        while j < 4:\n",
    "            print(a[i],end='')\n",
    "            j+=1\n",
    "        print()  \n",
    "        \n",
    "    else:print(a[i])\n",
    "    i+=1\n",
    "    "
   ]
  },
  {
   "cell_type": "markdown",
   "id": "35247489",
   "metadata": {},
   "source": [
    "## While - else"
   ]
  },
  {
   "cell_type": "code",
   "execution_count": 20,
   "id": "0b99ee86",
   "metadata": {},
   "outputs": [
    {
     "name": "stdout",
     "output_type": "stream",
     "text": [
      "0\n",
      "1\n",
      "2\n",
      "3\n",
      "4\n",
      "while loop completed!\n"
     ]
    }
   ],
   "source": [
    "a = 0\n",
    "\n",
    "while a < 5:\n",
    "    print(a)\n",
    "    a+=1   \n",
    "    \n",
    "else:\n",
    "    print('while loop completed!')"
   ]
  },
  {
   "cell_type": "code",
   "execution_count": 21,
   "id": "1abf5c5f",
   "metadata": {},
   "outputs": [
    {
     "name": "stdout",
     "output_type": "stream",
     "text": [
      "0\n"
     ]
    }
   ],
   "source": [
    "a = 0\n",
    "\n",
    "while a < 5:\n",
    "    print(a)\n",
    "    a+=1\n",
    "    break\n",
    "    \n",
    "else:\n",
    "    print('while loop completed!')"
   ]
  },
  {
   "cell_type": "markdown",
   "id": "63abee21",
   "metadata": {},
   "source": [
    "# While loop to find factorial of any number"
   ]
  },
  {
   "cell_type": "code",
   "execution_count": 22,
   "id": "74af0343",
   "metadata": {},
   "outputs": [
    {
     "name": "stdout",
     "output_type": "stream",
     "text": [
      "5\n"
     ]
    },
    {
     "data": {
      "text/plain": [
       "120"
      ]
     },
     "execution_count": 22,
     "metadata": {},
     "output_type": "execute_result"
    }
   ],
   "source": [
    "n = int(input())\n",
    "fact = 1\n",
    "\n",
    "while n > 0:\n",
    "    fact = fact*n\n",
    "    n-=1\n",
    "    \n",
    "fact"
   ]
  },
  {
   "cell_type": "code",
   "execution_count": 25,
   "id": "bbd8fc36",
   "metadata": {},
   "outputs": [
    {
     "name": "stdout",
     "output_type": "stream",
     "text": [
      "6\n"
     ]
    },
    {
     "data": {
      "text/plain": [
       "720"
      ]
     },
     "execution_count": 25,
     "metadata": {},
     "output_type": "execute_result"
    }
   ],
   "source": [
    "n = int(input())\n",
    "fact = i = 1\n",
    "\n",
    "while i <= n:\n",
    "    fact = fact*i\n",
    "    i+=1\n",
    "    \n",
    "fact"
   ]
  },
  {
   "cell_type": "code",
   "execution_count": null,
   "id": "8ab221f5",
   "metadata": {},
   "outputs": [],
   "source": [
    "# WAP to create fibonacci series using while-else loop\n",
    "# WAP to print A-F ASCII using while loop in right angle triagne format"
   ]
  }
 ],
 "metadata": {
  "kernelspec": {
   "display_name": "Python 3 (ipykernel)",
   "language": "python",
   "name": "python3"
  },
  "language_info": {
   "codemirror_mode": {
    "name": "ipython",
    "version": 3
   },
   "file_extension": ".py",
   "mimetype": "text/x-python",
   "name": "python",
   "nbconvert_exporter": "python",
   "pygments_lexer": "ipython3",
   "version": "3.9.12"
  },
  "toc": {
   "base_numbering": 1,
   "nav_menu": {},
   "number_sections": true,
   "sideBar": true,
   "skip_h1_title": false,
   "title_cell": "Table of Contents",
   "title_sidebar": "Contents",
   "toc_cell": false,
   "toc_position": {},
   "toc_section_display": true,
   "toc_window_display": false
  },
  "varInspector": {
   "cols": {
    "lenName": 16,
    "lenType": 16,
    "lenVar": 40
   },
   "kernels_config": {
    "python": {
     "delete_cmd_postfix": "",
     "delete_cmd_prefix": "del ",
     "library": "var_list.py",
     "varRefreshCmd": "print(var_dic_list())"
    },
    "r": {
     "delete_cmd_postfix": ") ",
     "delete_cmd_prefix": "rm(",
     "library": "var_list.r",
     "varRefreshCmd": "cat(var_dic_list()) "
    }
   },
   "types_to_exclude": [
    "module",
    "function",
    "builtin_function_or_method",
    "instance",
    "_Feature"
   ],
   "window_display": false
  }
 },
 "nbformat": 4,
 "nbformat_minor": 5
}

{
 "cells": [
  {
   "cell_type": "code",
   "execution_count": 1,
   "id": "2867802f",
   "metadata": {},
   "outputs": [
    {
     "name": "stdout",
     "output_type": "stream",
     "text": [
      "0 Nagpur\n",
      "1 Pune\n",
      "2 Nagpur\n"
     ]
    }
   ],
   "source": [
    "cities = ['Nagpur','Pune','Nagpur']\n",
    "\n",
    "for i,j in enumerate(cities):\n",
    "    print(i,j)"
   ]
  },
  {
   "cell_type": "code",
   "execution_count": 2,
   "id": "26af9b57",
   "metadata": {},
   "outputs": [
    {
     "name": "stdout",
     "output_type": "stream",
     "text": [
      "Python is intresting\n",
      "Python is intresting\n",
      "Python is intresting\n",
      "Python is intresting\n",
      "Python is intresting\n"
     ]
    }
   ],
   "source": [
    "string = 'Python is intresting'\n",
    "\n",
    "print(string)\n",
    "print(string)\n",
    "print(string)\n",
    "print(string)\n",
    "print(string)\n"
   ]
  },
  {
   "cell_type": "markdown",
   "id": "a75dffa7",
   "metadata": {},
   "source": [
    "# Range function"
   ]
  },
  {
   "cell_type": "raw",
   "id": "412c0158",
   "metadata": {},
   "source": [
    "range(inital index, final index, step size)\n",
    "gives a sequence of numbers"
   ]
  },
  {
   "cell_type": "code",
   "execution_count": 3,
   "id": "fe76b55a",
   "metadata": {
    "scrolled": false
   },
   "outputs": [
    {
     "name": "stdout",
     "output_type": "stream",
     "text": [
      "Python is intresting\n",
      "Python is intresting\n",
      "Python is intresting\n",
      "Python is intresting\n",
      "Python is intresting\n"
     ]
    }
   ],
   "source": [
    "for i in range(5):\n",
    "    print(string)"
   ]
  },
  {
   "cell_type": "code",
   "execution_count": 4,
   "id": "2cfd30f6",
   "metadata": {},
   "outputs": [
    {
     "data": {
      "text/plain": [
       "range(0, 5)"
      ]
     },
     "execution_count": 4,
     "metadata": {},
     "output_type": "execute_result"
    }
   ],
   "source": [
    "range(5)"
   ]
  },
  {
   "cell_type": "code",
   "execution_count": 5,
   "id": "4cc9e3de",
   "metadata": {},
   "outputs": [
    {
     "data": {
      "text/plain": [
       "[0, 1, 2, 3, 4]"
      ]
     },
     "execution_count": 5,
     "metadata": {},
     "output_type": "execute_result"
    }
   ],
   "source": [
    "list(range(5))"
   ]
  },
  {
   "cell_type": "code",
   "execution_count": 6,
   "id": "d47f4787",
   "metadata": {},
   "outputs": [
    {
     "name": "stdout",
     "output_type": "stream",
     "text": [
      "Python is intresting\n",
      "Python is intresting\n",
      "Python is intresting\n",
      "Python is intresting\n",
      "Python is intresting\n"
     ]
    }
   ],
   "source": [
    "for i in [0,1,2,3,4]:\n",
    "    print(string)"
   ]
  },
  {
   "cell_type": "code",
   "execution_count": 10,
   "id": "5ca3e785",
   "metadata": {
    "scrolled": true
   },
   "outputs": [
    {
     "name": "stdout",
     "output_type": "stream",
     "text": [
      "0\n",
      "1\n",
      "2\n",
      "3\n",
      "4\n"
     ]
    }
   ],
   "source": [
    "for i in range(0,5):    # 0,1,2,3,4\n",
    "    print(i)"
   ]
  },
  {
   "cell_type": "code",
   "execution_count": 11,
   "id": "cb088fa7",
   "metadata": {},
   "outputs": [
    {
     "data": {
      "text/plain": [
       "[0, 1, 2, 3, 4]"
      ]
     },
     "execution_count": 11,
     "metadata": {},
     "output_type": "execute_result"
    }
   ],
   "source": [
    "list(range(0,5))"
   ]
  },
  {
   "cell_type": "code",
   "execution_count": 12,
   "id": "10948bb3",
   "metadata": {},
   "outputs": [
    {
     "data": {
      "text/plain": [
       "[1, 2, 3, 4, 5, 6, 7, 8, 9]"
      ]
     },
     "execution_count": 12,
     "metadata": {},
     "output_type": "execute_result"
    }
   ],
   "source": [
    "list(range(1,10))"
   ]
  },
  {
   "cell_type": "code",
   "execution_count": 13,
   "id": "1710398c",
   "metadata": {},
   "outputs": [
    {
     "data": {
      "text/plain": [
       "[1, 3, 5, 7, 9]"
      ]
     },
     "execution_count": 13,
     "metadata": {},
     "output_type": "execute_result"
    }
   ],
   "source": [
    "list(range(1,10,2))    #positice step size >> 2"
   ]
  },
  {
   "cell_type": "code",
   "execution_count": 14,
   "id": "ff2e4aa6",
   "metadata": {},
   "outputs": [
    {
     "data": {
      "text/plain": [
       "[-1, -3, -5, -7, -9]"
      ]
     },
     "execution_count": 14,
     "metadata": {},
     "output_type": "execute_result"
    }
   ],
   "source": [
    "list(range(-1,-10,-2))  #negative step size >> -2"
   ]
  },
  {
   "cell_type": "code",
   "execution_count": 15,
   "id": "3f2b8b27",
   "metadata": {},
   "outputs": [
    {
     "data": {
      "text/plain": [
       "[-10, -8, -6, -4, -2]"
      ]
     },
     "execution_count": 15,
     "metadata": {},
     "output_type": "execute_result"
    }
   ],
   "source": [
    "list(range(-10,-1,2))"
   ]
  },
  {
   "cell_type": "code",
   "execution_count": 16,
   "id": "ee87db09",
   "metadata": {},
   "outputs": [
    {
     "name": "stdout",
     "output_type": "stream",
     "text": [
      "0\n",
      "2\n",
      "4\n"
     ]
    }
   ],
   "source": [
    "for i in range(0,5,2):   # 0,2,4\n",
    "    print(i)"
   ]
  },
  {
   "cell_type": "code",
   "execution_count": 18,
   "id": "b7cfa06c",
   "metadata": {},
   "outputs": [
    {
     "data": {
      "text/plain": [
       "20"
      ]
     },
     "execution_count": 18,
     "metadata": {},
     "output_type": "execute_result"
    }
   ],
   "source": [
    "a=0\n",
    "for i in range(-20,20,2):   \n",
    "    a+=1\n",
    "    \n",
    "a"
   ]
  },
  {
   "cell_type": "code",
   "execution_count": 20,
   "id": "8e41f79e",
   "metadata": {},
   "outputs": [
    {
     "data": {
      "text/plain": [
       "20"
      ]
     },
     "execution_count": 20,
     "metadata": {},
     "output_type": "execute_result"
    }
   ],
   "source": [
    "len(list(range(-20,20,2)))"
   ]
  },
  {
   "cell_type": "code",
   "execution_count": 22,
   "id": "f0574ab0",
   "metadata": {},
   "outputs": [
    {
     "name": "stdout",
     "output_type": "stream",
     "text": [
      "-20 -18 -16 -14 -12 -10 -8 -6 -4 -2 0 2 4 6 8 10 12 14 16 18 "
     ]
    }
   ],
   "source": [
    "for i in range(-20,20,2):\n",
    "    print(i,end=' ')"
   ]
  },
  {
   "cell_type": "markdown",
   "id": "1ca447ed",
   "metadata": {},
   "source": [
    "# Adding items in the list"
   ]
  },
  {
   "cell_type": "markdown",
   "id": "58548820",
   "metadata": {},
   "source": [
    "## Append function"
   ]
  },
  {
   "cell_type": "raw",
   "id": "2425538b",
   "metadata": {},
   "source": [
    "append is used to add items in the list\n",
    "by default the item will be added at the last"
   ]
  },
  {
   "cell_type": "code",
   "execution_count": 24,
   "id": "b6d3d206",
   "metadata": {},
   "outputs": [
    {
     "name": "stdout",
     "output_type": "stream",
     "text": [
      "['Cristiano', 'Messi', 'Kaka', 'Ronaldo'] 4\n"
     ]
    },
    {
     "data": {
      "text/plain": [
       "['Cristiano', 'Messi', 'Kaka', 'Ronaldo', 'Neymar']"
      ]
     },
     "execution_count": 24,
     "metadata": {},
     "output_type": "execute_result"
    }
   ],
   "source": [
    "soccer = ['Cristiano','Messi','Kaka','Ronaldo']\n",
    "print(soccer,len(soccer))\n",
    "\n",
    "soccer.append('Neymar')\n",
    "\n",
    "soccer"
   ]
  },
  {
   "cell_type": "code",
   "execution_count": 25,
   "id": "0c03895d",
   "metadata": {},
   "outputs": [
    {
     "name": "stdout",
     "output_type": "stream",
     "text": [
      "['Cristiano', 'Messi', 'Kaka', 'Ronaldo'] 4\n"
     ]
    },
    {
     "data": {
      "text/plain": [
       "['Cristiano', 'Messi', 'Kaka', 'Ronaldo', ['Neymar', 'Ronaldino']]"
      ]
     },
     "execution_count": 25,
     "metadata": {},
     "output_type": "execute_result"
    }
   ],
   "source": [
    "soccer = ['Cristiano','Messi','Kaka','Ronaldo']\n",
    "print(soccer,len(soccer))\n",
    "\n",
    "player = ['Neymar','Ronaldino']\n",
    "\n",
    "soccer.append(player)\n",
    "\n",
    "soccer"
   ]
  },
  {
   "cell_type": "code",
   "execution_count": 27,
   "id": "e3c698f1",
   "metadata": {},
   "outputs": [
    {
     "name": "stdout",
     "output_type": "stream",
     "text": [
      "['Cristiano', 'Messi', 'Kaka', 'Ronaldo'] 4\n",
      "['Cristiano', 'Messi', 'Kaka', 'Ronaldo', 'Neymar']\n",
      "['Cristiano', 'Messi', 'Kaka', 'Ronaldo', 'Neymar', 'Ronaldino']\n"
     ]
    },
    {
     "data": {
      "text/plain": [
       "['Cristiano', 'Messi', 'Kaka', 'Ronaldo', 'Neymar', 'Ronaldino']"
      ]
     },
     "execution_count": 27,
     "metadata": {},
     "output_type": "execute_result"
    }
   ],
   "source": [
    "soccer = ['Cristiano','Messi','Kaka','Ronaldo']\n",
    "print(soccer,len(soccer))\n",
    "\n",
    "players = ['Neymar','Ronaldino']\n",
    "\n",
    "for player in players:\n",
    "    soccer.append(player)\n",
    "    print(soccer)\n",
    "\n",
    "soccer"
   ]
  },
  {
   "cell_type": "markdown",
   "id": "359175dd",
   "metadata": {},
   "source": [
    "## Extend function"
   ]
  },
  {
   "cell_type": "raw",
   "id": "862d1ba3",
   "metadata": {},
   "source": [
    "extend is used to add the item at the last of the list\n",
    "by default it adds the item at the last index of the list\n",
    "inside extend function only an iterator has to be passed (list, string, tuple, set, dict)\n",
    "extend function adds 2 list or iterators."
   ]
  },
  {
   "cell_type": "code",
   "execution_count": 28,
   "id": "6b505257",
   "metadata": {},
   "outputs": [
    {
     "name": "stdout",
     "output_type": "stream",
     "text": [
      "['Cristiano', 'Messi', 'Kaka', 'Ronaldo'] 4\n"
     ]
    },
    {
     "data": {
      "text/plain": [
       "['Cristiano', 'Messi', 'Kaka', 'Ronaldo', 'N', 'e', 'y', 'm', 'a', 'r']"
      ]
     },
     "execution_count": 28,
     "metadata": {},
     "output_type": "execute_result"
    }
   ],
   "source": [
    "soccer = ['Cristiano','Messi','Kaka','Ronaldo']\n",
    "print(soccer,len(soccer))\n",
    "\n",
    "soccer.extend('Neymar')\n",
    "\n",
    "soccer"
   ]
  },
  {
   "cell_type": "code",
   "execution_count": 29,
   "id": "a48cd75f",
   "metadata": {},
   "outputs": [
    {
     "name": "stdout",
     "output_type": "stream",
     "text": [
      "['Cristiano', 'Messi', 'Kaka', 'Ronaldo'] 4\n"
     ]
    },
    {
     "data": {
      "text/plain": [
       "['Cristiano', 'Messi', 'Kaka', 'Ronaldo', 'Neymar']"
      ]
     },
     "execution_count": 29,
     "metadata": {},
     "output_type": "execute_result"
    }
   ],
   "source": [
    "soccer = ['Cristiano','Messi','Kaka','Ronaldo']\n",
    "print(soccer,len(soccer))\n",
    "\n",
    "players = ['Neymar']\n",
    "soccer.extend(players)\n",
    "\n",
    "soccer"
   ]
  },
  {
   "cell_type": "code",
   "execution_count": 30,
   "id": "0f29bd28",
   "metadata": {},
   "outputs": [
    {
     "name": "stdout",
     "output_type": "stream",
     "text": [
      "['Cristiano', 'Messi', 'Kaka', 'Ronaldo'] 4\n"
     ]
    },
    {
     "data": {
      "text/plain": [
       "['Cristiano', 'Messi', 'Kaka', 'Ronaldo', 'Neymar']"
      ]
     },
     "execution_count": 30,
     "metadata": {},
     "output_type": "execute_result"
    }
   ],
   "source": [
    "soccer = ['Cristiano','Messi','Kaka','Ronaldo']\n",
    "print(soccer,len(soccer))\n",
    "\n",
    "soccer.extend(['Neymar'])\n",
    "\n",
    "soccer"
   ]
  },
  {
   "cell_type": "code",
   "execution_count": 31,
   "id": "a6d376a5",
   "metadata": {},
   "outputs": [
    {
     "name": "stdout",
     "output_type": "stream",
     "text": [
      "['Cristiano', 'Messi', 'Kaka', 'Ronaldo'] 4\n"
     ]
    },
    {
     "data": {
      "text/plain": [
       "['Cristiano', 'Messi', 'Kaka', 'Ronaldo', 'Neymar', 'Zadden']"
      ]
     },
     "execution_count": 31,
     "metadata": {},
     "output_type": "execute_result"
    }
   ],
   "source": [
    "soccer = ['Cristiano','Messi','Kaka','Ronaldo']\n",
    "print(soccer,len(soccer))\n",
    "\n",
    "players = ['Neymar','Zadden']\n",
    "soccer.extend(players)\n",
    "\n",
    "soccer"
   ]
  },
  {
   "cell_type": "code",
   "execution_count": 32,
   "id": "8b5b569d",
   "metadata": {},
   "outputs": [
    {
     "name": "stdout",
     "output_type": "stream",
     "text": [
      "['Cristiano', 'Messi', 'Kaka', 'Ronaldo'] 4\n"
     ]
    },
    {
     "data": {
      "text/plain": [
       "['Cristiano', 'Messi', 'Kaka', 'Ronaldo', 'Neymar', 'Zadden']"
      ]
     },
     "execution_count": 32,
     "metadata": {},
     "output_type": "execute_result"
    }
   ],
   "source": [
    "soccer = ['Cristiano','Messi','Kaka','Ronaldo']\n",
    "print(soccer,len(soccer))\n",
    "\n",
    "players = ('Neymar','Zadden')\n",
    "soccer.extend(players)\n",
    "\n",
    "soccer"
   ]
  },
  {
   "cell_type": "markdown",
   "id": "ffc5221f",
   "metadata": {},
   "source": [
    "## Insert function"
   ]
  },
  {
   "cell_type": "raw",
   "id": "2ba891c1",
   "metadata": {},
   "source": [
    "is used to add item at a certain index\n",
    "\n",
    "syntax:\n",
    "    list.insert(index,value)"
   ]
  },
  {
   "cell_type": "code",
   "execution_count": 34,
   "id": "0567560d",
   "metadata": {},
   "outputs": [
    {
     "data": {
      "text/plain": [
       "['Sunil', 'Cristiano', 'Messi', 'Kaka', 'Ronaldo']"
      ]
     },
     "execution_count": 34,
     "metadata": {},
     "output_type": "execute_result"
    }
   ],
   "source": [
    "soccer = ['Cristiano','Messi','Kaka','Ronaldo']\n",
    "\n",
    "soccer.insert(0,'Sunil')\n",
    "soccer"
   ]
  },
  {
   "cell_type": "code",
   "execution_count": 35,
   "id": "e91a809f",
   "metadata": {},
   "outputs": [
    {
     "data": {
      "text/plain": [
       "['Cristiano', 'Sunil', 'Messi', 'Kaka', 'Ronaldo']"
      ]
     },
     "execution_count": 35,
     "metadata": {},
     "output_type": "execute_result"
    }
   ],
   "source": [
    "soccer = ['Cristiano','Messi','Kaka','Ronaldo']\n",
    "\n",
    "soccer.insert(1,'Sunil')\n",
    "soccer"
   ]
  },
  {
   "cell_type": "code",
   "execution_count": 36,
   "id": "03478a8e",
   "metadata": {},
   "outputs": [
    {
     "data": {
      "text/plain": [
       "['Cristiano', 'Messi', 'Kaka', 'Sunil', 'Ronaldo']"
      ]
     },
     "execution_count": 36,
     "metadata": {},
     "output_type": "execute_result"
    }
   ],
   "source": [
    "soccer = ['Cristiano','Messi','Kaka','Ronaldo']\n",
    "\n",
    "soccer.insert(-1,'Sunil')\n",
    "soccer"
   ]
  },
  {
   "cell_type": "code",
   "execution_count": 47,
   "id": "fe28ffd7",
   "metadata": {},
   "outputs": [
    {
     "data": {
      "text/plain": [
       "['Cristiano', 'Messi', 'Kaka', 'Ronaldo', 'Sunil']"
      ]
     },
     "execution_count": 47,
     "metadata": {},
     "output_type": "execute_result"
    }
   ],
   "source": [
    "soccer = ['Cristiano','Messi','Kaka','Ronaldo']\n",
    "\n",
    "soccer.insert(len(soccer),'Sunil')\n",
    "soccer"
   ]
  },
  {
   "cell_type": "code",
   "execution_count": 48,
   "id": "c12c378a",
   "metadata": {},
   "outputs": [
    {
     "name": "stdout",
     "output_type": "stream",
     "text": [
      "['Cristiano', 'Messi', 'Kaka', 'Ronaldo'] 4\n"
     ]
    },
    {
     "data": {
      "text/plain": [
       "['Cristiano', ['Neymar', 'Zadden'], 'Messi', 'Kaka', 'Ronaldo']"
      ]
     },
     "execution_count": 48,
     "metadata": {},
     "output_type": "execute_result"
    }
   ],
   "source": [
    "soccer = ['Cristiano','Messi','Kaka','Ronaldo']\n",
    "print(soccer,len(soccer))\n",
    "\n",
    "players = ['Neymar','Zadden']\n",
    "soccer.insert(1,players)\n",
    "\n",
    "soccer"
   ]
  },
  {
   "cell_type": "code",
   "execution_count": 51,
   "id": "62cf1839",
   "metadata": {},
   "outputs": [
    {
     "name": "stdout",
     "output_type": "stream",
     "text": [
      "['Cristiano', 'Neymar', 'Messi', 'Kaka', 'Ronaldo']\n",
      "['Cristiano', 'Zadden', 'Neymar', 'Messi', 'Kaka', 'Ronaldo']\n"
     ]
    },
    {
     "data": {
      "text/plain": [
       "['Cristiano', 'Zadden', 'Neymar', 'Messi', 'Kaka', 'Ronaldo']"
      ]
     },
     "execution_count": 51,
     "metadata": {},
     "output_type": "execute_result"
    }
   ],
   "source": [
    "soccer = ['Cristiano','Messi','Kaka','Ronaldo']\n",
    "# print(soccer,len(soccer))\n",
    "\n",
    "players = ['Neymar','Zadden']\n",
    "\n",
    "for player in players:\n",
    "    soccer.insert(1,player)\n",
    "    print(soccer)\n",
    "\n",
    "soccer"
   ]
  },
  {
   "cell_type": "code",
   "execution_count": 52,
   "id": "3260713f",
   "metadata": {},
   "outputs": [
    {
     "name": "stdout",
     "output_type": "stream",
     "text": [
      "['Cristiano', 'Zadden', 'Messi', 'Kaka', 'Ronaldo']\n",
      "['Cristiano', 'Neymar', 'Zadden', 'Messi', 'Kaka', 'Ronaldo']\n"
     ]
    },
    {
     "data": {
      "text/plain": [
       "['Cristiano', 'Neymar', 'Zadden', 'Messi', 'Kaka', 'Ronaldo']"
      ]
     },
     "execution_count": 52,
     "metadata": {},
     "output_type": "execute_result"
    }
   ],
   "source": [
    "soccer = ['Cristiano','Messi','Kaka','Ronaldo']\n",
    "# print(soccer,len(soccer))\n",
    "\n",
    "players = ['Neymar','Zadden']\n",
    "\n",
    "for player in players[::-1]:\n",
    "    soccer.insert(1,player)\n",
    "    print(soccer)\n",
    "\n",
    "soccer"
   ]
  },
  {
   "cell_type": "code",
   "execution_count": 53,
   "id": "6c9aac2f",
   "metadata": {},
   "outputs": [
    {
     "name": "stdout",
     "output_type": "stream",
     "text": [
      "['Cristiano', 'Neymar', 'Messi', 'Kaka', 'Ronaldo']\n",
      "['Cristiano', 'Neymar', 'Zadden', 'Messi', 'Kaka', 'Ronaldo']\n"
     ]
    },
    {
     "data": {
      "text/plain": [
       "['Cristiano', 'Neymar', 'Zadden', 'Messi', 'Kaka', 'Ronaldo']"
      ]
     },
     "execution_count": 53,
     "metadata": {},
     "output_type": "execute_result"
    }
   ],
   "source": [
    "soccer = ['Cristiano','Messi','Kaka','Ronaldo']\n",
    "# print(soccer,len(soccer))\n",
    "\n",
    "players = ['Neymar','Zadden']\n",
    "\n",
    "for index,player in enumerate(players):      # 0,Neymar      1,Zadden \n",
    "    soccer.insert(index+1,player)\n",
    "    print(soccer)\n",
    "\n",
    "soccer"
   ]
  },
  {
   "cell_type": "code",
   "execution_count": 55,
   "id": "d0794657",
   "metadata": {},
   "outputs": [
    {
     "name": "stdout",
     "output_type": "stream",
     "text": [
      "['Cristiano', 'Neymar', 'Messi', 'Kaka', 'Ronaldo']\n",
      "['Cristiano', 'Neymar', 'Zadden', 'Messi', 'Kaka', 'Ronaldo']\n"
     ]
    },
    {
     "data": {
      "text/plain": [
       "['Cristiano', 'Neymar', 'Zadden', 'Messi', 'Kaka', 'Ronaldo']"
      ]
     },
     "execution_count": 55,
     "metadata": {},
     "output_type": "execute_result"
    }
   ],
   "source": [
    "soccer = ['Cristiano','Messi','Kaka','Ronaldo']\n",
    "# print(soccer,len(soccer))\n",
    "\n",
    "players = ['Neymar','Zadden']\n",
    "\n",
    "for i in range(1,3):      # 1,2\n",
    "    soccer.insert(i,players[i-1])\n",
    "    print(soccer)\n",
    "\n",
    "soccer"
   ]
  },
  {
   "cell_type": "code",
   "execution_count": 57,
   "id": "9d6ba1c5",
   "metadata": {},
   "outputs": [
    {
     "data": {
      "text/plain": [
       "'Zadden'"
      ]
     },
     "execution_count": 57,
     "metadata": {},
     "output_type": "execute_result"
    }
   ],
   "source": [
    "players[2-1]"
   ]
  },
  {
   "cell_type": "code",
   "execution_count": 62,
   "id": "43972d76",
   "metadata": {},
   "outputs": [
    {
     "name": "stdout",
     "output_type": "stream",
     "text": [
      "['Cristiano', 'Neymar', 'Messi', 'Kaka', 'Ronaldo']\n",
      "['Cristiano', 'Neymar', 'Zadden', 'Messi', 'Kaka', 'Ronaldo']\n"
     ]
    },
    {
     "data": {
      "text/plain": [
       "['Cristiano', 'Neymar', 'Zadden', 'Messi', 'Kaka', 'Ronaldo']"
      ]
     },
     "execution_count": 62,
     "metadata": {},
     "output_type": "execute_result"
    }
   ],
   "source": [
    "soccer = ['Cristiano','Messi','Kaka','Ronaldo']\n",
    "# print(soccer,len(soccer))\n",
    "\n",
    "players = ['Neymar','Zadden']\n",
    "\n",
    "for i in range(len(players)):      # 0,1\n",
    "    soccer.insert(i+1,players[i])\n",
    "    print(soccer)\n",
    "\n",
    "soccer"
   ]
  },
  {
   "cell_type": "code",
   "execution_count": 59,
   "id": "935c9ab3",
   "metadata": {},
   "outputs": [
    {
     "data": {
      "text/plain": [
       "[0, 1]"
      ]
     },
     "execution_count": 59,
     "metadata": {},
     "output_type": "execute_result"
    }
   ],
   "source": [
    "list(range(len(players)))"
   ]
  },
  {
   "cell_type": "markdown",
   "id": "382ef537",
   "metadata": {},
   "source": [
    "## Addition of lists"
   ]
  },
  {
   "cell_type": "code",
   "execution_count": 63,
   "id": "b0d82432",
   "metadata": {},
   "outputs": [
    {
     "data": {
      "text/plain": [
       "['Kanpur', 'Danapur', 'Nagpur', 'Mirzapur', 'Badalapur']"
      ]
     },
     "execution_count": 63,
     "metadata": {},
     "output_type": "execute_result"
    }
   ],
   "source": [
    "cities= ['Kanpur','Danapur','Nagpur','Mirzapur']\n",
    "\n",
    "city = ['Badalapur']\n",
    "\n",
    "cities = cities + city\n",
    "\n",
    "cities"
   ]
  },
  {
   "cell_type": "code",
   "execution_count": 65,
   "id": "36e8b0a7",
   "metadata": {},
   "outputs": [
    {
     "data": {
      "text/plain": [
       "['Badalapur', 'Kanpur', 'Danapur', 'Nagpur', 'Mirzapur']"
      ]
     },
     "execution_count": 65,
     "metadata": {},
     "output_type": "execute_result"
    }
   ],
   "source": [
    "cities= ['Kanpur','Danapur','Nagpur','Mirzapur']\n",
    "\n",
    "city = ['Badalapur']\n",
    "\n",
    "city = city + cities\n",
    "\n",
    "city"
   ]
  },
  {
   "cell_type": "code",
   "execution_count": 67,
   "id": "74c5d1cd",
   "metadata": {},
   "outputs": [
    {
     "data": {
      "text/plain": [
       "['Badalapur', 'Kanpur', 'Danapur', 'Nagpur', 'Mirzapur']"
      ]
     },
     "execution_count": 67,
     "metadata": {},
     "output_type": "execute_result"
    }
   ],
   "source": [
    "cities= ['Kanpur','Danapur','Nagpur','Mirzapur']\n",
    "\n",
    "city = 'Badalapur'\n",
    "\n",
    "city = [city] + cities\n",
    "\n",
    "city"
   ]
  },
  {
   "cell_type": "code",
   "execution_count": 69,
   "id": "9c03a97b",
   "metadata": {},
   "outputs": [
    {
     "data": {
      "text/plain": [
       "['Badalapur', 'Solapur', 'Kolhapur', 'Kanpur', 'Danapur', 'Nagpur', 'Mirzapur']"
      ]
     },
     "execution_count": 69,
     "metadata": {},
     "output_type": "execute_result"
    }
   ],
   "source": [
    "cities= ['Kanpur','Danapur','Nagpur','Mirzapur']\n",
    "\n",
    "city = ['Badalapur','Solapur','Kolhapur']\n",
    "\n",
    "city = city + cities\n",
    "\n",
    "city"
   ]
  },
  {
   "cell_type": "markdown",
   "id": "8ad20d9e",
   "metadata": {},
   "source": [
    "# Why is list Mutable?"
   ]
  },
  {
   "cell_type": "markdown",
   "id": "1b31f230",
   "metadata": {},
   "source": [
    "### proof 1"
   ]
  },
  {
   "cell_type": "raw",
   "id": "00b615db",
   "metadata": {},
   "source": [
    "id of list is not changing even after modifying the items in the list & that is whay it is mutable data type"
   ]
  },
  {
   "cell_type": "code",
   "execution_count": 74,
   "id": "c0663ff8",
   "metadata": {},
   "outputs": [
    {
     "name": "stdout",
     "output_type": "stream",
     "text": [
      "['p', 'y', 't', 'h', 'o', 'n']\n"
     ]
    },
    {
     "data": {
      "text/plain": [
       "2186112618816"
      ]
     },
     "execution_count": 74,
     "metadata": {},
     "output_type": "execute_result"
    }
   ],
   "source": [
    "chrs = list('python')\n",
    "print(chrs)\n",
    "id(chrs)"
   ]
  },
  {
   "cell_type": "code",
   "execution_count": 75,
   "id": "0912e115",
   "metadata": {},
   "outputs": [
    {
     "name": "stdout",
     "output_type": "stream",
     "text": [
      "['P', 'y', 't', 'h', 'o', 'n']\n"
     ]
    },
    {
     "data": {
      "text/plain": [
       "2186112618816"
      ]
     },
     "execution_count": 75,
     "metadata": {},
     "output_type": "execute_result"
    }
   ],
   "source": [
    "chrs[0]='P'\n",
    "print(chrs)\n",
    "id(chrs)"
   ]
  },
  {
   "cell_type": "raw",
   "id": "e44f8571",
   "metadata": {},
   "source": [
    "id of string is changing after modifying the items in the string & that is whay it is immutable data type"
   ]
  },
  {
   "cell_type": "code",
   "execution_count": 76,
   "id": "1a984434",
   "metadata": {},
   "outputs": [
    {
     "name": "stdout",
     "output_type": "stream",
     "text": [
      "python\n"
     ]
    },
    {
     "data": {
      "text/plain": [
       "2185520056944"
      ]
     },
     "execution_count": 76,
     "metadata": {},
     "output_type": "execute_result"
    }
   ],
   "source": [
    "string = 'python'\n",
    "print(string)\n",
    "id(string)"
   ]
  },
  {
   "cell_type": "code",
   "execution_count": 77,
   "id": "4a303dc2",
   "metadata": {},
   "outputs": [
    {
     "name": "stdout",
     "output_type": "stream",
     "text": [
      "Python\n"
     ]
    },
    {
     "data": {
      "text/plain": [
       "2186120111856"
      ]
     },
     "execution_count": 77,
     "metadata": {},
     "output_type": "execute_result"
    }
   ],
   "source": [
    "string = string.replace('p','P')\n",
    "print(string)\n",
    "id(string)"
   ]
  },
  {
   "cell_type": "markdown",
   "id": "a3331206",
   "metadata": {},
   "source": [
    "### proof 2"
   ]
  },
  {
   "cell_type": "raw",
   "id": "804599ce",
   "metadata": {},
   "source": [
    "bcz modifying the items of the list is possible using indexing so it is mutable data type\n",
    "however for string the mofification of items is not possiblen using indexing & so it is immutable data type"
   ]
  },
  {
   "cell_type": "code",
   "execution_count": 80,
   "id": "1ddbeeca",
   "metadata": {},
   "outputs": [
    {
     "data": {
      "text/plain": [
       "['p', 'y', 't', 'h', 'o', 'n']"
      ]
     },
     "execution_count": 80,
     "metadata": {},
     "output_type": "execute_result"
    }
   ],
   "source": [
    "chrs = list('python')\n",
    "chrs"
   ]
  },
  {
   "cell_type": "code",
   "execution_count": 81,
   "id": "57ed09b7",
   "metadata": {},
   "outputs": [
    {
     "data": {
      "text/plain": [
       "['P', 'y', 't', 'h', 'o', 'n']"
      ]
     },
     "execution_count": 81,
     "metadata": {},
     "output_type": "execute_result"
    }
   ],
   "source": [
    "chrs[0] = 'P'\n",
    "chrs"
   ]
  },
  {
   "cell_type": "code",
   "execution_count": 82,
   "id": "0a58f670",
   "metadata": {},
   "outputs": [
    {
     "data": {
      "text/plain": [
       "'p'"
      ]
     },
     "execution_count": 82,
     "metadata": {},
     "output_type": "execute_result"
    }
   ],
   "source": [
    "string = 'python'\n",
    "string[0]"
   ]
  },
  {
   "cell_type": "code",
   "execution_count": 83,
   "id": "3e7a1aa2",
   "metadata": {},
   "outputs": [
    {
     "ename": "TypeError",
     "evalue": "'str' object does not support item assignment",
     "output_type": "error",
     "traceback": [
      "\u001b[1;31m---------------------------------------------------------------------------\u001b[0m",
      "\u001b[1;31mTypeError\u001b[0m                                 Traceback (most recent call last)",
      "\u001b[1;32m<ipython-input-83-a6ffdb5d46d2>\u001b[0m in \u001b[0;36m<module>\u001b[1;34m\u001b[0m\n\u001b[1;32m----> 1\u001b[1;33m \u001b[0mstring\u001b[0m\u001b[1;33m[\u001b[0m\u001b[1;36m0\u001b[0m\u001b[1;33m]\u001b[0m \u001b[1;33m=\u001b[0m \u001b[1;34m'P'\u001b[0m\u001b[1;33m\u001b[0m\u001b[1;33m\u001b[0m\u001b[0m\n\u001b[0m",
      "\u001b[1;31mTypeError\u001b[0m: 'str' object does not support item assignment"
     ]
    }
   ],
   "source": [
    "string[0] = 'P'"
   ]
  },
  {
   "cell_type": "markdown",
   "id": "c105ed8e",
   "metadata": {},
   "source": [
    "# index function"
   ]
  },
  {
   "cell_type": "raw",
   "id": "7b289071",
   "metadata": {},
   "source": [
    "used to find the index of any item in the list\n",
    "Syntax:\n",
    "    list.index(item, start index, end index)"
   ]
  },
  {
   "cell_type": "code",
   "execution_count": 84,
   "id": "7f54b69d",
   "metadata": {},
   "outputs": [
    {
     "data": {
      "text/plain": [
       "1"
      ]
     },
     "execution_count": 84,
     "metadata": {},
     "output_type": "execute_result"
    }
   ],
   "source": [
    "age = [20,22,25,56,80,45,67,90,80]\n",
    "age.index(22)"
   ]
  },
  {
   "cell_type": "code",
   "execution_count": 85,
   "id": "301daf86",
   "metadata": {},
   "outputs": [
    {
     "data": {
      "text/plain": [
       "6"
      ]
     },
     "execution_count": 85,
     "metadata": {},
     "output_type": "execute_result"
    }
   ],
   "source": [
    "age.index(90)"
   ]
  },
  {
   "cell_type": "code",
   "execution_count": 86,
   "id": "005cca79",
   "metadata": {},
   "outputs": [
    {
     "data": {
      "text/plain": [
       "-2"
      ]
     },
     "execution_count": 86,
     "metadata": {},
     "output_type": "execute_result"
    }
   ],
   "source": [
    "age.index(90)-len(age)"
   ]
  },
  {
   "cell_type": "code",
   "execution_count": 87,
   "id": "b4008bb7",
   "metadata": {},
   "outputs": [
    {
     "data": {
      "text/plain": [
       "4"
      ]
     },
     "execution_count": 87,
     "metadata": {},
     "output_type": "execute_result"
    }
   ],
   "source": [
    "age = [20,22,25,56,80,45,67,90,80]\n",
    "age.index(80)   # by default it gives the index of first occurance"
   ]
  },
  {
   "cell_type": "code",
   "execution_count": 89,
   "id": "6399a8e5",
   "metadata": {},
   "outputs": [
    {
     "data": {
      "text/plain": [
       "8"
      ]
     },
     "execution_count": 89,
     "metadata": {},
     "output_type": "execute_result"
    }
   ],
   "source": [
    "age = [20,22,25,56,80,45,67,90,80]\n",
    "age.index(80,5,len(age))   # start index is 5 & end index is len(age)"
   ]
  },
  {
   "cell_type": "code",
   "execution_count": 91,
   "id": "aeb35b71",
   "metadata": {},
   "outputs": [
    {
     "data": {
      "text/plain": [
       "8"
      ]
     },
     "execution_count": 91,
     "metadata": {},
     "output_type": "execute_result"
    }
   ],
   "source": [
    "age = [20,22,25,56,80,45,67,90,80]\n",
    "age.index(80,5)   # by default end index is len(age)"
   ]
  },
  {
   "cell_type": "code",
   "execution_count": null,
   "id": "abfe5fb1",
   "metadata": {},
   "outputs": [],
   "source": [
    "age = [20,22,25,56,80,45,67,90,80]\n",
    "\n",
    "for i,j in enumerate(age):\n",
    "    if j==80:\n",
    "        print(i)\n",
    "\n",
    "[i for i,j in enumerate(age) if j==80]"
   ]
  },
  {
   "cell_type": "code",
   "execution_count": 103,
   "id": "9387f1a5",
   "metadata": {},
   "outputs": [
    {
     "data": {
      "text/plain": [
       "[0, 1, 2, 3, 4, 5, 6, 7, 8]"
      ]
     },
     "execution_count": 103,
     "metadata": {},
     "output_type": "execute_result"
    }
   ],
   "source": [
    "list(range(len(age)))"
   ]
  },
  {
   "cell_type": "code",
   "execution_count": 117,
   "id": "af143617",
   "metadata": {
    "scrolled": true
   },
   "outputs": [
    {
     "name": "stdout",
     "output_type": "stream",
     "text": [
      "[20, 22, 25, 56, 80, 45, 67, 90, 80]\n"
     ]
    },
    {
     "data": {
      "text/plain": [
       "{4, 8}"
      ]
     },
     "execution_count": 117,
     "metadata": {},
     "output_type": "execute_result"
    }
   ],
   "source": [
    "\n",
    "print(age)\n",
    "list1 = []\n",
    "a = 0\n",
    "\n",
    "for i in range(1,len(age)):\n",
    "    \n",
    "    if age.index(80,a,len(age)):\n",
    "        \n",
    "        list1.append(age.index(80,a,len(age)))\n",
    "        \n",
    "        a=i+1\n",
    "          \n",
    "set(list1)"
   ]
  },
  {
   "cell_type": "code",
   "execution_count": 119,
   "id": "a763f14c",
   "metadata": {},
   "outputs": [
    {
     "name": "stdout",
     "output_type": "stream",
     "text": [
      "[20, 22, 25, 56, 80, 45, 67, 90, 80]\n"
     ]
    },
    {
     "data": {
      "text/plain": [
       "20"
      ]
     },
     "execution_count": 119,
     "metadata": {},
     "output_type": "execute_result"
    }
   ],
   "source": [
    "print(age)\n",
    "min(age)"
   ]
  },
  {
   "cell_type": "code",
   "execution_count": 120,
   "id": "4cb221cb",
   "metadata": {},
   "outputs": [
    {
     "name": "stdout",
     "output_type": "stream",
     "text": [
      "[20, 22, 25, 56, 80, 45, 67, 90, 80]\n"
     ]
    },
    {
     "data": {
      "text/plain": [
       "90"
      ]
     },
     "execution_count": 120,
     "metadata": {},
     "output_type": "execute_result"
    }
   ],
   "source": [
    "print(age)\n",
    "max(age)"
   ]
  },
  {
   "cell_type": "code",
   "execution_count": 121,
   "id": "2eb3325e",
   "metadata": {},
   "outputs": [
    {
     "data": {
      "text/plain": [
       "7"
      ]
     },
     "execution_count": 121,
     "metadata": {},
     "output_type": "execute_result"
    }
   ],
   "source": [
    "age.index(max(age))"
   ]
  },
  {
   "cell_type": "code",
   "execution_count": 122,
   "id": "55101b40",
   "metadata": {},
   "outputs": [
    {
     "data": {
      "text/plain": [
       "0"
      ]
     },
     "execution_count": 122,
     "metadata": {},
     "output_type": "execute_result"
    }
   ],
   "source": [
    "age.index(min(age))"
   ]
  },
  {
   "cell_type": "code",
   "execution_count": 125,
   "id": "16e09c12",
   "metadata": {},
   "outputs": [
    {
     "ename": "ValueError",
     "evalue": "3 is not in list",
     "output_type": "error",
     "traceback": [
      "\u001b[1;31m---------------------------------------------------------------------------\u001b[0m",
      "\u001b[1;31mValueError\u001b[0m                                Traceback (most recent call last)",
      "\u001b[1;32m<ipython-input-125-23c4e370ba52>\u001b[0m in \u001b[0;36m<module>\u001b[1;34m\u001b[0m\n\u001b[0;32m      1\u001b[0m \u001b[0mnested\u001b[0m \u001b[1;33m=\u001b[0m \u001b[1;33m[\u001b[0m\u001b[1;36m1\u001b[0m\u001b[1;33m,\u001b[0m\u001b[1;36m2\u001b[0m\u001b[1;33m,\u001b[0m\u001b[1;33m[\u001b[0m\u001b[1;36m3\u001b[0m\u001b[1;33m,\u001b[0m\u001b[1;36m4\u001b[0m\u001b[1;33m]\u001b[0m\u001b[1;33m,\u001b[0m\u001b[1;36m5\u001b[0m\u001b[1;33m]\u001b[0m\u001b[1;33m\u001b[0m\u001b[1;33m\u001b[0m\u001b[0m\n\u001b[0;32m      2\u001b[0m \u001b[1;33m\u001b[0m\u001b[0m\n\u001b[1;32m----> 3\u001b[1;33m \u001b[0mnested\u001b[0m\u001b[1;33m.\u001b[0m\u001b[0mindex\u001b[0m\u001b[1;33m(\u001b[0m\u001b[1;36m3\u001b[0m\u001b[1;33m)\u001b[0m\u001b[1;33m\u001b[0m\u001b[1;33m\u001b[0m\u001b[0m\n\u001b[0m",
      "\u001b[1;31mValueError\u001b[0m: 3 is not in list"
     ]
    }
   ],
   "source": [
    "nested = [1,2,[3,4],5]\n",
    "\n",
    "nested.index(3)"
   ]
  },
  {
   "cell_type": "code",
   "execution_count": 126,
   "id": "30ee37cd",
   "metadata": {},
   "outputs": [
    {
     "data": {
      "text/plain": [
       "2"
      ]
     },
     "execution_count": 126,
     "metadata": {},
     "output_type": "execute_result"
    }
   ],
   "source": [
    "nested.index([3,4])"
   ]
  },
  {
   "cell_type": "code",
   "execution_count": 132,
   "id": "d6ac49bb",
   "metadata": {},
   "outputs": [
    {
     "name": "stdout",
     "output_type": "stream",
     "text": [
      "nested[2][0]\n"
     ]
    }
   ],
   "source": [
    "print(f'nested[{nested.index([3,4])}][{nested[nested.index([3,4])].index(3)}]')"
   ]
  },
  {
   "cell_type": "code",
   "execution_count": null,
   "id": "9b3902d7",
   "metadata": {},
   "outputs": [],
   "source": []
  }
 ],
 "metadata": {
  "kernelspec": {
   "display_name": "Python 3 (ipykernel)",
   "language": "python",
   "name": "python3"
  },
  "language_info": {
   "codemirror_mode": {
    "name": "ipython",
    "version": 3
   },
   "file_extension": ".py",
   "mimetype": "text/x-python",
   "name": "python",
   "nbconvert_exporter": "python",
   "pygments_lexer": "ipython3",
   "version": "3.9.12"
  },
  "toc": {
   "base_numbering": 1,
   "nav_menu": {},
   "number_sections": true,
   "sideBar": true,
   "skip_h1_title": false,
   "title_cell": "Table of Contents",
   "title_sidebar": "Contents",
   "toc_cell": false,
   "toc_position": {},
   "toc_section_display": true,
   "toc_window_display": false
  },
  "varInspector": {
   "cols": {
    "lenName": 16,
    "lenType": 16,
    "lenVar": 40
   },
   "kernels_config": {
    "python": {
     "delete_cmd_postfix": "",
     "delete_cmd_prefix": "del ",
     "library": "var_list.py",
     "varRefreshCmd": "print(var_dic_list())"
    },
    "r": {
     "delete_cmd_postfix": ") ",
     "delete_cmd_prefix": "rm(",
     "library": "var_list.r",
     "varRefreshCmd": "cat(var_dic_list()) "
    }
   },
   "types_to_exclude": [
    "module",
    "function",
    "builtin_function_or_method",
    "instance",
    "_Feature"
   ],
   "window_display": false
  }
 },
 "nbformat": 4,
 "nbformat_minor": 5
}

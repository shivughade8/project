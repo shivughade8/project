{
 "cells": [
  {
   "cell_type": "raw",
   "id": "5cafac12",
   "metadata": {},
   "source": [
    "Set:\n",
    "    unordered data type (hashing)\n",
    "    mutable\n",
    "    duplicates are not allowed\n",
    "    indexing is not supproted on set\n",
    "    \n",
    "Mutable >> List, Set, Dict\n",
    "Immutable >> string, Tuple, int, float, boolean\n",
    "\n",
    "Sets are enclosed in {} curly braces\n",
    "items in sets are separated by commas\n",
    "initialise set by set constructor\n",
    "data types of empty set is dict\n",
    "\n",
    "while dict is also in curly braces but the items in dict are key value pairs which are separated by column & the items in dict is separated by comma whereas items in set are comma separated alone"
   ]
  },
  {
   "cell_type": "code",
   "execution_count": 1,
   "id": "bd7621e5",
   "metadata": {},
   "outputs": [
    {
     "data": {
      "text/plain": [
       "dict"
      ]
     },
     "execution_count": 1,
     "metadata": {},
     "output_type": "execute_result"
    }
   ],
   "source": [
    "set1 = {}\n",
    "type(set1)"
   ]
  },
  {
   "cell_type": "code",
   "execution_count": 2,
   "id": "2174e22a",
   "metadata": {},
   "outputs": [
    {
     "data": {
      "text/plain": [
       "set"
      ]
     },
     "execution_count": 2,
     "metadata": {},
     "output_type": "execute_result"
    }
   ],
   "source": [
    "set1 = set({})\n",
    "type(set1)"
   ]
  },
  {
   "cell_type": "code",
   "execution_count": 3,
   "id": "26e97e19",
   "metadata": {},
   "outputs": [
    {
     "data": {
      "text/plain": [
       "set"
      ]
     },
     "execution_count": 3,
     "metadata": {},
     "output_type": "execute_result"
    }
   ],
   "source": [
    "set1 = {1}\n",
    "type(set1)"
   ]
  },
  {
   "cell_type": "code",
   "execution_count": 4,
   "id": "c098939e",
   "metadata": {},
   "outputs": [
    {
     "data": {
      "text/plain": [
       "set"
      ]
     },
     "execution_count": 4,
     "metadata": {},
     "output_type": "execute_result"
    }
   ],
   "source": [
    "set1 = {1,}\n",
    "type(set1)"
   ]
  },
  {
   "cell_type": "code",
   "execution_count": 6,
   "id": "6ac11fd9",
   "metadata": {},
   "outputs": [
    {
     "data": {
      "text/plain": [
       "dict"
      ]
     },
     "execution_count": 6,
     "metadata": {},
     "output_type": "execute_result"
    }
   ],
   "source": [
    "set1 = {'num':1}    #{key:value,key:value}\n",
    "type(set1)"
   ]
  },
  {
   "cell_type": "raw",
   "id": "1f4ccd62",
   "metadata": {},
   "source": [
    "list = []\n",
    "tuple = ()\n",
    "string = \"\"\n",
    "set = {,}\n",
    "dict = {key:value}"
   ]
  },
  {
   "cell_type": "code",
   "execution_count": 12,
   "id": "0c9d777f",
   "metadata": {},
   "outputs": [
    {
     "data": {
      "text/plain": [
       "{'%', 100, 2, 200, 212, 3, 4, 5, 6, 7, 'Welcome', 'hello', 'hi'}"
      ]
     },
     "execution_count": 12,
     "metadata": {},
     "output_type": "execute_result"
    }
   ],
   "source": [
    "# set considers all unique/distinct values only\n",
    "# order is changed\n",
    "\n",
    "set1 = {3,6,7,5,4,4,100,200,2,212,'Welcome','hi','hello','%'}\n",
    "set1"
   ]
  },
  {
   "cell_type": "code",
   "execution_count": 13,
   "id": "68fe1adb",
   "metadata": {},
   "outputs": [
    {
     "data": {
      "text/plain": [
       "{3, 4, 5, 6, 7}"
      ]
     },
     "execution_count": 13,
     "metadata": {},
     "output_type": "execute_result"
    }
   ],
   "source": [
    "# program to remove duplicate items from list\n",
    "\n",
    "list1 = [3,5,4,3,3,6,7]\n",
    "\n",
    "set(list1)"
   ]
  },
  {
   "cell_type": "code",
   "execution_count": 14,
   "id": "e7ef1095",
   "metadata": {},
   "outputs": [
    {
     "name": "stdout",
     "output_type": "stream",
     "text": [
      "hi\n",
      "2\n",
      "3\n",
      "4\n",
      "5\n",
      "6\n",
      "7\n",
      "100\n",
      "200\n",
      "Welcome\n",
      "hello\n",
      "%\n",
      "212\n"
     ]
    }
   ],
   "source": [
    "set1 = {3,6,7,5,4,4,100,200,2,212,'Welcome','hi','hello','%'}\n",
    "\n",
    "for i in set1:\n",
    "    print(i)"
   ]
  },
  {
   "cell_type": "markdown",
   "id": "b23f155f",
   "metadata": {},
   "source": [
    "# Functions on set"
   ]
  },
  {
   "cell_type": "markdown",
   "id": "1ee1c856",
   "metadata": {},
   "source": [
    "## removing items form set"
   ]
  },
  {
   "cell_type": "markdown",
   "id": "f194091d",
   "metadata": {},
   "source": [
    "### remove()"
   ]
  },
  {
   "cell_type": "raw",
   "id": "28d910fb",
   "metadata": {},
   "source": [
    "it removes the selected item from the set\n",
    "but if thee item is not rpesent then it throws error\n",
    "it does not need any additonal variable to stroe the change"
   ]
  },
  {
   "cell_type": "code",
   "execution_count": 17,
   "id": "db842f97",
   "metadata": {},
   "outputs": [
    {
     "data": {
      "text/plain": [
       "{3, 4, 5, 6, 7, 200}"
      ]
     },
     "execution_count": 17,
     "metadata": {},
     "output_type": "execute_result"
    }
   ],
   "source": [
    "set1 = {3,6,7,5,4,4,100,200}\n",
    "\n",
    "set1.remove(100)\n",
    "set1"
   ]
  },
  {
   "cell_type": "code",
   "execution_count": 18,
   "id": "7216524e",
   "metadata": {},
   "outputs": [
    {
     "data": {
      "text/plain": [
       "{3, 5, 6, 7, 100, 200}"
      ]
     },
     "execution_count": 18,
     "metadata": {},
     "output_type": "execute_result"
    }
   ],
   "source": [
    "set1 = {3,6,7,5,4,4,100,200}\n",
    "\n",
    "set1.remove(4)\n",
    "set1"
   ]
  },
  {
   "cell_type": "code",
   "execution_count": 19,
   "id": "9e75bd90",
   "metadata": {},
   "outputs": [
    {
     "ename": "KeyError",
     "evalue": "'hi'",
     "output_type": "error",
     "traceback": [
      "\u001b[1;31m---------------------------------------------------------------------------\u001b[0m",
      "\u001b[1;31mKeyError\u001b[0m                                  Traceback (most recent call last)",
      "\u001b[1;32m<ipython-input-19-35c12432e572>\u001b[0m in \u001b[0;36m<module>\u001b[1;34m\u001b[0m\n\u001b[0;32m      1\u001b[0m \u001b[0mset1\u001b[0m \u001b[1;33m=\u001b[0m \u001b[1;33m{\u001b[0m\u001b[1;36m3\u001b[0m\u001b[1;33m,\u001b[0m\u001b[1;36m6\u001b[0m\u001b[1;33m,\u001b[0m\u001b[1;36m7\u001b[0m\u001b[1;33m,\u001b[0m\u001b[1;36m5\u001b[0m\u001b[1;33m,\u001b[0m\u001b[1;36m4\u001b[0m\u001b[1;33m,\u001b[0m\u001b[1;36m4\u001b[0m\u001b[1;33m,\u001b[0m\u001b[1;36m100\u001b[0m\u001b[1;33m,\u001b[0m\u001b[1;36m200\u001b[0m\u001b[1;33m}\u001b[0m\u001b[1;33m\u001b[0m\u001b[1;33m\u001b[0m\u001b[0m\n\u001b[0;32m      2\u001b[0m \u001b[1;33m\u001b[0m\u001b[0m\n\u001b[1;32m----> 3\u001b[1;33m \u001b[0mset1\u001b[0m\u001b[1;33m.\u001b[0m\u001b[0mremove\u001b[0m\u001b[1;33m(\u001b[0m\u001b[1;34m'hi'\u001b[0m\u001b[1;33m)\u001b[0m\u001b[1;33m\u001b[0m\u001b[1;33m\u001b[0m\u001b[0m\n\u001b[0m\u001b[0;32m      4\u001b[0m \u001b[0mset1\u001b[0m\u001b[1;33m\u001b[0m\u001b[1;33m\u001b[0m\u001b[0m\n",
      "\u001b[1;31mKeyError\u001b[0m: 'hi'"
     ]
    }
   ],
   "source": [
    "set1 = {3,6,7,5,4,4,100,200}\n",
    "\n",
    "set1.remove('hi')\n",
    "set1"
   ]
  },
  {
   "cell_type": "markdown",
   "id": "b98a6437",
   "metadata": {},
   "source": [
    "### discard"
   ]
  },
  {
   "cell_type": "raw",
   "id": "ca2bc7f1",
   "metadata": {},
   "source": [
    "it also removes the item from set but if thee item is not present then it does not throw any error"
   ]
  },
  {
   "cell_type": "code",
   "execution_count": 20,
   "id": "d81a7716",
   "metadata": {},
   "outputs": [
    {
     "data": {
      "text/plain": [
       "{3, 4, 5, 6, 7, 100}"
      ]
     },
     "execution_count": 20,
     "metadata": {},
     "output_type": "execute_result"
    }
   ],
   "source": [
    "set1 = {3,6,7,5,4,4,100,200}\n",
    "\n",
    "set1.discard(200)\n",
    "set1"
   ]
  },
  {
   "cell_type": "code",
   "execution_count": 21,
   "id": "1b4d877d",
   "metadata": {},
   "outputs": [
    {
     "data": {
      "text/plain": [
       "{3, 4, 5, 6, 7, 100, 200}"
      ]
     },
     "execution_count": 21,
     "metadata": {},
     "output_type": "execute_result"
    }
   ],
   "source": [
    "set1 = {3,6,7,5,4,4,100,200}\n",
    "\n",
    "set1.discard('hi')\n",
    "set1"
   ]
  },
  {
   "cell_type": "markdown",
   "id": "d1191bb2",
   "metadata": {},
   "source": [
    "### pop"
   ]
  },
  {
   "cell_type": "raw",
   "id": "2c662ef0",
   "metadata": {},
   "source": [
    "it pops any random value from the set\n",
    "when we print set, we can realise that pop is actually popping out the vlaue at the 0th index"
   ]
  },
  {
   "cell_type": "code",
   "execution_count": 25,
   "id": "857564f0",
   "metadata": {},
   "outputs": [
    {
     "name": "stdout",
     "output_type": "stream",
     "text": [
      "{3, 4, 5, 6, 7, 100, 200}\n"
     ]
    },
    {
     "data": {
      "text/plain": [
       "{4, 5, 6, 7, 100, 200}"
      ]
     },
     "execution_count": 25,
     "metadata": {},
     "output_type": "execute_result"
    }
   ],
   "source": [
    "set1 = {3,6,7,5,4,4,100,200}\n",
    "\n",
    "print(set1)\n",
    "\n",
    "set1.pop()\n",
    "\n",
    "set1"
   ]
  },
  {
   "cell_type": "code",
   "execution_count": 26,
   "id": "5efc16d2",
   "metadata": {},
   "outputs": [
    {
     "name": "stdout",
     "output_type": "stream",
     "text": [
      "{3, 4, 5, 6, 7, 100, 200}\n"
     ]
    },
    {
     "ename": "TypeError",
     "evalue": "pop() takes no arguments (1 given)",
     "output_type": "error",
     "traceback": [
      "\u001b[1;31m---------------------------------------------------------------------------\u001b[0m",
      "\u001b[1;31mTypeError\u001b[0m                                 Traceback (most recent call last)",
      "\u001b[1;32m<ipython-input-26-93bc1582303c>\u001b[0m in \u001b[0;36m<module>\u001b[1;34m\u001b[0m\n\u001b[0;32m      3\u001b[0m \u001b[0mprint\u001b[0m\u001b[1;33m(\u001b[0m\u001b[0mset1\u001b[0m\u001b[1;33m)\u001b[0m\u001b[1;33m\u001b[0m\u001b[1;33m\u001b[0m\u001b[0m\n\u001b[0;32m      4\u001b[0m \u001b[1;33m\u001b[0m\u001b[0m\n\u001b[1;32m----> 5\u001b[1;33m \u001b[0mset1\u001b[0m\u001b[1;33m.\u001b[0m\u001b[0mpop\u001b[0m\u001b[1;33m(\u001b[0m\u001b[1;36m100\u001b[0m\u001b[1;33m)\u001b[0m\u001b[1;33m\u001b[0m\u001b[1;33m\u001b[0m\u001b[0m\n\u001b[0m\u001b[0;32m      6\u001b[0m \u001b[1;33m\u001b[0m\u001b[0m\n\u001b[0;32m      7\u001b[0m \u001b[0mset1\u001b[0m\u001b[1;33m\u001b[0m\u001b[1;33m\u001b[0m\u001b[0m\n",
      "\u001b[1;31mTypeError\u001b[0m: pop() takes no arguments (1 given)"
     ]
    }
   ],
   "source": [
    "set1 = {3,6,7,5,4,4,100,200}\n",
    "\n",
    "print(set1)\n",
    "\n",
    "set1.pop(100)\n",
    "\n",
    "set1"
   ]
  },
  {
   "cell_type": "markdown",
   "id": "2267eb61",
   "metadata": {},
   "source": [
    "### clear()"
   ]
  },
  {
   "cell_type": "code",
   "execution_count": 28,
   "id": "4081d5e0",
   "metadata": {},
   "outputs": [
    {
     "data": {
      "text/plain": [
       "set()"
      ]
     },
     "execution_count": 28,
     "metadata": {},
     "output_type": "execute_result"
    }
   ],
   "source": [
    "set1 = {3,6,7,5,4,4,100,200}\n",
    "\n",
    "set1.clear()\n",
    "set1"
   ]
  },
  {
   "cell_type": "markdown",
   "id": "9b5de38c",
   "metadata": {},
   "source": [
    "### del"
   ]
  },
  {
   "cell_type": "code",
   "execution_count": 29,
   "id": "a13a7df8",
   "metadata": {},
   "outputs": [
    {
     "ename": "NameError",
     "evalue": "name 'set1' is not defined",
     "output_type": "error",
     "traceback": [
      "\u001b[1;31m---------------------------------------------------------------------------\u001b[0m",
      "\u001b[1;31mNameError\u001b[0m                                 Traceback (most recent call last)",
      "\u001b[1;32m<ipython-input-29-119b7438a31f>\u001b[0m in \u001b[0;36m<module>\u001b[1;34m\u001b[0m\n\u001b[0;32m      1\u001b[0m \u001b[1;32mdel\u001b[0m \u001b[0mset1\u001b[0m\u001b[1;33m\u001b[0m\u001b[1;33m\u001b[0m\u001b[0m\n\u001b[1;32m----> 2\u001b[1;33m \u001b[0mset1\u001b[0m\u001b[1;33m\u001b[0m\u001b[1;33m\u001b[0m\u001b[0m\n\u001b[0m",
      "\u001b[1;31mNameError\u001b[0m: name 'set1' is not defined"
     ]
    }
   ],
   "source": [
    "del set1\n",
    "set1"
   ]
  },
  {
   "cell_type": "code",
   "execution_count": 30,
   "id": "fe4b4595",
   "metadata": {},
   "outputs": [
    {
     "ename": "TypeError",
     "evalue": "'set' object doesn't support item deletion",
     "output_type": "error",
     "traceback": [
      "\u001b[1;31m---------------------------------------------------------------------------\u001b[0m",
      "\u001b[1;31mTypeError\u001b[0m                                 Traceback (most recent call last)",
      "\u001b[1;32m<ipython-input-30-f30740960764>\u001b[0m in \u001b[0;36m<module>\u001b[1;34m\u001b[0m\n\u001b[0;32m      1\u001b[0m \u001b[0mset1\u001b[0m \u001b[1;33m=\u001b[0m \u001b[1;33m{\u001b[0m\u001b[1;36m3\u001b[0m\u001b[1;33m,\u001b[0m\u001b[1;36m6\u001b[0m\u001b[1;33m,\u001b[0m\u001b[1;36m7\u001b[0m\u001b[1;33m,\u001b[0m\u001b[1;36m5\u001b[0m\u001b[1;33m,\u001b[0m\u001b[1;36m4\u001b[0m\u001b[1;33m,\u001b[0m\u001b[1;36m4\u001b[0m\u001b[1;33m,\u001b[0m\u001b[1;36m100\u001b[0m\u001b[1;33m,\u001b[0m\u001b[1;36m200\u001b[0m\u001b[1;33m}\u001b[0m\u001b[1;33m\u001b[0m\u001b[1;33m\u001b[0m\u001b[0m\n\u001b[0;32m      2\u001b[0m \u001b[1;33m\u001b[0m\u001b[0m\n\u001b[1;32m----> 3\u001b[1;33m \u001b[1;32mdel\u001b[0m \u001b[0mset1\u001b[0m\u001b[1;33m[\u001b[0m\u001b[1;36m0\u001b[0m\u001b[1;33m]\u001b[0m\u001b[1;33m\u001b[0m\u001b[1;33m\u001b[0m\u001b[0m\n\u001b[0m",
      "\u001b[1;31mTypeError\u001b[0m: 'set' object doesn't support item deletion"
     ]
    }
   ],
   "source": [
    "set1 = {3,6,7,5,4,4,100,200}\n",
    "\n",
    "del set1[0]"
   ]
  },
  {
   "cell_type": "code",
   "execution_count": 31,
   "id": "eab1dfca",
   "metadata": {},
   "outputs": [
    {
     "ename": "TypeError",
     "evalue": "'set' object is not subscriptable",
     "output_type": "error",
     "traceback": [
      "\u001b[1;31m---------------------------------------------------------------------------\u001b[0m",
      "\u001b[1;31mTypeError\u001b[0m                                 Traceback (most recent call last)",
      "\u001b[1;32m<ipython-input-31-69d986001124>\u001b[0m in \u001b[0;36m<module>\u001b[1;34m\u001b[0m\n\u001b[0;32m      1\u001b[0m \u001b[0mset1\u001b[0m \u001b[1;33m=\u001b[0m \u001b[1;33m{\u001b[0m\u001b[1;36m3\u001b[0m\u001b[1;33m,\u001b[0m\u001b[1;36m6\u001b[0m\u001b[1;33m,\u001b[0m\u001b[1;36m7\u001b[0m\u001b[1;33m,\u001b[0m\u001b[1;36m5\u001b[0m\u001b[1;33m,\u001b[0m\u001b[1;36m4\u001b[0m\u001b[1;33m,\u001b[0m\u001b[1;36m4\u001b[0m\u001b[1;33m,\u001b[0m\u001b[1;36m100\u001b[0m\u001b[1;33m,\u001b[0m\u001b[1;36m200\u001b[0m\u001b[1;33m}\u001b[0m\u001b[1;33m\u001b[0m\u001b[1;33m\u001b[0m\u001b[0m\n\u001b[1;32m----> 2\u001b[1;33m \u001b[0mset1\u001b[0m\u001b[1;33m[\u001b[0m\u001b[1;36m0\u001b[0m\u001b[1;33m]\u001b[0m\u001b[1;33m\u001b[0m\u001b[1;33m\u001b[0m\u001b[0m\n\u001b[0m",
      "\u001b[1;31mTypeError\u001b[0m: 'set' object is not subscriptable"
     ]
    }
   ],
   "source": [
    "set1 = {3,6,7,5,4,4,100,200}\n",
    "set1[0]"
   ]
  },
  {
   "cell_type": "code",
   "execution_count": 32,
   "id": "c51f70f8",
   "metadata": {},
   "outputs": [
    {
     "ename": "TypeError",
     "evalue": "'set' object does not support item assignment",
     "output_type": "error",
     "traceback": [
      "\u001b[1;31m---------------------------------------------------------------------------\u001b[0m",
      "\u001b[1;31mTypeError\u001b[0m                                 Traceback (most recent call last)",
      "\u001b[1;32m<ipython-input-32-3ca306a8ee23>\u001b[0m in \u001b[0;36m<module>\u001b[1;34m\u001b[0m\n\u001b[0;32m      1\u001b[0m \u001b[0mset1\u001b[0m \u001b[1;33m=\u001b[0m \u001b[1;33m{\u001b[0m\u001b[1;36m3\u001b[0m\u001b[1;33m,\u001b[0m\u001b[1;36m6\u001b[0m\u001b[1;33m,\u001b[0m\u001b[1;36m7\u001b[0m\u001b[1;33m,\u001b[0m\u001b[1;36m5\u001b[0m\u001b[1;33m,\u001b[0m\u001b[1;36m4\u001b[0m\u001b[1;33m,\u001b[0m\u001b[1;36m4\u001b[0m\u001b[1;33m,\u001b[0m\u001b[1;36m100\u001b[0m\u001b[1;33m,\u001b[0m\u001b[1;36m200\u001b[0m\u001b[1;33m}\u001b[0m\u001b[1;33m\u001b[0m\u001b[1;33m\u001b[0m\u001b[0m\n\u001b[1;32m----> 2\u001b[1;33m \u001b[0mset1\u001b[0m\u001b[1;33m[\u001b[0m\u001b[1;36m0\u001b[0m\u001b[1;33m]\u001b[0m \u001b[1;33m=\u001b[0m \u001b[1;36m500\u001b[0m\u001b[1;33m\u001b[0m\u001b[1;33m\u001b[0m\u001b[0m\n\u001b[0m",
      "\u001b[1;31mTypeError\u001b[0m: 'set' object does not support item assignment"
     ]
    }
   ],
   "source": [
    "set1 = {3,6,7,5,4,4,100,200}\n",
    "set1[0] = 500"
   ]
  },
  {
   "cell_type": "markdown",
   "id": "2f336483",
   "metadata": {},
   "source": [
    "# adding of items in set"
   ]
  },
  {
   "cell_type": "markdown",
   "id": "f40c2aae",
   "metadata": {},
   "source": [
    "## add()"
   ]
  },
  {
   "cell_type": "raw",
   "id": "d1098a2e",
   "metadata": {},
   "source": [
    "it does not add iterator & multiple items\n",
    "it also does not need any additonal variable to store the change"
   ]
  },
  {
   "cell_type": "code",
   "execution_count": 33,
   "id": "3191b71d",
   "metadata": {},
   "outputs": [
    {
     "data": {
      "text/plain": [
       "{100, 200, 3, 4, 5, 6, 7, 'Hello'}"
      ]
     },
     "execution_count": 33,
     "metadata": {},
     "output_type": "execute_result"
    }
   ],
   "source": [
    "set1 = {3,6,7,5,4,4,100,200}\n",
    "\n",
    "set1.add('Hello')\n",
    "set1"
   ]
  },
  {
   "cell_type": "code",
   "execution_count": 34,
   "id": "478f05d8",
   "metadata": {},
   "outputs": [
    {
     "data": {
      "text/plain": [
       "{3, 4, 5, 6, 7, 100, 200, 500}"
      ]
     },
     "execution_count": 34,
     "metadata": {},
     "output_type": "execute_result"
    }
   ],
   "source": [
    "set1 = {3,6,7,5,4,4,100,200}\n",
    "\n",
    "set1.add(500)\n",
    "set1"
   ]
  },
  {
   "cell_type": "code",
   "execution_count": 35,
   "id": "b220c99a",
   "metadata": {},
   "outputs": [
    {
     "ename": "TypeError",
     "evalue": "add() takes exactly one argument (2 given)",
     "output_type": "error",
     "traceback": [
      "\u001b[1;31m---------------------------------------------------------------------------\u001b[0m",
      "\u001b[1;31mTypeError\u001b[0m                                 Traceback (most recent call last)",
      "\u001b[1;32m<ipython-input-35-d290026194cb>\u001b[0m in \u001b[0;36m<module>\u001b[1;34m\u001b[0m\n\u001b[0;32m      1\u001b[0m \u001b[0mset1\u001b[0m \u001b[1;33m=\u001b[0m \u001b[1;33m{\u001b[0m\u001b[1;36m3\u001b[0m\u001b[1;33m,\u001b[0m\u001b[1;36m6\u001b[0m\u001b[1;33m,\u001b[0m\u001b[1;36m7\u001b[0m\u001b[1;33m,\u001b[0m\u001b[1;36m5\u001b[0m\u001b[1;33m,\u001b[0m\u001b[1;36m4\u001b[0m\u001b[1;33m,\u001b[0m\u001b[1;36m4\u001b[0m\u001b[1;33m,\u001b[0m\u001b[1;36m100\u001b[0m\u001b[1;33m,\u001b[0m\u001b[1;36m200\u001b[0m\u001b[1;33m}\u001b[0m\u001b[1;33m\u001b[0m\u001b[1;33m\u001b[0m\u001b[0m\n\u001b[0;32m      2\u001b[0m \u001b[1;33m\u001b[0m\u001b[0m\n\u001b[1;32m----> 3\u001b[1;33m \u001b[0mset1\u001b[0m\u001b[1;33m.\u001b[0m\u001b[0madd\u001b[0m\u001b[1;33m(\u001b[0m\u001b[1;36m500\u001b[0m\u001b[1;33m,\u001b[0m\u001b[1;36m1000\u001b[0m\u001b[1;33m)\u001b[0m\u001b[1;33m\u001b[0m\u001b[1;33m\u001b[0m\u001b[0m\n\u001b[0m\u001b[0;32m      4\u001b[0m \u001b[0mset1\u001b[0m\u001b[1;33m\u001b[0m\u001b[1;33m\u001b[0m\u001b[0m\n",
      "\u001b[1;31mTypeError\u001b[0m: add() takes exactly one argument (2 given)"
     ]
    }
   ],
   "source": [
    "set1 = {3,6,7,5,4,4,100,200}\n",
    "\n",
    "set1.add(500,1000)\n",
    "set1"
   ]
  },
  {
   "cell_type": "code",
   "execution_count": 36,
   "id": "87e4c894",
   "metadata": {},
   "outputs": [
    {
     "ename": "TypeError",
     "evalue": "unhashable type: 'set'",
     "output_type": "error",
     "traceback": [
      "\u001b[1;31m---------------------------------------------------------------------------\u001b[0m",
      "\u001b[1;31mTypeError\u001b[0m                                 Traceback (most recent call last)",
      "\u001b[1;32m<ipython-input-36-e6be3b72b7d4>\u001b[0m in \u001b[0;36m<module>\u001b[1;34m\u001b[0m\n\u001b[0;32m      1\u001b[0m \u001b[0mset1\u001b[0m \u001b[1;33m=\u001b[0m \u001b[1;33m{\u001b[0m\u001b[1;36m3\u001b[0m\u001b[1;33m,\u001b[0m\u001b[1;36m6\u001b[0m\u001b[1;33m,\u001b[0m\u001b[1;36m7\u001b[0m\u001b[1;33m,\u001b[0m\u001b[1;36m5\u001b[0m\u001b[1;33m,\u001b[0m\u001b[1;36m4\u001b[0m\u001b[1;33m,\u001b[0m\u001b[1;36m4\u001b[0m\u001b[1;33m,\u001b[0m\u001b[1;36m100\u001b[0m\u001b[1;33m,\u001b[0m\u001b[1;36m200\u001b[0m\u001b[1;33m}\u001b[0m\u001b[1;33m\u001b[0m\u001b[1;33m\u001b[0m\u001b[0m\n\u001b[0;32m      2\u001b[0m \u001b[1;33m\u001b[0m\u001b[0m\n\u001b[1;32m----> 3\u001b[1;33m \u001b[0mset1\u001b[0m\u001b[1;33m.\u001b[0m\u001b[0madd\u001b[0m\u001b[1;33m(\u001b[0m\u001b[1;33m{\u001b[0m\u001b[1;36m500\u001b[0m\u001b[1;33m,\u001b[0m\u001b[1;36m1000\u001b[0m\u001b[1;33m}\u001b[0m\u001b[1;33m)\u001b[0m\u001b[1;33m\u001b[0m\u001b[1;33m\u001b[0m\u001b[0m\n\u001b[0m\u001b[0;32m      4\u001b[0m \u001b[0mset1\u001b[0m\u001b[1;33m\u001b[0m\u001b[1;33m\u001b[0m\u001b[0m\n",
      "\u001b[1;31mTypeError\u001b[0m: unhashable type: 'set'"
     ]
    }
   ],
   "source": [
    "set1 = {3,6,7,5,4,4,100,200}\n",
    "\n",
    "set1.add({500,1000})\n",
    "set1"
   ]
  },
  {
   "cell_type": "markdown",
   "id": "b16e964c",
   "metadata": {},
   "source": [
    "## update()"
   ]
  },
  {
   "cell_type": "raw",
   "id": "06b9aabc",
   "metadata": {},
   "source": [
    "update is used to add single or multiple items in the sets\n",
    "*no need for any seprate variable to store change, itemss updated in original set.\n",
    "even if we have to add single item, then it has to be passed in setr"
   ]
  },
  {
   "cell_type": "code",
   "execution_count": 40,
   "id": "106c6b88",
   "metadata": {},
   "outputs": [
    {
     "ename": "TypeError",
     "evalue": "'int' object is not iterable",
     "output_type": "error",
     "traceback": [
      "\u001b[1;31m---------------------------------------------------------------------------\u001b[0m",
      "\u001b[1;31mTypeError\u001b[0m                                 Traceback (most recent call last)",
      "\u001b[1;32m<ipython-input-40-c1dc3f279232>\u001b[0m in \u001b[0;36m<module>\u001b[1;34m\u001b[0m\n\u001b[0;32m      1\u001b[0m \u001b[0mset1\u001b[0m \u001b[1;33m=\u001b[0m \u001b[1;33m{\u001b[0m\u001b[1;36m3\u001b[0m\u001b[1;33m,\u001b[0m\u001b[1;36m6\u001b[0m\u001b[1;33m,\u001b[0m\u001b[1;36m7\u001b[0m\u001b[1;33m,\u001b[0m\u001b[1;36m5\u001b[0m\u001b[1;33m,\u001b[0m\u001b[1;36m4\u001b[0m\u001b[1;33m,\u001b[0m\u001b[1;36m4\u001b[0m\u001b[1;33m,\u001b[0m\u001b[1;36m100\u001b[0m\u001b[1;33m,\u001b[0m\u001b[1;36m200\u001b[0m\u001b[1;33m,\u001b[0m\u001b[1;34m'hi'\u001b[0m\u001b[1;33m}\u001b[0m\u001b[1;33m\u001b[0m\u001b[1;33m\u001b[0m\u001b[0m\n\u001b[0;32m      2\u001b[0m \u001b[1;33m\u001b[0m\u001b[0m\n\u001b[1;32m----> 3\u001b[1;33m \u001b[0mset1\u001b[0m\u001b[1;33m.\u001b[0m\u001b[0mupdate\u001b[0m\u001b[1;33m(\u001b[0m\u001b[1;36m500\u001b[0m\u001b[1;33m)\u001b[0m\u001b[1;33m\u001b[0m\u001b[1;33m\u001b[0m\u001b[0m\n\u001b[0m\u001b[0;32m      4\u001b[0m \u001b[0mset1\u001b[0m\u001b[1;33m\u001b[0m\u001b[1;33m\u001b[0m\u001b[0m\n",
      "\u001b[1;31mTypeError\u001b[0m: 'int' object is not iterable"
     ]
    }
   ],
   "source": [
    "set1 = {3,6,7,5,4,4,100,200,'hi'}\n",
    "\n",
    "set1.update(500)\n",
    "set1"
   ]
  },
  {
   "cell_type": "code",
   "execution_count": 41,
   "id": "c3670f76",
   "metadata": {},
   "outputs": [
    {
     "data": {
      "text/plain": [
       "{100, 200, 3, 4, 5, 500, 6, 7, 'hi'}"
      ]
     },
     "execution_count": 41,
     "metadata": {},
     "output_type": "execute_result"
    }
   ],
   "source": [
    "set1 = {3,6,7,5,4,4,100,200,'hi'}\n",
    "\n",
    "set1.update({500})\n",
    "set1"
   ]
  },
  {
   "cell_type": "code",
   "execution_count": 42,
   "id": "db0f68bc",
   "metadata": {},
   "outputs": [
    {
     "data": {
      "text/plain": [
       "{100, 200, 3, 4, 5, 6, 7, 'good morning', 'hello', 'hi'}"
      ]
     },
     "execution_count": 42,
     "metadata": {},
     "output_type": "execute_result"
    }
   ],
   "source": [
    "set1 = {3,6,7,5,4,4,100,200,'hi'}\n",
    "\n",
    "set1.update({'hello','good morning'})\n",
    "set1"
   ]
  },
  {
   "cell_type": "code",
   "execution_count": 43,
   "id": "e6288e29",
   "metadata": {},
   "outputs": [
    {
     "data": {
      "text/plain": [
       "{-100, -200, 100, 200, 3, 4, 5, 6, 7, 9, 'good morning', 'hello', 'hi'}"
      ]
     },
     "execution_count": 43,
     "metadata": {},
     "output_type": "execute_result"
    }
   ],
   "source": [
    "set1 = {3,6,7,5,4,4,100,200,'hi'}\n",
    "\n",
    "set2 = {'hello','good morning'}\n",
    "set3 = {-100,-200}\n",
    "set4 = [100,9]\n",
    "\n",
    "set1.update(set2,set3,set4)\n",
    "\n",
    "set1"
   ]
  },
  {
   "cell_type": "raw",
   "id": "0b300c32",
   "metadata": {},
   "source": [
    "NOTE: list, tuple or other similar iterators can be used within update function. However update fuction can not be used on them."
   ]
  },
  {
   "cell_type": "code",
   "execution_count": 44,
   "id": "ba27041f",
   "metadata": {},
   "outputs": [
    {
     "ename": "AttributeError",
     "evalue": "'list' object has no attribute 'update'",
     "output_type": "error",
     "traceback": [
      "\u001b[1;31m---------------------------------------------------------------------------\u001b[0m",
      "\u001b[1;31mAttributeError\u001b[0m                            Traceback (most recent call last)",
      "\u001b[1;32m<ipython-input-44-0dea2d71c231>\u001b[0m in \u001b[0;36m<module>\u001b[1;34m\u001b[0m\n\u001b[0;32m      5\u001b[0m \u001b[0mset4\u001b[0m \u001b[1;33m=\u001b[0m \u001b[1;33m[\u001b[0m\u001b[1;36m100\u001b[0m\u001b[1;33m,\u001b[0m\u001b[1;36m9\u001b[0m\u001b[1;33m]\u001b[0m\u001b[1;33m\u001b[0m\u001b[1;33m\u001b[0m\u001b[0m\n\u001b[0;32m      6\u001b[0m \u001b[1;33m\u001b[0m\u001b[0m\n\u001b[1;32m----> 7\u001b[1;33m \u001b[0mset4\u001b[0m\u001b[1;33m.\u001b[0m\u001b[0mupdate\u001b[0m\u001b[1;33m(\u001b[0m\u001b[0mset2\u001b[0m\u001b[1;33m,\u001b[0m\u001b[0mset3\u001b[0m\u001b[1;33m,\u001b[0m\u001b[0mset1\u001b[0m\u001b[1;33m)\u001b[0m\u001b[1;33m\u001b[0m\u001b[1;33m\u001b[0m\u001b[0m\n\u001b[0m\u001b[0;32m      8\u001b[0m \u001b[1;33m\u001b[0m\u001b[0m\n\u001b[0;32m      9\u001b[0m \u001b[0mset4\u001b[0m\u001b[1;33m\u001b[0m\u001b[1;33m\u001b[0m\u001b[0m\n",
      "\u001b[1;31mAttributeError\u001b[0m: 'list' object has no attribute 'update'"
     ]
    }
   ],
   "source": [
    "set1 = {3,6,7,5,4,4,100,200,'hi'}\n",
    "\n",
    "set2 = {'hello','good morning'}\n",
    "set3 = {-100,-200}\n",
    "set4 = [100,9]\n",
    "\n",
    "set4.update(set2,set3,set1)\n",
    "\n",
    "set4"
   ]
  },
  {
   "cell_type": "markdown",
   "id": "501fa955",
   "metadata": {},
   "source": [
    "## union"
   ]
  },
  {
   "cell_type": "raw",
   "id": "29135e8a",
   "metadata": {},
   "source": [
    "union needs another variable to store change\n",
    "it does not add a single item to set but if we have to add a single itme then it has to be passed in a any iterator"
   ]
  },
  {
   "cell_type": "code",
   "execution_count": 46,
   "id": "d6223c16",
   "metadata": {},
   "outputs": [
    {
     "data": {
      "text/plain": [
       "{100, 200, 3, 4, 5, 6, 7, 'good morning', 'hello', 'hi'}"
      ]
     },
     "execution_count": 46,
     "metadata": {},
     "output_type": "execute_result"
    }
   ],
   "source": [
    "set1 = {3,6,7,5,4,4,100,200,'hi'}\n",
    "set2 = {'hello','good morning'}\n",
    "\n",
    "set1 = set1.union(set2)\n",
    "set1"
   ]
  },
  {
   "cell_type": "code",
   "execution_count": 49,
   "id": "dee61cdb",
   "metadata": {},
   "outputs": [
    {
     "data": {
      "text/plain": [
       "{-100, -200, 100, 200, 3, 4, 5, 6, 7, 9, 'good morning', 'hello', 'hi'}"
      ]
     },
     "execution_count": 49,
     "metadata": {},
     "output_type": "execute_result"
    }
   ],
   "source": [
    "set1 = {3,6,7,5,4,4,100,200,'hi'}\n",
    "\n",
    "set2 = {'hello','good morning'}\n",
    "set3 = {-100,-200}\n",
    "set4 = [100,9]\n",
    "\n",
    "set5 = set1.union(set2,set3,set4)\n",
    "\n",
    "set5"
   ]
  },
  {
   "cell_type": "markdown",
   "id": "b149896a",
   "metadata": {},
   "source": [
    "# More functions"
   ]
  },
  {
   "cell_type": "markdown",
   "id": "20f820ec",
   "metadata": {},
   "source": [
    "## intersection"
   ]
  },
  {
   "cell_type": "raw",
   "id": "bcdda326",
   "metadata": {},
   "source": [
    "gives the common items b/1 two or more sets\n",
    "needs a separate vairable to store change"
   ]
  },
  {
   "cell_type": "code",
   "execution_count": 51,
   "id": "73619dd1",
   "metadata": {},
   "outputs": [
    {
     "data": {
      "text/plain": [
       "{'Goa'}"
      ]
     },
     "execution_count": 51,
     "metadata": {},
     "output_type": "execute_result"
    }
   ],
   "source": [
    "cities1 = {'Pune','Mumbai','Goa'}\n",
    "cities2 = ['Maldives','Pokhra','Goa']\n",
    "\n",
    "common = cities1.intersection(cities2)\n",
    "common"
   ]
  },
  {
   "cell_type": "code",
   "execution_count": 74,
   "id": "6a686d41",
   "metadata": {},
   "outputs": [
    {
     "data": {
      "text/plain": [
       "{'Pune'}"
      ]
     },
     "execution_count": 74,
     "metadata": {},
     "output_type": "execute_result"
    }
   ],
   "source": [
    "cities1 = {'Pune','Mumbai','Goa'}\n",
    "cities2 = {'Maldives','Pokhra','Goa','Pune'}\n",
    "cities3 = {'Pune','Banaras'}\n",
    "\n",
    "common = cities1.intersection(cities2,cities3)\n",
    "common"
   ]
  },
  {
   "cell_type": "code",
   "execution_count": 53,
   "id": "1150f821",
   "metadata": {},
   "outputs": [
    {
     "data": {
      "text/plain": [
       "set()"
      ]
     },
     "execution_count": 53,
     "metadata": {},
     "output_type": "execute_result"
    }
   ],
   "source": [
    "cities1 = {'Pune','Mumbai','Goa'}\n",
    "cities2 = {'Maldives','Pokhra'}\n",
    "\n",
    "common = cities1.intersection(cities2)\n",
    "common"
   ]
  },
  {
   "cell_type": "code",
   "execution_count": 54,
   "id": "cae8c63d",
   "metadata": {},
   "outputs": [
    {
     "ename": "AttributeError",
     "evalue": "'list' object has no attribute 'intersection'",
     "output_type": "error",
     "traceback": [
      "\u001b[1;31m---------------------------------------------------------------------------\u001b[0m",
      "\u001b[1;31mAttributeError\u001b[0m                            Traceback (most recent call last)",
      "\u001b[1;32m<ipython-input-54-27599c6db85d>\u001b[0m in \u001b[0;36m<module>\u001b[1;34m\u001b[0m\n\u001b[0;32m      2\u001b[0m \u001b[0mcities2\u001b[0m \u001b[1;33m=\u001b[0m \u001b[1;33m[\u001b[0m\u001b[1;34m'Maldives'\u001b[0m\u001b[1;33m,\u001b[0m\u001b[1;34m'Pokhra'\u001b[0m\u001b[1;33m,\u001b[0m\u001b[1;34m'Goa'\u001b[0m\u001b[1;33m]\u001b[0m\u001b[1;33m\u001b[0m\u001b[1;33m\u001b[0m\u001b[0m\n\u001b[0;32m      3\u001b[0m \u001b[1;33m\u001b[0m\u001b[0m\n\u001b[1;32m----> 4\u001b[1;33m \u001b[0mcommon\u001b[0m \u001b[1;33m=\u001b[0m \u001b[0mcities2\u001b[0m\u001b[1;33m.\u001b[0m\u001b[0mintersection\u001b[0m\u001b[1;33m(\u001b[0m\u001b[0mcities1\u001b[0m\u001b[1;33m)\u001b[0m\u001b[1;33m\u001b[0m\u001b[1;33m\u001b[0m\u001b[0m\n\u001b[0m\u001b[0;32m      5\u001b[0m \u001b[0mcommon\u001b[0m\u001b[1;33m\u001b[0m\u001b[1;33m\u001b[0m\u001b[0m\n",
      "\u001b[1;31mAttributeError\u001b[0m: 'list' object has no attribute 'intersection'"
     ]
    }
   ],
   "source": [
    "cities1 = {'Pune','Mumbai','Goa'}\n",
    "cities2 = ['Maldives','Pokhra','Goa']\n",
    "\n",
    "\n",
    "common = cities2.intersection(cities1)\n",
    "common"
   ]
  },
  {
   "cell_type": "markdown",
   "id": "25be0614",
   "metadata": {},
   "source": [
    "## intersection_update()"
   ]
  },
  {
   "cell_type": "raw",
   "id": "eba4f133",
   "metadata": {},
   "source": [
    "does not need any additonal variable to stroe change\n",
    "modifies original set"
   ]
  },
  {
   "cell_type": "code",
   "execution_count": 76,
   "id": "df187b87",
   "metadata": {},
   "outputs": [
    {
     "data": {
      "text/plain": [
       "{'Goa'}"
      ]
     },
     "execution_count": 76,
     "metadata": {},
     "output_type": "execute_result"
    }
   ],
   "source": [
    "cities1 = {'Pune','Mumbai','Goa'}\n",
    "cities2 = {'Maldives','Pokhra','Goa'}\n",
    "cities3 = {'Pune','Banaras','Goa'}\n",
    "\n",
    "cities1.intersection_update(cities2,cities3)\n",
    "cities1"
   ]
  },
  {
   "cell_type": "code",
   "execution_count": 59,
   "id": "dcba4b88",
   "metadata": {},
   "outputs": [
    {
     "data": {
      "text/plain": [
       "{'Goa'}"
      ]
     },
     "execution_count": 59,
     "metadata": {},
     "output_type": "execute_result"
    }
   ],
   "source": [
    "cities1 = {'Pune','Mumbai','Goa'}\n",
    "cities2 = ['Maldives','Pokhra','Goa']\n",
    "\n",
    "cities1.intersection_update(cities2)\n",
    "cities1"
   ]
  },
  {
   "cell_type": "code",
   "execution_count": 61,
   "id": "7655e2a7",
   "metadata": {},
   "outputs": [
    {
     "ename": "AttributeError",
     "evalue": "'list' object has no attribute 'intersection_update'",
     "output_type": "error",
     "traceback": [
      "\u001b[1;31m---------------------------------------------------------------------------\u001b[0m",
      "\u001b[1;31mAttributeError\u001b[0m                            Traceback (most recent call last)",
      "\u001b[1;32m<ipython-input-61-1d0c2ac8298f>\u001b[0m in \u001b[0;36m<module>\u001b[1;34m\u001b[0m\n\u001b[0;32m      2\u001b[0m \u001b[0mcities2\u001b[0m \u001b[1;33m=\u001b[0m \u001b[1;33m[\u001b[0m\u001b[1;34m'Maldives'\u001b[0m\u001b[1;33m,\u001b[0m\u001b[1;34m'Pokhra'\u001b[0m\u001b[1;33m,\u001b[0m\u001b[1;34m'Goa'\u001b[0m\u001b[1;33m]\u001b[0m\u001b[1;33m\u001b[0m\u001b[1;33m\u001b[0m\u001b[0m\n\u001b[0;32m      3\u001b[0m \u001b[1;33m\u001b[0m\u001b[0m\n\u001b[1;32m----> 4\u001b[1;33m \u001b[0mcities2\u001b[0m\u001b[1;33m.\u001b[0m\u001b[0mintersection_update\u001b[0m\u001b[1;33m(\u001b[0m\u001b[0mcities1\u001b[0m\u001b[1;33m)\u001b[0m\u001b[1;33m\u001b[0m\u001b[1;33m\u001b[0m\u001b[0m\n\u001b[0m",
      "\u001b[1;31mAttributeError\u001b[0m: 'list' object has no attribute 'intersection_update'"
     ]
    }
   ],
   "source": [
    "cities1 = {'Pune','Mumbai','Goa'}\n",
    "cities2 = ['Maldives','Pokhra','Goa']\n",
    "\n",
    "cities2.intersection_update(cities1)\n"
   ]
  },
  {
   "cell_type": "markdown",
   "id": "ace30991",
   "metadata": {},
   "source": [
    "## difference"
   ]
  },
  {
   "cell_type": "raw",
   "id": "bc9caed7",
   "metadata": {},
   "source": [
    "shows the uncommon items from the set on which difference function is called\n",
    "needs an additional variable to store change"
   ]
  },
  {
   "cell_type": "code",
   "execution_count": 77,
   "id": "b88d1d8d",
   "metadata": {},
   "outputs": [
    {
     "data": {
      "text/plain": [
       "{'Mumbai'}"
      ]
     },
     "execution_count": 77,
     "metadata": {},
     "output_type": "execute_result"
    }
   ],
   "source": [
    "cities1 = {'Pune','Mumbai','Goa'}\n",
    "cities2 = {'Maldives','Pokhra','Goa'}\n",
    "cities3 = {'Pune','Banaras'}\n",
    "\n",
    "x = cities1.difference(cities2)     # uncommon items b/w cities1 & cities2 that are present in cities1 \n",
    "x"
   ]
  },
  {
   "cell_type": "code",
   "execution_count": 79,
   "id": "c6f8d382",
   "metadata": {},
   "outputs": [
    {
     "data": {
      "text/plain": [
       "{'Mumbai'}"
      ]
     },
     "execution_count": 79,
     "metadata": {},
     "output_type": "execute_result"
    }
   ],
   "source": [
    "cities1 = {'Pune','Mumbai','Goa'}\n",
    "cities2 = {'Maldives','Pokhra','Goa'}\n",
    "cities3 = {'Pune','Banaras'}\n",
    "\n",
    "x = cities1.difference(cities2,cities3)     # uncommon items b/w cities1 & cities2 that are present in cities1 \n",
    "x"
   ]
  },
  {
   "cell_type": "code",
   "execution_count": 66,
   "id": "115a7bd0",
   "metadata": {},
   "outputs": [
    {
     "data": {
      "text/plain": [
       "{1, 2}"
      ]
     },
     "execution_count": 66,
     "metadata": {},
     "output_type": "execute_result"
    }
   ],
   "source": [
    "num1 = {1,2,3}\n",
    "num2 = {3,5,7}\n",
    "\n",
    "x = num1.difference(num2)     \n",
    "x"
   ]
  },
  {
   "cell_type": "markdown",
   "id": "75affeac",
   "metadata": {},
   "source": [
    "## difference_update"
   ]
  },
  {
   "cell_type": "raw",
   "id": "6e9516f8",
   "metadata": {},
   "source": [
    "It reflects the changes in the same variable"
   ]
  },
  {
   "cell_type": "code",
   "execution_count": 80,
   "id": "01aa72b5",
   "metadata": {},
   "outputs": [
    {
     "data": {
      "text/plain": [
       "{'Mumbai'}"
      ]
     },
     "execution_count": 80,
     "metadata": {},
     "output_type": "execute_result"
    }
   ],
   "source": [
    "cities1 = {'Pune','Mumbai','Goa'}\n",
    "cities2 = {'Maldives','Pokhra','Goa'}\n",
    "cities3 = {'Pune','Banaras'}\n",
    "\n",
    "cities1.difference_update(cities2,cities3)     # uncommon items b/w cities1 & cities2 that are present in cities1 \n",
    "cities1"
   ]
  },
  {
   "cell_type": "code",
   "execution_count": 69,
   "id": "2e66e03d",
   "metadata": {},
   "outputs": [
    {
     "data": {
      "text/plain": [
       "{1, 2}"
      ]
     },
     "execution_count": 69,
     "metadata": {},
     "output_type": "execute_result"
    }
   ],
   "source": [
    "num1 = {1,2,3}\n",
    "num2 = {3,5,7}\n",
    "\n",
    "num1.difference_update(num2)     \n",
    "num1"
   ]
  },
  {
   "cell_type": "markdown",
   "id": "fecebe54",
   "metadata": {},
   "source": [
    "## symmetric_difference"
   ]
  },
  {
   "cell_type": "raw",
   "id": "4ec637f1",
   "metadata": {},
   "source": [
    "shows the uncommon items from both the sets\n",
    "needs an additional variable to store change\n",
    "takes exactly 1 arguement"
   ]
  },
  {
   "cell_type": "code",
   "execution_count": 81,
   "id": "ea70686a",
   "metadata": {},
   "outputs": [
    {
     "data": {
      "text/plain": [
       "{'Maldives', 'Mumbai', 'Pokhra', 'Pune'}"
      ]
     },
     "execution_count": 81,
     "metadata": {},
     "output_type": "execute_result"
    }
   ],
   "source": [
    "cities1 = {'Pune','Mumbai','Goa'}\n",
    "cities2 = {'Maldives','Pokhra','Goa'}\n",
    "\n",
    "x = cities1.symmetric_difference(cities2)     # uncommon items b/w cities1 & cities2 are stored into another variable\n",
    "x"
   ]
  },
  {
   "cell_type": "code",
   "execution_count": 82,
   "id": "013f636b",
   "metadata": {},
   "outputs": [
    {
     "ename": "TypeError",
     "evalue": "symmetric_difference() takes exactly one argument (2 given)",
     "output_type": "error",
     "traceback": [
      "\u001b[1;31m---------------------------------------------------------------------------\u001b[0m",
      "\u001b[1;31mTypeError\u001b[0m                                 Traceback (most recent call last)",
      "\u001b[1;32m<ipython-input-82-bf3020f5ffa4>\u001b[0m in \u001b[0;36m<module>\u001b[1;34m\u001b[0m\n\u001b[0;32m      3\u001b[0m \u001b[0mcities2\u001b[0m \u001b[1;33m=\u001b[0m \u001b[1;33m{\u001b[0m\u001b[1;34m'Maldives'\u001b[0m\u001b[1;33m,\u001b[0m\u001b[1;34m'Pokhra'\u001b[0m\u001b[1;33m,\u001b[0m\u001b[1;34m'Goa'\u001b[0m\u001b[1;33m}\u001b[0m\u001b[1;33m\u001b[0m\u001b[1;33m\u001b[0m\u001b[0m\n\u001b[0;32m      4\u001b[0m \u001b[1;33m\u001b[0m\u001b[0m\n\u001b[1;32m----> 5\u001b[1;33m \u001b[0mx\u001b[0m \u001b[1;33m=\u001b[0m \u001b[0mcities1\u001b[0m\u001b[1;33m.\u001b[0m\u001b[0msymmetric_difference\u001b[0m\u001b[1;33m(\u001b[0m\u001b[0mcities2\u001b[0m\u001b[1;33m,\u001b[0m\u001b[0mcities3\u001b[0m\u001b[1;33m)\u001b[0m     \u001b[1;31m# uncommon items b/w cities1 & cities2 are stored into another variable\u001b[0m\u001b[1;33m\u001b[0m\u001b[1;33m\u001b[0m\u001b[0m\n\u001b[0m\u001b[0;32m      6\u001b[0m \u001b[0mx\u001b[0m\u001b[1;33m\u001b[0m\u001b[1;33m\u001b[0m\u001b[0m\n",
      "\u001b[1;31mTypeError\u001b[0m: symmetric_difference() takes exactly one argument (2 given)"
     ]
    }
   ],
   "source": [
    "cities3 = {'Pune','Banaras'}\n",
    "cities1 = {'Pune','Mumbai','Goa'}\n",
    "cities2 = {'Maldives','Pokhra','Goa'}\n",
    "\n",
    "x = cities1.symmetric_difference(cities2,cities3)     # uncommon items b/w cities1 & cities2 are stored into another variable\n",
    "x"
   ]
  },
  {
   "cell_type": "markdown",
   "id": "d8973067",
   "metadata": {},
   "source": [
    "## Symmertic_difference_update"
   ]
  },
  {
   "cell_type": "raw",
   "id": "5e0d2a3d",
   "metadata": {},
   "source": [
    "shows the uncommon items from both the sets\n",
    "does not needs an additional variable to store change. relects the change in same variable\n",
    "takes excatly one arguemnts"
   ]
  },
  {
   "cell_type": "code",
   "execution_count": null,
   "id": "9e250d40",
   "metadata": {},
   "outputs": [],
   "source": [
    "cities1 = {'Pune','Mumbai','Goa'}\n",
    "cities2 = {'Maldives','Pokhra','Goa'}\n",
    "\n",
    "cities1.symmetric_difference_update(cities2)     # uncommon items b/w cities1 & cities2 are relected in cities1\n",
    "cities"
   ]
  },
  {
   "cell_type": "code",
   "execution_count": 72,
   "id": "947b9e62",
   "metadata": {},
   "outputs": [
    {
     "ename": "TypeError",
     "evalue": "symmetric_difference_update() takes exactly one argument (2 given)",
     "output_type": "error",
     "traceback": [
      "\u001b[1;31m---------------------------------------------------------------------------\u001b[0m",
      "\u001b[1;31mTypeError\u001b[0m                                 Traceback (most recent call last)",
      "\u001b[1;32m<ipython-input-72-a647bfed69e9>\u001b[0m in \u001b[0;36m<module>\u001b[1;34m\u001b[0m\n\u001b[0;32m      3\u001b[0m \u001b[0mcities3\u001b[0m \u001b[1;33m=\u001b[0m \u001b[1;33m{\u001b[0m\u001b[1;34m'Pune'\u001b[0m\u001b[1;33m,\u001b[0m\u001b[1;34m'Banaras'\u001b[0m\u001b[1;33m}\u001b[0m\u001b[1;33m\u001b[0m\u001b[1;33m\u001b[0m\u001b[0m\n\u001b[0;32m      4\u001b[0m \u001b[1;33m\u001b[0m\u001b[0m\n\u001b[1;32m----> 5\u001b[1;33m \u001b[0mcities1\u001b[0m\u001b[1;33m.\u001b[0m\u001b[0msymmetric_difference_update\u001b[0m\u001b[1;33m(\u001b[0m\u001b[0mcities2\u001b[0m\u001b[1;33m,\u001b[0m\u001b[0mcities3\u001b[0m\u001b[1;33m)\u001b[0m     \u001b[1;31m# uncommon items b/w cities1 & cities2 are stored into another variable\u001b[0m\u001b[1;33m\u001b[0m\u001b[1;33m\u001b[0m\u001b[0m\n\u001b[0m\u001b[0;32m      6\u001b[0m \u001b[0mcities1\u001b[0m\u001b[1;33m\u001b[0m\u001b[1;33m\u001b[0m\u001b[0m\n",
      "\u001b[1;31mTypeError\u001b[0m: symmetric_difference_update() takes exactly one argument (2 given)"
     ]
    }
   ],
   "source": [
    "cities1 = {'Pune','Mumbai','Goa'}\n",
    "cities2 = {'Maldives','Pokhra','Goa'}\n",
    "cities3 = {'Pune','Banaras'}\n",
    "\n",
    "cities1.symmetric_difference_update(cities2,cities3)    \n",
    "cities1"
   ]
  },
  {
   "cell_type": "markdown",
   "id": "12f3e0dc",
   "metadata": {},
   "source": [
    "## isdisjoint()"
   ]
  },
  {
   "cell_type": "raw",
   "id": "72eccd93",
   "metadata": {},
   "source": [
    "It returns boolean values: True & False\n",
    "When there is no item common b/w both sets then it return True else it returns False\n",
    "it takes exactly one arguemnt"
   ]
  },
  {
   "cell_type": "code",
   "execution_count": 84,
   "id": "fcda9356",
   "metadata": {},
   "outputs": [
    {
     "data": {
      "text/plain": [
       "False"
      ]
     },
     "execution_count": 84,
     "metadata": {},
     "output_type": "execute_result"
    }
   ],
   "source": [
    "cities1 = {'Pune','Mumbai','Goa'}\n",
    "cities2 = {'Maldives','Pokhra','Goa'}\n",
    "\n",
    "\n",
    "cities1.isdisjoint(cities2)    \n"
   ]
  },
  {
   "cell_type": "code",
   "execution_count": 85,
   "id": "c148704d",
   "metadata": {},
   "outputs": [
    {
     "data": {
      "text/plain": [
       "True"
      ]
     },
     "execution_count": 85,
     "metadata": {},
     "output_type": "execute_result"
    }
   ],
   "source": [
    "cities1 = {'Pune','Mumbai','Goa'}\n",
    "cities2 = {'Maldives','Pokhra'}\n",
    "\n",
    "\n",
    "cities1.isdisjoint(cities2) "
   ]
  },
  {
   "cell_type": "code",
   "execution_count": 87,
   "id": "597cd3b0",
   "metadata": {},
   "outputs": [
    {
     "data": {
      "text/plain": [
       "True"
      ]
     },
     "execution_count": 87,
     "metadata": {},
     "output_type": "execute_result"
    }
   ],
   "source": [
    "num1 = {1,2,4}\n",
    "num2 = {3,5,7}\n",
    "\n",
    "num1.isdisjoint(num2)     "
   ]
  },
  {
   "cell_type": "markdown",
   "id": "b87682ad",
   "metadata": {},
   "source": [
    "## issubset()"
   ]
  },
  {
   "cell_type": "raw",
   "id": "89550504",
   "metadata": {},
   "source": [
    "When all the items in set on which issubset function is used are also present in another set which is passed inside subset function then it returns True else will return False`\n",
    "\n",
    "The length arguement set is always greater or equal to the length of the set on which issubset function is called"
   ]
  },
  {
   "cell_type": "code",
   "execution_count": 88,
   "id": "14f9de3f",
   "metadata": {},
   "outputs": [
    {
     "data": {
      "text/plain": [
       "True"
      ]
     },
     "execution_count": 88,
     "metadata": {},
     "output_type": "execute_result"
    }
   ],
   "source": [
    "num1 = {1,2,4,3,5,7}\n",
    "num2 = {3,5,7}\n",
    "\n",
    "num2.issubset(num1)    "
   ]
  },
  {
   "cell_type": "code",
   "execution_count": 89,
   "id": "7d8cc895",
   "metadata": {},
   "outputs": [
    {
     "data": {
      "text/plain": [
       "False"
      ]
     },
     "execution_count": 89,
     "metadata": {},
     "output_type": "execute_result"
    }
   ],
   "source": [
    "num1 = {1,2,4,3,5}\n",
    "num2 = {3,5,7}\n",
    "\n",
    "num2.issubset(num1) "
   ]
  },
  {
   "cell_type": "markdown",
   "id": "3191d54d",
   "metadata": {},
   "source": [
    "## issuperset()"
   ]
  },
  {
   "cell_type": "code",
   "execution_count": null,
   "id": "7bf8b368",
   "metadata": {},
   "outputs": [],
   "source": [
    "When all the items in set which is passed as an arguement in superset function are present inside the set on which issuperset function is called then it returns True else will return False\n",
    "\n",
    "The length arguement set is always lesser or equal to the length of the set on which issuperset function is called."
   ]
  },
  {
   "cell_type": "code",
   "execution_count": 91,
   "id": "681f3cc5",
   "metadata": {},
   "outputs": [
    {
     "data": {
      "text/plain": [
       "True"
      ]
     },
     "execution_count": 91,
     "metadata": {},
     "output_type": "execute_result"
    }
   ],
   "source": [
    "num1 = {1,2,4,3,5,7}\n",
    "num2 = {3,5,7}\n",
    "\n",
    "num1.issuperset(num2) "
   ]
  },
  {
   "cell_type": "code",
   "execution_count": 92,
   "id": "da140ef9",
   "metadata": {},
   "outputs": [
    {
     "data": {
      "text/plain": [
       "False"
      ]
     },
     "execution_count": 92,
     "metadata": {},
     "output_type": "execute_result"
    }
   ],
   "source": [
    "num1 = {1,2,4,3,7}\n",
    "num2 = {3,5,7}\n",
    "\n",
    "num1.issuperset(num2) "
   ]
  },
  {
   "cell_type": "markdown",
   "id": "9b5582ee",
   "metadata": {},
   "source": [
    "# Rest of the functions"
   ]
  },
  {
   "cell_type": "raw",
   "id": "09d06a9d",
   "metadata": {},
   "source": [
    "# Statistical functions work the same way-\n",
    "min,\n",
    "max,\n",
    "len,\n",
    "sum,\n",
    "mean,\n",
    "median,\n",
    "mode"
   ]
  },
  {
   "cell_type": "markdown",
   "id": "f45e5930",
   "metadata": {},
   "source": [
    "# list comprehension"
   ]
  },
  {
   "cell_type": "code",
   "execution_count": null,
   "id": "4b75dd82",
   "metadata": {},
   "outputs": [],
   "source": [
    "1 liner for loop encompassed in square braces.\n",
    "short hand for loop"
   ]
  },
  {
   "cell_type": "code",
   "execution_count": 2,
   "id": "977cb6c1",
   "metadata": {},
   "outputs": [
    {
     "data": {
      "text/plain": [
       "[9, 25, 49, 81]"
      ]
     },
     "execution_count": 2,
     "metadata": {},
     "output_type": "execute_result"
    }
   ],
   "source": [
    "numbs = [3,5,7,9]\n",
    "squares = []\n",
    "\n",
    "for i in numbs:squares.append(i**2)\n",
    "    \n",
    "squares"
   ]
  },
  {
   "cell_type": "code",
   "execution_count": 3,
   "id": "6e3f8500",
   "metadata": {},
   "outputs": [
    {
     "data": {
      "text/plain": [
       "[9, 25, 49, 81]"
      ]
     },
     "execution_count": 3,
     "metadata": {},
     "output_type": "execute_result"
    }
   ],
   "source": [
    "[(i**2) for i in numbs]     # short hand for loop"
   ]
  },
  {
   "cell_type": "code",
   "execution_count": 106,
   "id": "5910a640",
   "metadata": {},
   "outputs": [
    {
     "data": {
      "text/plain": [
       "[False, False, False, False]"
      ]
     },
     "execution_count": 106,
     "metadata": {},
     "output_type": "execute_result"
    }
   ],
   "source": [
    "[i%2==0 for i in numbs]     "
   ]
  },
  {
   "cell_type": "markdown",
   "id": "3eb460b9",
   "metadata": {},
   "source": [
    "# Any"
   ]
  },
  {
   "cell_type": "raw",
   "id": "bb31116c",
   "metadata": {},
   "source": [
    "it returns True if even a single item in list/set/tuple is not 0 or False"
   ]
  },
  {
   "cell_type": "code",
   "execution_count": 93,
   "id": "e01d7f08",
   "metadata": {},
   "outputs": [
    {
     "data": {
      "text/plain": [
       "True"
      ]
     },
     "execution_count": 93,
     "metadata": {},
     "output_type": "execute_result"
    }
   ],
   "source": [
    "set1 = {0,7,False,9,-3,4}\n",
    "\n",
    "any(set1)"
   ]
  },
  {
   "cell_type": "code",
   "execution_count": 94,
   "id": "d2f9e322",
   "metadata": {},
   "outputs": [
    {
     "data": {
      "text/plain": [
       "False"
      ]
     },
     "execution_count": 94,
     "metadata": {},
     "output_type": "execute_result"
    }
   ],
   "source": [
    "set1 = {0,0,False,0}\n",
    "\n",
    "any(set1)"
   ]
  },
  {
   "cell_type": "code",
   "execution_count": 99,
   "id": "bdf8668a",
   "metadata": {},
   "outputs": [
    {
     "name": "stdout",
     "output_type": "stream",
     "text": [
      "[False, True, False]\n"
     ]
    },
    {
     "data": {
      "text/plain": [
       "True"
      ]
     },
     "execution_count": 99,
     "metadata": {},
     "output_type": "execute_result"
    }
   ],
   "source": [
    "list1 = ['hi','Hello','Good morning']\n",
    "test = []\n",
    "\n",
    "for i in list1:\n",
    "    test.append(i.istitle())\n",
    "    \n",
    "print(test)\n",
    "any(test)"
   ]
  },
  {
   "cell_type": "code",
   "execution_count": 100,
   "id": "fc4b2ed9",
   "metadata": {},
   "outputs": [
    {
     "data": {
      "text/plain": [
       "False"
      ]
     },
     "execution_count": 100,
     "metadata": {},
     "output_type": "execute_result"
    }
   ],
   "source": [
    "numbs = [3,5,7,9]\n",
    "\n",
    "any([i%2==0 for i in numbs])"
   ]
  },
  {
   "cell_type": "markdown",
   "id": "17969031",
   "metadata": {},
   "source": [
    "# All"
   ]
  },
  {
   "cell_type": "raw",
   "id": "fef8397d",
   "metadata": {},
   "source": [
    "it returns True if all the items in list/set/tuple is not 0 or False"
   ]
  },
  {
   "cell_type": "code",
   "execution_count": 96,
   "id": "b2b5c1f4",
   "metadata": {},
   "outputs": [
    {
     "data": {
      "text/plain": [
       "False"
      ]
     },
     "execution_count": 96,
     "metadata": {},
     "output_type": "execute_result"
    }
   ],
   "source": [
    "set1 = {0,7,False,9,-3,4}\n",
    "\n",
    "all(set1)"
   ]
  },
  {
   "cell_type": "code",
   "execution_count": 97,
   "id": "7b86bb47",
   "metadata": {},
   "outputs": [
    {
     "data": {
      "text/plain": [
       "True"
      ]
     },
     "execution_count": 97,
     "metadata": {},
     "output_type": "execute_result"
    }
   ],
   "source": [
    "set1 = {7,9,-3,4}\n",
    "\n",
    "all(set1)"
   ]
  },
  {
   "cell_type": "code",
   "execution_count": 111,
   "id": "0181ac21",
   "metadata": {},
   "outputs": [
    {
     "data": {
      "text/plain": [
       "0.0"
      ]
     },
     "execution_count": 111,
     "metadata": {},
     "output_type": "execute_result"
    }
   ],
   "source": [
    "169%(169**(1/2))"
   ]
  },
  {
   "cell_type": "code",
   "execution_count": 112,
   "id": "b311e01c",
   "metadata": {},
   "outputs": [
    {
     "name": "stdout",
     "output_type": "stream",
     "text": [
      "[True, True, True, True]\n"
     ]
    },
    {
     "data": {
      "text/plain": [
       "True"
      ]
     },
     "execution_count": 112,
     "metadata": {},
     "output_type": "execute_result"
    }
   ],
   "source": [
    "list1 = [4,16,121,169]\n",
    "check = []\n",
    "\n",
    "for item in list1:\n",
    "    check.append(item%(item**(1/2))==0)\n",
    "    \n",
    "print(check)\n",
    "all(check)"
   ]
  },
  {
   "cell_type": "code",
   "execution_count": 108,
   "id": "58220335",
   "metadata": {},
   "outputs": [
    {
     "data": {
      "text/plain": [
       "True"
      ]
     },
     "execution_count": 108,
     "metadata": {},
     "output_type": "execute_result"
    }
   ],
   "source": [
    "all([item%(item**(1/2))==0 for item in list1])"
   ]
  },
  {
   "cell_type": "code",
   "execution_count": null,
   "id": "22afad61",
   "metadata": {},
   "outputs": [],
   "source": []
  }
 ],
 "metadata": {
  "kernelspec": {
   "display_name": "Python 3 (ipykernel)",
   "language": "python",
   "name": "python3"
  },
  "language_info": {
   "codemirror_mode": {
    "name": "ipython",
    "version": 3
   },
   "file_extension": ".py",
   "mimetype": "text/x-python",
   "name": "python",
   "nbconvert_exporter": "python",
   "pygments_lexer": "ipython3",
   "version": "3.9.12"
  },
  "toc": {
   "base_numbering": 1,
   "nav_menu": {},
   "number_sections": true,
   "sideBar": true,
   "skip_h1_title": false,
   "title_cell": "Table of Contents",
   "title_sidebar": "Contents",
   "toc_cell": false,
   "toc_position": {},
   "toc_section_display": true,
   "toc_window_display": false
  },
  "varInspector": {
   "cols": {
    "lenName": 16,
    "lenType": 16,
    "lenVar": 40
   },
   "kernels_config": {
    "python": {
     "delete_cmd_postfix": "",
     "delete_cmd_prefix": "del ",
     "library": "var_list.py",
     "varRefreshCmd": "print(var_dic_list())"
    },
    "r": {
     "delete_cmd_postfix": ") ",
     "delete_cmd_prefix": "rm(",
     "library": "var_list.r",
     "varRefreshCmd": "cat(var_dic_list()) "
    }
   },
   "types_to_exclude": [
    "module",
    "function",
    "builtin_function_or_method",
    "instance",
    "_Feature"
   ],
   "window_display": false
  }
 },
 "nbformat": 4,
 "nbformat_minor": 5
}

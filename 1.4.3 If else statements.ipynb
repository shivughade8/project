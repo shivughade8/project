{
 "cells": [
  {
   "cell_type": "raw",
   "id": "bcb605d5",
   "metadata": {},
   "source": [
    "If else statements are dicision making statements. (check for True or False)\n",
    "\n",
    "When if is True then if block gets executed otherwise else block will be executed\n",
    "\n",
    "If & elif can not be empty, else statement can be empty"
   ]
  },
  {
   "cell_type": "raw",
   "id": "82d92dec",
   "metadata": {},
   "source": [
    "Correct ways:\n",
    "    if\n",
    "    if elif\n",
    "    if if    >> multiple ifs\n",
    "    if elif elif  >> multiple elifs following an if\n",
    "    if elif else  >> elif in between if & else\n",
    "    if elif elif else >> multiple elifs in b/w if & else\n",
    "    if else\n",
    "    \n",
    "    \n",
    "Incorrect Ways:\n",
    "    elif\n",
    "    elif elif\n",
    "    else\n",
    "    else if\n",
    "    else elif\n",
    "    if else elif\n",
    "    if else else"
   ]
  },
  {
   "cell_type": "code",
   "execution_count": 1,
   "id": "c9f09360",
   "metadata": {},
   "outputs": [
    {
     "name": "stdout",
     "output_type": "stream",
     "text": [
      "to present\n"
     ]
    }
   ],
   "source": [
    "raw = 'hello welcome to python'\n",
    "\n",
    "if 'to' in raw:\n",
    "    print('to present')"
   ]
  },
  {
   "cell_type": "code",
   "execution_count": 2,
   "id": "c335ded1",
   "metadata": {},
   "outputs": [
    {
     "name": "stdout",
     "output_type": "stream",
     "text": [
      "a is less than 12\n"
     ]
    }
   ],
   "source": [
    "a = 10\n",
    "\n",
    "if a > 12:\n",
    "    print('a greter than 12')\n",
    "elif a < 12:\n",
    "    print('a is less than 12')"
   ]
  },
  {
   "cell_type": "code",
   "execution_count": 3,
   "id": "f13dfe40",
   "metadata": {},
   "outputs": [],
   "source": [
    "a = 10\n",
    "\n",
    "if a > 12:\n",
    "    print('a greter than 12')\n",
    "elif a < 8:\n",
    "    print('a is less than 8')"
   ]
  },
  {
   "cell_type": "code",
   "execution_count": 5,
   "id": "ebf05f5f",
   "metadata": {},
   "outputs": [
    {
     "name": "stdout",
     "output_type": "stream",
     "text": [
      "a is 10\n"
     ]
    }
   ],
   "source": [
    "a = 10\n",
    "\n",
    "if a > 12:\n",
    "    print('a greter than 12')\n",
    "if a == 10:\n",
    "    print('a is 10')"
   ]
  },
  {
   "cell_type": "code",
   "execution_count": 6,
   "id": "c3694911",
   "metadata": {},
   "outputs": [],
   "source": [
    "a = 10\n",
    "\n",
    "if a > 12:\n",
    "    print('a greter than 12')\n",
    "if a != 10:\n",
    "    print('a is not 10')"
   ]
  },
  {
   "cell_type": "code",
   "execution_count": 7,
   "id": "ea2fa03b",
   "metadata": {},
   "outputs": [],
   "source": [
    "a = 10\n",
    "\n",
    "if a > 12:\n",
    "    print('a greter than 12')"
   ]
  },
  {
   "cell_type": "code",
   "execution_count": 8,
   "id": "b675c8af",
   "metadata": {},
   "outputs": [],
   "source": [
    "if a != 10:\n",
    "    print('a is not 10')"
   ]
  },
  {
   "cell_type": "code",
   "execution_count": 9,
   "id": "1bdfa033",
   "metadata": {},
   "outputs": [],
   "source": [
    "a = 10\n",
    "\n",
    "if a > 12:\n",
    "    print('a greter than 12')\n"
   ]
  },
  {
   "cell_type": "code",
   "execution_count": 10,
   "id": "2360c5dc",
   "metadata": {},
   "outputs": [
    {
     "ename": "SyntaxError",
     "evalue": "invalid syntax (3339952958.py, line 1)",
     "output_type": "error",
     "traceback": [
      "\u001b[1;36m  Input \u001b[1;32mIn [10]\u001b[1;36m\u001b[0m\n\u001b[1;33m    elif a < 8:\u001b[0m\n\u001b[1;37m    ^\u001b[0m\n\u001b[1;31mSyntaxError\u001b[0m\u001b[1;31m:\u001b[0m invalid syntax\n"
     ]
    }
   ],
   "source": [
    "elif a < 8:\n",
    "    print('a is less than 8')"
   ]
  },
  {
   "cell_type": "code",
   "execution_count": 11,
   "id": "04422cf7",
   "metadata": {},
   "outputs": [
    {
     "name": "stdout",
     "output_type": "stream",
     "text": [
      "nothing\n"
     ]
    }
   ],
   "source": [
    "a = 10\n",
    "\n",
    "if a > 12:\n",
    "    print('a greter than 12')\n",
    "    \n",
    "if a != 10:\n",
    "    print('a is not 10')\n",
    "else:\n",
    "    print('nothing')"
   ]
  },
  {
   "cell_type": "code",
   "execution_count": 18,
   "id": "5c947d24",
   "metadata": {},
   "outputs": [
    {
     "name": "stdout",
     "output_type": "stream",
     "text": [
      "correct\n",
      "a is 10\n"
     ]
    }
   ],
   "source": [
    "a = 10\n",
    "\n",
    "if a < 12:\n",
    "    print('correct')\n",
    "if a == 10:\n",
    "    print('a is 10')\n",
    "if a !=(5*2):\n",
    "    print('right')"
   ]
  },
  {
   "cell_type": "code",
   "execution_count": 13,
   "id": "e0c35d44",
   "metadata": {},
   "outputs": [
    {
     "name": "stdout",
     "output_type": "stream",
     "text": [
      "a is negative\n",
      "nothing\n"
     ]
    }
   ],
   "source": [
    "a = 10\n",
    "\n",
    "if a > 12:\n",
    "    print('a greter than 12')\n",
    "elif a == 100:\n",
    "    print('a is 100')\n",
    "else:\n",
    "    print('a is negative')\n",
    "    \n",
    "if a != 10:\n",
    "    print('a is not 10')\n",
    "else:\n",
    "    print('nothing')"
   ]
  },
  {
   "cell_type": "code",
   "execution_count": null,
   "id": "8ddfa940",
   "metadata": {},
   "outputs": [],
   "source": [
    "a = 10\n",
    "\n",
    "if a > 12:\n",
    "    print('a greter than 12')\n",
    "elif a == 100:\n",
    "    print('a is 100')\n",
    "elif a < 0:\n",
    "    print('a is negative')"
   ]
  },
  {
   "cell_type": "code",
   "execution_count": 16,
   "id": "9fd04a56",
   "metadata": {},
   "outputs": [
    {
     "name": "stdout",
     "output_type": "stream",
     "text": [
      "a is 10\n"
     ]
    }
   ],
   "source": [
    "a = 10\n",
    "\n",
    "if a > 12:\n",
    "    print('a greter than 12')\n",
    "elif a == 10:\n",
    "    print('a is 10')\n",
    "elif a < 20:\n",
    "    print('a is less than 20')"
   ]
  },
  {
   "cell_type": "code",
   "execution_count": 20,
   "id": "af64a647",
   "metadata": {},
   "outputs": [
    {
     "name": "stdout",
     "output_type": "stream",
     "text": [
      "nothing\n"
     ]
    }
   ],
   "source": [
    "a = 10\n",
    "\n",
    "if a > 12:\n",
    "    print('a greter than 12')\n",
    "elif a != 10:\n",
    "    print('a is 10')\n",
    "else:\n",
    "    print('nothing')"
   ]
  },
  {
   "cell_type": "code",
   "execution_count": 21,
   "id": "345406b8",
   "metadata": {},
   "outputs": [
    {
     "name": "stdout",
     "output_type": "stream",
     "text": [
      "nothing\n"
     ]
    }
   ],
   "source": [
    "a = 10\n",
    "\n",
    "if a > 12:\n",
    "    print('a greter than 12')\n",
    "elif a != 10:\n",
    "    print('a is 10')\n",
    "elif a == 100:\n",
    "    print('a is 10')\n",
    "else:\n",
    "    print('nothing')"
   ]
  },
  {
   "cell_type": "code",
   "execution_count": 22,
   "id": "5c462423",
   "metadata": {},
   "outputs": [
    {
     "name": "stdout",
     "output_type": "stream",
     "text": [
      "data type is string\n"
     ]
    }
   ],
   "source": [
    "my_name = 'Sachin10dulkar'\n",
    "\n",
    "if type(my_name)== str:\n",
    "    print('data type is string')"
   ]
  },
  {
   "cell_type": "code",
   "execution_count": 23,
   "id": "bf10d732",
   "metadata": {},
   "outputs": [
    {
     "ename": "SyntaxError",
     "evalue": "invalid syntax (2283421219.py, line 3)",
     "output_type": "error",
     "traceback": [
      "\u001b[1;36m  Input \u001b[1;32mIn [23]\u001b[1;36m\u001b[0m\n\u001b[1;33m    elif type(my_name)== str:\u001b[0m\n\u001b[1;37m    ^\u001b[0m\n\u001b[1;31mSyntaxError\u001b[0m\u001b[1;31m:\u001b[0m invalid syntax\n"
     ]
    }
   ],
   "source": [
    "my_name = 'Sachin10dulkar'\n",
    "\n",
    "elif type(my_name)== str:\n",
    "    print('data type is string')"
   ]
  },
  {
   "cell_type": "code",
   "execution_count": 24,
   "id": "11f260f6",
   "metadata": {},
   "outputs": [
    {
     "ename": "SyntaxError",
     "evalue": "invalid syntax (3435455444.py, line 3)",
     "output_type": "error",
     "traceback": [
      "\u001b[1;36m  Input \u001b[1;32mIn [24]\u001b[1;36m\u001b[0m\n\u001b[1;33m    else type(my_name)== str:\u001b[0m\n\u001b[1;37m    ^\u001b[0m\n\u001b[1;31mSyntaxError\u001b[0m\u001b[1;31m:\u001b[0m invalid syntax\n"
     ]
    }
   ],
   "source": [
    "my_name = 'Sachin10dulkar'\n",
    "\n",
    "else type(my_name)== str:\n",
    "    print('data type is string')"
   ]
  },
  {
   "cell_type": "code",
   "execution_count": 25,
   "id": "f87742ce",
   "metadata": {},
   "outputs": [
    {
     "ename": "SyntaxError",
     "evalue": "invalid syntax (2590461657.py, line 3)",
     "output_type": "error",
     "traceback": [
      "\u001b[1;36m  Input \u001b[1;32mIn [25]\u001b[1;36m\u001b[0m\n\u001b[1;33m    else:\u001b[0m\n\u001b[1;37m    ^\u001b[0m\n\u001b[1;31mSyntaxError\u001b[0m\u001b[1;31m:\u001b[0m invalid syntax\n"
     ]
    }
   ],
   "source": [
    "my_name = 'Sachin10dulkar'\n",
    "\n",
    "else:\n",
    "    print('data type is string')"
   ]
  },
  {
   "cell_type": "code",
   "execution_count": 28,
   "id": "c2f9bbb2",
   "metadata": {},
   "outputs": [
    {
     "ename": "SyntaxError",
     "evalue": "invalid syntax (1538484842.py, line 7)",
     "output_type": "error",
     "traceback": [
      "\u001b[1;36m  Input \u001b[1;32mIn [28]\u001b[1;36m\u001b[0m\n\u001b[1;33m    elif type(my_name)==int:\u001b[0m\n\u001b[1;37m    ^\u001b[0m\n\u001b[1;31mSyntaxError\u001b[0m\u001b[1;31m:\u001b[0m invalid syntax\n"
     ]
    }
   ],
   "source": [
    "my_name = 'Sachin10dulkar'\n",
    "\n",
    "if type(my_name)== str:\n",
    "    print('data type is string')\n",
    "else:\n",
    "    print('data type not known!')    \n",
    "elif type(my_name)==int:\n",
    "    print('nothing')"
   ]
  },
  {
   "cell_type": "code",
   "execution_count": 29,
   "id": "68a97566",
   "metadata": {},
   "outputs": [
    {
     "ename": "SyntaxError",
     "evalue": "invalid syntax (3548185997.py, line 7)",
     "output_type": "error",
     "traceback": [
      "\u001b[1;36m  Input \u001b[1;32mIn [29]\u001b[1;36m\u001b[0m\n\u001b[1;33m    else:\u001b[0m\n\u001b[1;37m    ^\u001b[0m\n\u001b[1;31mSyntaxError\u001b[0m\u001b[1;31m:\u001b[0m invalid syntax\n"
     ]
    }
   ],
   "source": [
    "my_name = 'Sachin10dulkar'\n",
    "\n",
    "if type(my_name)== str:\n",
    "    print('data type is string')\n",
    "else:\n",
    "    print('data type not known!')    \n",
    "else:\n",
    "    print('nothing')"
   ]
  },
  {
   "cell_type": "code",
   "execution_count": null,
   "id": "e66faab4",
   "metadata": {},
   "outputs": [],
   "source": []
  }
 ],
 "metadata": {
  "kernelspec": {
   "display_name": "Python 3 (ipykernel)",
   "language": "python",
   "name": "python3"
  },
  "language_info": {
   "codemirror_mode": {
    "name": "ipython",
    "version": 3
   },
   "file_extension": ".py",
   "mimetype": "text/x-python",
   "name": "python",
   "nbconvert_exporter": "python",
   "pygments_lexer": "ipython3",
   "version": "3.9.12"
  }
 },
 "nbformat": 4,
 "nbformat_minor": 5
}

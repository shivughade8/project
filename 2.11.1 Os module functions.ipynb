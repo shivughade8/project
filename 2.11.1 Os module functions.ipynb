{
 "cells": [
  {
   "cell_type": "code",
   "execution_count": 1,
   "id": "d4715356",
   "metadata": {},
   "outputs": [],
   "source": [
    "import os"
   ]
  },
  {
   "cell_type": "code",
   "execution_count": 2,
   "id": "f2b41418",
   "metadata": {},
   "outputs": [
    {
     "data": {
      "text/plain": [
       "'C:\\\\Users\\\\Pratik\\\\14 July B batch\\\\Module'"
      ]
     },
     "execution_count": 2,
     "metadata": {},
     "output_type": "execute_result"
    }
   ],
   "source": [
    "os.getcwd()"
   ]
  },
  {
   "cell_type": "code",
   "execution_count": 7,
   "id": "14f88950",
   "metadata": {
    "collapsed": true
   },
   "outputs": [
    {
     "data": {
      "text/plain": [
       "['BooleanDtype',\n",
       " 'Categorical',\n",
       " 'CategoricalDtype',\n",
       " 'CategoricalIndex',\n",
       " 'DataFrame',\n",
       " 'DateOffset',\n",
       " 'DatetimeIndex',\n",
       " 'DatetimeTZDtype',\n",
       " 'ExcelFile',\n",
       " 'ExcelWriter',\n",
       " 'Flags',\n",
       " 'Float32Dtype',\n",
       " 'Float64Dtype',\n",
       " 'Float64Index',\n",
       " 'Grouper',\n",
       " 'HDFStore',\n",
       " 'Index',\n",
       " 'IndexSlice',\n",
       " 'Int16Dtype',\n",
       " 'Int32Dtype',\n",
       " 'Int64Dtype',\n",
       " 'Int64Index',\n",
       " 'Int8Dtype',\n",
       " 'Interval',\n",
       " 'IntervalDtype',\n",
       " 'IntervalIndex',\n",
       " 'MultiIndex',\n",
       " 'NA',\n",
       " 'NaT',\n",
       " 'NamedAgg',\n",
       " 'Period',\n",
       " 'PeriodDtype',\n",
       " 'PeriodIndex',\n",
       " 'RangeIndex',\n",
       " 'Series',\n",
       " 'SparseDtype',\n",
       " 'StringDtype',\n",
       " 'Timedelta',\n",
       " 'TimedeltaIndex',\n",
       " 'Timestamp',\n",
       " 'UInt16Dtype',\n",
       " 'UInt32Dtype',\n",
       " 'UInt64Dtype',\n",
       " 'UInt64Index',\n",
       " 'UInt8Dtype',\n",
       " '__builtins__',\n",
       " '__cached__',\n",
       " '__doc__',\n",
       " '__docformat__',\n",
       " '__file__',\n",
       " '__getattr__',\n",
       " '__git_version__',\n",
       " '__loader__',\n",
       " '__name__',\n",
       " '__package__',\n",
       " '__path__',\n",
       " '__spec__',\n",
       " '__version__',\n",
       " '_config',\n",
       " '_hashtable',\n",
       " '_is_numpy_dev',\n",
       " '_lib',\n",
       " '_libs',\n",
       " '_np_version_under1p17',\n",
       " '_np_version_under1p18',\n",
       " '_testing',\n",
       " '_tslib',\n",
       " '_typing',\n",
       " '_version',\n",
       " 'api',\n",
       " 'array',\n",
       " 'arrays',\n",
       " 'bdate_range',\n",
       " 'compat',\n",
       " 'concat',\n",
       " 'core',\n",
       " 'crosstab',\n",
       " 'cut',\n",
       " 'date_range',\n",
       " 'describe_option',\n",
       " 'errors',\n",
       " 'eval',\n",
       " 'factorize',\n",
       " 'get_dummies',\n",
       " 'get_option',\n",
       " 'infer_freq',\n",
       " 'interval_range',\n",
       " 'io',\n",
       " 'isna',\n",
       " 'isnull',\n",
       " 'json_normalize',\n",
       " 'lreshape',\n",
       " 'melt',\n",
       " 'merge',\n",
       " 'merge_asof',\n",
       " 'merge_ordered',\n",
       " 'notna',\n",
       " 'notnull',\n",
       " 'offsets',\n",
       " 'option_context',\n",
       " 'options',\n",
       " 'pandas',\n",
       " 'period_range',\n",
       " 'pivot',\n",
       " 'pivot_table',\n",
       " 'plotting',\n",
       " 'qcut',\n",
       " 'read_clipboard',\n",
       " 'read_csv',\n",
       " 'read_excel',\n",
       " 'read_feather',\n",
       " 'read_fwf',\n",
       " 'read_gbq',\n",
       " 'read_hdf',\n",
       " 'read_html',\n",
       " 'read_json',\n",
       " 'read_orc',\n",
       " 'read_parquet',\n",
       " 'read_pickle',\n",
       " 'read_sas',\n",
       " 'read_spss',\n",
       " 'read_sql',\n",
       " 'read_sql_query',\n",
       " 'read_sql_table',\n",
       " 'read_stata',\n",
       " 'read_table',\n",
       " 'reset_option',\n",
       " 'set_eng_float_format',\n",
       " 'set_option',\n",
       " 'show_versions',\n",
       " 'test',\n",
       " 'testing',\n",
       " 'timedelta_range',\n",
       " 'to_datetime',\n",
       " 'to_numeric',\n",
       " 'to_pickle',\n",
       " 'to_timedelta',\n",
       " 'tseries',\n",
       " 'unique',\n",
       " 'util',\n",
       " 'value_counts',\n",
       " 'wide_to_long']"
      ]
     },
     "execution_count": 7,
     "metadata": {},
     "output_type": "execute_result"
    }
   ],
   "source": [
    "import pandas\n",
    "dir(pandas)"
   ]
  },
  {
   "cell_type": "code",
   "execution_count": 4,
   "id": "75ffad0d",
   "metadata": {
    "collapsed": true
   },
   "outputs": [
    {
     "data": {
      "text/plain": [
       "['DirEntry',\n",
       " 'F_OK',\n",
       " 'MutableMapping',\n",
       " 'O_APPEND',\n",
       " 'O_BINARY',\n",
       " 'O_CREAT',\n",
       " 'O_EXCL',\n",
       " 'O_NOINHERIT',\n",
       " 'O_RANDOM',\n",
       " 'O_RDONLY',\n",
       " 'O_RDWR',\n",
       " 'O_SEQUENTIAL',\n",
       " 'O_SHORT_LIVED',\n",
       " 'O_TEMPORARY',\n",
       " 'O_TEXT',\n",
       " 'O_TRUNC',\n",
       " 'O_WRONLY',\n",
       " 'P_DETACH',\n",
       " 'P_NOWAIT',\n",
       " 'P_NOWAITO',\n",
       " 'P_OVERLAY',\n",
       " 'P_WAIT',\n",
       " 'PathLike',\n",
       " 'R_OK',\n",
       " 'SEEK_CUR',\n",
       " 'SEEK_END',\n",
       " 'SEEK_SET',\n",
       " 'TMP_MAX',\n",
       " 'W_OK',\n",
       " 'X_OK',\n",
       " '_AddedDllDirectory',\n",
       " '_Environ',\n",
       " '__all__',\n",
       " '__builtins__',\n",
       " '__cached__',\n",
       " '__doc__',\n",
       " '__file__',\n",
       " '__loader__',\n",
       " '__name__',\n",
       " '__package__',\n",
       " '__spec__',\n",
       " '_check_methods',\n",
       " '_execvpe',\n",
       " '_exists',\n",
       " '_exit',\n",
       " '_fspath',\n",
       " '_get_exports_list',\n",
       " '_putenv',\n",
       " '_unsetenv',\n",
       " '_wrap_close',\n",
       " 'abc',\n",
       " 'abort',\n",
       " 'access',\n",
       " 'add_dll_directory',\n",
       " 'altsep',\n",
       " 'chdir',\n",
       " 'chmod',\n",
       " 'close',\n",
       " 'closerange',\n",
       " 'cpu_count',\n",
       " 'curdir',\n",
       " 'defpath',\n",
       " 'device_encoding',\n",
       " 'devnull',\n",
       " 'dup',\n",
       " 'dup2',\n",
       " 'environ',\n",
       " 'error',\n",
       " 'execl',\n",
       " 'execle',\n",
       " 'execlp',\n",
       " 'execlpe',\n",
       " 'execv',\n",
       " 'execve',\n",
       " 'execvp',\n",
       " 'execvpe',\n",
       " 'extsep',\n",
       " 'fdopen',\n",
       " 'fsdecode',\n",
       " 'fsencode',\n",
       " 'fspath',\n",
       " 'fstat',\n",
       " 'fsync',\n",
       " 'ftruncate',\n",
       " 'get_exec_path',\n",
       " 'get_handle_inheritable',\n",
       " 'get_inheritable',\n",
       " 'get_terminal_size',\n",
       " 'getcwd',\n",
       " 'getcwdb',\n",
       " 'getenv',\n",
       " 'getlogin',\n",
       " 'getpid',\n",
       " 'getppid',\n",
       " 'isatty',\n",
       " 'kill',\n",
       " 'linesep',\n",
       " 'link',\n",
       " 'listdir',\n",
       " 'lseek',\n",
       " 'lstat',\n",
       " 'makedirs',\n",
       " 'mkdir',\n",
       " 'name',\n",
       " 'open',\n",
       " 'pardir',\n",
       " 'path',\n",
       " 'pathsep',\n",
       " 'pipe',\n",
       " 'popen',\n",
       " 'putenv',\n",
       " 'read',\n",
       " 'readlink',\n",
       " 'remove',\n",
       " 'removedirs',\n",
       " 'rename',\n",
       " 'renames',\n",
       " 'replace',\n",
       " 'rmdir',\n",
       " 'scandir',\n",
       " 'sep',\n",
       " 'set_handle_inheritable',\n",
       " 'set_inheritable',\n",
       " 'spawnl',\n",
       " 'spawnle',\n",
       " 'spawnv',\n",
       " 'spawnve',\n",
       " 'st',\n",
       " 'startfile',\n",
       " 'stat',\n",
       " 'stat_result',\n",
       " 'statvfs_result',\n",
       " 'strerror',\n",
       " 'supports_bytes_environ',\n",
       " 'supports_dir_fd',\n",
       " 'supports_effective_ids',\n",
       " 'supports_fd',\n",
       " 'supports_follow_symlinks',\n",
       " 'symlink',\n",
       " 'sys',\n",
       " 'system',\n",
       " 'terminal_size',\n",
       " 'times',\n",
       " 'times_result',\n",
       " 'truncate',\n",
       " 'umask',\n",
       " 'uname_result',\n",
       " 'unlink',\n",
       " 'urandom',\n",
       " 'utime',\n",
       " 'waitpid',\n",
       " 'walk',\n",
       " 'write']"
      ]
     },
     "execution_count": 4,
     "metadata": {},
     "output_type": "execute_result"
    }
   ],
   "source": [
    "dir(os)"
   ]
  },
  {
   "cell_type": "code",
   "execution_count": 6,
   "id": "9027a3d0",
   "metadata": {
    "collapsed": true
   },
   "outputs": [
    {
     "data": {
      "text/plain": [
       "['COPY_BUFSIZE',\n",
       " 'Error',\n",
       " 'ExecError',\n",
       " 'ReadError',\n",
       " 'RegistryError',\n",
       " 'SameFileError',\n",
       " 'SpecialFileError',\n",
       " '_ARCHIVE_FORMATS',\n",
       " '_BZ2_SUPPORTED',\n",
       " '_GiveupOnFastCopy',\n",
       " '_HAS_FCOPYFILE',\n",
       " '_LZMA_SUPPORTED',\n",
       " '_UNPACK_FORMATS',\n",
       " '_USE_CP_SENDFILE',\n",
       " '_WINDOWS',\n",
       " '_WIN_DEFAULT_PATHEXT',\n",
       " '_ZLIB_SUPPORTED',\n",
       " '__all__',\n",
       " '__builtins__',\n",
       " '__cached__',\n",
       " '__doc__',\n",
       " '__file__',\n",
       " '__loader__',\n",
       " '__name__',\n",
       " '__package__',\n",
       " '__spec__',\n",
       " '_access_check',\n",
       " '_basename',\n",
       " '_check_unpack_options',\n",
       " '_copyfileobj_readinto',\n",
       " '_copytree',\n",
       " '_copyxattr',\n",
       " '_destinsrc',\n",
       " '_ensure_directory',\n",
       " '_fastcopy_fcopyfile',\n",
       " '_fastcopy_sendfile',\n",
       " '_find_unpack_format',\n",
       " '_get_gid',\n",
       " '_get_uid',\n",
       " '_islink',\n",
       " '_make_tarball',\n",
       " '_make_zipfile',\n",
       " '_ntuple_diskusage',\n",
       " '_rmtree_isdir',\n",
       " '_rmtree_islink',\n",
       " '_rmtree_safe_fd',\n",
       " '_rmtree_unsafe',\n",
       " '_samefile',\n",
       " '_stat',\n",
       " '_unpack_tarfile',\n",
       " '_unpack_zipfile',\n",
       " '_use_fd_functions',\n",
       " 'chown',\n",
       " 'collections',\n",
       " 'copy',\n",
       " 'copy2',\n",
       " 'copyfile',\n",
       " 'copyfileobj',\n",
       " 'copymode',\n",
       " 'copystat',\n",
       " 'copytree',\n",
       " 'disk_usage',\n",
       " 'errno',\n",
       " 'fnmatch',\n",
       " 'get_archive_formats',\n",
       " 'get_terminal_size',\n",
       " 'get_unpack_formats',\n",
       " 'getgrnam',\n",
       " 'getpwnam',\n",
       " 'ignore_patterns',\n",
       " 'make_archive',\n",
       " 'move',\n",
       " 'nt',\n",
       " 'os',\n",
       " 'posix',\n",
       " 'register_archive_format',\n",
       " 'register_unpack_format',\n",
       " 'rmtree',\n",
       " 'stat',\n",
       " 'sys',\n",
       " 'unpack_archive',\n",
       " 'unregister_archive_format',\n",
       " 'unregister_unpack_format',\n",
       " 'which']"
      ]
     },
     "execution_count": 6,
     "metadata": {},
     "output_type": "execute_result"
    }
   ],
   "source": [
    "import shutil\n",
    "dir(shutil)"
   ]
  },
  {
   "cell_type": "markdown",
   "id": "e5adfeee",
   "metadata": {},
   "source": [
    "## enlisting all the files within a folder"
   ]
  },
  {
   "cell_type": "code",
   "execution_count": 3,
   "id": "d6841a24",
   "metadata": {},
   "outputs": [
    {
     "data": {
      "text/plain": [
       "['.ipynb_checkpoints',\n",
       " '2.10.1 Os operations & file handeling.ipynb',\n",
       " '2.11.1 Os module functions.ipynb',\n",
       " '2.9.1 Modules.ipynb',\n",
       " '2.9.2 Packages & Libraries.ipynb',\n",
       " 'a+ file.txt',\n",
       " 'bank_details.txt',\n",
       " 'first_file.txt',\n",
       " 'Maths.ipynb',\n",
       " 'Maths.py',\n",
       " 'modes.png',\n",
       " 'w+ file.txt',\n",
       " 'with open.csv',\n",
       " 'with open.pdf',\n",
       " 'with open.txt',\n",
       " 'with open.xlsx',\n",
       " 'x_mode.txt',\n",
       " '__pycache__']"
      ]
     },
     "execution_count": 3,
     "metadata": {},
     "output_type": "execute_result"
    }
   ],
   "source": [
    "os.listdir('C:\\\\Users\\\\Pratik\\\\14 July B batch\\\\Module')"
   ]
  },
  {
   "cell_type": "markdown",
   "id": "4a21c7f1",
   "metadata": {},
   "source": [
    "## Rename()"
   ]
  },
  {
   "cell_type": "raw",
   "id": "7db1d9cc",
   "metadata": {},
   "source": [
    "Syntax:\n",
    "    \n",
    "    os.rename(current_file_path,new_file_path)\n",
    "    \n",
    "used for renaming a file or folder. Replacing with another name\n",
    "it can also be used for moving a file"
   ]
  },
  {
   "cell_type": "markdown",
   "id": "7bcd039e",
   "metadata": {},
   "source": [
    "#### working on same location"
   ]
  },
  {
   "cell_type": "code",
   "execution_count": 10,
   "id": "9bb91dec",
   "metadata": {},
   "outputs": [],
   "source": [
    "os.rename('bank_details.txt','bank_information.txt')"
   ]
  },
  {
   "cell_type": "code",
   "execution_count": 11,
   "id": "fdc63e3e",
   "metadata": {},
   "outputs": [],
   "source": [
    "os.rename('With open.pdf','with_open.pdf')"
   ]
  },
  {
   "cell_type": "code",
   "execution_count": 12,
   "id": "28d6b6b0",
   "metadata": {},
   "outputs": [],
   "source": [
    "os.rename('Maths.py','Mathematics.py')"
   ]
  },
  {
   "cell_type": "markdown",
   "id": "9df84f95",
   "metadata": {},
   "source": [
    "#### renaming by passing file path"
   ]
  },
  {
   "cell_type": "code",
   "execution_count": 13,
   "id": "923f25c5",
   "metadata": {},
   "outputs": [],
   "source": [
    "os.rename('C:/Users/Pratik/Workbench/second_file.txt','C:/Users/Pratik/Workbench/2nd_file.txt')"
   ]
  },
  {
   "cell_type": "code",
   "execution_count": 14,
   "id": "440547f8",
   "metadata": {},
   "outputs": [],
   "source": [
    "os.rename('C:\\\\Users\\\\Pratik\\\\14 July B batch\\\\Module\\\\modes.png','C:\\\\Users\\\\Pratik\\\\14 July B batch\\\\Module\\\\diff_modes.png')"
   ]
  },
  {
   "cell_type": "markdown",
   "id": "dad339e0",
   "metadata": {},
   "source": [
    "### rename to move a file"
   ]
  },
  {
   "cell_type": "markdown",
   "id": "64bf974a",
   "metadata": {},
   "source": [
    "#### changing file location without changing name"
   ]
  },
  {
   "cell_type": "code",
   "execution_count": 15,
   "id": "680471cf",
   "metadata": {},
   "outputs": [],
   "source": [
    "os.rename('C:\\\\Users\\\\Pratik\\\\14 July B batch\\\\Module\\\\Maths.ipynb','C://Users//Pratik/Workbench/Maths.ipynb')"
   ]
  },
  {
   "cell_type": "markdown",
   "id": "55929dec",
   "metadata": {},
   "source": [
    "#### changing path location & name both"
   ]
  },
  {
   "cell_type": "code",
   "execution_count": 16,
   "id": "43ddf9f5",
   "metadata": {},
   "outputs": [],
   "source": [
    "old_path_name= 'C://Users//Pratik/Workbench/Maths.ipynb'\n",
    "new_path_name= 'C:\\\\Users\\\\Pratik\\\\14 July B batch\\\\Module\\\\Mathematics.ipynb'\n",
    "\n",
    "os.rename(old_path_name,new_path_name)"
   ]
  },
  {
   "cell_type": "markdown",
   "id": "db654e52",
   "metadata": {},
   "source": [
    "#### non convertible & convertible file types"
   ]
  },
  {
   "cell_type": "code",
   "execution_count": 18,
   "id": "a6e7f6bb",
   "metadata": {},
   "outputs": [],
   "source": [
    "os.rename('bank_information.txt','bank_information.ipynb')"
   ]
  },
  {
   "cell_type": "code",
   "execution_count": 19,
   "id": "c5a93b69",
   "metadata": {},
   "outputs": [],
   "source": [
    "os.rename('bank_information.ipynb','bank_information.txt')"
   ]
  },
  {
   "cell_type": "code",
   "execution_count": 20,
   "id": "36a12c15",
   "metadata": {},
   "outputs": [],
   "source": [
    "os.rename('bank_information.txt','bank_information.docx')"
   ]
  },
  {
   "cell_type": "code",
   "execution_count": 22,
   "id": "ed9c7428",
   "metadata": {},
   "outputs": [],
   "source": [
    "os.rename('a+ file.txt','a+ file.pdf')"
   ]
  },
  {
   "cell_type": "code",
   "execution_count": 23,
   "id": "12dcd426",
   "metadata": {},
   "outputs": [],
   "source": [
    "os.rename('a+ file.pdf','a+ file.txt')"
   ]
  },
  {
   "cell_type": "markdown",
   "id": "0d4cf667",
   "metadata": {},
   "source": [
    "## Renaming a package/ folder"
   ]
  },
  {
   "cell_type": "code",
   "execution_count": 24,
   "id": "0a51d82a",
   "metadata": {},
   "outputs": [],
   "source": [
    "folder_name = 'C://Users//Pratik/Workbench'\n",
    "new_name = 'C://Users//Pratik/Workspace'\n",
    "\n",
    "os.rename(folder_name,new_name)"
   ]
  },
  {
   "cell_type": "markdown",
   "id": "e67f2846",
   "metadata": {},
   "source": [
    "## moving a package/Folder"
   ]
  },
  {
   "cell_type": "code",
   "execution_count": 25,
   "id": "d4c21a93",
   "metadata": {},
   "outputs": [],
   "source": [
    "folder_path = 'C://Users//Pratik/Workspace'\n",
    "new_path = 'C:\\\\Users\\\\Pratik\\\\14 July B batch\\\\Module\\\\Workspace'\n",
    "\n",
    "os.rename(folder_path,new_path)"
   ]
  },
  {
   "cell_type": "code",
   "execution_count": 26,
   "id": "d9b728b0",
   "metadata": {},
   "outputs": [],
   "source": [
    "folder_path = 'C://Users//Pratik/Workspace'\n",
    "new_path = 'C:\\\\Users\\\\Pratik\\\\14 July B batch\\\\Module\\\\Workspace'\n",
    "\n",
    "os.rename(new_path,folder_path)"
   ]
  },
  {
   "cell_type": "markdown",
   "id": "ecd1ec9d",
   "metadata": {},
   "source": [
    "## Remove()"
   ]
  },
  {
   "cell_type": "raw",
   "id": "14c55bc9",
   "metadata": {},
   "source": [
    "Syntax:\n",
    "    os.remove(file_path)"
   ]
  },
  {
   "cell_type": "code",
   "execution_count": 27,
   "id": "2d640ba0",
   "metadata": {},
   "outputs": [],
   "source": [
    "os.remove('with_open.pdf')"
   ]
  },
  {
   "cell_type": "code",
   "execution_count": 30,
   "id": "cf8d7250",
   "metadata": {},
   "outputs": [],
   "source": [
    "os.remove(r'C:\\Users\\Pratik\\Workspace\\2nd_file.txt')"
   ]
  },
  {
   "cell_type": "code",
   "execution_count": 32,
   "id": "df596a09",
   "metadata": {},
   "outputs": [],
   "source": [
    "os.remove('with open.txt')"
   ]
  },
  {
   "cell_type": "markdown",
   "id": "6dc9e8fe",
   "metadata": {},
   "source": [
    "# check is a file or folder is present"
   ]
  },
  {
   "cell_type": "code",
   "execution_count": 33,
   "id": "1e136952",
   "metadata": {},
   "outputs": [
    {
     "data": {
      "text/plain": [
       "['.ipynb_checkpoints',\n",
       " '2.10.1 Os operations & file handeling.ipynb',\n",
       " '2.11.1 Os module functions.ipynb',\n",
       " '2.9.1 Modules.ipynb',\n",
       " '2.9.2 Packages & Libraries.ipynb',\n",
       " 'a+ file.txt',\n",
       " 'bank_information.docx',\n",
       " 'diff_modes.png',\n",
       " 'first_file.txt',\n",
       " 'Mathematics.ipynb',\n",
       " 'Mathematics.py',\n",
       " 'w+ file.txt',\n",
       " 'with open.csv',\n",
       " 'with open.xlsx',\n",
       " 'x_mode.txt',\n",
       " '__pycache__']"
      ]
     },
     "execution_count": 33,
     "metadata": {},
     "output_type": "execute_result"
    }
   ],
   "source": [
    "os.listdir('C:\\\\Users\\\\Pratik\\\\14 July B batch\\\\Module')"
   ]
  },
  {
   "cell_type": "code",
   "execution_count": 34,
   "id": "e92a0022",
   "metadata": {},
   "outputs": [
    {
     "data": {
      "text/plain": [
       "True"
      ]
     },
     "execution_count": 34,
     "metadata": {},
     "output_type": "execute_result"
    }
   ],
   "source": [
    "os.path.exists('C:\\\\Users\\\\Pratik\\\\14 July B batch\\\\Module\\\\Mathematics.py')"
   ]
  },
  {
   "cell_type": "code",
   "execution_count": 35,
   "id": "4bb37b8f",
   "metadata": {},
   "outputs": [
    {
     "data": {
      "text/plain": [
       "False"
      ]
     },
     "execution_count": 35,
     "metadata": {},
     "output_type": "execute_result"
    }
   ],
   "source": [
    "os.path.exists('C:\\\\Users\\\\Pratik\\\\14 July B batch\\\\Module\\\\Mathe.py')"
   ]
  },
  {
   "cell_type": "code",
   "execution_count": 36,
   "id": "734ee1d3",
   "metadata": {},
   "outputs": [
    {
     "data": {
      "text/plain": [
       "True"
      ]
     },
     "execution_count": 36,
     "metadata": {},
     "output_type": "execute_result"
    }
   ],
   "source": [
    "os.path.exists('C:\\\\Users\\\\Pratik\\\\14 July B batch\\\\Module')"
   ]
  },
  {
   "cell_type": "code",
   "execution_count": 38,
   "id": "eb22fb2a",
   "metadata": {},
   "outputs": [],
   "source": [
    "import traceback\n",
    "path = 'C:\\\\Users\\\\Pratik\\\\14 July B batch\\\\Module\\\\Mathematics.py'\n",
    "if os.path.exists(path):\n",
    "    try:\n",
    "        os.rename(path,'C:\\\\Users\\\\Pratik\\\\14 July B batch\\\\Module\\\\Maths.py')\n",
    "    except:\n",
    "        print(traceback.print_exc())\n",
    "        \n",
    "else:\n",
    "    pass"
   ]
  },
  {
   "cell_type": "markdown",
   "id": "1e244b3c",
   "metadata": {},
   "source": [
    "## Working on folders"
   ]
  },
  {
   "cell_type": "markdown",
   "id": "2b05da9e",
   "metadata": {},
   "source": [
    "\n",
    "### mkdir()"
   ]
  },
  {
   "cell_type": "raw",
   "id": "1e5e7a7e",
   "metadata": {},
   "source": [
    "is used to create folder\n",
    "\n",
    "Syntax:\n",
    "    os.mkdir(folder_name)\n",
    "    \n",
    "    "
   ]
  },
  {
   "cell_type": "code",
   "execution_count": 39,
   "id": "6365cc50",
   "metadata": {},
   "outputs": [],
   "source": [
    "folder_path = 'C:\\\\Users\\\\Pratik\\\\14 July B batch\\\\Module\\\\Trial'\n",
    "\n",
    "os.mkdir(folder_path)"
   ]
  },
  {
   "cell_type": "code",
   "execution_count": 40,
   "id": "e68ed6b8",
   "metadata": {},
   "outputs": [
    {
     "data": {
      "text/plain": [
       "True"
      ]
     },
     "execution_count": 40,
     "metadata": {},
     "output_type": "execute_result"
    }
   ],
   "source": [
    "os.mkdir('Testing')\n",
    "\n",
    "os.path.exists('C:\\\\Users\\\\Pratik\\\\14 July B batch\\\\Module\\\\Testing')"
   ]
  },
  {
   "cell_type": "markdown",
   "id": "dffb9122",
   "metadata": {},
   "source": [
    "### os.rmdir()"
   ]
  },
  {
   "cell_type": "raw",
   "id": "1d30e589",
   "metadata": {},
   "source": [
    "used to delete the folder/directory/package\n",
    "works only when the folder is empty"
   ]
  },
  {
   "cell_type": "code",
   "execution_count": 41,
   "id": "3baaca94",
   "metadata": {},
   "outputs": [],
   "source": [
    "folder_path = 'C:\\\\Users\\\\Pratik\\\\14 July B batch\\\\Module\\\\Trial'\n",
    "\n",
    "os.rmdir(folder_path)"
   ]
  },
  {
   "cell_type": "code",
   "execution_count": 42,
   "id": "26e9c69b",
   "metadata": {},
   "outputs": [
    {
     "ename": "OSError",
     "evalue": "[WinError 145] The directory is not empty: 'C://Users//Pratik/Workspace'",
     "output_type": "error",
     "traceback": [
      "\u001b[1;31m---------------------------------------------------------------------------\u001b[0m",
      "\u001b[1;31mOSError\u001b[0m                                   Traceback (most recent call last)",
      "\u001b[1;32m<ipython-input-42-9312818fed2c>\u001b[0m in \u001b[0;36m<module>\u001b[1;34m\u001b[0m\n\u001b[0;32m      1\u001b[0m \u001b[0mfolder_path\u001b[0m \u001b[1;33m=\u001b[0m \u001b[1;34m'C://Users//Pratik/Workspace'\u001b[0m\u001b[1;33m\u001b[0m\u001b[1;33m\u001b[0m\u001b[0m\n\u001b[0;32m      2\u001b[0m \u001b[1;33m\u001b[0m\u001b[0m\n\u001b[1;32m----> 3\u001b[1;33m \u001b[0mos\u001b[0m\u001b[1;33m.\u001b[0m\u001b[0mrmdir\u001b[0m\u001b[1;33m(\u001b[0m\u001b[0mfolder_path\u001b[0m\u001b[1;33m)\u001b[0m\u001b[1;33m\u001b[0m\u001b[1;33m\u001b[0m\u001b[0m\n\u001b[0m",
      "\u001b[1;31mOSError\u001b[0m: [WinError 145] The directory is not empty: 'C://Users//Pratik/Workspace'"
     ]
    }
   ],
   "source": [
    "folder_path = 'C://Users//Pratik/Workspace'\n",
    "\n",
    "os.rmdir(folder_path)"
   ]
  },
  {
   "cell_type": "markdown",
   "id": "32842142",
   "metadata": {},
   "source": [
    "# Shutil"
   ]
  },
  {
   "cell_type": "raw",
   "id": "80feb5f0",
   "metadata": {},
   "source": [
    "shutil has multiple functionalities similar to os"
   ]
  },
  {
   "cell_type": "code",
   "execution_count": 43,
   "id": "7a425671",
   "metadata": {},
   "outputs": [],
   "source": [
    "import shutil"
   ]
  },
  {
   "cell_type": "code",
   "execution_count": 44,
   "id": "6463aaa9",
   "metadata": {
    "collapsed": true
   },
   "outputs": [
    {
     "data": {
      "text/plain": [
       "['COPY_BUFSIZE',\n",
       " 'Error',\n",
       " 'ExecError',\n",
       " 'ReadError',\n",
       " 'RegistryError',\n",
       " 'SameFileError',\n",
       " 'SpecialFileError',\n",
       " '_ARCHIVE_FORMATS',\n",
       " '_BZ2_SUPPORTED',\n",
       " '_GiveupOnFastCopy',\n",
       " '_HAS_FCOPYFILE',\n",
       " '_LZMA_SUPPORTED',\n",
       " '_UNPACK_FORMATS',\n",
       " '_USE_CP_SENDFILE',\n",
       " '_WINDOWS',\n",
       " '_WIN_DEFAULT_PATHEXT',\n",
       " '_ZLIB_SUPPORTED',\n",
       " '__all__',\n",
       " '__builtins__',\n",
       " '__cached__',\n",
       " '__doc__',\n",
       " '__file__',\n",
       " '__loader__',\n",
       " '__name__',\n",
       " '__package__',\n",
       " '__spec__',\n",
       " '_access_check',\n",
       " '_basename',\n",
       " '_check_unpack_options',\n",
       " '_copyfileobj_readinto',\n",
       " '_copytree',\n",
       " '_copyxattr',\n",
       " '_destinsrc',\n",
       " '_ensure_directory',\n",
       " '_fastcopy_fcopyfile',\n",
       " '_fastcopy_sendfile',\n",
       " '_find_unpack_format',\n",
       " '_get_gid',\n",
       " '_get_uid',\n",
       " '_islink',\n",
       " '_make_tarball',\n",
       " '_make_zipfile',\n",
       " '_ntuple_diskusage',\n",
       " '_rmtree_isdir',\n",
       " '_rmtree_islink',\n",
       " '_rmtree_safe_fd',\n",
       " '_rmtree_unsafe',\n",
       " '_samefile',\n",
       " '_stat',\n",
       " '_unpack_tarfile',\n",
       " '_unpack_zipfile',\n",
       " '_use_fd_functions',\n",
       " 'chown',\n",
       " 'collections',\n",
       " 'copy',\n",
       " 'copy2',\n",
       " 'copyfile',\n",
       " 'copyfileobj',\n",
       " 'copymode',\n",
       " 'copystat',\n",
       " 'copytree',\n",
       " 'disk_usage',\n",
       " 'errno',\n",
       " 'fnmatch',\n",
       " 'get_archive_formats',\n",
       " 'get_terminal_size',\n",
       " 'get_unpack_formats',\n",
       " 'getgrnam',\n",
       " 'getpwnam',\n",
       " 'ignore_patterns',\n",
       " 'make_archive',\n",
       " 'move',\n",
       " 'nt',\n",
       " 'os',\n",
       " 'posix',\n",
       " 'register_archive_format',\n",
       " 'register_unpack_format',\n",
       " 'rmtree',\n",
       " 'stat',\n",
       " 'sys',\n",
       " 'unpack_archive',\n",
       " 'unregister_archive_format',\n",
       " 'unregister_unpack_format',\n",
       " 'which']"
      ]
     },
     "execution_count": 44,
     "metadata": {},
     "output_type": "execute_result"
    }
   ],
   "source": [
    "dir(shutil)"
   ]
  },
  {
   "cell_type": "markdown",
   "id": "849c003a",
   "metadata": {},
   "source": [
    "### rmtree"
   ]
  },
  {
   "cell_type": "raw",
   "id": "eba1e44f",
   "metadata": {},
   "source": [
    "used to delete a folder even when a folder consits of file & folders within the same"
   ]
  },
  {
   "cell_type": "code",
   "execution_count": 45,
   "id": "6fcfb52a",
   "metadata": {},
   "outputs": [],
   "source": [
    "shutil.rmtree('C:\\\\Users\\\\Pratik\\\\14 July B batch\\\\Module\\\\Testing')"
   ]
  },
  {
   "cell_type": "code",
   "execution_count": 46,
   "id": "b0aeae09",
   "metadata": {},
   "outputs": [],
   "source": [
    "shutil.rmtree('C://Users//Pratik/DeleteMe')"
   ]
  },
  {
   "cell_type": "code",
   "execution_count": 47,
   "id": "1528e631",
   "metadata": {
    "collapsed": true
   },
   "outputs": [
    {
     "ename": "PermissionError",
     "evalue": "[WinError 32] The process cannot access the file because it is being used by another process: 'C:\\\\Users\\\\Pratik\\\\14 July B batch\\\\Module'",
     "output_type": "error",
     "traceback": [
      "\u001b[1;31m---------------------------------------------------------------------------\u001b[0m",
      "\u001b[1;31mPermissionError\u001b[0m                           Traceback (most recent call last)",
      "\u001b[1;32m<ipython-input-47-26343e740ebd>\u001b[0m in \u001b[0;36m<module>\u001b[1;34m\u001b[0m\n\u001b[1;32m----> 1\u001b[1;33m \u001b[0mshutil\u001b[0m\u001b[1;33m.\u001b[0m\u001b[0mrmtree\u001b[0m\u001b[1;33m(\u001b[0m\u001b[1;34m'C:\\\\Users\\\\Pratik\\\\14 July B batch\\\\Module'\u001b[0m\u001b[1;33m)\u001b[0m\u001b[1;33m\u001b[0m\u001b[1;33m\u001b[0m\u001b[0m\n\u001b[0m",
      "\u001b[1;32m~\\anaconda3\\lib\\shutil.py\u001b[0m in \u001b[0;36mrmtree\u001b[1;34m(path, ignore_errors, onerror)\u001b[0m\n\u001b[0;32m    738\u001b[0m             \u001b[1;31m# can't continue even if onerror hook returns\u001b[0m\u001b[1;33m\u001b[0m\u001b[1;33m\u001b[0m\u001b[1;33m\u001b[0m\u001b[0m\n\u001b[0;32m    739\u001b[0m             \u001b[1;32mreturn\u001b[0m\u001b[1;33m\u001b[0m\u001b[1;33m\u001b[0m\u001b[0m\n\u001b[1;32m--> 740\u001b[1;33m         \u001b[1;32mreturn\u001b[0m \u001b[0m_rmtree_unsafe\u001b[0m\u001b[1;33m(\u001b[0m\u001b[0mpath\u001b[0m\u001b[1;33m,\u001b[0m \u001b[0monerror\u001b[0m\u001b[1;33m)\u001b[0m\u001b[1;33m\u001b[0m\u001b[1;33m\u001b[0m\u001b[0m\n\u001b[0m\u001b[0;32m    741\u001b[0m \u001b[1;33m\u001b[0m\u001b[0m\n\u001b[0;32m    742\u001b[0m \u001b[1;31m# Allow introspection of whether or not the hardening against symlink\u001b[0m\u001b[1;33m\u001b[0m\u001b[1;33m\u001b[0m\u001b[1;33m\u001b[0m\u001b[0m\n",
      "\u001b[1;32m~\\anaconda3\\lib\\shutil.py\u001b[0m in \u001b[0;36m_rmtree_unsafe\u001b[1;34m(path, onerror)\u001b[0m\n\u001b[0;32m    620\u001b[0m         \u001b[0mos\u001b[0m\u001b[1;33m.\u001b[0m\u001b[0mrmdir\u001b[0m\u001b[1;33m(\u001b[0m\u001b[0mpath\u001b[0m\u001b[1;33m)\u001b[0m\u001b[1;33m\u001b[0m\u001b[1;33m\u001b[0m\u001b[0m\n\u001b[0;32m    621\u001b[0m     \u001b[1;32mexcept\u001b[0m \u001b[0mOSError\u001b[0m\u001b[1;33m:\u001b[0m\u001b[1;33m\u001b[0m\u001b[1;33m\u001b[0m\u001b[0m\n\u001b[1;32m--> 622\u001b[1;33m         \u001b[0monerror\u001b[0m\u001b[1;33m(\u001b[0m\u001b[0mos\u001b[0m\u001b[1;33m.\u001b[0m\u001b[0mrmdir\u001b[0m\u001b[1;33m,\u001b[0m \u001b[0mpath\u001b[0m\u001b[1;33m,\u001b[0m \u001b[0msys\u001b[0m\u001b[1;33m.\u001b[0m\u001b[0mexc_info\u001b[0m\u001b[1;33m(\u001b[0m\u001b[1;33m)\u001b[0m\u001b[1;33m)\u001b[0m\u001b[1;33m\u001b[0m\u001b[1;33m\u001b[0m\u001b[0m\n\u001b[0m\u001b[0;32m    623\u001b[0m \u001b[1;33m\u001b[0m\u001b[0m\n\u001b[0;32m    624\u001b[0m \u001b[1;31m# Version using fd-based APIs to protect against races\u001b[0m\u001b[1;33m\u001b[0m\u001b[1;33m\u001b[0m\u001b[1;33m\u001b[0m\u001b[0m\n",
      "\u001b[1;32m~\\anaconda3\\lib\\shutil.py\u001b[0m in \u001b[0;36m_rmtree_unsafe\u001b[1;34m(path, onerror)\u001b[0m\n\u001b[0;32m    618\u001b[0m                 \u001b[0monerror\u001b[0m\u001b[1;33m(\u001b[0m\u001b[0mos\u001b[0m\u001b[1;33m.\u001b[0m\u001b[0munlink\u001b[0m\u001b[1;33m,\u001b[0m \u001b[0mfullname\u001b[0m\u001b[1;33m,\u001b[0m \u001b[0msys\u001b[0m\u001b[1;33m.\u001b[0m\u001b[0mexc_info\u001b[0m\u001b[1;33m(\u001b[0m\u001b[1;33m)\u001b[0m\u001b[1;33m)\u001b[0m\u001b[1;33m\u001b[0m\u001b[1;33m\u001b[0m\u001b[0m\n\u001b[0;32m    619\u001b[0m     \u001b[1;32mtry\u001b[0m\u001b[1;33m:\u001b[0m\u001b[1;33m\u001b[0m\u001b[1;33m\u001b[0m\u001b[0m\n\u001b[1;32m--> 620\u001b[1;33m         \u001b[0mos\u001b[0m\u001b[1;33m.\u001b[0m\u001b[0mrmdir\u001b[0m\u001b[1;33m(\u001b[0m\u001b[0mpath\u001b[0m\u001b[1;33m)\u001b[0m\u001b[1;33m\u001b[0m\u001b[1;33m\u001b[0m\u001b[0m\n\u001b[0m\u001b[0;32m    621\u001b[0m     \u001b[1;32mexcept\u001b[0m \u001b[0mOSError\u001b[0m\u001b[1;33m:\u001b[0m\u001b[1;33m\u001b[0m\u001b[1;33m\u001b[0m\u001b[0m\n\u001b[0;32m    622\u001b[0m         \u001b[0monerror\u001b[0m\u001b[1;33m(\u001b[0m\u001b[0mos\u001b[0m\u001b[1;33m.\u001b[0m\u001b[0mrmdir\u001b[0m\u001b[1;33m,\u001b[0m \u001b[0mpath\u001b[0m\u001b[1;33m,\u001b[0m \u001b[0msys\u001b[0m\u001b[1;33m.\u001b[0m\u001b[0mexc_info\u001b[0m\u001b[1;33m(\u001b[0m\u001b[1;33m)\u001b[0m\u001b[1;33m)\u001b[0m\u001b[1;33m\u001b[0m\u001b[1;33m\u001b[0m\u001b[0m\n",
      "\u001b[1;31mPermissionError\u001b[0m: [WinError 32] The process cannot access the file because it is being used by another process: 'C:\\\\Users\\\\Pratik\\\\14 July B batch\\\\Module'"
     ]
    }
   ],
   "source": [
    "shutil.rmtree('C:\\\\Users\\\\Pratik\\\\14 July B batch\\\\Module')"
   ]
  },
  {
   "cell_type": "markdown",
   "id": "4dcc07a7",
   "metadata": {},
   "source": [
    "## shutil.copy()"
   ]
  },
  {
   "cell_type": "raw",
   "id": "179c6c0b",
   "metadata": {},
   "source": [
    "It copies a file from one location to another"
   ]
  },
  {
   "cell_type": "code",
   "execution_count": 49,
   "id": "5d9e6e0f",
   "metadata": {},
   "outputs": [
    {
     "data": {
      "text/plain": [
       "'C://Users//Pratik/Workspace/Maths.py'"
      ]
     },
     "execution_count": 49,
     "metadata": {},
     "output_type": "execute_result"
    }
   ],
   "source": [
    "old_file='C:\\\\Users\\\\Pratik\\\\14 July B batch\\\\Module\\\\Maths.py'\n",
    "copied_file = 'C://Users//Pratik/Workspace/Maths.py'\n",
    "\n",
    "shutil.copy(old_file,copied_file)"
   ]
  },
  {
   "cell_type": "code",
   "execution_count": 57,
   "id": "6b96f427",
   "metadata": {
    "collapsed": true
   },
   "outputs": [
    {
     "ename": "PermissionError",
     "evalue": "[Errno 13] Permission denied: 'C:\\\\Users\\\\Pratik\\\\Workspace'",
     "output_type": "error",
     "traceback": [
      "\u001b[1;31m---------------------------------------------------------------------------\u001b[0m",
      "\u001b[1;31mPermissionError\u001b[0m                           Traceback (most recent call last)",
      "\u001b[1;32m<ipython-input-57-77e1672a37cf>\u001b[0m in \u001b[0;36m<module>\u001b[1;34m\u001b[0m\n\u001b[0;32m      2\u001b[0m \u001b[0mnew_path\u001b[0m \u001b[1;33m=\u001b[0m \u001b[1;34mr'C:\\Users\\Pratik\\14 July B batch\\Module\\Workspace'\u001b[0m\u001b[1;33m\u001b[0m\u001b[1;33m\u001b[0m\u001b[0m\n\u001b[0;32m      3\u001b[0m \u001b[1;33m\u001b[0m\u001b[0m\n\u001b[1;32m----> 4\u001b[1;33m \u001b[0mshutil\u001b[0m\u001b[1;33m.\u001b[0m\u001b[0mcopy\u001b[0m\u001b[1;33m(\u001b[0m\u001b[0mprevious_path\u001b[0m\u001b[1;33m,\u001b[0m\u001b[0mnew_path\u001b[0m\u001b[1;33m)\u001b[0m\u001b[1;33m\u001b[0m\u001b[1;33m\u001b[0m\u001b[0m\n\u001b[0m",
      "\u001b[1;32m~\\anaconda3\\lib\\shutil.py\u001b[0m in \u001b[0;36mcopy\u001b[1;34m(src, dst, follow_symlinks)\u001b[0m\n\u001b[0;32m    416\u001b[0m     \u001b[1;32mif\u001b[0m \u001b[0mos\u001b[0m\u001b[1;33m.\u001b[0m\u001b[0mpath\u001b[0m\u001b[1;33m.\u001b[0m\u001b[0misdir\u001b[0m\u001b[1;33m(\u001b[0m\u001b[0mdst\u001b[0m\u001b[1;33m)\u001b[0m\u001b[1;33m:\u001b[0m\u001b[1;33m\u001b[0m\u001b[1;33m\u001b[0m\u001b[0m\n\u001b[0;32m    417\u001b[0m         \u001b[0mdst\u001b[0m \u001b[1;33m=\u001b[0m \u001b[0mos\u001b[0m\u001b[1;33m.\u001b[0m\u001b[0mpath\u001b[0m\u001b[1;33m.\u001b[0m\u001b[0mjoin\u001b[0m\u001b[1;33m(\u001b[0m\u001b[0mdst\u001b[0m\u001b[1;33m,\u001b[0m \u001b[0mos\u001b[0m\u001b[1;33m.\u001b[0m\u001b[0mpath\u001b[0m\u001b[1;33m.\u001b[0m\u001b[0mbasename\u001b[0m\u001b[1;33m(\u001b[0m\u001b[0msrc\u001b[0m\u001b[1;33m)\u001b[0m\u001b[1;33m)\u001b[0m\u001b[1;33m\u001b[0m\u001b[1;33m\u001b[0m\u001b[0m\n\u001b[1;32m--> 418\u001b[1;33m     \u001b[0mcopyfile\u001b[0m\u001b[1;33m(\u001b[0m\u001b[0msrc\u001b[0m\u001b[1;33m,\u001b[0m \u001b[0mdst\u001b[0m\u001b[1;33m,\u001b[0m \u001b[0mfollow_symlinks\u001b[0m\u001b[1;33m=\u001b[0m\u001b[0mfollow_symlinks\u001b[0m\u001b[1;33m)\u001b[0m\u001b[1;33m\u001b[0m\u001b[1;33m\u001b[0m\u001b[0m\n\u001b[0m\u001b[0;32m    419\u001b[0m     \u001b[0mcopymode\u001b[0m\u001b[1;33m(\u001b[0m\u001b[0msrc\u001b[0m\u001b[1;33m,\u001b[0m \u001b[0mdst\u001b[0m\u001b[1;33m,\u001b[0m \u001b[0mfollow_symlinks\u001b[0m\u001b[1;33m=\u001b[0m\u001b[0mfollow_symlinks\u001b[0m\u001b[1;33m)\u001b[0m\u001b[1;33m\u001b[0m\u001b[1;33m\u001b[0m\u001b[0m\n\u001b[0;32m    420\u001b[0m     \u001b[1;32mreturn\u001b[0m \u001b[0mdst\u001b[0m\u001b[1;33m\u001b[0m\u001b[1;33m\u001b[0m\u001b[0m\n",
      "\u001b[1;32m~\\anaconda3\\lib\\shutil.py\u001b[0m in \u001b[0;36mcopyfile\u001b[1;34m(src, dst, follow_symlinks)\u001b[0m\n\u001b[0;32m    262\u001b[0m         \u001b[0mos\u001b[0m\u001b[1;33m.\u001b[0m\u001b[0msymlink\u001b[0m\u001b[1;33m(\u001b[0m\u001b[0mos\u001b[0m\u001b[1;33m.\u001b[0m\u001b[0mreadlink\u001b[0m\u001b[1;33m(\u001b[0m\u001b[0msrc\u001b[0m\u001b[1;33m)\u001b[0m\u001b[1;33m,\u001b[0m \u001b[0mdst\u001b[0m\u001b[1;33m)\u001b[0m\u001b[1;33m\u001b[0m\u001b[1;33m\u001b[0m\u001b[0m\n\u001b[0;32m    263\u001b[0m     \u001b[1;32melse\u001b[0m\u001b[1;33m:\u001b[0m\u001b[1;33m\u001b[0m\u001b[1;33m\u001b[0m\u001b[0m\n\u001b[1;32m--> 264\u001b[1;33m         \u001b[1;32mwith\u001b[0m \u001b[0mopen\u001b[0m\u001b[1;33m(\u001b[0m\u001b[0msrc\u001b[0m\u001b[1;33m,\u001b[0m \u001b[1;34m'rb'\u001b[0m\u001b[1;33m)\u001b[0m \u001b[1;32mas\u001b[0m \u001b[0mfsrc\u001b[0m\u001b[1;33m,\u001b[0m \u001b[0mopen\u001b[0m\u001b[1;33m(\u001b[0m\u001b[0mdst\u001b[0m\u001b[1;33m,\u001b[0m \u001b[1;34m'wb'\u001b[0m\u001b[1;33m)\u001b[0m \u001b[1;32mas\u001b[0m \u001b[0mfdst\u001b[0m\u001b[1;33m:\u001b[0m\u001b[1;33m\u001b[0m\u001b[1;33m\u001b[0m\u001b[0m\n\u001b[0m\u001b[0;32m    265\u001b[0m             \u001b[1;31m# macOS\u001b[0m\u001b[1;33m\u001b[0m\u001b[1;33m\u001b[0m\u001b[1;33m\u001b[0m\u001b[0m\n\u001b[0;32m    266\u001b[0m             \u001b[1;32mif\u001b[0m \u001b[0m_HAS_FCOPYFILE\u001b[0m\u001b[1;33m:\u001b[0m\u001b[1;33m\u001b[0m\u001b[1;33m\u001b[0m\u001b[0m\n",
      "\u001b[1;31mPermissionError\u001b[0m: [Errno 13] Permission denied: 'C:\\\\Users\\\\Pratik\\\\Workspace'"
     ]
    }
   ],
   "source": [
    "# do this in other than c drive\n",
    "previous_path = r'C:\\Users\\Pratik\\Workspace'\n",
    "new_path = r'C:\\Users\\Pratik\\14 July B batch\\Module\\Workspace'\n",
    "\n",
    "shutil.copy(previous_path,new_path)"
   ]
  },
  {
   "cell_type": "markdown",
   "id": "ef74f1d8",
   "metadata": {},
   "source": [
    " ## Shutil.move()"
   ]
  },
  {
   "cell_type": "code",
   "execution_count": 58,
   "id": "32664cfd",
   "metadata": {},
   "outputs": [
    {
     "data": {
      "text/plain": [
       "'C:\\\\Users\\\\Pratik\\\\14 July B batch\\\\Module\\\\second_file.txt'"
      ]
     },
     "execution_count": 58,
     "metadata": {},
     "output_type": "execute_result"
    }
   ],
   "source": [
    "previous_path = r'C:/Users/Pratik/Workspace/second_file.txt'\n",
    "new_path = r'C:\\Users\\Pratik\\14 July B batch\\Module\\second_file.txt'\n",
    "\n",
    "shutil.move(previous_path,new_path)"
   ]
  },
  {
   "cell_type": "markdown",
   "id": "af5d7c9a",
   "metadata": {},
   "source": [
    "## Segragating files in any folder"
   ]
  },
  {
   "cell_type": "code",
   "execution_count": 60,
   "id": "dd442067",
   "metadata": {},
   "outputs": [
    {
     "data": {
      "text/plain": [
       "['.ipynb_checkpoints',\n",
       " '2.10.1 Os operations & file handeling.ipynb',\n",
       " '2.11.1 Os module functions.ipynb',\n",
       " '2.9.1 Modules.ipynb',\n",
       " '2.9.2 Packages & Libraries.ipynb',\n",
       " 'a+ file.txt',\n",
       " 'bank_information.docx',\n",
       " 'diff_modes.png',\n",
       " 'first_file.txt',\n",
       " 'Mathematics.ipynb',\n",
       " 'Maths.py',\n",
       " 'second_file.txt',\n",
       " 'w+ file.txt',\n",
       " 'with open.csv',\n",
       " 'with open.xlsx',\n",
       " 'x_mode.txt']"
      ]
     },
     "execution_count": 60,
     "metadata": {},
     "output_type": "execute_result"
    }
   ],
   "source": [
    "os.listdir(r'C:\\Users\\Pratik\\14 July B batch\\Module')"
   ]
  },
  {
   "cell_type": "code",
   "execution_count": 62,
   "id": "6ef9b6c2",
   "metadata": {},
   "outputs": [],
   "source": [
    "path = r'C:\\Users\\Pratik\\14 July B batch\\Module'\n",
    "\n",
    "ipynb_list=[]\n",
    "png_list=[]\n",
    "py_list=[]\n",
    "\n",
    "for i in os.listdir(path):\n",
    "    if i.endswith('.ipynb'):\n",
    "        ipynb_list.append(i)\n",
    "    elif i.endswith('.png'):\n",
    "        png_list.append(i)\n",
    "    elif i.endswith('.py'):\n",
    "        py_list.append(i)"
   ]
  },
  {
   "cell_type": "code",
   "execution_count": 63,
   "id": "ffc78251",
   "metadata": {},
   "outputs": [
    {
     "data": {
      "text/plain": [
       "['2.10.1 Os operations & file handeling.ipynb',\n",
       " '2.11.1 Os module functions.ipynb',\n",
       " '2.9.1 Modules.ipynb',\n",
       " '2.9.2 Packages & Libraries.ipynb',\n",
       " 'Mathematics.ipynb']"
      ]
     },
     "execution_count": 63,
     "metadata": {},
     "output_type": "execute_result"
    }
   ],
   "source": [
    "ipynb_list"
   ]
  },
  {
   "cell_type": "code",
   "execution_count": 64,
   "id": "b28dbac2",
   "metadata": {},
   "outputs": [
    {
     "data": {
      "text/plain": [
       "['Maths.py']"
      ]
     },
     "execution_count": 64,
     "metadata": {},
     "output_type": "execute_result"
    }
   ],
   "source": [
    "py_list"
   ]
  },
  {
   "cell_type": "code",
   "execution_count": 65,
   "id": "a6a680a9",
   "metadata": {},
   "outputs": [
    {
     "data": {
      "text/plain": [
       "['diff_modes.png']"
      ]
     },
     "execution_count": 65,
     "metadata": {},
     "output_type": "execute_result"
    }
   ],
   "source": [
    "png_list"
   ]
  },
  {
   "cell_type": "markdown",
   "id": "b3e2d1dc",
   "metadata": {},
   "source": [
    "# glob"
   ]
  },
  {
   "cell_type": "raw",
   "id": "75dfa255",
   "metadata": {},
   "source": [
    "used for selecting files with specific extension"
   ]
  },
  {
   "cell_type": "code",
   "execution_count": 66,
   "id": "4d041b7e",
   "metadata": {},
   "outputs": [],
   "source": [
    "import glob"
   ]
  },
  {
   "cell_type": "code",
   "execution_count": 68,
   "id": "a7c56828",
   "metadata": {},
   "outputs": [
    {
     "data": {
      "text/plain": [
       "['C:\\\\Users\\\\Pratik\\\\14 July B batch\\\\Module\\\\2.10.1 Os operations & file handeling.ipynb',\n",
       " 'C:\\\\Users\\\\Pratik\\\\14 July B batch\\\\Module\\\\2.11.1 Os module functions.ipynb',\n",
       " 'C:\\\\Users\\\\Pratik\\\\14 July B batch\\\\Module\\\\2.9.1 Modules.ipynb',\n",
       " 'C:\\\\Users\\\\Pratik\\\\14 July B batch\\\\Module\\\\2.9.2 Packages & Libraries.ipynb',\n",
       " 'C:\\\\Users\\\\Pratik\\\\14 July B batch\\\\Module\\\\Mathematics.ipynb']"
      ]
     },
     "execution_count": 68,
     "metadata": {},
     "output_type": "execute_result"
    }
   ],
   "source": [
    "path = r'C:\\Users\\Pratik\\14 July B batch\\Module'\n",
    "\n",
    "ipynb_files = glob.glob(path+'\\*.ipynb')\n",
    "ipynb_files"
   ]
  },
  {
   "cell_type": "code",
   "execution_count": 69,
   "id": "96e2a23c",
   "metadata": {},
   "outputs": [
    {
     "data": {
      "text/plain": [
       "['C:\\\\Users\\\\Pratik\\\\14 July B batch\\\\Module\\\\Maths.py']"
      ]
     },
     "execution_count": 69,
     "metadata": {},
     "output_type": "execute_result"
    }
   ],
   "source": [
    "py_files = glob.glob(path+'\\*.py')\n",
    "py_files"
   ]
  },
  {
   "cell_type": "code",
   "execution_count": null,
   "id": "4ce9d056",
   "metadata": {},
   "outputs": [],
   "source": []
  }
 ],
 "metadata": {
  "kernelspec": {
   "display_name": "Python 3 (ipykernel)",
   "language": "python",
   "name": "python3"
  },
  "language_info": {
   "codemirror_mode": {
    "name": "ipython",
    "version": 3
   },
   "file_extension": ".py",
   "mimetype": "text/x-python",
   "name": "python",
   "nbconvert_exporter": "python",
   "pygments_lexer": "ipython3",
   "version": "3.9.12"
  },
  "toc": {
   "base_numbering": 1,
   "nav_menu": {},
   "number_sections": true,
   "sideBar": true,
   "skip_h1_title": false,
   "title_cell": "Table of Contents",
   "title_sidebar": "Contents",
   "toc_cell": false,
   "toc_position": {},
   "toc_section_display": true,
   "toc_window_display": false
  },
  "varInspector": {
   "cols": {
    "lenName": 16,
    "lenType": 16,
    "lenVar": 40
   },
   "kernels_config": {
    "python": {
     "delete_cmd_postfix": "",
     "delete_cmd_prefix": "del ",
     "library": "var_list.py",
     "varRefreshCmd": "print(var_dic_list())"
    },
    "r": {
     "delete_cmd_postfix": ") ",
     "delete_cmd_prefix": "rm(",
     "library": "var_list.r",
     "varRefreshCmd": "cat(var_dic_list()) "
    }
   },
   "types_to_exclude": [
    "module",
    "function",
    "builtin_function_or_method",
    "instance",
    "_Feature"
   ],
   "window_display": false
  }
 },
 "nbformat": 4,
 "nbformat_minor": 5
}

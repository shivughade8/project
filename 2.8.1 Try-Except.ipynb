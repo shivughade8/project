{
 "cells": [
  {
   "cell_type": "raw",
   "id": "0401dfde",
   "metadata": {},
   "source": [
    "to let errors not stop the code\n",
    "when we are not sure, if the code will give the desired result or not"
   ]
  },
  {
   "cell_type": "code",
   "execution_count": 2,
   "id": "ef499f0c",
   "metadata": {},
   "outputs": [
    {
     "ename": "AttributeError",
     "evalue": "'tuple' object has no attribute 'append'",
     "output_type": "error",
     "traceback": [
      "\u001b[1;31m---------------------------------------------------------------------------\u001b[0m",
      "\u001b[1;31mAttributeError\u001b[0m                            Traceback (most recent call last)",
      "\u001b[1;32m<ipython-input-2-b0a84f7576f7>\u001b[0m in \u001b[0;36m<module>\u001b[1;34m\u001b[0m\n\u001b[0;32m      1\u001b[0m \u001b[0ma\u001b[0m \u001b[1;33m=\u001b[0m \u001b[1;36m2\u001b[0m\u001b[1;33m,\u001b[0m\u001b[1;33m\u001b[0m\u001b[1;33m\u001b[0m\u001b[0m\n\u001b[1;32m----> 2\u001b[1;33m \u001b[0ma\u001b[0m\u001b[1;33m.\u001b[0m\u001b[0mappend\u001b[0m\u001b[1;33m(\u001b[0m\u001b[1;36m5\u001b[0m\u001b[1;33m)\u001b[0m\u001b[1;33m\u001b[0m\u001b[1;33m\u001b[0m\u001b[0m\n\u001b[0m",
      "\u001b[1;31mAttributeError\u001b[0m: 'tuple' object has no attribute 'append'"
     ]
    }
   ],
   "source": [
    "a = 2,\n",
    "a.append(5)"
   ]
  },
  {
   "cell_type": "code",
   "execution_count": 3,
   "id": "f886d018",
   "metadata": {},
   "outputs": [
    {
     "ename": "TypeError",
     "evalue": "can't multiply sequence by non-int of type 'str'",
     "output_type": "error",
     "traceback": [
      "\u001b[1;31m---------------------------------------------------------------------------\u001b[0m",
      "\u001b[1;31mTypeError\u001b[0m                                 Traceback (most recent call last)",
      "\u001b[1;32m<ipython-input-3-dcf7f785a98f>\u001b[0m in \u001b[0;36m<module>\u001b[1;34m\u001b[0m\n\u001b[1;32m----> 1\u001b[1;33m \u001b[1;34m'hi'\u001b[0m\u001b[1;33m*\u001b[0m\u001b[1;34m'HI'\u001b[0m\u001b[1;33m\u001b[0m\u001b[1;33m\u001b[0m\u001b[0m\n\u001b[0m",
      "\u001b[1;31mTypeError\u001b[0m: can't multiply sequence by non-int of type 'str'"
     ]
    }
   ],
   "source": [
    "'hi'*'HI'"
   ]
  },
  {
   "cell_type": "code",
   "execution_count": 4,
   "id": "bc262c3e",
   "metadata": {},
   "outputs": [
    {
     "ename": "ZeroDivisionError",
     "evalue": "division by zero",
     "output_type": "error",
     "traceback": [
      "\u001b[1;31m---------------------------------------------------------------------------\u001b[0m",
      "\u001b[1;31mZeroDivisionError\u001b[0m                         Traceback (most recent call last)",
      "\u001b[1;32m<ipython-input-4-0106664d39e8>\u001b[0m in \u001b[0;36m<module>\u001b[1;34m\u001b[0m\n\u001b[1;32m----> 1\u001b[1;33m \u001b[1;36m5\u001b[0m\u001b[1;33m/\u001b[0m\u001b[1;36m0\u001b[0m\u001b[1;33m\u001b[0m\u001b[1;33m\u001b[0m\u001b[0m\n\u001b[0m",
      "\u001b[1;31mZeroDivisionError\u001b[0m: division by zero"
     ]
    }
   ],
   "source": [
    "5/0"
   ]
  },
  {
   "cell_type": "code",
   "execution_count": null,
   "id": "c92af624",
   "metadata": {},
   "outputs": [],
   "source": [
    "SyntaxError:when a semicolumn or paranthesis is missing\n",
    "IndentationError: when there is irregular spaces\n",
    "FileNotFoundError:When you call for a file which is not present in that directory\n",
    "KeyError: trying to access the key of dict that does not exist\n",
    "NameError: name 'x' is not defined\n",
    "valueError: unexecutable mathematical operation\n",
    "ZeroDivisionError:trying to divide by zero\n",
    "TypeError: can't multiply sequence by non-int of type 'str'\n",
    "IndexError: list index out of range\n",
    "FileExistError: [Error 17] File Exixts:'IPL.txt'\n",
    "EOFError: missing brackets"
   ]
  },
  {
   "cell_type": "markdown",
   "id": "5d9d40fe",
   "metadata": {},
   "source": [
    "# Try-Except:"
   ]
  },
  {
   "cell_type": "raw",
   "id": "15f23e7a",
   "metadata": {},
   "source": [
    "try - it test the block of code & check if it works\n",
    "except - if try didnt work then except will handle the error occuring in try block\n",
    "\n",
    "\n",
    "try:\n",
    "    here we test the code\n",
    "    (if codede runs successfully then except block will not be executed)\n",
    "    \n",
    "except:\n",
    "    here we handle errors\n",
    "    (we can also print the errors to know what kind of error it is)\n",
    "    \n",
    "    "
   ]
  },
  {
   "cell_type": "code",
   "execution_count": 6,
   "id": "0b6bf91c",
   "metadata": {},
   "outputs": [
    {
     "name": "stdout",
     "output_type": "stream",
     "text": [
      "Hello\n"
     ]
    }
   ],
   "source": [
    "try:\n",
    "    print('Hello')\n",
    "    \n",
    "except:\n",
    "    print('Hi')"
   ]
  },
  {
   "cell_type": "code",
   "execution_count": 9,
   "id": "391cdad0",
   "metadata": {},
   "outputs": [
    {
     "name": "stdout",
     "output_type": "stream",
     "text": [
      "Hi\n"
     ]
    }
   ],
   "source": [
    "try:\n",
    "    8/0\n",
    "    \n",
    "except:\n",
    "    print('Hi')"
   ]
  },
  {
   "cell_type": "code",
   "execution_count": 10,
   "id": "ee83b77a",
   "metadata": {},
   "outputs": [
    {
     "name": "stdout",
     "output_type": "stream",
     "text": [
      "Hi\n"
     ]
    }
   ],
   "source": [
    "try:\n",
    "    y\n",
    "    \n",
    "except:\n",
    "    print('Hi')"
   ]
  },
  {
   "cell_type": "code",
   "execution_count": 12,
   "id": "0a1a33ac",
   "metadata": {},
   "outputs": [
    {
     "data": {
      "text/plain": [
       "[2, 3, 5]"
      ]
     },
     "execution_count": 12,
     "metadata": {},
     "output_type": "execute_result"
    }
   ],
   "source": [
    "try:\n",
    "    a=(2,3)\n",
    "    a.append(5)\n",
    "    \n",
    "except:\n",
    "    a=[2,3]\n",
    "    a.append(5)\n",
    "    \n",
    "a"
   ]
  },
  {
   "cell_type": "markdown",
   "id": "6c5ba156",
   "metadata": {},
   "source": [
    "# traceback()"
   ]
  },
  {
   "cell_type": "code",
   "execution_count": 13,
   "id": "df022a37",
   "metadata": {},
   "outputs": [],
   "source": [
    "import traceback"
   ]
  },
  {
   "cell_type": "code",
   "execution_count": 14,
   "id": "91289a35",
   "metadata": {},
   "outputs": [
    {
     "name": "stdout",
     "output_type": "stream",
     "text": [
      "None\n"
     ]
    },
    {
     "name": "stderr",
     "output_type": "stream",
     "text": [
      "Traceback (most recent call last):\n",
      "  File \"<ipython-input-14-d68ddf3dd829>\", line 3, in <module>\n",
      "    a.append(5)\n",
      "AttributeError: 'tuple' object has no attribute 'append'\n"
     ]
    },
    {
     "data": {
      "text/plain": [
       "[2, 3, 5]"
      ]
     },
     "execution_count": 14,
     "metadata": {},
     "output_type": "execute_result"
    }
   ],
   "source": [
    "try:\n",
    "    a=(2,3)\n",
    "    a.append(5)\n",
    "    \n",
    "except:\n",
    "    print(traceback.print_exc())\n",
    "    a=[2,3]\n",
    "    a.append(5)\n",
    "    \n",
    "a"
   ]
  },
  {
   "cell_type": "markdown",
   "id": "635b6344",
   "metadata": {},
   "source": [
    "# sys()"
   ]
  },
  {
   "cell_type": "code",
   "execution_count": 15,
   "id": "b0f459df",
   "metadata": {},
   "outputs": [],
   "source": [
    "import sys"
   ]
  },
  {
   "cell_type": "code",
   "execution_count": 16,
   "id": "07a6f168",
   "metadata": {},
   "outputs": [
    {
     "name": "stdout",
     "output_type": "stream",
     "text": [
      "(<class 'AttributeError'>, AttributeError(\"'tuple' object has no attribute 'append'\"), <traceback object at 0x00000164FAF02F00>)\n"
     ]
    },
    {
     "data": {
      "text/plain": [
       "[2, 3, 5]"
      ]
     },
     "execution_count": 16,
     "metadata": {},
     "output_type": "execute_result"
    }
   ],
   "source": [
    "try:\n",
    "    a=(2,3)\n",
    "    a.append(5)\n",
    "    \n",
    "except:\n",
    "    print(sys.exc_info())\n",
    "    a=[2,3]\n",
    "    a.append(5)\n",
    "    \n",
    "a"
   ]
  },
  {
   "cell_type": "markdown",
   "id": "611b2f98",
   "metadata": {},
   "source": [
    "# multiple excepts"
   ]
  },
  {
   "cell_type": "code",
   "execution_count": 19,
   "id": "121c2ed4",
   "metadata": {},
   "outputs": [
    {
     "name": "stdout",
     "output_type": "stream",
     "text": [
      "[Errno 17] File exists: 'ipl.txt'\n",
      "error found in try block\n"
     ]
    }
   ],
   "source": [
    "try:\n",
    "    f = open('ipl.txt','x')\n",
    "    f.write('there you go..')\n",
    "    f.close()\n",
    "    \n",
    "except FileExistsError as fx:\n",
    "    print(fx)\n",
    "    print('error found in try block')\n",
    "    \n",
    "except FileNotFoundError:\n",
    "    print(FileNotFoundError)\n",
    "    print('2nd except ran successfully')\n",
    "    \n",
    "except:\n",
    "    print(sys.exc_info())\n",
    "    f = open('ipl.txt','w')\n",
    "    f.write('there you go..')\n",
    "    f.close()\n",
    "    "
   ]
  },
  {
   "cell_type": "code",
   "execution_count": 20,
   "id": "54981816",
   "metadata": {},
   "outputs": [
    {
     "name": "stdout",
     "output_type": "stream",
     "text": [
      "[Errno 17] File exists: 'ipl.txt'\n",
      "error found in try block\n"
     ]
    }
   ],
   "source": [
    "try:\n",
    "    f = open('ipl.txt','x')\n",
    "    f.write('there you go..')\n",
    "    f.close()\n",
    "    \n",
    "except (FileExistsError,FileNotFoundError) as fx:\n",
    "    print(fx)\n",
    "    print('error found in try block')\n",
    "    \n",
    "except:\n",
    "    print(sys.exc_info())\n",
    "    f = open('ipl.txt','w')\n",
    "    f.write('there you go..')\n",
    "    f.close()"
   ]
  },
  {
   "cell_type": "markdown",
   "id": "1d60a775",
   "metadata": {},
   "source": [
    "# nested try except"
   ]
  },
  {
   "cell_type": "code",
   "execution_count": 22,
   "id": "488fe42d",
   "metadata": {},
   "outputs": [
    {
     "name": "stdout",
     "output_type": "stream",
     "text": [
      "(<class 'FileExistsError'>, FileExistsError(17, 'File exists'), <traceback object at 0x00000164FAE31880>)\n"
     ]
    }
   ],
   "source": [
    "try:\n",
    "    f = open('ipl.txt','x')\n",
    "    f.write('there you go..')\n",
    "    f.close()\n",
    "    \n",
    "except:\n",
    "    print(sys.exc_info())\n",
    "    try:\n",
    "        f = open('ipl.txt','w')\n",
    "        f.write('there you go..')\n",
    "        f.close()   \n",
    "    except:\n",
    "        print(traceback.print_exc())\n",
    "        print('code could never run')"
   ]
  },
  {
   "cell_type": "code",
   "execution_count": 23,
   "id": "de41b429",
   "metadata": {},
   "outputs": [
    {
     "name": "stdout",
     "output_type": "stream",
     "text": [
      "(<class 'ZeroDivisionError'>, ZeroDivisionError('division by zero'), <traceback object at 0x00000164FAF29580>)\n",
      "None\n"
     ]
    },
    {
     "name": "stderr",
     "output_type": "stream",
     "text": [
      "Traceback (most recent call last):\n",
      "  File \"<ipython-input-23-4cc2afaaec0c>\", line 3, in <module>\n",
      "    a/0\n",
      "ZeroDivisionError: division by zero\n",
      "\n",
      "During handling of the above exception, another exception occurred:\n",
      "\n",
      "Traceback (most recent call last):\n",
      "  File \"<ipython-input-23-4cc2afaaec0c>\", line 9, in <module>\n",
      "    a.append(5)\n",
      "AttributeError: 'int' object has no attribute 'append'\n"
     ]
    }
   ],
   "source": [
    "try:\n",
    "    a=5\n",
    "    a/0\n",
    "    \n",
    "except:\n",
    "    print(sys.exc_info())\n",
    "    try:\n",
    "        a=0\n",
    "        a.append(5)\n",
    "    except:\n",
    "        print(traceback.print_exc())\n",
    "        pass"
   ]
  },
  {
   "cell_type": "markdown",
   "id": "b7629b4a",
   "metadata": {},
   "source": [
    "# try except else:"
   ]
  },
  {
   "cell_type": "raw",
   "id": "f8b3d124",
   "metadata": {},
   "source": [
    "else will be executed only after try gets executed\n",
    "else will not be executed if except is executed\n",
    "\n",
    "when do we use else:\n",
    "    when we have code dependencies such that else should be executed only when try is executed successfully\n",
    "    just to ensure try ran successfully"
   ]
  },
  {
   "cell_type": "code",
   "execution_count": 24,
   "id": "6f49f28c",
   "metadata": {},
   "outputs": [
    {
     "name": "stdout",
     "output_type": "stream",
     "text": [
      "try block\n",
      "try ran successfully\n"
     ]
    }
   ],
   "source": [
    "try:\n",
    "    print('try block')\n",
    "except:\n",
    "    print('except block')\n",
    "    \n",
    "else:\n",
    "    print('try ran successfully')"
   ]
  },
  {
   "cell_type": "code",
   "execution_count": 25,
   "id": "2a9fb7fc",
   "metadata": {},
   "outputs": [
    {
     "name": "stdout",
     "output_type": "stream",
     "text": [
      "try block\n",
      "try ran successfully\n"
     ]
    }
   ],
   "source": [
    "try:\n",
    "    print('try block')\n",
    "except:\n",
    "    print('except block')\n",
    "    \n",
    "else:\n",
    "    try:\n",
    "        print('try ran successfully')\n",
    "    except:\n",
    "        pass"
   ]
  },
  {
   "cell_type": "code",
   "execution_count": 26,
   "id": "11db2dce",
   "metadata": {},
   "outputs": [
    {
     "name": "stdout",
     "output_type": "stream",
     "text": [
      "except block\n"
     ]
    }
   ],
   "source": [
    "try:\n",
    "    print(z)\n",
    "except:\n",
    "    print('except block')\n",
    "    \n",
    "else:\n",
    "    try:\n",
    "        print('try ran successfully')\n",
    "    except:\n",
    "        pass"
   ]
  },
  {
   "cell_type": "markdown",
   "id": "1b326c0b",
   "metadata": {},
   "source": [
    "# try except finally"
   ]
  },
  {
   "cell_type": "raw",
   "id": "4eb7c5e4",
   "metadata": {},
   "source": [
    "finally will be executed irrespective of whether try block is executedd or except block is executed\n",
    "finally would be executed after the completion of either try or except block"
   ]
  },
  {
   "cell_type": "code",
   "execution_count": 27,
   "id": "09887175",
   "metadata": {},
   "outputs": [
    {
     "name": "stdout",
     "output_type": "stream",
     "text": [
      "100\n"
     ]
    }
   ],
   "source": [
    "try:\n",
    "    a = 100\n",
    "except:\n",
    "    a = 500\n",
    "finally:\n",
    "    print(a)"
   ]
  },
  {
   "cell_type": "code",
   "execution_count": 37,
   "id": "8e8b4f61",
   "metadata": {},
   "outputs": [
    {
     "name": "stdout",
     "output_type": "stream",
     "text": [
      "500\n"
     ]
    }
   ],
   "source": [
    "try:\n",
    "    a/100\n",
    "finally:\n",
    "    print(a)"
   ]
  },
  {
   "cell_type": "code",
   "execution_count": 43,
   "id": "c82fcca2",
   "metadata": {},
   "outputs": [
    {
     "name": "stdout",
     "output_type": "stream",
     "text": [
      "None\n"
     ]
    },
    {
     "name": "stderr",
     "output_type": "stream",
     "text": [
      "Traceback (most recent call last):\n",
      "  File \"<ipython-input-43-d49361220aba>\", line 2, in <module>\n",
      "    a/0\n",
      "ZeroDivisionError: division by zero\n"
     ]
    },
    {
     "ename": "ZeroDivisionError",
     "evalue": "division by zero",
     "output_type": "error",
     "traceback": [
      "\u001b[1;31m---------------------------------------------------------------------------\u001b[0m",
      "\u001b[1;31mZeroDivisionError\u001b[0m                         Traceback (most recent call last)",
      "\u001b[1;32m<ipython-input-43-d49361220aba>\u001b[0m in \u001b[0;36m<module>\u001b[1;34m\u001b[0m\n\u001b[0;32m      1\u001b[0m \u001b[1;32mtry\u001b[0m\u001b[1;33m:\u001b[0m\u001b[1;33m\u001b[0m\u001b[1;33m\u001b[0m\u001b[0m\n\u001b[1;32m----> 2\u001b[1;33m     \u001b[0ma\u001b[0m\u001b[1;33m/\u001b[0m\u001b[1;36m0\u001b[0m\u001b[1;33m\u001b[0m\u001b[1;33m\u001b[0m\u001b[0m\n\u001b[0m\u001b[0;32m      3\u001b[0m \u001b[1;32mfinally\u001b[0m\u001b[1;33m:\u001b[0m\u001b[1;33m\u001b[0m\u001b[1;33m\u001b[0m\u001b[0m\n\u001b[0;32m      4\u001b[0m     \u001b[0mprint\u001b[0m\u001b[1;33m(\u001b[0m\u001b[0mtraceback\u001b[0m\u001b[1;33m.\u001b[0m\u001b[0mprint_exc\u001b[0m\u001b[1;33m(\u001b[0m\u001b[1;33m)\u001b[0m\u001b[1;33m)\u001b[0m\u001b[1;33m\u001b[0m\u001b[1;33m\u001b[0m\u001b[0m\n\u001b[0;32m      5\u001b[0m     \u001b[1;32mpass\u001b[0m\u001b[1;33m\u001b[0m\u001b[1;33m\u001b[0m\u001b[0m\n",
      "\u001b[1;31mZeroDivisionError\u001b[0m: division by zero"
     ]
    }
   ],
   "source": [
    "try:\n",
    "    a/0\n",
    "finally:\n",
    "    print(traceback.print_exc())\n",
    "    pass"
   ]
  },
  {
   "cell_type": "code",
   "execution_count": 40,
   "id": "caaa0698",
   "metadata": {},
   "outputs": [
    {
     "ename": "SyntaxError",
     "evalue": "invalid syntax (<ipython-input-40-e58255a2a560>, line 3)",
     "output_type": "error",
     "traceback": [
      "\u001b[1;36m  File \u001b[1;32m\"<ipython-input-40-e58255a2a560>\"\u001b[1;36m, line \u001b[1;32m3\u001b[0m\n\u001b[1;33m    else:\u001b[0m\n\u001b[1;37m    ^\u001b[0m\n\u001b[1;31mSyntaxError\u001b[0m\u001b[1;31m:\u001b[0m invalid syntax\n"
     ]
    }
   ],
   "source": [
    "try:\n",
    "    print('hi')\n",
    "else:\n",
    "    print('hello')\n"
   ]
  },
  {
   "cell_type": "raw",
   "id": "a11f0614",
   "metadata": {},
   "source": [
    "NOTE: finally can be used as a replacement to except. we can run a code wimply using try & finally without using except\n",
    "however else needs to have except block along with try block"
   ]
  },
  {
   "cell_type": "markdown",
   "id": "c01ef2ab",
   "metadata": {},
   "source": [
    "# raise"
   ]
  },
  {
   "cell_type": "code",
   "execution_count": 49,
   "id": "ad63b404",
   "metadata": {},
   "outputs": [
    {
     "ename": "TypeError",
     "evalue": "values of both a & b are incorrect",
     "output_type": "error",
     "traceback": [
      "\u001b[1;31m---------------------------------------------------------------------------\u001b[0m",
      "\u001b[1;31mTypeError\u001b[0m                                 Traceback (most recent call last)",
      "\u001b[1;32m<ipython-input-49-84a7c881dfe3>\u001b[0m in \u001b[0;36m<module>\u001b[1;34m\u001b[0m\n\u001b[0;32m      5\u001b[0m     \u001b[0madd\u001b[0m\u001b[1;33m=\u001b[0m\u001b[0ma\u001b[0m\u001b[1;33m+\u001b[0m\u001b[0mb\u001b[0m\u001b[1;33m\u001b[0m\u001b[1;33m\u001b[0m\u001b[0m\n\u001b[0;32m      6\u001b[0m \u001b[1;32melse\u001b[0m\u001b[1;33m:\u001b[0m\u001b[1;33m\u001b[0m\u001b[1;33m\u001b[0m\u001b[0m\n\u001b[1;32m----> 7\u001b[1;33m     \u001b[1;32mraise\u001b[0m \u001b[0mTypeError\u001b[0m\u001b[1;33m(\u001b[0m\u001b[1;34m'values of both a & b are incorrect'\u001b[0m\u001b[1;33m)\u001b[0m\u001b[1;33m\u001b[0m\u001b[1;33m\u001b[0m\u001b[0m\n\u001b[0m",
      "\u001b[1;31mTypeError\u001b[0m: values of both a & b are incorrect"
     ]
    }
   ],
   "source": [
    "a = 10\n",
    "b = 20\n",
    "\n",
    "if a ==20 or b ==10:\n",
    "    add=a+b\n",
    "else:\n",
    "    raise TypeError('values of both a & b are incorrect')"
   ]
  },
  {
   "cell_type": "code",
   "execution_count": 54,
   "id": "5a36f51b",
   "metadata": {
    "scrolled": true
   },
   "outputs": [
    {
     "ename": "TypeError",
     "evalue": "you have taken a string literal",
     "output_type": "error",
     "traceback": [
      "\u001b[1;31m---------------------------------------------------------------------------\u001b[0m",
      "\u001b[1;31mTypeError\u001b[0m                                 Traceback (most recent call last)",
      "\u001b[1;32m<ipython-input-54-61f1c7ca9444>\u001b[0m in \u001b[0;36m<module>\u001b[1;34m\u001b[0m\n\u001b[0;32m      1\u001b[0m \u001b[1;32mtry\u001b[0m\u001b[1;33m:\u001b[0m\u001b[1;33m\u001b[0m\u001b[1;33m\u001b[0m\u001b[0m\n\u001b[1;32m----> 2\u001b[1;33m     \u001b[1;34m'hi'\u001b[0m\u001b[1;33m/\u001b[0m\u001b[1;36m6\u001b[0m\u001b[1;33m\u001b[0m\u001b[1;33m\u001b[0m\u001b[0m\n\u001b[0m\u001b[0;32m      3\u001b[0m \u001b[1;32mexcept\u001b[0m\u001b[1;33m:\u001b[0m\u001b[1;33m\u001b[0m\u001b[1;33m\u001b[0m\u001b[0m\n",
      "\u001b[1;31mTypeError\u001b[0m: unsupported operand type(s) for /: 'str' and 'int'",
      "\nDuring handling of the above exception, another exception occurred:\n",
      "\u001b[1;31mTypeError\u001b[0m                                 Traceback (most recent call last)",
      "\u001b[1;32m<ipython-input-54-61f1c7ca9444>\u001b[0m in \u001b[0;36m<module>\u001b[1;34m\u001b[0m\n\u001b[0;32m      2\u001b[0m     \u001b[1;34m'hi'\u001b[0m\u001b[1;33m/\u001b[0m\u001b[1;36m6\u001b[0m\u001b[1;33m\u001b[0m\u001b[1;33m\u001b[0m\u001b[0m\n\u001b[0;32m      3\u001b[0m \u001b[1;32mexcept\u001b[0m\u001b[1;33m:\u001b[0m\u001b[1;33m\u001b[0m\u001b[1;33m\u001b[0m\u001b[0m\n\u001b[1;32m----> 4\u001b[1;33m     \u001b[1;32mraise\u001b[0m \u001b[0mTypeError\u001b[0m\u001b[1;33m(\u001b[0m\u001b[1;34m'you have taken a string literal'\u001b[0m\u001b[1;33m)\u001b[0m\u001b[1;33m\u001b[0m\u001b[1;33m\u001b[0m\u001b[0m\n\u001b[0m",
      "\u001b[1;31mTypeError\u001b[0m: you have taken a string literal"
     ]
    }
   ],
   "source": [
    "try:\n",
    "    'hi'/6\n",
    "except:\n",
    "    raise TypeError('you have taken a string literal')"
   ]
  },
  {
   "cell_type": "code",
   "execution_count": 56,
   "id": "ad34083d",
   "metadata": {},
   "outputs": [
    {
     "ename": "SyntaxError",
     "evalue": "you have taken a string literal (<string>)",
     "output_type": "error",
     "traceback": [
      "Traceback \u001b[1;36m(most recent call last)\u001b[0m:\n",
      "\u001b[1;36m  File \u001b[1;32m\"<ipython-input-56-3dbf4b41c616>\"\u001b[1;36m, line \u001b[1;32m2\u001b[1;36m, in \u001b[1;35m<module>\u001b[1;36m\u001b[0m\n\u001b[1;33m    'hi'/6\u001b[0m\n",
      "\u001b[1;31mTypeError\u001b[0m\u001b[1;31m:\u001b[0m unsupported operand type(s) for /: 'str' and 'int'\n",
      "\nDuring handling of the above exception, another exception occurred:\n",
      "Traceback \u001b[1;36m(most recent call last)\u001b[0m:\n",
      "  File \u001b[0;32m\"C:\\Users\\Pratik\\anaconda3\\lib\\site-packages\\IPython\\core\\interactiveshell.py\"\u001b[0m, line \u001b[0;32m3437\u001b[0m, in \u001b[0;35mrun_code\u001b[0m\n    exec(code_obj, self.user_global_ns, self.user_ns)\n",
      "\u001b[1;36m  File \u001b[1;32m\"<ipython-input-56-3dbf4b41c616>\"\u001b[1;36m, line \u001b[1;32m5\u001b[1;36m, in \u001b[1;35m<module>\u001b[1;36m\u001b[0m\n\u001b[1;33m    raise SyntaxError('you have taken a string literal')\u001b[0m\n",
      "\u001b[1;36m  File \u001b[1;32m\"<string>\"\u001b[1;36m, line \u001b[1;32munknown\u001b[0m\n\u001b[1;31mSyntaxError\u001b[0m\u001b[1;31m:\u001b[0m you have taken a string literal\n"
     ]
    }
   ],
   "source": [
    "try:\n",
    "    'hi'/6\n",
    "    \n",
    "except:\n",
    "    raise SyntaxError('you have taken a string literal')\n",
    "    pass"
   ]
  },
  {
   "cell_type": "code",
   "execution_count": 63,
   "id": "179a3c54",
   "metadata": {},
   "outputs": [],
   "source": [
    "try:\n",
    "    'hi'/6\n",
    "    raise SyntaxError('you have taken a string literal')\n",
    "except:\n",
    "    pass"
   ]
  },
  {
   "cell_type": "code",
   "execution_count": 61,
   "id": "b2ad4f46",
   "metadata": {},
   "outputs": [
    {
     "name": "stdout",
     "output_type": "stream",
     "text": [
      "Failed to cast\n",
      "Re-raise the exception\n"
     ]
    },
    {
     "ename": "TypeError",
     "evalue": "cast number function did not work. Rectify the same",
     "output_type": "error",
     "traceback": [
      "\u001b[1;31m---------------------------------------------------------------------------\u001b[0m",
      "\u001b[1;31mValueError\u001b[0m                                Traceback (most recent call last)",
      "\u001b[1;32m<ipython-input-61-bf046bd0dd0f>\u001b[0m in \u001b[0;36mcast_number\u001b[1;34m(number_text, to_raise)\u001b[0m\n\u001b[0;32m      3\u001b[0m     \u001b[1;32mtry\u001b[0m\u001b[1;33m:\u001b[0m\u001b[1;33m\u001b[0m\u001b[1;33m\u001b[0m\u001b[0m\n\u001b[1;32m----> 4\u001b[1;33m         \u001b[0mint\u001b[0m\u001b[1;33m(\u001b[0m\u001b[0mnumber_text\u001b[0m\u001b[1;33m)\u001b[0m\u001b[1;33m\u001b[0m\u001b[1;33m\u001b[0m\u001b[0m\n\u001b[0m\u001b[0;32m      5\u001b[0m     \u001b[1;32mexcept\u001b[0m\u001b[1;33m:\u001b[0m\u001b[1;33m\u001b[0m\u001b[1;33m\u001b[0m\u001b[0m\n",
      "\u001b[1;31mValueError\u001b[0m: invalid literal for int() with base 10: 'six'",
      "\nDuring handling of the above exception, another exception occurred:\n",
      "\u001b[1;31mNameError\u001b[0m                                 Traceback (most recent call last)",
      "\u001b[1;32m<ipython-input-61-bf046bd0dd0f>\u001b[0m in \u001b[0;36mrun_cast_number\u001b[1;34m(number_text, to_raise)\u001b[0m\n\u001b[0;32m     12\u001b[0m     \u001b[1;32mtry\u001b[0m\u001b[1;33m:\u001b[0m\u001b[1;33m\u001b[0m\u001b[1;33m\u001b[0m\u001b[0m\n\u001b[1;32m---> 13\u001b[1;33m         \u001b[0mcast_number\u001b[0m\u001b[1;33m(\u001b[0m\u001b[0mnumber_text\u001b[0m\u001b[1;33m,\u001b[0m \u001b[0mto_raise\u001b[0m\u001b[1;33m)\u001b[0m\u001b[1;33m\u001b[0m\u001b[1;33m\u001b[0m\u001b[0m\n\u001b[0m\u001b[0;32m     14\u001b[0m     \u001b[1;32mexcept\u001b[0m\u001b[1;33m:\u001b[0m\u001b[1;33m\u001b[0m\u001b[1;33m\u001b[0m\u001b[0m\n",
      "\u001b[1;32m<ipython-input-61-bf046bd0dd0f>\u001b[0m in \u001b[0;36mcast_number\u001b[1;34m(number_text, to_raise)\u001b[0m\n\u001b[0;32m      8\u001b[0m             \u001b[0mprint\u001b[0m\u001b[1;33m(\u001b[0m\u001b[1;34m\"Re-raise the exception\"\u001b[0m\u001b[1;33m)\u001b[0m\u001b[1;33m\u001b[0m\u001b[1;33m\u001b[0m\u001b[0m\n\u001b[1;32m----> 9\u001b[1;33m             \u001b[1;32mraise\u001b[0m \u001b[0mNameError\u001b[0m\u001b[1;33m(\u001b[0m\u001b[1;33m)\u001b[0m\u001b[1;33m\u001b[0m\u001b[1;33m\u001b[0m\u001b[0m\n\u001b[0m\u001b[0;32m     10\u001b[0m \u001b[1;33m\u001b[0m\u001b[0m\n",
      "\u001b[1;31mNameError\u001b[0m: ",
      "\nDuring handling of the above exception, another exception occurred:\n",
      "\u001b[1;31mTypeError\u001b[0m                                 Traceback (most recent call last)",
      "\u001b[1;32m<ipython-input-61-bf046bd0dd0f>\u001b[0m in \u001b[0;36m<module>\u001b[1;34m\u001b[0m\n\u001b[0;32m     19\u001b[0m \u001b[1;31m# run_cast_number(\"six\", False)\u001b[0m\u001b[1;33m\u001b[0m\u001b[1;33m\u001b[0m\u001b[1;33m\u001b[0m\u001b[0m\n\u001b[0;32m     20\u001b[0m \u001b[1;31m# Failed to cast\u001b[0m\u001b[1;33m\u001b[0m\u001b[1;33m\u001b[0m\u001b[1;33m\u001b[0m\u001b[0m\n\u001b[1;32m---> 21\u001b[1;33m \u001b[0mrun_cast_number\u001b[0m\u001b[1;33m(\u001b[0m\u001b[1;34m\"six\"\u001b[0m\u001b[1;33m,\u001b[0m \u001b[1;32mTrue\u001b[0m\u001b[1;33m)\u001b[0m\u001b[1;33m\u001b[0m\u001b[1;33m\u001b[0m\u001b[0m\n\u001b[0m",
      "\u001b[1;32m<ipython-input-61-bf046bd0dd0f>\u001b[0m in \u001b[0;36mrun_cast_number\u001b[1;34m(number_text, to_raise)\u001b[0m\n\u001b[0;32m     13\u001b[0m         \u001b[0mcast_number\u001b[0m\u001b[1;33m(\u001b[0m\u001b[0mnumber_text\u001b[0m\u001b[1;33m,\u001b[0m \u001b[0mto_raise\u001b[0m\u001b[1;33m)\u001b[0m\u001b[1;33m\u001b[0m\u001b[1;33m\u001b[0m\u001b[0m\n\u001b[0;32m     14\u001b[0m     \u001b[1;32mexcept\u001b[0m\u001b[1;33m:\u001b[0m\u001b[1;33m\u001b[0m\u001b[1;33m\u001b[0m\u001b[0m\n\u001b[1;32m---> 15\u001b[1;33m         \u001b[1;32mraise\u001b[0m \u001b[0mTypeError\u001b[0m\u001b[1;33m(\u001b[0m\u001b[1;34m'cast number function did not work. Rectify the same'\u001b[0m\u001b[1;33m)\u001b[0m\u001b[1;33m\u001b[0m\u001b[1;33m\u001b[0m\u001b[0m\n\u001b[0m\u001b[0;32m     16\u001b[0m         \u001b[0mprint\u001b[0m\u001b[1;33m(\u001b[0m\u001b[1;34m\"Handled in run_cast_number\"\u001b[0m\u001b[1;33m)\u001b[0m\u001b[1;33m\u001b[0m\u001b[1;33m\u001b[0m\u001b[0m\n\u001b[0;32m     17\u001b[0m \u001b[1;33m\u001b[0m\u001b[0m\n",
      "\u001b[1;31mTypeError\u001b[0m: cast number function did not work. Rectify the same"
     ]
    }
   ],
   "source": [
    "# Define two functions with one calling the other\n",
    "def cast_number(number_text, to_raise):\n",
    "    try:\n",
    "        int(number_text)\n",
    "    except:\n",
    "        print(\"Failed to cast\")\n",
    "        if to_raise:\n",
    "            print(\"Re-raise the exception\")\n",
    "            raise NameError()\n",
    "\n",
    "def run_cast_number(number_text, to_raise):\n",
    "    try:\n",
    "        cast_number(number_text, to_raise)\n",
    "    except:\n",
    "        raise TypeError('cast number function did not work. Rectify the same')\n",
    "        print(\"Handled in run_cast_number\")\n",
    "\n",
    "# Use the functions \n",
    "# run_cast_number(\"six\", False)\n",
    "# Failed to cast\n",
    "run_cast_number(\"six\", True)"
   ]
  },
  {
   "cell_type": "code",
   "execution_count": 67,
   "id": "e44bc87f",
   "metadata": {},
   "outputs": [
    {
     "name": "stdout",
     "output_type": "stream",
     "text": [
      "Thank you\n"
     ]
    },
    {
     "ename": "NameError",
     "evalue": "I dont want this",
     "output_type": "error",
     "traceback": [
      "\u001b[1;31m---------------------------------------------------------------------------\u001b[0m",
      "\u001b[1;31mNameError\u001b[0m                                 Traceback (most recent call last)",
      "\u001b[1;32m<ipython-input-67-aff1fbd83392>\u001b[0m in \u001b[0;36m<module>\u001b[1;34m\u001b[0m\n\u001b[0;32m      5\u001b[0m \u001b[1;33m\u001b[0m\u001b[0m\n\u001b[0;32m      6\u001b[0m     \u001b[1;32mif\u001b[0m \u001b[0ma\u001b[0m\u001b[1;33m/\u001b[0m\u001b[1;36m10\u001b[0m \u001b[1;33m<\u001b[0m \u001b[1;36m1\u001b[0m\u001b[1;33m:\u001b[0m\u001b[1;33m\u001b[0m\u001b[1;33m\u001b[0m\u001b[0m\n\u001b[1;32m----> 7\u001b[1;33m         \u001b[1;32mraise\u001b[0m \u001b[0mNameError\u001b[0m\u001b[1;33m(\u001b[0m\u001b[1;34m'I dont want this'\u001b[0m\u001b[1;33m)\u001b[0m\u001b[1;33m\u001b[0m\u001b[1;33m\u001b[0m\u001b[0m\n\u001b[0m",
      "\u001b[1;31mNameError\u001b[0m: I dont want this"
     ]
    }
   ],
   "source": [
    "a = 6\n",
    "\n",
    "if a == 6:\n",
    "    print('Thank you')\n",
    "    \n",
    "    if a/10 < 1:\n",
    "        raise NameError('I dont want this')"
   ]
  },
  {
   "cell_type": "code",
   "execution_count": 70,
   "id": "bbd1eb78",
   "metadata": {},
   "outputs": [
    {
     "name": "stdout",
     "output_type": "stream",
     "text": [
      "Thank you\n",
      "(<class 'NameError'>, NameError('I dont want this'), <traceback object at 0x00000164FA60D440>)\n"
     ]
    }
   ],
   "source": [
    "try:\n",
    "    if a == 6:\n",
    "        print('Thank you')\n",
    "    \n",
    "    if a/10 < 1:\n",
    "        raise NameError('I dont want this')\n",
    "except:\n",
    "    print(sys.exc_info())\n",
    "    a = 11"
   ]
  },
  {
   "cell_type": "code",
   "execution_count": 71,
   "id": "d7ef6d21",
   "metadata": {},
   "outputs": [
    {
     "ename": "SyntaxError",
     "evalue": "invalid syntax (<ipython-input-71-f86cf409c4b2>, line 2)",
     "output_type": "error",
     "traceback": [
      "\u001b[1;36m  File \u001b[1;32m\"<ipython-input-71-f86cf409c4b2>\"\u001b[1;36m, line \u001b[1;32m2\u001b[0m\n\u001b[1;33m    if a == 6\u001b[0m\n\u001b[1;37m             ^\u001b[0m\n\u001b[1;31mSyntaxError\u001b[0m\u001b[1;31m:\u001b[0m invalid syntax\n"
     ]
    }
   ],
   "source": [
    "try:\n",
    "    if a == 6\n",
    "        print('Thank you')\n",
    "    \n",
    "    if a/10 < 1:\n",
    "        raise NameError('I dont want this')\n",
    "except:\n",
    "    print(sys.exc_info())\n",
    "    a = 11"
   ]
  },
  {
   "cell_type": "code",
   "execution_count": null,
   "id": "b0737d27",
   "metadata": {},
   "outputs": [],
   "source": []
  }
 ],
 "metadata": {
  "kernelspec": {
   "display_name": "Python 3 (ipykernel)",
   "language": "python",
   "name": "python3"
  },
  "language_info": {
   "codemirror_mode": {
    "name": "ipython",
    "version": 3
   },
   "file_extension": ".py",
   "mimetype": "text/x-python",
   "name": "python",
   "nbconvert_exporter": "python",
   "pygments_lexer": "ipython3",
   "version": "3.9.12"
  },
  "toc": {
   "base_numbering": 1,
   "nav_menu": {},
   "number_sections": true,
   "sideBar": true,
   "skip_h1_title": false,
   "title_cell": "Table of Contents",
   "title_sidebar": "Contents",
   "toc_cell": false,
   "toc_position": {},
   "toc_section_display": true,
   "toc_window_display": false
  },
  "varInspector": {
   "cols": {
    "lenName": 16,
    "lenType": 16,
    "lenVar": 40
   },
   "kernels_config": {
    "python": {
     "delete_cmd_postfix": "",
     "delete_cmd_prefix": "del ",
     "library": "var_list.py",
     "varRefreshCmd": "print(var_dic_list())"
    },
    "r": {
     "delete_cmd_postfix": ") ",
     "delete_cmd_prefix": "rm(",
     "library": "var_list.r",
     "varRefreshCmd": "cat(var_dic_list()) "
    }
   },
   "types_to_exclude": [
    "module",
    "function",
    "builtin_function_or_method",
    "instance",
    "_Feature"
   ],
   "window_display": false
  }
 },
 "nbformat": 4,
 "nbformat_minor": 5
}

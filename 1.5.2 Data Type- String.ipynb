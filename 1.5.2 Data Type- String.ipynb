{
 "cells": [
  {
   "cell_type": "raw",
   "id": "dcf723d0",
   "metadata": {},
   "source": [
    "String - Text data type\n",
    "string is collection of characters"
   ]
  },
  {
   "cell_type": "markdown",
   "id": "b311e386",
   "metadata": {},
   "source": [
    "# Indexing"
   ]
  },
  {
   "cell_type": "raw",
   "id": "1494b8c7",
   "metadata": {},
   "source": [
    "## Indexing\n",
    "positive indexing\n",
    "negative indexing"
   ]
  },
  {
   "cell_type": "markdown",
   "id": "d48428fb",
   "metadata": {},
   "source": [
    "## Positive Indexing"
   ]
  },
  {
   "cell_type": "raw",
   "id": "a022b481",
   "metadata": {},
   "source": [
    "Positive Indexing:\n",
    "    Indexing starts from left & goest to right. which is starts from 0th index \n",
    "    & it goes to highest positve index.\n",
    "    \n",
    "    We access indexing by using square braces."
   ]
  },
  {
   "cell_type": "code",
   "execution_count": 1,
   "id": "3c51e0d8",
   "metadata": {},
   "outputs": [],
   "source": [
    "string = 'Python'"
   ]
  },
  {
   "cell_type": "code",
   "execution_count": 2,
   "id": "7ab39a1a",
   "metadata": {},
   "outputs": [
    {
     "data": {
      "text/plain": [
       "'Python'"
      ]
     },
     "execution_count": 2,
     "metadata": {},
     "output_type": "execute_result"
    }
   ],
   "source": [
    "string"
   ]
  },
  {
   "cell_type": "markdown",
   "id": "669d0e70",
   "metadata": {},
   "source": [
    "### Length fuction()"
   ]
  },
  {
   "cell_type": "code",
   "execution_count": 3,
   "id": "80212d85",
   "metadata": {},
   "outputs": [
    {
     "data": {
      "text/plain": [
       "6"
      ]
     },
     "execution_count": 3,
     "metadata": {},
     "output_type": "execute_result"
    }
   ],
   "source": [
    "len(string)"
   ]
  },
  {
   "cell_type": "code",
   "execution_count": 4,
   "id": "d289ffd5",
   "metadata": {},
   "outputs": [
    {
     "data": {
      "text/plain": [
       "223"
      ]
     },
     "execution_count": 4,
     "metadata": {},
     "output_type": "execute_result"
    }
   ],
   "source": [
    "data = '''the quantities, characters, or symbols on which operations are performed by a computer, which may be stored and transmitted in the form of electrical signals and recorded on magnetic, optical, or mechanical recording media.'''\n",
    "\n",
    "len(data)"
   ]
  },
  {
   "cell_type": "code",
   "execution_count": 5,
   "id": "f605bcf2",
   "metadata": {},
   "outputs": [
    {
     "data": {
      "text/plain": [
       "'Python'"
      ]
     },
     "execution_count": 5,
     "metadata": {},
     "output_type": "execute_result"
    }
   ],
   "source": [
    "string"
   ]
  },
  {
   "cell_type": "code",
   "execution_count": null,
   "id": "4dc578bc",
   "metadata": {},
   "outputs": [],
   "source": [
    "P y t h o n\n",
    "0 1 2 3 4 5"
   ]
  },
  {
   "cell_type": "code",
   "execution_count": 6,
   "id": "555cdd38",
   "metadata": {},
   "outputs": [
    {
     "data": {
      "text/plain": [
       "'P'"
      ]
     },
     "execution_count": 6,
     "metadata": {},
     "output_type": "execute_result"
    }
   ],
   "source": [
    "string[0]"
   ]
  },
  {
   "cell_type": "code",
   "execution_count": 7,
   "id": "1d28c81d",
   "metadata": {},
   "outputs": [
    {
     "data": {
      "text/plain": [
       "'y'"
      ]
     },
     "execution_count": 7,
     "metadata": {},
     "output_type": "execute_result"
    }
   ],
   "source": [
    "string[1]"
   ]
  },
  {
   "cell_type": "code",
   "execution_count": 8,
   "id": "04394be7",
   "metadata": {},
   "outputs": [
    {
     "data": {
      "text/plain": [
       "'n'"
      ]
     },
     "execution_count": 8,
     "metadata": {},
     "output_type": "execute_result"
    }
   ],
   "source": [
    "string[5]"
   ]
  },
  {
   "cell_type": "markdown",
   "id": "5e008293",
   "metadata": {},
   "source": [
    "## Negative Indexing"
   ]
  },
  {
   "cell_type": "code",
   "execution_count": null,
   "id": "f4f3e03f",
   "metadata": {},
   "outputs": [],
   "source": [
    "Negative Indexing:\n",
    "    Indexing starts from right & goes to left. which is starts from -1th index \n",
    "    & it goes to highest negative index.\n",
    "    \n",
    "    We access indexing by using square braces."
   ]
  },
  {
   "cell_type": "code",
   "execution_count": 9,
   "id": "a08f4e71",
   "metadata": {},
   "outputs": [
    {
     "data": {
      "text/plain": [
       "'Python'"
      ]
     },
     "execution_count": 9,
     "metadata": {},
     "output_type": "execute_result"
    }
   ],
   "source": [
    "string = 'Python'\n",
    "string"
   ]
  },
  {
   "cell_type": "code",
   "execution_count": null,
   "id": "ded6bcc5",
   "metadata": {},
   "outputs": [],
   "source": [
    " P  y  t  h  o  n\n",
    "-6 -5 -4 -3 -2 -1"
   ]
  },
  {
   "cell_type": "code",
   "execution_count": 10,
   "id": "3f624a35",
   "metadata": {},
   "outputs": [
    {
     "data": {
      "text/plain": [
       "'n'"
      ]
     },
     "execution_count": 10,
     "metadata": {},
     "output_type": "execute_result"
    }
   ],
   "source": [
    "string[-1]"
   ]
  },
  {
   "cell_type": "code",
   "execution_count": 13,
   "id": "147f0d81",
   "metadata": {},
   "outputs": [
    {
     "data": {
      "text/plain": [
       "'n'"
      ]
     },
     "execution_count": 13,
     "metadata": {},
     "output_type": "execute_result"
    }
   ],
   "source": [
    "string[len(string)-1]   # string[6-1]  >> string[5]"
   ]
  },
  {
   "cell_type": "code",
   "execution_count": 14,
   "id": "542993f3",
   "metadata": {},
   "outputs": [
    {
     "data": {
      "text/plain": [
       "6"
      ]
     },
     "execution_count": 14,
     "metadata": {},
     "output_type": "execute_result"
    }
   ],
   "source": [
    "len(string)"
   ]
  },
  {
   "cell_type": "code",
   "execution_count": 11,
   "id": "4d9dc041",
   "metadata": {},
   "outputs": [
    {
     "data": {
      "text/plain": [
       "'h'"
      ]
     },
     "execution_count": 11,
     "metadata": {},
     "output_type": "execute_result"
    }
   ],
   "source": [
    "string[-3]"
   ]
  },
  {
   "cell_type": "code",
   "execution_count": 12,
   "id": "fc9faaa8",
   "metadata": {},
   "outputs": [
    {
     "data": {
      "text/plain": [
       "'P'"
      ]
     },
     "execution_count": 12,
     "metadata": {},
     "output_type": "execute_result"
    }
   ],
   "source": [
    "string[-6]"
   ]
  },
  {
   "cell_type": "code",
   "execution_count": 15,
   "id": "136a2fb1",
   "metadata": {},
   "outputs": [
    {
     "ename": "IndexError",
     "evalue": "string index out of range",
     "output_type": "error",
     "traceback": [
      "\u001b[1;31m---------------------------------------------------------------------------\u001b[0m",
      "\u001b[1;31mIndexError\u001b[0m                                Traceback (most recent call last)",
      "Input \u001b[1;32mIn [15]\u001b[0m, in \u001b[0;36m<cell line: 1>\u001b[1;34m()\u001b[0m\n\u001b[1;32m----> 1\u001b[0m \u001b[43mstring\u001b[49m\u001b[43m[\u001b[49m\u001b[38;5;241;43m-\u001b[39;49m\u001b[38;5;241;43m7\u001b[39;49m\u001b[43m]\u001b[49m\n",
      "\u001b[1;31mIndexError\u001b[0m: string index out of range"
     ]
    }
   ],
   "source": [
    "string[-7]"
   ]
  },
  {
   "cell_type": "markdown",
   "id": "926dd2e4",
   "metadata": {},
   "source": [
    "# String slicing"
   ]
  },
  {
   "cell_type": "raw",
   "id": "b314c14f",
   "metadata": {},
   "source": [
    "string[start index:end index:step size]    -- step size is optional\n",
    "\n",
    "step size is positive >> left to right >> positive slicing\n",
    "step size is negative >> right to left >> negative slicing"
   ]
  },
  {
   "cell_type": "markdown",
   "id": "41da4d8c",
   "metadata": {},
   "source": [
    "### Positive Slicing"
   ]
  },
  {
   "cell_type": "raw",
   "id": "4cd6d250",
   "metadata": {},
   "source": [
    "the default start index is 0\n",
    "the default end index is len(string)\n",
    "the default step size is 1"
   ]
  },
  {
   "cell_type": "code",
   "execution_count": 16,
   "id": "a401aeb1",
   "metadata": {},
   "outputs": [],
   "source": [
    "string = 'Python'"
   ]
  },
  {
   "cell_type": "code",
   "execution_count": 17,
   "id": "71400eaf",
   "metadata": {},
   "outputs": [
    {
     "data": {
      "text/plain": [
       "'y'"
      ]
     },
     "execution_count": 17,
     "metadata": {},
     "output_type": "execute_result"
    }
   ],
   "source": [
    "string[1]"
   ]
  },
  {
   "cell_type": "code",
   "execution_count": 18,
   "id": "3c6c8c11",
   "metadata": {},
   "outputs": [
    {
     "data": {
      "text/plain": [
       "'n'"
      ]
     },
     "execution_count": 18,
     "metadata": {},
     "output_type": "execute_result"
    }
   ],
   "source": [
    "string[5]"
   ]
  },
  {
   "cell_type": "code",
   "execution_count": 19,
   "id": "4ca6a2a5",
   "metadata": {},
   "outputs": [
    {
     "data": {
      "text/plain": [
       "'ython'"
      ]
     },
     "execution_count": 19,
     "metadata": {},
     "output_type": "execute_result"
    }
   ],
   "source": [
    "string[1:6]\n",
    "# it steps one index back than the index given at end index"
   ]
  },
  {
   "cell_type": "code",
   "execution_count": 20,
   "id": "d96ef79e",
   "metadata": {},
   "outputs": [
    {
     "data": {
      "text/plain": [
       "'ytho'"
      ]
     },
     "execution_count": 20,
     "metadata": {},
     "output_type": "execute_result"
    }
   ],
   "source": [
    "string[1:5]"
   ]
  },
  {
   "cell_type": "code",
   "execution_count": 21,
   "id": "1684323a",
   "metadata": {},
   "outputs": [
    {
     "data": {
      "text/plain": [
       "'tho'"
      ]
     },
     "execution_count": 21,
     "metadata": {},
     "output_type": "execute_result"
    }
   ],
   "source": [
    "string[2:5]"
   ]
  },
  {
   "cell_type": "code",
   "execution_count": 28,
   "id": "2a9b0797",
   "metadata": {},
   "outputs": [
    {
     "data": {
      "text/plain": [
       "'Python'"
      ]
     },
     "execution_count": 28,
     "metadata": {},
     "output_type": "execute_result"
    }
   ],
   "source": [
    "string = 'Python class'\n",
    "string[0:6]"
   ]
  },
  {
   "cell_type": "code",
   "execution_count": 29,
   "id": "1500e0db",
   "metadata": {},
   "outputs": [
    {
     "data": {
      "text/plain": [
       "'Python'"
      ]
     },
     "execution_count": 29,
     "metadata": {},
     "output_type": "execute_result"
    }
   ],
   "source": [
    "string[0:6:1]"
   ]
  },
  {
   "cell_type": "code",
   "execution_count": 30,
   "id": "c39b191a",
   "metadata": {},
   "outputs": [
    {
     "data": {
      "text/plain": [
       "'Pto'"
      ]
     },
     "execution_count": 30,
     "metadata": {},
     "output_type": "execute_result"
    }
   ],
   "source": [
    "string[0:6:2]"
   ]
  },
  {
   "cell_type": "code",
   "execution_count": 31,
   "id": "8f4bb8a8",
   "metadata": {},
   "outputs": [
    {
     "data": {
      "text/plain": [
       "'Ph a'"
      ]
     },
     "execution_count": 31,
     "metadata": {},
     "output_type": "execute_result"
    }
   ],
   "source": [
    "string[::3]"
   ]
  },
  {
   "cell_type": "code",
   "execution_count": 35,
   "id": "8371264e",
   "metadata": {},
   "outputs": [
    {
     "data": {
      "text/plain": [
       "'Pytho'"
      ]
     },
     "execution_count": 35,
     "metadata": {},
     "output_type": "execute_result"
    }
   ],
   "source": [
    "string= 'Python'\n",
    "string[-6:-1]"
   ]
  },
  {
   "cell_type": "code",
   "execution_count": 37,
   "id": "771f72db",
   "metadata": {},
   "outputs": [
    {
     "data": {
      "text/plain": [
       "'Pto'"
      ]
     },
     "execution_count": 37,
     "metadata": {},
     "output_type": "execute_result"
    }
   ],
   "source": [
    "string[-6:len(string):2]"
   ]
  },
  {
   "cell_type": "markdown",
   "id": "3a36e7b1",
   "metadata": {},
   "source": [
    "### Negative slicing"
   ]
  },
  {
   "cell_type": "raw",
   "id": "89a603b4",
   "metadata": {},
   "source": [
    "When we set the step size to -1:\n",
    "\n",
    "then default start index in negative slicing is -1 \n",
    "& default end index is -(len(string)+1)"
   ]
  },
  {
   "cell_type": "code",
   "execution_count": 38,
   "id": "415ebd2e",
   "metadata": {},
   "outputs": [
    {
     "data": {
      "text/plain": [
       "''"
      ]
     },
     "execution_count": 38,
     "metadata": {},
     "output_type": "execute_result"
    }
   ],
   "source": [
    "string = 'Python'\n",
    "string[-1:-6]"
   ]
  },
  {
   "cell_type": "code",
   "execution_count": 39,
   "id": "92804e24",
   "metadata": {},
   "outputs": [
    {
     "data": {
      "text/plain": [
       "'nohty'"
      ]
     },
     "execution_count": 39,
     "metadata": {},
     "output_type": "execute_result"
    }
   ],
   "source": [
    "string[-1:-6:-1]"
   ]
  },
  {
   "cell_type": "code",
   "execution_count": 40,
   "id": "57a08b69",
   "metadata": {},
   "outputs": [
    {
     "data": {
      "text/plain": [
       "'nohtyP'"
      ]
     },
     "execution_count": 40,
     "metadata": {},
     "output_type": "execute_result"
    }
   ],
   "source": [
    "string[::-1]"
   ]
  },
  {
   "cell_type": "code",
   "execution_count": 41,
   "id": "1403c41e",
   "metadata": {},
   "outputs": [
    {
     "data": {
      "text/plain": [
       "'nohty'"
      ]
     },
     "execution_count": 41,
     "metadata": {},
     "output_type": "execute_result"
    }
   ],
   "source": [
    "string[6:0:-1]"
   ]
  },
  {
   "cell_type": "code",
   "execution_count": 44,
   "id": "c909fdb6",
   "metadata": {},
   "outputs": [
    {
     "data": {
      "text/plain": [
       "'nh'"
      ]
     },
     "execution_count": 44,
     "metadata": {},
     "output_type": "execute_result"
    }
   ],
   "source": [
    "string[5:-5:-2]"
   ]
  },
  {
   "cell_type": "code",
   "execution_count": 46,
   "id": "7814b4b7",
   "metadata": {},
   "outputs": [
    {
     "data": {
      "text/plain": [
       "'noht'"
      ]
     },
     "execution_count": 46,
     "metadata": {},
     "output_type": "execute_result"
    }
   ],
   "source": [
    "string[5:-5:-1]"
   ]
  },
  {
   "cell_type": "code",
   "execution_count": 43,
   "id": "0c5f2741",
   "metadata": {},
   "outputs": [
    {
     "data": {
      "text/plain": [
       "'Python'"
      ]
     },
     "execution_count": 43,
     "metadata": {},
     "output_type": "execute_result"
    }
   ],
   "source": [
    "string"
   ]
  },
  {
   "cell_type": "code",
   "execution_count": 47,
   "id": "9045a1c5",
   "metadata": {},
   "outputs": [
    {
     "data": {
      "text/plain": [
       "'Python'"
      ]
     },
     "execution_count": 47,
     "metadata": {},
     "output_type": "execute_result"
    }
   ],
   "source": [
    "string[:]"
   ]
  },
  {
   "cell_type": "code",
   "execution_count": 48,
   "id": "3ed04b54",
   "metadata": {},
   "outputs": [
    {
     "data": {
      "text/plain": [
       "'Python'"
      ]
     },
     "execution_count": 48,
     "metadata": {},
     "output_type": "execute_result"
    }
   ],
   "source": [
    "string[::]"
   ]
  },
  {
   "cell_type": "code",
   "execution_count": 49,
   "id": "45169c05",
   "metadata": {},
   "outputs": [
    {
     "data": {
      "text/plain": [
       "'nohtyP'"
      ]
     },
     "execution_count": 49,
     "metadata": {},
     "output_type": "execute_result"
    }
   ],
   "source": [
    "string[::-1]   # in negative slicing the start index is -1 & end index is -(len(string)+1)"
   ]
  },
  {
   "cell_type": "code",
   "execution_count": 54,
   "id": "4d7587dd",
   "metadata": {},
   "outputs": [
    {
     "data": {
      "text/plain": [
       "'11111'"
      ]
     },
     "execution_count": 54,
     "metadata": {},
     "output_type": "execute_result"
    }
   ],
   "source": [
    "word = '1212121212'\n",
    "word[0:len(word):2]"
   ]
  },
  {
   "cell_type": "code",
   "execution_count": 53,
   "id": "e45a3b65",
   "metadata": {},
   "outputs": [
    {
     "data": {
      "text/plain": [
       "('11111', '22222')"
      ]
     },
     "execution_count": 53,
     "metadata": {},
     "output_type": "execute_result"
    }
   ],
   "source": [
    "word[::2], word[1::2]"
   ]
  },
  {
   "cell_type": "markdown",
   "id": "6ea2d3bf",
   "metadata": {},
   "source": [
    "# string addition or cocatenation"
   ]
  },
  {
   "cell_type": "code",
   "execution_count": 55,
   "id": "da371305",
   "metadata": {},
   "outputs": [
    {
     "data": {
      "text/plain": [
       "'python class'"
      ]
     },
     "execution_count": 55,
     "metadata": {},
     "output_type": "execute_result"
    }
   ],
   "source": [
    "str1 = 'python'\n",
    "str2 = ' class'\n",
    "\n",
    "str1+str2"
   ]
  },
  {
   "cell_type": "code",
   "execution_count": 57,
   "id": "b9dd3e09",
   "metadata": {},
   "outputs": [
    {
     "data": {
      "text/plain": [
       "'python & lass'"
      ]
     },
     "execution_count": 57,
     "metadata": {},
     "output_type": "execute_result"
    }
   ],
   "source": [
    "str1[:]+' & '+str2[2:]"
   ]
  },
  {
   "cell_type": "code",
   "execution_count": 59,
   "id": "ea472c89",
   "metadata": {},
   "outputs": [
    {
     "data": {
      "text/plain": [
       "'pto & sa'"
      ]
     },
     "execution_count": 59,
     "metadata": {},
     "output_type": "execute_result"
    }
   ],
   "source": [
    "str1[::2]+' & '+str2[-1:-5:-2]"
   ]
  },
  {
   "cell_type": "code",
   "execution_count": 60,
   "id": "83a9c247",
   "metadata": {},
   "outputs": [
    {
     "ename": "TypeError",
     "evalue": "unsupported operand type(s) for -: 'str' and 'str'",
     "output_type": "error",
     "traceback": [
      "\u001b[1;31m---------------------------------------------------------------------------\u001b[0m",
      "\u001b[1;31mTypeError\u001b[0m                                 Traceback (most recent call last)",
      "Input \u001b[1;32mIn [60]\u001b[0m, in \u001b[0;36m<cell line: 1>\u001b[1;34m()\u001b[0m\n\u001b[1;32m----> 1\u001b[0m \u001b[43mstr1\u001b[49m\u001b[38;5;241;43m-\u001b[39;49m\u001b[43mstr2\u001b[49m\n",
      "\u001b[1;31mTypeError\u001b[0m: unsupported operand type(s) for -: 'str' and 'str'"
     ]
    }
   ],
   "source": [
    "str1-str2"
   ]
  },
  {
   "cell_type": "code",
   "execution_count": 61,
   "id": "3b8211f1",
   "metadata": {},
   "outputs": [
    {
     "ename": "TypeError",
     "evalue": "can't multiply sequence by non-int of type 'str'",
     "output_type": "error",
     "traceback": [
      "\u001b[1;31m---------------------------------------------------------------------------\u001b[0m",
      "\u001b[1;31mTypeError\u001b[0m                                 Traceback (most recent call last)",
      "Input \u001b[1;32mIn [61]\u001b[0m, in \u001b[0;36m<cell line: 1>\u001b[1;34m()\u001b[0m\n\u001b[1;32m----> 1\u001b[0m \u001b[43mstr1\u001b[49m\u001b[38;5;241;43m*\u001b[39;49m\u001b[43mstr2\u001b[49m\n",
      "\u001b[1;31mTypeError\u001b[0m: can't multiply sequence by non-int of type 'str'"
     ]
    }
   ],
   "source": [
    "str1*str2"
   ]
  },
  {
   "cell_type": "markdown",
   "id": "4d1c5c09",
   "metadata": {},
   "source": [
    "# String Casting"
   ]
  },
  {
   "cell_type": "code",
   "execution_count": 85,
   "id": "968eda56",
   "metadata": {},
   "outputs": [
    {
     "name": "stdout",
     "output_type": "stream",
     "text": [
      "Enter any string: hi 5\n"
     ]
    },
    {
     "data": {
      "text/plain": [
       "'hi 5'"
      ]
     },
     "execution_count": 85,
     "metadata": {},
     "output_type": "execute_result"
    }
   ],
   "source": [
    "data = input(\"Enter any string: \")\n",
    "data"
   ]
  },
  {
   "cell_type": "code",
   "execution_count": 89,
   "id": "dfec0a5c",
   "metadata": {},
   "outputs": [],
   "source": [
    "text = data[:2]\n",
    "numbers = int(data[-1])"
   ]
  },
  {
   "cell_type": "code",
   "execution_count": 91,
   "id": "f9b5fe9e",
   "metadata": {},
   "outputs": [
    {
     "name": "stdout",
     "output_type": "stream",
     "text": [
      "hi\n",
      "5\n"
     ]
    }
   ],
   "source": [
    "print(text)\n",
    "print(numbers)"
   ]
  },
  {
   "cell_type": "code",
   "execution_count": 65,
   "id": "a1fcba5b",
   "metadata": {},
   "outputs": [
    {
     "name": "stdout",
     "output_type": "stream",
     "text": [
      "Enter any string: 4\n"
     ]
    },
    {
     "data": {
      "text/plain": [
       "'4'"
      ]
     },
     "execution_count": 65,
     "metadata": {},
     "output_type": "execute_result"
    }
   ],
   "source": [
    "data = str(input(\"Enter any string: \"))\n",
    "data"
   ]
  },
  {
   "cell_type": "code",
   "execution_count": 66,
   "id": "9f53c9dc",
   "metadata": {},
   "outputs": [
    {
     "name": "stdout",
     "output_type": "stream",
     "text": [
      "Enter any string: 'hello'\n"
     ]
    },
    {
     "data": {
      "text/plain": [
       "'hello'"
      ]
     },
     "execution_count": 66,
     "metadata": {},
     "output_type": "execute_result"
    }
   ],
   "source": [
    "data = eval(input(\"Enter any string: \"))\n",
    "data"
   ]
  },
  {
   "cell_type": "code",
   "execution_count": 67,
   "id": "9232dac5",
   "metadata": {},
   "outputs": [
    {
     "name": "stdout",
     "output_type": "stream",
     "text": [
      "Enter any string: hello\n"
     ]
    },
    {
     "ename": "NameError",
     "evalue": "name 'hello' is not defined",
     "output_type": "error",
     "traceback": [
      "\u001b[1;31m---------------------------------------------------------------------------\u001b[0m",
      "\u001b[1;31mNameError\u001b[0m                                 Traceback (most recent call last)",
      "Input \u001b[1;32mIn [67]\u001b[0m, in \u001b[0;36m<cell line: 1>\u001b[1;34m()\u001b[0m\n\u001b[1;32m----> 1\u001b[0m data \u001b[38;5;241m=\u001b[39m \u001b[38;5;28;43meval\u001b[39;49m\u001b[43m(\u001b[49m\u001b[38;5;28;43minput\u001b[39;49m\u001b[43m(\u001b[49m\u001b[38;5;124;43m\"\u001b[39;49m\u001b[38;5;124;43mEnter any string: \u001b[39;49m\u001b[38;5;124;43m\"\u001b[39;49m\u001b[43m)\u001b[49m\u001b[43m)\u001b[49m\n\u001b[0;32m      2\u001b[0m data\n",
      "File \u001b[1;32m<string>:1\u001b[0m, in \u001b[0;36m<module>\u001b[1;34m\u001b[0m\n",
      "\u001b[1;31mNameError\u001b[0m: name 'hello' is not defined"
     ]
    }
   ],
   "source": [
    "data = eval(input(\"Enter any string: \"))\n",
    "data"
   ]
  },
  {
   "cell_type": "markdown",
   "id": "2d2a498e",
   "metadata": {},
   "source": [
    "# Doc String"
   ]
  },
  {
   "cell_type": "code",
   "execution_count": 72,
   "id": "5aae73f1",
   "metadata": {},
   "outputs": [],
   "source": [
    "def square(x):\n",
    "    print(\"\"\"Function takes in any value & returns the square of the term!\"\"\")\n",
    "    return x**2"
   ]
  },
  {
   "cell_type": "code",
   "execution_count": 73,
   "id": "3d714de0",
   "metadata": {},
   "outputs": [
    {
     "name": "stdout",
     "output_type": "stream",
     "text": [
      "Function takes in any value & returns the square of the term!\n"
     ]
    },
    {
     "data": {
      "text/plain": [
       "24025"
      ]
     },
     "execution_count": 73,
     "metadata": {},
     "output_type": "execute_result"
    }
   ],
   "source": [
    "square(155)"
   ]
  },
  {
   "cell_type": "code",
   "execution_count": 74,
   "id": "bf1d184a",
   "metadata": {},
   "outputs": [],
   "source": [
    "def square(x):\n",
    "    \"\"\"Function takes in any value & returns the square of the term!\"\"\"\n",
    "    return x**2"
   ]
  },
  {
   "cell_type": "code",
   "execution_count": 75,
   "id": "d6674e8b",
   "metadata": {},
   "outputs": [
    {
     "data": {
      "text/plain": [
       "'Function takes in any value & returns the square of the term!'"
      ]
     },
     "execution_count": 75,
     "metadata": {},
     "output_type": "execute_result"
    }
   ],
   "source": [
    "square.__doc__"
   ]
  },
  {
   "cell_type": "code",
   "execution_count": 76,
   "id": "2b20ca1a",
   "metadata": {},
   "outputs": [
    {
     "name": "stdout",
     "output_type": "stream",
     "text": [
      "Function takes in any value & returns the square of the term!\n"
     ]
    }
   ],
   "source": [
    "print(square.__doc__)"
   ]
  },
  {
   "cell_type": "code",
   "execution_count": 77,
   "id": "4147d7b5",
   "metadata": {},
   "outputs": [
    {
     "data": {
      "text/plain": [
       "16"
      ]
     },
     "execution_count": 77,
     "metadata": {},
     "output_type": "execute_result"
    }
   ],
   "source": [
    "square(4)"
   ]
  },
  {
   "cell_type": "code",
   "execution_count": null,
   "id": "91c098f6",
   "metadata": {},
   "outputs": [],
   "source": []
  }
 ],
 "metadata": {
  "kernelspec": {
   "display_name": "Python 3 (ipykernel)",
   "language": "python",
   "name": "python3"
  },
  "language_info": {
   "codemirror_mode": {
    "name": "ipython",
    "version": 3
   },
   "file_extension": ".py",
   "mimetype": "text/x-python",
   "name": "python",
   "nbconvert_exporter": "python",
   "pygments_lexer": "ipython3",
   "version": "3.9.12"
  }
 },
 "nbformat": 4,
 "nbformat_minor": 5
}

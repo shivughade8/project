{
 "cells": [
  {
   "cell_type": "markdown",
   "id": "1884c065",
   "metadata": {},
   "source": [
    "# Capitalize()"
   ]
  },
  {
   "cell_type": "raw",
   "id": "0714348e",
   "metadata": {},
   "source": [
    "it capitalizes the very first letter (letter at 0th index) of the string."
   ]
  },
  {
   "cell_type": "code",
   "execution_count": 2,
   "id": "3bff26ec",
   "metadata": {},
   "outputs": [
    {
     "data": {
      "text/plain": [
       "'python is intresting!'"
      ]
     },
     "execution_count": 2,
     "metadata": {},
     "output_type": "execute_result"
    }
   ],
   "source": [
    "string = 'python is intresting!'\n",
    "string"
   ]
  },
  {
   "cell_type": "code",
   "execution_count": 3,
   "id": "143cee49",
   "metadata": {},
   "outputs": [
    {
     "data": {
      "text/plain": [
       "'Python is intresting!'"
      ]
     },
     "execution_count": 3,
     "metadata": {},
     "output_type": "execute_result"
    }
   ],
   "source": [
    "string.capitalize()"
   ]
  },
  {
   "cell_type": "code",
   "execution_count": 4,
   "id": "d98a2591",
   "metadata": {},
   "outputs": [
    {
     "data": {
      "text/plain": [
       "'python is intresting!'"
      ]
     },
     "execution_count": 4,
     "metadata": {},
     "output_type": "execute_result"
    }
   ],
   "source": [
    "string"
   ]
  },
  {
   "cell_type": "code",
   "execution_count": 5,
   "id": "3d57e11c",
   "metadata": {},
   "outputs": [
    {
     "data": {
      "text/plain": [
       "'Python is intresting!'"
      ]
     },
     "execution_count": 5,
     "metadata": {},
     "output_type": "execute_result"
    }
   ],
   "source": [
    "string = string.capitalize()\n",
    "string"
   ]
  },
  {
   "cell_type": "code",
   "execution_count": 6,
   "id": "56905b00",
   "metadata": {},
   "outputs": [
    {
     "data": {
      "text/plain": [
       "' python is intresting!'"
      ]
     },
     "execution_count": 6,
     "metadata": {},
     "output_type": "execute_result"
    }
   ],
   "source": [
    "string = ' python is intresting!'\n",
    "string.capitalize()"
   ]
  },
  {
   "cell_type": "code",
   "execution_count": 7,
   "id": "4740dc4f",
   "metadata": {},
   "outputs": [
    {
     "data": {
      "text/plain": [
       "'3.9 python is intresting!'"
      ]
     },
     "execution_count": 7,
     "metadata": {},
     "output_type": "execute_result"
    }
   ],
   "source": [
    "string = '3.9 python is intresting!'\n",
    "string.capitalize()"
   ]
  },
  {
   "cell_type": "code",
   "execution_count": 8,
   "id": "15146ade",
   "metadata": {},
   "outputs": [
    {
     "data": {
      "text/plain": [
       "'Python is intresting!'"
      ]
     },
     "execution_count": 8,
     "metadata": {},
     "output_type": "execute_result"
    }
   ],
   "source": [
    "string = 'Python is intresting!'\n",
    "string.capitalize()"
   ]
  },
  {
   "cell_type": "markdown",
   "id": "00f0811c",
   "metadata": {},
   "source": [
    "# Upper()"
   ]
  },
  {
   "cell_type": "raw",
   "id": "5783b549",
   "metadata": {},
   "source": [
    "it converts all the letters of the string into capital letters or uppercase"
   ]
  },
  {
   "cell_type": "code",
   "execution_count": 9,
   "id": "15a5cf27",
   "metadata": {},
   "outputs": [
    {
     "data": {
      "text/plain": [
       "'PYTHON IS INTRESTING!'"
      ]
     },
     "execution_count": 9,
     "metadata": {},
     "output_type": "execute_result"
    }
   ],
   "source": [
    "string = 'python is intresting!'\n",
    "string.upper()"
   ]
  },
  {
   "cell_type": "code",
   "execution_count": 10,
   "id": "a73f77fe",
   "metadata": {},
   "outputs": [
    {
     "data": {
      "text/plain": [
       "'PYTHON IS INTRESTING!'"
      ]
     },
     "execution_count": 10,
     "metadata": {},
     "output_type": "execute_result"
    }
   ],
   "source": [
    "string = 'PYTHON is intresting!'\n",
    "string.upper()"
   ]
  },
  {
   "cell_type": "code",
   "execution_count": 11,
   "id": "abb8113f",
   "metadata": {},
   "outputs": [
    {
     "data": {
      "text/plain": [
       "'PYTHON 3.9 IS INTRESTING!'"
      ]
     },
     "execution_count": 11,
     "metadata": {},
     "output_type": "execute_result"
    }
   ],
   "source": [
    "string = 'PYTHON 3.9 is intresting!'\n",
    "string.upper()"
   ]
  },
  {
   "cell_type": "markdown",
   "id": "045722db",
   "metadata": {},
   "source": [
    "# lower()"
   ]
  },
  {
   "cell_type": "raw",
   "id": "8a0697a8",
   "metadata": {},
   "source": [
    "it converts all the characters of the string into lowercase"
   ]
  },
  {
   "cell_type": "code",
   "execution_count": 12,
   "id": "db04222f",
   "metadata": {},
   "outputs": [
    {
     "data": {
      "text/plain": [
       "'python is intresting!'"
      ]
     },
     "execution_count": 12,
     "metadata": {},
     "output_type": "execute_result"
    }
   ],
   "source": [
    "string = 'PYTHON IS INTRESTING!'\n",
    "string.lower()"
   ]
  },
  {
   "cell_type": "code",
   "execution_count": 13,
   "id": "b25ee9e7",
   "metadata": {},
   "outputs": [
    {
     "data": {
      "text/plain": [
       "'python is intresting!'"
      ]
     },
     "execution_count": 13,
     "metadata": {},
     "output_type": "execute_result"
    }
   ],
   "source": [
    "string = 'PYTHON is intresting!'\n",
    "string.lower()"
   ]
  },
  {
   "cell_type": "code",
   "execution_count": 14,
   "id": "73f144e6",
   "metadata": {},
   "outputs": [
    {
     "data": {
      "text/plain": [
       "'python 3.9 is intresting!'"
      ]
     },
     "execution_count": 14,
     "metadata": {},
     "output_type": "execute_result"
    }
   ],
   "source": [
    "string = 'PYTHON 3.9 is intresting!'\n",
    "string.lower()"
   ]
  },
  {
   "cell_type": "markdown",
   "id": "fa47a9bf",
   "metadata": {},
   "source": [
    "# title()"
   ]
  },
  {
   "cell_type": "raw",
   "id": "8230b1e4",
   "metadata": {},
   "source": [
    "It converts every starting letter of each word into capital letter"
   ]
  },
  {
   "cell_type": "code",
   "execution_count": 15,
   "id": "a739571d",
   "metadata": {},
   "outputs": [
    {
     "data": {
      "text/plain": [
       "'Python Is Intresting!'"
      ]
     },
     "execution_count": 15,
     "metadata": {},
     "output_type": "execute_result"
    }
   ],
   "source": [
    "string = 'python is intresting!'\n",
    "string.title()"
   ]
  },
  {
   "cell_type": "code",
   "execution_count": 18,
   "id": "70e2294b",
   "metadata": {},
   "outputs": [
    {
     "data": {
      "text/plain": [
       "' India Is My Country. All Indians Are My Brothers & Sisters.'"
      ]
     },
     "execution_count": 18,
     "metadata": {},
     "output_type": "execute_result"
    }
   ],
   "source": [
    "national_prayers=' india is my country. All indians are my brothers & sisters.'\n",
    "national_prayers.title()"
   ]
  },
  {
   "cell_type": "markdown",
   "id": "83a89811",
   "metadata": {},
   "source": [
    "# Strip()"
   ]
  },
  {
   "cell_type": "raw",
   "id": "d4517897",
   "metadata": {},
   "source": [
    "It removes the unwanted spaces in the begenning & the end of the string"
   ]
  },
  {
   "cell_type": "code",
   "execution_count": 28,
   "id": "04ca9e35",
   "metadata": {},
   "outputs": [
    {
     "data": {
      "text/plain": [
       "'python is intresting!'"
      ]
     },
     "execution_count": 28,
     "metadata": {},
     "output_type": "execute_result"
    }
   ],
   "source": [
    "string = '       python is intresting!             '\n",
    "string.strip()"
   ]
  },
  {
   "cell_type": "code",
   "execution_count": 29,
   "id": "f5a82988",
   "metadata": {},
   "outputs": [
    {
     "data": {
      "text/plain": [
       "'python is intresting!'"
      ]
     },
     "execution_count": 29,
     "metadata": {},
     "output_type": "execute_result"
    }
   ],
   "source": [
    "string = '       python is intresting!'\n",
    "string.strip()"
   ]
  },
  {
   "cell_type": "code",
   "execution_count": 31,
   "id": "4621e811",
   "metadata": {},
   "outputs": [
    {
     "data": {
      "text/plain": [
       "'python is intresting!      &'"
      ]
     },
     "execution_count": 31,
     "metadata": {},
     "output_type": "execute_result"
    }
   ],
   "source": [
    "string = 'python is intresting!      &       '\n",
    "string.strip()"
   ]
  },
  {
   "cell_type": "markdown",
   "id": "4b8425ae",
   "metadata": {},
   "source": [
    "# lstrip()"
   ]
  },
  {
   "cell_type": "code",
   "execution_count": null,
   "id": "064508af",
   "metadata": {},
   "outputs": [],
   "source": [
    "it only strips the spaces in the left or begenning of the string.replace"
   ]
  },
  {
   "cell_type": "code",
   "execution_count": 32,
   "id": "4dc07422",
   "metadata": {},
   "outputs": [
    {
     "data": {
      "text/plain": [
       "'python is intresting!             '"
      ]
     },
     "execution_count": 32,
     "metadata": {},
     "output_type": "execute_result"
    }
   ],
   "source": [
    "string = '       python is intresting!             '\n",
    "string.lstrip()"
   ]
  },
  {
   "cell_type": "code",
   "execution_count": 33,
   "id": "d995a5ba",
   "metadata": {},
   "outputs": [
    {
     "data": {
      "text/plain": [
       "'python is intresting!             '"
      ]
     },
     "execution_count": 33,
     "metadata": {},
     "output_type": "execute_result"
    }
   ],
   "source": [
    "string = 'python is intresting!             '\n",
    "string.lstrip()"
   ]
  },
  {
   "cell_type": "code",
   "execution_count": 35,
   "id": "4507924f",
   "metadata": {},
   "outputs": [
    {
     "data": {
      "text/plain": [
       "'python is intresting!'"
      ]
     },
     "execution_count": 35,
     "metadata": {},
     "output_type": "execute_result"
    }
   ],
   "source": [
    "string = '       python is intresting!'\n",
    "string.lstrip()"
   ]
  },
  {
   "cell_type": "markdown",
   "id": "53248fae",
   "metadata": {},
   "source": [
    "# rstrip()"
   ]
  },
  {
   "cell_type": "raw",
   "id": "6371d7c5",
   "metadata": {},
   "source": [
    "it only strips the spaces in the right or end of the string.replace"
   ]
  },
  {
   "cell_type": "code",
   "execution_count": 36,
   "id": "4f113428",
   "metadata": {},
   "outputs": [
    {
     "data": {
      "text/plain": [
       "'       python is intresting!'"
      ]
     },
     "execution_count": 36,
     "metadata": {},
     "output_type": "execute_result"
    }
   ],
   "source": [
    "string = '       python is intresting!             '\n",
    "string.rstrip()"
   ]
  },
  {
   "cell_type": "code",
   "execution_count": 37,
   "id": "774ac3aa",
   "metadata": {},
   "outputs": [
    {
     "data": {
      "text/plain": [
       "'python is intresting!'"
      ]
     },
     "execution_count": 37,
     "metadata": {},
     "output_type": "execute_result"
    }
   ],
   "source": [
    "string = 'python is intresting!             '\n",
    "string.rstrip()"
   ]
  },
  {
   "cell_type": "code",
   "execution_count": 38,
   "id": "a41dfc42",
   "metadata": {},
   "outputs": [
    {
     "data": {
      "text/plain": [
       "'       python is intresting!'"
      ]
     },
     "execution_count": 38,
     "metadata": {},
     "output_type": "execute_result"
    }
   ],
   "source": [
    "string = '       python is intresting!'\n",
    "string.rstrip()"
   ]
  },
  {
   "cell_type": "code",
   "execution_count": 43,
   "id": "e265f21b",
   "metadata": {},
   "outputs": [
    {
     "name": "stdout",
     "output_type": "stream",
     "text": [
      "Person is same!\n"
     ]
    }
   ],
   "source": [
    "adhar_name = '    ADITYA UIKE'\n",
    "pan_name = 'aditya uike     '\n",
    "\n",
    "if adhar_name.lower().lstrip()==pan_name.rstrip():\n",
    "    print('Person is same!')\n",
    "else:\n",
    "    print('identity differ!')"
   ]
  },
  {
   "cell_type": "code",
   "execution_count": 40,
   "id": "07966edf",
   "metadata": {},
   "outputs": [
    {
     "data": {
      "text/plain": [
       "'aditya uike'"
      ]
     },
     "execution_count": 40,
     "metadata": {},
     "output_type": "execute_result"
    }
   ],
   "source": [
    "adhar_name.lower().lstrip()"
   ]
  },
  {
   "cell_type": "code",
   "execution_count": 48,
   "id": "de1305c3",
   "metadata": {},
   "outputs": [
    {
     "data": {
      "text/plain": [
       "'PYTHON IN use NOW USE'"
      ]
     },
     "execution_count": 48,
     "metadata": {},
     "output_type": "execute_result"
    }
   ],
   "source": [
    "string = 'Python in use now use'\n",
    "# string.find('use')\n",
    "string[:10].upper()+string[10:14]+string[14:].upper()"
   ]
  },
  {
   "cell_type": "code",
   "execution_count": 54,
   "id": "5208ba9f",
   "metadata": {},
   "outputs": [
    {
     "data": {
      "text/plain": [
       "'5484 5135 4654'"
      ]
     },
     "execution_count": 54,
     "metadata": {},
     "output_type": "execute_result"
    }
   ],
   "source": [
    "string = '548451354654'\n",
    "string[:4]+' '+string[4:8]+' '+string[8:]"
   ]
  },
  {
   "cell_type": "code",
   "execution_count": 49,
   "id": "183b8f12",
   "metadata": {},
   "outputs": [
    {
     "data": {
      "text/plain": [
       "[<re.Match object; span=(10, 13), match='use'>,\n",
       " <re.Match object; span=(18, 21), match='use'>]"
      ]
     },
     "execution_count": 49,
     "metadata": {},
     "output_type": "execute_result"
    }
   ],
   "source": [
    "import re\n",
    "list(re.finditer('use',string))"
   ]
  },
  {
   "cell_type": "markdown",
   "id": "611fb03d",
   "metadata": {},
   "source": [
    "# Swapcase()"
   ]
  },
  {
   "cell_type": "raw",
   "id": "88bb7dd0",
   "metadata": {},
   "source": [
    "it swaps the letters as in uppercase will be converted into lowercase characters & lowercase characters will be converted into uppercase characters"
   ]
  },
  {
   "cell_type": "code",
   "execution_count": 56,
   "id": "2da5beb9",
   "metadata": {},
   "outputs": [
    {
     "data": {
      "text/plain": [
       "'iNDIA IS MY COUNTRY. aLL INDIANS ARE MY BROTHERS & SISTERS.'"
      ]
     },
     "execution_count": 56,
     "metadata": {},
     "output_type": "execute_result"
    }
   ],
   "source": [
    "national_prayers='India is my country. All indians are my brothers & sisters.'\n",
    "national_prayers.swapcase()"
   ]
  },
  {
   "cell_type": "code",
   "execution_count": 59,
   "id": "00f8bc9b",
   "metadata": {},
   "outputs": [
    {
     "data": {
      "text/plain": [
       "'SACHIN 10dulkar'"
      ]
     },
     "execution_count": 59,
     "metadata": {},
     "output_type": "execute_result"
    }
   ],
   "source": [
    "initials= 'sachin'\n",
    "finals = '10dulkar'\n",
    "\n",
    "initials.swapcase()+' '+finals"
   ]
  },
  {
   "cell_type": "markdown",
   "id": "0fc23508",
   "metadata": {},
   "source": [
    "# Replace()"
   ]
  },
  {
   "cell_type": "raw",
   "id": "2d36b585",
   "metadata": {},
   "source": [
    "replaces the item in the string\n",
    "Syntax: string.replace('old_substring','new_substring',count)"
   ]
  },
  {
   "cell_type": "code",
   "execution_count": 60,
   "id": "7642c996",
   "metadata": {},
   "outputs": [
    {
     "data": {
      "text/plain": [
       "'India is my country. All indians are my brothers and sisters.'"
      ]
     },
     "execution_count": 60,
     "metadata": {},
     "output_type": "execute_result"
    }
   ],
   "source": [
    "national_prayers='India is my blood & country. All indians are my brothers & sisters.'\n",
    "national_prayers.replace('&','and')"
   ]
  },
  {
   "cell_type": "code",
   "execution_count": 61,
   "id": "ce8aca30",
   "metadata": {},
   "outputs": [
    {
     "data": {
      "text/plain": [
       "'India is my blood and country. All indians are my brothers and sisters.'"
      ]
     },
     "execution_count": 61,
     "metadata": {},
     "output_type": "execute_result"
    }
   ],
   "source": [
    "national_prayers='India is my blood & country. All indians are my brothers & sisters.'\n",
    "national_prayers.replace('&','and')"
   ]
  },
  {
   "cell_type": "code",
   "execution_count": 63,
   "id": "9f6ef75b",
   "metadata": {},
   "outputs": [
    {
     "data": {
      "text/plain": [
       "'India is my blood and country. All indians are my brothers & sisters. & nothing else'"
      ]
     },
     "execution_count": 63,
     "metadata": {},
     "output_type": "execute_result"
    }
   ],
   "source": [
    "national_prayers='India is my blood & country. All indians are my brothers & sisters. & nothing else'\n",
    "national_prayers.replace('&','and',1)"
   ]
  },
  {
   "cell_type": "code",
   "execution_count": 66,
   "id": "dab27829",
   "metadata": {},
   "outputs": [
    {
     "data": {
      "text/plain": [
       "'India is my blood and country. All indians are my brothers and sisters. & nothing else'"
      ]
     },
     "execution_count": 66,
     "metadata": {},
     "output_type": "execute_result"
    }
   ],
   "source": [
    "national_prayers='India is my blood & country. All indians are my brothers & sisters. & nothing else'\n",
    "national_prayers.replace('&','and',2)"
   ]
  },
  {
   "cell_type": "code",
   "execution_count": 67,
   "id": "9171faaa",
   "metadata": {},
   "outputs": [
    {
     "data": {
      "text/plain": [
       "'India is my blood & country. All indians are my brothers and sisters. and nothing else'"
      ]
     },
     "execution_count": 67,
     "metadata": {},
     "output_type": "execute_result"
    }
   ],
   "source": [
    "national_prayers[:20]+national_prayers[20:].replace('&','and',2)"
   ]
  },
  {
   "cell_type": "code",
   "execution_count": 68,
   "id": "2e501d59",
   "metadata": {},
   "outputs": [
    {
     "data": {
      "text/plain": [
       "'python 3*9'"
      ]
     },
     "execution_count": 68,
     "metadata": {},
     "output_type": "execute_result"
    }
   ],
   "source": [
    "language = 'python 3.9'\n",
    "language.replace('.','*')"
   ]
  },
  {
   "cell_type": "code",
   "execution_count": 69,
   "id": "bbaa903d",
   "metadata": {},
   "outputs": [
    {
     "data": {
      "text/plain": [
       "'India+is+my+blood+&+country.'"
      ]
     },
     "execution_count": 69,
     "metadata": {},
     "output_type": "execute_result"
    }
   ],
   "source": [
    "words='India is my blood & country.'\n",
    "words.replace(' ','+')"
   ]
  },
  {
   "cell_type": "code",
   "execution_count": 72,
   "id": "58fab160",
   "metadata": {},
   "outputs": [
    {
     "data": {
      "text/plain": [
       "'#IndiaIsMyBlood&Country.'"
      ]
     },
     "execution_count": 72,
     "metadata": {},
     "output_type": "execute_result"
    }
   ],
   "source": [
    "'#'+words.title().replace(' ','')"
   ]
  },
  {
   "cell_type": "markdown",
   "id": "acd1fa68",
   "metadata": {},
   "source": [
    "# del"
   ]
  },
  {
   "cell_type": "raw",
   "id": "f5d9ce24",
   "metadata": {},
   "source": [
    "delete the variable storing string"
   ]
  },
  {
   "cell_type": "code",
   "execution_count": 73,
   "id": "bf005c2b",
   "metadata": {},
   "outputs": [
    {
     "data": {
      "text/plain": [
       "'Python'"
      ]
     },
     "execution_count": 73,
     "metadata": {},
     "output_type": "execute_result"
    }
   ],
   "source": [
    "var = 'Python'\n",
    "var"
   ]
  },
  {
   "cell_type": "code",
   "execution_count": 74,
   "id": "d5f329ef",
   "metadata": {},
   "outputs": [],
   "source": [
    "del var"
   ]
  },
  {
   "cell_type": "code",
   "execution_count": 75,
   "id": "23635015",
   "metadata": {},
   "outputs": [
    {
     "ename": "NameError",
     "evalue": "name 'var' is not defined",
     "output_type": "error",
     "traceback": [
      "\u001b[1;31m---------------------------------------------------------------------------\u001b[0m",
      "\u001b[1;31mNameError\u001b[0m                                 Traceback (most recent call last)",
      "\u001b[1;32m<ipython-input-75-84ddba356ca3>\u001b[0m in \u001b[0;36m<module>\u001b[1;34m\u001b[0m\n\u001b[1;32m----> 1\u001b[1;33m \u001b[0mvar\u001b[0m\u001b[1;33m\u001b[0m\u001b[1;33m\u001b[0m\u001b[0m\n\u001b[0m",
      "\u001b[1;31mNameError\u001b[0m: name 'var' is not defined"
     ]
    }
   ],
   "source": [
    "var"
   ]
  },
  {
   "cell_type": "markdown",
   "id": "5f8b6dd5",
   "metadata": {},
   "source": [
    "# len()"
   ]
  },
  {
   "cell_type": "raw",
   "id": "49b42ccb",
   "metadata": {},
   "source": [
    "counts the length of the string"
   ]
  },
  {
   "cell_type": "code",
   "execution_count": 77,
   "id": "470640a8",
   "metadata": {},
   "outputs": [
    {
     "data": {
      "text/plain": [
       "27"
      ]
     },
     "execution_count": 77,
     "metadata": {},
     "output_type": "execute_result"
    }
   ],
   "source": [
    "var = 'Python is primary language.'\n",
    "len(var)"
   ]
  },
  {
   "cell_type": "markdown",
   "id": "a2f31c35",
   "metadata": {},
   "source": [
    "# count()"
   ]
  },
  {
   "cell_type": "raw",
   "id": "868ac077",
   "metadata": {},
   "source": [
    "It counts the occurances of the substring given\n",
    "Syntax:string.count(substring,start index, end index)"
   ]
  },
  {
   "cell_type": "code",
   "execution_count": 80,
   "id": "b081678a",
   "metadata": {},
   "outputs": [
    {
     "data": {
      "text/plain": [
       "3"
      ]
     },
     "execution_count": 80,
     "metadata": {},
     "output_type": "execute_result"
    }
   ],
   "source": [
    "string = \"\"\"python PHP java c c++ are the languages. Among these python is the imp one. So let's learn python\"\"\"\n",
    "\n",
    "string.count('python')"
   ]
  },
  {
   "cell_type": "code",
   "execution_count": 81,
   "id": "7e8cea87",
   "metadata": {},
   "outputs": [
    {
     "data": {
      "text/plain": [
       "1"
      ]
     },
     "execution_count": 81,
     "metadata": {},
     "output_type": "execute_result"
    }
   ],
   "source": [
    "string.count('python',0,30)"
   ]
  },
  {
   "cell_type": "code",
   "execution_count": 82,
   "id": "2ecccf24",
   "metadata": {},
   "outputs": [
    {
     "data": {
      "text/plain": [
       "2"
      ]
     },
     "execution_count": 82,
     "metadata": {},
     "output_type": "execute_result"
    }
   ],
   "source": [
    "string.count('python',30)"
   ]
  },
  {
   "cell_type": "code",
   "execution_count": 83,
   "id": "94951359",
   "metadata": {},
   "outputs": [
    {
     "data": {
      "text/plain": [
       "2"
      ]
     },
     "execution_count": 83,
     "metadata": {},
     "output_type": "execute_result"
    }
   ],
   "source": [
    "string.count('python',30,)"
   ]
  },
  {
   "cell_type": "code",
   "execution_count": 86,
   "id": "35e6ebcb",
   "metadata": {},
   "outputs": [
    {
     "data": {
      "text/plain": [
       "1"
      ]
     },
     "execution_count": 86,
     "metadata": {},
     "output_type": "execute_result"
    }
   ],
   "source": [
    "string.count('python',30,-1)"
   ]
  },
  {
   "cell_type": "code",
   "execution_count": 87,
   "id": "c00d70be",
   "metadata": {},
   "outputs": [
    {
     "data": {
      "text/plain": [
       "0"
      ]
     },
     "execution_count": 87,
     "metadata": {},
     "output_type": "execute_result"
    }
   ],
   "source": [
    "string.count('Hypopotemous')"
   ]
  },
  {
   "cell_type": "code",
   "execution_count": 92,
   "id": "27eb3282",
   "metadata": {},
   "outputs": [
    {
     "name": "stdout",
     "output_type": "stream",
     "text": [
      "the count of lower a is:6 & the count of upper A is:1 & the total count is: 7\n"
     ]
    }
   ],
   "source": [
    "string = \"\"\"python PHP java c c++ are the languages. Among these python is the imp one. So let's learn python\"\"\"\n",
    "\n",
    "print(f\"the count of lower a is:{string.count('a')} & the count of upper A is:{string.count('A')} & the total count is: {string.count('a')+string.count('A')}\")"
   ]
  },
  {
   "cell_type": "markdown",
   "id": "34af9b95",
   "metadata": {},
   "source": [
    "# Index"
   ]
  },
  {
   "cell_type": "raw",
   "id": "235d8213",
   "metadata": {},
   "source": [
    "Finds the index of the substring\n",
    "throws error if the substring is not present\n",
    "\n",
    "Syntax: string.index(substring, start_index, end_index)"
   ]
  },
  {
   "cell_type": "code",
   "execution_count": 112,
   "id": "578d4b7c",
   "metadata": {},
   "outputs": [],
   "source": [
    "string ='python PHP java c c++ are the languages.'"
   ]
  },
  {
   "cell_type": "code",
   "execution_count": 107,
   "id": "8843ac6f",
   "metadata": {},
   "outputs": [
    {
     "data": {
      "text/plain": [
       "30"
      ]
     },
     "execution_count": 107,
     "metadata": {},
     "output_type": "execute_result"
    }
   ],
   "source": [
    "string.index('l')"
   ]
  },
  {
   "cell_type": "code",
   "execution_count": 110,
   "id": "efaff60a",
   "metadata": {},
   "outputs": [],
   "source": [
    "# 30-len(string)+1"
   ]
  },
  {
   "cell_type": "code",
   "execution_count": 96,
   "id": "d6d6656a",
   "metadata": {},
   "outputs": [
    {
     "data": {
      "text/plain": [
       "12"
      ]
     },
     "execution_count": 96,
     "metadata": {},
     "output_type": "execute_result"
    }
   ],
   "source": [
    "string.index('a')"
   ]
  },
  {
   "cell_type": "code",
   "execution_count": 114,
   "id": "bf5b7175",
   "metadata": {},
   "outputs": [
    {
     "data": {
      "text/plain": [
       "'+'"
      ]
     },
     "execution_count": 114,
     "metadata": {},
     "output_type": "execute_result"
    }
   ],
   "source": [
    "string[20]"
   ]
  },
  {
   "cell_type": "code",
   "execution_count": 97,
   "id": "7b36efeb",
   "metadata": {},
   "outputs": [
    {
     "data": {
      "text/plain": [
       "22"
      ]
     },
     "execution_count": 97,
     "metadata": {},
     "output_type": "execute_result"
    }
   ],
   "source": [
    "string.index('a',20,-1)"
   ]
  },
  {
   "cell_type": "code",
   "execution_count": 115,
   "id": "218d0ea8",
   "metadata": {},
   "outputs": [
    {
     "data": {
      "text/plain": [
       "22"
      ]
     },
     "execution_count": 115,
     "metadata": {},
     "output_type": "execute_result"
    }
   ],
   "source": [
    "string.index('a',20,)"
   ]
  },
  {
   "cell_type": "code",
   "execution_count": 116,
   "id": "7922752e",
   "metadata": {},
   "outputs": [
    {
     "data": {
      "text/plain": [
       "22"
      ]
     },
     "execution_count": 116,
     "metadata": {},
     "output_type": "execute_result"
    }
   ],
   "source": [
    "string.index('a',20)"
   ]
  },
  {
   "cell_type": "code",
   "execution_count": 98,
   "id": "38e27697",
   "metadata": {},
   "outputs": [
    {
     "data": {
      "text/plain": [
       "11"
      ]
     },
     "execution_count": 98,
     "metadata": {},
     "output_type": "execute_result"
    }
   ],
   "source": [
    "string.index('java')"
   ]
  },
  {
   "cell_type": "code",
   "execution_count": 100,
   "id": "3bb04c00",
   "metadata": {},
   "outputs": [
    {
     "data": {
      "text/plain": [
       "30"
      ]
     },
     "execution_count": 100,
     "metadata": {},
     "output_type": "execute_result"
    }
   ],
   "source": [
    "string.index('languages')"
   ]
  },
  {
   "cell_type": "code",
   "execution_count": 101,
   "id": "d03ce652",
   "metadata": {},
   "outputs": [
    {
     "ename": "ValueError",
     "evalue": "substring not found",
     "output_type": "error",
     "traceback": [
      "\u001b[1;31m---------------------------------------------------------------------------\u001b[0m",
      "\u001b[1;31mValueError\u001b[0m                                Traceback (most recent call last)",
      "\u001b[1;32m<ipython-input-101-9790d4d133ae>\u001b[0m in \u001b[0;36m<module>\u001b[1;34m\u001b[0m\n\u001b[1;32m----> 1\u001b[1;33m \u001b[0mstring\u001b[0m\u001b[1;33m.\u001b[0m\u001b[0mindex\u001b[0m\u001b[1;33m(\u001b[0m\u001b[1;34m'none'\u001b[0m\u001b[1;33m)\u001b[0m\u001b[1;33m\u001b[0m\u001b[1;33m\u001b[0m\u001b[0m\n\u001b[0m",
      "\u001b[1;31mValueError\u001b[0m: substring not found"
     ]
    }
   ],
   "source": [
    "string.index('none')"
   ]
  },
  {
   "cell_type": "markdown",
   "id": "664cc99b",
   "metadata": {},
   "source": [
    "# find"
   ]
  },
  {
   "cell_type": "raw",
   "id": "2c2a2a03",
   "metadata": {},
   "source": [
    "It finds the index of the substring\n",
    "It does not throw the error rather it returns -1 if the substring is not present however index function throws the error for the same.\n",
    "\n",
    "Syntax: string.find(substring, start_index, end_index)"
   ]
  },
  {
   "cell_type": "code",
   "execution_count": 118,
   "id": "07639f95",
   "metadata": {},
   "outputs": [
    {
     "data": {
      "text/plain": [
       "11"
      ]
     },
     "execution_count": 118,
     "metadata": {},
     "output_type": "execute_result"
    }
   ],
   "source": [
    "string ='python PHP java c c++ are the languages.'\n",
    "\n",
    "string.find('java')"
   ]
  },
  {
   "cell_type": "code",
   "execution_count": 119,
   "id": "9841342d",
   "metadata": {},
   "outputs": [
    {
     "data": {
      "text/plain": [
       "-1"
      ]
     },
     "execution_count": 119,
     "metadata": {},
     "output_type": "execute_result"
    }
   ],
   "source": [
    "string.find('hello')"
   ]
  },
  {
   "cell_type": "code",
   "execution_count": 122,
   "id": "b311cfbb",
   "metadata": {},
   "outputs": [
    {
     "name": "stdout",
     "output_type": "stream",
     "text": [
      "c+++ not found\n"
     ]
    }
   ],
   "source": [
    "if string.find('c+++') == -1:\n",
    "    print('c+++ not found')"
   ]
  },
  {
   "cell_type": "code",
   "execution_count": 123,
   "id": "ecaeb8ee",
   "metadata": {},
   "outputs": [
    {
     "ename": "ValueError",
     "evalue": "substring not found",
     "output_type": "error",
     "traceback": [
      "\u001b[1;31m---------------------------------------------------------------------------\u001b[0m",
      "\u001b[1;31mValueError\u001b[0m                                Traceback (most recent call last)",
      "\u001b[1;32m<ipython-input-123-7be4fcc41022>\u001b[0m in \u001b[0;36m<module>\u001b[1;34m\u001b[0m\n\u001b[1;32m----> 1\u001b[1;33m \u001b[1;32mif\u001b[0m \u001b[0mstring\u001b[0m\u001b[1;33m.\u001b[0m\u001b[0mindex\u001b[0m\u001b[1;33m(\u001b[0m\u001b[1;34m'c+++'\u001b[0m\u001b[1;33m)\u001b[0m\u001b[1;33m==\u001b[0m\u001b[1;33m-\u001b[0m\u001b[1;36m1\u001b[0m\u001b[1;33m:\u001b[0m\u001b[1;33m\u001b[0m\u001b[1;33m\u001b[0m\u001b[0m\n\u001b[0m\u001b[0;32m      2\u001b[0m     \u001b[0mprint\u001b[0m\u001b[1;33m(\u001b[0m\u001b[1;34m'c+++ not found'\u001b[0m\u001b[1;33m)\u001b[0m\u001b[1;33m\u001b[0m\u001b[1;33m\u001b[0m\u001b[0m\n",
      "\u001b[1;31mValueError\u001b[0m: substring not found"
     ]
    }
   ],
   "source": [
    "if string.index('c+++')==-1:\n",
    "    print('c+++ not found')"
   ]
  },
  {
   "cell_type": "code",
   "execution_count": 125,
   "id": "5c6e5c4a",
   "metadata": {},
   "outputs": [
    {
     "name": "stdout",
     "output_type": "stream",
     "text": [
      "java found\n"
     ]
    }
   ],
   "source": [
    "if string.count('java')>0:\n",
    "    print('java found')"
   ]
  },
  {
   "cell_type": "code",
   "execution_count": 126,
   "id": "65c39bf4",
   "metadata": {},
   "outputs": [
    {
     "name": "stdout",
     "output_type": "stream",
     "text": [
      "string id palindrome\n"
     ]
    }
   ],
   "source": [
    "Palindrome = 'PHP'\n",
    "\n",
    "if Palindrome[::-1]==Palindrome:\n",
    "    print('string id palindrome')"
   ]
  },
  {
   "cell_type": "code",
   "execution_count": 127,
   "id": "815e1f35",
   "metadata": {},
   "outputs": [
    {
     "data": {
      "text/plain": [
       "True"
      ]
     },
     "execution_count": 127,
     "metadata": {},
     "output_type": "execute_result"
    }
   ],
   "source": [
    "word = 'hannah'\n",
    "word[::-1]==word"
   ]
  },
  {
   "cell_type": "markdown",
   "id": "9134c9fd",
   "metadata": {},
   "source": [
    "# Split()"
   ]
  },
  {
   "cell_type": "raw",
   "id": "da40f0e3",
   "metadata": {},
   "source": [
    "split will actually divide the string & return the words in a list format\n",
    "by default splitting parameter is space"
   ]
  },
  {
   "cell_type": "code",
   "execution_count": 128,
   "id": "b7531509",
   "metadata": {},
   "outputs": [],
   "source": [
    "string = 'Python is really intresting. is this what you also feel?'\n"
   ]
  },
  {
   "cell_type": "code",
   "execution_count": 129,
   "id": "5e7375eb",
   "metadata": {},
   "outputs": [
    {
     "data": {
      "text/plain": [
       "['Python',\n",
       " 'is',\n",
       " 'really',\n",
       " 'intresting.',\n",
       " 'is',\n",
       " 'this',\n",
       " 'what',\n",
       " 'you',\n",
       " 'also',\n",
       " 'feel?']"
      ]
     },
     "execution_count": 129,
     "metadata": {},
     "output_type": "execute_result"
    }
   ],
   "source": [
    "string.split()"
   ]
  },
  {
   "cell_type": "code",
   "execution_count": 131,
   "id": "04fe6309",
   "metadata": {},
   "outputs": [
    {
     "data": {
      "text/plain": [
       "10"
      ]
     },
     "execution_count": 131,
     "metadata": {},
     "output_type": "execute_result"
    }
   ],
   "source": [
    "list1 = string.split()\n",
    "len(list1)"
   ]
  },
  {
   "cell_type": "code",
   "execution_count": 133,
   "id": "2158df09",
   "metadata": {},
   "outputs": [
    {
     "data": {
      "text/plain": [
       "['Python', 'really intresting.', 'this what you also feel?']"
      ]
     },
     "execution_count": 133,
     "metadata": {},
     "output_type": "execute_result"
    }
   ],
   "source": [
    "string.split(' is ')"
   ]
  },
  {
   "cell_type": "code",
   "execution_count": 135,
   "id": "feaf21a0",
   "metadata": {},
   "outputs": [
    {
     "data": {
      "text/plain": [
       "['Python is really intresting', ' Hope you feel the same', ' Sounds good']"
      ]
     },
     "execution_count": 135,
     "metadata": {},
     "output_type": "execute_result"
    }
   ],
   "source": [
    "data = \"\"\"Python is really intresting. Hope you feel the same. Sounds good\"\"\"\n",
    "processed_data = data.split('.')\n",
    "processed_data"
   ]
  },
  {
   "cell_type": "code",
   "execution_count": 137,
   "id": "d7b61c89",
   "metadata": {},
   "outputs": [
    {
     "data": {
      "text/plain": [
       "'PYTHON IS REALLY INTRESTING'"
      ]
     },
     "execution_count": 137,
     "metadata": {},
     "output_type": "execute_result"
    }
   ],
   "source": [
    "processed_data[0].upper()"
   ]
  },
  {
   "cell_type": "code",
   "execution_count": 139,
   "id": "388492eb",
   "metadata": {},
   "outputs": [
    {
     "name": "stdout",
     "output_type": "stream",
     "text": [
      "PYTHON IS REALLY INTRESTING\n",
      "HOPE YOU FEEL THE SAME\n",
      "SOUNDS GOOD\n"
     ]
    }
   ],
   "source": [
    "for i in processed_data:\n",
    "    print(i.upper().strip())"
   ]
  },
  {
   "cell_type": "code",
   "execution_count": 140,
   "id": "42415605",
   "metadata": {},
   "outputs": [
    {
     "data": {
      "text/plain": [
       "['python']"
      ]
     },
     "execution_count": 140,
     "metadata": {},
     "output_type": "execute_result"
    }
   ],
   "source": [
    "word = 'python'\n",
    "word.split()"
   ]
  },
  {
   "cell_type": "markdown",
   "id": "02e3ef4e",
   "metadata": {},
   "source": [
    "# join()"
   ]
  },
  {
   "cell_type": "code",
   "execution_count": 141,
   "id": "43cc8222",
   "metadata": {},
   "outputs": [
    {
     "data": {
      "text/plain": [
       "['Python is really intresting', ' Hope you feel the same', ' Sounds good']"
      ]
     },
     "execution_count": 141,
     "metadata": {},
     "output_type": "execute_result"
    }
   ],
   "source": [
    "data = \"\"\"Python is really intresting. Hope you feel the same. Sounds good\"\"\"\n",
    "processed_data = data.split('.')\n",
    "processed_data"
   ]
  },
  {
   "cell_type": "code",
   "execution_count": 142,
   "id": "6a6b6022",
   "metadata": {},
   "outputs": [
    {
     "data": {
      "text/plain": [
       "'Python is really intresting. Hope you feel the same. Sounds good'"
      ]
     },
     "execution_count": 142,
     "metadata": {},
     "output_type": "execute_result"
    }
   ],
   "source": [
    "'.'.join(processed_data)"
   ]
  },
  {
   "cell_type": "code",
   "execution_count": 143,
   "id": "5dc7a34b",
   "metadata": {},
   "outputs": [
    {
     "data": {
      "text/plain": [
       "'Python is really intresting/ Hope you feel the same/ Sounds good'"
      ]
     },
     "execution_count": 143,
     "metadata": {},
     "output_type": "execute_result"
    }
   ],
   "source": [
    "'/'.join(processed_data)"
   ]
  },
  {
   "cell_type": "code",
   "execution_count": 144,
   "id": "70364573",
   "metadata": {},
   "outputs": [
    {
     "data": {
      "text/plain": [
       "'Python is really intresting+ Hope you feel the same+ Sounds good'"
      ]
     },
     "execution_count": 144,
     "metadata": {},
     "output_type": "execute_result"
    }
   ],
   "source": [
    "'+'.join(processed_data)"
   ]
  },
  {
   "cell_type": "code",
   "execution_count": 145,
   "id": "4b7cd3f2",
   "metadata": {},
   "outputs": [
    {
     "data": {
      "text/plain": [
       "'Python is really intresting  Hope you feel the same  Sounds good'"
      ]
     },
     "execution_count": 145,
     "metadata": {},
     "output_type": "execute_result"
    }
   ],
   "source": [
    "' '.join(processed_data)"
   ]
  },
  {
   "cell_type": "code",
   "execution_count": 146,
   "id": "7a65dee8",
   "metadata": {},
   "outputs": [
    {
     "data": {
      "text/plain": [
       "'Python is really intresting Hope you feel the same Sounds good'"
      ]
     },
     "execution_count": 146,
     "metadata": {},
     "output_type": "execute_result"
    }
   ],
   "source": [
    "''.join(processed_data)"
   ]
  },
  {
   "cell_type": "code",
   "execution_count": 150,
   "id": "6eb4ba6c",
   "metadata": {},
   "outputs": [
    {
     "data": {
      "text/plain": [
       "'Python is really intresting  Hope you feel the same'"
      ]
     },
     "execution_count": 150,
     "metadata": {},
     "output_type": "execute_result"
    }
   ],
   "source": [
    "list_new = processed_data[:2]\n",
    "' '.join(list_new)"
   ]
  },
  {
   "cell_type": "code",
   "execution_count": null,
   "id": "aaf51197",
   "metadata": {},
   "outputs": [],
   "source": []
  }
 ],
 "metadata": {
  "kernelspec": {
   "display_name": "Python 3",
   "language": "python",
   "name": "python3"
  },
  "language_info": {
   "codemirror_mode": {
    "name": "ipython",
    "version": 3
   },
   "file_extension": ".py",
   "mimetype": "text/x-python",
   "name": "python",
   "nbconvert_exporter": "python",
   "pygments_lexer": "ipython3",
   "version": "3.8.8"
  },
  "toc": {
   "base_numbering": 1,
   "nav_menu": {},
   "number_sections": true,
   "sideBar": true,
   "skip_h1_title": false,
   "title_cell": "Table of Contents",
   "title_sidebar": "Contents",
   "toc_cell": false,
   "toc_position": {},
   "toc_section_display": true,
   "toc_window_display": false
  },
  "varInspector": {
   "cols": {
    "lenName": 16,
    "lenType": 16,
    "lenVar": 40
   },
   "kernels_config": {
    "python": {
     "delete_cmd_postfix": "",
     "delete_cmd_prefix": "del ",
     "library": "var_list.py",
     "varRefreshCmd": "print(var_dic_list())"
    },
    "r": {
     "delete_cmd_postfix": ") ",
     "delete_cmd_prefix": "rm(",
     "library": "var_list.r",
     "varRefreshCmd": "cat(var_dic_list()) "
    }
   },
   "types_to_exclude": [
    "module",
    "function",
    "builtin_function_or_method",
    "instance",
    "_Feature"
   ],
   "window_display": false
  }
 },
 "nbformat": 4,
 "nbformat_minor": 5
}

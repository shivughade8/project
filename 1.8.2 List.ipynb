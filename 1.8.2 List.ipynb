{
 "cells": [
  {
   "cell_type": "code",
   "execution_count": 1,
   "id": "e28877d1",
   "metadata": {},
   "outputs": [
    {
     "data": {
      "text/plain": [
       "[1, 2, 3, 4]"
      ]
     },
     "execution_count": 1,
     "metadata": {},
     "output_type": "execute_result"
    }
   ],
   "source": [
    "new_list = [1,2,3,4]\n",
    "new_list"
   ]
  },
  {
   "cell_type": "code",
   "execution_count": 3,
   "id": "03b768c7",
   "metadata": {},
   "outputs": [
    {
     "data": {
      "text/plain": [
       "list"
      ]
     },
     "execution_count": 3,
     "metadata": {},
     "output_type": "execute_result"
    }
   ],
   "source": [
    "type(new_list)"
   ]
  },
  {
   "cell_type": "markdown",
   "id": "4fe70d58",
   "metadata": {},
   "source": [
    "# List"
   ]
  },
  {
   "cell_type": "raw",
   "id": "6ccb0ced",
   "metadata": {},
   "source": [
    "List is a collection of items or entities that are encloesed in square braces [] & separated by commas.\n",
    "List is used to store multiple items & these items can also have different data type. Typically a list can contain int, float, complex, string, list, tuple, set, dict, series, True, False, Dataframe, models\n",
    "\n",
    "List returns ordered data. Meaning whenever a list is called, it returns data is the same order as int the list.\n",
    "Mutable (changed, edited, modified) : the values in the list can be modified\n",
    "Mutable data types are the ones which can be modified by accessing index.\n",
    "When the id location changes, they are immutable else mutable.\n",
    "List allows duplicate items"
   ]
  },
  {
   "cell_type": "code",
   "execution_count": 5,
   "id": "be4f181d",
   "metadata": {},
   "outputs": [
    {
     "data": {
      "text/plain": [
       "[1,\n",
       " 1.2,\n",
       " (3+4j),\n",
       " [2, 3, 4],\n",
       " ('Hi', 'Hello'),\n",
       " {3, 6, 7},\n",
       " {'A': 1, 'B': 2},\n",
       " True,\n",
       " False,\n",
       " 1,\n",
       " 1.2,\n",
       " 'string',\n",
       " '$']"
      ]
     },
     "execution_count": 5,
     "metadata": {},
     "output_type": "execute_result"
    }
   ],
   "source": [
    "list1 = [1,1.2,3+4j,[2,3,4],('Hi','Hello'),{3,6,7},{'A':1,'B':2},True,False,1,1.2,'string','$']\n",
    "list1"
   ]
  },
  {
   "cell_type": "markdown",
   "id": "6039e053",
   "metadata": {},
   "source": [
    "# defining an empty list"
   ]
  },
  {
   "cell_type": "code",
   "execution_count": 7,
   "id": "71dc1571",
   "metadata": {},
   "outputs": [
    {
     "data": {
      "text/plain": [
       "[]"
      ]
     },
     "execution_count": 7,
     "metadata": {},
     "output_type": "execute_result"
    }
   ],
   "source": [
    "list1 = list()\n",
    "list1"
   ]
  },
  {
   "cell_type": "code",
   "execution_count": 8,
   "id": "5da0e1ff",
   "metadata": {},
   "outputs": [
    {
     "data": {
      "text/plain": [
       "[]"
      ]
     },
     "execution_count": 8,
     "metadata": {},
     "output_type": "execute_result"
    }
   ],
   "source": [
    "list2 = []\n",
    "list2"
   ]
  },
  {
   "cell_type": "code",
   "execution_count": 9,
   "id": "ae44c80c",
   "metadata": {},
   "outputs": [
    {
     "data": {
      "text/plain": [
       "list"
      ]
     },
     "execution_count": 9,
     "metadata": {},
     "output_type": "execute_result"
    }
   ],
   "source": [
    "type(list2)"
   ]
  },
  {
   "cell_type": "markdown",
   "id": "ec80de63",
   "metadata": {},
   "source": [
    "# indexing"
   ]
  },
  {
   "cell_type": "raw",
   "id": "ddc90e55",
   "metadata": {},
   "source": [
    "indexing is same as that of string\n",
    "\n",
    "indexing starts from 0 for positive indices\n",
    "indexing starts from -1 for negative indices\n"
   ]
  },
  {
   "cell_type": "code",
   "execution_count": 10,
   "id": "0223cd8c",
   "metadata": {},
   "outputs": [
    {
     "data": {
      "text/plain": [
       "[1, 4, ['Hi', 'hello', 'Namaste', 'Shashriyakal'], 7, 2, 'Python', 8.9]"
      ]
     },
     "execution_count": 10,
     "metadata": {},
     "output_type": "execute_result"
    }
   ],
   "source": [
    "list1 = [1,4,['Hi','hello','Namaste','Shashriyakal'],7,2,'Python',8.9]\n",
    "list1"
   ]
  },
  {
   "cell_type": "code",
   "execution_count": 11,
   "id": "d16bc7e1",
   "metadata": {},
   "outputs": [
    {
     "data": {
      "text/plain": [
       "1"
      ]
     },
     "execution_count": 11,
     "metadata": {},
     "output_type": "execute_result"
    }
   ],
   "source": [
    "list1[0]"
   ]
  },
  {
   "cell_type": "code",
   "execution_count": 12,
   "id": "2628126e",
   "metadata": {},
   "outputs": [
    {
     "data": {
      "text/plain": [
       "8.9"
      ]
     },
     "execution_count": 12,
     "metadata": {},
     "output_type": "execute_result"
    }
   ],
   "source": [
    "list1[-1]"
   ]
  },
  {
   "cell_type": "code",
   "execution_count": 14,
   "id": "e77366c2",
   "metadata": {},
   "outputs": [
    {
     "data": {
      "text/plain": [
       "['Hi', 'hello', 'Namaste', 'Shashriyakal']"
      ]
     },
     "execution_count": 14,
     "metadata": {},
     "output_type": "execute_result"
    }
   ],
   "source": [
    "insider_info = list1[2]\n",
    "insider_info"
   ]
  },
  {
   "cell_type": "code",
   "execution_count": 16,
   "id": "7c7383ca",
   "metadata": {},
   "outputs": [
    {
     "data": {
      "text/plain": [
       "'Namaste'"
      ]
     },
     "execution_count": 16,
     "metadata": {},
     "output_type": "execute_result"
    }
   ],
   "source": [
    "insider_info[-2]"
   ]
  },
  {
   "cell_type": "code",
   "execution_count": 17,
   "id": "358fa0ce",
   "metadata": {},
   "outputs": [
    {
     "data": {
      "text/plain": [
       "'Namaste'"
      ]
     },
     "execution_count": 17,
     "metadata": {},
     "output_type": "execute_result"
    }
   ],
   "source": [
    "list1[2][-2]"
   ]
  },
  {
   "cell_type": "code",
   "execution_count": 18,
   "id": "5ed5918e",
   "metadata": {},
   "outputs": [
    {
     "data": {
      "text/plain": [
       "'Namaste'"
      ]
     },
     "execution_count": 18,
     "metadata": {},
     "output_type": "execute_result"
    }
   ],
   "source": [
    "list1[2][2]"
   ]
  },
  {
   "cell_type": "code",
   "execution_count": 19,
   "id": "4a45b16d",
   "metadata": {},
   "outputs": [
    {
     "data": {
      "text/plain": [
       "'hello'"
      ]
     },
     "execution_count": 19,
     "metadata": {},
     "output_type": "execute_result"
    }
   ],
   "source": [
    "list1[2][1]"
   ]
  },
  {
   "cell_type": "markdown",
   "id": "23014a5b",
   "metadata": {},
   "source": [
    "# slicing"
   ]
  },
  {
   "cell_type": "code",
   "execution_count": null,
   "id": "f3f4ef23",
   "metadata": {},
   "outputs": [],
   "source": [
    "1   3  5  'hi'     #items of list\n",
    "0   1  2  3        #positive index\n",
    "-4 -3 -2 -1        #negative index"
   ]
  },
  {
   "cell_type": "code",
   "execution_count": 20,
   "id": "8ac221d4",
   "metadata": {},
   "outputs": [
    {
     "data": {
      "text/plain": [
       "[1, 4, 7, 2, 5, 0]"
      ]
     },
     "execution_count": 20,
     "metadata": {},
     "output_type": "execute_result"
    }
   ],
   "source": [
    "list1 = [1,4,7,2,5,0]\n",
    "list1"
   ]
  },
  {
   "cell_type": "code",
   "execution_count": 21,
   "id": "4fded114",
   "metadata": {},
   "outputs": [
    {
     "data": {
      "text/plain": [
       "[1, 4, 7, 2, 5, 0]"
      ]
     },
     "execution_count": 21,
     "metadata": {},
     "output_type": "execute_result"
    }
   ],
   "source": [
    "list1[:]"
   ]
  },
  {
   "cell_type": "code",
   "execution_count": 22,
   "id": "4f49f6b2",
   "metadata": {},
   "outputs": [
    {
     "data": {
      "text/plain": [
       "[4, 7, 2, 5]"
      ]
     },
     "execution_count": 22,
     "metadata": {},
     "output_type": "execute_result"
    }
   ],
   "source": [
    "list1[1:5]"
   ]
  },
  {
   "cell_type": "code",
   "execution_count": 23,
   "id": "b3f4beaf",
   "metadata": {},
   "outputs": [
    {
     "data": {
      "text/plain": [
       "[4, 7, 2, 5]"
      ]
     },
     "execution_count": 23,
     "metadata": {},
     "output_type": "execute_result"
    }
   ],
   "source": [
    "list1[1:5:1]"
   ]
  },
  {
   "cell_type": "code",
   "execution_count": 24,
   "id": "dedeca22",
   "metadata": {},
   "outputs": [
    {
     "data": {
      "text/plain": [
       "[4, 2]"
      ]
     },
     "execution_count": 24,
     "metadata": {},
     "output_type": "execute_result"
    }
   ],
   "source": [
    "list1[1:5:2]"
   ]
  },
  {
   "cell_type": "code",
   "execution_count": 25,
   "id": "a3eb7b32",
   "metadata": {},
   "outputs": [
    {
     "data": {
      "text/plain": [
       "[0, 5, 2, 7]"
      ]
     },
     "execution_count": 25,
     "metadata": {},
     "output_type": "execute_result"
    }
   ],
   "source": [
    "list1[-1:-5:-1]"
   ]
  },
  {
   "cell_type": "code",
   "execution_count": 26,
   "id": "e7f31d3a",
   "metadata": {},
   "outputs": [
    {
     "data": {
      "text/plain": [
       "[0, 2]"
      ]
     },
     "execution_count": 26,
     "metadata": {},
     "output_type": "execute_result"
    }
   ],
   "source": [
    "list1[-1:-5:-2]"
   ]
  },
  {
   "cell_type": "code",
   "execution_count": 27,
   "id": "4ddcdf43",
   "metadata": {},
   "outputs": [
    {
     "data": {
      "text/plain": [
       "1"
      ]
     },
     "execution_count": 27,
     "metadata": {},
     "output_type": "execute_result"
    }
   ],
   "source": [
    "dummy_list = [1,3,4,'Hello']\n",
    "\n",
    "dummy_list[2] - dummy_list[1]      # 4-3"
   ]
  },
  {
   "cell_type": "code",
   "execution_count": 30,
   "id": "0cb93076",
   "metadata": {},
   "outputs": [
    {
     "ename": "TypeError",
     "evalue": "unsupported operand type(s) for -: 'str' and 'int'",
     "output_type": "error",
     "traceback": [
      "\u001b[1;31m---------------------------------------------------------------------------\u001b[0m",
      "\u001b[1;31mTypeError\u001b[0m                                 Traceback (most recent call last)",
      "\u001b[1;32m<ipython-input-30-57acb57b25dc>\u001b[0m in \u001b[0;36m<module>\u001b[1;34m\u001b[0m\n\u001b[1;32m----> 1\u001b[1;33m \u001b[0mdummy_list\u001b[0m\u001b[1;33m[\u001b[0m\u001b[1;36m3\u001b[0m\u001b[1;33m]\u001b[0m \u001b[1;33m-\u001b[0m \u001b[0mdummy_list\u001b[0m\u001b[1;33m[\u001b[0m\u001b[1;36m1\u001b[0m\u001b[1;33m]\u001b[0m\u001b[1;33m\u001b[0m\u001b[1;33m\u001b[0m\u001b[0m\n\u001b[0m",
      "\u001b[1;31mTypeError\u001b[0m: unsupported operand type(s) for -: 'str' and 'int'"
     ]
    }
   ],
   "source": [
    "dummy_list[3] - dummy_list[1]"
   ]
  },
  {
   "cell_type": "code",
   "execution_count": 32,
   "id": "aa90e6ab",
   "metadata": {},
   "outputs": [
    {
     "data": {
      "text/plain": [
       "[22, 33]"
      ]
     },
     "execution_count": 32,
     "metadata": {},
     "output_type": "execute_result"
    }
   ],
   "source": [
    "list3 = [3,[11,22,33],4,5,8]\n",
    "\n",
    "list3[1][1:]"
   ]
  },
  {
   "cell_type": "markdown",
   "id": "2b606007",
   "metadata": {},
   "source": [
    "# reversing a list"
   ]
  },
  {
   "cell_type": "markdown",
   "id": "78651fa0",
   "metadata": {},
   "source": [
    "### reversing using slicing"
   ]
  },
  {
   "cell_type": "code",
   "execution_count": 43,
   "id": "7ae518d2",
   "metadata": {},
   "outputs": [],
   "source": [
    "list3 = [1,2,3,4,5,6,7]"
   ]
  },
  {
   "cell_type": "code",
   "execution_count": 40,
   "id": "f8f0bf54",
   "metadata": {},
   "outputs": [
    {
     "data": {
      "text/plain": [
       "[7, 6, 5, 4, 3, 2, 1]"
      ]
     },
     "execution_count": 40,
     "metadata": {},
     "output_type": "execute_result"
    }
   ],
   "source": [
    "list3[::-1]"
   ]
  },
  {
   "cell_type": "code",
   "execution_count": 41,
   "id": "ae72414c",
   "metadata": {},
   "outputs": [
    {
     "data": {
      "text/plain": [
       "[1, 2, 3, 4, 5, 6, 7]"
      ]
     },
     "execution_count": 41,
     "metadata": {},
     "output_type": "execute_result"
    }
   ],
   "source": [
    "list3"
   ]
  },
  {
   "cell_type": "code",
   "execution_count": 44,
   "id": "735ee7af",
   "metadata": {},
   "outputs": [
    {
     "data": {
      "text/plain": [
       "[7, 6, 5, 4, 3, 2, 1]"
      ]
     },
     "execution_count": 44,
     "metadata": {},
     "output_type": "execute_result"
    }
   ],
   "source": [
    "list3 = list3[::-1]\n",
    "list3"
   ]
  },
  {
   "cell_type": "markdown",
   "id": "832e8378",
   "metadata": {},
   "source": [
    "### using reverse function"
   ]
  },
  {
   "cell_type": "code",
   "execution_count": 37,
   "id": "fce50ea7",
   "metadata": {},
   "outputs": [],
   "source": [
    "list3.reverse()"
   ]
  },
  {
   "cell_type": "code",
   "execution_count": 38,
   "id": "8d44bd78",
   "metadata": {},
   "outputs": [
    {
     "data": {
      "text/plain": [
       "[7, 6, 5, 4, 3, 2, 1]"
      ]
     },
     "execution_count": 38,
     "metadata": {},
     "output_type": "execute_result"
    }
   ],
   "source": [
    "list3"
   ]
  },
  {
   "cell_type": "markdown",
   "id": "4e2d5cb7",
   "metadata": {},
   "source": [
    "### using reversed function"
   ]
  },
  {
   "cell_type": "code",
   "execution_count": 46,
   "id": "434fd6ab",
   "metadata": {},
   "outputs": [
    {
     "data": {
      "text/plain": [
       "[7, 6, 5, 4, 3, 2, 1]"
      ]
     },
     "execution_count": 46,
     "metadata": {},
     "output_type": "execute_result"
    }
   ],
   "source": [
    "list3 = [1,2,3,4,5,6,7]\n",
    "list(reversed(list3))"
   ]
  },
  {
   "cell_type": "code",
   "execution_count": 47,
   "id": "abf70565",
   "metadata": {},
   "outputs": [
    {
     "data": {
      "text/plain": [
       "[1, 2, 3, 4, 5, 6, 7]"
      ]
     },
     "execution_count": 47,
     "metadata": {},
     "output_type": "execute_result"
    }
   ],
   "source": [
    "list3"
   ]
  },
  {
   "cell_type": "code",
   "execution_count": 49,
   "id": "6b781c9b",
   "metadata": {},
   "outputs": [
    {
     "data": {
      "text/plain": [
       "<list_reverseiterator at 0x18998fffc10>"
      ]
     },
     "execution_count": 49,
     "metadata": {},
     "output_type": "execute_result"
    }
   ],
   "source": [
    "reversed(list3)"
   ]
  },
  {
   "cell_type": "code",
   "execution_count": 52,
   "id": "264f21ea",
   "metadata": {},
   "outputs": [
    {
     "data": {
      "text/plain": [
       "[8, 5, 4, [33, 22, 11], 3]"
      ]
     },
     "execution_count": 52,
     "metadata": {},
     "output_type": "execute_result"
    }
   ],
   "source": [
    "list3 = [3,[11,22,33],4,5,8]\n",
    "\n",
    "list3[1] = list3[1][::-1]\n",
    "\n",
    "list3.reverse()\n",
    "list3"
   ]
  },
  {
   "cell_type": "code",
   "execution_count": 55,
   "id": "700105a0",
   "metadata": {},
   "outputs": [
    {
     "data": {
      "text/plain": [
       "['hello', 8, 5, 4, [11, 22, 33], 3]"
      ]
     },
     "execution_count": 55,
     "metadata": {},
     "output_type": "execute_result"
    }
   ],
   "source": [
    "list3 = [3,[11,22,33],4,5,8,'hello']\n",
    "list3.reverse()\n",
    "list3"
   ]
  },
  {
   "cell_type": "markdown",
   "id": "d04a7811",
   "metadata": {},
   "source": [
    "# accessing items in list"
   ]
  },
  {
   "cell_type": "code",
   "execution_count": 57,
   "id": "1db6f29a",
   "metadata": {},
   "outputs": [
    {
     "name": "stdout",
     "output_type": "stream",
     "text": [
      "Gadchiroli\n",
      "Satara\n",
      "Solapur\n",
      "Amravati\n",
      "Kolhapur\n",
      "Nashik\n",
      "Pune\n",
      "Jalgaon\n"
     ]
    }
   ],
   "source": [
    "cities = ['Gadchiroli','Satara','Solapur','Amravati','Kolhapur','Nashik','Pune','Jalgaon']\n",
    "\n",
    "for city in cities:\n",
    "    print(city)"
   ]
  },
  {
   "cell_type": "code",
   "execution_count": 58,
   "id": "d2bd7cd5",
   "metadata": {},
   "outputs": [
    {
     "name": "stdout",
     "output_type": "stream",
     "text": [
      "Gadchiroli Satara Solapur Amravati Kolhapur Nashik Pune Jalgaon "
     ]
    }
   ],
   "source": [
    "for city in cities:\n",
    "    print(city,end=' ')"
   ]
  },
  {
   "cell_type": "code",
   "execution_count": 61,
   "id": "75d7f830",
   "metadata": {},
   "outputs": [
    {
     "name": "stdout",
     "output_type": "stream",
     "text": [
      "index is  0  & city is  Gadchiroli\n",
      "index is  1  & city is  Satara\n",
      "index is  2  & city is  Solapur\n",
      "index is  3  & city is  Amravati\n",
      "index is  4  & city is  Kolhapur\n",
      "index is  5  & city is  Nashik\n",
      "index is  6  & city is  Pune\n",
      "index is  7  & city is  Jalgaon\n"
     ]
    }
   ],
   "source": [
    "cities = ['Gadchiroli','Satara','Solapur','Amravati','Kolhapur','Nashik','Pune','Jalgaon']\n",
    "index = 0\n",
    "\n",
    "for city in cities:\n",
    "    print('index is ',index,' & city is ',city)\n",
    "    index = index + 1"
   ]
  },
  {
   "cell_type": "code",
   "execution_count": 65,
   "id": "769b9c2e",
   "metadata": {},
   "outputs": [
    {
     "name": "stdout",
     "output_type": "stream",
     "text": [
      "(0, 'Gadchiroli')\n",
      "(1, 'Satara')\n",
      "(2, 'Solapur')\n",
      "(3, 'Amravati')\n",
      "(4, 'Kolhapur')\n",
      "(5, 'Nashik')\n",
      "(6, 'Pune')\n",
      "(7, 'Jalgaon')\n"
     ]
    }
   ],
   "source": [
    "for city in enumerate(cities):\n",
    "    print(city)"
   ]
  },
  {
   "cell_type": "code",
   "execution_count": 68,
   "id": "8e262a9c",
   "metadata": {},
   "outputs": [
    {
     "name": "stdout",
     "output_type": "stream",
     "text": [
      "0 >> Gadchiroli\n",
      "1 >> Satara\n",
      "2 >> Solapur\n",
      "3 >> Amravati\n",
      "4 >> Kolhapur\n",
      "5 >> Nashik\n",
      "6 >> Pune\n",
      "7 >> Jalgaon\n"
     ]
    }
   ],
   "source": [
    "for city in enumerate(cities):\n",
    "    print(city[0],city[1],sep=' >> ')"
   ]
  },
  {
   "cell_type": "code",
   "execution_count": 70,
   "id": "824ae894",
   "metadata": {},
   "outputs": [
    {
     "name": "stdout",
     "output_type": "stream",
     "text": [
      "0 Gadchiroli\n",
      "1 Satara\n",
      "2 Solapur\n",
      "3 Amravati\n",
      "4 Kolhapur\n",
      "5 Nashik\n",
      "6 Pune\n",
      "7 Jalgaon\n"
     ]
    }
   ],
   "source": [
    "for index,city in enumerate(cities):\n",
    "    print(index,city)"
   ]
  },
  {
   "cell_type": "code",
   "execution_count": 77,
   "id": "242bc710",
   "metadata": {},
   "outputs": [
    {
     "name": "stdout",
     "output_type": "stream",
     "text": [
      "Gadchiroli 1\n",
      "Satara 2\n",
      "Solapur 3\n",
      "Amravati 4\n",
      "Kolhapur 5\n",
      "Nashik 6\n",
      "Pune 7\n",
      "Jalgaon 8\n"
     ]
    }
   ],
   "source": [
    "for index,city in enumerate(cities):\n",
    "    print(city,index)"
   ]
  },
  {
   "cell_type": "code",
   "execution_count": 78,
   "id": "03e04047",
   "metadata": {},
   "outputs": [
    {
     "name": "stdout",
     "output_type": "stream",
     "text": [
      "Gadchiroli 1\n",
      "Satara 2\n",
      "Solapur 3\n",
      "Amravati 4\n",
      "Kolhapur 5\n",
      "Nashik 6\n",
      "Pune 7\n",
      "Jalgaon 8\n"
     ]
    }
   ],
   "source": [
    "for index,city in enumerate(cities):\n",
    "    print(city,index+1)"
   ]
  },
  {
   "cell_type": "code",
   "execution_count": 76,
   "id": "d528d44a",
   "metadata": {},
   "outputs": [
    {
     "name": "stdout",
     "output_type": "stream",
     "text": [
      "2\n",
      "Mumbai\n"
     ]
    }
   ],
   "source": [
    "index,city = (2,'Mumbai')\n",
    "print(index)\n",
    "print(city)"
   ]
  },
  {
   "cell_type": "code",
   "execution_count": 64,
   "id": "05902eae",
   "metadata": {
    "scrolled": true
   },
   "outputs": [
    {
     "name": "stdout",
     "output_type": "stream",
     "text": [
      "Solapur\n",
      "Amravati\n",
      "Kolhapur\n",
      "Nashik\n"
     ]
    }
   ],
   "source": [
    "for item in cities[2:-2]:\n",
    "    print(item)"
   ]
  },
  {
   "cell_type": "code",
   "execution_count": 82,
   "id": "1db926a5",
   "metadata": {},
   "outputs": [
    {
     "data": {
      "text/plain": [
       "6"
      ]
     },
     "execution_count": 82,
     "metadata": {},
     "output_type": "execute_result"
    }
   ],
   "source": [
    "list1 = [2,3,5,6,7,'Class']\n",
    "len(list1)"
   ]
  },
  {
   "cell_type": "code",
   "execution_count": null,
   "id": "2acb5c93",
   "metadata": {},
   "outputs": [],
   "source": []
  }
 ],
 "metadata": {
  "kernelspec": {
   "display_name": "Python 3 (ipykernel)",
   "language": "python",
   "name": "python3"
  },
  "language_info": {
   "codemirror_mode": {
    "name": "ipython",
    "version": 3
   },
   "file_extension": ".py",
   "mimetype": "text/x-python",
   "name": "python",
   "nbconvert_exporter": "python",
   "pygments_lexer": "ipython3",
   "version": "3.9.12"
  },
  "toc": {
   "base_numbering": 1,
   "nav_menu": {},
   "number_sections": true,
   "sideBar": true,
   "skip_h1_title": false,
   "title_cell": "Table of Contents",
   "title_sidebar": "Contents",
   "toc_cell": false,
   "toc_position": {},
   "toc_section_display": true,
   "toc_window_display": false
  },
  "varInspector": {
   "cols": {
    "lenName": 16,
    "lenType": 16,
    "lenVar": 40
   },
   "kernels_config": {
    "python": {
     "delete_cmd_postfix": "",
     "delete_cmd_prefix": "del ",
     "library": "var_list.py",
     "varRefreshCmd": "print(var_dic_list())"
    },
    "r": {
     "delete_cmd_postfix": ") ",
     "delete_cmd_prefix": "rm(",
     "library": "var_list.r",
     "varRefreshCmd": "cat(var_dic_list()) "
    }
   },
   "types_to_exclude": [
    "module",
    "function",
    "builtin_function_or_method",
    "instance",
    "_Feature"
   ],
   "window_display": false
  }
 },
 "nbformat": 4,
 "nbformat_minor": 5
}

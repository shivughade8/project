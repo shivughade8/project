{
 "cells": [
  {
   "cell_type": "raw",
   "id": "d5fed5ac",
   "metadata": {},
   "source": [
    "Modules:\n",
    "    is a file that contains python classes & function/methods.\n",
    "    They are used for code reusability, hiding the information/codes & using them in another .ipynb or .py file\n",
    "    It is nothing but .py file"
   ]
  },
  {
   "cell_type": "raw",
   "id": "2e57986e",
   "metadata": {},
   "source": [
    "syntax:\n",
    "    from module_name import function_name\n",
    "    from module_name import * (* is used for importing all the functions from that file)\n",
    "    import module_name\n",
    "    import module_name as md"
   ]
  },
  {
   "cell_type": "raw",
   "id": "f97e161c",
   "metadata": {},
   "source": [
    "Whenever we need to call a function or vairable or a class from any perticular module:\n",
    "    1. Trace the location where that module is\n",
    "    2. know what is your current working location\n",
    "    3. either you switch to taht location or call that file from that location by passing the file path\n",
    "    4. by calling on module name we can access all its functionalities.\n",
    "    \n",
    "eg. from folder_name.module_name import function_name"
   ]
  },
  {
   "cell_type": "markdown",
   "id": "7b4df3c5",
   "metadata": {},
   "source": [
    "# OS(Operating System)"
   ]
  },
  {
   "cell_type": "raw",
   "id": "4a91a5ee",
   "metadata": {},
   "source": [
    "os aids in handeling or accessing the modules or packages within a system or setup\n",
    "os is medium used to interact with the hardware/system"
   ]
  },
  {
   "cell_type": "code",
   "execution_count": 1,
   "id": "4640b889",
   "metadata": {},
   "outputs": [],
   "source": [
    "import os"
   ]
  },
  {
   "cell_type": "markdown",
   "id": "62f414e9",
   "metadata": {},
   "source": [
    "### check your current working location"
   ]
  },
  {
   "cell_type": "code",
   "execution_count": 3,
   "id": "f9f5bc9f",
   "metadata": {},
   "outputs": [
    {
     "data": {
      "text/plain": [
       "'C:\\\\Users\\\\Pratik\\\\14 July B batch\\\\Module'"
      ]
     },
     "execution_count": 3,
     "metadata": {},
     "output_type": "execute_result"
    }
   ],
   "source": [
    "os.getcwd()"
   ]
  },
  {
   "cell_type": "markdown",
   "id": "756cb147",
   "metadata": {},
   "source": [
    "## if location of module we are intrested in calling & our working is in the same location-"
   ]
  },
  {
   "cell_type": "code",
   "execution_count": 4,
   "id": "709a181f",
   "metadata": {},
   "outputs": [],
   "source": [
    "import Maths"
   ]
  },
  {
   "cell_type": "code",
   "execution_count": 5,
   "id": "2d02d0ff",
   "metadata": {},
   "outputs": [
    {
     "data": {
      "text/plain": [
       "9"
      ]
     },
     "execution_count": 5,
     "metadata": {},
     "output_type": "execute_result"
    }
   ],
   "source": [
    "Maths.add(5,4)"
   ]
  },
  {
   "cell_type": "code",
   "execution_count": 6,
   "id": "95cbb5b0",
   "metadata": {},
   "outputs": [
    {
     "data": {
      "text/plain": [
       "100"
      ]
     },
     "execution_count": 6,
     "metadata": {},
     "output_type": "execute_result"
    }
   ],
   "source": [
    "Maths.x"
   ]
  },
  {
   "cell_type": "code",
   "execution_count": 7,
   "id": "ef4656ce",
   "metadata": {},
   "outputs": [],
   "source": [
    "from Maths import mul"
   ]
  },
  {
   "cell_type": "code",
   "execution_count": 8,
   "id": "d0aa8e26",
   "metadata": {},
   "outputs": [
    {
     "data": {
      "text/plain": [
       "30"
      ]
     },
     "execution_count": 8,
     "metadata": {},
     "output_type": "execute_result"
    }
   ],
   "source": [
    "mul(5,6)"
   ]
  },
  {
   "cell_type": "code",
   "execution_count": 9,
   "id": "20df0b39",
   "metadata": {},
   "outputs": [],
   "source": [
    "from Maths import *"
   ]
  },
  {
   "cell_type": "code",
   "execution_count": 10,
   "id": "95352132",
   "metadata": {},
   "outputs": [
    {
     "data": {
      "text/plain": [
       "100"
      ]
     },
     "execution_count": 10,
     "metadata": {},
     "output_type": "execute_result"
    }
   ],
   "source": [
    "x"
   ]
  },
  {
   "cell_type": "code",
   "execution_count": 11,
   "id": "2479fe00",
   "metadata": {},
   "outputs": [
    {
     "data": {
      "text/plain": [
       "7"
      ]
     },
     "execution_count": 11,
     "metadata": {},
     "output_type": "execute_result"
    }
   ],
   "source": [
    "add(3,4)"
   ]
  },
  {
   "cell_type": "code",
   "execution_count": 13,
   "id": "420682b1",
   "metadata": {},
   "outputs": [],
   "source": [
    "import Maths as mt"
   ]
  },
  {
   "cell_type": "code",
   "execution_count": 14,
   "id": "2b77da2a",
   "metadata": {},
   "outputs": [
    {
     "data": {
      "text/plain": [
       "100"
      ]
     },
     "execution_count": 14,
     "metadata": {},
     "output_type": "execute_result"
    }
   ],
   "source": [
    "mt.x"
   ]
  },
  {
   "cell_type": "code",
   "execution_count": 15,
   "id": "35ded17d",
   "metadata": {},
   "outputs": [],
   "source": [
    "del x"
   ]
  },
  {
   "cell_type": "code",
   "execution_count": 16,
   "id": "a26baa5b",
   "metadata": {},
   "outputs": [
    {
     "ename": "NameError",
     "evalue": "name 'x' is not defined",
     "output_type": "error",
     "traceback": [
      "\u001b[1;31m---------------------------------------------------------------------------\u001b[0m",
      "\u001b[1;31mNameError\u001b[0m                                 Traceback (most recent call last)",
      "\u001b[1;32m<ipython-input-16-6fcf9dfbd479>\u001b[0m in \u001b[0;36m<module>\u001b[1;34m\u001b[0m\n\u001b[1;32m----> 1\u001b[1;33m \u001b[0mx\u001b[0m\u001b[1;33m\u001b[0m\u001b[1;33m\u001b[0m\u001b[0m\n\u001b[0m",
      "\u001b[1;31mNameError\u001b[0m: name 'x' is not defined"
     ]
    }
   ],
   "source": [
    "x"
   ]
  },
  {
   "cell_type": "code",
   "execution_count": 17,
   "id": "e454b120",
   "metadata": {},
   "outputs": [
    {
     "data": {
      "text/plain": [
       "100"
      ]
     },
     "execution_count": 17,
     "metadata": {},
     "output_type": "execute_result"
    }
   ],
   "source": [
    "mt.x"
   ]
  },
  {
   "cell_type": "markdown",
   "id": "e9055747",
   "metadata": {},
   "source": [
    "## if the location of module is different- "
   ]
  },
  {
   "cell_type": "code",
   "execution_count": 18,
   "id": "844334c1",
   "metadata": {},
   "outputs": [
    {
     "ename": "FileNotFoundError",
     "evalue": "[Errno 2] No such file or directory: 'ipl.txt'",
     "output_type": "error",
     "traceback": [
      "\u001b[1;31m---------------------------------------------------------------------------\u001b[0m",
      "\u001b[1;31mFileNotFoundError\u001b[0m                         Traceback (most recent call last)",
      "\u001b[1;32m<ipython-input-18-ceacee3637d0>\u001b[0m in \u001b[0;36m<module>\u001b[1;34m\u001b[0m\n\u001b[1;32m----> 1\u001b[1;33m \u001b[0mfile\u001b[0m \u001b[1;33m=\u001b[0m \u001b[0mopen\u001b[0m\u001b[1;33m(\u001b[0m\u001b[1;34m'ipl.txt'\u001b[0m\u001b[1;33m,\u001b[0m\u001b[1;34m'r'\u001b[0m\u001b[1;33m)\u001b[0m\u001b[1;33m\u001b[0m\u001b[1;33m\u001b[0m\u001b[0m\n\u001b[0m\u001b[0;32m      2\u001b[0m \u001b[0mfile\u001b[0m\u001b[1;33m.\u001b[0m\u001b[0mread\u001b[0m\u001b[1;33m(\u001b[0m\u001b[1;33m)\u001b[0m\u001b[1;33m\u001b[0m\u001b[1;33m\u001b[0m\u001b[0m\n\u001b[0;32m      3\u001b[0m \u001b[0mfile\u001b[0m\u001b[1;33m.\u001b[0m\u001b[0mclose\u001b[0m\u001b[1;33m(\u001b[0m\u001b[1;33m)\u001b[0m\u001b[1;33m\u001b[0m\u001b[1;33m\u001b[0m\u001b[0m\n",
      "\u001b[1;31mFileNotFoundError\u001b[0m: [Errno 2] No such file or directory: 'ipl.txt'"
     ]
    }
   ],
   "source": [
    "file = open('ipl.txt','r')\n",
    "file.read()\n",
    "file.close()"
   ]
  },
  {
   "cell_type": "code",
   "execution_count": 20,
   "id": "c9b980a8",
   "metadata": {},
   "outputs": [
    {
     "name": "stdout",
     "output_type": "stream",
     "text": [
      "Hi there, how are you doing?\n"
     ]
    }
   ],
   "source": [
    "file = open('C:/Users/Pratik/ipl.txt','r')\n",
    "print(file.read())\n",
    "file.close()"
   ]
  },
  {
   "cell_type": "code",
   "execution_count": 21,
   "id": "204e2511",
   "metadata": {},
   "outputs": [
    {
     "data": {
      "text/plain": [
       "'C:\\\\Users\\\\Pratik\\\\14 July B batch\\\\Module'"
      ]
     },
     "execution_count": 21,
     "metadata": {},
     "output_type": "execute_result"
    }
   ],
   "source": [
    "os.getcwd()"
   ]
  },
  {
   "cell_type": "code",
   "execution_count": 22,
   "id": "327ebdb7",
   "metadata": {},
   "outputs": [],
   "source": [
    "os.chdir('C:/Users/Pratik')"
   ]
  },
  {
   "cell_type": "code",
   "execution_count": 23,
   "id": "974363d8",
   "metadata": {},
   "outputs": [
    {
     "data": {
      "text/plain": [
       "'C:\\\\Users\\\\Pratik'"
      ]
     },
     "execution_count": 23,
     "metadata": {},
     "output_type": "execute_result"
    }
   ],
   "source": [
    "os.getcwd()"
   ]
  },
  {
   "cell_type": "code",
   "execution_count": 24,
   "id": "11598510",
   "metadata": {},
   "outputs": [
    {
     "name": "stdout",
     "output_type": "stream",
     "text": [
      "Hi there, how are you doing?\n"
     ]
    }
   ],
   "source": [
    "file = open('ipl.txt','r')\n",
    "print(file.read())\n",
    "file.close()"
   ]
  },
  {
   "cell_type": "code",
   "execution_count": 25,
   "id": "b96d62f3",
   "metadata": {},
   "outputs": [],
   "source": [
    "from Workspace.Project1 import Calculations"
   ]
  },
  {
   "cell_type": "code",
   "execution_count": 26,
   "id": "ff1886b2",
   "metadata": {},
   "outputs": [
    {
     "data": {
      "text/plain": [
       "25"
      ]
     },
     "execution_count": 26,
     "metadata": {},
     "output_type": "execute_result"
    }
   ],
   "source": [
    "Calculations.square(5)"
   ]
  },
  {
   "cell_type": "code",
   "execution_count": 27,
   "id": "a676e383",
   "metadata": {},
   "outputs": [
    {
     "data": {
      "text/plain": [
       "555"
      ]
     },
     "execution_count": 27,
     "metadata": {},
     "output_type": "execute_result"
    }
   ],
   "source": [
    "Calculations.z"
   ]
  },
  {
   "cell_type": "code",
   "execution_count": 30,
   "id": "f5949276",
   "metadata": {},
   "outputs": [],
   "source": [
    "from Workspace.Project2 import Mathemtics"
   ]
  },
  {
   "cell_type": "code",
   "execution_count": 31,
   "id": "927b4b93",
   "metadata": {},
   "outputs": [
    {
     "data": {
      "text/plain": [
       "1000"
      ]
     },
     "execution_count": 31,
     "metadata": {},
     "output_type": "execute_result"
    }
   ],
   "source": [
    "Mathemtics.cube(10)"
   ]
  },
  {
   "cell_type": "code",
   "execution_count": 32,
   "id": "b44f0279",
   "metadata": {},
   "outputs": [],
   "source": [
    "from Workspace.Project1 import Calculations"
   ]
  },
  {
   "cell_type": "code",
   "execution_count": 33,
   "id": "fe4ea825",
   "metadata": {},
   "outputs": [
    {
     "data": {
      "text/plain": [
       "100"
      ]
     },
     "execution_count": 33,
     "metadata": {},
     "output_type": "execute_result"
    }
   ],
   "source": [
    "Calculations.square(10)"
   ]
  },
  {
   "cell_type": "code",
   "execution_count": 34,
   "id": "caca89bf",
   "metadata": {},
   "outputs": [],
   "source": [
    "from Workspace.Project2.Dummy_codes import Simple_maths"
   ]
  },
  {
   "cell_type": "code",
   "execution_count": 35,
   "id": "e34fb096",
   "metadata": {},
   "outputs": [
    {
     "data": {
      "text/plain": [
       "4"
      ]
     },
     "execution_count": 35,
     "metadata": {},
     "output_type": "execute_result"
    }
   ],
   "source": [
    "Simple_maths.subtraction(10,6)"
   ]
  },
  {
   "cell_type": "code",
   "execution_count": 36,
   "id": "23f7fb87",
   "metadata": {},
   "outputs": [],
   "source": [
    "from Workspace.Project2.Dummy_codes.Simple_maths import *"
   ]
  },
  {
   "cell_type": "code",
   "execution_count": 37,
   "id": "bcea401a",
   "metadata": {},
   "outputs": [
    {
     "data": {
      "text/plain": [
       "5"
      ]
     },
     "execution_count": 37,
     "metadata": {},
     "output_type": "execute_result"
    }
   ],
   "source": [
    "subtraction(11,6)"
   ]
  },
  {
   "cell_type": "code",
   "execution_count": null,
   "id": "b5bed68e",
   "metadata": {},
   "outputs": [],
   "source": []
  }
 ],
 "metadata": {
  "kernelspec": {
   "display_name": "Python 3 (ipykernel)",
   "language": "python",
   "name": "python3"
  },
  "language_info": {
   "codemirror_mode": {
    "name": "ipython",
    "version": 3
   },
   "file_extension": ".py",
   "mimetype": "text/x-python",
   "name": "python",
   "nbconvert_exporter": "python",
   "pygments_lexer": "ipython3",
   "version": "3.9.12"
  },
  "toc": {
   "base_numbering": 1,
   "nav_menu": {},
   "number_sections": true,
   "sideBar": true,
   "skip_h1_title": false,
   "title_cell": "Table of Contents",
   "title_sidebar": "Contents",
   "toc_cell": false,
   "toc_position": {},
   "toc_section_display": true,
   "toc_window_display": false
  },
  "varInspector": {
   "cols": {
    "lenName": 16,
    "lenType": 16,
    "lenVar": 40
   },
   "kernels_config": {
    "python": {
     "delete_cmd_postfix": "",
     "delete_cmd_prefix": "del ",
     "library": "var_list.py",
     "varRefreshCmd": "print(var_dic_list())"
    },
    "r": {
     "delete_cmd_postfix": ") ",
     "delete_cmd_prefix": "rm(",
     "library": "var_list.r",
     "varRefreshCmd": "cat(var_dic_list()) "
    }
   },
   "types_to_exclude": [
    "module",
    "function",
    "builtin_function_or_method",
    "instance",
    "_Feature"
   ],
   "window_display": false
  }
 },
 "nbformat": 4,
 "nbformat_minor": 5
}

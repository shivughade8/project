{
 "cells": [
  {
   "cell_type": "raw",
   "id": "ae303a6e",
   "metadata": {},
   "source": [
    "Text : String\n",
    "Numeric : int, float, complex\n",
    "sequence : list, tuple, range\n",
    "set : set, frozenset\n",
    "mapping : dict\n",
    "Boolean : True False\n",
    "Binary : 0000 1111"
   ]
  },
  {
   "cell_type": "markdown",
   "id": "e72539eb",
   "metadata": {},
   "source": [
    "# Numeric Data Types"
   ]
  },
  {
   "cell_type": "raw",
   "id": "db2f1dfc",
   "metadata": {},
   "source": [
    "Integers : numbers ranging from -inf to +inf without any decimal part\n",
    "float : positive or negative numbers with decimal part\n",
    "complex : numbers with real & imaginary part\n",
    "    "
   ]
  },
  {
   "cell_type": "code",
   "execution_count": null,
   "id": "254540b0",
   "metadata": {},
   "outputs": [],
   "source": [
    "int >> 5\n",
    "float >> 5.5\n",
    "complex >> 5+5j"
   ]
  },
  {
   "cell_type": "code",
   "execution_count": 2,
   "id": "011732b9",
   "metadata": {},
   "outputs": [
    {
     "name": "stdout",
     "output_type": "stream",
     "text": [
      "-5\n"
     ]
    },
    {
     "data": {
      "text/plain": [
       "int"
      ]
     },
     "execution_count": 2,
     "metadata": {},
     "output_type": "execute_result"
    }
   ],
   "source": [
    "a = -5\n",
    "print(a)\n",
    "type(a)"
   ]
  },
  {
   "cell_type": "code",
   "execution_count": 3,
   "id": "435d9d50",
   "metadata": {},
   "outputs": [
    {
     "data": {
      "text/plain": [
       "float"
      ]
     },
     "execution_count": 3,
     "metadata": {},
     "output_type": "execute_result"
    }
   ],
   "source": [
    "b = 13.7894\n",
    "type(b)"
   ]
  },
  {
   "cell_type": "code",
   "execution_count": 4,
   "id": "505fb2c6",
   "metadata": {},
   "outputs": [
    {
     "data": {
      "text/plain": [
       "complex"
      ]
     },
     "execution_count": 4,
     "metadata": {},
     "output_type": "execute_result"
    }
   ],
   "source": [
    "c = 5 + 7j\n",
    "type(c)"
   ]
  },
  {
   "cell_type": "code",
   "execution_count": 5,
   "id": "4fa8c5cd",
   "metadata": {},
   "outputs": [
    {
     "data": {
      "text/plain": [
       "complex"
      ]
     },
     "execution_count": 5,
     "metadata": {},
     "output_type": "execute_result"
    }
   ],
   "source": [
    "type(-7j)     # 0-7j"
   ]
  },
  {
   "cell_type": "code",
   "execution_count": 6,
   "id": "5bee02e0",
   "metadata": {},
   "outputs": [
    {
     "data": {
      "text/plain": [
       "5.0"
      ]
     },
     "execution_count": 6,
     "metadata": {},
     "output_type": "execute_result"
    }
   ],
   "source": [
    "x = 3+4j\n",
    "\n",
    "abs(x)"
   ]
  },
  {
   "cell_type": "code",
   "execution_count": 7,
   "id": "d9e94608",
   "metadata": {},
   "outputs": [
    {
     "data": {
      "text/plain": [
       "13.0"
      ]
     },
     "execution_count": 7,
     "metadata": {},
     "output_type": "execute_result"
    }
   ],
   "source": [
    "abs(12+5j)"
   ]
  },
  {
   "cell_type": "code",
   "execution_count": 8,
   "id": "bf09180d",
   "metadata": {},
   "outputs": [
    {
     "data": {
      "text/plain": [
       "13.0"
      ]
     },
     "execution_count": 8,
     "metadata": {},
     "output_type": "execute_result"
    }
   ],
   "source": [
    "abs(5+12j)"
   ]
  },
  {
   "cell_type": "markdown",
   "id": "1cb84f21",
   "metadata": {},
   "source": [
    "# conversion of numeric data types"
   ]
  },
  {
   "cell_type": "raw",
   "id": "395b20ef",
   "metadata": {},
   "source": [
    "int & float can be converted into int, float & complex\n",
    "but complex can not be converted into int or float"
   ]
  },
  {
   "cell_type": "code",
   "execution_count": 11,
   "id": "ba5ca4f9",
   "metadata": {},
   "outputs": [
    {
     "name": "stdout",
     "output_type": "stream",
     "text": [
      "12\n",
      "12.0\n",
      "(12+0j)\n"
     ]
    }
   ],
   "source": [
    "num = 12\n",
    "\n",
    "print(int(num))\n",
    "print(float(num))\n",
    "print(complex(num))"
   ]
  },
  {
   "cell_type": "code",
   "execution_count": 12,
   "id": "6c7b44ab",
   "metadata": {},
   "outputs": [
    {
     "name": "stdout",
     "output_type": "stream",
     "text": [
      "12\n",
      "12.678\n",
      "(12.678+0j)\n"
     ]
    }
   ],
   "source": [
    "num = 12.678\n",
    "\n",
    "print(int(num))\n",
    "print(float(num))\n",
    "print(complex(num))"
   ]
  },
  {
   "cell_type": "code",
   "execution_count": 13,
   "id": "9baa5073",
   "metadata": {},
   "outputs": [
    {
     "ename": "TypeError",
     "evalue": "can't convert complex to int",
     "output_type": "error",
     "traceback": [
      "\u001b[1;31m---------------------------------------------------------------------------\u001b[0m",
      "\u001b[1;31mTypeError\u001b[0m                                 Traceback (most recent call last)",
      "Input \u001b[1;32mIn [13]\u001b[0m, in \u001b[0;36m<cell line: 3>\u001b[1;34m()\u001b[0m\n\u001b[0;32m      1\u001b[0m num \u001b[38;5;241m=\u001b[39m \u001b[38;5;241m12\u001b[39m\u001b[38;5;241m+\u001b[39m\u001b[38;5;241m5\u001b[39mj\n\u001b[1;32m----> 3\u001b[0m \u001b[38;5;28mprint\u001b[39m(\u001b[38;5;28;43mint\u001b[39;49m\u001b[43m(\u001b[49m\u001b[43mnum\u001b[49m\u001b[43m)\u001b[49m)\n\u001b[0;32m      4\u001b[0m \u001b[38;5;28mprint\u001b[39m(\u001b[38;5;28mfloat\u001b[39m(num))\n\u001b[0;32m      5\u001b[0m \u001b[38;5;28mprint\u001b[39m(\u001b[38;5;28mcomplex\u001b[39m(num))\n",
      "\u001b[1;31mTypeError\u001b[0m: can't convert complex to int"
     ]
    }
   ],
   "source": [
    "num = 12+5j\n",
    "\n",
    "print(int(num))"
   ]
  },
  {
   "cell_type": "code",
   "execution_count": 14,
   "id": "7abdb893",
   "metadata": {},
   "outputs": [
    {
     "ename": "TypeError",
     "evalue": "can't convert complex to float",
     "output_type": "error",
     "traceback": [
      "\u001b[1;31m---------------------------------------------------------------------------\u001b[0m",
      "\u001b[1;31mTypeError\u001b[0m                                 Traceback (most recent call last)",
      "Input \u001b[1;32mIn [14]\u001b[0m, in \u001b[0;36m<cell line: 1>\u001b[1;34m()\u001b[0m\n\u001b[1;32m----> 1\u001b[0m \u001b[38;5;28mprint\u001b[39m(\u001b[38;5;28;43mfloat\u001b[39;49m\u001b[43m(\u001b[49m\u001b[43mnum\u001b[49m\u001b[43m)\u001b[49m)\n\u001b[0;32m      2\u001b[0m \u001b[38;5;28mprint\u001b[39m(\u001b[38;5;28mcomplex\u001b[39m(num))\n",
      "\u001b[1;31mTypeError\u001b[0m: can't convert complex to float"
     ]
    }
   ],
   "source": [
    "print(float(num))\n"
   ]
  },
  {
   "cell_type": "code",
   "execution_count": 15,
   "id": "117fd9df",
   "metadata": {},
   "outputs": [
    {
     "name": "stdout",
     "output_type": "stream",
     "text": [
      "(12+5j)\n"
     ]
    }
   ],
   "source": [
    "print(complex(num))"
   ]
  },
  {
   "cell_type": "markdown",
   "id": "3e5aba84",
   "metadata": {},
   "source": [
    "# Binary Numbers"
   ]
  },
  {
   "cell_type": "raw",
   "id": "fa933f6f",
   "metadata": {},
   "source": [
    "0000 > 0\n",
    "0001 > 1\n",
    "0010 > 2\n",
    "0011 > 3\n",
    "0100 > 4\n",
    ".\n",
    ".\n",
    ".\n",
    ".\n",
    ".\n",
    ".\n",
    "1111 > 15\n",
    "\n",
    "0000 1111 > 15\n",
    "\n",
    "0001 0000 > 16\n",
    "0001 0001 > 17"
   ]
  },
  {
   "cell_type": "code",
   "execution_count": 16,
   "id": "8f368bf0",
   "metadata": {},
   "outputs": [
    {
     "data": {
      "text/plain": [
       "'0b1111'"
      ]
     },
     "execution_count": 16,
     "metadata": {},
     "output_type": "execute_result"
    }
   ],
   "source": [
    "bin(15)"
   ]
  },
  {
   "cell_type": "code",
   "execution_count": 17,
   "id": "515ec77b",
   "metadata": {},
   "outputs": [
    {
     "data": {
      "text/plain": [
       "'0b10000'"
      ]
     },
     "execution_count": 17,
     "metadata": {},
     "output_type": "execute_result"
    }
   ],
   "source": [
    "bin(16)"
   ]
  },
  {
   "cell_type": "code",
   "execution_count": 18,
   "id": "2e4f60d8",
   "metadata": {},
   "outputs": [
    {
     "data": {
      "text/plain": [
       "'0b10'"
      ]
     },
     "execution_count": 18,
     "metadata": {},
     "output_type": "execute_result"
    }
   ],
   "source": [
    "bin(2)"
   ]
  },
  {
   "cell_type": "code",
   "execution_count": 19,
   "id": "7f670331",
   "metadata": {},
   "outputs": [
    {
     "data": {
      "text/plain": [
       "'0b11001000'"
      ]
     },
     "execution_count": 19,
     "metadata": {},
     "output_type": "execute_result"
    }
   ],
   "source": [
    "# to convert a int into binary equivalent\n",
    "bin(200)"
   ]
  },
  {
   "cell_type": "code",
   "execution_count": 20,
   "id": "b1a24686",
   "metadata": {},
   "outputs": [
    {
     "ename": "TypeError",
     "evalue": "'float' object cannot be interpreted as an integer",
     "output_type": "error",
     "traceback": [
      "\u001b[1;31m---------------------------------------------------------------------------\u001b[0m",
      "\u001b[1;31mTypeError\u001b[0m                                 Traceback (most recent call last)",
      "Input \u001b[1;32mIn [20]\u001b[0m, in \u001b[0;36m<cell line: 1>\u001b[1;34m()\u001b[0m\n\u001b[1;32m----> 1\u001b[0m \u001b[38;5;28;43mbin\u001b[39;49m\u001b[43m(\u001b[49m\u001b[38;5;241;43m12.2\u001b[39;49m\u001b[43m)\u001b[49m\n",
      "\u001b[1;31mTypeError\u001b[0m: 'float' object cannot be interpreted as an integer"
     ]
    }
   ],
   "source": [
    "bin(12.2)"
   ]
  },
  {
   "cell_type": "code",
   "execution_count": 21,
   "id": "a307ecc1",
   "metadata": {},
   "outputs": [
    {
     "data": {
      "text/plain": [
       "200"
      ]
     },
     "execution_count": 21,
     "metadata": {},
     "output_type": "execute_result"
    }
   ],
   "source": [
    "# to convert a binary number into interger equivalent\n",
    "int('0b11001000',2)"
   ]
  },
  {
   "cell_type": "code",
   "execution_count": 22,
   "id": "7051ba1a",
   "metadata": {},
   "outputs": [
    {
     "data": {
      "text/plain": [
       "200"
      ]
     },
     "execution_count": 22,
     "metadata": {},
     "output_type": "execute_result"
    }
   ],
   "source": [
    "int('11001000',2)"
   ]
  },
  {
   "cell_type": "code",
   "execution_count": 23,
   "id": "e71e814a",
   "metadata": {},
   "outputs": [
    {
     "data": {
      "text/plain": [
       "4"
      ]
     },
     "execution_count": 23,
     "metadata": {},
     "output_type": "execute_result"
    }
   ],
   "source": [
    "# base 2 gives us int equivalent of the binary number given in string\n",
    "int('100',2)"
   ]
  },
  {
   "cell_type": "code",
   "execution_count": 24,
   "id": "5a40c9dc",
   "metadata": {},
   "outputs": [
    {
     "data": {
      "text/plain": [
       "100"
      ]
     },
     "execution_count": 24,
     "metadata": {},
     "output_type": "execute_result"
    }
   ],
   "source": [
    "# base 10 gives us the int equivalent of the int number given in string\n",
    "int('100',10)"
   ]
  },
  {
   "cell_type": "code",
   "execution_count": 25,
   "id": "23d9916d",
   "metadata": {},
   "outputs": [
    {
     "data": {
      "text/plain": [
       "100"
      ]
     },
     "execution_count": 25,
     "metadata": {},
     "output_type": "execute_result"
    }
   ],
   "source": [
    "int('100')"
   ]
  },
  {
   "cell_type": "code",
   "execution_count": 26,
   "id": "66b20f9a",
   "metadata": {},
   "outputs": [
    {
     "data": {
      "text/plain": [
       "36"
      ]
     },
     "execution_count": 26,
     "metadata": {},
     "output_type": "execute_result"
    }
   ],
   "source": [
    "# int('100',6)"
   ]
  },
  {
   "cell_type": "code",
   "execution_count": 27,
   "id": "790c25a1",
   "metadata": {},
   "outputs": [
    {
     "data": {
      "text/plain": [
       "64"
      ]
     },
     "execution_count": 27,
     "metadata": {},
     "output_type": "execute_result"
    }
   ],
   "source": [
    "# int('100',8)"
   ]
  },
  {
   "cell_type": "code",
   "execution_count": null,
   "id": "e7a2e5bb",
   "metadata": {},
   "outputs": [],
   "source": []
  }
 ],
 "metadata": {
  "kernelspec": {
   "display_name": "Python 3 (ipykernel)",
   "language": "python",
   "name": "python3"
  },
  "language_info": {
   "codemirror_mode": {
    "name": "ipython",
    "version": 3
   },
   "file_extension": ".py",
   "mimetype": "text/x-python",
   "name": "python",
   "nbconvert_exporter": "python",
   "pygments_lexer": "ipython3",
   "version": "3.9.12"
  }
 },
 "nbformat": 4,
 "nbformat_minor": 5
}

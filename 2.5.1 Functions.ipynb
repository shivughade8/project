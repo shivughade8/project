{
 "cells": [
  {
   "cell_type": "raw",
   "id": "ba68c372",
   "metadata": {},
   "source": [
    "Functions:\n",
    "    Functions are the block of codes which we can run or call or use as and when required.\n",
    "    Functions are organised block of codes.\n",
    "    Functions are Procedural Programing Concept.\n",
    "    Functions are also called as Methods\n",
    "    \n",
    "    Functions will be executed when they are called.\n",
    "    Functions are used to modularize the codes.\n",
    "    \n",
    "2 Types of functions:\n",
    "    Inbuild function: max, min, len etc..\n",
    "    User Defined Functions\n",
    "    \n",
    "2 parts of the functions are:\n",
    "    Declaration or Creation of the function\n",
    "    calling of the functions or using the function"
   ]
  },
  {
   "cell_type": "raw",
   "id": "5f25d5be",
   "metadata": {},
   "source": [
    "# def >> defination or defining a function\n",
    "\n",
    "def function_name(parameters):   # defining a function\n",
    "    statements\n",
    "    codes  \n",
    "    return output                # optional\n",
    "\n",
    "function_name(arguments)        # calling of function"
   ]
  },
  {
   "cell_type": "code",
   "execution_count": 1,
   "id": "8c67507c",
   "metadata": {},
   "outputs": [
    {
     "name": "stdout",
     "output_type": "stream",
     "text": [
      "hi\n",
      "hello\n"
     ]
    }
   ],
   "source": [
    "print('hi')\n",
    "print('hello')"
   ]
  },
  {
   "cell_type": "code",
   "execution_count": 5,
   "id": "26c285d8",
   "metadata": {},
   "outputs": [
    {
     "name": "stdout",
     "output_type": "stream",
     "text": [
      "hi\n",
      "hello\n"
     ]
    }
   ],
   "source": [
    "printing()"
   ]
  },
  {
   "cell_type": "code",
   "execution_count": 2,
   "id": "cd7e33d2",
   "metadata": {},
   "outputs": [
    {
     "name": "stdout",
     "output_type": "stream",
     "text": [
      "hi\n",
      "hello\n"
     ]
    }
   ],
   "source": [
    "print('hi')\n",
    "print('hello')"
   ]
  },
  {
   "cell_type": "code",
   "execution_count": 3,
   "id": "f8300310",
   "metadata": {},
   "outputs": [],
   "source": [
    "def printing():\n",
    "    print('hi')\n",
    "    print('hello')"
   ]
  },
  {
   "cell_type": "code",
   "execution_count": 4,
   "id": "9b530d25",
   "metadata": {},
   "outputs": [
    {
     "name": "stdout",
     "output_type": "stream",
     "text": [
      "hi\n",
      "hello\n"
     ]
    }
   ],
   "source": [
    "printing()"
   ]
  },
  {
   "cell_type": "code",
   "execution_count": 6,
   "id": "f9d200b6",
   "metadata": {},
   "outputs": [],
   "source": [
    "def average():\n",
    "    sumatn = 10+20+30\n",
    "    avg = sumatn/3\n",
    "    return avg"
   ]
  },
  {
   "cell_type": "code",
   "execution_count": 7,
   "id": "f75205f8",
   "metadata": {},
   "outputs": [
    {
     "data": {
      "text/plain": [
       "20.0"
      ]
     },
     "execution_count": 7,
     "metadata": {},
     "output_type": "execute_result"
    }
   ],
   "source": [
    "average()"
   ]
  },
  {
   "cell_type": "code",
   "execution_count": 10,
   "id": "5ee29200",
   "metadata": {},
   "outputs": [
    {
     "data": {
      "text/plain": [
       "120.0"
      ]
     },
     "execution_count": 10,
     "metadata": {},
     "output_type": "execute_result"
    }
   ],
   "source": [
    "value = average()\n",
    "value+100"
   ]
  },
  {
   "cell_type": "code",
   "execution_count": 11,
   "id": "5b566ebe",
   "metadata": {},
   "outputs": [],
   "source": [
    "def average():\n",
    "    a = int(input())     # local variables\n",
    "    b = int(input())\n",
    "    c = int(input())\n",
    "    \n",
    "    avg = (a+b+c)/3\n",
    "    return avg"
   ]
  },
  {
   "cell_type": "code",
   "execution_count": 14,
   "id": "81eb8238",
   "metadata": {},
   "outputs": [
    {
     "name": "stdout",
     "output_type": "stream",
     "text": [
      "5\n",
      "10\n",
      "15\n"
     ]
    },
    {
     "data": {
      "text/plain": [
       "10.0"
      ]
     },
     "execution_count": 14,
     "metadata": {},
     "output_type": "execute_result"
    }
   ],
   "source": [
    "result = average()\n",
    "result"
   ]
  },
  {
   "cell_type": "code",
   "execution_count": 15,
   "id": "013e9d98",
   "metadata": {},
   "outputs": [
    {
     "ename": "NameError",
     "evalue": "name 'a' is not defined",
     "output_type": "error",
     "traceback": [
      "\u001b[1;31m---------------------------------------------------------------------------\u001b[0m",
      "\u001b[1;31mNameError\u001b[0m                                 Traceback (most recent call last)",
      "\u001b[1;32m<ipython-input-15-3f786850e387>\u001b[0m in \u001b[0;36m<module>\u001b[1;34m\u001b[0m\n\u001b[1;32m----> 1\u001b[1;33m \u001b[0ma\u001b[0m\u001b[1;33m\u001b[0m\u001b[1;33m\u001b[0m\u001b[0m\n\u001b[0m",
      "\u001b[1;31mNameError\u001b[0m: name 'a' is not defined"
     ]
    }
   ],
   "source": [
    "a"
   ]
  },
  {
   "cell_type": "code",
   "execution_count": 17,
   "id": "1068e246",
   "metadata": {},
   "outputs": [],
   "source": [
    "def Average(a,b,c):\n",
    "    avg = (a+b+c)/3\n",
    "    return avg"
   ]
  },
  {
   "cell_type": "code",
   "execution_count": 18,
   "id": "1e66df5b",
   "metadata": {},
   "outputs": [
    {
     "data": {
      "text/plain": [
       "2.0"
      ]
     },
     "execution_count": 18,
     "metadata": {},
     "output_type": "execute_result"
    }
   ],
   "source": [
    "Average(1,2,3)"
   ]
  },
  {
   "cell_type": "code",
   "execution_count": 20,
   "id": "2a5a7e1e",
   "metadata": {},
   "outputs": [
    {
     "name": "stdout",
     "output_type": "stream",
     "text": [
      "5\n",
      "7\n",
      "9\n"
     ]
    },
    {
     "data": {
      "text/plain": [
       "7.0"
      ]
     },
     "execution_count": 20,
     "metadata": {},
     "output_type": "execute_result"
    }
   ],
   "source": [
    "def Average(a,b,c):\n",
    "    avg = (a+b+c)/3\n",
    "    return avg\n",
    "\n",
    "\n",
    "x = int(input())     # global variables\n",
    "y = int(input())\n",
    "z = int(input())\n",
    "\n",
    "Average(x,y,z)"
   ]
  },
  {
   "cell_type": "code",
   "execution_count": null,
   "id": "7f162422",
   "metadata": {},
   "outputs": [],
   "source": [
    "x = int(input())     # global variables\n",
    "y = int(input())\n",
    "z = int(input())\n",
    "\n",
    "\n",
    "def Average(a,b,c):\n",
    "    avg = (a+b+c)/3\n",
    "    return avg\n",
    "\n",
    "\n",
    "Average(x,y,z)"
   ]
  },
  {
   "cell_type": "code",
   "execution_count": 21,
   "id": "2e1ab7e4",
   "metadata": {},
   "outputs": [
    {
     "data": {
      "text/plain": [
       "5"
      ]
     },
     "execution_count": 21,
     "metadata": {},
     "output_type": "execute_result"
    }
   ],
   "source": [
    "x"
   ]
  },
  {
   "cell_type": "code",
   "execution_count": 23,
   "id": "f310b3ff",
   "metadata": {},
   "outputs": [
    {
     "data": {
      "text/plain": [
       "7.333333333333333"
      ]
     },
     "execution_count": 23,
     "metadata": {},
     "output_type": "execute_result"
    }
   ],
   "source": [
    "# converting a local variable into global by using global keyword before the variable\n",
    "\n",
    "def average(a,b):\n",
    "    \n",
    "    global c\n",
    "    c = 15          # global variable\n",
    "    avg = (a+b+c)/3 \n",
    "    return avg\n",
    "\n",
    "average(3,4)"
   ]
  },
  {
   "cell_type": "code",
   "execution_count": 24,
   "id": "43f66b45",
   "metadata": {},
   "outputs": [
    {
     "data": {
      "text/plain": [
       "15"
      ]
     },
     "execution_count": 24,
     "metadata": {},
     "output_type": "execute_result"
    }
   ],
   "source": [
    "c"
   ]
  },
  {
   "cell_type": "markdown",
   "id": "0d62c4f9",
   "metadata": {},
   "source": [
    "# Arguements"
   ]
  },
  {
   "cell_type": "raw",
   "id": "80877857",
   "metadata": {},
   "source": [
    "as far as the positional arguements are concerned, no. of arguements has to be equal to the number of parameters\n",
    "\n",
    "no. of params = no. of args\n",
    "\n",
    "arguements = parameters"
   ]
  },
  {
   "cell_type": "code",
   "execution_count": 25,
   "id": "ff4b2631",
   "metadata": {},
   "outputs": [
    {
     "ename": "TypeError",
     "evalue": "average() takes 2 positional arguments but 3 were given",
     "output_type": "error",
     "traceback": [
      "\u001b[1;31m---------------------------------------------------------------------------\u001b[0m",
      "\u001b[1;31mTypeError\u001b[0m                                 Traceback (most recent call last)",
      "\u001b[1;32m<ipython-input-25-8a616c839a21>\u001b[0m in \u001b[0;36m<module>\u001b[1;34m\u001b[0m\n\u001b[0;32m      4\u001b[0m     \u001b[1;32mreturn\u001b[0m \u001b[0mavg\u001b[0m\u001b[1;33m\u001b[0m\u001b[1;33m\u001b[0m\u001b[0m\n\u001b[0;32m      5\u001b[0m \u001b[1;33m\u001b[0m\u001b[0m\n\u001b[1;32m----> 6\u001b[1;33m \u001b[0maverage\u001b[0m\u001b[1;33m(\u001b[0m\u001b[1;36m3\u001b[0m\u001b[1;33m,\u001b[0m\u001b[1;36m4\u001b[0m\u001b[1;33m,\u001b[0m\u001b[1;36m5\u001b[0m\u001b[1;33m)\u001b[0m\u001b[1;33m\u001b[0m\u001b[1;33m\u001b[0m\u001b[0m\n\u001b[0m",
      "\u001b[1;31mTypeError\u001b[0m: average() takes 2 positional arguments but 3 were given"
     ]
    }
   ],
   "source": [
    "def average(a,b):\n",
    "    c = 15          # global variable\n",
    "    avg = (a+b+c)/3 \n",
    "    return avg\n",
    "\n",
    "average(3,4,5)"
   ]
  },
  {
   "cell_type": "code",
   "execution_count": 26,
   "id": "91c9d97f",
   "metadata": {},
   "outputs": [
    {
     "ename": "TypeError",
     "evalue": "average() missing 1 required positional argument: 'b'",
     "output_type": "error",
     "traceback": [
      "\u001b[1;31m---------------------------------------------------------------------------\u001b[0m",
      "\u001b[1;31mTypeError\u001b[0m                                 Traceback (most recent call last)",
      "\u001b[1;32m<ipython-input-26-eeef8281bb6e>\u001b[0m in \u001b[0;36m<module>\u001b[1;34m\u001b[0m\n\u001b[0;32m      4\u001b[0m     \u001b[1;32mreturn\u001b[0m \u001b[0mavg\u001b[0m\u001b[1;33m\u001b[0m\u001b[1;33m\u001b[0m\u001b[0m\n\u001b[0;32m      5\u001b[0m \u001b[1;33m\u001b[0m\u001b[0m\n\u001b[1;32m----> 6\u001b[1;33m \u001b[0maverage\u001b[0m\u001b[1;33m(\u001b[0m\u001b[1;36m3\u001b[0m\u001b[1;33m)\u001b[0m\u001b[1;33m\u001b[0m\u001b[1;33m\u001b[0m\u001b[0m\n\u001b[0m",
      "\u001b[1;31mTypeError\u001b[0m: average() missing 1 required positional argument: 'b'"
     ]
    }
   ],
   "source": [
    "def average(a,b):\n",
    "    c = 15          # global variable\n",
    "    avg = (a+b+c)/3 \n",
    "    return avg\n",
    "\n",
    "average(3)"
   ]
  },
  {
   "cell_type": "code",
   "execution_count": 30,
   "id": "f5dcfe28",
   "metadata": {},
   "outputs": [
    {
     "data": {
      "text/plain": [
       "[9, 4, 49]"
      ]
     },
     "execution_count": 30,
     "metadata": {},
     "output_type": "execute_result"
    }
   ],
   "source": [
    "def squared_list(lis): \n",
    "    return [i**2 for i in lis]\n",
    "\n",
    "squared_list([3,2,7])"
   ]
  },
  {
   "cell_type": "code",
   "execution_count": 32,
   "id": "35bd80bd",
   "metadata": {},
   "outputs": [
    {
     "data": {
      "text/plain": [
       "[25, 0, 4, 9, 0.25]"
      ]
     },
     "execution_count": 32,
     "metadata": {},
     "output_type": "execute_result"
    }
   ],
   "source": [
    "squared_list([5,0,-2,-3,0.5])"
   ]
  },
  {
   "cell_type": "code",
   "execution_count": 33,
   "id": "14fa5a68",
   "metadata": {},
   "outputs": [
    {
     "data": {
      "text/plain": [
       "[1, 4, 9, 16, 25, 36, 49, 64, 81, 100]"
      ]
     },
     "execution_count": 33,
     "metadata": {},
     "output_type": "execute_result"
    }
   ],
   "source": [
    "squared_list(list(range(1,11)))"
   ]
  },
  {
   "cell_type": "markdown",
   "id": "d0329024",
   "metadata": {},
   "source": [
    "# Return"
   ]
  },
  {
   "cell_type": "raw",
   "id": "3a31a2ac",
   "metadata": {},
   "source": [
    "return is used to end the function or break the function & return a specific value, values from the function\n",
    "return can also be empty meaning we are not returning anything from the function\n",
    "one functions can have multiple returns as well"
   ]
  },
  {
   "cell_type": "code",
   "execution_count": 39,
   "id": "91d921ba",
   "metadata": {},
   "outputs": [],
   "source": [
    "def show_nums(lis):\n",
    "    return\n",
    "\n",
    "show_nums([3,4])"
   ]
  },
  {
   "cell_type": "code",
   "execution_count": 42,
   "id": "4abb5b7a",
   "metadata": {},
   "outputs": [
    {
     "data": {
      "text/plain": [
       "'actual list is [3, 4] & the output is [3, 4, 3, 4]'"
      ]
     },
     "execution_count": 42,
     "metadata": {},
     "output_type": "execute_result"
    }
   ],
   "source": [
    "def show_nums_twice(lis):\n",
    "    return f'actual list is {lis} & the output is {lis*2}'\n",
    "\n",
    "show_nums_twice([3,4])"
   ]
  },
  {
   "cell_type": "code",
   "execution_count": 46,
   "id": "225094e5",
   "metadata": {},
   "outputs": [
    {
     "data": {
      "text/plain": [
       "[3, 4, 3, 4]"
      ]
     },
     "execution_count": 46,
     "metadata": {},
     "output_type": "execute_result"
    }
   ],
   "source": [
    "def show_nums_twice(lis):\n",
    "    return lis,lis*2\n",
    "\n",
    "result = show_nums_twice([3,4])\n",
    "result[1]"
   ]
  },
  {
   "cell_type": "code",
   "execution_count": 47,
   "id": "d7165571",
   "metadata": {},
   "outputs": [
    {
     "data": {
      "text/plain": [
       "3"
      ]
     },
     "execution_count": 47,
     "metadata": {},
     "output_type": "execute_result"
    }
   ],
   "source": [
    "def show_list_numbers(seq):\n",
    "    for i in seq:\n",
    "        return i\n",
    "    \n",
    "show_list_numbers([3,6,9,1])"
   ]
  },
  {
   "cell_type": "code",
   "execution_count": 51,
   "id": "63a14562",
   "metadata": {},
   "outputs": [
    {
     "data": {
      "text/plain": [
       "'Odd'"
      ]
     },
     "execution_count": 51,
     "metadata": {},
     "output_type": "execute_result"
    }
   ],
   "source": [
    "def Even_Odd(num):\n",
    "        if num%2==0:\n",
    "            return 'Even'\n",
    "        else:\n",
    "            return 'Odd'\n",
    "    \n",
    "Even_Odd(9)"
   ]
  },
  {
   "cell_type": "markdown",
   "id": "e5839444",
   "metadata": {},
   "source": [
    "# Yield"
   ]
  },
  {
   "cell_type": "code",
   "execution_count": 54,
   "id": "f94ac7da",
   "metadata": {},
   "outputs": [
    {
     "data": {
      "text/plain": [
       "['Odd', 'Even', 'Odd', 'Odd']"
      ]
     },
     "execution_count": 54,
     "metadata": {},
     "output_type": "execute_result"
    }
   ],
   "source": [
    "def show_list_numbers(seq):\n",
    "    for i in seq:\n",
    "        if i%2==0:\n",
    "            yield 'Even'\n",
    "        else:\n",
    "            yield 'Odd'      \n",
    "    \n",
    "list(show_list_numbers([3,6,9,1]))"
   ]
  },
  {
   "cell_type": "code",
   "execution_count": 65,
   "id": "c9ceec20",
   "metadata": {},
   "outputs": [],
   "source": [
    "outcome = show_list_numbers([3,6,9,1])"
   ]
  },
  {
   "cell_type": "code",
   "execution_count": null,
   "id": "8fcec83a",
   "metadata": {},
   "outputs": [],
   "source": [
    "next(outcome)"
   ]
  },
  {
   "cell_type": "code",
   "execution_count": 56,
   "id": "35a3fd35",
   "metadata": {},
   "outputs": [
    {
     "data": {
      "text/plain": [
       "'Even'"
      ]
     },
     "execution_count": 56,
     "metadata": {},
     "output_type": "execute_result"
    }
   ],
   "source": [
    "next(outcome)"
   ]
  },
  {
   "cell_type": "code",
   "execution_count": 57,
   "id": "44785e23",
   "metadata": {},
   "outputs": [
    {
     "data": {
      "text/plain": [
       "'Odd'"
      ]
     },
     "execution_count": 57,
     "metadata": {},
     "output_type": "execute_result"
    }
   ],
   "source": [
    "next(outcome)"
   ]
  },
  {
   "cell_type": "code",
   "execution_count": 59,
   "id": "7ee51359",
   "metadata": {},
   "outputs": [
    {
     "ename": "StopIteration",
     "evalue": "",
     "output_type": "error",
     "traceback": [
      "\u001b[1;31m---------------------------------------------------------------------------\u001b[0m",
      "\u001b[1;31mStopIteration\u001b[0m                             Traceback (most recent call last)",
      "\u001b[1;32m<ipython-input-59-712a5f1ab002>\u001b[0m in \u001b[0;36m<module>\u001b[1;34m\u001b[0m\n\u001b[1;32m----> 1\u001b[1;33m \u001b[0mnext\u001b[0m\u001b[1;33m(\u001b[0m\u001b[0moutcome\u001b[0m\u001b[1;33m)\u001b[0m\u001b[1;33m\u001b[0m\u001b[1;33m\u001b[0m\u001b[0m\n\u001b[0m",
      "\u001b[1;31mStopIteration\u001b[0m: "
     ]
    }
   ],
   "source": [
    "next(outcome)"
   ]
  },
  {
   "cell_type": "code",
   "execution_count": 61,
   "id": "9afb4192",
   "metadata": {},
   "outputs": [
    {
     "name": "stdout",
     "output_type": "stream",
     "text": [
      "Odd\n",
      "Even\n",
      "Odd\n",
      "Odd\n"
     ]
    }
   ],
   "source": [
    "for i in outcome:\n",
    "    print(i)"
   ]
  },
  {
   "cell_type": "code",
   "execution_count": 67,
   "id": "80409049",
   "metadata": {},
   "outputs": [
    {
     "name": "stdout",
     "output_type": "stream",
     "text": [
      "Odd\n",
      "Even\n",
      "Odd\n",
      "Odd\n"
     ]
    }
   ],
   "source": [
    "outcome = show_list_numbers([3,6,9,1])\n",
    "\n",
    "for i in range(4):\n",
    "    print(next(outcome))"
   ]
  },
  {
   "cell_type": "code",
   "execution_count": 69,
   "id": "ca5a9eba",
   "metadata": {},
   "outputs": [
    {
     "data": {
      "text/plain": [
       "['Odd', 'Even', 'Odd', 'Odd']"
      ]
     },
     "execution_count": 69,
     "metadata": {},
     "output_type": "execute_result"
    }
   ],
   "source": [
    "outcome = show_list_numbers([3,6,9,1])\n",
    "\n",
    "[i for i in outcome]"
   ]
  },
  {
   "cell_type": "code",
   "execution_count": null,
   "id": "d8f87b6e",
   "metadata": {},
   "outputs": [],
   "source": []
  }
 ],
 "metadata": {
  "kernelspec": {
   "display_name": "Python 3 (ipykernel)",
   "language": "python",
   "name": "python3"
  },
  "language_info": {
   "codemirror_mode": {
    "name": "ipython",
    "version": 3
   },
   "file_extension": ".py",
   "mimetype": "text/x-python",
   "name": "python",
   "nbconvert_exporter": "python",
   "pygments_lexer": "ipython3",
   "version": "3.9.12"
  },
  "toc": {
   "base_numbering": 1,
   "nav_menu": {},
   "number_sections": true,
   "sideBar": true,
   "skip_h1_title": false,
   "title_cell": "Table of Contents",
   "title_sidebar": "Contents",
   "toc_cell": false,
   "toc_position": {},
   "toc_section_display": true,
   "toc_window_display": false
  },
  "varInspector": {
   "cols": {
    "lenName": 16,
    "lenType": 16,
    "lenVar": 40
   },
   "kernels_config": {
    "python": {
     "delete_cmd_postfix": "",
     "delete_cmd_prefix": "del ",
     "library": "var_list.py",
     "varRefreshCmd": "print(var_dic_list())"
    },
    "r": {
     "delete_cmd_postfix": ") ",
     "delete_cmd_prefix": "rm(",
     "library": "var_list.r",
     "varRefreshCmd": "cat(var_dic_list()) "
    }
   },
   "types_to_exclude": [
    "module",
    "function",
    "builtin_function_or_method",
    "instance",
    "_Feature"
   ],
   "window_display": false
  }
 },
 "nbformat": 4,
 "nbformat_minor": 5
}

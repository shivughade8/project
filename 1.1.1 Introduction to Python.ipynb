{
 "cells": [
  {
   "cell_type": "code",
   "execution_count": 7,
   "id": "e14f6e7c",
   "metadata": {},
   "outputs": [
    {
     "data": {
      "text/plain": [
       "11"
      ]
     },
     "execution_count": 7,
     "metadata": {},
     "output_type": "execute_result"
    }
   ],
   "source": [
    "1+10"
   ]
  },
  {
   "cell_type": "raw",
   "id": "cd0c4201",
   "metadata": {},
   "source": [
    "ctrl + enter >> to run the cell & stays on the same cell\n",
    "shift + enter >> runs the cell & jumps to next cell"
   ]
  },
  {
   "cell_type": "code",
   "execution_count": null,
   "id": "dfab5d26",
   "metadata": {},
   "outputs": [],
   "source": []
  }
 ],
 "metadata": {
  "kernelspec": {
   "display_name": "Python 3 (ipykernel)",
   "language": "python",
   "name": "python3"
  },
  "language_info": {
   "codemirror_mode": {
    "name": "ipython",
    "version": 3
   },
   "file_extension": ".py",
   "mimetype": "text/x-python",
   "name": "python",
   "nbconvert_exporter": "python",
   "pygments_lexer": "ipython3",
   "version": "3.9.12"
  }
 },
 "nbformat": 4,
 "nbformat_minor": 5
}

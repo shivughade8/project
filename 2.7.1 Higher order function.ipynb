{
 "cells": [
  {
   "cell_type": "raw",
   "id": "2f1a534b",
   "metadata": {},
   "source": [
    "Higher order function:\n",
    "    one function is apssed as an arguement into another function\n",
    "    \n",
    "    Eg: Map, Filter, Reduce"
   ]
  },
  {
   "cell_type": "markdown",
   "id": "d9fc6faa",
   "metadata": {},
   "source": [
    "# Map & Filter"
   ]
  },
  {
   "cell_type": "raw",
   "id": "ccd4b949",
   "metadata": {},
   "source": [
    "Syntax:\n",
    "list(map(function name, iterable))\n",
    "list(filter(function name, iterable))\n",
    "\n",
    "\n",
    "map & filter both can work on conditions but only map works on operations, filter does not!\n",
    "\n",
    "if it's condition then map will return True or False, filter will return those values for which the condition is True\n",
    "\n",
    "if it's an operation the map will return the outcome of the operation & filter will return the iterable as it is\n",
    "\n",
    "for conditions, filter is better than map & for operations map is better than filter"
   ]
  },
  {
   "cell_type": "code",
   "execution_count": 2,
   "id": "0f0b0a77",
   "metadata": {},
   "outputs": [],
   "source": [
    "l1 = ['Sunday','Monday','Tuesday','wednesday','thrusday','Friday','saturday']"
   ]
  },
  {
   "cell_type": "markdown",
   "id": "f4bb29b8",
   "metadata": {},
   "source": [
    "## condition"
   ]
  },
  {
   "cell_type": "code",
   "execution_count": 4,
   "id": "833e60a6",
   "metadata": {},
   "outputs": [
    {
     "data": {
      "text/plain": [
       "(True, True, False, False, False, True, False)"
      ]
     },
     "execution_count": 4,
     "metadata": {},
     "output_type": "execute_result"
    }
   ],
   "source": [
    "tuple(map(lambda x:len(x)==6,l1))"
   ]
  },
  {
   "cell_type": "code",
   "execution_count": 5,
   "id": "a7d8b0a3",
   "metadata": {},
   "outputs": [
    {
     "data": {
      "text/plain": [
       "('Sunday', 'Monday', 'Friday')"
      ]
     },
     "execution_count": 5,
     "metadata": {},
     "output_type": "execute_result"
    }
   ],
   "source": [
    "tuple(filter(lambda x:len(x)==6,l1))"
   ]
  },
  {
   "cell_type": "code",
   "execution_count": 6,
   "id": "25a9c707",
   "metadata": {},
   "outputs": [
    {
     "data": {
      "text/plain": [
       "[False, True, True, False, False]"
      ]
     },
     "execution_count": 6,
     "metadata": {},
     "output_type": "execute_result"
    }
   ],
   "source": [
    "list(map(lambda x:x**2==4 or x**2==9,[1,2,3,4,5]))"
   ]
  },
  {
   "cell_type": "code",
   "execution_count": 7,
   "id": "5f814425",
   "metadata": {},
   "outputs": [
    {
     "data": {
      "text/plain": [
       "[2, 3]"
      ]
     },
     "execution_count": 7,
     "metadata": {},
     "output_type": "execute_result"
    }
   ],
   "source": [
    "list(filter(lambda x:x**2==4 or x**2==9,[1,2,3,4,5]))"
   ]
  },
  {
   "cell_type": "code",
   "execution_count": 8,
   "id": "c0ae9821",
   "metadata": {},
   "outputs": [
    {
     "data": {
      "text/plain": [
       "[False, True, False, True, False]"
      ]
     },
     "execution_count": 8,
     "metadata": {},
     "output_type": "execute_result"
    }
   ],
   "source": [
    "list(map(lambda x:x%2==0,[1,2,3,4,5]))"
   ]
  },
  {
   "cell_type": "code",
   "execution_count": 9,
   "id": "89d40313",
   "metadata": {},
   "outputs": [
    {
     "data": {
      "text/plain": [
       "[2, 4]"
      ]
     },
     "execution_count": 9,
     "metadata": {},
     "output_type": "execute_result"
    }
   ],
   "source": [
    "list(filter(lambda x:x%2==0,[1,2,3,4,5]))"
   ]
  },
  {
   "cell_type": "code",
   "execution_count": 19,
   "id": "ab8e4dab",
   "metadata": {},
   "outputs": [
    {
     "data": {
      "text/plain": [
       "['Sunday', 'Monday', 'Tuesday', 'Friday']"
      ]
     },
     "execution_count": 19,
     "metadata": {},
     "output_type": "execute_result"
    }
   ],
   "source": [
    "list(filter(lambda x:x.istitle(),l1))"
   ]
  },
  {
   "cell_type": "markdown",
   "id": "3982823b",
   "metadata": {},
   "source": [
    "## operations"
   ]
  },
  {
   "cell_type": "code",
   "execution_count": 10,
   "id": "ba19eb3f",
   "metadata": {},
   "outputs": [
    {
     "data": {
      "text/plain": [
       "['SUNDAY', 'MONDAY', 'TUESDAY', 'WEDNESDAY', 'THRUSDAY', 'FRIDAY', 'SATURDAY']"
      ]
     },
     "execution_count": 10,
     "metadata": {},
     "output_type": "execute_result"
    }
   ],
   "source": [
    "list(map(lambda x:x.upper(),l1))"
   ]
  },
  {
   "cell_type": "code",
   "execution_count": 11,
   "id": "f5031a2f",
   "metadata": {},
   "outputs": [
    {
     "data": {
      "text/plain": [
       "['Sunday', 'Monday', 'Tuesday', 'wednesday', 'thrusday', 'Friday', 'saturday']"
      ]
     },
     "execution_count": 11,
     "metadata": {},
     "output_type": "execute_result"
    }
   ],
   "source": [
    "list(filter(lambda x:x.upper(),l1))"
   ]
  },
  {
   "cell_type": "code",
   "execution_count": 12,
   "id": "40b75ee5",
   "metadata": {},
   "outputs": [
    {
     "data": {
      "text/plain": [
       "['Sunday', 'Monday', 'Tuesday', 'Wednesday', 'Thrusday', 'Friday', 'Saturday']"
      ]
     },
     "execution_count": 12,
     "metadata": {},
     "output_type": "execute_result"
    }
   ],
   "source": [
    "list(map(lambda x:x.title(),l1))"
   ]
  },
  {
   "cell_type": "code",
   "execution_count": 13,
   "id": "19b52967",
   "metadata": {},
   "outputs": [
    {
     "data": {
      "text/plain": [
       "['Sunday', 'Monday', 'Tuesday', 'wednesday', 'thrusday', 'Friday', 'saturday']"
      ]
     },
     "execution_count": 13,
     "metadata": {},
     "output_type": "execute_result"
    }
   ],
   "source": [
    "list(filter(lambda x:x.title(),l1))"
   ]
  },
  {
   "cell_type": "code",
   "execution_count": 14,
   "id": "e7643673",
   "metadata": {},
   "outputs": [
    {
     "data": {
      "text/plain": [
       "[1, 4, 9, 16, 25]"
      ]
     },
     "execution_count": 14,
     "metadata": {},
     "output_type": "execute_result"
    }
   ],
   "source": [
    "list(map(lambda x:x**2,[1,2,3,4,5]))"
   ]
  },
  {
   "cell_type": "code",
   "execution_count": 15,
   "id": "a79c2e5b",
   "metadata": {},
   "outputs": [
    {
     "data": {
      "text/plain": [
       "[1, 2, 3, 4, 5]"
      ]
     },
     "execution_count": 15,
     "metadata": {},
     "output_type": "execute_result"
    }
   ],
   "source": [
    "list(filter(lambda x:x**2,[1,2,3,4,5]))"
   ]
  },
  {
   "cell_type": "markdown",
   "id": "2ec1d0ef",
   "metadata": {},
   "source": [
    "# Ruduce"
   ]
  },
  {
   "cell_type": "code",
   "execution_count": null,
   "id": "a9b3126c",
   "metadata": {},
   "outputs": [],
   "source": [
    "Reduce has to be separately imported form funtools library\n",
    "\n",
    "reduce works on 2 items of the iterables at a time, operates on them & then outcome of the opertion is stored in first variable, then the next item is taken in the 2nd variable & again the operation is performed. This goes on till the last item in the iterable.\n",
    "\n",
    "outcome of reduce function is basically a single value\n",
    "\n",
    "Syntax: reduce(function name, iterable)\n",
    "\n",
    "you can also pass 2 iterables in reduce"
   ]
  },
  {
   "cell_type": "code",
   "execution_count": 20,
   "id": "b6214e31",
   "metadata": {},
   "outputs": [],
   "source": [
    "from functools import reduce"
   ]
  },
  {
   "cell_type": "code",
   "execution_count": 21,
   "id": "5310666c",
   "metadata": {},
   "outputs": [
    {
     "data": {
      "text/plain": [
       "17"
      ]
     },
     "execution_count": 21,
     "metadata": {},
     "output_type": "execute_result"
    }
   ],
   "source": [
    "l1 = [2,3,4,5,1,2]\n",
    "\n",
    "reduce(lambda a,b:a+b,l1)"
   ]
  },
  {
   "cell_type": "code",
   "execution_count": 22,
   "id": "81c94852",
   "metadata": {},
   "outputs": [
    {
     "data": {
      "text/plain": [
       "5"
      ]
     },
     "execution_count": 22,
     "metadata": {},
     "output_type": "execute_result"
    }
   ],
   "source": [
    "l1 = [2,3,4,5,1,2]\n",
    "\n",
    "reduce(lambda a,b:a if a>b else b,l1)"
   ]
  },
  {
   "cell_type": "code",
   "execution_count": 24,
   "id": "92d408a3",
   "metadata": {},
   "outputs": [
    {
     "data": {
      "text/plain": [
       "240"
      ]
     },
     "execution_count": 24,
     "metadata": {},
     "output_type": "execute_result"
    }
   ],
   "source": [
    "l1 = [2,3,4,5,1,2]\n",
    "\n",
    "reduce(lambda a,b:a*b,l1)"
   ]
  },
  {
   "cell_type": "code",
   "execution_count": null,
   "id": "431add9b",
   "metadata": {},
   "outputs": [],
   "source": [
    "n = int(input())\n",
    "\n",
    "factorial = reduce(lambda x,y:x*y,range(1,n+1))"
   ]
  },
  {
   "cell_type": "code",
   "execution_count": 28,
   "id": "4fcb7442",
   "metadata": {},
   "outputs": [
    {
     "data": {
      "text/plain": [
       "[1, 2, 3, 4, 5]"
      ]
     },
     "execution_count": 28,
     "metadata": {},
     "output_type": "execute_result"
    }
   ],
   "source": [
    "list(range(1,6))"
   ]
  },
  {
   "cell_type": "code",
   "execution_count": null,
   "id": "9398451d",
   "metadata": {},
   "outputs": [],
   "source": []
  }
 ],
 "metadata": {
  "kernelspec": {
   "display_name": "Python 3",
   "language": "python",
   "name": "python3"
  },
  "language_info": {
   "codemirror_mode": {
    "name": "ipython",
    "version": 3
   },
   "file_extension": ".py",
   "mimetype": "text/x-python",
   "name": "python",
   "nbconvert_exporter": "python",
   "pygments_lexer": "ipython3",
   "version": "3.8.8"
  },
  "toc": {
   "base_numbering": 1,
   "nav_menu": {},
   "number_sections": true,
   "sideBar": true,
   "skip_h1_title": false,
   "title_cell": "Table of Contents",
   "title_sidebar": "Contents",
   "toc_cell": false,
   "toc_position": {},
   "toc_section_display": true,
   "toc_window_display": false
  },
  "varInspector": {
   "cols": {
    "lenName": 16,
    "lenType": 16,
    "lenVar": 40
   },
   "kernels_config": {
    "python": {
     "delete_cmd_postfix": "",
     "delete_cmd_prefix": "del ",
     "library": "var_list.py",
     "varRefreshCmd": "print(var_dic_list())"
    },
    "r": {
     "delete_cmd_postfix": ") ",
     "delete_cmd_prefix": "rm(",
     "library": "var_list.r",
     "varRefreshCmd": "cat(var_dic_list()) "
    }
   },
   "types_to_exclude": [
    "module",
    "function",
    "builtin_function_or_method",
    "instance",
    "_Feature"
   ],
   "window_display": false
  }
 },
 "nbformat": 4,
 "nbformat_minor": 5
}

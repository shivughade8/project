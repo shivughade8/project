{
 "cells": [
  {
   "cell_type": "markdown",
   "id": "169d15c0",
   "metadata": {},
   "source": [
    "# Logical operator"
   ]
  },
  {
   "cell_type": "raw",
   "id": "83da2cf8",
   "metadata": {},
   "source": [
    "and  >> when both conditions are True\n",
    "or   >> when either of the conditions is True\n",
    "not  >> check if soething does not exist"
   ]
  },
  {
   "cell_type": "code",
   "execution_count": null,
   "id": "ca7cbb5d",
   "metadata": {},
   "outputs": [],
   "source": [
    "AND Condition:\n",
    "    \n",
    "condition 1            condition2               Result\n",
    "True                   True                     True\n",
    "True                   False                    False\n",
    "False                  True                     False\n",
    "False                  False                    False\n",
    "\n",
    "\n",
    "OR Condition:\n",
    "    \n",
    "condition 1            condition2               Result\n",
    "True                   True                     True\n",
    "True                   False                    True\n",
    "False                  True                     True\n",
    "False                  False                    False"
   ]
  },
  {
   "cell_type": "code",
   "execution_count": 1,
   "id": "3bb96ada",
   "metadata": {},
   "outputs": [
    {
     "name": "stdout",
     "output_type": "stream",
     "text": [
      "either a or b is not 20\n"
     ]
    }
   ],
   "source": [
    "a = 10; b = 20\n",
    "\n",
    "if a == 20 and b == 20:\n",
    "    print(' a is 20 and b is 20')\n",
    "\n",
    "else:\n",
    "    print('either a or b is not 20')"
   ]
  },
  {
   "cell_type": "code",
   "execution_count": 2,
   "id": "c83c9b83",
   "metadata": {},
   "outputs": [
    {
     "name": "stdout",
     "output_type": "stream",
     "text": [
      " a is 20 or b is 20\n"
     ]
    }
   ],
   "source": [
    "a = 10; b = 20\n",
    "\n",
    "if a == 20 or b == 20:\n",
    "    print(' a is 20 or b is 20')\n",
    "\n",
    "else:\n",
    "    print('neither a nor b is not 20')"
   ]
  },
  {
   "cell_type": "raw",
   "id": "9eddc238",
   "metadata": {},
   "source": [
    "x = 100\n",
    "\n",
    "if not x:\n",
    "    print('x does not exist')\n",
    "    \n",
    "else:\n",
    "    print('x exist')"
   ]
  },
  {
   "cell_type": "code",
   "execution_count": 4,
   "id": "9d88de3f",
   "metadata": {},
   "outputs": [
    {
     "name": "stdout",
     "output_type": "stream",
     "text": [
      "x does exist\n"
     ]
    }
   ],
   "source": [
    "if x:\n",
    "    print('x does exist')\n",
    "    \n",
    "else:\n",
    "    print('x does not exist')"
   ]
  },
  {
   "cell_type": "markdown",
   "id": "1220aa65",
   "metadata": {},
   "source": [
    "# Membership Operator"
   ]
  },
  {
   "cell_type": "raw",
   "id": "e5995f5e",
   "metadata": {},
   "source": [
    "in\n",
    "not in"
   ]
  },
  {
   "cell_type": "code",
   "execution_count": 5,
   "id": "87f4b62d",
   "metadata": {},
   "outputs": [
    {
     "name": "stdout",
     "output_type": "stream",
     "text": [
      "2 is present\n"
     ]
    }
   ],
   "source": [
    "dummy_list = [2,3,4,5]\n",
    "\n",
    "if 2 in dummy_list:\n",
    "    print('2 is present')\n",
    "else:\n",
    "    display('2 is not present in list')"
   ]
  },
  {
   "cell_type": "code",
   "execution_count": 6,
   "id": "9bff6c7e",
   "metadata": {},
   "outputs": [
    {
     "data": {
      "text/plain": [
       "'2 is present in list'"
      ]
     },
     "metadata": {},
     "output_type": "display_data"
    }
   ],
   "source": [
    "dummy_list = [2,3,4,5]\n",
    "\n",
    "if 2 not in dummy_list:\n",
    "    print('2 is absent')\n",
    "else:\n",
    "    display('2 is present in list')"
   ]
  },
  {
   "cell_type": "code",
   "execution_count": 7,
   "id": "fc16517e",
   "metadata": {},
   "outputs": [
    {
     "name": "stdout",
     "output_type": "stream",
     "text": [
      "yes class is a word in the string\n"
     ]
    }
   ],
   "source": [
    "string = \"hi welcome to class today\"\n",
    "\n",
    "if 'class' in string:\n",
    "    print('yes class is a word in the string')"
   ]
  },
  {
   "cell_type": "markdown",
   "id": "bfd3bf17",
   "metadata": {},
   "source": [
    "# comparison operator"
   ]
  },
  {
   "cell_type": "raw",
   "id": "e8e85e9d",
   "metadata": {},
   "source": [
    "==   equals to\n",
    ">=   greter than equals to \n",
    "<=   less than equals to\n",
    "!=   not equal to\n",
    ">    greater than\n",
    "<    less than"
   ]
  },
  {
   "cell_type": "code",
   "execution_count": 8,
   "id": "fbd7499c",
   "metadata": {},
   "outputs": [
    {
     "data": {
      "text/plain": [
       "True"
      ]
     },
     "execution_count": 8,
     "metadata": {},
     "output_type": "execute_result"
    }
   ],
   "source": [
    "10 < 20"
   ]
  },
  {
   "cell_type": "code",
   "execution_count": 9,
   "id": "878f1cf2",
   "metadata": {},
   "outputs": [
    {
     "data": {
      "text/plain": [
       "False"
      ]
     },
     "execution_count": 9,
     "metadata": {},
     "output_type": "execute_result"
    }
   ],
   "source": [
    "10 > 20"
   ]
  },
  {
   "cell_type": "code",
   "execution_count": 10,
   "id": "0686dfa7",
   "metadata": {},
   "outputs": [
    {
     "data": {
      "text/plain": [
       "False"
      ]
     },
     "execution_count": 10,
     "metadata": {},
     "output_type": "execute_result"
    }
   ],
   "source": [
    "10 == 20"
   ]
  },
  {
   "cell_type": "code",
   "execution_count": 17,
   "id": "8718aae2",
   "metadata": {},
   "outputs": [
    {
     "data": {
      "text/plain": [
       "True"
      ]
     },
     "execution_count": 17,
     "metadata": {},
     "output_type": "execute_result"
    }
   ],
   "source": [
    "a = (10/2)\n",
    "b = 2.5*2\n",
    "\n",
    "a==b"
   ]
  },
  {
   "cell_type": "code",
   "execution_count": 12,
   "id": "02f7d0f2",
   "metadata": {},
   "outputs": [
    {
     "data": {
      "text/plain": [
       "True"
      ]
     },
     "execution_count": 12,
     "metadata": {},
     "output_type": "execute_result"
    }
   ],
   "source": [
    "a >= b"
   ]
  },
  {
   "cell_type": "code",
   "execution_count": 13,
   "id": "6334d27e",
   "metadata": {},
   "outputs": [
    {
     "data": {
      "text/plain": [
       "True"
      ]
     },
     "execution_count": 13,
     "metadata": {},
     "output_type": "execute_result"
    }
   ],
   "source": [
    "a <= b\n"
   ]
  },
  {
   "cell_type": "code",
   "execution_count": 18,
   "id": "8ab93a74",
   "metadata": {},
   "outputs": [
    {
     "data": {
      "text/plain": [
       "False"
      ]
     },
     "execution_count": 18,
     "metadata": {},
     "output_type": "execute_result"
    }
   ],
   "source": [
    "a != b"
   ]
  },
  {
   "cell_type": "code",
   "execution_count": 14,
   "id": "32b6d903",
   "metadata": {},
   "outputs": [
    {
     "data": {
      "text/plain": [
       "False"
      ]
     },
     "execution_count": 14,
     "metadata": {},
     "output_type": "execute_result"
    }
   ],
   "source": [
    "a = 10\n",
    "b = 20\n",
    "\n",
    "a >= b"
   ]
  },
  {
   "cell_type": "code",
   "execution_count": 15,
   "id": "34118b78",
   "metadata": {},
   "outputs": [
    {
     "data": {
      "text/plain": [
       "False"
      ]
     },
     "execution_count": 15,
     "metadata": {},
     "output_type": "execute_result"
    }
   ],
   "source": [
    "b <= a"
   ]
  },
  {
   "cell_type": "code",
   "execution_count": 16,
   "id": "a3b2f01a",
   "metadata": {},
   "outputs": [
    {
     "data": {
      "text/plain": [
       "True"
      ]
     },
     "execution_count": 16,
     "metadata": {},
     "output_type": "execute_result"
    }
   ],
   "source": [
    "a != b"
   ]
  },
  {
   "cell_type": "code",
   "execution_count": 20,
   "id": "7cb1c2ba",
   "metadata": {},
   "outputs": [
    {
     "name": "stdout",
     "output_type": "stream",
     "text": [
      "b is greater\n"
     ]
    }
   ],
   "source": [
    "x,y=0,2\n",
    "\n",
    "a = x**2+5\n",
    "b = 5*y+2*x\n",
    "\n",
    "if a >= b:\n",
    "    print('a is greater or eqaul to b')\n",
    "    \n",
    "else:\n",
    "    print('b is greater')"
   ]
  },
  {
   "cell_type": "markdown",
   "id": "353a29d7",
   "metadata": {},
   "source": [
    "# identity operator"
   ]
  },
  {
   "cell_type": "raw",
   "id": "b8d56370",
   "metadata": {},
   "source": [
    "is           >> works same as ==\n",
    "is not       >> works same as !="
   ]
  },
  {
   "cell_type": "code",
   "execution_count": 21,
   "id": "c5230fd7",
   "metadata": {},
   "outputs": [
    {
     "data": {
      "text/plain": [
       "'a and b differ!'"
      ]
     },
     "metadata": {},
     "output_type": "display_data"
    }
   ],
   "source": [
    "a,b = 10,20\n",
    "\n",
    "if a is b:\n",
    "    print('a is equals to b')\n",
    "else:\n",
    "    display('a and b differ!')"
   ]
  },
  {
   "cell_type": "code",
   "execution_count": 22,
   "id": "27b771ca",
   "metadata": {},
   "outputs": [
    {
     "name": "stdout",
     "output_type": "stream",
     "text": [
      "a is not equals to b\n"
     ]
    }
   ],
   "source": [
    "if a is not b:\n",
    "    print('a is not equals to b')\n",
    "else:\n",
    "    print('a and b does not differ!')"
   ]
  },
  {
   "cell_type": "markdown",
   "id": "ab1e7710",
   "metadata": {},
   "source": [
    "# Bitwise Operator"
   ]
  },
  {
   "cell_type": "raw",
   "id": "a04efc0b",
   "metadata": {},
   "source": [
    "&      Bitwise AND\n",
    "|      Bitwise OR\n",
    "~      Bitwise NOT\n",
    "^      Bitwise XOR"
   ]
  },
  {
   "cell_type": "code",
   "execution_count": 25,
   "id": "a424a868",
   "metadata": {},
   "outputs": [
    {
     "data": {
      "text/plain": [
       "'0b1010'"
      ]
     },
     "execution_count": 25,
     "metadata": {},
     "output_type": "execute_result"
    }
   ],
   "source": [
    "bin(10)"
   ]
  },
  {
   "cell_type": "code",
   "execution_count": 27,
   "id": "0104a32a",
   "metadata": {},
   "outputs": [
    {
     "data": {
      "text/plain": [
       "'0b1100'"
      ]
     },
     "execution_count": 27,
     "metadata": {},
     "output_type": "execute_result"
    }
   ],
   "source": [
    "bin(12)"
   ]
  },
  {
   "cell_type": "code",
   "execution_count": 26,
   "id": "802a49f5",
   "metadata": {},
   "outputs": [
    {
     "data": {
      "text/plain": [
       "8"
      ]
     },
     "execution_count": 26,
     "metadata": {},
     "output_type": "execute_result"
    }
   ],
   "source": [
    "10 & 12"
   ]
  },
  {
   "cell_type": "raw",
   "id": "c3e9c63d",
   "metadata": {},
   "source": [
    "1010\n",
    "1100\n",
    "\n",
    "1000"
   ]
  },
  {
   "cell_type": "code",
   "execution_count": 28,
   "id": "503e31c2",
   "metadata": {},
   "outputs": [
    {
     "data": {
      "text/plain": [
       "8"
      ]
     },
     "execution_count": 28,
     "metadata": {},
     "output_type": "execute_result"
    }
   ],
   "source": [
    "int('1000',2)"
   ]
  },
  {
   "cell_type": "code",
   "execution_count": 29,
   "id": "ee332696",
   "metadata": {},
   "outputs": [
    {
     "data": {
      "text/plain": [
       "14"
      ]
     },
     "execution_count": 29,
     "metadata": {},
     "output_type": "execute_result"
    }
   ],
   "source": [
    "10 | 12"
   ]
  },
  {
   "cell_type": "code",
   "execution_count": null,
   "id": "cbc1829b",
   "metadata": {},
   "outputs": [],
   "source": [
    "1010\n",
    "1100\n",
    "\n",
    "1110"
   ]
  },
  {
   "cell_type": "code",
   "execution_count": 30,
   "id": "dfa72ccc",
   "metadata": {},
   "outputs": [
    {
     "data": {
      "text/plain": [
       "14"
      ]
     },
     "execution_count": 30,
     "metadata": {},
     "output_type": "execute_result"
    }
   ],
   "source": [
    "int('1110',2)"
   ]
  },
  {
   "cell_type": "code",
   "execution_count": 31,
   "id": "a82f19c4",
   "metadata": {},
   "outputs": [
    {
     "name": "stdout",
     "output_type": "stream",
     "text": [
      "correct\n"
     ]
    }
   ],
   "source": [
    "if a ==10 and b == 20:\n",
    "    print('correct')"
   ]
  },
  {
   "cell_type": "code",
   "execution_count": 32,
   "id": "27208427",
   "metadata": {},
   "outputs": [],
   "source": [
    "if a == 10 & b == 20:\n",
    "    print('correct')"
   ]
  },
  {
   "cell_type": "code",
   "execution_count": 33,
   "id": "2505d78f",
   "metadata": {},
   "outputs": [
    {
     "data": {
      "text/plain": [
       "-11"
      ]
     },
     "execution_count": 33,
     "metadata": {},
     "output_type": "execute_result"
    }
   ],
   "source": [
    "~(10)"
   ]
  },
  {
   "cell_type": "code",
   "execution_count": 34,
   "id": "7bda4a35",
   "metadata": {},
   "outputs": [
    {
     "data": {
      "text/plain": [
       "-11"
      ]
     },
     "execution_count": 34,
     "metadata": {},
     "output_type": "execute_result"
    }
   ],
   "source": [
    "-(10)-1"
   ]
  },
  {
   "cell_type": "code",
   "execution_count": 35,
   "id": "bc27c52e",
   "metadata": {},
   "outputs": [
    {
     "data": {
      "text/plain": [
       "-10"
      ]
     },
     "execution_count": 35,
     "metadata": {},
     "output_type": "execute_result"
    }
   ],
   "source": [
    "~(9)    # -(9)-1"
   ]
  },
  {
   "cell_type": "code",
   "execution_count": 37,
   "id": "30ad82a0",
   "metadata": {},
   "outputs": [
    {
     "data": {
      "text/plain": [
       "9"
      ]
     },
     "execution_count": 37,
     "metadata": {},
     "output_type": "execute_result"
    }
   ],
   "source": [
    "~(-10)   # -(-10)-1    >> 10-1"
   ]
  },
  {
   "cell_type": "code",
   "execution_count": 38,
   "id": "824ac27a",
   "metadata": {},
   "outputs": [
    {
     "data": {
      "text/plain": [
       "1"
      ]
     },
     "execution_count": 38,
     "metadata": {},
     "output_type": "execute_result"
    }
   ],
   "source": [
    "10^11"
   ]
  },
  {
   "cell_type": "raw",
   "id": "b9e8d79c",
   "metadata": {},
   "source": [
    "1010\n",
    "1011\n",
    "\n",
    "0001"
   ]
  },
  {
   "cell_type": "code",
   "execution_count": 39,
   "id": "49449af6",
   "metadata": {},
   "outputs": [
    {
     "data": {
      "text/plain": [
       "6"
      ]
     },
     "execution_count": 39,
     "metadata": {},
     "output_type": "execute_result"
    }
   ],
   "source": [
    "10^12"
   ]
  },
  {
   "cell_type": "raw",
   "id": "e7be1fe2",
   "metadata": {},
   "source": [
    "1010\n",
    "1100\n",
    "\n",
    "0110"
   ]
  },
  {
   "cell_type": "code",
   "execution_count": 40,
   "id": "a3d7d0d2",
   "metadata": {},
   "outputs": [
    {
     "data": {
      "text/plain": [
       "6"
      ]
     },
     "execution_count": 40,
     "metadata": {},
     "output_type": "execute_result"
    }
   ],
   "source": [
    "int('110',2)"
   ]
  },
  {
   "cell_type": "markdown",
   "id": "6042f945",
   "metadata": {},
   "source": [
    "# BODMAS Rule"
   ]
  },
  {
   "cell_type": "raw",
   "id": "ae69dabe",
   "metadata": {},
   "source": [
    "# sequence of mathematical operators\n",
    "\n",
    "# Brackets Order(power) Division Multiplication Addition Subtraction\n",
    "\n",
    "1. ()   >> Paranthesis\n",
    "2. **   >> power\n",
    "3. / * //\n",
    "4. + -"
   ]
  },
  {
   "cell_type": "code",
   "execution_count": null,
   "id": "0b528da9",
   "metadata": {},
   "outputs": [],
   "source": []
  }
 ],
 "metadata": {
  "kernelspec": {
   "display_name": "Python 3 (ipykernel)",
   "language": "python",
   "name": "python3"
  },
  "language_info": {
   "codemirror_mode": {
    "name": "ipython",
    "version": 3
   },
   "file_extension": ".py",
   "mimetype": "text/x-python",
   "name": "python",
   "nbconvert_exporter": "python",
   "pygments_lexer": "ipython3",
   "version": "3.9.12"
  }
 },
 "nbformat": 4,
 "nbformat_minor": 5
}

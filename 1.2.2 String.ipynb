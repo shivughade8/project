{
 "cells": [
  {
   "cell_type": "raw",
   "id": "43503bf1",
   "metadata": {},
   "source": [
    "Define:\n",
    "    String is collection of chracters that will be within single, double or triple inverted commas.\n",
    "    It is also a data type in python.\n",
    "    A String can contain english alphabets or numbers or special characters.\n",
    "    The string data type is denoted by str."
   ]
  },
  {
   "cell_type": "code",
   "execution_count": 1,
   "id": "b02d11f3",
   "metadata": {},
   "outputs": [
    {
     "ename": "SyntaxError",
     "evalue": "invalid syntax (1048808772.py, line 1)",
     "output_type": "error",
     "traceback": [
      "\u001b[1;36m  Input \u001b[1;32mIn [1]\u001b[1;36m\u001b[0m\n\u001b[1;33m    hi there\u001b[0m\n\u001b[1;37m       ^\u001b[0m\n\u001b[1;31mSyntaxError\u001b[0m\u001b[1;31m:\u001b[0m invalid syntax\n"
     ]
    }
   ],
   "source": [
    "hi there"
   ]
  },
  {
   "cell_type": "code",
   "execution_count": 2,
   "id": "065f6829",
   "metadata": {},
   "outputs": [
    {
     "data": {
      "text/plain": [
       "'hi there'"
      ]
     },
     "execution_count": 2,
     "metadata": {},
     "output_type": "execute_result"
    }
   ],
   "source": [
    "'hi there'"
   ]
  },
  {
   "cell_type": "code",
   "execution_count": 3,
   "id": "10b85376",
   "metadata": {},
   "outputs": [
    {
     "data": {
      "text/plain": [
       "'hi there'"
      ]
     },
     "execution_count": 3,
     "metadata": {},
     "output_type": "execute_result"
    }
   ],
   "source": [
    "my_var = 'hi there'\n",
    "my_var"
   ]
  },
  {
   "cell_type": "code",
   "execution_count": 4,
   "id": "67d188bd",
   "metadata": {},
   "outputs": [
    {
     "data": {
      "text/plain": [
       "'Hi there 007'"
      ]
     },
     "execution_count": 4,
     "metadata": {},
     "output_type": "execute_result"
    }
   ],
   "source": [
    "my_variable = 'Hi there 007'\n",
    "my_variable"
   ]
  },
  {
   "cell_type": "code",
   "execution_count": 5,
   "id": "531e7ffa",
   "metadata": {},
   "outputs": [
    {
     "data": {
      "text/plain": [
       "100"
      ]
     },
     "execution_count": 5,
     "metadata": {},
     "output_type": "execute_result"
    }
   ],
   "source": [
    "number = 100\n",
    "number"
   ]
  },
  {
   "cell_type": "code",
   "execution_count": 6,
   "id": "df44bc00",
   "metadata": {},
   "outputs": [
    {
     "data": {
      "text/plain": [
       "'100'"
      ]
     },
     "execution_count": 6,
     "metadata": {},
     "output_type": "execute_result"
    }
   ],
   "source": [
    "number = '100'\n",
    "number"
   ]
  },
  {
   "cell_type": "markdown",
   "id": "1ea1f21c",
   "metadata": {},
   "source": [
    "# Type function"
   ]
  },
  {
   "cell_type": "raw",
   "id": "6c24a5b4",
   "metadata": {},
   "source": [
    "is used to check the data type of the variable"
   ]
  },
  {
   "cell_type": "code",
   "execution_count": 7,
   "id": "9ff4f7e3",
   "metadata": {},
   "outputs": [
    {
     "data": {
      "text/plain": [
       "str"
      ]
     },
     "execution_count": 7,
     "metadata": {},
     "output_type": "execute_result"
    }
   ],
   "source": [
    "type(number)"
   ]
  },
  {
   "cell_type": "code",
   "execution_count": 8,
   "id": "43960060",
   "metadata": {},
   "outputs": [
    {
     "data": {
      "text/plain": [
       "int"
      ]
     },
     "execution_count": 8,
     "metadata": {},
     "output_type": "execute_result"
    }
   ],
   "source": [
    "x = 100\n",
    "type(x)"
   ]
  },
  {
   "cell_type": "code",
   "execution_count": 9,
   "id": "aa6839f4",
   "metadata": {},
   "outputs": [
    {
     "data": {
      "text/plain": [
       "float"
      ]
     },
     "execution_count": 9,
     "metadata": {},
     "output_type": "execute_result"
    }
   ],
   "source": [
    "y = 123.12\n",
    "type(y)"
   ]
  },
  {
   "cell_type": "code",
   "execution_count": 10,
   "id": "6ad44774",
   "metadata": {},
   "outputs": [
    {
     "data": {
      "text/plain": [
       "complex"
      ]
     },
     "execution_count": 10,
     "metadata": {},
     "output_type": "execute_result"
    }
   ],
   "source": [
    "z = 3 + 4j\n",
    "type(z)"
   ]
  },
  {
   "cell_type": "code",
   "execution_count": 11,
   "id": "76ae9660",
   "metadata": {},
   "outputs": [
    {
     "data": {
      "text/plain": [
       "int"
      ]
     },
     "execution_count": 11,
     "metadata": {},
     "output_type": "execute_result"
    }
   ],
   "source": [
    "type(55284)"
   ]
  },
  {
   "cell_type": "code",
   "execution_count": 12,
   "id": "28dba44f",
   "metadata": {},
   "outputs": [
    {
     "data": {
      "text/plain": [
       "str"
      ]
     },
     "execution_count": 12,
     "metadata": {},
     "output_type": "execute_result"
    }
   ],
   "source": [
    "type('55284')"
   ]
  },
  {
   "cell_type": "markdown",
   "id": "0d5ee8ed",
   "metadata": {},
   "source": [
    "### when to use which quotes"
   ]
  },
  {
   "cell_type": "raw",
   "id": "d06e1000",
   "metadata": {},
   "source": [
    "single & double quotes can be used when we have a string of single line\n",
    "for multiple lines string, triple single inverted or triple double inverted commas should be used."
   ]
  },
  {
   "cell_type": "code",
   "execution_count": 13,
   "id": "be890767",
   "metadata": {},
   "outputs": [
    {
     "data": {
      "text/plain": [
       "'hey this is python class'"
      ]
     },
     "execution_count": 13,
     "metadata": {},
     "output_type": "execute_result"
    }
   ],
   "source": [
    "'hey this is python class'"
   ]
  },
  {
   "cell_type": "code",
   "execution_count": 14,
   "id": "4e2d26d8",
   "metadata": {},
   "outputs": [
    {
     "data": {
      "text/plain": [
       "'hey this is python class'"
      ]
     },
     "execution_count": 14,
     "metadata": {},
     "output_type": "execute_result"
    }
   ],
   "source": [
    "\"hey this is python class\""
   ]
  },
  {
   "cell_type": "code",
   "execution_count": 15,
   "id": "473ee975",
   "metadata": {},
   "outputs": [
    {
     "ename": "SyntaxError",
     "evalue": "EOL while scanning string literal (73582754.py, line 1)",
     "output_type": "error",
     "traceback": [
      "\u001b[1;36m  Input \u001b[1;32mIn [15]\u001b[1;36m\u001b[0m\n\u001b[1;33m    'hey this is python class\u001b[0m\n\u001b[1;37m                             ^\u001b[0m\n\u001b[1;31mSyntaxError\u001b[0m\u001b[1;31m:\u001b[0m EOL while scanning string literal\n"
     ]
    }
   ],
   "source": [
    "'hey this is python class\n",
    "welcome to velocity'"
   ]
  },
  {
   "cell_type": "code",
   "execution_count": 16,
   "id": "c7f32c8c",
   "metadata": {},
   "outputs": [
    {
     "ename": "SyntaxError",
     "evalue": "EOL while scanning string literal (1318005913.py, line 1)",
     "output_type": "error",
     "traceback": [
      "\u001b[1;36m  Input \u001b[1;32mIn [16]\u001b[1;36m\u001b[0m\n\u001b[1;33m    \"hey this is python class\u001b[0m\n\u001b[1;37m                             ^\u001b[0m\n\u001b[1;31mSyntaxError\u001b[0m\u001b[1;31m:\u001b[0m EOL while scanning string literal\n"
     ]
    }
   ],
   "source": [
    "\"hey this is python class\n",
    "welcome to velocity\""
   ]
  },
  {
   "cell_type": "code",
   "execution_count": 40,
   "id": "f2d8bb0e",
   "metadata": {},
   "outputs": [
    {
     "name": "stdout",
     "output_type": "stream",
     "text": [
      "hey this is python class\n",
      "welcome to velocity\n"
     ]
    }
   ],
   "source": [
    "'''hey this is python class\n",
    "welcome to velocity'''"
   ]
  },
  {
   "cell_type": "code",
   "execution_count": 19,
   "id": "4cb9bf93",
   "metadata": {},
   "outputs": [
    {
     "data": {
      "text/plain": [
       "'hey this is python class\\nwelcome to velocity\\nthis is your 2nd session'"
      ]
     },
     "execution_count": 19,
     "metadata": {},
     "output_type": "execute_result"
    }
   ],
   "source": [
    "\"\"\"hey this is python class\n",
    "welcome to velocity\n",
    "this is your 2nd session\"\"\""
   ]
  },
  {
   "cell_type": "code",
   "execution_count": 20,
   "id": "edcf8e14",
   "metadata": {},
   "outputs": [
    {
     "data": {
      "text/plain": [
       "'hello'"
      ]
     },
     "execution_count": 20,
     "metadata": {},
     "output_type": "execute_result"
    }
   ],
   "source": [
    "'''hello'''"
   ]
  },
  {
   "cell_type": "code",
   "execution_count": 21,
   "id": "4ec23ed3",
   "metadata": {},
   "outputs": [
    {
     "ename": "SyntaxError",
     "evalue": "invalid syntax (424448422.py, line 1)",
     "output_type": "error",
     "traceback": [
      "\u001b[1;36m  Input \u001b[1;32mIn [21]\u001b[1;36m\u001b[0m\n\u001b[1;33m    'hi what's your name?'\u001b[0m\n\u001b[1;37m             ^\u001b[0m\n\u001b[1;31mSyntaxError\u001b[0m\u001b[1;31m:\u001b[0m invalid syntax\n"
     ]
    }
   ],
   "source": [
    "'hi what's your name?'"
   ]
  },
  {
   "cell_type": "code",
   "execution_count": 22,
   "id": "160ee7ee",
   "metadata": {},
   "outputs": [
    {
     "data": {
      "text/plain": [
       "\"hi what's your name?\""
      ]
     },
     "execution_count": 22,
     "metadata": {},
     "output_type": "execute_result"
    }
   ],
   "source": [
    "\"hi what's your name?\""
   ]
  },
  {
   "cell_type": "code",
   "execution_count": 23,
   "id": "4e26b751",
   "metadata": {},
   "outputs": [
    {
     "ename": "SyntaxError",
     "evalue": "invalid syntax (542652947.py, line 1)",
     "output_type": "error",
     "traceback": [
      "\u001b[1;36m  Input \u001b[1;32mIn [23]\u001b[1;36m\u001b[0m\n\u001b[1;33m    \"hi, let me tell you a \"secreat\".\"\u001b[0m\n\u001b[1;37m                            ^\u001b[0m\n\u001b[1;31mSyntaxError\u001b[0m\u001b[1;31m:\u001b[0m invalid syntax\n"
     ]
    }
   ],
   "source": [
    "\"hi, let me tell you a \"secret\".\""
   ]
  },
  {
   "cell_type": "code",
   "execution_count": 24,
   "id": "53105889",
   "metadata": {},
   "outputs": [
    {
     "data": {
      "text/plain": [
       "'hi, let me tell you a \"secret\".'"
      ]
     },
     "execution_count": 24,
     "metadata": {},
     "output_type": "execute_result"
    }
   ],
   "source": [
    "'hi, let me tell you a \"secret\".'"
   ]
  },
  {
   "cell_type": "code",
   "execution_count": 25,
   "id": "f3610a55",
   "metadata": {},
   "outputs": [
    {
     "data": {
      "text/plain": [
       "'hi, let me tell you a \"secret\".'"
      ]
     },
     "execution_count": 25,
     "metadata": {},
     "output_type": "execute_result"
    }
   ],
   "source": [
    "'''hi, let me tell you a \"secret\".'''"
   ]
  },
  {
   "cell_type": "code",
   "execution_count": 26,
   "id": "0f7c7adb",
   "metadata": {},
   "outputs": [
    {
     "data": {
      "text/plain": [
       "\"hi what's your name?\""
      ]
     },
     "execution_count": 26,
     "metadata": {},
     "output_type": "execute_result"
    }
   ],
   "source": [
    "'hi what\\'s your name?'"
   ]
  },
  {
   "cell_type": "markdown",
   "id": "3cead2aa",
   "metadata": {},
   "source": [
    "# Print & Display Function"
   ]
  },
  {
   "cell_type": "code",
   "execution_count": 27,
   "id": "1e71a9d7",
   "metadata": {},
   "outputs": [
    {
     "data": {
      "text/plain": [
       "'Vaibhav Kadam'"
      ]
     },
     "execution_count": 27,
     "metadata": {},
     "output_type": "execute_result"
    }
   ],
   "source": [
    "\"Harshal Ingle\"\n",
    "'Vaibhav Kadam'"
   ]
  },
  {
   "cell_type": "code",
   "execution_count": 28,
   "id": "c8786bbb",
   "metadata": {},
   "outputs": [
    {
     "name": "stdout",
     "output_type": "stream",
     "text": [
      "Harshal Ingle\n",
      "Vaibhav Kadam\n"
     ]
    }
   ],
   "source": [
    "print(\"Harshal Ingle\")\n",
    "print('Vaibhav Kadam')"
   ]
  },
  {
   "cell_type": "code",
   "execution_count": 29,
   "id": "bec46187",
   "metadata": {},
   "outputs": [
    {
     "name": "stdout",
     "output_type": "stream",
     "text": [
      "Harshal Ingle\n"
     ]
    },
    {
     "data": {
      "text/plain": [
       "'Vaibhav Kadam'"
      ]
     },
     "execution_count": 29,
     "metadata": {},
     "output_type": "execute_result"
    }
   ],
   "source": [
    "print(\"Harshal Ingle\")\n",
    "'Vaibhav Kadam'"
   ]
  },
  {
   "cell_type": "code",
   "execution_count": 30,
   "id": "a05f59cd",
   "metadata": {},
   "outputs": [
    {
     "name": "stdout",
     "output_type": "stream",
     "text": [
      "9\n"
     ]
    }
   ],
   "source": [
    "print(9)"
   ]
  },
  {
   "cell_type": "code",
   "execution_count": 31,
   "id": "ace2d525",
   "metadata": {},
   "outputs": [
    {
     "data": {
      "text/plain": [
       "'Harshal Ingle'"
      ]
     },
     "metadata": {},
     "output_type": "display_data"
    },
    {
     "data": {
      "text/plain": [
       "'Vaibhav Kadam'"
      ]
     },
     "metadata": {},
     "output_type": "display_data"
    }
   ],
   "source": [
    "display(\"Harshal Ingle\")\n",
    "display('Vaibhav Kadam')"
   ]
  },
  {
   "cell_type": "code",
   "execution_count": 32,
   "id": "c61f407e",
   "metadata": {},
   "outputs": [],
   "source": [
    "from IPython.display import display"
   ]
  },
  {
   "cell_type": "markdown",
   "id": "cec2881e",
   "metadata": {},
   "source": [
    "### difference between these 2"
   ]
  },
  {
   "cell_type": "code",
   "execution_count": 33,
   "id": "f3d05a98",
   "metadata": {},
   "outputs": [
    {
     "data": {
      "text/html": [
       "<div>\n",
       "<style scoped>\n",
       "    .dataframe tbody tr th:only-of-type {\n",
       "        vertical-align: middle;\n",
       "    }\n",
       "\n",
       "    .dataframe tbody tr th {\n",
       "        vertical-align: top;\n",
       "    }\n",
       "\n",
       "    .dataframe thead th {\n",
       "        text-align: right;\n",
       "    }\n",
       "</style>\n",
       "<table border=\"1\" class=\"dataframe\">\n",
       "  <thead>\n",
       "    <tr style=\"text-align: right;\">\n",
       "      <th></th>\n",
       "      <th>A</th>\n",
       "      <th>B</th>\n",
       "    </tr>\n",
       "  </thead>\n",
       "  <tbody>\n",
       "    <tr>\n",
       "      <th>0</th>\n",
       "      <td>1</td>\n",
       "      <td>5</td>\n",
       "    </tr>\n",
       "    <tr>\n",
       "      <th>1</th>\n",
       "      <td>2</td>\n",
       "      <td>6</td>\n",
       "    </tr>\n",
       "    <tr>\n",
       "      <th>2</th>\n",
       "      <td>3</td>\n",
       "      <td>7</td>\n",
       "    </tr>\n",
       "    <tr>\n",
       "      <th>3</th>\n",
       "      <td>4</td>\n",
       "      <td>8</td>\n",
       "    </tr>\n",
       "  </tbody>\n",
       "</table>\n",
       "</div>"
      ],
      "text/plain": [
       "   A  B\n",
       "0  1  5\n",
       "1  2  6\n",
       "2  3  7\n",
       "3  4  8"
      ]
     },
     "execution_count": 33,
     "metadata": {},
     "output_type": "execute_result"
    }
   ],
   "source": [
    "import pandas as pd\n",
    "\n",
    "df = pd.DataFrame({'A':[1,2,3,4],'B':[5,6,7,8]})\n",
    "df"
   ]
  },
  {
   "cell_type": "code",
   "execution_count": 34,
   "id": "8b4a367a",
   "metadata": {},
   "outputs": [
    {
     "name": "stdout",
     "output_type": "stream",
     "text": [
      "   A  B\n",
      "0  1  5\n",
      "1  2  6\n",
      "2  3  7\n",
      "3  4  8\n"
     ]
    }
   ],
   "source": [
    "print(df)"
   ]
  },
  {
   "cell_type": "code",
   "execution_count": 35,
   "id": "3090c9c5",
   "metadata": {},
   "outputs": [
    {
     "data": {
      "text/html": [
       "<div>\n",
       "<style scoped>\n",
       "    .dataframe tbody tr th:only-of-type {\n",
       "        vertical-align: middle;\n",
       "    }\n",
       "\n",
       "    .dataframe tbody tr th {\n",
       "        vertical-align: top;\n",
       "    }\n",
       "\n",
       "    .dataframe thead th {\n",
       "        text-align: right;\n",
       "    }\n",
       "</style>\n",
       "<table border=\"1\" class=\"dataframe\">\n",
       "  <thead>\n",
       "    <tr style=\"text-align: right;\">\n",
       "      <th></th>\n",
       "      <th>A</th>\n",
       "      <th>B</th>\n",
       "    </tr>\n",
       "  </thead>\n",
       "  <tbody>\n",
       "    <tr>\n",
       "      <th>0</th>\n",
       "      <td>1</td>\n",
       "      <td>5</td>\n",
       "    </tr>\n",
       "    <tr>\n",
       "      <th>1</th>\n",
       "      <td>2</td>\n",
       "      <td>6</td>\n",
       "    </tr>\n",
       "    <tr>\n",
       "      <th>2</th>\n",
       "      <td>3</td>\n",
       "      <td>7</td>\n",
       "    </tr>\n",
       "    <tr>\n",
       "      <th>3</th>\n",
       "      <td>4</td>\n",
       "      <td>8</td>\n",
       "    </tr>\n",
       "  </tbody>\n",
       "</table>\n",
       "</div>"
      ],
      "text/plain": [
       "   A  B\n",
       "0  1  5\n",
       "1  2  6\n",
       "2  3  7\n",
       "3  4  8"
      ]
     },
     "metadata": {},
     "output_type": "display_data"
    }
   ],
   "source": [
    "display(df)"
   ]
  },
  {
   "cell_type": "markdown",
   "id": "cd4adc23",
   "metadata": {},
   "source": [
    "# Parameters in print function"
   ]
  },
  {
   "cell_type": "markdown",
   "id": "b633da39",
   "metadata": {},
   "source": [
    "## \\n"
   ]
  },
  {
   "cell_type": "raw",
   "id": "32db3e7e",
   "metadata": {},
   "source": [
    "is used for next line or new line"
   ]
  },
  {
   "cell_type": "code",
   "execution_count": 37,
   "id": "37be20e3",
   "metadata": {},
   "outputs": [
    {
     "name": "stdout",
     "output_type": "stream",
     "text": [
      "Welcome to python class \n",
      "in the velocity institute.\n"
     ]
    }
   ],
   "source": [
    "print('Welcome to python class \\nin the velocity institute.')"
   ]
  },
  {
   "cell_type": "code",
   "execution_count": 39,
   "id": "51e7f223",
   "metadata": {},
   "outputs": [
    {
     "name": "stdout",
     "output_type": "stream",
     "text": [
      "Welcome to python class \n",
      "in the velocity institute.\n"
     ]
    }
   ],
   "source": [
    "# it does not come to use when in string alone. It has to be used along with print function\n",
    "'Welcome to python class \\nin the velocity institute.'"
   ]
  },
  {
   "cell_type": "code",
   "execution_count": 44,
   "id": "d209d06a",
   "metadata": {},
   "outputs": [
    {
     "name": "stdout",
     "output_type": "stream",
     "text": [
      "Welcome to python class \n",
      "in the velocity institute. \n",
      "Data Science is really intresting ;)\n"
     ]
    }
   ],
   "source": [
    "print('Welcome to python class \\nin the velocity institute. \\nData Science is really intresting ;)')"
   ]
  },
  {
   "cell_type": "code",
   "execution_count": 42,
   "id": "86b01c5a",
   "metadata": {},
   "outputs": [
    {
     "data": {
      "text/plain": [
       "'Welcome to python class \\nin the velocity institute. \\nData Science is really intresting ;)'"
      ]
     },
     "metadata": {},
     "output_type": "display_data"
    }
   ],
   "source": [
    "display('Welcome to python class \\nin the velocity institute. \\nData Science is really intresting ;)')"
   ]
  },
  {
   "cell_type": "markdown",
   "id": "4ab6df03",
   "metadata": {},
   "source": [
    "## \\t"
   ]
  },
  {
   "cell_type": "raw",
   "id": "cfbad31f",
   "metadata": {},
   "source": [
    "is used for tab\n",
    "adds 8 spaces right before the characters following \\t.\n",
    "will add only a single space "
   ]
  },
  {
   "cell_type": "code",
   "execution_count": 46,
   "id": "9238476e",
   "metadata": {},
   "outputs": [
    {
     "name": "stdout",
     "output_type": "stream",
     "text": [
      "Welcome to python class \tin the velocity institute.\n"
     ]
    }
   ],
   "source": [
    "print('Welcome to python class \\tin the velocity institute.')"
   ]
  },
  {
   "cell_type": "code",
   "execution_count": 48,
   "id": "a04d52ee",
   "metadata": {},
   "outputs": [
    {
     "name": "stdout",
     "output_type": "stream",
     "text": [
      "Respected Sir, \n",
      "\tPlease accept my leave.\n",
      "\tOn an ungernt basis.\n"
     ]
    }
   ],
   "source": [
    "print('Respected Sir, \\n\\tPlease accept my leave.\\n\\tOn an ungernt basis.')"
   ]
  },
  {
   "cell_type": "code",
   "execution_count": 49,
   "id": "e7551032",
   "metadata": {},
   "outputs": [
    {
     "name": "stdout",
     "output_type": "stream",
     "text": [
      "Welcome to python class\tin the velocity institute.\n"
     ]
    }
   ],
   "source": [
    "print('Welcome to python class\\tin the velocity institute.')"
   ]
  },
  {
   "cell_type": "code",
   "execution_count": 52,
   "id": "acea15d0",
   "metadata": {},
   "outputs": [
    {
     "name": "stdout",
     "output_type": "stream",
     "text": [
      "Respected sir,\n",
      "    Please accept my leave,\n",
      "    on an urgent basis.\n"
     ]
    }
   ],
   "source": [
    "text = \"\"\"Respected sir,\n",
    "    Please accept my leave,\n",
    "    on an urgent basis.\"\"\"\n",
    "\n",
    "print(text)"
   ]
  },
  {
   "cell_type": "markdown",
   "id": "b785e526",
   "metadata": {},
   "source": [
    "# Escape Character (\\\\)"
   ]
  },
  {
   "cell_type": "code",
   "execution_count": 53,
   "id": "96ec9060",
   "metadata": {},
   "outputs": [
    {
     "name": "stdout",
     "output_type": "stream",
     "text": [
      "Welcome to \the class on 2nd day\n"
     ]
    }
   ],
   "source": [
    "print('Welcome to \\the class on 2nd day')"
   ]
  },
  {
   "cell_type": "code",
   "execution_count": 54,
   "id": "4d7f0a6f",
   "metadata": {},
   "outputs": [
    {
     "name": "stdout",
     "output_type": "stream",
     "text": [
      "Welcome to the \n",
      "ew class on 2nd day\n"
     ]
    }
   ],
   "source": [
    "print('Welcome to the \\new class on 2nd day')"
   ]
  },
  {
   "cell_type": "code",
   "execution_count": 55,
   "id": "99643224",
   "metadata": {},
   "outputs": [
    {
     "name": "stdout",
     "output_type": "stream",
     "text": [
      "Welcome to \\the class on 2nd day\n"
     ]
    }
   ],
   "source": [
    "print('Welcome to \\\\the class on 2nd day')"
   ]
  },
  {
   "cell_type": "code",
   "execution_count": 56,
   "id": "cb6dbb77",
   "metadata": {},
   "outputs": [
    {
     "name": "stdout",
     "output_type": "stream",
     "text": [
      "Welcome to the \\new class on 2nd day\n"
     ]
    }
   ],
   "source": [
    "print('Welcome to the \\\\new class on 2nd day')"
   ]
  },
  {
   "cell_type": "code",
   "execution_count": 57,
   "id": "58a28b6f",
   "metadata": {},
   "outputs": [
    {
     "name": "stdout",
     "output_type": "stream",
     "text": [
      "Here's the thing u wanted\n"
     ]
    }
   ],
   "source": [
    "print('Here\\'s the thing u wanted')"
   ]
  },
  {
   "cell_type": "markdown",
   "id": "65c5a6a4",
   "metadata": {},
   "source": [
    "# Raw string"
   ]
  },
  {
   "cell_type": "code",
   "execution_count": null,
   "id": "3a6fe6fb",
   "metadata": {},
   "outputs": [],
   "source": [
    "Raw string will bypass the significance of inbuilt parameters of print function."
   ]
  },
  {
   "cell_type": "code",
   "execution_count": 59,
   "id": "67401403",
   "metadata": {
    "scrolled": true
   },
   "outputs": [
    {
     "name": "stdout",
     "output_type": "stream",
     "text": [
      "Welcome to the \\new class on 2nd day\n"
     ]
    }
   ],
   "source": [
    "print(r'Welcome to the \\new class on 2nd day')"
   ]
  },
  {
   "cell_type": "code",
   "execution_count": 60,
   "id": "a20362ee",
   "metadata": {},
   "outputs": [
    {
     "ename": "SyntaxError",
     "evalue": "(unicode error) 'unicodeescape' codec can't decode bytes in position 2-3: truncated \\UXXXXXXXX escape (1326651980.py, line 1)",
     "output_type": "error",
     "traceback": [
      "\u001b[1;36m  Input \u001b[1;32mIn [60]\u001b[1;36m\u001b[0m\n\u001b[1;33m    path = \"C:\\Users\\nirmal\\14 July Batch B\"\u001b[0m\n\u001b[1;37m                                            ^\u001b[0m\n\u001b[1;31mSyntaxError\u001b[0m\u001b[1;31m:\u001b[0m (unicode error) 'unicodeescape' codec can't decode bytes in position 2-3: truncated \\UXXXXXXXX escape\n"
     ]
    }
   ],
   "source": [
    "path = \"C:\\Users\\nirmal\\14 July Batch B\"\n",
    "path"
   ]
  },
  {
   "cell_type": "code",
   "execution_count": 62,
   "id": "5c820c79",
   "metadata": {},
   "outputs": [
    {
     "data": {
      "text/plain": [
       "'C:\\\\Users\\\\nirmal\\\\14 July Batch B'"
      ]
     },
     "execution_count": 62,
     "metadata": {},
     "output_type": "execute_result"
    }
   ],
   "source": [
    "path = \"C:\\\\Users\\\\nirmal\\\\14 July Batch B\"\n",
    "path"
   ]
  },
  {
   "cell_type": "code",
   "execution_count": 63,
   "id": "cc085180",
   "metadata": {},
   "outputs": [
    {
     "data": {
      "text/plain": [
       "'C:\\\\Users\\\\nirmal\\\\14 July Batch B'"
      ]
     },
     "execution_count": 63,
     "metadata": {},
     "output_type": "execute_result"
    }
   ],
   "source": [
    "path = r\"C:\\Users\\nirmal\\14 July Batch B\"\n",
    "path"
   ]
  },
  {
   "cell_type": "code",
   "execution_count": 64,
   "id": "f4fb3c19",
   "metadata": {},
   "outputs": [
    {
     "name": "stdout",
     "output_type": "stream",
     "text": [
      "C:\\Users\\nirmal\\14 July Batch B\n"
     ]
    }
   ],
   "source": [
    "path = r\"C:\\Users\\nirmal\\14 July Batch B\"\n",
    "print(path)"
   ]
  },
  {
   "cell_type": "markdown",
   "id": "55f55bb2",
   "metadata": {},
   "source": [
    "# End parameter"
   ]
  },
  {
   "cell_type": "code",
   "execution_count": 66,
   "id": "dd9c34e8",
   "metadata": {},
   "outputs": [
    {
     "name": "stdout",
     "output_type": "stream",
     "text": [
      "Welcome to velocity\n",
      "to the python class\n"
     ]
    }
   ],
   "source": [
    "print('Welcome to velocity')\n",
    "print('to the python class')"
   ]
  },
  {
   "cell_type": "code",
   "execution_count": 67,
   "id": "c3e088f8",
   "metadata": {},
   "outputs": [
    {
     "name": "stdout",
     "output_type": "stream",
     "text": [
      "Welcome to velocity to the python class\n"
     ]
    }
   ],
   "source": [
    "print('Welcome to velocity',end=' ')\n",
    "print('to the python class')"
   ]
  },
  {
   "cell_type": "code",
   "execution_count": 68,
   "id": "8e6f3e8a",
   "metadata": {},
   "outputs": [
    {
     "name": "stdout",
     "output_type": "stream",
     "text": [
      "Welcome to velocity      to the python class\n"
     ]
    }
   ],
   "source": [
    "print('Welcome to velocity',end='      ')\n",
    "print('to the python class')"
   ]
  },
  {
   "cell_type": "code",
   "execution_count": 69,
   "id": "74a29ed8",
   "metadata": {},
   "outputs": [
    {
     "name": "stdout",
     "output_type": "stream",
     "text": [
      "Welcome to velocity++++++to the python class\n"
     ]
    }
   ],
   "source": [
    "print('Welcome to velocity',end='++++++')\n",
    "print('to the python class')"
   ]
  },
  {
   "cell_type": "code",
   "execution_count": 70,
   "id": "6dff7913",
   "metadata": {},
   "outputs": [
    {
     "name": "stdout",
     "output_type": "stream",
     "text": [
      "Welcome to velocity\n",
      "\n",
      "to the python class\n"
     ]
    }
   ],
   "source": [
    "print('Welcome to velocity',end='\\n\\n')\n",
    "print('to the python class')"
   ]
  },
  {
   "cell_type": "code",
   "execution_count": 73,
   "id": "c9942a22",
   "metadata": {},
   "outputs": [
    {
     "name": "stdout",
     "output_type": "stream",
     "text": [
      "Welcome to velocity to the python class***"
     ]
    }
   ],
   "source": [
    "print('Welcome to velocity to the python class',end='***')"
   ]
  },
  {
   "cell_type": "code",
   "execution_count": 78,
   "id": "b45ea48c",
   "metadata": {},
   "outputs": [
    {
     "name": "stdout",
     "output_type": "stream",
     "text": [
      "Welcome to velocityto the python class"
     ]
    }
   ],
   "source": [
    "# print('Welcome to velocity',end=\"to the python class\")"
   ]
  },
  {
   "cell_type": "code",
   "execution_count": 82,
   "id": "1893a0ac",
   "metadata": {},
   "outputs": [
    {
     "name": "stdout",
     "output_type": "stream",
     "text": [
      "welcome to velocity & you are in the data science course.\n"
     ]
    }
   ],
   "source": [
    "print('welcome to velocity',end=' & you are ')\n",
    "print('in the data science course.')"
   ]
  },
  {
   "cell_type": "code",
   "execution_count": 83,
   "id": "02f30f53",
   "metadata": {},
   "outputs": [
    {
     "name": "stdout",
     "output_type": "stream",
     "text": [
      "welcome to velocity****in the data science course.\n"
     ]
    }
   ],
   "source": [
    "j = '****'\n",
    "print('welcome to velocity',end=j)\n",
    "print('in the data science course.')"
   ]
  },
  {
   "cell_type": "code",
   "execution_count": 79,
   "id": "3bf8d09a",
   "metadata": {
    "scrolled": false
   },
   "outputs": [
    {
     "ename": "SyntaxError",
     "evalue": "positional argument follows keyword argument (1229507852.py, line 1)",
     "output_type": "error",
     "traceback": [
      "\u001b[1;36m  Input \u001b[1;32mIn [79]\u001b[1;36m\u001b[0m\n\u001b[1;33m    print('Welcome to velocity',end='***','to the python class')\u001b[0m\n\u001b[1;37m                                                               ^\u001b[0m\n\u001b[1;31mSyntaxError\u001b[0m\u001b[1;31m:\u001b[0m positional argument follows keyword argument\n"
     ]
    }
   ],
   "source": [
    "print('Welcome to velocity',end='***','to the python class')"
   ]
  },
  {
   "cell_type": "markdown",
   "id": "f7c2e2eb",
   "metadata": {},
   "source": [
    "# sep paramter"
   ]
  },
  {
   "cell_type": "code",
   "execution_count": 84,
   "id": "fd186b24",
   "metadata": {},
   "outputs": [
    {
     "name": "stdout",
     "output_type": "stream",
     "text": [
      "Welcome to velocity Python is the course you opted for!\n"
     ]
    }
   ],
   "source": [
    "print('Welcome to velocity','Python is the course you opted for!')"
   ]
  },
  {
   "cell_type": "code",
   "execution_count": 85,
   "id": "273000b1",
   "metadata": {},
   "outputs": [
    {
     "name": "stdout",
     "output_type": "stream",
     "text": [
      "Welcome to velocity\n",
      "Python is the course you opted for!\n"
     ]
    }
   ],
   "source": [
    "print('Welcome to velocity','Python is the course you opted for!',sep='\\n')"
   ]
  },
  {
   "cell_type": "code",
   "execution_count": 93,
   "id": "70f43bec",
   "metadata": {},
   "outputs": [
    {
     "name": "stdout",
     "output_type": "stream",
     "text": [
      "Welcome to velocity \n",
      "Python is the course you opted for!\n"
     ]
    }
   ],
   "source": [
    "print('Welcome to velocity \\nPython is the course you opted for!')"
   ]
  },
  {
   "cell_type": "code",
   "execution_count": 97,
   "id": "3006ef6a",
   "metadata": {},
   "outputs": [
    {
     "name": "stdout",
     "output_type": "stream",
     "text": [
      "Welcome to velocity\n",
      "Python is the course you opted for!\n"
     ]
    }
   ],
   "source": [
    "print('Welcome to velocity', '\\n','Python is the course you opted for!',sep='')"
   ]
  },
  {
   "cell_type": "code",
   "execution_count": 86,
   "id": "8aff1fc4",
   "metadata": {
    "scrolled": false
   },
   "outputs": [
    {
     "name": "stdout",
     "output_type": "stream",
     "text": [
      "Welcome to velocity. Python is the course you opted for!\n"
     ]
    }
   ],
   "source": [
    "print('Welcome to velocity','Python is the course you opted for!',sep='. ')"
   ]
  },
  {
   "cell_type": "code",
   "execution_count": 90,
   "id": "3bc0fb7f",
   "metadata": {},
   "outputs": [
    {
     "name": "stdout",
     "output_type": "stream",
     "text": [
      "Welcome to velocity\t\tPython is the course you opted for!\n"
     ]
    }
   ],
   "source": [
    "print('Welcome to velocity','Python is the course you opted for!',sep='\\t\\t')"
   ]
  },
  {
   "cell_type": "code",
   "execution_count": 91,
   "id": "819698f1",
   "metadata": {},
   "outputs": [
    {
     "name": "stdout",
     "output_type": "stream",
     "text": [
      "Welcome to velocity. Python is the course you opted for!. wish you hppy learning\n"
     ]
    }
   ],
   "source": [
    "print('Welcome to velocity','Python is the course you opted for','wish you happy learning',sep='. ')"
   ]
  },
  {
   "cell_type": "code",
   "execution_count": 101,
   "id": "8b24a17d",
   "metadata": {},
   "outputs": [
    {
     "name": "stdout",
     "output_type": "stream",
     "text": [
      "Welcome to velocity\n",
      "Python is the course you opted for! wish you happy learning\n"
     ]
    }
   ],
   "source": [
    "print('Welcome to velocity','Python is the course you opted for!',sep='\\n',end=' ')\n",
    "print('wish you happy learning')"
   ]
  },
  {
   "cell_type": "markdown",
   "id": "1aa82725",
   "metadata": {},
   "source": [
    "##### Difference b/w end & sep:"
   ]
  },
  {
   "cell_type": "code",
   "execution_count": null,
   "id": "0a75056d",
   "metadata": {},
   "outputs": [],
   "source": [
    "end is used when we have 2 or more print statements following each other.\n",
    "sep is used when we have 2 or more strings or variables in single print statement."
   ]
  }
 ],
 "metadata": {
  "kernelspec": {
   "display_name": "Python 3 (ipykernel)",
   "language": "python",
   "name": "python3"
  },
  "language_info": {
   "codemirror_mode": {
    "name": "ipython",
    "version": 3
   },
   "file_extension": ".py",
   "mimetype": "text/x-python",
   "name": "python",
   "nbconvert_exporter": "python",
   "pygments_lexer": "ipython3",
   "version": "3.9.12"
  }
 },
 "nbformat": 4,
 "nbformat_minor": 5
}

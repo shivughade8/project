{
 "cells": [
  {
   "cell_type": "markdown",
   "id": "aabbcd3a",
   "metadata": {},
   "source": [
    "# Adding, updating, changing items of dict"
   ]
  },
  {
   "cell_type": "markdown",
   "id": "723e8c26",
   "metadata": {},
   "source": [
    "## changing items of dict"
   ]
  },
  {
   "cell_type": "code",
   "execution_count": 2,
   "id": "e6f38b94",
   "metadata": {},
   "outputs": [],
   "source": [
    "employees = {'Emp_name':'Kunal','Salary':80000,'Designation':'Data Scientist','Age':30,'Emp_ID':10011}"
   ]
  },
  {
   "cell_type": "code",
   "execution_count": 3,
   "id": "275423d8",
   "metadata": {},
   "outputs": [
    {
     "data": {
      "text/plain": [
       "{'Emp_name': 'Sumit',\n",
       " 'Salary': 80000,\n",
       " 'Designation': 'Data Scientist',\n",
       " 'Age': 30,\n",
       " 'Emp_ID': 10011}"
      ]
     },
     "execution_count": 3,
     "metadata": {},
     "output_type": "execute_result"
    }
   ],
   "source": [
    "employees['Emp_name']='Sumit'\n",
    "employees"
   ]
  },
  {
   "cell_type": "markdown",
   "id": "1460f0ea",
   "metadata": {},
   "source": [
    "## adding or updating values using update function"
   ]
  },
  {
   "cell_type": "code",
   "execution_count": 4,
   "id": "23a9a9f6",
   "metadata": {},
   "outputs": [],
   "source": [
    "employees = {'Emp_name':'Kunal','Salary':80000,'Designation':'Data Scientist','Age':30,'Emp_ID':10011}\n",
    "\n",
    "employees.update({'Emp_name':'Hemant'})"
   ]
  },
  {
   "cell_type": "code",
   "execution_count": 5,
   "id": "e42ae6a7",
   "metadata": {},
   "outputs": [
    {
     "data": {
      "text/plain": [
       "{'Emp_name': 'Hemant',\n",
       " 'Salary': 80000,\n",
       " 'Designation': 'Data Scientist',\n",
       " 'Age': 30,\n",
       " 'Emp_ID': 10011}"
      ]
     },
     "execution_count": 5,
     "metadata": {},
     "output_type": "execute_result"
    }
   ],
   "source": [
    "employees"
   ]
  },
  {
   "cell_type": "code",
   "execution_count": 6,
   "id": "744e1ab5",
   "metadata": {},
   "outputs": [
    {
     "data": {
      "text/plain": [
       "{'Emp_name': 'Hemant',\n",
       " 'Salary': 100000,\n",
       " 'Designation': 'Data Scientist',\n",
       " 'Age': 30,\n",
       " 'Emp_ID': 10011,\n",
       " 'Experience': 6}"
      ]
     },
     "execution_count": 6,
     "metadata": {},
     "output_type": "execute_result"
    }
   ],
   "source": [
    "employees = {'Emp_name':'Kunal','Salary':80000,'Designation':'Data Scientist','Age':30,'Emp_ID':10011}\n",
    "\n",
    "new_data = {'Emp_name':'Hemant','Experience':6,'Salary':100000}\n",
    "\n",
    "employees.update(new_data)\n",
    "\n",
    "employees"
   ]
  },
  {
   "cell_type": "code",
   "execution_count": 7,
   "id": "b58373f0",
   "metadata": {},
   "outputs": [
    {
     "data": {
      "text/plain": [
       "{'Emp_name': 'Kunal',\n",
       " 'Salary': 80000,\n",
       " 'Designation': 'Data Scientist',\n",
       " 'Age': 30,\n",
       " 'Emp_ID': 10011,\n",
       " 'Emplpoyee': 'Kunal'}"
      ]
     },
     "execution_count": 7,
     "metadata": {},
     "output_type": "execute_result"
    }
   ],
   "source": [
    "employees = {'Emp_name':'Kunal','Salary':80000,'Designation':'Data Scientist','Age':30,'Emp_ID':10011}\n",
    "\n",
    "new_data = {'Emplpoyee':'Kunal'}\n",
    "\n",
    "employees.update(new_data)\n",
    "\n",
    "employees"
   ]
  },
  {
   "cell_type": "markdown",
   "id": "be73eae0",
   "metadata": {},
   "source": [
    "## Setdefault"
   ]
  },
  {
   "cell_type": "raw",
   "id": "df45a57e",
   "metadata": {},
   "source": [
    "It will return a value with specific key if the key is present\n",
    "It a key is not present in dict & only the variable is passed then it adds a key in dict with the key variable name & the value will be set to none\n",
    "it does not change the value of the key if the key is present but it can add another key with value"
   ]
  },
  {
   "cell_type": "code",
   "execution_count": 8,
   "id": "f8167c79",
   "metadata": {},
   "outputs": [
    {
     "data": {
      "text/plain": [
       "30"
      ]
     },
     "execution_count": 8,
     "metadata": {},
     "output_type": "execute_result"
    }
   ],
   "source": [
    "employees = {'Emp_name':'Kunal','Salary':80000,'Designation':'Data Scientist','Age':30,'Emp_ID':10011}\n",
    "\n",
    "employees.setdefault('Age')"
   ]
  },
  {
   "cell_type": "code",
   "execution_count": 10,
   "id": "5019e433",
   "metadata": {},
   "outputs": [
    {
     "data": {
      "text/plain": [
       "'Infosys'"
      ]
     },
     "execution_count": 10,
     "metadata": {},
     "output_type": "execute_result"
    }
   ],
   "source": [
    "employees.setdefault('Complany','Infosys')"
   ]
  },
  {
   "cell_type": "code",
   "execution_count": 11,
   "id": "28a56124",
   "metadata": {},
   "outputs": [
    {
     "data": {
      "text/plain": [
       "{'Emp_name': 'Kunal',\n",
       " 'Salary': 80000,\n",
       " 'Designation': 'Data Scientist',\n",
       " 'Age': 30,\n",
       " 'Emp_ID': 10011,\n",
       " 'Complany': 'Infosys'}"
      ]
     },
     "execution_count": 11,
     "metadata": {},
     "output_type": "execute_result"
    }
   ],
   "source": [
    "employees"
   ]
  },
  {
   "cell_type": "code",
   "execution_count": 12,
   "id": "5b62d16d",
   "metadata": {},
   "outputs": [],
   "source": [
    "employees.setdefault('Experience')"
   ]
  },
  {
   "cell_type": "code",
   "execution_count": 13,
   "id": "14ff31ad",
   "metadata": {},
   "outputs": [
    {
     "data": {
      "text/plain": [
       "{'Emp_name': 'Kunal',\n",
       " 'Salary': 80000,\n",
       " 'Designation': 'Data Scientist',\n",
       " 'Age': 30,\n",
       " 'Emp_ID': 10011,\n",
       " 'Complany': 'Infosys',\n",
       " 'Experience': None}"
      ]
     },
     "execution_count": 13,
     "metadata": {},
     "output_type": "execute_result"
    }
   ],
   "source": [
    "employees"
   ]
  },
  {
   "cell_type": "markdown",
   "id": "12ca0eb4",
   "metadata": {},
   "source": [
    "# Removing items of dict"
   ]
  },
  {
   "cell_type": "markdown",
   "id": "d1dfa531",
   "metadata": {},
   "source": [
    "## pop"
   ]
  },
  {
   "cell_type": "code",
   "execution_count": 14,
   "id": "c6b74454",
   "metadata": {},
   "outputs": [
    {
     "data": {
      "text/plain": [
       "{'Emp_name': 'Kunal',\n",
       " 'Salary': 80000,\n",
       " 'Designation': 'Data Scientist',\n",
       " 'Emp_ID': 10011}"
      ]
     },
     "execution_count": 14,
     "metadata": {},
     "output_type": "execute_result"
    }
   ],
   "source": [
    "employees = {'Emp_name':'Kunal','Salary':80000,'Designation':'Data Scientist','Age':30,'Emp_ID':10011}\n",
    "\n",
    "employees.pop('Age')\n",
    "\n",
    "employees"
   ]
  },
  {
   "cell_type": "code",
   "execution_count": 15,
   "id": "91685855",
   "metadata": {},
   "outputs": [
    {
     "ename": "KeyError",
     "evalue": "'age'",
     "output_type": "error",
     "traceback": [
      "\u001b[1;31m---------------------------------------------------------------------------\u001b[0m",
      "\u001b[1;31mKeyError\u001b[0m                                  Traceback (most recent call last)",
      "\u001b[1;32m<ipython-input-15-7ba33325e488>\u001b[0m in \u001b[0;36m<module>\u001b[1;34m\u001b[0m\n\u001b[0;32m      1\u001b[0m \u001b[0memployees\u001b[0m \u001b[1;33m=\u001b[0m \u001b[1;33m{\u001b[0m\u001b[1;34m'Emp_name'\u001b[0m\u001b[1;33m:\u001b[0m\u001b[1;34m'Kunal'\u001b[0m\u001b[1;33m,\u001b[0m\u001b[1;34m'Salary'\u001b[0m\u001b[1;33m:\u001b[0m\u001b[1;36m80000\u001b[0m\u001b[1;33m,\u001b[0m\u001b[1;34m'Designation'\u001b[0m\u001b[1;33m:\u001b[0m\u001b[1;34m'Data Scientist'\u001b[0m\u001b[1;33m,\u001b[0m\u001b[1;34m'Age'\u001b[0m\u001b[1;33m:\u001b[0m\u001b[1;36m30\u001b[0m\u001b[1;33m,\u001b[0m\u001b[1;34m'Emp_ID'\u001b[0m\u001b[1;33m:\u001b[0m\u001b[1;36m10011\u001b[0m\u001b[1;33m}\u001b[0m\u001b[1;33m\u001b[0m\u001b[1;33m\u001b[0m\u001b[0m\n\u001b[0;32m      2\u001b[0m \u001b[1;33m\u001b[0m\u001b[0m\n\u001b[1;32m----> 3\u001b[1;33m \u001b[0memployees\u001b[0m\u001b[1;33m.\u001b[0m\u001b[0mpop\u001b[0m\u001b[1;33m(\u001b[0m\u001b[1;34m'age'\u001b[0m\u001b[1;33m)\u001b[0m\u001b[1;33m\u001b[0m\u001b[1;33m\u001b[0m\u001b[0m\n\u001b[0m\u001b[0;32m      4\u001b[0m \u001b[1;33m\u001b[0m\u001b[0m\n\u001b[0;32m      5\u001b[0m \u001b[0memployees\u001b[0m\u001b[1;33m\u001b[0m\u001b[1;33m\u001b[0m\u001b[0m\n",
      "\u001b[1;31mKeyError\u001b[0m: 'age'"
     ]
    }
   ],
   "source": [
    "employees = {'Emp_name':'Kunal','Salary':80000,'Designation':'Data Scientist','Age':30,'Emp_ID':10011}\n",
    "\n",
    "employees.pop('age')\n",
    "\n",
    "employees"
   ]
  },
  {
   "cell_type": "code",
   "execution_count": 16,
   "id": "3e0b3249",
   "metadata": {},
   "outputs": [
    {
     "ename": "TypeError",
     "evalue": "pop expected at least 1 argument, got 0",
     "output_type": "error",
     "traceback": [
      "\u001b[1;31m---------------------------------------------------------------------------\u001b[0m",
      "\u001b[1;31mTypeError\u001b[0m                                 Traceback (most recent call last)",
      "\u001b[1;32m<ipython-input-16-ea5452c205c6>\u001b[0m in \u001b[0;36m<module>\u001b[1;34m\u001b[0m\n\u001b[0;32m      1\u001b[0m \u001b[0memployees\u001b[0m \u001b[1;33m=\u001b[0m \u001b[1;33m{\u001b[0m\u001b[1;34m'Emp_name'\u001b[0m\u001b[1;33m:\u001b[0m\u001b[1;34m'Kunal'\u001b[0m\u001b[1;33m,\u001b[0m\u001b[1;34m'Salary'\u001b[0m\u001b[1;33m:\u001b[0m\u001b[1;36m80000\u001b[0m\u001b[1;33m,\u001b[0m\u001b[1;34m'Designation'\u001b[0m\u001b[1;33m:\u001b[0m\u001b[1;34m'Data Scientist'\u001b[0m\u001b[1;33m,\u001b[0m\u001b[1;34m'Age'\u001b[0m\u001b[1;33m:\u001b[0m\u001b[1;36m30\u001b[0m\u001b[1;33m,\u001b[0m\u001b[1;34m'Emp_ID'\u001b[0m\u001b[1;33m:\u001b[0m\u001b[1;36m10011\u001b[0m\u001b[1;33m}\u001b[0m\u001b[1;33m\u001b[0m\u001b[1;33m\u001b[0m\u001b[0m\n\u001b[0;32m      2\u001b[0m \u001b[1;33m\u001b[0m\u001b[0m\n\u001b[1;32m----> 3\u001b[1;33m \u001b[0memployees\u001b[0m\u001b[1;33m.\u001b[0m\u001b[0mpop\u001b[0m\u001b[1;33m(\u001b[0m\u001b[1;33m)\u001b[0m\u001b[1;33m\u001b[0m\u001b[1;33m\u001b[0m\u001b[0m\n\u001b[0m\u001b[0;32m      4\u001b[0m \u001b[1;33m\u001b[0m\u001b[0m\n\u001b[0;32m      5\u001b[0m \u001b[0memployees\u001b[0m\u001b[1;33m\u001b[0m\u001b[1;33m\u001b[0m\u001b[0m\n",
      "\u001b[1;31mTypeError\u001b[0m: pop expected at least 1 argument, got 0"
     ]
    }
   ],
   "source": [
    "employees = {'Emp_name':'Kunal','Salary':80000,'Designation':'Data Scientist','Age':30,'Emp_ID':10011}\n",
    "\n",
    "employees.pop()\n",
    "\n",
    "employees"
   ]
  },
  {
   "cell_type": "code",
   "execution_count": 67,
   "id": "adb9999f",
   "metadata": {},
   "outputs": [
    {
     "ename": "KeyError",
     "evalue": "'Kunal'",
     "output_type": "error",
     "traceback": [
      "\u001b[1;31m---------------------------------------------------------------------------\u001b[0m",
      "\u001b[1;31mKeyError\u001b[0m                                  Traceback (most recent call last)",
      "\u001b[1;32m<ipython-input-67-e0a7159facf3>\u001b[0m in \u001b[0;36m<module>\u001b[1;34m\u001b[0m\n\u001b[0;32m      1\u001b[0m \u001b[0memployees\u001b[0m \u001b[1;33m=\u001b[0m \u001b[1;33m{\u001b[0m\u001b[1;34m'Emp_name'\u001b[0m\u001b[1;33m:\u001b[0m\u001b[1;34m'Kunal'\u001b[0m\u001b[1;33m,\u001b[0m\u001b[1;34m'Salary'\u001b[0m\u001b[1;33m:\u001b[0m\u001b[1;36m80000\u001b[0m\u001b[1;33m,\u001b[0m\u001b[1;34m'Designation'\u001b[0m\u001b[1;33m:\u001b[0m\u001b[1;34m'Data Scientist'\u001b[0m\u001b[1;33m,\u001b[0m\u001b[1;34m'Age'\u001b[0m\u001b[1;33m:\u001b[0m\u001b[1;36m30\u001b[0m\u001b[1;33m,\u001b[0m\u001b[1;34m'Emp_ID'\u001b[0m\u001b[1;33m:\u001b[0m\u001b[1;36m10011\u001b[0m\u001b[1;33m}\u001b[0m\u001b[1;33m\u001b[0m\u001b[1;33m\u001b[0m\u001b[0m\n\u001b[0;32m      2\u001b[0m \u001b[1;33m\u001b[0m\u001b[0m\n\u001b[1;32m----> 3\u001b[1;33m \u001b[0memployees\u001b[0m\u001b[1;33m.\u001b[0m\u001b[0mpop\u001b[0m\u001b[1;33m(\u001b[0m\u001b[1;34m'Kunal'\u001b[0m\u001b[1;33m)\u001b[0m\u001b[1;33m\u001b[0m\u001b[1;33m\u001b[0m\u001b[0m\n\u001b[0m\u001b[0;32m      4\u001b[0m \u001b[1;33m\u001b[0m\u001b[0m\n\u001b[0;32m      5\u001b[0m \u001b[0memployees\u001b[0m\u001b[1;33m\u001b[0m\u001b[1;33m\u001b[0m\u001b[0m\n",
      "\u001b[1;31mKeyError\u001b[0m: 'Kunal'"
     ]
    }
   ],
   "source": [
    "employees = {'Emp_name':'Kunal','Salary':80000,'Designation':'Data Scientist','Age':30,'Emp_ID':10011}\n",
    "\n",
    "employees.pop('Kunal')\n",
    "\n",
    "employees"
   ]
  },
  {
   "cell_type": "markdown",
   "id": "5861fd99",
   "metadata": {},
   "source": [
    "## if we wanted to replace only key in dict"
   ]
  },
  {
   "cell_type": "code",
   "execution_count": 70,
   "id": "a731abf6",
   "metadata": {},
   "outputs": [],
   "source": [
    "employees = {'Emp_name':'Kunal','Salary':80000,'Designation':'Data Scientist','Age':30,'Emp_ID':10011}\n",
    "\n",
    "employees['Employee'] = employees.pop('Emp_name')"
   ]
  },
  {
   "cell_type": "code",
   "execution_count": 71,
   "id": "8666f292",
   "metadata": {},
   "outputs": [
    {
     "data": {
      "text/plain": [
       "{'Salary': 80000,\n",
       " 'Designation': 'Data Scientist',\n",
       " 'Age': 30,\n",
       " 'Emp_ID': 10011,\n",
       " 'Employee': 'Kunal'}"
      ]
     },
     "execution_count": 71,
     "metadata": {},
     "output_type": "execute_result"
    }
   ],
   "source": [
    "employees"
   ]
  },
  {
   "cell_type": "code",
   "execution_count": 72,
   "id": "e55334c0",
   "metadata": {},
   "outputs": [
    {
     "data": {
      "text/plain": [
       "{'Salary': 80000,\n",
       " 'Designation': 'Data Scientist',\n",
       " 'Age': 30,\n",
       " 'Emp_ID': 10011,\n",
       " 'Employee': 'Kunal'}"
      ]
     },
     "execution_count": 72,
     "metadata": {},
     "output_type": "execute_result"
    }
   ],
   "source": [
    "employees = {'Emp_name':'Kunal','Salary':80000,'Designation':'Data Scientist','Age':30,'Emp_ID':10011}\n",
    "\n",
    "employees.pop('Emp_name')\n",
    "employees['Employee']='Kunal'\n",
    "\n",
    "employees"
   ]
  },
  {
   "cell_type": "markdown",
   "id": "eb78b953",
   "metadata": {},
   "source": [
    "## popitem()"
   ]
  },
  {
   "cell_type": "code",
   "execution_count": null,
   "id": "fe368186",
   "metadata": {},
   "outputs": [],
   "source": [
    "it pops the last updated item /last item."
   ]
  },
  {
   "cell_type": "code",
   "execution_count": 18,
   "id": "4619eef3",
   "metadata": {},
   "outputs": [
    {
     "data": {
      "text/plain": [
       "('Emp_ID', 10011)"
      ]
     },
     "execution_count": 18,
     "metadata": {},
     "output_type": "execute_result"
    }
   ],
   "source": [
    "employees = {'Emp_name':'Kunal','Salary':80000,'Designation':'Data Scientist','Age':30,'Emp_ID':10011}\n",
    "\n",
    "employees.popitem()"
   ]
  },
  {
   "cell_type": "code",
   "execution_count": 19,
   "id": "540d1bbc",
   "metadata": {},
   "outputs": [
    {
     "data": {
      "text/plain": [
       "{'Emp_name': 'Kunal',\n",
       " 'Salary': 80000,\n",
       " 'Designation': 'Data Scientist',\n",
       " 'Age': 30}"
      ]
     },
     "execution_count": 19,
     "metadata": {},
     "output_type": "execute_result"
    }
   ],
   "source": [
    "employees"
   ]
  },
  {
   "cell_type": "code",
   "execution_count": 20,
   "id": "3b720f5f",
   "metadata": {},
   "outputs": [
    {
     "ename": "TypeError",
     "evalue": "popitem() takes no arguments (1 given)",
     "output_type": "error",
     "traceback": [
      "\u001b[1;31m---------------------------------------------------------------------------\u001b[0m",
      "\u001b[1;31mTypeError\u001b[0m                                 Traceback (most recent call last)",
      "\u001b[1;32m<ipython-input-20-8abf29790da8>\u001b[0m in \u001b[0;36m<module>\u001b[1;34m\u001b[0m\n\u001b[0;32m      1\u001b[0m \u001b[0memployees\u001b[0m \u001b[1;33m=\u001b[0m \u001b[1;33m{\u001b[0m\u001b[1;34m'Emp_name'\u001b[0m\u001b[1;33m:\u001b[0m\u001b[1;34m'Kunal'\u001b[0m\u001b[1;33m,\u001b[0m\u001b[1;34m'Salary'\u001b[0m\u001b[1;33m:\u001b[0m\u001b[1;36m80000\u001b[0m\u001b[1;33m,\u001b[0m\u001b[1;34m'Designation'\u001b[0m\u001b[1;33m:\u001b[0m\u001b[1;34m'Data Scientist'\u001b[0m\u001b[1;33m,\u001b[0m\u001b[1;34m'Age'\u001b[0m\u001b[1;33m:\u001b[0m\u001b[1;36m30\u001b[0m\u001b[1;33m,\u001b[0m\u001b[1;34m'Emp_ID'\u001b[0m\u001b[1;33m:\u001b[0m\u001b[1;36m10011\u001b[0m\u001b[1;33m}\u001b[0m\u001b[1;33m\u001b[0m\u001b[1;33m\u001b[0m\u001b[0m\n\u001b[0;32m      2\u001b[0m \u001b[1;33m\u001b[0m\u001b[0m\n\u001b[1;32m----> 3\u001b[1;33m \u001b[0memployees\u001b[0m\u001b[1;33m.\u001b[0m\u001b[0mpopitem\u001b[0m\u001b[1;33m(\u001b[0m\u001b[1;34m'Salary'\u001b[0m\u001b[1;33m)\u001b[0m\u001b[1;33m\u001b[0m\u001b[1;33m\u001b[0m\u001b[0m\n\u001b[0m",
      "\u001b[1;31mTypeError\u001b[0m: popitem() takes no arguments (1 given)"
     ]
    }
   ],
   "source": [
    "employees = {'Emp_name':'Kunal','Salary':80000,'Designation':'Data Scientist','Age':30,'Emp_ID':10011}\n",
    "\n",
    "employees.popitem('Salary')"
   ]
  },
  {
   "cell_type": "markdown",
   "id": "ed4ca309",
   "metadata": {},
   "source": [
    "## clear()"
   ]
  },
  {
   "cell_type": "code",
   "execution_count": 22,
   "id": "10840d2f",
   "metadata": {},
   "outputs": [],
   "source": [
    "employees = {'Emp_name':'Kunal','Salary':80000,'Designation':'Data Scientist','Age':30,'Emp_ID':10011}\n",
    "\n",
    "employees.clear()"
   ]
  },
  {
   "cell_type": "code",
   "execution_count": 23,
   "id": "f483fdf4",
   "metadata": {},
   "outputs": [
    {
     "data": {
      "text/plain": [
       "{}"
      ]
     },
     "execution_count": 23,
     "metadata": {},
     "output_type": "execute_result"
    }
   ],
   "source": [
    "employees"
   ]
  },
  {
   "cell_type": "markdown",
   "id": "2b0eda3f",
   "metadata": {},
   "source": [
    "## del"
   ]
  },
  {
   "cell_type": "code",
   "execution_count": 25,
   "id": "05253fc5",
   "metadata": {},
   "outputs": [
    {
     "ename": "NameError",
     "evalue": "name 'employees' is not defined",
     "output_type": "error",
     "traceback": [
      "\u001b[1;31m---------------------------------------------------------------------------\u001b[0m",
      "\u001b[1;31mNameError\u001b[0m                                 Traceback (most recent call last)",
      "\u001b[1;32m<ipython-input-25-1672665a320c>\u001b[0m in \u001b[0;36m<module>\u001b[1;34m\u001b[0m\n\u001b[0;32m      3\u001b[0m \u001b[1;32mdel\u001b[0m \u001b[0memployees\u001b[0m\u001b[1;33m\u001b[0m\u001b[1;33m\u001b[0m\u001b[0m\n\u001b[0;32m      4\u001b[0m \u001b[1;33m\u001b[0m\u001b[0m\n\u001b[1;32m----> 5\u001b[1;33m \u001b[0memployees\u001b[0m\u001b[1;33m\u001b[0m\u001b[1;33m\u001b[0m\u001b[0m\n\u001b[0m",
      "\u001b[1;31mNameError\u001b[0m: name 'employees' is not defined"
     ]
    }
   ],
   "source": [
    "employees = {'Emp_name':'Kunal','Salary':80000,'Designation':'Data Scientist','Age':30,'Emp_ID':10011}\n",
    "\n",
    "del employees\n",
    "\n",
    "employees"
   ]
  },
  {
   "cell_type": "code",
   "execution_count": 26,
   "id": "da1bb8c2",
   "metadata": {},
   "outputs": [],
   "source": [
    "employees = {'Emp_name':'Kunal','Salary':80000,'Designation':'Data Scientist','Age':30,'Emp_ID':10011}\n",
    "\n",
    "del employees['Age']"
   ]
  },
  {
   "cell_type": "code",
   "execution_count": 27,
   "id": "582f1580",
   "metadata": {},
   "outputs": [
    {
     "data": {
      "text/plain": [
       "{'Emp_name': 'Kunal',\n",
       " 'Salary': 80000,\n",
       " 'Designation': 'Data Scientist',\n",
       " 'Emp_ID': 10011}"
      ]
     },
     "execution_count": 27,
     "metadata": {},
     "output_type": "execute_result"
    }
   ],
   "source": [
    "employees"
   ]
  },
  {
   "cell_type": "markdown",
   "id": "c6dfcb81",
   "metadata": {},
   "source": [
    "# Nested dict"
   ]
  },
  {
   "cell_type": "code",
   "execution_count": 28,
   "id": "1964f39f",
   "metadata": {},
   "outputs": [
    {
     "data": {
      "text/plain": [
       "{'CG001': {'Name': 'Rohit', 'Age': 30},\n",
       " 'CG002': {'Name': 'Kishan', 'Age': 25},\n",
       " 'CG003': {'Name': 'Hardik', 'Age': 27}}"
      ]
     },
     "execution_count": 28,
     "metadata": {},
     "output_type": "execute_result"
    }
   ],
   "source": [
    "emp_record = {'CG001':{'Name':'Rohit','Age':30},\n",
    "             'CG002':{'Name':'Kishan','Age':25},\n",
    "             'CG003':{'Name':'Hardik','Age':27}}\n",
    "\n",
    "emp_record"
   ]
  },
  {
   "cell_type": "code",
   "execution_count": 29,
   "id": "b41d5e7c",
   "metadata": {},
   "outputs": [
    {
     "data": {
      "text/plain": [
       "{'Name': 'Rohit', 'Age': 30}"
      ]
     },
     "execution_count": 29,
     "metadata": {},
     "output_type": "execute_result"
    }
   ],
   "source": [
    "emp_record['CG001']"
   ]
  },
  {
   "cell_type": "code",
   "execution_count": 30,
   "id": "74be6994",
   "metadata": {},
   "outputs": [
    {
     "data": {
      "text/plain": [
       "'Rohit'"
      ]
     },
     "execution_count": 30,
     "metadata": {},
     "output_type": "execute_result"
    }
   ],
   "source": [
    "emp_record['CG001']['Name']"
   ]
  },
  {
   "cell_type": "code",
   "execution_count": 32,
   "id": "be23d2ac",
   "metadata": {},
   "outputs": [
    {
     "data": {
      "text/html": [
       "<div>\n",
       "<style scoped>\n",
       "    .dataframe tbody tr th:only-of-type {\n",
       "        vertical-align: middle;\n",
       "    }\n",
       "\n",
       "    .dataframe tbody tr th {\n",
       "        vertical-align: top;\n",
       "    }\n",
       "\n",
       "    .dataframe thead th {\n",
       "        text-align: right;\n",
       "    }\n",
       "</style>\n",
       "<table border=\"1\" class=\"dataframe\">\n",
       "  <thead>\n",
       "    <tr style=\"text-align: right;\">\n",
       "      <th></th>\n",
       "      <th>Name</th>\n",
       "      <th>Age</th>\n",
       "    </tr>\n",
       "  </thead>\n",
       "  <tbody>\n",
       "    <tr>\n",
       "      <th>CG001</th>\n",
       "      <td>Rohit</td>\n",
       "      <td>30</td>\n",
       "    </tr>\n",
       "    <tr>\n",
       "      <th>CG002</th>\n",
       "      <td>Kishan</td>\n",
       "      <td>25</td>\n",
       "    </tr>\n",
       "    <tr>\n",
       "      <th>CG003</th>\n",
       "      <td>Hardik</td>\n",
       "      <td>27</td>\n",
       "    </tr>\n",
       "  </tbody>\n",
       "</table>\n",
       "</div>"
      ],
      "text/plain": [
       "         Name Age\n",
       "CG001   Rohit  30\n",
       "CG002  Kishan  25\n",
       "CG003  Hardik  27"
      ]
     },
     "execution_count": 32,
     "metadata": {},
     "output_type": "execute_result"
    }
   ],
   "source": [
    "import pandas as pd\n",
    "pd.DataFrame(emp_record).T"
   ]
  },
  {
   "cell_type": "code",
   "execution_count": 33,
   "id": "0d6b00d6",
   "metadata": {},
   "outputs": [
    {
     "data": {
      "text/plain": [
       "{'Maths': 90, 'Phy': 91, 'Che': 93, 'Bio': 95, 'History': 86}"
      ]
     },
     "execution_count": 33,
     "metadata": {},
     "output_type": "execute_result"
    }
   ],
   "source": [
    "marks = [90,91,93,95,86]\n",
    "subjects= ['Maths','Phy','Che','Bio','History']\n",
    "\n",
    "dict1 = {}\n",
    "\n",
    "for i,key in enumerate(subjects):\n",
    "    for j,value in enumerate(marks):\n",
    "        if i==j:\n",
    "            dict1[key]=value\n",
    "            \n",
    "dict1"
   ]
  },
  {
   "cell_type": "code",
   "execution_count": 36,
   "id": "c7580dda",
   "metadata": {},
   "outputs": [
    {
     "data": {
      "text/plain": [
       "{90: 'Maths', 91: 'Phy', 93: 'Che', 95: 'Bio', 86: 'History'}"
      ]
     },
     "execution_count": 36,
     "metadata": {},
     "output_type": "execute_result"
    }
   ],
   "source": [
    "marks = [90,91,93,95,86]\n",
    "subjects= ['Maths','Phy','Che','Bio','History']\n",
    "\n",
    "dict1 = {}\n",
    "\n",
    "for i,key in enumerate(marks):\n",
    "    for j,value in enumerate(subjects):\n",
    "        if i==j:\n",
    "            dict1[key]=value\n",
    "            \n",
    "dict1"
   ]
  },
  {
   "cell_type": "code",
   "execution_count": 39,
   "id": "9ce252f4",
   "metadata": {},
   "outputs": [
    {
     "data": {
      "text/plain": [
       "{90: 'Maths', 91: 'Phy', 93: 'Che', 95: 'Bio', 86: 'History'}"
      ]
     },
     "execution_count": 39,
     "metadata": {},
     "output_type": "execute_result"
    }
   ],
   "source": [
    "marks = [90,91,93,95,86]\n",
    "subjects= ['Maths','Phy','Che','Bio','History']\n",
    "\n",
    "dict1 = {}\n",
    "\n",
    "for i,key in enumerate(marks):\n",
    "    for j,value in enumerate(subjects):\n",
    "        if i==j:\n",
    "            dict1.update({key:value})\n",
    "            \n",
    "dict1"
   ]
  },
  {
   "cell_type": "markdown",
   "id": "287b7046",
   "metadata": {},
   "source": [
    "# Zip function"
   ]
  },
  {
   "cell_type": "code",
   "execution_count": 41,
   "id": "2bfcfa43",
   "metadata": {},
   "outputs": [
    {
     "data": {
      "text/plain": [
       "{'Maths': 90, 'Phy': 91, 'Che': 93, 'Bio': 95, 'History': 86}"
      ]
     },
     "execution_count": 41,
     "metadata": {},
     "output_type": "execute_result"
    }
   ],
   "source": [
    "marks = [90,91,93,95,86]\n",
    "subjects= ['Maths','Phy','Che','Bio','History']\n",
    "\n",
    "my_dict = dict(zip(subjects,marks))\n",
    "my_dict"
   ]
  },
  {
   "cell_type": "code",
   "execution_count": 42,
   "id": "cfc1c6fc",
   "metadata": {},
   "outputs": [
    {
     "data": {
      "text/plain": [
       "{90: 'Maths', 91: 'Phy', 93: 'Che', 95: 'Bio', 86: 'History'}"
      ]
     },
     "execution_count": 42,
     "metadata": {},
     "output_type": "execute_result"
    }
   ],
   "source": [
    "marks = [90,91,93,95,86]\n",
    "subjects= ['Maths','Phy','Che','Bio','History']\n",
    "\n",
    "my_dict = dict(zip(marks,subjects))\n",
    "my_dict"
   ]
  },
  {
   "cell_type": "code",
   "execution_count": 44,
   "id": "f09b82b9",
   "metadata": {},
   "outputs": [
    {
     "data": {
      "text/plain": [
       "[(90, 'Maths'), (91, 'Phy'), (93, 'Che'), (95, 'Bio'), (86, 'History')]"
      ]
     },
     "execution_count": 44,
     "metadata": {},
     "output_type": "execute_result"
    }
   ],
   "source": [
    "marks = [90,91,93,95,86]\n",
    "subjects= ['Maths','Phy','Che','Bio','History']\n",
    "\n",
    "my_list = list(zip(marks,subjects))\n",
    "my_list"
   ]
  },
  {
   "cell_type": "code",
   "execution_count": 45,
   "id": "be99697f",
   "metadata": {},
   "outputs": [
    {
     "data": {
      "text/plain": [
       "{90: 'Maths', 91: 'Phy', 93: 'Che', 95: 'Bio', 86: 'History'}"
      ]
     },
     "execution_count": 45,
     "metadata": {},
     "output_type": "execute_result"
    }
   ],
   "source": [
    "dict(my_list)"
   ]
  },
  {
   "cell_type": "raw",
   "id": "d20c9ea4",
   "metadata": {},
   "source": [
    "# Wap to take a range & create a dict such that the range becomes the keys & their square becomes the values of the dict"
   ]
  },
  {
   "cell_type": "code",
   "execution_count": 46,
   "id": "5625bdca",
   "metadata": {},
   "outputs": [
    {
     "name": "stdout",
     "output_type": "stream",
     "text": [
      "Enter no : 5\n",
      "{1: 1, 2: 4, 3: 9, 4: 16, 5: 25}\n"
     ]
    }
   ],
   "source": [
    "n=int(input(\"Enter no : \"))\n",
    "\n",
    "dict1={}\n",
    "for i in range (1,n+1):\n",
    "    dict1.update({i:i**2})\n",
    "print (dict1)"
   ]
  },
  {
   "cell_type": "code",
   "execution_count": 48,
   "id": "289f4ad8",
   "metadata": {},
   "outputs": [
    {
     "name": "stdout",
     "output_type": "stream",
     "text": [
      "[1, 2, 3, 4, 5, 6, 7, 8, 9] [1, 4, 9, 16, 25, 36, 49, 64, 81]\n"
     ]
    },
    {
     "data": {
      "text/plain": [
       "{1: 1, 2: 4, 3: 9, 4: 16, 5: 25, 6: 36, 7: 49, 8: 64, 9: 81}"
      ]
     },
     "execution_count": 48,
     "metadata": {},
     "output_type": "execute_result"
    }
   ],
   "source": [
    "L=[i for i in range(1,10)]\n",
    "M=[i**2 for i in range(1,10)]\n",
    "print(L,M)\n",
    "my_list=dict(zip(L,M))\n",
    "my_list"
   ]
  },
  {
   "cell_type": "raw",
   "id": "cbdf2540",
   "metadata": {},
   "source": [
    "# Wap to count the occurances of words in a string. Keep the count in dictionary format.\n",
    "This can also be done using Counter function\n",
    "from collections import Counter"
   ]
  },
  {
   "cell_type": "code",
   "execution_count": 47,
   "id": "4402fa24",
   "metadata": {},
   "outputs": [
    {
     "data": {
      "text/plain": [
       "{'h': 1, 'e': 1, 'l': 2, 'o': 1}"
      ]
     },
     "execution_count": 47,
     "metadata": {},
     "output_type": "execute_result"
    }
   ],
   "source": [
    "a=\"hello\"\n",
    "b={}    \n",
    "for i,j in enumerate(a):\n",
    "    b.update({j:(a.count(j))})\n",
    "b"
   ]
  },
  {
   "cell_type": "code",
   "execution_count": null,
   "id": "f19114a6",
   "metadata": {},
   "outputs": [],
   "source": [
    "string = '''@Unknow0059 It is my understanding that it is syntactic sugar. That was at least my reason for adding this comment. In practice there may be differences in how'''\n",
    "\n",
    "from collections import Counter\n",
    "\n",
    "print(Counter(string))\n",
    "print()\n",
    "print(Counter(string.lower().split()))"
   ]
  },
  {
   "cell_type": "code",
   "execution_count": 51,
   "id": "533a4ff6",
   "metadata": {},
   "outputs": [
    {
     "data": {
      "text/plain": [
       "{'h': 1, 'e': 1, 'l': 2, 'o': 1}"
      ]
     },
     "execution_count": 51,
     "metadata": {},
     "output_type": "execute_result"
    }
   ],
   "source": [
    "from collections import Counter\n",
    "a=\"hello\"\n",
    "counted_dict = dict(Counter(a))\n",
    "counted_dict"
   ]
  },
  {
   "cell_type": "markdown",
   "id": "c355982f",
   "metadata": {},
   "source": [
    "# Sorting"
   ]
  },
  {
   "cell_type": "markdown",
   "id": "8efd3070",
   "metadata": {},
   "source": [
    "### sorting by keys"
   ]
  },
  {
   "cell_type": "code",
   "execution_count": 55,
   "id": "ffaaf112",
   "metadata": {},
   "outputs": [
    {
     "data": {
      "text/plain": [
       "{'Bio': 95, 'Che': 93, 'History': 86, 'Maths': 90, 'Phy': 91}"
      ]
     },
     "execution_count": 55,
     "metadata": {},
     "output_type": "execute_result"
    }
   ],
   "source": [
    "subjects = {'Maths': 90, 'Phy': 91, 'Che': 93, 'Bio': 95, 'History': 86}\n",
    "\n",
    "sorted_dict = dict(sorted(subjects.items()))\n",
    "sorted_dict"
   ]
  },
  {
   "cell_type": "code",
   "execution_count": null,
   "id": "0c4dd0ee",
   "metadata": {},
   "outputs": [],
   "source": [
    "d = {'maths': 60, 'phy': 66, 'chem': 72, 'bio': 85, 'history': 89}\n",
    "\n",
    "sorted_keys = sorted(d.keys())\n",
    "\n",
    "dict1 = {}\n",
    "\n",
    "for i in sorted_keys:\n",
    "    dict1[i] = d[i]\n",
    "    \n",
    "dict1"
   ]
  },
  {
   "cell_type": "markdown",
   "id": "d0b2cb70",
   "metadata": {},
   "source": [
    "### sorting by values"
   ]
  },
  {
   "cell_type": "code",
   "execution_count": 2,
   "id": "fadeb8fa",
   "metadata": {},
   "outputs": [
    {
     "data": {
      "text/plain": [
       "{86: 'History', 90: 'Maths', 91: 'Phy', 93: 'Che', 95: 'Bio'}"
      ]
     },
     "execution_count": 2,
     "metadata": {},
     "output_type": "execute_result"
    }
   ],
   "source": [
    "subjects = {'Maths': 90, 'Phy': 91, 'Che': 93, 'Bio': 95, 'History': 86}\n",
    "\n",
    "dict(sorted([(value,key) for key,value in subjects.items()]))\n",
    "    "
   ]
  },
  {
   "cell_type": "code",
   "execution_count": 2,
   "id": "3a8d7344",
   "metadata": {},
   "outputs": [
    {
     "ename": "TypeError",
     "evalue": "cannot convert dictionary update sequence element #0 to a sequence",
     "output_type": "error",
     "traceback": [
      "\u001b[1;31m---------------------------------------------------------------------------\u001b[0m",
      "\u001b[1;31mTypeError\u001b[0m                                 Traceback (most recent call last)",
      "Input \u001b[1;32mIn [2]\u001b[0m, in \u001b[0;36m<cell line: 3>\u001b[1;34m()\u001b[0m\n\u001b[0;32m      1\u001b[0m subjects \u001b[38;5;241m=\u001b[39m {\u001b[38;5;124m'\u001b[39m\u001b[38;5;124mMaths\u001b[39m\u001b[38;5;124m'\u001b[39m: \u001b[38;5;241m90\u001b[39m, \u001b[38;5;124m'\u001b[39m\u001b[38;5;124mPhy\u001b[39m\u001b[38;5;124m'\u001b[39m: \u001b[38;5;241m91\u001b[39m, \u001b[38;5;124m'\u001b[39m\u001b[38;5;124mChe\u001b[39m\u001b[38;5;124m'\u001b[39m: \u001b[38;5;241m93\u001b[39m, \u001b[38;5;124m'\u001b[39m\u001b[38;5;124mBio\u001b[39m\u001b[38;5;124m'\u001b[39m: \u001b[38;5;241m95\u001b[39m, \u001b[38;5;124m'\u001b[39m\u001b[38;5;124mHistory\u001b[39m\u001b[38;5;124m'\u001b[39m: \u001b[38;5;241m86\u001b[39m}\n\u001b[1;32m----> 3\u001b[0m sorted_dict \u001b[38;5;241m=\u001b[39m \u001b[38;5;28;43mdict\u001b[39;49m\u001b[43m(\u001b[49m\u001b[38;5;28;43msorted\u001b[39;49m\u001b[43m(\u001b[49m\u001b[43msubjects\u001b[49m\u001b[38;5;241;43m.\u001b[39;49m\u001b[43mvalues\u001b[49m\u001b[43m(\u001b[49m\u001b[43m)\u001b[49m\u001b[43m)\u001b[49m\u001b[43m)\u001b[49m\n\u001b[0;32m      4\u001b[0m sorted_dict\n",
      "\u001b[1;31mTypeError\u001b[0m: cannot convert dictionary update sequence element #0 to a sequence"
     ]
    }
   ],
   "source": [
    "subjects = {'Maths': 90, 'Phy': 91, 'Che': 93, 'Bio': 95, 'History': 86}\n",
    "\n",
    "sorted_dict = dict(sorted(subjects.values()))\n",
    "sorted_dict"
   ]
  },
  {
   "cell_type": "code",
   "execution_count": 13,
   "id": "335cca3c",
   "metadata": {},
   "outputs": [
    {
     "name": "stdout",
     "output_type": "stream",
     "text": [
      "{90: 'Math', 91: 'Science', 93: 'Geo', 95: 'History', 86: 'English'}\n"
     ]
    },
    {
     "data": {
      "text/plain": [
       "{86: 'English', 90: 'Math', 91: 'Science', 93: 'Geo', 95: 'History'}"
      ]
     },
     "execution_count": 13,
     "metadata": {},
     "output_type": "execute_result"
    }
   ],
   "source": [
    "subject = {'Math': 90, 'Science': 91, 'Geo': 93, 'History': 95, 'English': 86}\n",
    "\n",
    "d = {}\n",
    "\n",
    "for key,value in subject.items():\n",
    "    d[value] = key\n",
    "print(d)\n",
    "\n",
    "dict(sorted(d.items()))"
   ]
  },
  {
   "cell_type": "code",
   "execution_count": 73,
   "id": "210218ec",
   "metadata": {},
   "outputs": [
    {
     "name": "stdout",
     "output_type": "stream",
     "text": [
      "{'maths': 60, 'phy': 66, 'bio': 85, 'history': 89, 'chem': 92}\n"
     ]
    }
   ],
   "source": [
    "d = {'maths': 60, 'phy': 66, 'chem': 92, 'bio': 85, 'history': 89}\n",
    "\n",
    "sort = dict()\n",
    "\n",
    "for key,value in d.items():\n",
    "    sort[value]=key\n",
    "    \n",
    "sorted_dict=dict(sorted(sort.items()))\n",
    "\n",
    "final_dict = {}\n",
    "\n",
    "for key,value in sorted_dict.items():\n",
    "    final_dict[value]=key\n",
    "    \n",
    "print(final_dict)"
   ]
  },
  {
   "cell_type": "code",
   "execution_count": 74,
   "id": "50529f49",
   "metadata": {},
   "outputs": [
    {
     "name": "stdout",
     "output_type": "stream",
     "text": [
      "{90: 'Math', 91: 'Science', 93: 'Geo', 95: 'History', 86: 'English'}\n",
      "{86: 'English', 90: 'Math', 91: 'Science', 93: 'Geo', 95: 'History'}\n",
      "{'English': 86, 'Math': 90, 'Science': 91, 'Geo': 93, 'History': 95}\n"
     ]
    }
   ],
   "source": [
    "subject = {'Math': 90, 'Science': 91, 'Geo': 93, 'History': 95, 'English': 86}\n",
    "\n",
    "new_dict = {}\n",
    "sorted_dict={}\n",
    "for key,value in subject.items():\n",
    "    new_dict[value] = key\n",
    "print(new_dict)\n",
    "\n",
    "sorted_items=sorted(new_dict.items())\n",
    "# print(sorted_items)\n",
    "\n",
    "sorted_dict=dict(sorted_items)\n",
    "print(sorted_dict)\n",
    "\n",
    "final_dict={}\n",
    "for key,value in sorted_dict.items():\n",
    "    final_dict[value] = key\n",
    "print(final_dict)"
   ]
  },
  {
   "cell_type": "code",
   "execution_count": 75,
   "id": "795cc545",
   "metadata": {},
   "outputs": [
    {
     "name": "stdout",
     "output_type": "stream",
     "text": [
      "{90: 'Math', 91: 'Science', 93: 'Geo', 95: 'History', 86: 'English'}\n"
     ]
    },
    {
     "data": {
      "text/plain": [
       "{86: 'English', 90: 'Math', 91: 'Science', 93: 'Geo', 95: 'History'}"
      ]
     },
     "execution_count": 75,
     "metadata": {},
     "output_type": "execute_result"
    }
   ],
   "source": [
    "subject = {'Math': 90, 'Science': 91, 'Geo': 93, 'History': 95, 'English': 86}\n",
    "\n",
    "new_dict = {}\n",
    "sorted_dict={}\n",
    "\n",
    "for key,value in subject.items():\n",
    "    new_dict[value] = key\n",
    "print(new_dict)\n",
    "\n",
    "for key in sorted(new_dict.keys()):\n",
    "    sorted_dict[key] = new_dict[key]\n",
    "    \n",
    "sorted_dict"
   ]
  },
  {
   "cell_type": "code",
   "execution_count": 77,
   "id": "efbd0862",
   "metadata": {},
   "outputs": [
    {
     "name": "stdout",
     "output_type": "stream",
     "text": [
      "{90: 'Science', 93: 'Geo', 95: 'History', 86: 'English'}\n"
     ]
    },
    {
     "data": {
      "text/plain": [
       "{86: 'English', 90: 'Science', 93: 'Geo', 95: 'History'}"
      ]
     },
     "execution_count": 77,
     "metadata": {},
     "output_type": "execute_result"
    }
   ],
   "source": [
    "subject = {'Math': 90, 'Science': 90, 'Geo': 93, 'History': 95, 'English': 86}\n",
    "\n",
    "new_dict = {}\n",
    "\n",
    "for key,value in subject.items():\n",
    "    new_dict[value] = key\n",
    "print(new_dict)\n",
    "\n",
    "dict(sorted(new_dict.items()))"
   ]
  },
  {
   "cell_type": "markdown",
   "id": "23588d1e",
   "metadata": {},
   "source": [
    "# sorting dict that has same values"
   ]
  },
  {
   "cell_type": "code",
   "execution_count": 96,
   "id": "a70a2969",
   "metadata": {},
   "outputs": [
    {
     "data": {
      "text/plain": [
       "{'History': 86, 'Maths': 90, 'Phy': 90, 'Che': 93, 'Bio': 95}"
      ]
     },
     "execution_count": 96,
     "metadata": {},
     "output_type": "execute_result"
    }
   ],
   "source": [
    "subjects = {'Maths': 90, 'Phy': 90, 'Che': 93, 'Bio': 95, 'History': 86}\n",
    "\n",
    "{i[1]:i[0] for i in sorted([(value,key) for key,value in subjects.items()])}"
   ]
  },
  {
   "cell_type": "code",
   "execution_count": 95,
   "id": "d83c50d0",
   "metadata": {},
   "outputs": [
    {
     "data": {
      "text/plain": [
       "{'History': 86, 'Maths': 90, 'Phy': 90, 'Che': 93, 'Bio': 95}"
      ]
     },
     "execution_count": 95,
     "metadata": {},
     "output_type": "execute_result"
    }
   ],
   "source": [
    "subjects = {'Maths': 90, 'Phy': 90, 'Che': 93, 'Bio': 95, 'History': 86}\n",
    "\n",
    "x = sorted([(value,key) for key,value in subjects.items()])\n",
    "\n",
    "dict1={}\n",
    "for i in x:\n",
    "    dict1[i[1]]=i[0]\n",
    "    \n",
    "dict1"
   ]
  },
  {
   "cell_type": "markdown",
   "id": "e8f83238",
   "metadata": {},
   "source": [
    "## dict comprehension"
   ]
  },
  {
   "cell_type": "code",
   "execution_count": 98,
   "id": "cd537eb6",
   "metadata": {},
   "outputs": [
    {
     "data": {
      "text/plain": [
       "{1: 1, 2: 4, 3: 9, 4: 16, 5: 25}"
      ]
     },
     "execution_count": 98,
     "metadata": {},
     "output_type": "execute_result"
    }
   ],
   "source": [
    "dict1 = {i : i**2 for i in range(1,6)}\n",
    "dict1"
   ]
  },
  {
   "cell_type": "code",
   "execution_count": 102,
   "id": "1f4db3db",
   "metadata": {},
   "outputs": [
    {
     "data": {
      "text/plain": [
       "[(1, 1), (2, 4), (3, 9), (4, 16), (5, 25)]"
      ]
     },
     "execution_count": 102,
     "metadata": {},
     "output_type": "execute_result"
    }
   ],
   "source": [
    "list1 = [(i,i**2) for i in range(1,6)]\n",
    "list1"
   ]
  },
  {
   "cell_type": "code",
   "execution_count": 103,
   "id": "3e27b7d1",
   "metadata": {},
   "outputs": [
    {
     "data": {
      "text/plain": [
       "{1: 1, 2: 4, 3: 9, 4: 16, 5: 25}"
      ]
     },
     "execution_count": 103,
     "metadata": {},
     "output_type": "execute_result"
    }
   ],
   "source": [
    "dict1 = dict([(i,i**2) for i in range(1,6)])\n",
    "dict1"
   ]
  },
  {
   "cell_type": "markdown",
   "id": "f22f78da",
   "metadata": {},
   "source": [
    "# fromkeys()"
   ]
  },
  {
   "cell_type": "raw",
   "id": "cd36c2ca",
   "metadata": {},
   "source": [
    "It sets a perticular value to all the keys\n",
    "fromkeys(sequence,value)\n",
    "default value is none"
   ]
  },
  {
   "cell_type": "code",
   "execution_count": 105,
   "id": "925b82a6",
   "metadata": {},
   "outputs": [
    {
     "data": {
      "text/plain": [
       "{'a': 'vowels', 'e': 'vowels', 'i': 'vowels', 'o': 'vowels', 'u': 'vowels'}"
      ]
     },
     "execution_count": 105,
     "metadata": {},
     "output_type": "execute_result"
    }
   ],
   "source": [
    "dict.fromkeys(['a','e','i','o','u'],'vowels')"
   ]
  },
  {
   "cell_type": "code",
   "execution_count": 106,
   "id": "456ea47f",
   "metadata": {},
   "outputs": [
    {
     "data": {
      "text/plain": [
       "{'a': None, 'e': None, 'i': None, 'o': None, 'u': None}"
      ]
     },
     "execution_count": 106,
     "metadata": {},
     "output_type": "execute_result"
    }
   ],
   "source": [
    "dict.fromkeys(['a','e','i','o','u'])"
   ]
  },
  {
   "cell_type": "code",
   "execution_count": 107,
   "id": "8c764636",
   "metadata": {},
   "outputs": [
    {
     "data": {
      "text/plain": [
       "{'A': None, 'E': None, 'I': None, 'O': None, 'U': None}"
      ]
     },
     "execution_count": 107,
     "metadata": {},
     "output_type": "execute_result"
    }
   ],
   "source": [
    "dict.fromkeys(list('AEIOU'))"
   ]
  },
  {
   "cell_type": "code",
   "execution_count": 108,
   "id": "9529afae",
   "metadata": {},
   "outputs": [
    {
     "data": {
      "text/plain": [
       "{1: 'Numbers', 2: 'Numbers', 3: 'Numbers', 4: 'Numbers'}"
      ]
     },
     "execution_count": 108,
     "metadata": {},
     "output_type": "execute_result"
    }
   ],
   "source": [
    "dict.fromkeys([1,2,3,4],'Numbers')"
   ]
  },
  {
   "cell_type": "code",
   "execution_count": 109,
   "id": "33bc9775",
   "metadata": {},
   "outputs": [
    {
     "data": {
      "text/plain": [
       "{1: [1, 4, 9, 16], 2: [1, 4, 9, 16], 3: [1, 4, 9, 16], 4: [1, 4, 9, 16]}"
      ]
     },
     "execution_count": 109,
     "metadata": {},
     "output_type": "execute_result"
    }
   ],
   "source": [
    "a = [1,2,3,4]\n",
    "dict.fromkeys(a,[i**2 for i in a])"
   ]
  },
  {
   "cell_type": "code",
   "execution_count": 111,
   "id": "f6522d02",
   "metadata": {},
   "outputs": [
    {
     "data": {
      "text/plain": [
       "{1: [1, 4, 9, 14], 2: [1, 4, 9, 14], 3: [1, 4, 9, 14], 4: [1, 4, 9, 14]}"
      ]
     },
     "execution_count": 111,
     "metadata": {},
     "output_type": "execute_result"
    }
   ],
   "source": [
    "dict.fromkeys([1,2,3,4],[1,4,9,14])"
   ]
  },
  {
   "cell_type": "code",
   "execution_count": 127,
   "id": "1fde5b54",
   "metadata": {},
   "outputs": [
    {
     "name": "stdout",
     "output_type": "stream",
     "text": [
      "{'A': None, 'E': None, 'I': None, 'O': None, 'U': None}\n"
     ]
    },
    {
     "data": {
      "text/html": [
       "<div>\n",
       "<style scoped>\n",
       "    .dataframe tbody tr th:only-of-type {\n",
       "        vertical-align: middle;\n",
       "    }\n",
       "\n",
       "    .dataframe tbody tr th {\n",
       "        vertical-align: top;\n",
       "    }\n",
       "\n",
       "    .dataframe thead th {\n",
       "        text-align: right;\n",
       "    }\n",
       "</style>\n",
       "<table border=\"1\" class=\"dataframe\">\n",
       "  <thead>\n",
       "    <tr style=\"text-align: right;\">\n",
       "      <th></th>\n",
       "      <th>index</th>\n",
       "      <th>empty_col</th>\n",
       "    </tr>\n",
       "  </thead>\n",
       "  <tbody>\n",
       "    <tr>\n",
       "      <th>0</th>\n",
       "      <td>A</td>\n",
       "      <td>None</td>\n",
       "    </tr>\n",
       "    <tr>\n",
       "      <th>1</th>\n",
       "      <td>E</td>\n",
       "      <td>None</td>\n",
       "    </tr>\n",
       "    <tr>\n",
       "      <th>2</th>\n",
       "      <td>I</td>\n",
       "      <td>None</td>\n",
       "    </tr>\n",
       "    <tr>\n",
       "      <th>3</th>\n",
       "      <td>O</td>\n",
       "      <td>None</td>\n",
       "    </tr>\n",
       "    <tr>\n",
       "      <th>4</th>\n",
       "      <td>U</td>\n",
       "      <td>None</td>\n",
       "    </tr>\n",
       "  </tbody>\n",
       "</table>\n",
       "</div>"
      ],
      "text/plain": [
       "  index empty_col\n",
       "0     A      None\n",
       "1     E      None\n",
       "2     I      None\n",
       "3     O      None\n",
       "4     U      None"
      ]
     },
     "execution_count": 127,
     "metadata": {},
     "output_type": "execute_result"
    }
   ],
   "source": [
    "x = dict.fromkeys(list('AEIOU'))\n",
    "print(x)\n",
    "df = pd.DataFrame(x,index=['empty_col']).T.reset_index()\n",
    "df"
   ]
  },
  {
   "cell_type": "code",
   "execution_count": 129,
   "id": "a72434c3",
   "metadata": {},
   "outputs": [],
   "source": [
    "df['empty_col'] = [1,2,3,4,5]"
   ]
  },
  {
   "cell_type": "code",
   "execution_count": 130,
   "id": "b8ca6e17",
   "metadata": {},
   "outputs": [
    {
     "data": {
      "text/html": [
       "<div>\n",
       "<style scoped>\n",
       "    .dataframe tbody tr th:only-of-type {\n",
       "        vertical-align: middle;\n",
       "    }\n",
       "\n",
       "    .dataframe tbody tr th {\n",
       "        vertical-align: top;\n",
       "    }\n",
       "\n",
       "    .dataframe thead th {\n",
       "        text-align: right;\n",
       "    }\n",
       "</style>\n",
       "<table border=\"1\" class=\"dataframe\">\n",
       "  <thead>\n",
       "    <tr style=\"text-align: right;\">\n",
       "      <th></th>\n",
       "      <th>index</th>\n",
       "      <th>empty_col</th>\n",
       "    </tr>\n",
       "  </thead>\n",
       "  <tbody>\n",
       "    <tr>\n",
       "      <th>0</th>\n",
       "      <td>A</td>\n",
       "      <td>1</td>\n",
       "    </tr>\n",
       "    <tr>\n",
       "      <th>1</th>\n",
       "      <td>E</td>\n",
       "      <td>2</td>\n",
       "    </tr>\n",
       "    <tr>\n",
       "      <th>2</th>\n",
       "      <td>I</td>\n",
       "      <td>3</td>\n",
       "    </tr>\n",
       "    <tr>\n",
       "      <th>3</th>\n",
       "      <td>O</td>\n",
       "      <td>4</td>\n",
       "    </tr>\n",
       "    <tr>\n",
       "      <th>4</th>\n",
       "      <td>U</td>\n",
       "      <td>5</td>\n",
       "    </tr>\n",
       "  </tbody>\n",
       "</table>\n",
       "</div>"
      ],
      "text/plain": [
       "  index  empty_col\n",
       "0     A          1\n",
       "1     E          2\n",
       "2     I          3\n",
       "3     O          4\n",
       "4     U          5"
      ]
     },
     "execution_count": 130,
     "metadata": {},
     "output_type": "execute_result"
    }
   ],
   "source": [
    "df"
   ]
  },
  {
   "cell_type": "markdown",
   "id": "83338ea7",
   "metadata": {},
   "source": [
    "# copy & deepcopy"
   ]
  },
  {
   "cell_type": "raw",
   "id": "10834a42",
   "metadata": {},
   "source": [
    "works the same way it was working on list\n",
    "\n",
    "for a single order dict, copy works the same as deepcopy\n",
    "while in nested dict copy doesn't work well. So you need deep copy"
   ]
  },
  {
   "cell_type": "code",
   "execution_count": 137,
   "id": "6a0000d0",
   "metadata": {},
   "outputs": [],
   "source": [
    "from copy import copy,deepcopy"
   ]
  },
  {
   "cell_type": "code",
   "execution_count": 138,
   "id": "a888f451",
   "metadata": {},
   "outputs": [
    {
     "data": {
      "text/plain": [
       "({'Name': 'Pollard', 'Age': 30}, {'Name': 'Rohit', 'Age': 30})"
      ]
     },
     "execution_count": 138,
     "metadata": {},
     "output_type": "execute_result"
    }
   ],
   "source": [
    "# single dimension dict >> copy works well\n",
    "info = {'Name':'Rohit','Age':30}\n",
    "data = copy(info)\n",
    "\n",
    "data['Name']='Pollard'\n",
    "\n",
    "data, info"
   ]
  },
  {
   "cell_type": "code",
   "execution_count": 134,
   "id": "1cac735d",
   "metadata": {},
   "outputs": [
    {
     "name": "stdout",
     "output_type": "stream",
     "text": [
      "{'CG001': {'Name': 'Suryakumar', 'Age': 30}, 'CG002': {'Name': 'Kishan', 'Age': 25}, 'CG003': {'Name': 'Hardik', 'Age': 27}}\n",
      "\n",
      "{'CG001': {'Name': 'Suryakumar', 'Age': 30}, 'CG002': {'Name': 'Kishan', 'Age': 25}, 'CG003': {'Name': 'Hardik', 'Age': 27}}\n"
     ]
    }
   ],
   "source": [
    "emp_record = {'CG001':{'Name':'Rohit','Age':30},\n",
    "             'CG002':{'Name':'Kishan','Age':25},\n",
    "             'CG003':{'Name':'Hardik','Age':27}}\n",
    "\n",
    "records = emp_record.copy()\n",
    "\n",
    "records['CG001']['Name']='Suryakumar'\n",
    "print(records,emp_record,sep='\\n\\n')"
   ]
  },
  {
   "cell_type": "code",
   "execution_count": 135,
   "id": "50e15050",
   "metadata": {},
   "outputs": [],
   "source": [
    "from copy import copy,deepcopy"
   ]
  },
  {
   "cell_type": "code",
   "execution_count": 136,
   "id": "b8a665ef",
   "metadata": {},
   "outputs": [
    {
     "name": "stdout",
     "output_type": "stream",
     "text": [
      "{'CG001': {'Name': 'Suryakumar', 'Age': 30}, 'CG002': {'Name': 'Kishan', 'Age': 25}, 'CG003': {'Name': 'Hardik', 'Age': 27}}\n",
      "\n",
      "{'CG001': {'Name': 'Rohit', 'Age': 30}, 'CG002': {'Name': 'Kishan', 'Age': 25}, 'CG003': {'Name': 'Hardik', 'Age': 27}}\n"
     ]
    }
   ],
   "source": [
    "# nested dict >> copy fails! Use deepcopy\n",
    "emp_record = {'CG001':{'Name':'Rohit','Age':30},\n",
    "             'CG002':{'Name':'Kishan','Age':25},\n",
    "             'CG003':{'Name':'Hardik','Age':27}}\n",
    "\n",
    "records = deepcopy(emp_record)\n",
    "\n",
    "records['CG001']['Name']='Suryakumar'\n",
    "print(records,emp_record,sep='\\n\\n')"
   ]
  },
  {
   "cell_type": "code",
   "execution_count": null,
   "id": "8aa15004",
   "metadata": {},
   "outputs": [],
   "source": []
  }
 ],
 "metadata": {
  "kernelspec": {
   "display_name": "Python 3 (ipykernel)",
   "language": "python",
   "name": "python3"
  },
  "language_info": {
   "codemirror_mode": {
    "name": "ipython",
    "version": 3
   },
   "file_extension": ".py",
   "mimetype": "text/x-python",
   "name": "python",
   "nbconvert_exporter": "python",
   "pygments_lexer": "ipython3",
   "version": "3.9.12"
  },
  "toc": {
   "base_numbering": 1,
   "nav_menu": {},
   "number_sections": true,
   "sideBar": true,
   "skip_h1_title": false,
   "title_cell": "Table of Contents",
   "title_sidebar": "Contents",
   "toc_cell": false,
   "toc_position": {},
   "toc_section_display": true,
   "toc_window_display": false
  },
  "varInspector": {
   "cols": {
    "lenName": 16,
    "lenType": 16,
    "lenVar": 40
   },
   "kernels_config": {
    "python": {
     "delete_cmd_postfix": "",
     "delete_cmd_prefix": "del ",
     "library": "var_list.py",
     "varRefreshCmd": "print(var_dic_list())"
    },
    "r": {
     "delete_cmd_postfix": ") ",
     "delete_cmd_prefix": "rm(",
     "library": "var_list.r",
     "varRefreshCmd": "cat(var_dic_list()) "
    }
   },
   "types_to_exclude": [
    "module",
    "function",
    "builtin_function_or_method",
    "instance",
    "_Feature"
   ],
   "window_display": false
  }
 },
 "nbformat": 4,
 "nbformat_minor": 5
}

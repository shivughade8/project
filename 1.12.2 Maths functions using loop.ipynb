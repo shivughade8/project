{
 "cells": [
  {
   "cell_type": "markdown",
   "id": "a5e0a407",
   "metadata": {},
   "source": [
    "# Factorial of any number"
   ]
  },
  {
   "cell_type": "raw",
   "id": "2d4a3601",
   "metadata": {},
   "source": [
    "5 = 5*4*3*2*1\n",
    "  = 120"
   ]
  },
  {
   "cell_type": "code",
   "execution_count": 2,
   "id": "e20c0f14",
   "metadata": {},
   "outputs": [
    {
     "name": "stdout",
     "output_type": "stream",
     "text": [
      "5\n",
      "120\n"
     ]
    }
   ],
   "source": [
    "a = int(input())\n",
    "\n",
    "fact = 1\n",
    "\n",
    "for i in range(1,a+1):   # 1,2,3,4,5\n",
    "    fact=fact*i\n",
    "    \n",
    "print(fact)"
   ]
  },
  {
   "cell_type": "markdown",
   "id": "cdc6457d",
   "metadata": {},
   "source": [
    "# Fibonacci series"
   ]
  },
  {
   "cell_type": "code",
   "execution_count": null,
   "id": "f7668cab",
   "metadata": {},
   "outputs": [],
   "source": [
    "0 1 1 2 3 5 8 13"
   ]
  },
  {
   "cell_type": "code",
   "execution_count": 5,
   "id": "4be4bc70",
   "metadata": {},
   "outputs": [
    {
     "name": "stdout",
     "output_type": "stream",
     "text": [
      "5\n"
     ]
    },
    {
     "data": {
      "text/plain": [
       "[0, 1, 1, 2, 3]"
      ]
     },
     "execution_count": 5,
     "metadata": {},
     "output_type": "execute_result"
    }
   ],
   "source": [
    "n = int(input())\n",
    "\n",
    "fibo= [0,1]\n",
    "\n",
    "for i in range(n-2):\n",
    "    fibo.append(fibo[i]+fibo[i+1])\n",
    "#     print(fibo)\n",
    "fibo"
   ]
  },
  {
   "cell_type": "code",
   "execution_count": 12,
   "id": "588c1194",
   "metadata": {},
   "outputs": [
    {
     "name": "stdout",
     "output_type": "stream",
     "text": [
      "5\n",
      "0 1 2 4 8 "
     ]
    }
   ],
   "source": [
    "n = int(input())\n",
    "a,b=0,1\n",
    "\n",
    "for i in range(n):\n",
    "    print(a,end=' ')\n",
    "    c=a+b\n",
    "    b=a+b\n",
    "    a=b\n",
    "\n",
    "    \n",
    "#     \n",
    "    "
   ]
  },
  {
   "cell_type": "code",
   "execution_count": 13,
   "id": "c893842b",
   "metadata": {},
   "outputs": [
    {
     "name": "stdout",
     "output_type": "stream",
     "text": [
      "6\n",
      "0 1 1 2 3 5 "
     ]
    }
   ],
   "source": [
    "n = int(input())\n",
    "a,b=0,1\n",
    "\n",
    "for i in range(n):\n",
    "    print(a,end=' ')\n",
    "    a,b = b,a+b"
   ]
  },
  {
   "cell_type": "markdown",
   "id": "b8799c4d",
   "metadata": {},
   "source": [
    "# For Else"
   ]
  },
  {
   "cell_type": "raw",
   "id": "c92c9eae",
   "metadata": {},
   "source": [
    "Else will always be executed after for loop\n",
    "however if for loop consists of break statement then else will not be executed"
   ]
  },
  {
   "cell_type": "code",
   "execution_count": 14,
   "id": "9e73dfb1",
   "metadata": {},
   "outputs": [
    {
     "name": "stdout",
     "output_type": "stream",
     "text": [
      "1\n",
      "1\n",
      "1\n",
      "1\n",
      "1\n",
      "for loop completed!\n"
     ]
    }
   ],
   "source": [
    "a = 1\n",
    "\n",
    "for i in range(5):\n",
    "    print(a)\n",
    "else:\n",
    "    print('for loop completed!')"
   ]
  },
  {
   "cell_type": "code",
   "execution_count": 15,
   "id": "0d928a12",
   "metadata": {},
   "outputs": [
    {
     "name": "stdout",
     "output_type": "stream",
     "text": [
      "1\n"
     ]
    }
   ],
   "source": [
    "a = 1\n",
    "\n",
    "for i in range(5):\n",
    "    print(a)\n",
    "    break\n",
    "else:\n",
    "    print('for loop completed!')"
   ]
  },
  {
   "cell_type": "code",
   "execution_count": 18,
   "id": "cc3ab26a",
   "metadata": {},
   "outputs": [
    {
     "name": "stdout",
     "output_type": "stream",
     "text": [
      "6\n",
      "we dont accept numbers whoz factorial is greater than 500\n"
     ]
    }
   ],
   "source": [
    "a,f= int(input()),1\n",
    "for i in range(1,a+1):f=f*i\n",
    "else:\n",
    "    if f > 500:\n",
    "        print('we dont accept numbers whoz factorial is greater than 500')\n",
    "    else:\n",
    "        print(f)"
   ]
  },
  {
   "cell_type": "markdown",
   "id": "23c7abdb",
   "metadata": {},
   "source": [
    "# Pass, Continue, Break"
   ]
  },
  {
   "cell_type": "raw",
   "id": "0dedd7c1",
   "metadata": {},
   "source": [
    "pass is used so as to neither express any sttement further or bypass the condition of the loop\n",
    "pass does not stop or break the iteration\n",
    "pass is also used along with conditiontional statements\n",
    "\n",
    "continue will stop the currernt iteration & jump to next iteration\n",
    "break will break the loop altogether & come out of it!"
   ]
  },
  {
   "cell_type": "markdown",
   "id": "3da4aae5",
   "metadata": {},
   "source": [
    "## use of pass"
   ]
  },
  {
   "cell_type": "code",
   "execution_count": 34,
   "id": "c36738d6",
   "metadata": {},
   "outputs": [
    {
     "name": "stdout",
     "output_type": "stream",
     "text": [
      "printing after pass\n"
     ]
    }
   ],
   "source": [
    "a = [1,2,3,4]\n",
    "\n",
    "if 4 in a:\n",
    "    pass\n",
    "    print('printing after pass')\n",
    "    \n",
    "else:\n",
    "    print('4 not in a')"
   ]
  },
  {
   "cell_type": "code",
   "execution_count": 25,
   "id": "411eef8c",
   "metadata": {},
   "outputs": [],
   "source": [
    "for i in range(5):\n",
    "    pass"
   ]
  },
  {
   "cell_type": "code",
   "execution_count": 26,
   "id": "39deff41",
   "metadata": {},
   "outputs": [
    {
     "name": "stdout",
     "output_type": "stream",
     "text": [
      "1\n",
      "2\n",
      "3\n",
      "4\n"
     ]
    }
   ],
   "source": [
    "n = 5\n",
    "\n",
    "for i in range(n):\n",
    "    \n",
    "    if i == 0:\n",
    "        pass\n",
    "    \n",
    "    else:\n",
    "        print(i)"
   ]
  },
  {
   "cell_type": "markdown",
   "id": "2a1ee1cb",
   "metadata": {},
   "source": [
    "## continue"
   ]
  },
  {
   "cell_type": "code",
   "execution_count": 33,
   "id": "49a1fec1",
   "metadata": {},
   "outputs": [
    {
     "name": "stdout",
     "output_type": "stream",
     "text": [
      "0\n",
      "-------------\n",
      "printing before continue\n",
      "2\n",
      "-------------\n",
      "3\n",
      "-------------\n",
      "4\n",
      "-------------\n",
      "Loop completed!\n"
     ]
    }
   ],
   "source": [
    "n = 5\n",
    "\n",
    "for i in range(n): \n",
    "    if i == 1:\n",
    "        print('printing before continue')\n",
    "        continue\n",
    "        print('printing after continue')\n",
    "    \n",
    "    else:\n",
    "        print(i)\n",
    "    print('-------------')\n",
    "    \n",
    "else:\n",
    "    print('Loop completed!')"
   ]
  },
  {
   "cell_type": "markdown",
   "id": "02f3de33",
   "metadata": {},
   "source": [
    "## break"
   ]
  },
  {
   "cell_type": "code",
   "execution_count": 31,
   "id": "7b83014f",
   "metadata": {},
   "outputs": [
    {
     "name": "stdout",
     "output_type": "stream",
     "text": [
      "0\n",
      "printing before break\n"
     ]
    }
   ],
   "source": [
    "n = 5\n",
    "\n",
    "for i in range(n):\n",
    "    if i == 1:\n",
    "        print('printing before break')\n",
    "        break\n",
    "        print('printing after break')\n",
    "    \n",
    "    else:\n",
    "        print(i)"
   ]
  },
  {
   "cell_type": "code",
   "execution_count": 32,
   "id": "03611d8d",
   "metadata": {},
   "outputs": [
    {
     "name": "stdout",
     "output_type": "stream",
     "text": [
      "0\n",
      "printing before break\n"
     ]
    }
   ],
   "source": [
    "n = 5\n",
    "\n",
    "for i in range(n):\n",
    "    \n",
    "    if i == 1:\n",
    "        print('printing before break')\n",
    "        break\n",
    "        print('printing after break')\n",
    "    \n",
    "    else:\n",
    "        print(i)\n",
    "        \n",
    "else:\n",
    "    print('finally done!')"
   ]
  },
  {
   "cell_type": "code",
   "execution_count": null,
   "id": "bfd0b722",
   "metadata": {},
   "outputs": [],
   "source": []
  }
 ],
 "metadata": {
  "kernelspec": {
   "display_name": "Python 3 (ipykernel)",
   "language": "python",
   "name": "python3"
  },
  "language_info": {
   "codemirror_mode": {
    "name": "ipython",
    "version": 3
   },
   "file_extension": ".py",
   "mimetype": "text/x-python",
   "name": "python",
   "nbconvert_exporter": "python",
   "pygments_lexer": "ipython3",
   "version": "3.9.12"
  },
  "toc": {
   "base_numbering": 1,
   "nav_menu": {},
   "number_sections": true,
   "sideBar": true,
   "skip_h1_title": false,
   "title_cell": "Table of Contents",
   "title_sidebar": "Contents",
   "toc_cell": false,
   "toc_position": {},
   "toc_section_display": true,
   "toc_window_display": false
  },
  "varInspector": {
   "cols": {
    "lenName": 16,
    "lenType": 16,
    "lenVar": 40
   },
   "kernels_config": {
    "python": {
     "delete_cmd_postfix": "",
     "delete_cmd_prefix": "del ",
     "library": "var_list.py",
     "varRefreshCmd": "print(var_dic_list())"
    },
    "r": {
     "delete_cmd_postfix": ") ",
     "delete_cmd_prefix": "rm(",
     "library": "var_list.r",
     "varRefreshCmd": "cat(var_dic_list()) "
    }
   },
   "types_to_exclude": [
    "module",
    "function",
    "builtin_function_or_method",
    "instance",
    "_Feature"
   ],
   "window_display": false
  }
 },
 "nbformat": 4,
 "nbformat_minor": 5
}

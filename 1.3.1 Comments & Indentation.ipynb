{
 "cells": [
  {
   "cell_type": "markdown",
   "id": "f45a2ac0",
   "metadata": {},
   "source": [
    "# comments in python"
   ]
  },
  {
   "cell_type": "raw",
   "id": "a7f47d95",
   "metadata": {},
   "source": [
    "Define:\n",
    "    Comments are used to explain the code\n",
    "    comments do not yeild anything as in any output.\n",
    "    not use a line as code\n",
    "    \n",
    "    Using # in the begening of anything we can create a comment\n",
    "    shortcut - ctrl + /"
   ]
  },
  {
   "cell_type": "code",
   "execution_count": 2,
   "id": "1184b2e6",
   "metadata": {},
   "outputs": [
    {
     "name": "stdout",
     "output_type": "stream",
     "text": [
      "Hello\n"
     ]
    }
   ],
   "source": [
    "# we are writing a code for a variable:\n",
    "\n",
    "## Defining a variable here:-----------------------\n",
    "\n",
    "variable = 'Hello'\n",
    "\n",
    "## printing a vatriable here:----------------------\n",
    "\n",
    "print(variable)"
   ]
  },
  {
   "cell_type": "code",
   "execution_count": 3,
   "id": "e00eaa2c",
   "metadata": {},
   "outputs": [],
   "source": [
    "# hi there"
   ]
  },
  {
   "cell_type": "code",
   "execution_count": 4,
   "id": "a70250d7",
   "metadata": {},
   "outputs": [
    {
     "name": "stdout",
     "output_type": "stream",
     "text": [
      "Hello\n"
     ]
    }
   ],
   "source": [
    "print('Hello')   # hello being printed"
   ]
  },
  {
   "cell_type": "markdown",
   "id": "e5f57f00",
   "metadata": {},
   "source": [
    "# Indentation Error"
   ]
  },
  {
   "cell_type": "raw",
   "id": "15684911",
   "metadata": {},
   "source": [
    "Indentation occur bcz of the lack or excess of spaces."
   ]
  },
  {
   "cell_type": "code",
   "execution_count": 5,
   "id": "be3f8148",
   "metadata": {},
   "outputs": [],
   "source": [
    "a = 10\n",
    "b = 20"
   ]
  },
  {
   "cell_type": "code",
   "execution_count": 6,
   "id": "ea1a4236",
   "metadata": {},
   "outputs": [
    {
     "data": {
      "text/plain": [
       "(10, 20)"
      ]
     },
     "execution_count": 6,
     "metadata": {},
     "output_type": "execute_result"
    }
   ],
   "source": [
    "a, b"
   ]
  },
  {
   "cell_type": "code",
   "execution_count": 7,
   "id": "625d305c",
   "metadata": {},
   "outputs": [
    {
     "ename": "IndentationError",
     "evalue": "unexpected indent (1645786942.py, line 2)",
     "output_type": "error",
     "traceback": [
      "\u001b[1;36m  Input \u001b[1;32mIn [7]\u001b[1;36m\u001b[0m\n\u001b[1;33m    b = 20\u001b[0m\n\u001b[1;37m    ^\u001b[0m\n\u001b[1;31mIndentationError\u001b[0m\u001b[1;31m:\u001b[0m unexpected indent\n"
     ]
    }
   ],
   "source": [
    "a = 10\n",
    "  b = 20"
   ]
  },
  {
   "cell_type": "code",
   "execution_count": 8,
   "id": "cf87f024",
   "metadata": {},
   "outputs": [
    {
     "name": "stdout",
     "output_type": "stream",
     "text": [
      "a is 10\n"
     ]
    }
   ],
   "source": [
    "if a == 10:\n",
    "    print('a is 10')"
   ]
  },
  {
   "cell_type": "code",
   "execution_count": 9,
   "id": "6b620048",
   "metadata": {},
   "outputs": [
    {
     "ename": "IndentationError",
     "evalue": "expected an indented block (3333892241.py, line 2)",
     "output_type": "error",
     "traceback": [
      "\u001b[1;36m  Input \u001b[1;32mIn [9]\u001b[1;36m\u001b[0m\n\u001b[1;33m    print('a is 10')\u001b[0m\n\u001b[1;37m    ^\u001b[0m\n\u001b[1;31mIndentationError\u001b[0m\u001b[1;31m:\u001b[0m expected an indented block\n"
     ]
    }
   ],
   "source": [
    "if a == 10:\n",
    "print('a is 10')"
   ]
  },
  {
   "cell_type": "code",
   "execution_count": 11,
   "id": "e382835c",
   "metadata": {},
   "outputs": [
    {
     "ename": "IndentationError",
     "evalue": "expected an indented block (3333892241.py, line 2)",
     "output_type": "error",
     "traceback": [
      "\u001b[1;36m  Input \u001b[1;32mIn [11]\u001b[1;36m\u001b[0m\n\u001b[1;33m    print('a is 10')\u001b[0m\n\u001b[1;37m    ^\u001b[0m\n\u001b[1;31mIndentationError\u001b[0m\u001b[1;31m:\u001b[0m expected an indented block\n"
     ]
    }
   ],
   "source": [
    "if a == 10:\n",
    "    print('a is 10')"
   ]
  },
  {
   "cell_type": "code",
   "execution_count": null,
   "id": "a45294b8",
   "metadata": {},
   "outputs": [],
   "source": []
  }
 ],
 "metadata": {
  "kernelspec": {
   "display_name": "Python 3 (ipykernel)",
   "language": "python",
   "name": "python3"
  },
  "language_info": {
   "codemirror_mode": {
    "name": "ipython",
    "version": 3
   },
   "file_extension": ".py",
   "mimetype": "text/x-python",
   "name": "python",
   "nbconvert_exporter": "python",
   "pygments_lexer": "ipython3",
   "version": "3.9.12"
  }
 },
 "nbformat": 4,
 "nbformat_minor": 5
}

{
 "cells": [
  {
   "cell_type": "markdown",
   "id": "21c95d1f",
   "metadata": {},
   "source": [
    "# Endswith()"
   ]
  },
  {
   "cell_type": "raw",
   "id": "18d3b754",
   "metadata": {},
   "source": [
    "It checks whether a string end with a specific substring\n",
    "If yes then it returns True, else will return False"
   ]
  },
  {
   "cell_type": "code",
   "execution_count": 2,
   "id": "232d9408",
   "metadata": {},
   "outputs": [
    {
     "data": {
      "text/plain": [
       "True"
      ]
     },
     "execution_count": 2,
     "metadata": {},
     "output_type": "execute_result"
    }
   ],
   "source": [
    "string = 'Python is Intresting'\n",
    "\n",
    "string.endswith('Intresting')"
   ]
  },
  {
   "cell_type": "code",
   "execution_count": 3,
   "id": "25123af2",
   "metadata": {},
   "outputs": [
    {
     "name": "stdout",
     "output_type": "stream",
     "text": [
      "Its a question\n"
     ]
    }
   ],
   "source": [
    "string = 'Python is Intresting. Is that what you also feel?'\n",
    "\n",
    "if string.endswith('?'):\n",
    "    print('Its a question')"
   ]
  },
  {
   "cell_type": "code",
   "execution_count": 6,
   "id": "a2a96188",
   "metadata": {},
   "outputs": [
    {
     "data": {
      "text/plain": [
       "True"
      ]
     },
     "execution_count": 6,
     "metadata": {},
     "output_type": "execute_result"
    }
   ],
   "source": [
    "file = 'pancard.pdf'\n",
    "\n",
    "file.endswith('.pdf')"
   ]
  },
  {
   "cell_type": "code",
   "execution_count": 8,
   "id": "2f506b7f",
   "metadata": {},
   "outputs": [
    {
     "name": "stdout",
     "output_type": "stream",
     "text": [
      "Invoice.pdf\n",
      "Adhar card.pdf\n"
     ]
    }
   ],
   "source": [
    "files = ['Invoice.pdf','Discharge summery.docx','Adhar card.pdf','Pan card.Jpeg']\n",
    "\n",
    "for any_file in files:\n",
    "    if any_file.endswith('.pdf'):\n",
    "        print(any_file)"
   ]
  },
  {
   "cell_type": "markdown",
   "id": "7107dbd6",
   "metadata": {},
   "source": [
    "# Startswith()"
   ]
  },
  {
   "cell_type": "raw",
   "id": "1869e28f",
   "metadata": {},
   "source": [
    "It checks if a string starts with a specific substring\n",
    "results are boolean values True or False"
   ]
  },
  {
   "cell_type": "code",
   "execution_count": 9,
   "id": "25a95bc3",
   "metadata": {},
   "outputs": [
    {
     "data": {
      "text/plain": [
       "True"
      ]
     },
     "execution_count": 9,
     "metadata": {},
     "output_type": "execute_result"
    }
   ],
   "source": [
    "string = 'Python Language'\n",
    "string.startswith('Python')"
   ]
  },
  {
   "cell_type": "code",
   "execution_count": 10,
   "id": "e0921c4b",
   "metadata": {},
   "outputs": [
    {
     "data": {
      "text/plain": [
       "True"
      ]
     },
     "execution_count": 10,
     "metadata": {},
     "output_type": "execute_result"
    }
   ],
   "source": [
    "string = 'Python Language'\n",
    "string.startswith('P')"
   ]
  },
  {
   "cell_type": "code",
   "execution_count": 11,
   "id": "c54c7d0a",
   "metadata": {},
   "outputs": [
    {
     "data": {
      "text/plain": [
       "False"
      ]
     },
     "execution_count": 11,
     "metadata": {},
     "output_type": "execute_result"
    }
   ],
   "source": [
    "string = 'Python Language'\n",
    "string.startswith('p')"
   ]
  },
  {
   "cell_type": "code",
   "execution_count": 12,
   "id": "5e5c313f",
   "metadata": {},
   "outputs": [
    {
     "data": {
      "text/plain": [
       "False"
      ]
     },
     "execution_count": 12,
     "metadata": {},
     "output_type": "execute_result"
    }
   ],
   "source": [
    "string = ' python Language'\n",
    "string.startswith('p')"
   ]
  },
  {
   "cell_type": "code",
   "execution_count": 14,
   "id": "97f8a37f",
   "metadata": {},
   "outputs": [
    {
     "name": "stdout",
     "output_type": "stream",
     "text": [
      "Abhishek\n",
      "abhinav\n",
      "Abhijit\n"
     ]
    }
   ],
   "source": [
    "Students = ['Abhishek','Chetan','abhinav','Dhananjay','Abhijit','Bhushan']\n",
    "\n",
    "for name in Students:\n",
    "    if name.upper().startswith('A'):\n",
    "        print(name)"
   ]
  },
  {
   "cell_type": "markdown",
   "id": "8a1edb97",
   "metadata": {},
   "source": [
    "# Isalnum()"
   ]
  },
  {
   "cell_type": "raw",
   "id": "e764b352",
   "metadata": {},
   "source": [
    "only supports alphabets & numbers\n",
    "special characters including space & underscore not allowed!"
   ]
  },
  {
   "cell_type": "code",
   "execution_count": 15,
   "id": "d4f8a047",
   "metadata": {},
   "outputs": [
    {
     "data": {
      "text/plain": [
       "False"
      ]
     },
     "execution_count": 15,
     "metadata": {},
     "output_type": "execute_result"
    }
   ],
   "source": [
    "string = 'Python 3.9'\n",
    "string.isalnum()"
   ]
  },
  {
   "cell_type": "code",
   "execution_count": 16,
   "id": "6168e6ac",
   "metadata": {},
   "outputs": [
    {
     "data": {
      "text/plain": [
       "False"
      ]
     },
     "execution_count": 16,
     "metadata": {},
     "output_type": "execute_result"
    }
   ],
   "source": [
    "string = 'Python3.9'\n",
    "string.isalnum()"
   ]
  },
  {
   "cell_type": "code",
   "execution_count": 17,
   "id": "9e907e99",
   "metadata": {},
   "outputs": [
    {
     "data": {
      "text/plain": [
       "True"
      ]
     },
     "execution_count": 17,
     "metadata": {},
     "output_type": "execute_result"
    }
   ],
   "source": [
    "string = 'Python39'\n",
    "string.isalnum()"
   ]
  },
  {
   "cell_type": "code",
   "execution_count": 18,
   "id": "bfa20fd0",
   "metadata": {},
   "outputs": [
    {
     "data": {
      "text/plain": [
       "True"
      ]
     },
     "execution_count": 18,
     "metadata": {},
     "output_type": "execute_result"
    }
   ],
   "source": [
    "string = '326794689'\n",
    "string.isalnum()"
   ]
  },
  {
   "cell_type": "code",
   "execution_count": 19,
   "id": "ab5e5b4d",
   "metadata": {},
   "outputs": [
    {
     "data": {
      "text/plain": [
       "True"
      ]
     },
     "execution_count": 19,
     "metadata": {},
     "output_type": "execute_result"
    }
   ],
   "source": [
    "string = 'ajkfhalnsfdl'\n",
    "string.isalnum()"
   ]
  },
  {
   "cell_type": "code",
   "execution_count": 20,
   "id": "56ca0dd0",
   "metadata": {},
   "outputs": [
    {
     "data": {
      "text/plain": [
       "False"
      ]
     },
     "execution_count": 20,
     "metadata": {},
     "output_type": "execute_result"
    }
   ],
   "source": [
    "string = ''\n",
    "string.isalnum()"
   ]
  },
  {
   "cell_type": "code",
   "execution_count": 22,
   "id": "fe9931cc",
   "metadata": {},
   "outputs": [
    {
     "name": "stdout",
     "output_type": "stream",
     "text": [
      "EBHSJ7840G\n",
      "OTUIF7456D\n"
     ]
    }
   ],
   "source": [
    "PanNums = ['EBHSJ7840G','   OTUIF7456D','YTW$H9803K']\n",
    "\n",
    "for number in PanNums:\n",
    "    \n",
    "    number=number.strip()\n",
    "    if len(number)==10:\n",
    "        if number.isalnum():\n",
    "            print(number)\n",
    "    "
   ]
  },
  {
   "cell_type": "markdown",
   "id": "d2dd9536",
   "metadata": {},
   "source": [
    "# Isalpha()"
   ]
  },
  {
   "cell_type": "raw",
   "id": "3ff5e08a",
   "metadata": {},
   "source": [
    "supports only alphabets\n",
    "no numbers, no special characters"
   ]
  },
  {
   "cell_type": "code",
   "execution_count": 23,
   "id": "35a76d02",
   "metadata": {},
   "outputs": [
    {
     "data": {
      "text/plain": [
       "True"
      ]
     },
     "execution_count": 23,
     "metadata": {},
     "output_type": "execute_result"
    }
   ],
   "source": [
    "string = 'Python'\n",
    "string.isalpha()"
   ]
  },
  {
   "cell_type": "code",
   "execution_count": 24,
   "id": "ed201779",
   "metadata": {},
   "outputs": [
    {
     "data": {
      "text/plain": [
       "False"
      ]
     },
     "execution_count": 24,
     "metadata": {},
     "output_type": "execute_result"
    }
   ],
   "source": [
    "string = 'Python Language'\n",
    "string.isalpha()"
   ]
  },
  {
   "cell_type": "code",
   "execution_count": 25,
   "id": "4021a164",
   "metadata": {},
   "outputs": [
    {
     "data": {
      "text/plain": [
       "True"
      ]
     },
     "execution_count": 25,
     "metadata": {},
     "output_type": "execute_result"
    }
   ],
   "source": [
    "string = 'RohitSharma'\n",
    "string.isalpha()"
   ]
  },
  {
   "cell_type": "code",
   "execution_count": 26,
   "id": "181784fc",
   "metadata": {},
   "outputs": [
    {
     "data": {
      "text/plain": [
       "False"
      ]
     },
     "execution_count": 26,
     "metadata": {},
     "output_type": "execute_result"
    }
   ],
   "source": [
    "string = '#RohitSharma'\n",
    "string.isalpha()"
   ]
  },
  {
   "cell_type": "code",
   "execution_count": 27,
   "id": "0a14dca4",
   "metadata": {},
   "outputs": [
    {
     "data": {
      "text/plain": [
       "False"
      ]
     },
     "execution_count": 27,
     "metadata": {},
     "output_type": "execute_result"
    }
   ],
   "source": [
    "string = 'RohitSharma45'\n",
    "string.isalpha()"
   ]
  },
  {
   "cell_type": "code",
   "execution_count": 28,
   "id": "0b3df834",
   "metadata": {},
   "outputs": [
    {
     "data": {
      "text/plain": [
       "True"
      ]
     },
     "execution_count": 28,
     "metadata": {},
     "output_type": "execute_result"
    }
   ],
   "source": [
    "string = 'RohitSharma45'\n",
    "string.replace('45','fortyfive').isalpha()"
   ]
  },
  {
   "cell_type": "markdown",
   "id": "ae45bcc3",
   "metadata": {},
   "source": [
    "# chr()"
   ]
  },
  {
   "cell_type": "raw",
   "id": "727d87e7",
   "metadata": {},
   "source": [
    "It transforms the ASCII number into equivalent english character\n",
    "\n",
    "range of (A-Z) is 65-90\n",
    "range of (a-z) is 97-122\n",
    "\n",
    "\n",
    "Syntax:\n",
    "\n",
    "chr(ASCII value)"
   ]
  },
  {
   "cell_type": "raw",
   "id": "01eefe59",
   "metadata": {},
   "source": [
    "-inf +inf alphabets special characters\n",
    "\n",
    "-inf to 0. A-Z >1-26, a-z > 27-52, specialcharcters> 52-100, numbers > 1 101"
   ]
  },
  {
   "cell_type": "code",
   "execution_count": 29,
   "id": "53edc82e",
   "metadata": {},
   "outputs": [
    {
     "data": {
      "text/plain": [
       "'A'"
      ]
     },
     "execution_count": 29,
     "metadata": {},
     "output_type": "execute_result"
    }
   ],
   "source": [
    "chr(65)"
   ]
  },
  {
   "cell_type": "code",
   "execution_count": 30,
   "id": "3319c6ee",
   "metadata": {},
   "outputs": [
    {
     "name": "stdout",
     "output_type": "stream",
     "text": [
      "A\n",
      "B\n",
      "C\n",
      "D\n",
      "E\n",
      "F\n",
      "G\n",
      "H\n",
      "I\n",
      "J\n",
      "K\n",
      "L\n",
      "M\n",
      "N\n",
      "O\n",
      "P\n",
      "Q\n",
      "R\n",
      "S\n",
      "T\n",
      "U\n",
      "V\n",
      "W\n",
      "X\n",
      "Y\n",
      "Z\n"
     ]
    }
   ],
   "source": [
    "for i in range(65,91):\n",
    "    print(chr(i))"
   ]
  },
  {
   "cell_type": "code",
   "execution_count": 31,
   "id": "e022acde",
   "metadata": {},
   "outputs": [
    {
     "name": "stdout",
     "output_type": "stream",
     "text": [
      "a\n",
      "b\n",
      "c\n",
      "d\n",
      "e\n",
      "f\n",
      "g\n",
      "h\n",
      "i\n",
      "j\n",
      "k\n",
      "l\n",
      "m\n",
      "n\n",
      "o\n",
      "p\n",
      "q\n",
      "r\n",
      "s\n",
      "t\n",
      "u\n",
      "v\n",
      "w\n",
      "x\n",
      "y\n",
      "z\n"
     ]
    }
   ],
   "source": [
    "for i in range(97,123):\n",
    "    print(chr(i))"
   ]
  },
  {
   "cell_type": "code",
   "execution_count": 32,
   "id": "6c81188f",
   "metadata": {},
   "outputs": [
    {
     "data": {
      "text/plain": [
       "'!'"
      ]
     },
     "execution_count": 32,
     "metadata": {},
     "output_type": "execute_result"
    }
   ],
   "source": [
    "chr(33)"
   ]
  },
  {
   "cell_type": "code",
   "execution_count": 33,
   "id": "fbb155d4",
   "metadata": {},
   "outputs": [
    {
     "data": {
      "text/plain": [
       "'('"
      ]
     },
     "execution_count": 33,
     "metadata": {},
     "output_type": "execute_result"
    }
   ],
   "source": [
    "chr(40)"
   ]
  },
  {
   "cell_type": "code",
   "execution_count": 34,
   "id": "579dcd69",
   "metadata": {},
   "outputs": [
    {
     "name": "stdout",
     "output_type": "stream",
     "text": [
      "!\n",
      "\"\n",
      "#\n",
      "$\n",
      "%\n",
      "&\n",
      "'\n",
      "(\n"
     ]
    }
   ],
   "source": [
    "for i in range(33,41):\n",
    "    print(chr(i))"
   ]
  },
  {
   "cell_type": "code",
   "execution_count": 35,
   "id": "c818103d",
   "metadata": {},
   "outputs": [
    {
     "data": {
      "text/plain": [
       "'0'"
      ]
     },
     "execution_count": 35,
     "metadata": {},
     "output_type": "execute_result"
    }
   ],
   "source": [
    "chr(48)"
   ]
  },
  {
   "cell_type": "code",
   "execution_count": 36,
   "id": "2202d9a1",
   "metadata": {},
   "outputs": [
    {
     "data": {
      "text/plain": [
       "'9'"
      ]
     },
     "execution_count": 36,
     "metadata": {},
     "output_type": "execute_result"
    }
   ],
   "source": [
    "chr(57)"
   ]
  },
  {
   "cell_type": "code",
   "execution_count": 37,
   "id": "6ee01a7d",
   "metadata": {},
   "outputs": [
    {
     "name": "stdout",
     "output_type": "stream",
     "text": [
      "0\n",
      "1\n",
      "2\n",
      "3\n",
      "4\n",
      "5\n",
      "6\n",
      "7\n",
      "8\n",
      "9\n"
     ]
    }
   ],
   "source": [
    "for i in range(48,58):\n",
    "    print(chr(i))"
   ]
  },
  {
   "cell_type": "markdown",
   "id": "c07472c2",
   "metadata": {},
   "source": [
    "# ord()"
   ]
  },
  {
   "cell_type": "raw",
   "id": "0a727e53",
   "metadata": {},
   "source": [
    "it takes english character & return the equivalent ASCII number"
   ]
  },
  {
   "cell_type": "code",
   "execution_count": 38,
   "id": "2d5462fd",
   "metadata": {},
   "outputs": [
    {
     "data": {
      "text/plain": [
       "65"
      ]
     },
     "execution_count": 38,
     "metadata": {},
     "output_type": "execute_result"
    }
   ],
   "source": [
    "ord('A')"
   ]
  },
  {
   "cell_type": "code",
   "execution_count": 39,
   "id": "4dd43c3d",
   "metadata": {
    "collapsed": true
   },
   "outputs": [
    {
     "ename": "TypeError",
     "evalue": "ord() expected a character, but string of length 3 found",
     "output_type": "error",
     "traceback": [
      "\u001b[1;31m---------------------------------------------------------------------------\u001b[0m",
      "\u001b[1;31mTypeError\u001b[0m                                 Traceback (most recent call last)",
      "\u001b[1;32m<ipython-input-39-399e9d346dcd>\u001b[0m in \u001b[0;36m<module>\u001b[1;34m\u001b[0m\n\u001b[1;32m----> 1\u001b[1;33m \u001b[0mord\u001b[0m\u001b[1;33m(\u001b[0m\u001b[1;34m'122'\u001b[0m\u001b[1;33m)\u001b[0m\u001b[1;33m\u001b[0m\u001b[1;33m\u001b[0m\u001b[0m\n\u001b[0m",
      "\u001b[1;31mTypeError\u001b[0m: ord() expected a character, but string of length 3 found"
     ]
    }
   ],
   "source": [
    "ord('122')"
   ]
  },
  {
   "cell_type": "code",
   "execution_count": 40,
   "id": "38aaae52",
   "metadata": {},
   "outputs": [
    {
     "data": {
      "text/plain": [
       "121"
      ]
     },
     "execution_count": 40,
     "metadata": {},
     "output_type": "execute_result"
    }
   ],
   "source": [
    "ord('y')"
   ]
  },
  {
   "cell_type": "code",
   "execution_count": 41,
   "id": "5e1ea3ed",
   "metadata": {},
   "outputs": [
    {
     "data": {
      "text/plain": [
       "63"
      ]
     },
     "execution_count": 41,
     "metadata": {},
     "output_type": "execute_result"
    }
   ],
   "source": [
    "ord('?')"
   ]
  },
  {
   "cell_type": "markdown",
   "id": "d3229efd",
   "metadata": {},
   "source": [
    "# islower()"
   ]
  },
  {
   "cell_type": "raw",
   "id": "48f7e617",
   "metadata": {},
   "source": [
    "checks if the entire string is in lowercase or not.\n",
    "if its in lowercaseercase then it returns True else will return False"
   ]
  },
  {
   "cell_type": "code",
   "execution_count": 42,
   "id": "5d441fe6",
   "metadata": {},
   "outputs": [
    {
     "data": {
      "text/plain": [
       "True"
      ]
     },
     "execution_count": 42,
     "metadata": {},
     "output_type": "execute_result"
    }
   ],
   "source": [
    "string = 'python'\n",
    "string.islower()"
   ]
  },
  {
   "cell_type": "code",
   "execution_count": 43,
   "id": "f2685055",
   "metadata": {},
   "outputs": [
    {
     "data": {
      "text/plain": [
       "True"
      ]
     },
     "execution_count": 43,
     "metadata": {},
     "output_type": "execute_result"
    }
   ],
   "source": [
    "string = ' python'\n",
    "string.islower()"
   ]
  },
  {
   "cell_type": "code",
   "execution_count": 44,
   "id": "bbc5f137",
   "metadata": {},
   "outputs": [
    {
     "data": {
      "text/plain": [
       "True"
      ]
     },
     "execution_count": 44,
     "metadata": {},
     "output_type": "execute_result"
    }
   ],
   "source": [
    "string = '3.9 python'\n",
    "string.islower()"
   ]
  },
  {
   "cell_type": "code",
   "execution_count": 45,
   "id": "83c152a7",
   "metadata": {},
   "outputs": [
    {
     "data": {
      "text/plain": [
       "False"
      ]
     },
     "execution_count": 45,
     "metadata": {},
     "output_type": "execute_result"
    }
   ],
   "source": [
    "string = 'Python'\n",
    "string.islower()"
   ]
  },
  {
   "cell_type": "code",
   "execution_count": 46,
   "id": "e0905aa0",
   "metadata": {},
   "outputs": [
    {
     "data": {
      "text/plain": [
       "False"
      ]
     },
     "execution_count": 46,
     "metadata": {},
     "output_type": "execute_result"
    }
   ],
   "source": [
    "string = 'python Language'\n",
    "string.islower()"
   ]
  },
  {
   "cell_type": "markdown",
   "id": "3b85c4c7",
   "metadata": {},
   "source": [
    "# isupper()"
   ]
  },
  {
   "cell_type": "raw",
   "id": "f74a14d6",
   "metadata": {},
   "source": [
    "it checks if the entire string is in uppercase\n",
    "is yes then it return True else returns False"
   ]
  },
  {
   "cell_type": "code",
   "execution_count": 48,
   "id": "37d1b72c",
   "metadata": {},
   "outputs": [
    {
     "data": {
      "text/plain": [
       "True"
      ]
     },
     "execution_count": 48,
     "metadata": {},
     "output_type": "execute_result"
    }
   ],
   "source": [
    "string = 'PYTHON'\n",
    "string.isupper()"
   ]
  },
  {
   "cell_type": "code",
   "execution_count": 49,
   "id": "dd8f7de2",
   "metadata": {},
   "outputs": [
    {
     "data": {
      "text/plain": [
       "True"
      ]
     },
     "execution_count": 49,
     "metadata": {},
     "output_type": "execute_result"
    }
   ],
   "source": [
    "string = 'PYTHON 3.9'\n",
    "string.isupper()"
   ]
  },
  {
   "cell_type": "code",
   "execution_count": 50,
   "id": "8904fe3e",
   "metadata": {},
   "outputs": [
    {
     "data": {
      "text/plain": [
       "False"
      ]
     },
     "execution_count": 50,
     "metadata": {},
     "output_type": "execute_result"
    }
   ],
   "source": [
    "string = 'Python 3.9'\n",
    "string.isupper()"
   ]
  },
  {
   "cell_type": "markdown",
   "id": "e68fb876",
   "metadata": {},
   "source": [
    "# istitle()"
   ]
  },
  {
   "cell_type": "code",
   "execution_count": 51,
   "id": "786bfec2",
   "metadata": {},
   "outputs": [
    {
     "data": {
      "text/plain": [
       "True"
      ]
     },
     "execution_count": 51,
     "metadata": {},
     "output_type": "execute_result"
    }
   ],
   "source": [
    "string = 'Python'\n",
    "string.istitle()"
   ]
  },
  {
   "cell_type": "code",
   "execution_count": 52,
   "id": "b2efaef5",
   "metadata": {},
   "outputs": [
    {
     "data": {
      "text/plain": [
       "False"
      ]
     },
     "execution_count": 52,
     "metadata": {},
     "output_type": "execute_result"
    }
   ],
   "source": [
    "string = 'Python language'\n",
    "string.istitle()"
   ]
  },
  {
   "cell_type": "code",
   "execution_count": 53,
   "id": "ed59beed",
   "metadata": {},
   "outputs": [
    {
     "data": {
      "text/plain": [
       "True"
      ]
     },
     "execution_count": 53,
     "metadata": {},
     "output_type": "execute_result"
    }
   ],
   "source": [
    "string = 'Python Language'\n",
    "string.istitle()"
   ]
  },
  {
   "cell_type": "code",
   "execution_count": 55,
   "id": "59686259",
   "metadata": {},
   "outputs": [
    {
     "data": {
      "text/plain": [
       "True"
      ]
     },
     "execution_count": 55,
     "metadata": {},
     "output_type": "execute_result"
    }
   ],
   "source": [
    "string = ' Python Language 3.9'\n",
    "string.istitle()"
   ]
  },
  {
   "cell_type": "markdown",
   "id": "6caf2fd4",
   "metadata": {},
   "source": [
    "# isspace()"
   ]
  },
  {
   "cell_type": "raw",
   "id": "87763ca9",
   "metadata": {},
   "source": [
    "checks if the entire string only has spaces\n",
    "for anything apart from spaces it returns False"
   ]
  },
  {
   "cell_type": "code",
   "execution_count": 56,
   "id": "358025f9",
   "metadata": {},
   "outputs": [
    {
     "data": {
      "text/plain": [
       "False"
      ]
     },
     "execution_count": 56,
     "metadata": {},
     "output_type": "execute_result"
    }
   ],
   "source": [
    "string = 'Python '\n",
    "string.isspace()"
   ]
  },
  {
   "cell_type": "code",
   "execution_count": 60,
   "id": "22cbafa6",
   "metadata": {},
   "outputs": [
    {
     "data": {
      "text/plain": [
       "True"
      ]
     },
     "execution_count": 60,
     "metadata": {},
     "output_type": "execute_result"
    }
   ],
   "source": [
    "string = '     .      '\n",
    "string.isspace()"
   ]
  },
  {
   "cell_type": "code",
   "execution_count": 58,
   "id": "fac660a8",
   "metadata": {},
   "outputs": [
    {
     "data": {
      "text/plain": [
       "True"
      ]
     },
     "execution_count": 58,
     "metadata": {},
     "output_type": "execute_result"
    }
   ],
   "source": [
    "string = '          '\n",
    "string.isspace()"
   ]
  },
  {
   "cell_type": "code",
   "execution_count": 59,
   "id": "8bbebd3b",
   "metadata": {},
   "outputs": [
    {
     "data": {
      "text/plain": [
       "False"
      ]
     },
     "execution_count": 59,
     "metadata": {},
     "output_type": "execute_result"
    }
   ],
   "source": [
    "string = ''\n",
    "string.isspace()"
   ]
  },
  {
   "cell_type": "code",
   "execution_count": 61,
   "id": "7a316511",
   "metadata": {},
   "outputs": [
    {
     "data": {
      "text/plain": [
       "True"
      ]
     },
     "execution_count": 61,
     "metadata": {},
     "output_type": "execute_result"
    }
   ],
   "source": [
    "string = '     \\n     '\n",
    "string.isspace()"
   ]
  },
  {
   "cell_type": "code",
   "execution_count": 62,
   "id": "e1b12c45",
   "metadata": {},
   "outputs": [
    {
     "data": {
      "text/plain": [
       "True"
      ]
     },
     "execution_count": 62,
     "metadata": {},
     "output_type": "execute_result"
    }
   ],
   "source": [
    "string = '     \\t     '\n",
    "string.isspace()"
   ]
  },
  {
   "cell_type": "code",
   "execution_count": 63,
   "id": "d43e6418",
   "metadata": {},
   "outputs": [
    {
     "data": {
      "text/plain": [
       "True"
      ]
     },
     "execution_count": 63,
     "metadata": {},
     "output_type": "execute_result"
    }
   ],
   "source": [
    "string = '          '\n",
    "string.isspace()"
   ]
  },
  {
   "cell_type": "code",
   "execution_count": 68,
   "id": "ea8ba074",
   "metadata": {},
   "outputs": [],
   "source": [
    "data = \"\"\"Python language.\n",
    "          \n",
    "Is is one of the primary language.\n",
    "Important to learn.\n",
    "                \n",
    "Latest Version is 3.10\"\"\""
   ]
  },
  {
   "cell_type": "code",
   "execution_count": 69,
   "id": "d6e4e235",
   "metadata": {
    "scrolled": true
   },
   "outputs": [
    {
     "name": "stdout",
     "output_type": "stream",
     "text": [
      "Python language.\n",
      "          \n",
      "Is is one of the primary language.\n",
      "Important to learn.\n",
      "                \n",
      "Latest Version is 3.10\n"
     ]
    }
   ],
   "source": [
    "print(data)"
   ]
  },
  {
   "cell_type": "code",
   "execution_count": 75,
   "id": "55ed23a1",
   "metadata": {},
   "outputs": [
    {
     "name": "stdout",
     "output_type": "stream",
     "text": [
      "['Python language.', '          ', 'Is is one of the primary language.', 'Important to learn.', '                ', 'Latest Version is 3.10']\n",
      "\n",
      "Python language.\n",
      "Is is one of the primary language.\n",
      "Important to learn.\n",
      "Latest Version is 3.10\n"
     ]
    }
   ],
   "source": [
    "processed_data = data.split('\\n')\n",
    "print(processed_data)\n",
    "\n",
    "print()\n",
    "for line in processed_data:\n",
    "    if line.isspace():\n",
    "        pass\n",
    "    else:\n",
    "        print(line)"
   ]
  },
  {
   "cell_type": "code",
   "execution_count": 78,
   "id": "d36d2612",
   "metadata": {},
   "outputs": [
    {
     "name": "stdout",
     "output_type": "stream",
     "text": [
      "wrong mail id\n"
     ]
    }
   ],
   "source": [
    "mail_id = 'pratik.kanpurwar @gmail.com'\n",
    "if mail_id.split():\n",
    "    print('wrong mail id')\n"
   ]
  },
  {
   "cell_type": "code",
   "execution_count": 81,
   "id": "b43062d6",
   "metadata": {},
   "outputs": [
    {
     "name": "stdout",
     "output_type": "stream",
     "text": [
      "p\n",
      "r\n",
      "a\n",
      "t\n",
      "i\n",
      "k\n",
      ".\n",
      "k\n",
      "a\n",
      "n\n",
      "p\n",
      "u\n",
      "r\n",
      "w\n",
      "a\n",
      "r\n",
      " \n",
      "wrong mail\n"
     ]
    }
   ],
   "source": [
    "for i in mail_id:\n",
    "    print(i)\n",
    "    if i.isspace():\n",
    "        print('wrong mail')\n",
    "        break"
   ]
  },
  {
   "cell_type": "markdown",
   "id": "5d061142",
   "metadata": {},
   "source": [
    "# isdecimal()"
   ]
  },
  {
   "cell_type": "raw",
   "id": "8705f0b8",
   "metadata": {},
   "source": [
    "allows only numbers & few unicode characters\n",
    "does not allow alphabets & special characters\n",
    "it supperts the unicode characters from 0-9 represented as u30-u39"
   ]
  },
  {
   "cell_type": "code",
   "execution_count": 82,
   "id": "05d3c33f",
   "metadata": {},
   "outputs": [
    {
     "data": {
      "text/plain": [
       "False"
      ]
     },
     "execution_count": 82,
     "metadata": {},
     "output_type": "execute_result"
    }
   ],
   "source": [
    "string ='python'\n",
    "string.isdecimal()"
   ]
  },
  {
   "cell_type": "code",
   "execution_count": 83,
   "id": "70488d04",
   "metadata": {},
   "outputs": [
    {
     "data": {
      "text/plain": [
       "False"
      ]
     },
     "execution_count": 83,
     "metadata": {},
     "output_type": "execute_result"
    }
   ],
   "source": [
    "string ='python 3.9'\n",
    "string.isdecimal()"
   ]
  },
  {
   "cell_type": "code",
   "execution_count": 84,
   "id": "d2192b58",
   "metadata": {},
   "outputs": [
    {
     "data": {
      "text/plain": [
       "False"
      ]
     },
     "execution_count": 84,
     "metadata": {},
     "output_type": "execute_result"
    }
   ],
   "source": [
    "string ='3.9'\n",
    "string.isdecimal()"
   ]
  },
  {
   "cell_type": "code",
   "execution_count": 85,
   "id": "7cde0334",
   "metadata": {},
   "outputs": [
    {
     "data": {
      "text/plain": [
       "True"
      ]
     },
     "execution_count": 85,
     "metadata": {},
     "output_type": "execute_result"
    }
   ],
   "source": [
    "string ='399999'\n",
    "string.isdecimal()"
   ]
  },
  {
   "cell_type": "code",
   "execution_count": 86,
   "id": "6297bb94",
   "metadata": {},
   "outputs": [
    {
     "data": {
      "text/plain": [
       "True"
      ]
     },
     "execution_count": 86,
     "metadata": {},
     "output_type": "execute_result"
    }
   ],
   "source": [
    "'238756'.isdecimal()"
   ]
  },
  {
   "cell_type": "code",
   "execution_count": 87,
   "id": "379e5ea1",
   "metadata": {},
   "outputs": [
    {
     "data": {
      "text/plain": [
       "False"
      ]
     },
     "execution_count": 87,
     "metadata": {},
     "output_type": "execute_result"
    }
   ],
   "source": [
    "string ='3999 9984 2657'\n",
    "string.isdecimal()"
   ]
  },
  {
   "cell_type": "code",
   "execution_count": 102,
   "id": "2ad7017d",
   "metadata": {},
   "outputs": [
    {
     "name": "stdout",
     "output_type": "stream",
     "text": [
      "💯\n"
     ]
    }
   ],
   "source": [
    "print('\\U0001f4af')"
   ]
  },
  {
   "cell_type": "code",
   "execution_count": 95,
   "id": "b03a0de7",
   "metadata": {},
   "outputs": [
    {
     "name": "stdout",
     "output_type": "stream",
     "text": [
      "x²\n"
     ]
    }
   ],
   "source": [
    "num = '\\u00B2'\n",
    "num.encode()\n",
    "print('x',num,sep='')"
   ]
  },
  {
   "cell_type": "code",
   "execution_count": 96,
   "id": "3d55ab5d",
   "metadata": {},
   "outputs": [
    {
     "data": {
      "text/plain": [
       "True"
      ]
     },
     "execution_count": 96,
     "metadata": {},
     "output_type": "execute_result"
    }
   ],
   "source": [
    "num = '\\u0039'      # this unicode represent 9 number\n",
    "num.isdecimal()"
   ]
  },
  {
   "cell_type": "code",
   "execution_count": 97,
   "id": "f38cb53f",
   "metadata": {},
   "outputs": [
    {
     "name": "stdout",
     "output_type": "stream",
     "text": [
      "9\n"
     ]
    }
   ],
   "source": [
    "print(num)"
   ]
  },
  {
   "cell_type": "code",
   "execution_count": 99,
   "id": "906334ca",
   "metadata": {},
   "outputs": [
    {
     "name": "stdout",
     "output_type": "stream",
     "text": [
      "0\n"
     ]
    },
    {
     "data": {
      "text/plain": [
       "True"
      ]
     },
     "execution_count": 99,
     "metadata": {},
     "output_type": "execute_result"
    }
   ],
   "source": [
    "num = '\\u0030'      # this unicode represent 0 number\n",
    "print(num)\n",
    "num.isdecimal()"
   ]
  },
  {
   "cell_type": "code",
   "execution_count": 100,
   "id": "83af2927",
   "metadata": {},
   "outputs": [
    {
     "name": "stdout",
     "output_type": "stream",
     "text": [
      "6\n"
     ]
    },
    {
     "data": {
      "text/plain": [
       "True"
      ]
     },
     "execution_count": 100,
     "metadata": {},
     "output_type": "execute_result"
    }
   ],
   "source": [
    "num = '\\u0036'      # this unicode represent 0 number\n",
    "print(num)\n",
    "num.isdecimal()"
   ]
  },
  {
   "cell_type": "code",
   "execution_count": 108,
   "id": "fa745c3c",
   "metadata": {},
   "outputs": [
    {
     "name": "stdout",
     "output_type": "stream",
     "text": [
      "False\n",
      "b'\\xd5\\x90'\n",
      "Ր\n"
     ]
    }
   ],
   "source": [
    "code = '\\u0550'\n",
    "print(code.isdecimal())\n",
    "print(code.encode())\n",
    "type(code.encode())\n",
    "print(code)"
   ]
  },
  {
   "cell_type": "code",
   "execution_count": 103,
   "id": "77fae86f",
   "metadata": {},
   "outputs": [
    {
     "data": {
      "image/png": "[encoded data removed]",
      "text/plain": [
       "<IPython.core.display.Image object>"
      ]
     },
     "execution_count": 103,
     "metadata": {},
     "output_type": "execute_result"
    }
   ],
   "source": [
    "from IPython.display import Image\n",
    "\n",
    "Image('unicode 0-9.png')"
   ]
  },
  {
   "cell_type": "code",
   "execution_count": null,
   "id": "29a79bc1",
   "metadata": {},
   "outputs": [],
   "source": []
  }
 ],
 "metadata": {
  "kernelspec": {
   "display_name": "Python 3",
   "language": "python",
   "name": "python3"
  },
  "language_info": {
   "codemirror_mode": {
    "name": "ipython",
    "version": 3
   },
   "file_extension": ".py",
   "mimetype": "text/x-python",
   "name": "python",
   "nbconvert_exporter": "python",
   "pygments_lexer": "ipython3",
   "version": "3.8.8"
  },
  "toc": {
   "base_numbering": 1,
   "nav_menu": {},
   "number_sections": true,
   "sideBar": true,
   "skip_h1_title": false,
   "title_cell": "Table of Contents",
   "title_sidebar": "Contents",
   "toc_cell": false,
   "toc_position": {},
   "toc_section_display": true,
   "toc_window_display": false
  },
  "varInspector": {
   "cols": {
    "lenName": 16,
    "lenType": 16,
    "lenVar": 40
   },
   "kernels_config": {
    "python": {
     "delete_cmd_postfix": "",
     "delete_cmd_prefix": "del ",
     "library": "var_list.py",
     "varRefreshCmd": "print(var_dic_list())"
    },
    "r": {
     "delete_cmd_postfix": ") ",
     "delete_cmd_prefix": "rm(",
     "library": "var_list.r",
     "varRefreshCmd": "cat(var_dic_list()) "
    }
   },
   "types_to_exclude": [
    "module",
    "function",
    "builtin_function_or_method",
    "instance",
    "_Feature"
   ],
   "window_display": false
  }
 },
 "nbformat": 4,
 "nbformat_minor": 5
}

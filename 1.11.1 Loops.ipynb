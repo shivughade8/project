{
 "cells": [
  {
   "cell_type": "raw",
   "id": "6abded55",
   "metadata": {},
   "source": [
    "Loops:\n",
    "    for loop\n",
    "    while loop\n",
    "    \n",
    "same functionility with differnet syntax\n",
    "Function: is used to iterate over any iterator or sequence\n",
    "They basically execute the set of statements multiple times"
   ]
  },
  {
   "cell_type": "markdown",
   "id": "9cd392de",
   "metadata": {},
   "source": [
    "# For Loop"
   ]
  },
  {
   "cell_type": "raw",
   "id": "e2c3050a",
   "metadata": {},
   "source": [
    "It works on any iterator\n",
    "\n",
    "Iterator >> string, list, tuple, set, dict, range, series, dataframe\n",
    "\n",
    "Syntax:\n",
    "    \n",
    "for variable_name in iterator:\n",
    "    print(variable_name)\n",
    "    statement1\n",
    "    statement2\n",
    "    code1\n",
    "    code2\n",
    "    \n",
    "    "
   ]
  },
  {
   "cell_type": "code",
   "execution_count": 1,
   "id": "d1848be6",
   "metadata": {},
   "outputs": [
    {
     "name": "stdout",
     "output_type": "stream",
     "text": [
      "We love Python\n",
      "We love Python\n",
      "We love Python\n",
      "We love Python\n",
      "We love Python\n"
     ]
    }
   ],
   "source": [
    "string = 'We love Python'\n",
    "\n",
    "for i in range(5):\n",
    "    print(string)"
   ]
  },
  {
   "cell_type": "code",
   "execution_count": 2,
   "id": "5680b9db",
   "metadata": {},
   "outputs": [
    {
     "name": "stdout",
     "output_type": "stream",
     "text": [
      "0\n",
      "1\n",
      "2\n",
      "3\n",
      "4\n"
     ]
    }
   ],
   "source": [
    "for i in range(5):\n",
    "    print(i)"
   ]
  },
  {
   "cell_type": "code",
   "execution_count": 3,
   "id": "72f9da4b",
   "metadata": {},
   "outputs": [
    {
     "name": "stdout",
     "output_type": "stream",
     "text": [
      "1\n",
      "9\n",
      "4\n",
      "25\n",
      "49\n"
     ]
    }
   ],
   "source": [
    "l1 = [1,3,2,5,7]          # for loop on list\n",
    "\n",
    "for i in l1:\n",
    "    print(i**2)"
   ]
  },
  {
   "cell_type": "code",
   "execution_count": 4,
   "id": "37c47614",
   "metadata": {},
   "outputs": [
    {
     "name": "stdout",
     "output_type": "stream",
     "text": [
      "1\n",
      "9\n",
      "4\n",
      "25\n",
      "49\n"
     ]
    }
   ],
   "source": [
    "l1 = (1,3,2,5,7)       # for loop on tuple\n",
    " \n",
    "for i in l1:\n",
    "    print(i**2)"
   ]
  },
  {
   "cell_type": "code",
   "execution_count": 5,
   "id": "61b113d3",
   "metadata": {},
   "outputs": [
    {
     "name": "stdout",
     "output_type": "stream",
     "text": [
      "1\n",
      "4\n",
      "9\n",
      "25\n",
      "49\n"
     ]
    }
   ],
   "source": [
    "l1 = {1,3,2,5,7}       # for loop on set\n",
    "\n",
    "for i in l1:\n",
    "    print(i**2)"
   ]
  },
  {
   "cell_type": "code",
   "execution_count": 7,
   "id": "2e0b55b9",
   "metadata": {},
   "outputs": [
    {
     "name": "stdout",
     "output_type": "stream",
     "text": [
      "1\n",
      "3\n",
      "2\n",
      "5\n",
      "7\n"
     ]
    }
   ],
   "source": [
    "d1 = {'a':1,'b':3,'c':2,'d':5,'e':7}       # for loop on dict\n",
    "\n",
    "for i in d1:              # for loop on dict\n",
    "    print(i)              # printing keys of dict"
   ]
  },
  {
   "cell_type": "code",
   "execution_count": 8,
   "id": "b0779b05",
   "metadata": {},
   "outputs": [
    {
     "name": "stdout",
     "output_type": "stream",
     "text": [
      "a\n",
      "b\n",
      "c\n",
      "d\n",
      "e\n"
     ]
    }
   ],
   "source": [
    "d1 = {'a':1,'b':3,'c':2,'d':5,'e':7}       # for loop on dict\n",
    "\n",
    "for i in d1.keys():              # for loop on dict keys\n",
    "    print(i) "
   ]
  },
  {
   "cell_type": "code",
   "execution_count": 9,
   "id": "333595a0",
   "metadata": {},
   "outputs": [
    {
     "name": "stdout",
     "output_type": "stream",
     "text": [
      "1\n",
      "3\n",
      "2\n",
      "5\n",
      "7\n"
     ]
    }
   ],
   "source": [
    "d1 = {'a':1,'b':3,'c':2,'d':5,'e':7}       # for loop on dict\n",
    "\n",
    "for i in d1.values():              # for loop on dict values\n",
    "    print(i) "
   ]
  },
  {
   "cell_type": "code",
   "execution_count": 10,
   "id": "6f5de59b",
   "metadata": {},
   "outputs": [
    {
     "name": "stdout",
     "output_type": "stream",
     "text": [
      "('a', 1)\n",
      "('b', 3)\n",
      "('c', 2)\n",
      "('d', 5)\n",
      "('e', 7)\n"
     ]
    }
   ],
   "source": [
    "d1 = {'a':1,'b':3,'c':2,'d':5,'e':7}       # for loop on dict\n",
    "\n",
    "for i in d1.items():              # for loop on dict items(key value pair)\n",
    "    print(i) "
   ]
  },
  {
   "cell_type": "code",
   "execution_count": 12,
   "id": "fe1b6f44",
   "metadata": {},
   "outputs": [
    {
     "name": "stdout",
     "output_type": "stream",
     "text": [
      "-11,-12,-13,-14,-15,-16,-17,-18,-19,-20,"
     ]
    }
   ],
   "source": [
    "for i in range(-11,-21,-1):\n",
    "    print(i,end=',')"
   ]
  },
  {
   "cell_type": "code",
   "execution_count": 13,
   "id": "3dcb041d",
   "metadata": {},
   "outputs": [
    {
     "name": "stdout",
     "output_type": "stream",
     "text": [
      "-11 -12 -13 -14 -15 -16 -17 -18 -19 -20 "
     ]
    }
   ],
   "source": [
    "for i in range(-11,-21,-1):\n",
    "    print(i,end=' ')"
   ]
  },
  {
   "cell_type": "code",
   "execution_count": 14,
   "id": "0a6e3e95",
   "metadata": {},
   "outputs": [
    {
     "name": "stdout",
     "output_type": "stream",
     "text": [
      "0 1\n",
      "1 2\n",
      "2 3\n",
      "3 5\n",
      "4 7\n"
     ]
    }
   ],
   "source": [
    "l1 = {1,3,2,5,7} \n",
    "for i,j in enumerate(l1):\n",
    "    print(i,j)"
   ]
  },
  {
   "cell_type": "code",
   "execution_count": 16,
   "id": "b2775751",
   "metadata": {},
   "outputs": [
    {
     "name": "stdout",
     "output_type": "stream",
     "text": [
      "0 H\n",
      "1 e\n",
      "2 l\n",
      "3 l\n",
      "4 o\n"
     ]
    }
   ],
   "source": [
    "string = 'Hello'\n",
    "\n",
    "for i in range(len(string)):\n",
    "    print(i,string[i])"
   ]
  },
  {
   "cell_type": "markdown",
   "id": "526699b5",
   "metadata": {},
   "source": [
    "# Nested loops"
   ]
  },
  {
   "cell_type": "raw",
   "id": "63364eb1",
   "metadata": {},
   "source": [
    "for loop within another for loop"
   ]
  },
  {
   "cell_type": "code",
   "execution_count": 17,
   "id": "55401d0b",
   "metadata": {},
   "outputs": [
    {
     "name": "stdout",
     "output_type": "stream",
     "text": [
      "0\n",
      "1\n",
      "2\n",
      "3\n"
     ]
    }
   ],
   "source": [
    "for i in range(4):\n",
    "    print(i)"
   ]
  },
  {
   "cell_type": "code",
   "execution_count": 20,
   "id": "cfd55265",
   "metadata": {},
   "outputs": [
    {
     "name": "stdout",
     "output_type": "stream",
     "text": [
      "0 0\n",
      "0 1\n",
      "0 2\n",
      "\n",
      "1 0\n",
      "1 1\n",
      "1 2\n",
      "\n",
      "2 0\n",
      "2 1\n",
      "2 2\n",
      "\n",
      "3 0\n",
      "3 1\n",
      "3 2\n",
      "\n"
     ]
    }
   ],
   "source": [
    "for i in range(4):         # 0,1,2,3\n",
    "    for j in range(3):     # 0,1,2\n",
    "        print(i,j)\n",
    "    print(end = '\\n')"
   ]
  },
  {
   "cell_type": "code",
   "execution_count": null,
   "id": "a1063820",
   "metadata": {},
   "outputs": [],
   "source": [
    "1 day >> 365*15 days >> 4*365*15\n",
    "4 yug >> 12 hrs >> 100ys>> 1 breath\n",
    "3600 sec >> 60 min >> 1 hr"
   ]
  },
  {
   "cell_type": "code",
   "execution_count": 24,
   "id": "42820523",
   "metadata": {},
   "outputs": [
    {
     "name": "stdout",
     "output_type": "stream",
     "text": [
      "0 0 0\n",
      "0 0 1\n",
      "\n",
      "0 1 0\n",
      "0 1 1\n",
      "\n",
      "0 2 0\n",
      "0 2 1\n",
      "\n",
      "-------------------\n",
      "1 0 0\n",
      "1 0 1\n",
      "\n",
      "1 1 0\n",
      "1 1 1\n",
      "\n",
      "1 2 0\n",
      "1 2 1\n",
      "\n",
      "-------------------\n",
      "2 0 0\n",
      "2 0 1\n",
      "\n",
      "2 1 0\n",
      "2 1 1\n",
      "\n",
      "2 2 0\n",
      "2 2 1\n",
      "\n",
      "-------------------\n",
      "3 0 0\n",
      "3 0 1\n",
      "\n",
      "3 1 0\n",
      "3 1 1\n",
      "\n",
      "3 2 0\n",
      "3 2 1\n",
      "\n",
      "-------------------\n"
     ]
    }
   ],
   "source": [
    "for i in range(4):         # 0,1,2,3\n",
    "    for j in range(3):     # 0,1,2\n",
    "        for k in range(2): # 0,1\n",
    "            print(i,j,k)\n",
    "        print()\n",
    "    print('-------------------')"
   ]
  },
  {
   "cell_type": "markdown",
   "id": "4d99d98b",
   "metadata": {},
   "source": [
    "# Patterns using loops"
   ]
  },
  {
   "cell_type": "code",
   "execution_count": 25,
   "id": "b5a35434",
   "metadata": {
    "scrolled": true
   },
   "outputs": [
    {
     "name": "stdout",
     "output_type": "stream",
     "text": [
      "*\n",
      "*\n",
      "*\n",
      "*\n"
     ]
    }
   ],
   "source": [
    "for i in range(4):\n",
    "    print('*')"
   ]
  },
  {
   "cell_type": "code",
   "execution_count": 28,
   "id": "091860fb",
   "metadata": {},
   "outputs": [
    {
     "name": "stdout",
     "output_type": "stream",
     "text": [
      "* * * * "
     ]
    }
   ],
   "source": [
    "for i in range(4):\n",
    "    print('*',end=' ')"
   ]
  },
  {
   "cell_type": "code",
   "execution_count": 31,
   "id": "0a09be98",
   "metadata": {},
   "outputs": [
    {
     "name": "stdout",
     "output_type": "stream",
     "text": [
      "* * * \n",
      "* * * \n",
      "* * * \n",
      "* * * \n"
     ]
    }
   ],
   "source": [
    "for i in range(4):\n",
    "    for j in range(3):\n",
    "        print('*',end=' ')\n",
    "    print()"
   ]
  },
  {
   "cell_type": "code",
   "execution_count": 32,
   "id": "fd25376e",
   "metadata": {},
   "outputs": [
    {
     "name": "stdout",
     "output_type": "stream",
     "text": [
      "* * * * \n",
      "* * * * \n",
      "* * * * \n",
      "* * * * \n"
     ]
    }
   ],
   "source": [
    "for i in range(4):\n",
    "    for j in range(4):\n",
    "        print('*',end=' ')\n",
    "    print()"
   ]
  },
  {
   "cell_type": "code",
   "execution_count": 33,
   "id": "da07e0df",
   "metadata": {},
   "outputs": [
    {
     "name": "stdout",
     "output_type": "stream",
     "text": [
      "* * \n",
      "* * \n",
      "* * \n",
      "\n",
      "* * \n",
      "* * \n",
      "* * \n",
      "\n",
      "* * \n",
      "* * \n",
      "* * \n",
      "\n",
      "* * \n",
      "* * \n",
      "* * \n",
      "\n"
     ]
    }
   ],
   "source": [
    "for i in range(4):\n",
    "    for j in range(3):\n",
    "        for k in range(2):\n",
    "            print('*',end=' ')\n",
    "        print()\n",
    "    print()\n",
    "    "
   ]
  },
  {
   "cell_type": "code",
   "execution_count": 34,
   "id": "489f7944",
   "metadata": {},
   "outputs": [
    {
     "name": "stdout",
     "output_type": "stream",
     "text": [
      "* * \n",
      "* * \n",
      "\n",
      "* * \n",
      "* * \n",
      "\n",
      "* * \n",
      "* * \n",
      "\n",
      "-------------\n",
      "* * \n",
      "* * \n",
      "\n",
      "* * \n",
      "* * \n",
      "\n",
      "* * \n",
      "* * \n",
      "\n",
      "-------------\n",
      "* * \n",
      "* * \n",
      "\n",
      "* * \n",
      "* * \n",
      "\n",
      "* * \n",
      "* * \n",
      "\n",
      "-------------\n",
      "* * \n",
      "* * \n",
      "\n",
      "* * \n",
      "* * \n",
      "\n",
      "* * \n",
      "* * \n",
      "\n",
      "-------------\n"
     ]
    }
   ],
   "source": [
    "for i in range(4):\n",
    "    for j in range(3):\n",
    "        for k in range(2):         # 2 rows\n",
    "            for l in range(2):     # 2 columns\n",
    "                print('*',end=' ')\n",
    "            print()\n",
    "        print()\n",
    "    print(\"-------------\")\n",
    "    "
   ]
  },
  {
   "cell_type": "code",
   "execution_count": 37,
   "id": "e8beea28",
   "metadata": {},
   "outputs": [
    {
     "name": "stdout",
     "output_type": "stream",
     "text": [
      "0 0 0 0\n",
      "0 0 0 1\n",
      "\n",
      "0 0 1 0\n",
      "0 0 1 1\n",
      "\n",
      "\n",
      "0 1 0 0\n",
      "0 1 0 1\n",
      "\n",
      "0 1 1 0\n",
      "0 1 1 1\n",
      "\n",
      "\n",
      "0 2 0 0\n",
      "0 2 0 1\n",
      "\n",
      "0 2 1 0\n",
      "0 2 1 1\n",
      "\n",
      "\n",
      "-------------\n",
      "1 0 0 0\n",
      "1 0 0 1\n",
      "\n",
      "1 0 1 0\n",
      "1 0 1 1\n",
      "\n",
      "\n",
      "1 1 0 0\n",
      "1 1 0 1\n",
      "\n",
      "1 1 1 0\n",
      "1 1 1 1\n",
      "\n",
      "\n",
      "1 2 0 0\n",
      "1 2 0 1\n",
      "\n",
      "1 2 1 0\n",
      "1 2 1 1\n",
      "\n",
      "\n",
      "-------------\n",
      "2 0 0 0\n",
      "2 0 0 1\n",
      "\n",
      "2 0 1 0\n",
      "2 0 1 1\n",
      "\n",
      "\n",
      "2 1 0 0\n",
      "2 1 0 1\n",
      "\n",
      "2 1 1 0\n",
      "2 1 1 1\n",
      "\n",
      "\n",
      "2 2 0 0\n",
      "2 2 0 1\n",
      "\n",
      "2 2 1 0\n",
      "2 2 1 1\n",
      "\n",
      "\n",
      "-------------\n",
      "3 0 0 0\n",
      "3 0 0 1\n",
      "\n",
      "3 0 1 0\n",
      "3 0 1 1\n",
      "\n",
      "\n",
      "3 1 0 0\n",
      "3 1 0 1\n",
      "\n",
      "3 1 1 0\n",
      "3 1 1 1\n",
      "\n",
      "\n",
      "3 2 0 0\n",
      "3 2 0 1\n",
      "\n",
      "3 2 1 0\n",
      "3 2 1 1\n",
      "\n",
      "\n",
      "-------------\n"
     ]
    }
   ],
   "source": [
    "for i in range(4):\n",
    "    for j in range(3):\n",
    "        for k in range(2):         # 2 rows\n",
    "            for l in range(2):     # 2 columns\n",
    "                print(i,j,k,l)\n",
    "            print()\n",
    "        print()\n",
    "    print(\"-------------\")"
   ]
  },
  {
   "cell_type": "code",
   "execution_count": 47,
   "id": "5c2c8820",
   "metadata": {},
   "outputs": [
    {
     "name": "stdout",
     "output_type": "stream",
     "text": [
      "* * % % % \n",
      "* * % % % \n",
      "* * % % % \n",
      "* * % % % \n"
     ]
    }
   ],
   "source": [
    "for i in range(4):\n",
    "    for j in range(2):\n",
    "        print('*',end=' ') \n",
    "    \n",
    "    for k in range(3):\n",
    "        print('%',end=' ') \n",
    "    print()\n",
    "        \n",
    "        "
   ]
  },
  {
   "cell_type": "code",
   "execution_count": 42,
   "id": "868a218a",
   "metadata": {},
   "outputs": [
    {
     "name": "stdout",
     "output_type": "stream",
     "text": [
      "* * \n",
      "* * \n",
      "* * \n",
      "* * \n",
      "* * * \n",
      "* * * \n"
     ]
    }
   ],
   "source": [
    "for i in range(4):\n",
    "    for j in range(2):\n",
    "        print('*',end=' ') \n",
    "    print()    \n",
    "print()    \n",
    "for m in range(2):\n",
    "    for k in range(3):\n",
    "        print('*',end=' ') \n",
    "    print()\n",
    "        \n",
    "        "
   ]
  },
  {
   "cell_type": "code",
   "execution_count": null,
   "id": "25301ff0",
   "metadata": {},
   "outputs": [],
   "source": [
    "*  \n",
    "* * \n",
    "* * * "
   ]
  },
  {
   "cell_type": "code",
   "execution_count": 53,
   "id": "62630c27",
   "metadata": {},
   "outputs": [
    {
     "name": "stdout",
     "output_type": "stream",
     "text": [
      "* \n",
      "* * \n",
      "* * * "
     ]
    }
   ],
   "source": [
    "for i in range(1):\n",
    "    for j in range(1):\n",
    "        print('*',end=' ')\n",
    "    print()\n",
    "    for j in range(2):\n",
    "        print('*',end=' ')\n",
    "    print()\n",
    "    for j in range(3):\n",
    "        print('*',end=' ')\n"
   ]
  },
  {
   "cell_type": "code",
   "execution_count": 56,
   "id": "0d3bd2e2",
   "metadata": {},
   "outputs": [
    {
     "name": "stdout",
     "output_type": "stream",
     "text": [
      "* \n",
      "* * \n",
      "* * * \n"
     ]
    }
   ],
   "source": [
    "for i in range(3):            # 0,1,2\n",
    "    for j in range(i+1):      # 1,2,3\n",
    "        print('*',end=' ')\n",
    "    print()"
   ]
  },
  {
   "cell_type": "code",
   "execution_count": 57,
   "id": "7dc73543",
   "metadata": {},
   "outputs": [
    {
     "name": "stdout",
     "output_type": "stream",
     "text": [
      "* \n",
      "* * \n",
      "* * * \n"
     ]
    }
   ],
   "source": [
    "for i in range(1,4):            # 1,2,3\n",
    "    for j in range(i):          # 1,2,3\n",
    "        print('*',end=' ')\n",
    "    print()"
   ]
  },
  {
   "cell_type": "code",
   "execution_count": 58,
   "id": "8b846352",
   "metadata": {},
   "outputs": [
    {
     "name": "stdout",
     "output_type": "stream",
     "text": [
      "* \n",
      "* * \n",
      "* * * \n"
     ]
    }
   ],
   "source": [
    "for i in range(3):             # 0,1,2\n",
    "    print('* '*(i+1))"
   ]
  },
  {
   "cell_type": "code",
   "execution_count": 4,
   "id": "4c7cca07",
   "metadata": {},
   "outputs": [
    {
     "name": "stdout",
     "output_type": "stream",
     "text": [
      "\n",
      " * \n",
      " *  * \n",
      " *  *  * \n",
      " *  *  *  * \n",
      " *  *  *  *  * \n"
     ]
    }
   ],
   "source": [
    "i=0\n",
    "while i<=5:\n",
    "    print(i*\" * \")\n",
    "    i+=1"
   ]
  },
  {
   "cell_type": "code",
   "execution_count": 6,
   "id": "ff911efe",
   "metadata": {},
   "outputs": [
    {
     "name": "stdout",
     "output_type": "stream",
     "text": [
      "*****\n",
      "****\n",
      "***\n",
      "**\n",
      "*\n",
      "\n"
     ]
    }
   ],
   "source": [
    "i=5\n",
    "while i>=0:\n",
    "    print(i*\"*\")\n",
    "    i-=1"
   ]
  },
  {
   "cell_type": "code",
   "execution_count": 59,
   "id": "7ad128c4",
   "metadata": {},
   "outputs": [
    {
     "data": {
      "text/plain": [
       "'HelloHello'"
      ]
     },
     "execution_count": 59,
     "metadata": {},
     "output_type": "execute_result"
    }
   ],
   "source": [
    "'Hello'*2"
   ]
  },
  {
   "cell_type": "code",
   "execution_count": 60,
   "id": "e2aa6f5e",
   "metadata": {},
   "outputs": [
    {
     "name": "stdout",
     "output_type": "stream",
     "text": [
      "* \n",
      "* * \n",
      "* * * \n"
     ]
    }
   ],
   "source": [
    "for i in range(1,4):             # 0,1,2\n",
    "    print('* '*(i))"
   ]
  },
  {
   "cell_type": "code",
   "execution_count": 61,
   "id": "3ce282ea",
   "metadata": {
    "collapsed": true
   },
   "outputs": [
    {
     "ename": "SyntaxError",
     "evalue": "invalid syntax (<ipython-input-61-80caa23a4c31>, line 1)",
     "output_type": "error",
     "traceback": [
      "\u001b[1;36m  File \u001b[1;32m\"<ipython-input-61-80caa23a4c31>\"\u001b[1;36m, line \u001b[1;32m1\u001b[0m\n\u001b[1;33m    *\u001b[0m\n\u001b[1;37m     ^\u001b[0m\n\u001b[1;31mSyntaxError\u001b[0m\u001b[1;31m:\u001b[0m invalid syntax\n"
     ]
    }
   ],
   "source": [
    "    *\n",
    "  * *\n",
    "* * *"
   ]
  },
  {
   "cell_type": "code",
   "execution_count": 69,
   "id": "fe433d28",
   "metadata": {},
   "outputs": [
    {
     "name": "stdout",
     "output_type": "stream",
     "text": [
      "    * \n",
      "  * * \n",
      "* * * \n"
     ]
    }
   ],
   "source": [
    "for i in range(1,4):            # 1,2,3\n",
    "    for m in range(3-i):\n",
    "        print(' ',end=' ')\n",
    "        \n",
    "    for j in range(i):          # 1,2,3\n",
    "        print('*',end=' ')\n",
    "    print()"
   ]
  },
  {
   "cell_type": "code",
   "execution_count": 70,
   "id": "8d099b77",
   "metadata": {},
   "outputs": [
    {
     "name": "stdout",
     "output_type": "stream",
     "text": [
      "    * \n",
      "  * * \n",
      "* * * \n"
     ]
    }
   ],
   "source": [
    "for i in range(1,4):             # 0,1,2\n",
    "    print('  '*(3-i)+'* '*i)"
   ]
  },
  {
   "cell_type": "code",
   "execution_count": 74,
   "id": "25619cca",
   "metadata": {},
   "outputs": [
    {
     "name": "stdout",
     "output_type": "stream",
     "text": [
      "      * \n",
      "    * * \n",
      "  * * * \n"
     ]
    }
   ],
   "source": [
    "for i in range(1,4):             # 0,1,2\n",
    "    print(' '*(4-i)+' '*(4-i)+'* '*i)"
   ]
  },
  {
   "cell_type": "code",
   "execution_count": 75,
   "id": "665155f9",
   "metadata": {},
   "outputs": [
    {
     "name": "stdout",
     "output_type": "stream",
     "text": [
      "    * \n",
      "  * * \n",
      "* * * \n"
     ]
    }
   ],
   "source": [
    "for i in range(4,1,-1):             # 4,3,2,1\n",
    "    print('  '*(i-2)+'* '*(5-i))"
   ]
  },
  {
   "cell_type": "code",
   "execution_count": 78,
   "id": "633949ea",
   "metadata": {},
   "outputs": [
    {
     "name": "stdout",
     "output_type": "stream",
     "text": [
      "    * \n",
      "  * \n",
      "* \n"
     ]
    }
   ],
   "source": [
    "for i in range(1,4):             # 0,1,2\n",
    "    print('  '*(3-i)+'* ')"
   ]
  },
  {
   "cell_type": "code",
   "execution_count": null,
   "id": "07ea6558",
   "metadata": {},
   "outputs": [],
   "source": []
  }
 ],
 "metadata": {
  "kernelspec": {
   "display_name": "Python 3 (ipykernel)",
   "language": "python",
   "name": "python3"
  },
  "language_info": {
   "codemirror_mode": {
    "name": "ipython",
    "version": 3
   },
   "file_extension": ".py",
   "mimetype": "text/x-python",
   "name": "python",
   "nbconvert_exporter": "python",
   "pygments_lexer": "ipython3",
   "version": "3.9.12"
  },
  "toc": {
   "base_numbering": 1,
   "nav_menu": {},
   "number_sections": true,
   "sideBar": true,
   "skip_h1_title": false,
   "title_cell": "Table of Contents",
   "title_sidebar": "Contents",
   "toc_cell": false,
   "toc_position": {},
   "toc_section_display": true,
   "toc_window_display": false
  },
  "varInspector": {
   "cols": {
    "lenName": 16,
    "lenType": 16,
    "lenVar": 40
   },
   "kernels_config": {
    "python": {
     "delete_cmd_postfix": "",
     "delete_cmd_prefix": "del ",
     "library": "var_list.py",
     "varRefreshCmd": "print(var_dic_list())"
    },
    "r": {
     "delete_cmd_postfix": ") ",
     "delete_cmd_prefix": "rm(",
     "library": "var_list.r",
     "varRefreshCmd": "cat(var_dic_list()) "
    }
   },
   "types_to_exclude": [
    "module",
    "function",
    "builtin_function_or_method",
    "instance",
    "_Feature"
   ],
   "window_display": false
  }
 },
 "nbformat": 4,
 "nbformat_minor": 5
}

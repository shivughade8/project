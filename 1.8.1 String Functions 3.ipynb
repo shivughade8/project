{
 "cells": [
  {
   "cell_type": "markdown",
   "id": "3785bf3f",
   "metadata": {},
   "source": [
    "# Isdigit()"
   ]
  },
  {
   "cell_type": "raw",
   "id": "3a4e5b30",
   "metadata": {},
   "source": [
    "support all the numbers & the unicode charcters from 30-39 & it also supports subscript & superscript\n",
    "no alphabets & special characters allowed"
   ]
  },
  {
   "cell_type": "code",
   "execution_count": 1,
   "id": "c5520ce9",
   "metadata": {},
   "outputs": [
    {
     "data": {
      "text/plain": [
       "True"
      ]
     },
     "execution_count": 1,
     "metadata": {},
     "output_type": "execute_result"
    }
   ],
   "source": [
    "string = '12345'\n",
    "string.isdigit()"
   ]
  },
  {
   "cell_type": "code",
   "execution_count": 2,
   "id": "5c6d5185",
   "metadata": {},
   "outputs": [
    {
     "data": {
      "text/plain": [
       "False"
      ]
     },
     "execution_count": 2,
     "metadata": {},
     "output_type": "execute_result"
    }
   ],
   "source": [
    "string = '12345A'\n",
    "string.isdigit()"
   ]
  },
  {
   "cell_type": "code",
   "execution_count": 3,
   "id": "39a6e83a",
   "metadata": {},
   "outputs": [
    {
     "data": {
      "text/plain": [
       "False"
      ]
     },
     "execution_count": 3,
     "metadata": {},
     "output_type": "execute_result"
    }
   ],
   "source": [
    "string = '123 45'\n",
    "string.isdigit()"
   ]
  },
  {
   "cell_type": "code",
   "execution_count": 4,
   "id": "d363abe6",
   "metadata": {},
   "outputs": [
    {
     "data": {
      "text/plain": [
       "False"
      ]
     },
     "execution_count": 4,
     "metadata": {},
     "output_type": "execute_result"
    }
   ],
   "source": [
    "string = '123.45'\n",
    "string.isdigit()"
   ]
  },
  {
   "cell_type": "code",
   "execution_count": 7,
   "id": "b331b640",
   "metadata": {},
   "outputs": [
    {
     "name": "stdout",
     "output_type": "stream",
     "text": [
      "9\n",
      "True\n",
      "True\n"
     ]
    }
   ],
   "source": [
    "num = '\\u0039'\n",
    "print(num)\n",
    "\n",
    "print(num.isdecimal())\n",
    "print(num.isdigit())"
   ]
  },
  {
   "cell_type": "code",
   "execution_count": 10,
   "id": "0785ee30",
   "metadata": {},
   "outputs": [
    {
     "name": "stdout",
     "output_type": "stream",
     "text": [
      "X²\n",
      "False\n",
      "True\n"
     ]
    }
   ],
   "source": [
    "code = '\\u00B2'        #superscript representing 2\n",
    "print('X',code,sep='')\n",
    "\n",
    "print(code.isdecimal())\n",
    "print(code.isdigit())"
   ]
  },
  {
   "cell_type": "code",
   "execution_count": 11,
   "id": "0b353077",
   "metadata": {},
   "outputs": [
    {
     "name": "stdout",
     "output_type": "stream",
     "text": [
      "X³\n",
      "False\n",
      "True\n"
     ]
    }
   ],
   "source": [
    "code = '\\u00B3'        #superscript representing 3\n",
    "print('X',code,sep='')\n",
    "\n",
    "print(code.isdecimal())\n",
    "print(code.isdigit())"
   ]
  },
  {
   "cell_type": "code",
   "execution_count": 12,
   "id": "2274f10f",
   "metadata": {},
   "outputs": [
    {
     "name": "stdout",
     "output_type": "stream",
     "text": [
      "X⁰\n",
      "False\n",
      "True\n"
     ]
    }
   ],
   "source": [
    "code = '\\u2070'        #superscript representing 0\n",
    "print('X',code,sep='')\n",
    "\n",
    "print(code.isdecimal())\n",
    "print(code.isdigit())"
   ]
  },
  {
   "cell_type": "code",
   "execution_count": 13,
   "id": "9aa09bc5",
   "metadata": {},
   "outputs": [
    {
     "name": "stdout",
     "output_type": "stream",
     "text": [
      "X₀\n",
      "False\n",
      "True\n"
     ]
    }
   ],
   "source": [
    "code = '\\u2080'        #subscript representing 0\n",
    "print('X',code,sep='')\n",
    "\n",
    "print(code.isdecimal())\n",
    "print(code.isdigit())"
   ]
  },
  {
   "cell_type": "code",
   "execution_count": 14,
   "id": "f293ac53",
   "metadata": {},
   "outputs": [
    {
     "name": "stdout",
     "output_type": "stream",
     "text": [
      "X₂\n",
      "False\n",
      "True\n"
     ]
    }
   ],
   "source": [
    "code = '\\u2082'        #subscript representing 2\n",
    "print('X',code,sep='')\n",
    "\n",
    "print(code.isdecimal())\n",
    "print(code.isdigit())"
   ]
  },
  {
   "cell_type": "code",
   "execution_count": 15,
   "id": "40559977",
   "metadata": {},
   "outputs": [
    {
     "data": {
      "image/png": "[encoded data removed]",
      "text/plain": [
       "<IPython.core.display.Image object>"
      ]
     },
     "execution_count": 15,
     "metadata": {},
     "output_type": "execute_result"
    }
   ],
   "source": [
    "from IPython.display import Image\n",
    "Image('subscript & superscript.png')"
   ]
  },
  {
   "cell_type": "code",
   "execution_count": 16,
   "id": "afec9a20",
   "metadata": {},
   "outputs": [
    {
     "data": {
      "image/png": "[encoded data removed]",
      "text/plain": [
       "<IPython.core.display.Image object>"
      ]
     },
     "execution_count": 16,
     "metadata": {},
     "output_type": "execute_result"
    }
   ],
   "source": [
    "Image('subscript & superscripts unicodes.png')"
   ]
  },
  {
   "cell_type": "markdown",
   "id": "a86954d8",
   "metadata": {},
   "source": [
    "# Isnumeric()"
   ]
  },
  {
   "cell_type": "raw",
   "id": "30c9d8fe",
   "metadata": {},
   "source": [
    "support all the numbers & the unicode charcters from 30-39 & it also supports subscript & superscript & it also supports vulgar fraction\n",
    "no alphabets & special characters allowed"
   ]
  },
  {
   "cell_type": "code",
   "execution_count": 17,
   "id": "86ab6e38",
   "metadata": {},
   "outputs": [
    {
     "data": {
      "text/plain": [
       "True"
      ]
     },
     "execution_count": 17,
     "metadata": {},
     "output_type": "execute_result"
    }
   ],
   "source": [
    "string = '12345'\n",
    "string.isnumeric()"
   ]
  },
  {
   "cell_type": "code",
   "execution_count": 18,
   "id": "99ac6c0c",
   "metadata": {},
   "outputs": [
    {
     "data": {
      "text/plain": [
       "False"
      ]
     },
     "execution_count": 18,
     "metadata": {},
     "output_type": "execute_result"
    }
   ],
   "source": [
    "string = '12A345'\n",
    "string.isnumeric()"
   ]
  },
  {
   "cell_type": "code",
   "execution_count": 19,
   "id": "c2045eea",
   "metadata": {},
   "outputs": [
    {
     "data": {
      "text/plain": [
       "False"
      ]
     },
     "execution_count": 19,
     "metadata": {},
     "output_type": "execute_result"
    }
   ],
   "source": [
    "string = '12 345'\n",
    "string.isnumeric()"
   ]
  },
  {
   "cell_type": "code",
   "execution_count": 20,
   "id": "fd34dd14",
   "metadata": {},
   "outputs": [
    {
     "data": {
      "text/plain": [
       "False"
      ]
     },
     "execution_count": 20,
     "metadata": {},
     "output_type": "execute_result"
    }
   ],
   "source": [
    "string = '12%345'\n",
    "string.isnumeric()"
   ]
  },
  {
   "cell_type": "code",
   "execution_count": 21,
   "id": "331aa31e",
   "metadata": {},
   "outputs": [
    {
     "data": {
      "text/plain": [
       "False"
      ]
     },
     "execution_count": 21,
     "metadata": {},
     "output_type": "execute_result"
    }
   ],
   "source": [
    "string = '12.345'\n",
    "string.isnumeric()"
   ]
  },
  {
   "cell_type": "code",
   "execution_count": 22,
   "id": "7be24f2f",
   "metadata": {},
   "outputs": [
    {
     "name": "stdout",
     "output_type": "stream",
     "text": [
      "8\n",
      "True\n",
      "True\n",
      "True\n"
     ]
    }
   ],
   "source": [
    "num = '\\u0038'\n",
    "print(num)\n",
    "\n",
    "print(num.isdecimal())\n",
    "print(num.isdigit())\n",
    "print(num.isnumeric())"
   ]
  },
  {
   "cell_type": "code",
   "execution_count": 24,
   "id": "8f09b108",
   "metadata": {},
   "outputs": [
    {
     "name": "stdout",
     "output_type": "stream",
     "text": [
      "X²\n",
      "False\n",
      "True\n",
      "True\n"
     ]
    }
   ],
   "source": [
    "code = '\\u00B2'        #superscript representing 2\n",
    "print('X',code,sep='')\n",
    "\n",
    "print(code.isdecimal())\n",
    "print(code.isdigit())\n",
    "print(code.isnumeric())"
   ]
  },
  {
   "cell_type": "code",
   "execution_count": 25,
   "id": "a41f4cca",
   "metadata": {},
   "outputs": [
    {
     "name": "stdout",
     "output_type": "stream",
     "text": [
      "X₂\n",
      "False\n",
      "True\n",
      "True\n"
     ]
    }
   ],
   "source": [
    "code = '\\u2082'        #subscript representing 2\n",
    "print('X',code,sep='')\n",
    "\n",
    "print(code.isdecimal())\n",
    "print(code.isdigit())\n",
    "print(code.isnumeric())"
   ]
  },
  {
   "cell_type": "code",
   "execution_count": 26,
   "id": "c6cebdb2",
   "metadata": {},
   "outputs": [
    {
     "data": {
      "image/png": "[encoded data removed]",
      "text/plain": [
       "<IPython.core.display.Image object>"
      ]
     },
     "execution_count": 26,
     "metadata": {},
     "output_type": "execute_result"
    }
   ],
   "source": [
    "Image('Vulgar fractions unicodes.png')"
   ]
  },
  {
   "cell_type": "code",
   "execution_count": 29,
   "id": "fe642a9a",
   "metadata": {},
   "outputs": [
    {
     "name": "stdout",
     "output_type": "stream",
     "text": [
      "¼\n",
      "False\n",
      "False\n",
      "True\n"
     ]
    }
   ],
   "source": [
    "code = '\\u00BC'        #subscript representing 2\n",
    "print(code,sep='')\n",
    "\n",
    "print(code.isdecimal())\n",
    "print(code.isdigit())\n",
    "print(code.isnumeric())"
   ]
  },
  {
   "cell_type": "code",
   "execution_count": 30,
   "id": "a09201d2",
   "metadata": {},
   "outputs": [
    {
     "name": "stdout",
     "output_type": "stream",
     "text": [
      "½\n",
      "False\n",
      "False\n",
      "True\n"
     ]
    }
   ],
   "source": [
    "code = '\\u00BD'        #subscript representing 2\n",
    "print(code,sep='')\n",
    "\n",
    "print(code.isdecimal())\n",
    "print(code.isdigit())\n",
    "print(code.isnumeric())"
   ]
  },
  {
   "cell_type": "code",
   "execution_count": 31,
   "id": "b0f6e8ed",
   "metadata": {},
   "outputs": [
    {
     "name": "stdout",
     "output_type": "stream",
     "text": [
      "⅔\n",
      "False\n",
      "False\n",
      "True\n"
     ]
    }
   ],
   "source": [
    "code = '\\u2154'        #subscript representing 2\n",
    "print(code,sep='')\n",
    "\n",
    "print(code.isdecimal())\n",
    "print(code.isdigit())\n",
    "print(code.isnumeric())"
   ]
  },
  {
   "cell_type": "code",
   "execution_count": 32,
   "id": "7812780c",
   "metadata": {},
   "outputs": [
    {
     "name": "stdout",
     "output_type": "stream",
     "text": [
      "x½+3y²\n"
     ]
    }
   ],
   "source": [
    "print('x','\\u00BD','+','3y','\\u00B2',sep='')"
   ]
  },
  {
   "cell_type": "raw",
   "id": "b0cf111e",
   "metadata": {},
   "source": [
    "x**(1/2)+3*y**(2)"
   ]
  },
  {
   "cell_type": "markdown",
   "id": "bd85403a",
   "metadata": {},
   "source": [
    "# zfill()"
   ]
  },
  {
   "cell_type": "raw",
   "id": "08eb483b",
   "metadata": {},
   "source": [
    "It adds zeros at the begeening of the string\n",
    "how many zeros will be added:\n",
    "    number mentioned in zfill function - len(string)"
   ]
  },
  {
   "cell_type": "code",
   "execution_count": 33,
   "id": "beb37963",
   "metadata": {},
   "outputs": [
    {
     "data": {
      "text/plain": [
       "'0000001234'"
      ]
     },
     "execution_count": 33,
     "metadata": {},
     "output_type": "execute_result"
    }
   ],
   "source": [
    "string = '1234'\n",
    "string.zfill(10)"
   ]
  },
  {
   "cell_type": "code",
   "execution_count": 35,
   "id": "f58be0ba",
   "metadata": {},
   "outputs": [
    {
     "name": "stdout",
     "output_type": "stream",
     "text": [
      "0000001234\n",
      "0000129373\n"
     ]
    }
   ],
   "source": [
    "string1 = '1234'\n",
    "string2 = '129373'\n",
    "print(string1.zfill(10))\n",
    "print(string2.zfill(10))"
   ]
  },
  {
   "cell_type": "code",
   "execution_count": 36,
   "id": "f65e7d27",
   "metadata": {},
   "outputs": [
    {
     "data": {
      "text/plain": [
       "'000000ABCD'"
      ]
     },
     "execution_count": 36,
     "metadata": {},
     "output_type": "execute_result"
    }
   ],
   "source": [
    "string = 'ABCD'\n",
    "string.zfill(10)"
   ]
  },
  {
   "cell_type": "code",
   "execution_count": 37,
   "id": "7e41f61c",
   "metadata": {},
   "outputs": [
    {
     "data": {
      "text/plain": [
       "'ABCD'"
      ]
     },
     "execution_count": 37,
     "metadata": {},
     "output_type": "execute_result"
    }
   ],
   "source": [
    "string = 'ABCD'\n",
    "string.zfill(3)"
   ]
  },
  {
   "cell_type": "code",
   "execution_count": 40,
   "id": "4aea8678",
   "metadata": {},
   "outputs": [
    {
     "data": {
      "text/plain": [
       "'000ABCD '"
      ]
     },
     "execution_count": 40,
     "metadata": {},
     "output_type": "execute_result"
    }
   ],
   "source": [
    "string = '0ABCD '\n",
    "string.zfill(8)"
   ]
  },
  {
   "cell_type": "markdown",
   "id": "edc89920",
   "metadata": {},
   "source": [
    "# Center()"
   ]
  },
  {
   "cell_type": "raw",
   "id": "844c87a3",
   "metadata": {},
   "source": [
    "it adds spaces in the begenning & at the end of the string\n",
    "how many zeros will be added:\n",
    "    total space = number mentioned in center function - len(string)\n",
    "    total spaces / 2 >> will be added in the begening & thee end of the string.\n",
    "    \n",
    "Syntax:\n",
    "string.center(count,charcter)"
   ]
  },
  {
   "cell_type": "code",
   "execution_count": 42,
   "id": "06294b28",
   "metadata": {},
   "outputs": [
    {
     "data": {
      "text/plain": [
       "'   1234   '"
      ]
     },
     "execution_count": 42,
     "metadata": {},
     "output_type": "execute_result"
    }
   ],
   "source": [
    "s = '1234'\n",
    "s.center(10)"
   ]
  },
  {
   "cell_type": "code",
   "execution_count": 50,
   "id": "68e62430",
   "metadata": {},
   "outputs": [
    {
     "data": {
      "text/plain": [
       "'   12345   '"
      ]
     },
     "execution_count": 50,
     "metadata": {},
     "output_type": "execute_result"
    }
   ],
   "source": [
    "s = '12345'\n",
    "s.center(11)"
   ]
  },
  {
   "cell_type": "code",
   "execution_count": 45,
   "id": "fb44552a",
   "metadata": {},
   "outputs": [
    {
     "data": {
      "text/plain": [
       "'###velocity traing###'"
      ]
     },
     "execution_count": 45,
     "metadata": {},
     "output_type": "execute_result"
    }
   ],
   "source": [
    "string = \"velocity traing\"\n",
    "new_string = string.center(21, '#')\n",
    "new_string"
   ]
  },
  {
   "cell_type": "code",
   "execution_count": 49,
   "id": "7923e070",
   "metadata": {},
   "outputs": [
    {
     "data": {
      "text/plain": [
       "'@@@@1234@@@'"
      ]
     },
     "execution_count": 49,
     "metadata": {},
     "output_type": "execute_result"
    }
   ],
   "source": [
    "s = '1234'\n",
    "s.center(11,'@')   # when we have even number of characters in string & we pass an odd number in center function then 1 extra spaces will be added in the begenning of the string "
   ]
  },
  {
   "cell_type": "code",
   "execution_count": 48,
   "id": "35d4c040",
   "metadata": {},
   "outputs": [
    {
     "data": {
      "text/plain": [
       "'@@@12345@@@@'"
      ]
     },
     "execution_count": 48,
     "metadata": {},
     "output_type": "execute_result"
    }
   ],
   "source": [
    "s = '12345'\n",
    "s.center(12,'@')   # when we have odd number of characters in string & we pass an even number in center function then 1 extra spaces will be added in the end of the string "
   ]
  },
  {
   "cell_type": "code",
   "execution_count": null,
   "id": "e8884189",
   "metadata": {},
   "outputs": [],
   "source": []
  }
 ],
 "metadata": {
  "kernelspec": {
   "display_name": "Python 3",
   "language": "python",
   "name": "python3"
  },
  "language_info": {
   "codemirror_mode": {
    "name": "ipython",
    "version": 3
   },
   "file_extension": ".py",
   "mimetype": "text/x-python",
   "name": "python",
   "nbconvert_exporter": "python",
   "pygments_lexer": "ipython3",
   "version": "3.8.8"
  },
  "toc": {
   "base_numbering": 1,
   "nav_menu": {},
   "number_sections": true,
   "sideBar": true,
   "skip_h1_title": false,
   "title_cell": "Table of Contents",
   "title_sidebar": "Contents",
   "toc_cell": false,
   "toc_position": {},
   "toc_section_display": true,
   "toc_window_display": false
  },
  "varInspector": {
   "cols": {
    "lenName": 16,
    "lenType": 16,
    "lenVar": 40
   },
   "kernels_config": {
    "python": {
     "delete_cmd_postfix": "",
     "delete_cmd_prefix": "del ",
     "library": "var_list.py",
     "varRefreshCmd": "print(var_dic_list())"
    },
    "r": {
     "delete_cmd_postfix": ") ",
     "delete_cmd_prefix": "rm(",
     "library": "var_list.r",
     "varRefreshCmd": "cat(var_dic_list()) "
    }
   },
   "types_to_exclude": [
    "module",
    "function",
    "builtin_function_or_method",
    "instance",
    "_Feature"
   ],
   "window_display": false
  }
 },
 "nbformat": 4,
 "nbformat_minor": 5
}

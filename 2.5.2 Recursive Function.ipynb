{
 "cells": [
  {
   "cell_type": "raw",
   "id": "9454cf0a",
   "metadata": {},
   "source": [
    "Recursive Function:\n",
    "    function calling itself"
   ]
  },
  {
   "cell_type": "code",
   "execution_count": 2,
   "id": "55e0dc84",
   "metadata": {},
   "outputs": [
    {
     "name": "stdout",
     "output_type": "stream",
     "text": [
      "Give user input here: 6\n"
     ]
    },
    {
     "data": {
      "text/plain": [
       "720"
      ]
     },
     "execution_count": 2,
     "metadata": {},
     "output_type": "execute_result"
    }
   ],
   "source": [
    "def factorial(a,fact):\n",
    "    facto = a*fact\n",
    "    a-=1\n",
    "    \n",
    "    if a == 1:\n",
    "        return facto\n",
    "    else:\n",
    "        return factorial(a,facto)\n",
    " \n",
    "\n",
    "user_in = int(input('Give user input here: '))\n",
    "\n",
    "factorial(user_in,1)"
   ]
  },
  {
   "cell_type": "code",
   "execution_count": 11,
   "id": "cff913f0",
   "metadata": {},
   "outputs": [
    {
     "data": {
      "text/plain": [
       "120"
      ]
     },
     "execution_count": 11,
     "metadata": {},
     "output_type": "execute_result"
    }
   ],
   "source": [
    "def factorial(n):\n",
    "    if n <= 0:\n",
    "        print('factorial of -ve numbers & 0 does not exist')\n",
    "    if n==1:\n",
    "        return 1\n",
    "    else:\n",
    "        return n*factorial(n-1)\n",
    "        \n",
    "factorial(5)"
   ]
  },
  {
   "cell_type": "code",
   "execution_count": null,
   "id": "80b26d08",
   "metadata": {},
   "outputs": [],
   "source": [
    "5 * factorial(5-1)\n",
    "\n",
    "4 * factorial(4-1)\n",
    "\n",
    "3 * factorial(3-1)\n",
    "\n",
    "2 * factorial(2-1)\n",
    "\n",
    "1"
   ]
  },
  {
   "cell_type": "code",
   "execution_count": 12,
   "id": "8966b7a2",
   "metadata": {},
   "outputs": [
    {
     "name": "stdout",
     "output_type": "stream",
     "text": [
      "0 1 1 2 3 5 8 13 21 34 "
     ]
    }
   ],
   "source": [
    "def fibo(n):\n",
    "    if n == 1 or n == 0:\n",
    "        return n\n",
    "    return fibo(n-2)+fibo(n-1)\n",
    "\n",
    "for i in range(0,10):            # 0,1,2....\n",
    "    print(fibo(i),end=' ')"
   ]
  },
  {
   "cell_type": "raw",
   "id": "480cb84c",
   "metadata": {},
   "source": [
    "# WAP to find whether a number is prime or not using recursie function"
   ]
  },
  {
   "cell_type": "code",
   "execution_count": null,
   "id": "7744ec32",
   "metadata": {},
   "outputs": [],
   "source": [
    "def CheckPrime(i,num):\n",
    "    if num==i:\n",
    "        return 0\n",
    "    else:\n",
    "        if(num%i==0):\n",
    "            return 1\n",
    "        else:\n",
    "            return CheckPrime(i+1,num)\n",
    "num=int(input(\"Enter your Number:\"))\n",
    "if(CheckPrime(2,num)==0):\n",
    "    print(\"It is a Prime Number.\")\n",
    "else:\n",
    "    print(\"It is not a Prime Number.\")"
   ]
  },
  {
   "cell_type": "code",
   "execution_count": 1,
   "id": "24934ff3",
   "metadata": {},
   "outputs": [
    {
     "data": {
      "text/plain": [
       "120"
      ]
     },
     "execution_count": 1,
     "metadata": {},
     "output_type": "execute_result"
    }
   ],
   "source": [
    "# factorial\n",
    "\n",
    "from functools import reduce\n",
    "n=5\n",
    "fac=reduce(lambda a,b:a*b,range(1,n+1))\n",
    "fac\n"
   ]
  },
  {
   "cell_type": "code",
   "execution_count": 2,
   "id": "9d245cba",
   "metadata": {},
   "outputs": [
    {
     "data": {
      "text/plain": [
       "[0, 1, 1, 2, 3]"
      ]
     },
     "execution_count": 2,
     "metadata": {},
     "output_type": "execute_result"
    }
   ],
   "source": [
    "#fibo\n",
    "\n",
    "n=5\n",
    "l1=[0,1]\n",
    "def fibo(n):\n",
    "    for i in range(1,n-1):\n",
    "        l1.append(l1[i]+l1[i-1])\n",
    "    return l1\n",
    "fibo(n)"
   ]
  }
 ],
 "metadata": {
  "kernelspec": {
   "display_name": "Python 3 (ipykernel)",
   "language": "python",
   "name": "python3"
  },
  "language_info": {
   "codemirror_mode": {
    "name": "ipython",
    "version": 3
   },
   "file_extension": ".py",
   "mimetype": "text/x-python",
   "name": "python",
   "nbconvert_exporter": "python",
   "pygments_lexer": "ipython3",
   "version": "3.9.12"
  },
  "toc": {
   "base_numbering": 1,
   "nav_menu": {},
   "number_sections": true,
   "sideBar": true,
   "skip_h1_title": false,
   "title_cell": "Table of Contents",
   "title_sidebar": "Contents",
   "toc_cell": false,
   "toc_position": {},
   "toc_section_display": true,
   "toc_window_display": false
  },
  "varInspector": {
   "cols": {
    "lenName": 16,
    "lenType": 16,
    "lenVar": 40
   },
   "kernels_config": {
    "python": {
     "delete_cmd_postfix": "",
     "delete_cmd_prefix": "del ",
     "library": "var_list.py",
     "varRefreshCmd": "print(var_dic_list())"
    },
    "r": {
     "delete_cmd_postfix": ") ",
     "delete_cmd_prefix": "rm(",
     "library": "var_list.r",
     "varRefreshCmd": "cat(var_dic_list()) "
    }
   },
   "types_to_exclude": [
    "module",
    "function",
    "builtin_function_or_method",
    "instance",
    "_Feature"
   ],
   "window_display": false
  }
 },
 "nbformat": 4,
 "nbformat_minor": 5
}

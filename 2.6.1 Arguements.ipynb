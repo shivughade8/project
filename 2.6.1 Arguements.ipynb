{
 "cells": [
  {
   "cell_type": "raw",
   "id": "2b424e5e",
   "metadata": {},
   "source": [
    "Types of Arguements:\n",
    "    Positional\n",
    "    Default\n",
    "    Arbitary\n",
    "    Keyword"
   ]
  },
  {
   "cell_type": "markdown",
   "id": "933c64c1",
   "metadata": {},
   "source": [
    "# postional arguements"
   ]
  },
  {
   "cell_type": "raw",
   "id": "0c6971e8",
   "metadata": {},
   "source": [
    "no. of arguements = no. of parameters\n",
    "\n",
    "any number of parameters can be passed while calling the function"
   ]
  },
  {
   "cell_type": "code",
   "execution_count": 1,
   "id": "542bd702",
   "metadata": {},
   "outputs": [
    {
     "data": {
      "text/plain": [
       "5"
      ]
     },
     "execution_count": 1,
     "metadata": {},
     "output_type": "execute_result"
    }
   ],
   "source": [
    "def add(n1,n2):\n",
    "    return n1+n2\n",
    "\n",
    "add(2,3)"
   ]
  },
  {
   "cell_type": "code",
   "execution_count": 2,
   "id": "84916682",
   "metadata": {},
   "outputs": [
    {
     "ename": "TypeError",
     "evalue": "add() missing 1 required positional argument: 'n2'",
     "output_type": "error",
     "traceback": [
      "\u001b[1;31m---------------------------------------------------------------------------\u001b[0m",
      "\u001b[1;31mTypeError\u001b[0m                                 Traceback (most recent call last)",
      "\u001b[1;32m<ipython-input-2-2558a051bacf>\u001b[0m in \u001b[0;36m<module>\u001b[1;34m\u001b[0m\n\u001b[1;32m----> 1\u001b[1;33m \u001b[0madd\u001b[0m\u001b[1;33m(\u001b[0m\u001b[1;36m1\u001b[0m\u001b[1;33m)\u001b[0m\u001b[1;33m\u001b[0m\u001b[1;33m\u001b[0m\u001b[0m\n\u001b[0m",
      "\u001b[1;31mTypeError\u001b[0m: add() missing 1 required positional argument: 'n2'"
     ]
    }
   ],
   "source": [
    "add(1)"
   ]
  },
  {
   "cell_type": "code",
   "execution_count": 3,
   "id": "06d0056a",
   "metadata": {},
   "outputs": [
    {
     "ename": "TypeError",
     "evalue": "add() missing 2 required positional arguments: 'n1' and 'n2'",
     "output_type": "error",
     "traceback": [
      "\u001b[1;31m---------------------------------------------------------------------------\u001b[0m",
      "\u001b[1;31mTypeError\u001b[0m                                 Traceback (most recent call last)",
      "\u001b[1;32m<ipython-input-3-d5d29de3ed94>\u001b[0m in \u001b[0;36m<module>\u001b[1;34m\u001b[0m\n\u001b[1;32m----> 1\u001b[1;33m \u001b[0madd\u001b[0m\u001b[1;33m(\u001b[0m\u001b[1;33m)\u001b[0m\u001b[1;33m\u001b[0m\u001b[1;33m\u001b[0m\u001b[0m\n\u001b[0m",
      "\u001b[1;31mTypeError\u001b[0m: add() missing 2 required positional arguments: 'n1' and 'n2'"
     ]
    }
   ],
   "source": [
    "add()"
   ]
  },
  {
   "cell_type": "code",
   "execution_count": 4,
   "id": "e9c82787",
   "metadata": {},
   "outputs": [
    {
     "ename": "TypeError",
     "evalue": "add() takes 2 positional arguments but 3 were given",
     "output_type": "error",
     "traceback": [
      "\u001b[1;31m---------------------------------------------------------------------------\u001b[0m",
      "\u001b[1;31mTypeError\u001b[0m                                 Traceback (most recent call last)",
      "\u001b[1;32m<ipython-input-4-c38988c946a9>\u001b[0m in \u001b[0;36m<module>\u001b[1;34m\u001b[0m\n\u001b[1;32m----> 1\u001b[1;33m \u001b[0madd\u001b[0m\u001b[1;33m(\u001b[0m\u001b[1;36m3\u001b[0m\u001b[1;33m,\u001b[0m\u001b[1;36m4\u001b[0m\u001b[1;33m,\u001b[0m\u001b[1;36m5\u001b[0m\u001b[1;33m)\u001b[0m\u001b[1;33m\u001b[0m\u001b[1;33m\u001b[0m\u001b[0m\n\u001b[0m",
      "\u001b[1;31mTypeError\u001b[0m: add() takes 2 positional arguments but 3 were given"
     ]
    }
   ],
   "source": [
    "add(3,4,5)"
   ]
  },
  {
   "cell_type": "markdown",
   "id": "3bd58e79",
   "metadata": {},
   "source": [
    "# Default Arguements"
   ]
  },
  {
   "cell_type": "code",
   "execution_count": null,
   "id": "298c6795",
   "metadata": {},
   "outputs": [],
   "source": [
    "Argumensts are defined in the very declaration of the function. which means if we fail to pass the parameter value while \n",
    "calling the function, then it takes the by default value that is defined.\n",
    "\n",
    "if the parametric value for default argument is passed, then this value will supersucced the default value defined in\n",
    "declaration of the function.\n",
    "\n",
    "We can pass any number of default arguements\n",
    "\n",
    "no. of params <= no. of arguments\n",
    "\n",
    "default argument always follow positional arguments meaning while declaration all positional arguments has to be declared\n",
    "first only then default arguments are defined."
   ]
  },
  {
   "cell_type": "code",
   "execution_count": 5,
   "id": "031e5911",
   "metadata": {},
   "outputs": [
    {
     "data": {
      "text/plain": [
       "13"
      ]
     },
     "execution_count": 5,
     "metadata": {},
     "output_type": "execute_result"
    }
   ],
   "source": [
    "def addition(n1,n2,n3=10):       # Default arguements in declaration of function\n",
    "    return n1+n2+n3\n",
    "\n",
    "addition(3,5,5)"
   ]
  },
  {
   "cell_type": "code",
   "execution_count": 6,
   "id": "eab3c5c4",
   "metadata": {},
   "outputs": [
    {
     "data": {
      "text/plain": [
       "18"
      ]
     },
     "execution_count": 6,
     "metadata": {},
     "output_type": "execute_result"
    }
   ],
   "source": [
    "addition(3,5)"
   ]
  },
  {
   "cell_type": "code",
   "execution_count": 7,
   "id": "189ab58f",
   "metadata": {},
   "outputs": [
    {
     "ename": "SyntaxError",
     "evalue": "non-default argument follows default argument (<ipython-input-7-4ed679ee3316>, line 1)",
     "output_type": "error",
     "traceback": [
      "\u001b[1;36m  File \u001b[1;32m\"<ipython-input-7-4ed679ee3316>\"\u001b[1;36m, line \u001b[1;32m1\u001b[0m\n\u001b[1;33m    def addition(n3=10,n1,n2):       # Default arguements in declaration of function\u001b[0m\n\u001b[1;37m                 ^\u001b[0m\n\u001b[1;31mSyntaxError\u001b[0m\u001b[1;31m:\u001b[0m non-default argument follows default argument\n"
     ]
    }
   ],
   "source": [
    "def addition(n3=10,n1,n2):       # Default arguements in declaration of function\n",
    "    return n1+n2+n3\n",
    "\n",
    "addition(3,5,5)"
   ]
  },
  {
   "cell_type": "code",
   "execution_count": 8,
   "id": "bb24c92f",
   "metadata": {},
   "outputs": [
    {
     "data": {
      "text/plain": [
       "1"
      ]
     },
     "execution_count": 8,
     "metadata": {},
     "output_type": "execute_result"
    }
   ],
   "source": [
    "def addition(n1,n2,n3=10,n4=-12):       # Default arguements in declaration of function\n",
    "    return n1+n2+n3+n4\n",
    "\n",
    "addition(3,5,5)"
   ]
  },
  {
   "cell_type": "markdown",
   "id": "16d61c0c",
   "metadata": {},
   "source": [
    "# Arbitary arguements"
   ]
  },
  {
   "cell_type": "raw",
   "id": "017bf689",
   "metadata": {},
   "source": [
    "Variable length arguement\n",
    "\n",
    "*args >> Arbitary arguements\n",
    "\n",
    "by default type of args is tuple\n",
    "\n",
    "& when we do not know the number of arguements we are passing then args can be used"
   ]
  },
  {
   "cell_type": "code",
   "execution_count": 10,
   "id": "a31f801c",
   "metadata": {},
   "outputs": [
    {
     "data": {
      "text/plain": [
       "360"
      ]
     },
     "execution_count": 10,
     "metadata": {},
     "output_type": "execute_result"
    }
   ],
   "source": [
    "def mul(a,b,c,d=10):\n",
    "    return a*b*c*d\n",
    "\n",
    "mul(3,3,4)"
   ]
  },
  {
   "cell_type": "code",
   "execution_count": 12,
   "id": "ca355f47",
   "metadata": {},
   "outputs": [
    {
     "name": "stdout",
     "output_type": "stream",
     "text": [
      "(5, 5, 7, 3, 2, 1)\n"
     ]
    },
    {
     "data": {
      "text/plain": [
       "(25, 25, 49, 9, 4, 1)"
      ]
     },
     "execution_count": 12,
     "metadata": {},
     "output_type": "execute_result"
    }
   ],
   "source": [
    "def multiplication(*n1):\n",
    "    print(n1)\n",
    "    return tuple(i**2 for i in n1)\n",
    "\n",
    "multiplication(5,5,7,3,2,1)"
   ]
  },
  {
   "cell_type": "code",
   "execution_count": 13,
   "id": "9939538c",
   "metadata": {},
   "outputs": [
    {
     "data": {
      "text/plain": [
       "(5, 5, 7, 3, 2, 1)"
      ]
     },
     "execution_count": 13,
     "metadata": {},
     "output_type": "execute_result"
    }
   ],
   "source": [
    "n1 = 5, 5, 7, 3, 2, 1\n",
    "n1"
   ]
  },
  {
   "cell_type": "code",
   "execution_count": 14,
   "id": "e1d6293a",
   "metadata": {},
   "outputs": [
    {
     "data": {
      "text/plain": [
       "[2, 3, 4, 5]"
      ]
     },
     "execution_count": 14,
     "metadata": {},
     "output_type": "execute_result"
    }
   ],
   "source": [
    "a,*b,c= 1,2,3,4,5,6\n",
    "b"
   ]
  },
  {
   "cell_type": "code",
   "execution_count": 15,
   "id": "8c21f576",
   "metadata": {},
   "outputs": [
    {
     "name": "stdout",
     "output_type": "stream",
     "text": [
      "(5, 5, 7, 3, 2, 1)\n"
     ]
    },
    {
     "data": {
      "text/plain": [
       "('multiplication of numbers is ', 1050)"
      ]
     },
     "execution_count": 15,
     "metadata": {},
     "output_type": "execute_result"
    }
   ],
   "source": [
    "# calling a function into another function\n",
    "\n",
    "def loop_return(x):\n",
    "    a = 1\n",
    "    for i in x:\n",
    "        a = a*i\n",
    "    return a\n",
    "\n",
    "def multiplication_of_all_nums(*n1):\n",
    "    print(n1)\n",
    "    return 'multiplication of numbers is ',loop_return(n1)\n",
    "\n",
    "multiplication_of_all_nums(5,5,7,3,2,1)"
   ]
  },
  {
   "cell_type": "code",
   "execution_count": 17,
   "id": "f70dd9c9",
   "metadata": {},
   "outputs": [
    {
     "name": "stdout",
     "output_type": "stream",
     "text": [
      "n1 is  5\n",
      "n2 is  15\n",
      "n3 is  (7, 3, 2, 1)\n"
     ]
    }
   ],
   "source": [
    "def multiplication(n1,n2=10,*n3):\n",
    "    print(\"n1 is \",n1)\n",
    "    print(\"n2 is \",n2)\n",
    "    print(\"n3 is \",n3)\n",
    "\n",
    "multiplication(5,15,7,3,2,1)"
   ]
  },
  {
   "cell_type": "code",
   "execution_count": 18,
   "id": "b6e898bd",
   "metadata": {},
   "outputs": [
    {
     "name": "stdout",
     "output_type": "stream",
     "text": [
      "n1 is  5\n",
      "n2 is  10\n",
      "n3 is  (15, 7, 3, 2, 1)\n"
     ]
    }
   ],
   "source": [
    "def multiplication(n1,*n3,n2=10):\n",
    "    print(\"n1 is \",n1)\n",
    "    print(\"n2 is \",n2)\n",
    "    print(\"n3 is \",n3)\n",
    "\n",
    "multiplication(5,15,7,3,2,1)"
   ]
  },
  {
   "cell_type": "code",
   "execution_count": 19,
   "id": "5d00faa5",
   "metadata": {},
   "outputs": [
    {
     "name": "stdout",
     "output_type": "stream",
     "text": [
      "n1 is  5\n",
      "n2 is  1\n",
      "n3 is  (15, 7, 3, 2)\n"
     ]
    }
   ],
   "source": [
    "def multiplication(n1,*n3,n2=10):\n",
    "    print(\"n1 is \",n1)\n",
    "    print(\"n2 is \",n2)\n",
    "    print(\"n3 is \",n3)\n",
    "\n",
    "multiplication(5,15,7,3,2,n2=1)"
   ]
  },
  {
   "cell_type": "markdown",
   "id": "ccdebafa",
   "metadata": {},
   "source": [
    "# Keyword Arguement"
   ]
  },
  {
   "cell_type": "raw",
   "id": "403d9394",
   "metadata": {},
   "source": [
    "**kwargs >> keyword arguements\n",
    "Data type of **kwargs is by default dictionary\n",
    "It can also take multiple values"
   ]
  },
  {
   "cell_type": "code",
   "execution_count": 20,
   "id": "f80cedcb",
   "metadata": {},
   "outputs": [
    {
     "name": "stdout",
     "output_type": "stream",
     "text": [
      "90 95 97\n"
     ]
    }
   ],
   "source": [
    "def marks(phy=90,chem=95,maths=97):\n",
    "    print(phy,chem,maths)\n",
    "    \n",
    "marks()"
   ]
  },
  {
   "cell_type": "code",
   "execution_count": 21,
   "id": "01b188c7",
   "metadata": {},
   "outputs": [
    {
     "name": "stdout",
     "output_type": "stream",
     "text": [
      "60 65 54\n"
     ]
    }
   ],
   "source": [
    "marks(60,65,54)"
   ]
  },
  {
   "cell_type": "code",
   "execution_count": 23,
   "id": "2f9512ef",
   "metadata": {},
   "outputs": [
    {
     "name": "stdout",
     "output_type": "stream",
     "text": [
      "65 60 54\n"
     ]
    }
   ],
   "source": [
    "marks(chem=60,phy=65,maths=54)"
   ]
  },
  {
   "cell_type": "code",
   "execution_count": 24,
   "id": "c61385fe",
   "metadata": {},
   "outputs": [
    {
     "name": "stdout",
     "output_type": "stream",
     "text": [
      "{'chem': 60, 'phy': 65, 'maths': 54, 'bio': 90, 'geo': 78}\n",
      "dict_keys(['chem', 'phy', 'maths', 'bio', 'geo']) dict_values([60, 65, 54, 90, 78])\n"
     ]
    }
   ],
   "source": [
    "def marks(**abc):\n",
    "    print(abc)\n",
    "    print(abc.keys(),abc.values())\n",
    "    \n",
    "marks(chem=60,phy=65,maths=54,bio=90,geo=78)"
   ]
  },
  {
   "cell_type": "code",
   "execution_count": 27,
   "id": "8e1249d3",
   "metadata": {},
   "outputs": [
    {
     "name": "stdout",
     "output_type": "stream",
     "text": [
      "v1 & v2 are  10 20\n",
      "default arguements are  0.5\n",
      "args are >>  (2, 3, 4, 5)\n",
      "kwargs are -- {'x': -5, 'y': -10, 'z': -12}\n"
     ]
    }
   ],
   "source": [
    "def test_params(v1,v2,v3=100,*args,**kwargs):\n",
    "    print('v1 & v2 are ',v1,v2)\n",
    "    print('default arguements are ',v3)\n",
    "    print('args are >> ',args)\n",
    "    print('kwargs are --', kwargs)\n",
    "    \n",
    "\n",
    "test_params(10,20,0.5,2,3,4,5,x=-5,y=-10,z=-12)"
   ]
  },
  {
   "cell_type": "code",
   "execution_count": 28,
   "id": "51cd0a97",
   "metadata": {},
   "outputs": [
    {
     "name": "stdout",
     "output_type": "stream",
     "text": [
      "v1 & v2 are  10 20\n",
      "default arguements are  100\n",
      "args are >>  (0.5, 2, 3, 4, 5)\n",
      "kwargs are -- {'x': -5, 'y': -10, 'z': -12}\n"
     ]
    }
   ],
   "source": [
    "def test_params(v1,v2,*args,v3=100,**kwargs):\n",
    "    print('v1 & v2 are ',v1,v2)\n",
    "    print('default arguements are ',v3)\n",
    "    print('args are >> ',args)\n",
    "    print('kwargs are --', kwargs)\n",
    "    \n",
    "\n",
    "test_params(10,20,0.5,2,3,4,5,x=-5,y=-10,z=-12)"
   ]
  },
  {
   "cell_type": "code",
   "execution_count": 29,
   "id": "f7d9b931",
   "metadata": {},
   "outputs": [
    {
     "name": "stdout",
     "output_type": "stream",
     "text": [
      "v1 & v2 are  10 20\n",
      "default arguements are  5\n",
      "args are >>  (0.5, 2, 3, 4)\n",
      "kwargs are -- {'x': -5, 'y': -10, 'z': -12}\n"
     ]
    }
   ],
   "source": [
    "def test_params(v1,v2,*args,v3=100,**kwargs):\n",
    "    print('v1 & v2 are ',v1,v2)\n",
    "    print('default arguements are ',v3)\n",
    "    print('args are >> ',args)\n",
    "    print('kwargs are --', kwargs)\n",
    "    \n",
    "\n",
    "test_params(10,20,0.5,2,3,4,v3=5,x=-5,y=-10,z=-12)"
   ]
  },
  {
   "cell_type": "raw",
   "id": "47285946",
   "metadata": {},
   "source": [
    "# standard sequence is :\n",
    "\n",
    "positional args, default args, Arbitary args, Keyword args\n",
    "\n",
    "positional args, Arbitary args, default args, Keyword args"
   ]
  },
  {
   "cell_type": "code",
   "execution_count": 32,
   "id": "31f29734",
   "metadata": {},
   "outputs": [
    {
     "name": "stdout",
     "output_type": "stream",
     "text": [
      "v1 & v2 are  10 20\n",
      "default arguements are  5\n",
      "args are >>  ()\n",
      "kwargs are -- {}\n"
     ]
    }
   ],
   "source": [
    "def test_params(v1,v2,*args,v3=100,**kwargs):\n",
    "    print('v1 & v2 are ',v1,v2)\n",
    "    print('default arguements are ',v3)\n",
    "    print('args are >> ',args)\n",
    "    print('kwargs are --', kwargs)\n",
    "    \n",
    "\n",
    "test_params(10,20,v3=5)"
   ]
  },
  {
   "cell_type": "code",
   "execution_count": 47,
   "id": "a609b89b",
   "metadata": {},
   "outputs": [],
   "source": [
    "lis = [2,5,6,12]\n",
    "lis1=[]\n",
    "def var(x):\n",
    "    for i in x:\n",
    "        lis1.append(i**2)\n",
    "    return lis1\n",
    "# list(var(lis1))"
   ]
  },
  {
   "cell_type": "code",
   "execution_count": 48,
   "id": "ffd0dbe1",
   "metadata": {},
   "outputs": [
    {
     "data": {
      "text/plain": [
       "[4, 25, 36, 144]"
      ]
     },
     "execution_count": 48,
     "metadata": {},
     "output_type": "execute_result"
    }
   ],
   "source": [
    "var(lis)\n"
   ]
  },
  {
   "cell_type": "code",
   "execution_count": null,
   "id": "af760a9b",
   "metadata": {},
   "outputs": [],
   "source": []
  }
 ],
 "metadata": {
  "kernelspec": {
   "display_name": "Python 3 (ipykernel)",
   "language": "python",
   "name": "python3"
  },
  "language_info": {
   "codemirror_mode": {
    "name": "ipython",
    "version": 3
   },
   "file_extension": ".py",
   "mimetype": "text/x-python",
   "name": "python",
   "nbconvert_exporter": "python",
   "pygments_lexer": "ipython3",
   "version": "3.9.12"
  },
  "toc": {
   "base_numbering": 1,
   "nav_menu": {},
   "number_sections": true,
   "sideBar": true,
   "skip_h1_title": false,
   "title_cell": "Table of Contents",
   "title_sidebar": "Contents",
   "toc_cell": false,
   "toc_position": {},
   "toc_section_display": true,
   "toc_window_display": false
  },
  "varInspector": {
   "cols": {
    "lenName": 16,
    "lenType": 16,
    "lenVar": 40
   },
   "kernels_config": {
    "python": {
     "delete_cmd_postfix": "",
     "delete_cmd_prefix": "del ",
     "library": "var_list.py",
     "varRefreshCmd": "print(var_dic_list())"
    },
    "r": {
     "delete_cmd_postfix": ") ",
     "delete_cmd_prefix": "rm(",
     "library": "var_list.r",
     "varRefreshCmd": "cat(var_dic_list()) "
    }
   },
   "types_to_exclude": [
    "module",
    "function",
    "builtin_function_or_method",
    "instance",
    "_Feature"
   ],
   "window_display": false
  }
 },
 "nbformat": 4,
 "nbformat_minor": 5
}

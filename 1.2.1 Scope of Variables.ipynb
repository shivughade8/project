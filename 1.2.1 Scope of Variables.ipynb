{
 "cells": [
  {
   "cell_type": "markdown",
   "id": "b9a4f4fb",
   "metadata": {},
   "source": [
    "# Scope of variable"
   ]
  },
  {
   "cell_type": "raw",
   "id": "12e5b884",
   "metadata": {},
   "source": [
    "1. Global variable:\n",
    "    - Variable which is defined outside the function body or method.\n",
    "    - It can be accessed anywhere in the file.\n",
    "    \n",
    "2. Local Variable:\n",
    "    - Variable which is defined within the function body or method.\n",
    "    - It can only be accessed either within the function or has to be accessed using function name.\n"
   ]
  },
  {
   "cell_type": "code",
   "execution_count": 8,
   "id": "41591cd8",
   "metadata": {},
   "outputs": [],
   "source": [
    "variable1 = 100                # Global Variable\n",
    "\n",
    "def new():                     # Function\n",
    "    variable2 = 200            # Local Variable\n",
    "    print(variable2)\n"
   ]
  },
  {
   "cell_type": "code",
   "execution_count": 2,
   "id": "26b86e71",
   "metadata": {},
   "outputs": [
    {
     "data": {
      "text/plain": [
       "100"
      ]
     },
     "execution_count": 2,
     "metadata": {},
     "output_type": "execute_result"
    }
   ],
   "source": [
    "variable1"
   ]
  },
  {
   "cell_type": "code",
   "execution_count": 3,
   "id": "53b03e83",
   "metadata": {},
   "outputs": [
    {
     "ename": "NameError",
     "evalue": "name 'variable2' is not defined",
     "output_type": "error",
     "traceback": [
      "\u001b[1;31m---------------------------------------------------------------------------\u001b[0m",
      "\u001b[1;31mNameError\u001b[0m                                 Traceback (most recent call last)",
      "Input \u001b[1;32mIn [3]\u001b[0m, in \u001b[0;36m<cell line: 1>\u001b[1;34m()\u001b[0m\n\u001b[1;32m----> 1\u001b[0m \u001b[43mvariable2\u001b[49m\n",
      "\u001b[1;31mNameError\u001b[0m: name 'variable2' is not defined"
     ]
    }
   ],
   "source": [
    "variable2"
   ]
  },
  {
   "cell_type": "code",
   "execution_count": 6,
   "id": "5152b19d",
   "metadata": {},
   "outputs": [
    {
     "name": "stdout",
     "output_type": "stream",
     "text": [
      "200\n"
     ]
    }
   ],
   "source": [
    "new()"
   ]
  },
  {
   "cell_type": "code",
   "execution_count": 9,
   "id": "dc957c7e",
   "metadata": {},
   "outputs": [
    {
     "name": "stdout",
     "output_type": "stream",
     "text": [
      "400\n"
     ]
    }
   ],
   "source": [
    "newest()"
   ]
  },
  {
   "cell_type": "markdown",
   "id": "6f2fb13e",
   "metadata": {},
   "source": [
    "# del function"
   ]
  },
  {
   "cell_type": "raw",
   "id": "2adf49a4",
   "metadata": {},
   "source": [
    "is used to delete the variable"
   ]
  },
  {
   "cell_type": "code",
   "execution_count": null,
   "id": "f1b6fb20",
   "metadata": {},
   "outputs": [],
   "source": [
    "x = 999"
   ]
  },
  {
   "cell_type": "code",
   "execution_count": 12,
   "id": "4df691a3",
   "metadata": {},
   "outputs": [
    {
     "data": {
      "text/plain": [
       "999"
      ]
     },
     "execution_count": 12,
     "metadata": {},
     "output_type": "execute_result"
    }
   ],
   "source": [
    "x"
   ]
  },
  {
   "cell_type": "code",
   "execution_count": 13,
   "id": "6db41ee2",
   "metadata": {},
   "outputs": [],
   "source": [
    "del x"
   ]
  },
  {
   "cell_type": "code",
   "execution_count": 14,
   "id": "df787d92",
   "metadata": {},
   "outputs": [
    {
     "ename": "NameError",
     "evalue": "name 'x' is not defined",
     "output_type": "error",
     "traceback": [
      "\u001b[1;31m---------------------------------------------------------------------------\u001b[0m",
      "\u001b[1;31mNameError\u001b[0m                                 Traceback (most recent call last)",
      "Input \u001b[1;32mIn [14]\u001b[0m, in \u001b[0;36m<cell line: 1>\u001b[1;34m()\u001b[0m\n\u001b[1;32m----> 1\u001b[0m \u001b[43mx\u001b[49m\n",
      "\u001b[1;31mNameError\u001b[0m: name 'x' is not defined"
     ]
    }
   ],
   "source": [
    "x"
   ]
  },
  {
   "cell_type": "markdown",
   "id": "225ea630",
   "metadata": {},
   "source": [
    "# id function"
   ]
  },
  {
   "cell_type": "raw",
   "id": "2b35bb55",
   "metadata": {},
   "source": [
    "id shows the memory loaction where the data or info is stored.\n",
    "The memory location tracing depends on the basis of value stored at that specific location."
   ]
  },
  {
   "cell_type": "code",
   "execution_count": 15,
   "id": "9787ec30",
   "metadata": {},
   "outputs": [],
   "source": [
    "x = 10"
   ]
  },
  {
   "cell_type": "code",
   "execution_count": 16,
   "id": "b83cdd52",
   "metadata": {},
   "outputs": [
    {
     "data": {
      "text/plain": [
       "1728905701968"
      ]
     },
     "execution_count": 16,
     "metadata": {},
     "output_type": "execute_result"
    }
   ],
   "source": [
    "id(x)"
   ]
  },
  {
   "cell_type": "code",
   "execution_count": 18,
   "id": "c7179fa9",
   "metadata": {},
   "outputs": [
    {
     "data": {
      "text/plain": [
       "10"
      ]
     },
     "execution_count": 18,
     "metadata": {},
     "output_type": "execute_result"
    }
   ],
   "source": [
    "x = y = 10\n",
    "x"
   ]
  },
  {
   "cell_type": "code",
   "execution_count": 19,
   "id": "d315ca50",
   "metadata": {},
   "outputs": [
    {
     "data": {
      "text/plain": [
       "10"
      ]
     },
     "execution_count": 19,
     "metadata": {},
     "output_type": "execute_result"
    }
   ],
   "source": [
    "y"
   ]
  },
  {
   "cell_type": "code",
   "execution_count": 20,
   "id": "4622d2c0",
   "metadata": {},
   "outputs": [
    {
     "data": {
      "text/plain": [
       "(1728905701968, 1728905701968)"
      ]
     },
     "execution_count": 20,
     "metadata": {},
     "output_type": "execute_result"
    }
   ],
   "source": [
    "id(x),id(y)"
   ]
  },
  {
   "cell_type": "code",
   "execution_count": 21,
   "id": "8b8b295c",
   "metadata": {},
   "outputs": [],
   "source": [
    "z = 10"
   ]
  },
  {
   "cell_type": "code",
   "execution_count": 22,
   "id": "508a8c11",
   "metadata": {},
   "outputs": [
    {
     "data": {
      "text/plain": [
       "1728905701968"
      ]
     },
     "execution_count": 22,
     "metadata": {},
     "output_type": "execute_result"
    }
   ],
   "source": [
    "id(z)"
   ]
  },
  {
   "cell_type": "code",
   "execution_count": 23,
   "id": "d0f9c93b",
   "metadata": {},
   "outputs": [
    {
     "data": {
      "text/plain": [
       "1728905703248"
      ]
     },
     "execution_count": 23,
     "metadata": {},
     "output_type": "execute_result"
    }
   ],
   "source": [
    "z = 50\n",
    "id(z)"
   ]
  },
  {
   "cell_type": "code",
   "execution_count": 24,
   "id": "8eb6b11a",
   "metadata": {},
   "outputs": [
    {
     "data": {
      "text/plain": [
       "500"
      ]
     },
     "execution_count": 24,
     "metadata": {},
     "output_type": "execute_result"
    }
   ],
   "source": [
    "a = 100\n",
    "a = 500\n",
    "\n",
    "a"
   ]
  },
  {
   "cell_type": "markdown",
   "id": "e49bc8fe",
   "metadata": {},
   "source": [
    "# Input function"
   ]
  },
  {
   "cell_type": "raw",
   "id": "d191cfa2",
   "metadata": {},
   "source": [
    "is used to take in the user input\n",
    "by deafult the data type of anything taken using input function is string."
   ]
  },
  {
   "cell_type": "code",
   "execution_count": 29,
   "id": "d6b0e6fe",
   "metadata": {},
   "outputs": [
    {
     "name": "stdout",
     "output_type": "stream",
     "text": [
      "888\n"
     ]
    },
    {
     "data": {
      "text/plain": [
       "'888'"
      ]
     },
     "execution_count": 29,
     "metadata": {},
     "output_type": "execute_result"
    }
   ],
   "source": [
    "input_variable = input()\n",
    "input_variable"
   ]
  },
  {
   "cell_type": "code",
   "execution_count": 26,
   "id": "77de8d21",
   "metadata": {},
   "outputs": [
    {
     "name": "stdout",
     "output_type": "stream",
     "text": [
      "enter any number1000\n"
     ]
    },
    {
     "data": {
      "text/plain": [
       "'1000'"
      ]
     },
     "execution_count": 26,
     "metadata": {},
     "output_type": "execute_result"
    }
   ],
   "source": [
    "input_variable = input('enter any number')\n",
    "input_variable"
   ]
  },
  {
   "cell_type": "code",
   "execution_count": 27,
   "id": "ccb5b55e",
   "metadata": {},
   "outputs": [
    {
     "name": "stdout",
     "output_type": "stream",
     "text": [
      "enter any number67\n"
     ]
    },
    {
     "data": {
      "text/plain": [
       "67"
      ]
     },
     "execution_count": 27,
     "metadata": {},
     "output_type": "execute_result"
    }
   ],
   "source": [
    "input_variable = int(input('enter any number'))\n",
    "input_variable"
   ]
  },
  {
   "cell_type": "code",
   "execution_count": null,
   "id": "4ac2726d",
   "metadata": {},
   "outputs": [],
   "source": []
  },
  {
   "cell_type": "code",
   "execution_count": 30,
   "id": "38397c68",
   "metadata": {},
   "outputs": [
    {
     "name": "stdout",
     "output_type": "stream",
     "text": [
      "888\n"
     ]
    },
    {
     "data": {
      "text/plain": [
       "'888'"
      ]
     },
     "execution_count": 30,
     "metadata": {},
     "output_type": "execute_result"
    }
   ],
   "source": [
    "input_variable = input()\n",
    "input_variable"
   ]
  },
  {
   "cell_type": "code",
   "execution_count": 31,
   "id": "88657118",
   "metadata": {},
   "outputs": [
    {
     "name": "stdout",
     "output_type": "stream",
     "text": [
      "111\n"
     ]
    }
   ],
   "source": [
    "input2 = input()"
   ]
  },
  {
   "cell_type": "code",
   "execution_count": 32,
   "id": "55fa5c63",
   "metadata": {},
   "outputs": [
    {
     "data": {
      "text/plain": [
       "'888111'"
      ]
     },
     "execution_count": 32,
     "metadata": {},
     "output_type": "execute_result"
    }
   ],
   "source": [
    "input_variable + input2"
   ]
  },
  {
   "cell_type": "code",
   "execution_count": null,
   "id": "77ecb45d",
   "metadata": {},
   "outputs": [],
   "source": []
  }
 ],
 "metadata": {
  "kernelspec": {
   "display_name": "Python 3 (ipykernel)",
   "language": "python",
   "name": "python3"
  },
  "language_info": {
   "codemirror_mode": {
    "name": "ipython",
    "version": 3
   },
   "file_extension": ".py",
   "mimetype": "text/x-python",
   "name": "python",
   "nbconvert_exporter": "python",
   "pygments_lexer": "ipython3",
   "version": "3.9.12"
  }
 },
 "nbformat": 4,
 "nbformat_minor": 5
}

{
 "cells": [
  {
   "cell_type": "markdown",
   "id": "e3bdc495",
   "metadata": {},
   "source": [
    "# Index()"
   ]
  },
  {
   "cell_type": "raw",
   "id": "37d59bd3",
   "metadata": {},
   "source": [
    "It return the index corresponding to the value of the tuple\n",
    "index(value,start index, end index)"
   ]
  },
  {
   "cell_type": "code",
   "execution_count": 1,
   "id": "3b43c5a5",
   "metadata": {},
   "outputs": [
    {
     "data": {
      "text/plain": [
       "1"
      ]
     },
     "execution_count": 1,
     "metadata": {},
     "output_type": "execute_result"
    }
   ],
   "source": [
    "tup = (2,3,4,5,3,6,8)\n",
    "tup.index(3)"
   ]
  },
  {
   "cell_type": "code",
   "execution_count": 2,
   "id": "28604ce8",
   "metadata": {},
   "outputs": [
    {
     "ename": "ValueError",
     "evalue": "tuple.index(x): x not in tuple",
     "output_type": "error",
     "traceback": [
      "\u001b[1;31m---------------------------------------------------------------------------\u001b[0m",
      "\u001b[1;31mValueError\u001b[0m                                Traceback (most recent call last)",
      "\u001b[1;32m<ipython-input-2-dc12fff2b9fa>\u001b[0m in \u001b[0;36m<module>\u001b[1;34m\u001b[0m\n\u001b[0;32m      1\u001b[0m \u001b[0mtup\u001b[0m \u001b[1;33m=\u001b[0m \u001b[1;33m(\u001b[0m\u001b[1;36m2\u001b[0m\u001b[1;33m,\u001b[0m\u001b[1;36m3\u001b[0m\u001b[1;33m,\u001b[0m\u001b[1;36m4\u001b[0m\u001b[1;33m,\u001b[0m\u001b[1;36m5\u001b[0m\u001b[1;33m,\u001b[0m\u001b[1;36m3\u001b[0m\u001b[1;33m,\u001b[0m\u001b[1;36m6\u001b[0m\u001b[1;33m,\u001b[0m\u001b[1;36m8\u001b[0m\u001b[1;33m)\u001b[0m\u001b[1;33m\u001b[0m\u001b[1;33m\u001b[0m\u001b[0m\n\u001b[1;32m----> 2\u001b[1;33m \u001b[0mtup\u001b[0m\u001b[1;33m.\u001b[0m\u001b[0mindex\u001b[0m\u001b[1;33m(\u001b[0m\u001b[1;36m100\u001b[0m\u001b[1;33m)\u001b[0m\u001b[1;33m\u001b[0m\u001b[1;33m\u001b[0m\u001b[0m\n\u001b[0m",
      "\u001b[1;31mValueError\u001b[0m: tuple.index(x): x not in tuple"
     ]
    }
   ],
   "source": [
    "tup = (2,3,4,5,3,6,8)\n",
    "tup.index(100)"
   ]
  },
  {
   "cell_type": "code",
   "execution_count": 3,
   "id": "20c678c3",
   "metadata": {},
   "outputs": [
    {
     "data": {
      "text/plain": [
       "3"
      ]
     },
     "execution_count": 3,
     "metadata": {},
     "output_type": "execute_result"
    }
   ],
   "source": [
    "tup = (2,3,4,6,5,3,6,8)\n",
    "tup.index(6)"
   ]
  },
  {
   "cell_type": "code",
   "execution_count": 8,
   "id": "7aeb2147",
   "metadata": {},
   "outputs": [
    {
     "data": {
      "text/plain": [
       "6"
      ]
     },
     "execution_count": 8,
     "metadata": {},
     "output_type": "execute_result"
    }
   ],
   "source": [
    "tup = (2,3,4,6,5,3,6,8)\n",
    "tup.index(6,4,8)"
   ]
  },
  {
   "cell_type": "markdown",
   "id": "559f09fa",
   "metadata": {},
   "source": [
    "# count()"
   ]
  },
  {
   "cell_type": "raw",
   "id": "6238792d",
   "metadata": {},
   "source": [
    "count of occurances of the value in tuple"
   ]
  },
  {
   "cell_type": "code",
   "execution_count": 10,
   "id": "07d48f11",
   "metadata": {},
   "outputs": [
    {
     "data": {
      "text/plain": [
       "2"
      ]
     },
     "execution_count": 10,
     "metadata": {},
     "output_type": "execute_result"
    }
   ],
   "source": [
    "tup = (2,3,4,6,5,3,6,8)\n",
    "tup.count(6)"
   ]
  },
  {
   "cell_type": "code",
   "execution_count": 11,
   "id": "052d3292",
   "metadata": {},
   "outputs": [
    {
     "data": {
      "text/plain": [
       "1"
      ]
     },
     "execution_count": 11,
     "metadata": {},
     "output_type": "execute_result"
    }
   ],
   "source": [
    "tup = (2,3,4,6,5,3,6,8)\n",
    "tup.count(2)"
   ]
  },
  {
   "cell_type": "code",
   "execution_count": 12,
   "id": "907b498c",
   "metadata": {},
   "outputs": [
    {
     "data": {
      "text/plain": [
       "0"
      ]
     },
     "execution_count": 12,
     "metadata": {},
     "output_type": "execute_result"
    }
   ],
   "source": [
    "tup = (2,3,4,6,5,3,6,8)\n",
    "tup.count(100)"
   ]
  },
  {
   "cell_type": "markdown",
   "id": "2ecbb5f6",
   "metadata": {},
   "source": [
    "# Aggregate functions"
   ]
  },
  {
   "cell_type": "code",
   "execution_count": 14,
   "id": "24855207",
   "metadata": {},
   "outputs": [
    {
     "data": {
      "text/plain": [
       "(8, 2, 8, 37, 4.625, 4.5, 3)"
      ]
     },
     "execution_count": 14,
     "metadata": {},
     "output_type": "execute_result"
    }
   ],
   "source": [
    "from statistics import mean, median, mode\n",
    "\n",
    "tup = (2,3,4,6,5,3,6,8)\n",
    "\n",
    "len(tup),min(tup),max(tup),sum(tup),mean(tup),median(tup),mode(tup)"
   ]
  },
  {
   "cell_type": "markdown",
   "id": "fda4c51a",
   "metadata": {},
   "source": [
    "# sorted()"
   ]
  },
  {
   "cell_type": "code",
   "execution_count": 15,
   "id": "b092ca44",
   "metadata": {},
   "outputs": [
    {
     "data": {
      "text/plain": [
       "[2, 3, 3, 4, 5, 6, 6, 8]"
      ]
     },
     "execution_count": 15,
     "metadata": {},
     "output_type": "execute_result"
    }
   ],
   "source": [
    "tup = (2,3,4,6,5,3,6,8)\n",
    "\n",
    "sorted(tup)"
   ]
  },
  {
   "cell_type": "code",
   "execution_count": 16,
   "id": "6362b5bf",
   "metadata": {},
   "outputs": [
    {
     "data": {
      "text/plain": [
       "[8, 6, 6, 5, 4, 3, 3, 2]"
      ]
     },
     "execution_count": 16,
     "metadata": {},
     "output_type": "execute_result"
    }
   ],
   "source": [
    "tup = (2,3,4,6,5,3,6,8)\n",
    "\n",
    "sorted(tup,reverse=True)"
   ]
  },
  {
   "cell_type": "markdown",
   "id": "5c62b793",
   "metadata": {},
   "source": [
    "# Reversed()"
   ]
  },
  {
   "cell_type": "code",
   "execution_count": 18,
   "id": "3828cbeb",
   "metadata": {},
   "outputs": [
    {
     "data": {
      "text/plain": [
       "(8, 6, 3, 5, 6, 4, 3, 2)"
      ]
     },
     "execution_count": 18,
     "metadata": {},
     "output_type": "execute_result"
    }
   ],
   "source": [
    "tup = (2,3,4,6,5,3,6,8)\n",
    "\n",
    "tuple(reversed(tup))"
   ]
  },
  {
   "cell_type": "code",
   "execution_count": 35,
   "id": "8d99d220",
   "metadata": {},
   "outputs": [
    {
     "data": {
      "text/plain": [
       "('m', 'e', 'h', 'c', 'a')"
      ]
     },
     "execution_count": 35,
     "metadata": {},
     "output_type": "execute_result"
    }
   ],
   "source": [
    "tup = ('a','c','h','e','m')\n",
    "\n",
    "tuple(reversed(tup))"
   ]
  },
  {
   "cell_type": "code",
   "execution_count": 36,
   "id": "c6e7b854",
   "metadata": {},
   "outputs": [
    {
     "data": {
      "text/plain": [
       "('h', 'e', 'l', 'l', 'o')"
      ]
     },
     "execution_count": 36,
     "metadata": {},
     "output_type": "execute_result"
    }
   ],
   "source": [
    "tuple('hello')"
   ]
  },
  {
   "cell_type": "markdown",
   "id": "9a16e49f",
   "metadata": {},
   "source": [
    "# copy()"
   ]
  },
  {
   "cell_type": "code",
   "execution_count": 19,
   "id": "ddc56f6a",
   "metadata": {},
   "outputs": [
    {
     "data": {
      "text/plain": [
       "(2, 3, 4, 6, 5, 3, 6, 8)"
      ]
     },
     "execution_count": 19,
     "metadata": {},
     "output_type": "execute_result"
    }
   ],
   "source": [
    "from copy import copy, deepcopy\n",
    "\n",
    "tup = (2,3,4,6,5,3,6,8)\n",
    "tupple_new = copy(tup)\n",
    "tupple_new"
   ]
  },
  {
   "cell_type": "code",
   "execution_count": 20,
   "id": "7e7be2a3",
   "metadata": {},
   "outputs": [
    {
     "data": {
      "text/plain": [
       "(2, 3, 4, 6, 5, 3, 6, 8)"
      ]
     },
     "execution_count": 20,
     "metadata": {},
     "output_type": "execute_result"
    }
   ],
   "source": [
    "tup = (2,3,4,6,5,3,6,8)\n",
    "tupple_new = deepcopy(tup)\n",
    "tupple_new"
   ]
  },
  {
   "cell_type": "markdown",
   "id": "ec60d491",
   "metadata": {},
   "source": [
    "## difference b/w copy & deepcopy"
   ]
  },
  {
   "cell_type": "code",
   "execution_count": 25,
   "id": "db68e6e3",
   "metadata": {},
   "outputs": [],
   "source": [
    "from copy import copy, deepcopy"
   ]
  },
  {
   "cell_type": "markdown",
   "id": "bfaac1b8",
   "metadata": {},
   "source": [
    "### Shallow copy()"
   ]
  },
  {
   "cell_type": "code",
   "execution_count": 21,
   "id": "65e84fd2",
   "metadata": {},
   "outputs": [
    {
     "name": "stdout",
     "output_type": "stream",
     "text": [
      "[2, 3, 4, 6, 5, 3, 6, 8] [100, 3, 4, 6, 5, 3, 6, 8]\n"
     ]
    }
   ],
   "source": [
    "l1 = [2,3,4,6,5,3,6,8]\n",
    "l2 = copy(l1)\n",
    "l2[0]=100\n",
    "\n",
    "print(l1,l2)"
   ]
  },
  {
   "cell_type": "code",
   "execution_count": 22,
   "id": "bbeafb9e",
   "metadata": {},
   "outputs": [
    {
     "name": "stdout",
     "output_type": "stream",
     "text": [
      "[2, [100, 4, 6], 5, 3, 6, 8] [2, [100, 4, 6], 5, 3, 6, 8]\n"
     ]
    }
   ],
   "source": [
    "l1 = [2,[3,4,6],5,3,6,8]\n",
    "l2 = copy(l1)\n",
    "l2[1][0]=100\n",
    "\n",
    "print(l1,l2)"
   ]
  },
  {
   "cell_type": "code",
   "execution_count": 26,
   "id": "f4d71f57",
   "metadata": {},
   "outputs": [
    {
     "name": "stdout",
     "output_type": "stream",
     "text": [
      "[2, [100, 4, 6], 5, 3, 6, 8] [2, [100, 4, 6], 5, 3, 6, 8]\n"
     ]
    }
   ],
   "source": [
    "l1 = [2,[3,4,6],5,3,6,8]\n",
    "l2 = l1.copy()\n",
    "l2[1][0]=100\n",
    "\n",
    "print(l1,l2)"
   ]
  },
  {
   "cell_type": "markdown",
   "id": "807a1c68",
   "metadata": {},
   "source": [
    "### deepcopy()"
   ]
  },
  {
   "cell_type": "code",
   "execution_count": 23,
   "id": "d058e963",
   "metadata": {},
   "outputs": [
    {
     "name": "stdout",
     "output_type": "stream",
     "text": [
      "[2, 3, 4, 6, 5, 3, 6, 8] [100, 3, 4, 6, 5, 3, 6, 8]\n"
     ]
    }
   ],
   "source": [
    "l1 = [2,3,4,6,5,3,6,8]\n",
    "l2 = deepcopy(l1)\n",
    "l2[0]=100\n",
    "\n",
    "print(l1,l2)"
   ]
  },
  {
   "cell_type": "code",
   "execution_count": 24,
   "id": "fc322c4b",
   "metadata": {},
   "outputs": [
    {
     "name": "stdout",
     "output_type": "stream",
     "text": [
      "[2, [3, 4, 6], 5, 3, 6, 8] [2, [100, 4, 6], 5, 3, 6, 8]\n"
     ]
    }
   ],
   "source": [
    "l1 = [2,[3,4,6],5,3,6,8]\n",
    "l2 = deepcopy(l1)\n",
    "l2[1][0]=100\n",
    "\n",
    "print(l1,l2)"
   ]
  },
  {
   "cell_type": "markdown",
   "id": "21f1bdcb",
   "metadata": {},
   "source": [
    "## upacking & unpacking of items"
   ]
  },
  {
   "cell_type": "code",
   "execution_count": 27,
   "id": "8770b33f",
   "metadata": {},
   "outputs": [
    {
     "data": {
      "text/plain": [
       "(1, 2, 3, 4)"
      ]
     },
     "execution_count": 27,
     "metadata": {},
     "output_type": "execute_result"
    }
   ],
   "source": [
    "# example of packing\n",
    "a = 1,2,3,4            # packing of many items into single variable\n",
    "a"
   ]
  },
  {
   "cell_type": "code",
   "execution_count": 28,
   "id": "c31b7941",
   "metadata": {},
   "outputs": [
    {
     "data": {
      "text/plain": [
       "1"
      ]
     },
     "execution_count": 28,
     "metadata": {},
     "output_type": "execute_result"
    }
   ],
   "source": [
    "# example of unpacking\n",
    "a,b,c,d = 1,2,3,4            # packing of many items into different variable\n",
    "a"
   ]
  },
  {
   "cell_type": "code",
   "execution_count": 29,
   "id": "ecc878eb",
   "metadata": {},
   "outputs": [
    {
     "data": {
      "text/plain": [
       "[2, 3]"
      ]
     },
     "execution_count": 29,
     "metadata": {},
     "output_type": "execute_result"
    }
   ],
   "source": [
    "a,*b,c = 1,2,3,4            # packing of many items into different variable\n",
    "b"
   ]
  },
  {
   "cell_type": "markdown",
   "id": "1b3f0694",
   "metadata": {},
   "source": [
    "# Sorts"
   ]
  },
  {
   "cell_type": "code",
   "execution_count": 31,
   "id": "0e4b0116",
   "metadata": {},
   "outputs": [
    {
     "data": {
      "text/plain": [
       "[2, 3, 3, 4, 5, 6, 6, 8]"
      ]
     },
     "execution_count": 31,
     "metadata": {},
     "output_type": "execute_result"
    }
   ],
   "source": [
    "l1 = [2,3,4,6,5,3,6,8]\n",
    "\n",
    "l1.sort()\n",
    "l1"
   ]
  },
  {
   "cell_type": "code",
   "execution_count": 33,
   "id": "b88256ba",
   "metadata": {},
   "outputs": [
    {
     "data": {
      "text/plain": [
       "[2, 3, 3, 4, 5, 6, 6, 8]"
      ]
     },
     "execution_count": 33,
     "metadata": {},
     "output_type": "execute_result"
    }
   ],
   "source": [
    "# sorting in ascending order\n",
    "\n",
    "l1 = [2,3,4,6,5,3,6,8]\n",
    "\n",
    "for i in range(len(l1)):\n",
    "    for j in range(i+1,len(l1)):\n",
    "        if l1[j]<l1[i]:\n",
    "            l1[i],l1[j]=l1[j],l1[i]         # swapping of items\n",
    "            \n",
    "l1"
   ]
  },
  {
   "cell_type": "code",
   "execution_count": 34,
   "id": "4f26dc2a",
   "metadata": {},
   "outputs": [
    {
     "data": {
      "text/plain": [
       "[8, 6, 6, 5, 4, 3, 3, 2]"
      ]
     },
     "execution_count": 34,
     "metadata": {},
     "output_type": "execute_result"
    }
   ],
   "source": [
    "# sorting in descending order\n",
    "\n",
    "l1 = [2,3,4,6,5,3,6,8]\n",
    "\n",
    "for i in range(len(l1)):\n",
    "    for j in range(i+1,len(l1)):\n",
    "        if l1[j]>l1[i]:\n",
    "            l1[i],l1[j]=l1[j],l1[i]\n",
    "            \n",
    "l1"
   ]
  },
  {
   "cell_type": "raw",
   "id": "aaba3e98",
   "metadata": {},
   "source": [
    "## Home work\n",
    "\n",
    "generate codes for sorting:\n",
    "\n",
    "1. insertion sort\n",
    "2. bubble sort\n",
    "3. selection sort\n",
    "\n",
    "4. merge sort\n",
    "5. quick sort"
   ]
  },
  {
   "cell_type": "code",
   "execution_count": null,
   "id": "9187124b",
   "metadata": {},
   "outputs": [],
   "source": [
    "Youtube:\n",
    "    statsquests\n",
    "    Ai engineering\n",
    "    Krish Naik\n",
    "    codewithharry\n",
    "    simplilearn\n",
    "    Telusko\n",
    "\n",
    "       \n",
    "Web links:\n",
    "    1. errors:\n",
    "        stackoverflow\n",
    "        stackexchange\n",
    "        stackabuse\n",
    "        CodeProject\n",
    "        gitcode\n",
    "        \n",
    "    2. Study:\n",
    "        \n",
    "        javatpoint\n",
    "        geekforgeeks\n",
    "        towardsdatascience\n",
    "        w3schools\n",
    "        simplilearn\n",
    "        analyticsvidhya\n",
    "        Intellipaat"
   ]
  },
  {
   "cell_type": "code",
   "execution_count": 39,
   "id": "1fd208e2",
   "metadata": {},
   "outputs": [
    {
     "name": "stdout",
     "output_type": "stream",
     "text": [
      "Enter string: it is a wonderful day\n",
      "Enter word u wants to remove: beutiful\n",
      "beutiful :Not in string\n"
     ]
    }
   ],
   "source": [
    "s=input(\"Enter string: \")\n",
    "word=input(\"Enter word u wants to remove: \")\n",
    "\n",
    "print(f'{word} :Not in string') if word not in s else print(s.replace(word, ''))\n",
    "\n",
    "#while using this code o/p prints multiple times. what to do?"
   ]
  },
  {
   "cell_type": "code",
   "execution_count": null,
   "id": "0af6064b",
   "metadata": {},
   "outputs": [],
   "source": []
  }
 ],
 "metadata": {
  "kernelspec": {
   "display_name": "Python 3 (ipykernel)",
   "language": "python",
   "name": "python3"
  },
  "language_info": {
   "codemirror_mode": {
    "name": "ipython",
    "version": 3
   },
   "file_extension": ".py",
   "mimetype": "text/x-python",
   "name": "python",
   "nbconvert_exporter": "python",
   "pygments_lexer": "ipython3",
   "version": "3.9.12"
  },
  "toc": {
   "base_numbering": 1,
   "nav_menu": {},
   "number_sections": true,
   "sideBar": true,
   "skip_h1_title": false,
   "title_cell": "Table of Contents",
   "title_sidebar": "Contents",
   "toc_cell": false,
   "toc_position": {},
   "toc_section_display": true,
   "toc_window_display": false
  },
  "varInspector": {
   "cols": {
    "lenName": 16,
    "lenType": 16,
    "lenVar": 40
   },
   "kernels_config": {
    "python": {
     "delete_cmd_postfix": "",
     "delete_cmd_prefix": "del ",
     "library": "var_list.py",
     "varRefreshCmd": "print(var_dic_list())"
    },
    "r": {
     "delete_cmd_postfix": ") ",
     "delete_cmd_prefix": "rm(",
     "library": "var_list.r",
     "varRefreshCmd": "cat(var_dic_list()) "
    }
   },
   "types_to_exclude": [
    "module",
    "function",
    "builtin_function_or_method",
    "instance",
    "_Feature"
   ],
   "window_display": false
  }
 },
 "nbformat": 4,
 "nbformat_minor": 5
}

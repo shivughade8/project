{
 "cells": [
  {
   "cell_type": "raw",
   "id": "65155b38",
   "metadata": {},
   "source": [
    "string : immutable, ordered, duplicate allowed   : \" \"\n",
    "list   : mutable, ordered, duplicates allowed    : []\n",
    "tuple  : immutable, ordered, duplicates allowed  : ()\n",
    "set    : mutable, unordered, duplicates not allowed: set(), {1,}\n",
    "frozen set: immutable, unordered, duplicates not allowed  frozenset()\n",
    "    \n",
    "dict   : mutable, \n",
    "        ordered  >= Python 3.6 version\n",
    "        unordered < Python 3.6 version\n",
    "        keys can not be duplicate    >> Allows Immutable data types (int, float,complex,string, tuple)\n",
    "        Values can be duplicate      >> Allows all data types         \n",
    "                                                  : {} , {key1:value,key2:value}"
   ]
  },
  {
   "cell_type": "raw",
   "id": "5cc7a7c8",
   "metadata": {},
   "source": [
    "dict consist of key value pair & every key value pair is comma separated.\n",
    "keys are case sensitive\n",
    "keys & values are separated by colon (:)"
   ]
  },
  {
   "cell_type": "code",
   "execution_count": 2,
   "id": "f37aeb28",
   "metadata": {},
   "outputs": [
    {
     "data": {
      "text/plain": [
       "{}"
      ]
     },
     "execution_count": 2,
     "metadata": {},
     "output_type": "execute_result"
    }
   ],
   "source": [
    "dict1 = {}\n",
    "dict1"
   ]
  },
  {
   "cell_type": "code",
   "execution_count": 3,
   "id": "2b5bf15b",
   "metadata": {},
   "outputs": [
    {
     "data": {
      "text/plain": [
       "dict"
      ]
     },
     "execution_count": 3,
     "metadata": {},
     "output_type": "execute_result"
    }
   ],
   "source": [
    "type(dict1)"
   ]
  },
  {
   "cell_type": "code",
   "execution_count": 4,
   "id": "1b793071",
   "metadata": {},
   "outputs": [
    {
     "data": {
      "text/plain": [
       "({'Name': 'Sachin'}, 1, dict)"
      ]
     },
     "execution_count": 4,
     "metadata": {},
     "output_type": "execute_result"
    }
   ],
   "source": [
    "d1 = {'Name':'Sachin'}\n",
    "\n",
    "d1,len(d1),type(d1)"
   ]
  },
  {
   "cell_type": "code",
   "execution_count": 5,
   "id": "778ad3bd",
   "metadata": {},
   "outputs": [
    {
     "ename": "SyntaxError",
     "evalue": "invalid syntax (<ipython-input-5-0da108c77365>, line 1)",
     "output_type": "error",
     "traceback": [
      "\u001b[1;36m  File \u001b[1;32m\"<ipython-input-5-0da108c77365>\"\u001b[1;36m, line \u001b[1;32m1\u001b[0m\n\u001b[1;33m    d1 = {'Name': }\u001b[0m\n\u001b[1;37m                  ^\u001b[0m\n\u001b[1;31mSyntaxError\u001b[0m\u001b[1;31m:\u001b[0m invalid syntax\n"
     ]
    }
   ],
   "source": [
    "d1 = {'Name': }\n",
    "\n",
    "d1,len(d1),type(d1)"
   ]
  },
  {
   "cell_type": "code",
   "execution_count": 7,
   "id": "912c36e0",
   "metadata": {},
   "outputs": [
    {
     "data": {
      "text/plain": [
       "{'Name': 'Sachin',\n",
       " 'Age': 45,\n",
       " 'Jersey no': 10,\n",
       " 'High score': 200,\n",
       " 100: [52, 49],\n",
       " 50: [98, 100]}"
      ]
     },
     "execution_count": 7,
     "metadata": {},
     "output_type": "execute_result"
    }
   ],
   "source": [
    "players_data = {'Name':'Sachin','Age':45,'Jersey no':10,'High score':200,100:[52,49],50:[98,100]}\n",
    "\n",
    "players_data"
   ]
  },
  {
   "cell_type": "code",
   "execution_count": 8,
   "id": "cb6af197",
   "metadata": {},
   "outputs": [
    {
     "data": {
      "text/plain": [
       "6"
      ]
     },
     "execution_count": 8,
     "metadata": {},
     "output_type": "execute_result"
    }
   ],
   "source": [
    "len(players_data)"
   ]
  },
  {
   "cell_type": "code",
   "execution_count": 9,
   "id": "970c807f",
   "metadata": {},
   "outputs": [
    {
     "data": {
      "text/html": [
       "<div>\n",
       "<style scoped>\n",
       "    .dataframe tbody tr th:only-of-type {\n",
       "        vertical-align: middle;\n",
       "    }\n",
       "\n",
       "    .dataframe tbody tr th {\n",
       "        vertical-align: top;\n",
       "    }\n",
       "\n",
       "    .dataframe thead th {\n",
       "        text-align: right;\n",
       "    }\n",
       "</style>\n",
       "<table border=\"1\" class=\"dataframe\">\n",
       "  <thead>\n",
       "    <tr style=\"text-align: right;\">\n",
       "      <th></th>\n",
       "      <th>Name</th>\n",
       "      <th>Age</th>\n",
       "      <th>Jersey no</th>\n",
       "      <th>High score</th>\n",
       "      <th>100</th>\n",
       "      <th>50</th>\n",
       "    </tr>\n",
       "  </thead>\n",
       "  <tbody>\n",
       "    <tr>\n",
       "      <th>0</th>\n",
       "      <td>Sachin</td>\n",
       "      <td>45</td>\n",
       "      <td>10</td>\n",
       "      <td>200</td>\n",
       "      <td>52</td>\n",
       "      <td>98</td>\n",
       "    </tr>\n",
       "    <tr>\n",
       "      <th>1</th>\n",
       "      <td>Sachin</td>\n",
       "      <td>45</td>\n",
       "      <td>10</td>\n",
       "      <td>200</td>\n",
       "      <td>49</td>\n",
       "      <td>100</td>\n",
       "    </tr>\n",
       "  </tbody>\n",
       "</table>\n",
       "</div>"
      ],
      "text/plain": [
       "     Name  Age  Jersey no  High score  100   50\n",
       "0  Sachin   45         10         200   52   98\n",
       "1  Sachin   45         10         200   49  100"
      ]
     },
     "execution_count": 9,
     "metadata": {},
     "output_type": "execute_result"
    }
   ],
   "source": [
    "import pandas as pd\n",
    "\n",
    "df = pd.DataFrame.from_dict(players_data)\n",
    "df"
   ]
  },
  {
   "cell_type": "code",
   "execution_count": 14,
   "id": "6ddb8034",
   "metadata": {},
   "outputs": [
    {
     "data": {
      "text/html": [
       "<div>\n",
       "<style scoped>\n",
       "    .dataframe tbody tr th:only-of-type {\n",
       "        vertical-align: middle;\n",
       "    }\n",
       "\n",
       "    .dataframe tbody tr th {\n",
       "        vertical-align: top;\n",
       "    }\n",
       "\n",
       "    .dataframe thead th {\n",
       "        text-align: right;\n",
       "    }\n",
       "</style>\n",
       "<table border=\"1\" class=\"dataframe\">\n",
       "  <thead>\n",
       "    <tr style=\"text-align: right;\">\n",
       "      <th></th>\n",
       "      <th>Name</th>\n",
       "      <th>Age</th>\n",
       "      <th>Jersey no</th>\n",
       "      <th>High score</th>\n",
       "      <th>100</th>\n",
       "      <th>50</th>\n",
       "    </tr>\n",
       "  </thead>\n",
       "  <tbody>\n",
       "    <tr>\n",
       "      <th>0</th>\n",
       "      <td>Sachin</td>\n",
       "      <td>45</td>\n",
       "      <td>10</td>\n",
       "      <td>200</td>\n",
       "      <td>[52, 49]</td>\n",
       "      <td>[98, 100]</td>\n",
       "    </tr>\n",
       "  </tbody>\n",
       "</table>\n",
       "</div>"
      ],
      "text/plain": [
       "     Name Age Jersey no High score       100         50\n",
       "0  Sachin  45        10        200  [52, 49]  [98, 100]"
      ]
     },
     "execution_count": 14,
     "metadata": {},
     "output_type": "execute_result"
    }
   ],
   "source": [
    "df = pd.DataFrame.from_dict(players_data,orient='index')\n",
    "df = df.T\n",
    "df"
   ]
  },
  {
   "cell_type": "code",
   "execution_count": 15,
   "id": "4ffc4efb",
   "metadata": {},
   "outputs": [],
   "source": [
    "df.to_excel('player.xlsx')"
   ]
  },
  {
   "cell_type": "code",
   "execution_count": 16,
   "id": "411ea1ec",
   "metadata": {},
   "outputs": [
    {
     "data": {
      "text/plain": [
       "{1: {'Name': 'Sachin', 'Age': 45, 'Score': 200},\n",
       " 2: {'Name': 'Sehvag', 'Age': 44, 'Score': 219}}"
      ]
     },
     "execution_count": 16,
     "metadata": {},
     "output_type": "execute_result"
    }
   ],
   "source": [
    "players= {1:{'Name':'Sachin','Age':45,'Score':200},\n",
    "         2:{'Name':'Sehvag','Age':44,'Score':219}}\n",
    "\n",
    "players"
   ]
  },
  {
   "cell_type": "code",
   "execution_count": 20,
   "id": "43ecd845",
   "metadata": {},
   "outputs": [],
   "source": [
    "df = pd.DataFrame(players)\n",
    "(df.T).to_csv('cricket_players.csv')"
   ]
  },
  {
   "cell_type": "markdown",
   "id": "e798879e",
   "metadata": {},
   "source": [
    "# Accessing the items in dictionary"
   ]
  },
  {
   "cell_type": "markdown",
   "id": "caa29ae8",
   "metadata": {},
   "source": [
    "## accessing through keys"
   ]
  },
  {
   "cell_type": "code",
   "execution_count": 22,
   "id": "c9e9472b",
   "metadata": {},
   "outputs": [
    {
     "data": {
      "text/plain": [
       "{'Name': 'Kunal',\n",
       " 'Salary': 80000,\n",
       " 'Designation': 'Data Scientist',\n",
       " 'Age': 30,\n",
       " 'Emp_ID': 10011}"
      ]
     },
     "execution_count": 22,
     "metadata": {},
     "output_type": "execute_result"
    }
   ],
   "source": [
    "employees = {'Name':'Kunal','Salary':80000,'Designation':'Data Scientist','Age':30,'Emp_ID':10011}\n",
    "employees"
   ]
  },
  {
   "cell_type": "code",
   "execution_count": 23,
   "id": "095d445d",
   "metadata": {},
   "outputs": [
    {
     "data": {
      "text/plain": [
       "'Kunal'"
      ]
     },
     "execution_count": 23,
     "metadata": {},
     "output_type": "execute_result"
    }
   ],
   "source": [
    "employees['Name']"
   ]
  },
  {
   "cell_type": "code",
   "execution_count": 24,
   "id": "e485fa73",
   "metadata": {},
   "outputs": [
    {
     "data": {
      "text/plain": [
       "80000"
      ]
     },
     "execution_count": 24,
     "metadata": {},
     "output_type": "execute_result"
    }
   ],
   "source": [
    "employees['Salary']"
   ]
  },
  {
   "cell_type": "code",
   "execution_count": 25,
   "id": "f0f8923b",
   "metadata": {},
   "outputs": [
    {
     "ename": "KeyError",
     "evalue": "'salary'",
     "output_type": "error",
     "traceback": [
      "\u001b[1;31m---------------------------------------------------------------------------\u001b[0m",
      "\u001b[1;31mKeyError\u001b[0m                                  Traceback (most recent call last)",
      "\u001b[1;32m<ipython-input-25-5a291bc761a6>\u001b[0m in \u001b[0;36m<module>\u001b[1;34m\u001b[0m\n\u001b[1;32m----> 1\u001b[1;33m \u001b[0memployees\u001b[0m\u001b[1;33m[\u001b[0m\u001b[1;34m'salary'\u001b[0m\u001b[1;33m]\u001b[0m\u001b[1;33m\u001b[0m\u001b[1;33m\u001b[0m\u001b[0m\n\u001b[0m",
      "\u001b[1;31mKeyError\u001b[0m: 'salary'"
     ]
    }
   ],
   "source": [
    "employees['salary']        # keys are case sensitive"
   ]
  },
  {
   "cell_type": "code",
   "execution_count": 26,
   "id": "14762012",
   "metadata": {},
   "outputs": [
    {
     "ename": "KeyError",
     "evalue": "'experience'",
     "output_type": "error",
     "traceback": [
      "\u001b[1;31m---------------------------------------------------------------------------\u001b[0m",
      "\u001b[1;31mKeyError\u001b[0m                                  Traceback (most recent call last)",
      "\u001b[1;32m<ipython-input-26-d0bc486f103c>\u001b[0m in \u001b[0;36m<module>\u001b[1;34m\u001b[0m\n\u001b[1;32m----> 1\u001b[1;33m \u001b[0memployees\u001b[0m\u001b[1;33m[\u001b[0m\u001b[1;34m'experience'\u001b[0m\u001b[1;33m]\u001b[0m\u001b[1;33m\u001b[0m\u001b[1;33m\u001b[0m\u001b[0m\n\u001b[0m",
      "\u001b[1;31mKeyError\u001b[0m: 'experience'"
     ]
    }
   ],
   "source": [
    "employees['experience'] "
   ]
  },
  {
   "cell_type": "markdown",
   "id": "090e8c07",
   "metadata": {},
   "source": [
    "## get function"
   ]
  },
  {
   "cell_type": "code",
   "execution_count": 27,
   "id": "d8f82b1c",
   "metadata": {},
   "outputs": [
    {
     "data": {
      "text/plain": [
       "'Kunal'"
      ]
     },
     "execution_count": 27,
     "metadata": {},
     "output_type": "execute_result"
    }
   ],
   "source": [
    "employees.get('Name')"
   ]
  },
  {
   "cell_type": "code",
   "execution_count": 28,
   "id": "c2de70fc",
   "metadata": {},
   "outputs": [
    {
     "data": {
      "text/plain": [
       "80000"
      ]
     },
     "execution_count": 28,
     "metadata": {},
     "output_type": "execute_result"
    }
   ],
   "source": [
    "employees.get('Salary')"
   ]
  },
  {
   "cell_type": "code",
   "execution_count": 29,
   "id": "a1e41615",
   "metadata": {},
   "outputs": [],
   "source": [
    "employees.get('Experience')    # if the key is noot present then also it doesnt not throw an error"
   ]
  },
  {
   "cell_type": "markdown",
   "id": "e265864d",
   "metadata": {},
   "source": [
    "## using loop"
   ]
  },
  {
   "cell_type": "code",
   "execution_count": 32,
   "id": "692e31b4",
   "metadata": {},
   "outputs": [
    {
     "name": "stdout",
     "output_type": "stream",
     "text": [
      "Name\n",
      "Salary\n",
      "Designation\n",
      "Age\n",
      "Emp_ID\n"
     ]
    }
   ],
   "source": [
    "for key in employees:\n",
    "    print(key)"
   ]
  },
  {
   "cell_type": "code",
   "execution_count": 34,
   "id": "234b3746",
   "metadata": {},
   "outputs": [
    {
     "name": "stdout",
     "output_type": "stream",
     "text": [
      "Name : Kunal\n",
      "Salary : 80000\n",
      "Designation : Data Scientist\n",
      "Age : 30\n",
      "Emp_ID : 10011\n"
     ]
    }
   ],
   "source": [
    "for i in employees:\n",
    "    print(i,':',employees[i])"
   ]
  },
  {
   "cell_type": "markdown",
   "id": "e3006428",
   "metadata": {},
   "source": [
    "## .keys()"
   ]
  },
  {
   "cell_type": "raw",
   "id": "92305d52",
   "metadata": {},
   "source": [
    "to enlist all the keys of the dict"
   ]
  },
  {
   "cell_type": "code",
   "execution_count": 35,
   "id": "e062bb7c",
   "metadata": {},
   "outputs": [
    {
     "data": {
      "text/plain": [
       "dict_keys(['Name', 'Salary', 'Designation', 'Age', 'Emp_ID'])"
      ]
     },
     "execution_count": 35,
     "metadata": {},
     "output_type": "execute_result"
    }
   ],
   "source": [
    "employees.keys()"
   ]
  },
  {
   "cell_type": "code",
   "execution_count": 38,
   "id": "05710469",
   "metadata": {},
   "outputs": [
    {
     "data": {
      "text/plain": [
       "['Name', 'Salary', 'Designation', 'Age', 'Emp_ID']"
      ]
     },
     "execution_count": 38,
     "metadata": {},
     "output_type": "execute_result"
    }
   ],
   "source": [
    "list(employees.keys())"
   ]
  },
  {
   "cell_type": "code",
   "execution_count": 39,
   "id": "2e215946",
   "metadata": {},
   "outputs": [
    {
     "name": "stdout",
     "output_type": "stream",
     "text": [
      "Name\n",
      "Salary\n",
      "Designation\n",
      "Age\n",
      "Emp_ID\n"
     ]
    }
   ],
   "source": [
    "for key in employees.keys():\n",
    "    print(key)"
   ]
  },
  {
   "cell_type": "markdown",
   "id": "46a5af8c",
   "metadata": {},
   "source": [
    "## .values()"
   ]
  },
  {
   "cell_type": "raw",
   "id": "852258e9",
   "metadata": {},
   "source": [
    "to enlist all the values of the dict"
   ]
  },
  {
   "cell_type": "code",
   "execution_count": 40,
   "id": "3058e156",
   "metadata": {},
   "outputs": [
    {
     "data": {
      "text/plain": [
       "dict_values(['Kunal', 80000, 'Data Scientist', 30, 10011])"
      ]
     },
     "execution_count": 40,
     "metadata": {},
     "output_type": "execute_result"
    }
   ],
   "source": [
    "employees.values()"
   ]
  },
  {
   "cell_type": "code",
   "execution_count": 41,
   "id": "22e55666",
   "metadata": {},
   "outputs": [
    {
     "name": "stdout",
     "output_type": "stream",
     "text": [
      "Kunal\n",
      "80000\n",
      "Data Scientist\n",
      "30\n",
      "10011\n"
     ]
    }
   ],
   "source": [
    "for value in employees.values():\n",
    "    print(value)"
   ]
  },
  {
   "cell_type": "markdown",
   "id": "fa9d3933",
   "metadata": {},
   "source": [
    "## .items()"
   ]
  },
  {
   "cell_type": "raw",
   "id": "3b85354b",
   "metadata": {},
   "source": [
    "to enlist all the items (key,value pair) of the dict"
   ]
  },
  {
   "cell_type": "code",
   "execution_count": 42,
   "id": "dd27208a",
   "metadata": {},
   "outputs": [
    {
     "data": {
      "text/plain": [
       "dict_items([('Name', 'Kunal'), ('Salary', 80000), ('Designation', 'Data Scientist'), ('Age', 30), ('Emp_ID', 10011)])"
      ]
     },
     "execution_count": 42,
     "metadata": {},
     "output_type": "execute_result"
    }
   ],
   "source": [
    "employees.items()"
   ]
  },
  {
   "cell_type": "code",
   "execution_count": 45,
   "id": "ec0ad7ea",
   "metadata": {},
   "outputs": [
    {
     "data": {
      "text/plain": [
       "[('Name', 'Kunal'),\n",
       " ('Salary', 80000),\n",
       " ('Designation', 'Data Scientist'),\n",
       " ('Age', 30),\n",
       " ('Emp_ID', 10011)]"
      ]
     },
     "execution_count": 45,
     "metadata": {},
     "output_type": "execute_result"
    }
   ],
   "source": [
    "list(employees.items())"
   ]
  },
  {
   "cell_type": "code",
   "execution_count": 43,
   "id": "1672f0ba",
   "metadata": {},
   "outputs": [
    {
     "name": "stdout",
     "output_type": "stream",
     "text": [
      "('Name', 'Kunal')\n",
      "('Salary', 80000)\n",
      "('Designation', 'Data Scientist')\n",
      "('Age', 30)\n",
      "('Emp_ID', 10011)\n"
     ]
    }
   ],
   "source": [
    "for item in employees.items():\n",
    "    print(item)"
   ]
  },
  {
   "cell_type": "code",
   "execution_count": 44,
   "id": "1016cb21",
   "metadata": {},
   "outputs": [
    {
     "name": "stdout",
     "output_type": "stream",
     "text": [
      "Name >> Kunal\n",
      "Salary >> 80000\n",
      "Designation >> Data Scientist\n",
      "Age >> 30\n",
      "Emp_ID >> 10011\n"
     ]
    }
   ],
   "source": [
    "for key,value in employees.items():\n",
    "    print(key,'>>',value)"
   ]
  },
  {
   "cell_type": "code",
   "execution_count": null,
   "id": "83e60726",
   "metadata": {},
   "outputs": [],
   "source": []
  }
 ],
 "metadata": {
  "kernelspec": {
   "display_name": "Python 3 (ipykernel)",
   "language": "python",
   "name": "python3"
  },
  "language_info": {
   "codemirror_mode": {
    "name": "ipython",
    "version": 3
   },
   "file_extension": ".py",
   "mimetype": "text/x-python",
   "name": "python",
   "nbconvert_exporter": "python",
   "pygments_lexer": "ipython3",
   "version": "3.10.6"
  },
  "toc": {
   "base_numbering": 1,
   "nav_menu": {},
   "number_sections": true,
   "sideBar": true,
   "skip_h1_title": false,
   "title_cell": "Table of Contents",
   "title_sidebar": "Contents",
   "toc_cell": false,
   "toc_position": {},
   "toc_section_display": true,
   "toc_window_display": false
  },
  "varInspector": {
   "cols": {
    "lenName": 16,
    "lenType": 16,
    "lenVar": 40
   },
   "kernels_config": {
    "python": {
     "delete_cmd_postfix": "",
     "delete_cmd_prefix": "del ",
     "library": "var_list.py",
     "varRefreshCmd": "print(var_dic_list())"
    },
    "r": {
     "delete_cmd_postfix": ") ",
     "delete_cmd_prefix": "rm(",
     "library": "var_list.r",
     "varRefreshCmd": "cat(var_dic_list()) "
    }
   },
   "types_to_exclude": [
    "module",
    "function",
    "builtin_function_or_method",
    "instance",
    "_Feature"
   ],
   "window_display": false
  }
 },
 "nbformat": 4,
 "nbformat_minor": 5
}
